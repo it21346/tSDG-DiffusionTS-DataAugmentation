{
 "cells": [
  {
   "cell_type": "code",
   "execution_count": null,
   "id": "449e510c",
   "metadata": {},
   "outputs": [],
   "source": [
    "import pandas as pd\n",
    "\n",
    "df = pd.read_csv('energy_data.csv')\n",
    "# split the dataframe into 70-30 train-test sets\n",
    "train_size = int(0.7 * len(df))\n",
    "train_df = df[:train_size]\n",
    "test_df = df[train_size:]\n",
    "# save to csv the train and test sets\n",
    "train_df.to_csv('energy_data_train.csv', index=False)\n",
    "test_df.to_csv('energy_data_test.csv', index=False)"
   ]
  },
  {
   "cell_type": "code",
   "execution_count": 2,
   "id": "a254be02",
   "metadata": {},
   "outputs": [],
   "source": [
    "import pandas as pd\n",
    "\n",
    "df = pd.read_csv('energy_data_.csv')\n",
    "column_to_move = 'Energy'\n",
    "df = df[[col for col in df.columns if col != column_to_move] + [column_to_move]]\n",
    "df.to_csv('energy_data_.csv', index=False)"
   ]
  }
 ],
 "metadata": {
  "kernelspec": {
   "display_name": "Diffusion",
   "language": "python",
   "name": "python3"
  },
  "language_info": {
   "codemirror_mode": {
    "name": "ipython",
    "version": 3
   },
   "file_extension": ".py",
   "mimetype": "text/x-python",
   "name": "python",
   "nbconvert_exporter": "python",
   "pygments_lexer": "ipython3",
   "version": "3.9.23"
  }
 },
 "nbformat": 4,
 "nbformat_minor": 5
}
