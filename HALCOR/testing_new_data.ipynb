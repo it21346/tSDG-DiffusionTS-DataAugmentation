{
 "cells": [
  {
   "cell_type": "code",
   "execution_count": 1,
   "metadata": {},
   "outputs": [],
   "source": [
    "import pandas as pd\n",
    "import numpy as np\n",
    "import os\n",
    "from datetime import datetime\n",
    "import glob\n",
    "import matplotlib.pyplot as plt"
   ]
  },
  {
   "cell_type": "code",
   "execution_count": 3,
   "metadata": {},
   "outputs": [],
   "source": [
    "def unify_csv(path, name):\n",
    "    all_files = glob.glob(path + \"*.csv\")\n",
    "    if name not in[\"exodos\", \"junker2\"]: # the exodos folder seem to contain weird symbols for some column names, thus latin-1 encoding is needed\n",
    "        dfs = [pd.read_csv(file, sep=';') for file in all_files]\n",
    "    else:\n",
    "        dfs = [pd.read_csv(file, sep=';', encoding='latin-1') for file in all_files]\n",
    "    combined_df = pd.concat(dfs, join = 'outer', ignore_index=True)\n",
    "    # Combine 'Datum' and 'Absolutezeit' into a single datetime column\n",
    "    combined_df['Timestamp'] = pd.to_datetime(combined_df['Datum'] + ' ' + combined_df['Absolutzeit'],  dayfirst=True)\n",
    "    # Sort the concatenated DataFrame by the new 'Timestamp' column\n",
    "    sorted_df = combined_df.sort_values(by='Timestamp')\n",
    "    # Save the result to a new CSV if needed\n",
    "    sorted_df.to_csv(name + \".csv\", sep = ';', index=True)"
   ]
  },
  {
   "cell_type": "code",
   "execution_count": null,
   "metadata": {},
   "outputs": [],
   "source": [
    "# # Date range\n",
    "# df = pd.read_csv(\"autopress.csv\", sep = ';')\n",
    "# print(\"Dates ranging from \" + df['Timestamp'][0] + \" to \" + df['Timestamp'][-1:].iloc[0])"
   ]
  },
  {
   "cell_type": "markdown",
   "metadata": {},
   "source": [
    "# Unify Antlies Pressas folder (inclusive join. High disparity in column lengths among the csv's)"
   ]
  },
  {
   "cell_type": "code",
   "execution_count": 5,
   "metadata": {},
   "outputs": [],
   "source": [
    "folder_path = \"./Data/Auto Press/\"\n",
    "unify_csv(folder_path, \"antliespressas\")"
   ]
  },
  {
   "cell_type": "code",
   "execution_count": 6,
   "metadata": {},
   "outputs": [
    {
     "name": "stderr",
     "output_type": "stream",
     "text": [
      "/tmp/ipykernel_31479/2732500298.py:2: DtypeWarning: Columns (6,82,91) have mixed types. Specify dtype option on import or set low_memory=False.\n",
      "  df = pd.read_csv(\"antliespressas.csv\", sep = ';')\n"
     ]
    },
    {
     "name": "stdout",
     "output_type": "stream",
     "text": [
      "Dates ranging from 2023-12-07 08:41:41 to 2024-11-11 10:53:00\n"
     ]
    }
   ],
   "source": [
    "# Date range\n",
    "df = pd.read_csv(\"antliespressas.csv\", sep = ';')\n",
    "print(\"Dates ranging from \" + df['Timestamp'][0] + \" to \" + df['Timestamp'][-1:].iloc[0])"
   ]
  },
  {
   "cell_type": "code",
   "execution_count": 8,
   "metadata": {},
   "outputs": [
    {
     "data": {
      "text/plain": [
       "94"
      ]
     },
     "execution_count": 8,
     "metadata": {},
     "output_type": "execute_result"
    }
   ],
   "source": [
    "len(df.columns)"
   ]
  },
  {
   "cell_type": "markdown",
   "metadata": {},
   "source": [
    "# Unify Exodos folder (inclusive join. High disparity in column lengths among the csv's)"
   ]
  },
  {
   "cell_type": "code",
   "execution_count": 6,
   "metadata": {},
   "outputs": [
    {
     "name": "stderr",
     "output_type": "stream",
     "text": [
      "/tmp/ipykernel_28329/1730688540.py:7: FutureWarning: The behavior of DataFrame concatenation with empty or all-NA entries is deprecated. In a future version, this will no longer exclude empty or all-NA columns when determining the result dtypes. To retain the old behavior, exclude the relevant entries before the concat operation.\n",
      "  combined_df = pd.concat(dfs, join = 'outer', ignore_index=True)\n"
     ]
    }
   ],
   "source": [
    "folder_path = \"./Data/New_HalcoR_Data(2024)/OneDrive_1_12-5-2024/Exodos/\"\n",
    "unify_csv(folder_path, \"exodos\")"
   ]
  },
  {
   "cell_type": "code",
   "execution_count": 7,
   "metadata": {},
   "outputs": [
    {
     "name": "stdout",
     "output_type": "stream",
     "text": [
      "Dates ranging from 2024-06-06 08:31:51 to 2024-10-25 16:02:42\n"
     ]
    }
   ],
   "source": [
    "# Date range\n",
    "df = pd.read_csv(\"exodos.csv\", sep = ';')\n",
    "print(\"Dates ranging from \" + df['Timestamp'][0] + \" to \" + df['Timestamp'][-1:].iloc[0])"
   ]
  },
  {
   "cell_type": "markdown",
   "metadata": {},
   "source": [
    "# Unify InterlockAntliostasiou folder (inclusive join. High disparity in column lengths among the csv's)"
   ]
  },
  {
   "cell_type": "code",
   "execution_count": 8,
   "metadata": {},
   "outputs": [
    {
     "name": "stderr",
     "output_type": "stream",
     "text": [
      "/tmp/ipykernel_28329/1730688540.py:7: FutureWarning: The behavior of DataFrame concatenation with empty or all-NA entries is deprecated. In a future version, this will no longer exclude empty or all-NA columns when determining the result dtypes. To retain the old behavior, exclude the relevant entries before the concat operation.\n",
      "  combined_df = pd.concat(dfs, join = 'outer', ignore_index=True)\n"
     ]
    }
   ],
   "source": [
    "folder_path = \"./Data/New_HalcoR_Data(2024)/OneDrive_1_12-5-2024/InterlockAntliostaiou/\"\n",
    "unify_csv(folder_path, \"interlockantliostaiou\")"
   ]
  },
  {
   "cell_type": "code",
   "execution_count": 9,
   "metadata": {},
   "outputs": [
    {
     "name": "stdout",
     "output_type": "stream",
     "text": [
      "Dates ranging from 2023-12-06 15:43:26 to 2024-06-03 07:20:11\n"
     ]
    }
   ],
   "source": [
    "# Date range\n",
    "df = pd.read_csv(\"interlockantliostaiou.csv\", sep = ';')\n",
    "print(\"Dates ranging from \" + df['Timestamp'][0] + \" to \" + df['Timestamp'][-1:].iloc[0])"
   ]
  },
  {
   "cell_type": "markdown",
   "metadata": {},
   "source": [
    "# Unify Junker1 folder (inclusive join. High disparity in column lengths among the csv's)"
   ]
  },
  {
   "cell_type": "code",
   "execution_count": 10,
   "metadata": {},
   "outputs": [],
   "source": [
    "folder_path = \"./Data/New_HalcoR_Data(2024)/OneDrive_1_12-5-2024/Junker1/\"\n",
    "unify_csv(folder_path, \"junker1\")"
   ]
  },
  {
   "cell_type": "code",
   "execution_count": 11,
   "metadata": {},
   "outputs": [
    {
     "name": "stderr",
     "output_type": "stream",
     "text": [
      "/tmp/ipykernel_28329/1628634808.py:2: DtypeWarning: Columns (103,104,105) have mixed types. Specify dtype option on import or set low_memory=False.\n",
      "  df = pd.read_csv(\"junker1.csv\", sep = ';')\n"
     ]
    },
    {
     "name": "stdout",
     "output_type": "stream",
     "text": [
      "Dates ranging from 2024-06-24 16:24:22 to 2024-10-24 11:09:14\n"
     ]
    }
   ],
   "source": [
    "# Date range\n",
    "df = pd.read_csv(\"junker1.csv\", sep = ';')\n",
    "print(\"Dates ranging from \" + df['Timestamp'][0] + \" to \" + df['Timestamp'][-1:].iloc[0])"
   ]
  },
  {
   "cell_type": "markdown",
   "metadata": {},
   "source": [
    "# Unify Junker2 folder (inclusive join. High disparity in column lengths among the csv's)"
   ]
  },
  {
   "cell_type": "code",
   "execution_count": 13,
   "metadata": {},
   "outputs": [],
   "source": [
    "folder_path = \"./Data/New_HalcoR_Data(2024)/OneDrive_1_12-5-2024/Junker2/\"\n",
    "unify_csv(folder_path, \"junker2\")"
   ]
  },
  {
   "cell_type": "code",
   "execution_count": 14,
   "metadata": {},
   "outputs": [
    {
     "name": "stderr",
     "output_type": "stream",
     "text": [
      "/tmp/ipykernel_28329/3174954517.py:2: DtypeWarning: Columns (108) have mixed types. Specify dtype option on import or set low_memory=False.\n",
      "  df = pd.read_csv(\"junker2.csv\", sep = ';')\n"
     ]
    },
    {
     "name": "stdout",
     "output_type": "stream",
     "text": [
      "Dates ranging from 2024-06-28 07:55:20 to 2024-10-25 12:12:12\n"
     ]
    }
   ],
   "source": [
    "# Date range\n",
    "df = pd.read_csv(\"junker2.csv\", sep = ';')\n",
    "print(\"Dates ranging from \" + df['Timestamp'][0] + \" to \" + df['Timestamp'][-1:].iloc[0])"
   ]
  },
  {
   "cell_type": "markdown",
   "metadata": {},
   "source": [
    "# Testing the Energy data"
   ]
  },
  {
   "cell_type": "code",
   "execution_count": 3,
   "metadata": {},
   "outputs": [
    {
     "name": "stderr",
     "output_type": "stream",
     "text": [
      "/tmp/ipykernel_72395/1210235635.py:24: FutureWarning: DataFrame.applymap has been deprecated. Use DataFrame.map instead.\n",
      "  df = df.applymap(lambda x : np.nan if x == '-' else x) # convert - into nan so later can be filled with 'fillna' later\n",
      "/tmp/ipykernel_72395/1210235635.py:24: FutureWarning: DataFrame.applymap has been deprecated. Use DataFrame.map instead.\n",
      "  df = df.applymap(lambda x : np.nan if x == '-' else x) # convert - into nan so later can be filled with 'fillna' later\n",
      "/tmp/ipykernel_72395/1210235635.py:24: FutureWarning: DataFrame.applymap has been deprecated. Use DataFrame.map instead.\n",
      "  df = df.applymap(lambda x : np.nan if x == '-' else x) # convert - into nan so later can be filled with 'fillna' later\n",
      "/tmp/ipykernel_72395/1210235635.py:24: FutureWarning: DataFrame.applymap has been deprecated. Use DataFrame.map instead.\n",
      "  df = df.applymap(lambda x : np.nan if x == '-' else x) # convert - into nan so later can be filled with 'fillna' later\n",
      "/tmp/ipykernel_72395/1210235635.py:24: FutureWarning: DataFrame.applymap has been deprecated. Use DataFrame.map instead.\n",
      "  df = df.applymap(lambda x : np.nan if x == '-' else x) # convert - into nan so later can be filled with 'fillna' later\n",
      "/tmp/ipykernel_72395/1210235635.py:24: FutureWarning: DataFrame.applymap has been deprecated. Use DataFrame.map instead.\n",
      "  df = df.applymap(lambda x : np.nan if x == '-' else x) # convert - into nan so later can be filled with 'fillna' later\n",
      "/tmp/ipykernel_72395/1210235635.py:24: FutureWarning: DataFrame.applymap has been deprecated. Use DataFrame.map instead.\n",
      "  df = df.applymap(lambda x : np.nan if x == '-' else x) # convert - into nan so later can be filled with 'fillna' later\n",
      "/tmp/ipykernel_72395/1210235635.py:24: FutureWarning: DataFrame.applymap has been deprecated. Use DataFrame.map instead.\n",
      "  df = df.applymap(lambda x : np.nan if x == '-' else x) # convert - into nan so later can be filled with 'fillna' later\n",
      "/tmp/ipykernel_72395/1210235635.py:24: FutureWarning: DataFrame.applymap has been deprecated. Use DataFrame.map instead.\n",
      "  df = df.applymap(lambda x : np.nan if x == '-' else x) # convert - into nan so later can be filled with 'fillna' later\n"
     ]
    }
   ],
   "source": [
    "# Concatenate all energies together for each timestamp\n",
    "total_energy = None\n",
    "# Folder with energy consumption files\n",
    "path_to_energy_consumption_files = './Data/PRESS PME DATA FY2024.xlsx'\n",
    "excel_data = pd.ExcelFile(path_to_energy_consumption_files)\n",
    "start_timestamp = pd.Timestamp('2024-01-01 11:30:00')\n",
    "df_energy = []\n",
    "# Loop through each sheet\n",
    "for sheet_name in excel_data.sheet_names:\n",
    "    # Read the sheet\n",
    "    df = excel_data.parse(sheet_name)\n",
    "    # Keep only the first two columns\n",
    "    df = df.iloc[:, :2]\n",
    "    # Make all the sheets start from a specific timestamp for smoothness. Convert the timestamp column to datetime (assume it's the first column)\n",
    "    df.iloc[:, 0] = pd.to_datetime(df.iloc[:, 0])\n",
    "    df = df[df.iloc[:, 0] >= start_timestamp]\n",
    "    df['Real Energy'] = pd.to_numeric(df['Real Energy'], downcast='float', errors='coerce')\n",
    "    # Adjust timestamps where seconds are not 00\n",
    "    df['Timestamp'] = df['Timestamp'].apply(lambda x: x.replace(second=0))\n",
    "    df = df.sort_values(by='Timestamp', ascending= True)\n",
    "    # Remove duplicates that exist in the dataset, if they exist.\n",
    "    df.drop_duplicates(subset='Timestamp', keep='last', inplace = True)\n",
    "    # the '-' rows should be filled with the previous value instead (the previous 15-minute)\n",
    "    df = df.applymap(lambda x : np.nan if x == '-' else x) # convert - into nan so later can be filled with 'fillna' later\n",
    "    df.set_index('Timestamp', inplace=True)\n",
    "    df = df.resample('15min', closed='right', label='right').ffill()\n",
    "    df.reset_index(inplace=True)\n",
    "    df['Real Energy'] = df['Real Energy'].interpolate() # interpolate values\n",
    "    # Append the DataFrame to the list\n",
    "    df_energy.append(df)\n",
    "\n",
    "\n",
    "total_energy = pd.concat(df_energy, ignore_index=True)\n",
    "total_energy = total_energy.groupby('Timestamp').sum().reset_index()\n",
    "total_energy.set_index('Timestamp', inplace=True)\n",
    "# Set the initial granularity to 15 minute intervals for baseline.\n",
    "total_energy = total_energy.resample('15min', closed='right', label='right').ffill()\n",
    "# total_energy.replace(0, np.nan, inplace=True)\n",
    "# total_energy = total_energy.interpolate()\n",
    "total_energy.reset_index(inplace=True)\n",
    "\n",
    "# Since energy was cumulative, We take the difference and save it into a column\n",
    "total_energy['diff'] = total_energy['Real Energy'].diff()\n",
    "total_energy['diff'] = total_energy['diff'].interpolate()\n",
    "total_energy['Timestamp'] = pd.to_datetime(total_energy['Timestamp'])\n",
    "total_energy = total_energy.iloc[:-1]\n",
    "total_energy.drop(columns='Real Energy', inplace = True)"
   ]
  },
  {
   "cell_type": "code",
   "execution_count": 4,
   "metadata": {},
   "outputs": [
    {
     "data": {
      "image/png": "[encoded data removed]",
      "text/plain": [
       "<Figure size 1000x600 with 1 Axes>"
      ]
     },
     "metadata": {},
     "output_type": "display_data"
    }
   ],
   "source": [
    "# Plot energy consumption over time\n",
    "plt.figure(figsize=(10, 6))\n",
    "plt.plot(total_energy['Timestamp'], total_energy['diff'], marker='o', linestyle='-', color='b', label='Energy Consumption')\n",
    "\n",
    "# Set title and labels\n",
    "plt.title('Energy Consumption Over Time', fontsize=16)\n",
    "plt.xlabel('Timestamp', fontsize=14)\n",
    "plt.ylabel('Energy Consumption', fontsize=14)\n",
    "\n",
    "# Rotate the x-axis labels for better readability\n",
    "plt.xticks(rotation=45)\n",
    "\n",
    "# Add a legend\n",
    "plt.legend()\n",
    "\n",
    "# Display the grid\n",
    "plt.grid(True, linestyle='--', alpha=0.6)\n",
    "\n",
    "# Show the plot\n",
    "plt.tight_layout()\n",
    "plt.show()"
   ]
  },
  {
   "cell_type": "code",
   "execution_count": 4,
   "metadata": {},
   "outputs": [
    {
     "data": {
      "text/html": [
       "<div>\n",
       "<style scoped>\n",
       "    .dataframe tbody tr th:only-of-type {\n",
       "        vertical-align: middle;\n",
       "    }\n",
       "\n",
       "    .dataframe tbody tr th {\n",
       "        vertical-align: top;\n",
       "    }\n",
       "\n",
       "    .dataframe thead th {\n",
       "        text-align: right;\n",
       "    }\n",
       "</style>\n",
       "<table border=\"1\" class=\"dataframe\">\n",
       "  <thead>\n",
       "    <tr style=\"text-align: right;\">\n",
       "      <th></th>\n",
       "      <th>Timestamp</th>\n",
       "      <th>diff</th>\n",
       "    </tr>\n",
       "  </thead>\n",
       "  <tbody>\n",
       "    <tr>\n",
       "      <th>0</th>\n",
       "      <td>2024-01-01 11:30:00</td>\n",
       "      <td>NaN</td>\n",
       "    </tr>\n",
       "    <tr>\n",
       "      <th>1</th>\n",
       "      <td>2024-01-01 11:45:00</td>\n",
       "      <td>27.768</td>\n",
       "    </tr>\n",
       "    <tr>\n",
       "      <th>2</th>\n",
       "      <td>2024-01-01 12:00:00</td>\n",
       "      <td>11.021</td>\n",
       "    </tr>\n",
       "    <tr>\n",
       "      <th>3</th>\n",
       "      <td>2024-01-01 12:15:00</td>\n",
       "      <td>16.329</td>\n",
       "    </tr>\n",
       "    <tr>\n",
       "      <th>4</th>\n",
       "      <td>2024-01-01 12:30:00</td>\n",
       "      <td>31.274</td>\n",
       "    </tr>\n",
       "    <tr>\n",
       "      <th>...</th>\n",
       "      <td>...</td>\n",
       "      <td>...</td>\n",
       "    </tr>\n",
       "    <tr>\n",
       "      <th>33306</th>\n",
       "      <td>2024-12-13 10:00:00</td>\n",
       "      <td>166.492</td>\n",
       "    </tr>\n",
       "    <tr>\n",
       "      <th>33307</th>\n",
       "      <td>2024-12-13 10:15:00</td>\n",
       "      <td>133.113</td>\n",
       "    </tr>\n",
       "    <tr>\n",
       "      <th>33308</th>\n",
       "      <td>2024-12-13 10:30:00</td>\n",
       "      <td>141.263</td>\n",
       "    </tr>\n",
       "    <tr>\n",
       "      <th>33309</th>\n",
       "      <td>2024-12-13 10:45:00</td>\n",
       "      <td>210.887</td>\n",
       "    </tr>\n",
       "    <tr>\n",
       "      <th>33310</th>\n",
       "      <td>2024-12-13 11:00:00</td>\n",
       "      <td>201.477</td>\n",
       "    </tr>\n",
       "  </tbody>\n",
       "</table>\n",
       "<p>33311 rows × 2 columns</p>\n",
       "</div>"
      ],
      "text/plain": [
       "                Timestamp     diff\n",
       "0     2024-01-01 11:30:00      NaN\n",
       "1     2024-01-01 11:45:00   27.768\n",
       "2     2024-01-01 12:00:00   11.021\n",
       "3     2024-01-01 12:15:00   16.329\n",
       "4     2024-01-01 12:30:00   31.274\n",
       "...                   ...      ...\n",
       "33306 2024-12-13 10:00:00  166.492\n",
       "33307 2024-12-13 10:15:00  133.113\n",
       "33308 2024-12-13 10:30:00  141.263\n",
       "33309 2024-12-13 10:45:00  210.887\n",
       "33310 2024-12-13 11:00:00  201.477\n",
       "\n",
       "[33311 rows x 2 columns]"
      ]
     },
     "execution_count": 4,
     "metadata": {},
     "output_type": "execute_result"
    }
   ],
   "source": [
    "total_energy"
   ]
  },
  {
   "cell_type": "code",
   "execution_count": 6,
   "metadata": {},
   "outputs": [],
   "source": [
    "# total_energy['Timestamp'] = total_energy['Timestamp'].dt.strftime('%d/%m/%Y %H:%M:%S')\n",
    "total_energy['Timestamp'] = pd.to_datetime(total_energy['Timestamp'])\n",
    "# total_energy.to_excel(\"temp.xlsx\", engine='openpyxl', index=False)"
   ]
  },
  {
   "cell_type": "markdown",
   "metadata": {},
   "source": [
    "# Unify Auto Press folder (inclusive join. High disparity in column lengths among the csv's)"
   ]
  },
  {
   "cell_type": "code",
   "execution_count": 5,
   "metadata": {},
   "outputs": [],
   "source": [
    "folder_path = \"./Data/New_HalcoR_Data(2024)/OneDrive_1_12-5-2024/Auto Press/\"\n",
    "unify_csv(folder_path, \"autopress\")"
   ]
  },
  {
   "cell_type": "code",
   "execution_count": 6,
   "metadata": {},
   "outputs": [
    {
     "name": "stderr",
     "output_type": "stream",
     "text": [
      "/tmp/ipykernel_72395/3075638627.py:1: DtypeWarning: Columns (6,76,88) have mixed types. Specify dtype option on import or set low_memory=False.\n",
      "  df = pd.read_csv(\"autopress.csv\", sep = ';')\n"
     ]
    },
    {
     "data": {
      "text/html": [
       "<div>\n",
       "<style scoped>\n",
       "    .dataframe tbody tr th:only-of-type {\n",
       "        vertical-align: middle;\n",
       "    }\n",
       "\n",
       "    .dataframe tbody tr th {\n",
       "        vertical-align: top;\n",
       "    }\n",
       "\n",
       "    .dataframe thead th {\n",
       "        text-align: right;\n",
       "    }\n",
       "</style>\n",
       "<table border=\"1\" class=\"dataframe\">\n",
       "  <thead>\n",
       "    <tr style=\"text-align: right;\">\n",
       "      <th></th>\n",
       "      <th>Time Bin</th>\n",
       "      <th>DB   10DBW  196  hp pressure pump</th>\n",
       "      <th>DB   10DBW   84   HP PRESSURE  accu</th>\n",
       "      <th>DB  610DBW   12  relif valve</th>\n",
       "      <th>DB   30DBW   20  ramposition</th>\n",
       "      <th>DB   10DBW    6  ram press rign side</th>\n",
       "      <th>DB   10DBW    2   main pressure</th>\n",
       "      <th>DB   10DBW    4   ram pressure piston side</th>\n",
       "      <th>DB   30DBW   42  mand in ram</th>\n",
       "      <th>DB   30DBW   40   mand position</th>\n",
       "      <th>...</th>\n",
       "      <th>DB   13DBW    4  set torque</th>\n",
       "      <th>DB 1260DBD  100   TOOL SLIDE POSITION</th>\n",
       "      <th>DB   30DBW  140  DISCHARGER POSITION</th>\n",
       "      <th>DB 1300DBW    0   step ram</th>\n",
       "      <th>DB 1300DBW    2   step mand</th>\n",
       "      <th>DB 1300DBW    4  step cont</th>\n",
       "      <th>DB  301DBW   98   billet counter</th>\n",
       "      <th>DB   10DBW   90   metritis azotoy</th>\n",
       "      <th>MW   970</th>\n",
       "      <th>MW   972</th>\n",
       "    </tr>\n",
       "  </thead>\n",
       "  <tbody>\n",
       "    <tr>\n",
       "      <th>0</th>\n",
       "      <td>2024-02-15 14:00:00</td>\n",
       "      <td>298.923077</td>\n",
       "      <td>293.358974</td>\n",
       "      <td>171.794872</td>\n",
       "      <td>1547.589744</td>\n",
       "      <td>5.948718</td>\n",
       "      <td>16.205128</td>\n",
       "      <td>18.051282</td>\n",
       "      <td>35.153846</td>\n",
       "      <td>1582.743590</td>\n",
       "      <td>...</td>\n",
       "      <td>9203.384615</td>\n",
       "      <td>1464.970769</td>\n",
       "      <td>60.769231</td>\n",
       "      <td>201.076923</td>\n",
       "      <td>4.153846</td>\n",
       "      <td>196.153846</td>\n",
       "      <td>17.307692</td>\n",
       "      <td>31.666667</td>\n",
       "      <td>NaN</td>\n",
       "      <td>NaN</td>\n",
       "    </tr>\n",
       "    <tr>\n",
       "      <th>1</th>\n",
       "      <td>2024-02-15 14:15:00</td>\n",
       "      <td>299.000000</td>\n",
       "      <td>293.388889</td>\n",
       "      <td>190.000000</td>\n",
       "      <td>1283.900000</td>\n",
       "      <td>6.788889</td>\n",
       "      <td>21.100000</td>\n",
       "      <td>22.133333</td>\n",
       "      <td>47.111111</td>\n",
       "      <td>1331.011111</td>\n",
       "      <td>...</td>\n",
       "      <td>9108.400000</td>\n",
       "      <td>1137.635667</td>\n",
       "      <td>52.800000</td>\n",
       "      <td>162.488889</td>\n",
       "      <td>5.400000</td>\n",
       "      <td>155.144444</td>\n",
       "      <td>19.277778</td>\n",
       "      <td>38.411111</td>\n",
       "      <td>NaN</td>\n",
       "      <td>NaN</td>\n",
       "    </tr>\n",
       "    <tr>\n",
       "      <th>2</th>\n",
       "      <td>2024-02-15 14:30:00</td>\n",
       "      <td>298.688889</td>\n",
       "      <td>293.633333</td>\n",
       "      <td>193.888889</td>\n",
       "      <td>1382.166667</td>\n",
       "      <td>7.255556</td>\n",
       "      <td>14.944444</td>\n",
       "      <td>16.977778</td>\n",
       "      <td>52.377778</td>\n",
       "      <td>1434.544444</td>\n",
       "      <td>...</td>\n",
       "      <td>9167.822222</td>\n",
       "      <td>1238.864889</td>\n",
       "      <td>36.566667</td>\n",
       "      <td>178.466667</td>\n",
       "      <td>7.322222</td>\n",
       "      <td>169.477778</td>\n",
       "      <td>22.233333</td>\n",
       "      <td>39.655556</td>\n",
       "      <td>NaN</td>\n",
       "      <td>NaN</td>\n",
       "    </tr>\n",
       "    <tr>\n",
       "      <th>3</th>\n",
       "      <td>2024-02-15 14:45:00</td>\n",
       "      <td>299.022222</td>\n",
       "      <td>293.822222</td>\n",
       "      <td>210.000000</td>\n",
       "      <td>1336.077778</td>\n",
       "      <td>6.622222</td>\n",
       "      <td>18.488889</td>\n",
       "      <td>20.122222</td>\n",
       "      <td>53.622222</td>\n",
       "      <td>1389.700000</td>\n",
       "      <td>...</td>\n",
       "      <td>9193.977778</td>\n",
       "      <td>1180.992889</td>\n",
       "      <td>35.544444</td>\n",
       "      <td>164.588889</td>\n",
       "      <td>12.955556</td>\n",
       "      <td>160.333333</td>\n",
       "      <td>25.188889</td>\n",
       "      <td>39.033333</td>\n",
       "      <td>NaN</td>\n",
       "      <td>NaN</td>\n",
       "    </tr>\n",
       "    <tr>\n",
       "      <th>4</th>\n",
       "      <td>2024-02-15 15:00:00</td>\n",
       "      <td>299.066667</td>\n",
       "      <td>294.011111</td>\n",
       "      <td>118.888889</td>\n",
       "      <td>1212.933333</td>\n",
       "      <td>1.111111</td>\n",
       "      <td>0.000000</td>\n",
       "      <td>0.122222</td>\n",
       "      <td>-1.055556</td>\n",
       "      <td>1211.877778</td>\n",
       "      <td>...</td>\n",
       "      <td>9520.000000</td>\n",
       "      <td>213.432000</td>\n",
       "      <td>1.000000</td>\n",
       "      <td>29.455556</td>\n",
       "      <td>0.000000</td>\n",
       "      <td>31.411111</td>\n",
       "      <td>4.800000</td>\n",
       "      <td>13.411111</td>\n",
       "      <td>NaN</td>\n",
       "      <td>NaN</td>\n",
       "    </tr>\n",
       "    <tr>\n",
       "      <th>...</th>\n",
       "      <td>...</td>\n",
       "      <td>...</td>\n",
       "      <td>...</td>\n",
       "      <td>...</td>\n",
       "      <td>...</td>\n",
       "      <td>...</td>\n",
       "      <td>...</td>\n",
       "      <td>...</td>\n",
       "      <td>...</td>\n",
       "      <td>...</td>\n",
       "      <td>...</td>\n",
       "      <td>...</td>\n",
       "      <td>...</td>\n",
       "      <td>...</td>\n",
       "      <td>...</td>\n",
       "      <td>...</td>\n",
       "      <td>...</td>\n",
       "      <td>...</td>\n",
       "      <td>...</td>\n",
       "      <td>...</td>\n",
       "      <td>...</td>\n",
       "    </tr>\n",
       "    <tr>\n",
       "      <th>17809</th>\n",
       "      <td>2024-11-11 10:00:00</td>\n",
       "      <td>26.777778</td>\n",
       "      <td>35.322222</td>\n",
       "      <td>100.000000</td>\n",
       "      <td>757.000000</td>\n",
       "      <td>0.766667</td>\n",
       "      <td>0.000000</td>\n",
       "      <td>0.000000</td>\n",
       "      <td>407.000000</td>\n",
       "      <td>1164.000000</td>\n",
       "      <td>...</td>\n",
       "      <td>9520.000000</td>\n",
       "      <td>1905.332667</td>\n",
       "      <td>1.000000</td>\n",
       "      <td>0.000000</td>\n",
       "      <td>0.000000</td>\n",
       "      <td>0.000000</td>\n",
       "      <td>0.000000</td>\n",
       "      <td>17.000000</td>\n",
       "      <td>18.0</td>\n",
       "      <td>15.0</td>\n",
       "    </tr>\n",
       "    <tr>\n",
       "      <th>17810</th>\n",
       "      <td>2024-11-11 10:15:00</td>\n",
       "      <td>0.188889</td>\n",
       "      <td>0.000000</td>\n",
       "      <td>100.000000</td>\n",
       "      <td>757.000000</td>\n",
       "      <td>0.000000</td>\n",
       "      <td>0.000000</td>\n",
       "      <td>0.000000</td>\n",
       "      <td>407.000000</td>\n",
       "      <td>1164.000000</td>\n",
       "      <td>...</td>\n",
       "      <td>9520.000000</td>\n",
       "      <td>1905.310000</td>\n",
       "      <td>1.000000</td>\n",
       "      <td>0.000000</td>\n",
       "      <td>0.000000</td>\n",
       "      <td>2.277778</td>\n",
       "      <td>0.000000</td>\n",
       "      <td>17.000000</td>\n",
       "      <td>18.0</td>\n",
       "      <td>15.0</td>\n",
       "    </tr>\n",
       "    <tr>\n",
       "      <th>17811</th>\n",
       "      <td>2024-11-11 10:30:00</td>\n",
       "      <td>0.133333</td>\n",
       "      <td>0.000000</td>\n",
       "      <td>100.000000</td>\n",
       "      <td>757.000000</td>\n",
       "      <td>0.000000</td>\n",
       "      <td>0.000000</td>\n",
       "      <td>0.000000</td>\n",
       "      <td>407.000000</td>\n",
       "      <td>1164.000000</td>\n",
       "      <td>...</td>\n",
       "      <td>9341.733333</td>\n",
       "      <td>1905.288667</td>\n",
       "      <td>1.000000</td>\n",
       "      <td>0.000000</td>\n",
       "      <td>1.411111</td>\n",
       "      <td>0.000000</td>\n",
       "      <td>0.000000</td>\n",
       "      <td>17.000000</td>\n",
       "      <td>18.0</td>\n",
       "      <td>15.0</td>\n",
       "    </tr>\n",
       "    <tr>\n",
       "      <th>17812</th>\n",
       "      <td>2024-11-11 10:45:00</td>\n",
       "      <td>182.766667</td>\n",
       "      <td>179.588889</td>\n",
       "      <td>100.000000</td>\n",
       "      <td>757.000000</td>\n",
       "      <td>0.000000</td>\n",
       "      <td>0.000000</td>\n",
       "      <td>0.000000</td>\n",
       "      <td>407.000000</td>\n",
       "      <td>1164.000000</td>\n",
       "      <td>...</td>\n",
       "      <td>9520.000000</td>\n",
       "      <td>979.767111</td>\n",
       "      <td>1.000000</td>\n",
       "      <td>0.000000</td>\n",
       "      <td>0.000000</td>\n",
       "      <td>0.000000</td>\n",
       "      <td>0.000000</td>\n",
       "      <td>17.000000</td>\n",
       "      <td>18.0</td>\n",
       "      <td>15.0</td>\n",
       "    </tr>\n",
       "    <tr>\n",
       "      <th>17813</th>\n",
       "      <td>2024-11-11 11:00:00</td>\n",
       "      <td>0.408163</td>\n",
       "      <td>12.775510</td>\n",
       "      <td>100.000000</td>\n",
       "      <td>757.000000</td>\n",
       "      <td>0.000000</td>\n",
       "      <td>0.000000</td>\n",
       "      <td>0.000000</td>\n",
       "      <td>407.000000</td>\n",
       "      <td>1164.000000</td>\n",
       "      <td>...</td>\n",
       "      <td>9520.000000</td>\n",
       "      <td>0.650000</td>\n",
       "      <td>1.000000</td>\n",
       "      <td>0.000000</td>\n",
       "      <td>0.000000</td>\n",
       "      <td>0.000000</td>\n",
       "      <td>0.000000</td>\n",
       "      <td>17.000000</td>\n",
       "      <td>18.0</td>\n",
       "      <td>15.0</td>\n",
       "    </tr>\n",
       "  </tbody>\n",
       "</table>\n",
       "<p>17814 rows × 30 columns</p>\n",
       "</div>"
      ],
      "text/plain": [
       "                 Time Bin  DB   10DBW  196  hp pressure pump  \\\n",
       "0     2024-02-15 14:00:00                         298.923077   \n",
       "1     2024-02-15 14:15:00                         299.000000   \n",
       "2     2024-02-15 14:30:00                         298.688889   \n",
       "3     2024-02-15 14:45:00                         299.022222   \n",
       "4     2024-02-15 15:00:00                         299.066667   \n",
       "...                   ...                                ...   \n",
       "17809 2024-11-11 10:00:00                          26.777778   \n",
       "17810 2024-11-11 10:15:00                           0.188889   \n",
       "17811 2024-11-11 10:30:00                           0.133333   \n",
       "17812 2024-11-11 10:45:00                         182.766667   \n",
       "17813 2024-11-11 11:00:00                           0.408163   \n",
       "\n",
       "       DB   10DBW   84   HP PRESSURE  accu  DB  610DBW   12  relif valve  \\\n",
       "0                               293.358974                    171.794872   \n",
       "1                               293.388889                    190.000000   \n",
       "2                               293.633333                    193.888889   \n",
       "3                               293.822222                    210.000000   \n",
       "4                               294.011111                    118.888889   \n",
       "...                                    ...                           ...   \n",
       "17809                            35.322222                    100.000000   \n",
       "17810                             0.000000                    100.000000   \n",
       "17811                             0.000000                    100.000000   \n",
       "17812                           179.588889                    100.000000   \n",
       "17813                            12.775510                    100.000000   \n",
       "\n",
       "       DB   30DBW   20  ramposition  DB   10DBW    6  ram press rign side  \\\n",
       "0                       1547.589744                              5.948718   \n",
       "1                       1283.900000                              6.788889   \n",
       "2                       1382.166667                              7.255556   \n",
       "3                       1336.077778                              6.622222   \n",
       "4                       1212.933333                              1.111111   \n",
       "...                             ...                                   ...   \n",
       "17809                    757.000000                              0.766667   \n",
       "17810                    757.000000                              0.000000   \n",
       "17811                    757.000000                              0.000000   \n",
       "17812                    757.000000                              0.000000   \n",
       "17813                    757.000000                              0.000000   \n",
       "\n",
       "       DB   10DBW    2   main pressure  \\\n",
       "0                            16.205128   \n",
       "1                            21.100000   \n",
       "2                            14.944444   \n",
       "3                            18.488889   \n",
       "4                             0.000000   \n",
       "...                                ...   \n",
       "17809                         0.000000   \n",
       "17810                         0.000000   \n",
       "17811                         0.000000   \n",
       "17812                         0.000000   \n",
       "17813                         0.000000   \n",
       "\n",
       "       DB   10DBW    4   ram pressure piston side  \\\n",
       "0                                       18.051282   \n",
       "1                                       22.133333   \n",
       "2                                       16.977778   \n",
       "3                                       20.122222   \n",
       "4                                        0.122222   \n",
       "...                                           ...   \n",
       "17809                                    0.000000   \n",
       "17810                                    0.000000   \n",
       "17811                                    0.000000   \n",
       "17812                                    0.000000   \n",
       "17813                                    0.000000   \n",
       "\n",
       "       DB   30DBW   42  mand in ram  DB   30DBW   40   mand position  ...  \\\n",
       "0                         35.153846                      1582.743590  ...   \n",
       "1                         47.111111                      1331.011111  ...   \n",
       "2                         52.377778                      1434.544444  ...   \n",
       "3                         53.622222                      1389.700000  ...   \n",
       "4                         -1.055556                      1211.877778  ...   \n",
       "...                             ...                              ...  ...   \n",
       "17809                    407.000000                      1164.000000  ...   \n",
       "17810                    407.000000                      1164.000000  ...   \n",
       "17811                    407.000000                      1164.000000  ...   \n",
       "17812                    407.000000                      1164.000000  ...   \n",
       "17813                    407.000000                      1164.000000  ...   \n",
       "\n",
       "       DB   13DBW    4  set torque  DB 1260DBD  100   TOOL SLIDE POSITION  \\\n",
       "0                      9203.384615                            1464.970769   \n",
       "1                      9108.400000                            1137.635667   \n",
       "2                      9167.822222                            1238.864889   \n",
       "3                      9193.977778                            1180.992889   \n",
       "4                      9520.000000                             213.432000   \n",
       "...                            ...                                    ...   \n",
       "17809                  9520.000000                            1905.332667   \n",
       "17810                  9520.000000                            1905.310000   \n",
       "17811                  9341.733333                            1905.288667   \n",
       "17812                  9520.000000                             979.767111   \n",
       "17813                  9520.000000                               0.650000   \n",
       "\n",
       "       DB   30DBW  140  DISCHARGER POSITION  DB 1300DBW    0   step ram  \\\n",
       "0                                 60.769231                  201.076923   \n",
       "1                                 52.800000                  162.488889   \n",
       "2                                 36.566667                  178.466667   \n",
       "3                                 35.544444                  164.588889   \n",
       "4                                  1.000000                   29.455556   \n",
       "...                                     ...                         ...   \n",
       "17809                              1.000000                    0.000000   \n",
       "17810                              1.000000                    0.000000   \n",
       "17811                              1.000000                    0.000000   \n",
       "17812                              1.000000                    0.000000   \n",
       "17813                              1.000000                    0.000000   \n",
       "\n",
       "       DB 1300DBW    2   step mand  DB 1300DBW    4  step cont  \\\n",
       "0                         4.153846                  196.153846   \n",
       "1                         5.400000                  155.144444   \n",
       "2                         7.322222                  169.477778   \n",
       "3                        12.955556                  160.333333   \n",
       "4                         0.000000                   31.411111   \n",
       "...                            ...                         ...   \n",
       "17809                     0.000000                    0.000000   \n",
       "17810                     0.000000                    2.277778   \n",
       "17811                     1.411111                    0.000000   \n",
       "17812                     0.000000                    0.000000   \n",
       "17813                     0.000000                    0.000000   \n",
       "\n",
       "       DB  301DBW   98   billet counter  DB   10DBW   90   metritis azotoy  \\\n",
       "0                             17.307692                          31.666667   \n",
       "1                             19.277778                          38.411111   \n",
       "2                             22.233333                          39.655556   \n",
       "3                             25.188889                          39.033333   \n",
       "4                              4.800000                          13.411111   \n",
       "...                                 ...                                ...   \n",
       "17809                          0.000000                          17.000000   \n",
       "17810                          0.000000                          17.000000   \n",
       "17811                          0.000000                          17.000000   \n",
       "17812                          0.000000                          17.000000   \n",
       "17813                          0.000000                          17.000000   \n",
       "\n",
       "       MW   970  MW   972  \n",
       "0           NaN       NaN  \n",
       "1           NaN       NaN  \n",
       "2           NaN       NaN  \n",
       "3           NaN       NaN  \n",
       "4           NaN       NaN  \n",
       "...         ...       ...  \n",
       "17809      18.0      15.0  \n",
       "17810      18.0      15.0  \n",
       "17811      18.0      15.0  \n",
       "17812      18.0      15.0  \n",
       "17813      18.0      15.0  \n",
       "\n",
       "[17814 rows x 30 columns]"
      ]
     },
     "execution_count": 6,
     "metadata": {},
     "output_type": "execute_result"
    }
   ],
   "source": [
    "df = pd.read_csv(\"autopress.csv\", sep = ';')\n",
    "# ------maybe drop these inside the function from earlier\n",
    "df.drop(columns= ['Unnamed: 0', 'Relativzeit', 'Datum', 'Absolutzeit'], inplace= True)\n",
    "df['Timestamp'] = pd.to_datetime(df['Timestamp'])\n",
    "timeWindows = total_energy['Timestamp'].tolist()\n",
    "labels = timeWindows[1:]\n",
    "df['Time Bin'] = pd.cut(df['Timestamp'], timeWindows, labels=labels, right=False)\n",
    "start_timestamp = '2024-01-01 11:30:00'\n",
    "df = df[df['Timestamp'] >= start_timestamp]\n",
    "for column in df.columns:\n",
    "    missing_percentage = df[column].isnull().mean() * 100\n",
    "    is_unique = df[column].nunique(dropna=False) == 1\n",
    "    binary_unique = df[column].nunique() == 2\n",
    "    # drop columns with higher than 20% missing rate || drop columns that have a constant unique value, thus not offering any info || Drop binary columns for now\n",
    "    if missing_percentage > 20 or is_unique or binary_unique:\n",
    "        df.drop(columns= column, inplace=True)\n",
    "        \n",
    "df.drop(columns='Timestamp', inplace=True)\n",
    "df['Time Bin'] = pd.to_datetime(df['Time Bin'])\n",
    "df = df.groupby('Time Bin', sort=True).mean().reset_index()\n",
    "df"
   ]
  },
  {
   "cell_type": "code",
   "execution_count": 12,
   "metadata": {},
   "outputs": [
    {
     "data": {
      "text/plain": [
       "DatetimeIndex(['2024-02-15 14:00:00', '2024-02-15 14:15:00',\n",
       "               '2024-02-15 14:30:00', '2024-02-15 14:45:00',\n",
       "               '2024-02-15 15:00:00', '2024-02-15 15:15:00',\n",
       "               '2024-02-15 15:30:00', '2024-02-15 15:45:00',\n",
       "               '2024-02-15 16:00:00', '2024-02-15 16:15:00',\n",
       "               ...\n",
       "               '2024-11-11 08:45:00', '2024-11-11 09:00:00',\n",
       "               '2024-11-11 09:15:00', '2024-11-11 09:30:00',\n",
       "               '2024-11-11 09:45:00', '2024-11-11 10:00:00',\n",
       "               '2024-11-11 10:15:00', '2024-11-11 10:30:00',\n",
       "               '2024-11-11 10:45:00', '2024-11-11 11:00:00'],\n",
       "              dtype='datetime64[ns]', name='Time Bin', length=17814, freq=None)"
      ]
     },
     "execution_count": 12,
     "metadata": {},
     "output_type": "execute_result"
    }
   ],
   "source": [
    "total_energy.set_index('Timestamp', inplace=True)\n",
    "df.set_index('Time Bin', inplace=True)\n",
    "final_df = total_energy.join(df, how = 'left', lsuffix='out_', rsuffix='in_')"
   ]
  },
  {
   "cell_type": "code",
   "execution_count": 25,
   "metadata": {},
   "outputs": [
    {
     "name": "stderr",
     "output_type": "stream",
     "text": [
      "/home/stelios-pc/Desktop/PhD/HALCOR/dataset.py:138: FutureWarning: DataFrame.applymap has been deprecated. Use DataFrame.map instead.\n",
      "  df = df.applymap(lambda x : np.nan if x == '-' else x) # convert - into nan so later can be filled with 'fillna' later\n",
      "/home/stelios-pc/Desktop/PhD/HALCOR/dataset.py:138: FutureWarning: DataFrame.applymap has been deprecated. Use DataFrame.map instead.\n",
      "  df = df.applymap(lambda x : np.nan if x == '-' else x) # convert - into nan so later can be filled with 'fillna' later\n",
      "/home/stelios-pc/Desktop/PhD/HALCOR/dataset.py:138: FutureWarning: DataFrame.applymap has been deprecated. Use DataFrame.map instead.\n",
      "  df = df.applymap(lambda x : np.nan if x == '-' else x) # convert - into nan so later can be filled with 'fillna' later\n",
      "/home/stelios-pc/Desktop/PhD/HALCOR/dataset.py:138: FutureWarning: DataFrame.applymap has been deprecated. Use DataFrame.map instead.\n",
      "  df = df.applymap(lambda x : np.nan if x == '-' else x) # convert - into nan so later can be filled with 'fillna' later\n",
      "/home/stelios-pc/Desktop/PhD/HALCOR/dataset.py:138: FutureWarning: DataFrame.applymap has been deprecated. Use DataFrame.map instead.\n",
      "  df = df.applymap(lambda x : np.nan if x == '-' else x) # convert - into nan so later can be filled with 'fillna' later\n",
      "/home/stelios-pc/Desktop/PhD/HALCOR/dataset.py:138: FutureWarning: DataFrame.applymap has been deprecated. Use DataFrame.map instead.\n",
      "  df = df.applymap(lambda x : np.nan if x == '-' else x) # convert - into nan so later can be filled with 'fillna' later\n",
      "/home/stelios-pc/Desktop/PhD/HALCOR/dataset.py:138: FutureWarning: DataFrame.applymap has been deprecated. Use DataFrame.map instead.\n",
      "  df = df.applymap(lambda x : np.nan if x == '-' else x) # convert - into nan so later can be filled with 'fillna' later\n",
      "/home/stelios-pc/Desktop/PhD/HALCOR/dataset.py:138: FutureWarning: DataFrame.applymap has been deprecated. Use DataFrame.map instead.\n",
      "  df = df.applymap(lambda x : np.nan if x == '-' else x) # convert - into nan so later can be filled with 'fillna' later\n",
      "/home/stelios-pc/Desktop/PhD/HALCOR/dataset.py:138: FutureWarning: DataFrame.applymap has been deprecated. Use DataFrame.map instead.\n",
      "  df = df.applymap(lambda x : np.nan if x == '-' else x) # convert - into nan so later can be filled with 'fillna' later\n",
      "/home/stelios-pc/Desktop/PhD/HALCOR/dataset.py:175: FutureWarning: 'w' is deprecated and will be removed in a future version, please use 'W' instead.\n",
      "  self.energy_data = self.energy_data.resample(self.resample_flag, closed='right', label='right').sum()\n"
     ]
    }
   ],
   "source": [
    "import sys\n",
    "from dataset import Dataset\n",
    "\n",
    "data = Dataset('1w')\n",
    "data = data.preprocess()"
   ]
  },
  {
   "cell_type": "code",
   "execution_count": 26,
   "metadata": {},
   "outputs": [
    {
     "name": "stdout",
     "output_type": "stream",
     "text": [
      "Percentage of missing values in column 'Timestamp': 0.00%\n",
      "Percentage of missing values in column 'diff': 0.00%\n",
      "Percentage of missing values in column 'DB   10DBW  196  hp pressure pump': 22.00%\n",
      "Percentage of missing values in column 'DB   10DBW   84   HP PRESSURE  accu': 22.00%\n",
      "Percentage of missing values in column 'DB  610DBW   12  relif valve': 22.00%\n",
      "Percentage of missing values in column 'DB   30DBW   20  ramposition': 22.00%\n",
      "Percentage of missing values in column 'DB   10DBW    6  ram press rign side': 22.00%\n",
      "Percentage of missing values in column 'DB   10DBW    2   main pressure': 22.00%\n",
      "Percentage of missing values in column 'DB   10DBW    4   ram pressure piston side': 22.00%\n",
      "Percentage of missing values in column 'DB   30DBW   42  mand in ram': 22.00%\n",
      "Percentage of missing values in column 'DB   30DBW   40   mand position': 22.00%\n",
      "Percentage of missing values in column 'DB   10DBW   12   FORWARD PRESS': 22.00%\n",
      "Percentage of missing values in column 'DB   10DBW   14  BACKWARD PRESS': 22.00%\n",
      "Percentage of missing values in column 'DB   30DBW   80 v  cont position': 22.00%\n",
      "Percentage of missing values in column 'DB   10DBW    8  cont for press': 22.00%\n",
      "Percentage of missing values in column 'DB   10DBW   10  cont bkw press': 22.00%\n",
      "Percentage of missing values in column 'DB  301DBW   90  ram speed': 22.00%\n",
      "Percentage of missing values in column 'DB  371DBW   44  setpoint pump': 22.00%\n",
      "Percentage of missing values in column 'DB   13DBW    2': 30.00%\n",
      "Percentage of missing values in column 'DB  301DBW  134   puller speed': 22.00%\n",
      "Percentage of missing values in column 'DB  301DBW  110   puller position': 22.00%\n",
      "Percentage of missing values in column 'DB   13DBW    4  set torque': 22.00%\n",
      "Percentage of missing values in column 'DB 1260DBD  100   TOOL SLIDE POSITION': 22.00%\n",
      "Percentage of missing values in column 'DB   30DBW  140  DISCHARGER POSITION': 22.00%\n",
      "Percentage of missing values in column 'DB 1300DBW    0   step ram': 22.00%\n",
      "Percentage of missing values in column 'DB 1300DBW    2   step mand': 22.00%\n",
      "Percentage of missing values in column 'DB 1300DBW    4  step cont': 22.00%\n",
      "Percentage of missing values in column 'DB  301DBW   98   billet counter': 22.00%\n",
      "Percentage of missing values in column 'DB   10DBW   90   metritis azotoy': 22.00%\n",
      "Percentage of missing values in column 'MW   970': 30.00%\n",
      "Percentage of missing values in column 'MW   972': 30.00%\n"
     ]
    }
   ],
   "source": [
    "for column in data.columns:\n",
    "    missing_percentage = data[column].isnull().mean() * 100\n",
    "    print(f\"Percentage of missing values in column '{column}': {missing_percentage:.2f}%\")"
   ]
  }
 ],
 "metadata": {
  "kernelspec": {
   "display_name": "tensorflow_gpu",
   "language": "python",
   "name": "python3"
  },
  "language_info": {
   "codemirror_mode": {
    "name": "ipython",
    "version": 3
   },
   "file_extension": ".py",
   "mimetype": "text/x-python",
   "name": "python",
   "nbconvert_exporter": "python",
   "pygments_lexer": "ipython3",
   "version": "3.12.2"
  }
 },
 "nbformat": 4,
 "nbformat_minor": 2
}
