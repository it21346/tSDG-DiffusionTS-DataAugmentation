{
 "cells": [
  {
   "cell_type": "markdown",
   "metadata": {},
   "source": [
    "# TimeGAN Tutorial\n",
    "\n",
    "## Time-series Generative Adversarial Networks\n",
    "\n",
    "- Paper: Jinsung Yoon, Daniel Jarrett, Mihaela van der Schaar, \"Time-series Generative Adversarial Networks,\" Neural Information Processing Systems (NeurIPS), 2019.\n",
    "\n",
    "- Paper link: https://papers.nips.cc/paper/8789-time-series-generative-adversarial-networks\n",
    "\n",
    "- Last updated Date: April 24th 2020\n",
    "\n",
    "- Code author: Jinsung Yoon (jsyoon0823@gmail.com)\n",
    "\n",
    "This notebook describes the user-guide of a time-series synthetic data generation application using timeGAN framework. We use Stock, Energy, and Sine dataset as examples.\n",
    "\n",
    "### Prerequisite\n",
    "Clone https://github.com/jsyoon0823/timeGAN.git to the current directory."
   ]
  },
  {
   "cell_type": "markdown",
   "metadata": {},
   "source": [
    "## Necessary packages and functions call\n",
    "\n",
    "- timegan: Synthetic time-series data generation module\n",
    "- data_loading: 2 real datasets and 1 synthetic datasets loading and preprocessing\n",
    "- metrics: \n",
    "    - discriminative_metrics: classify real data from synthetic data\n",
    "    - predictive_metrics: train on synthetic, test on real\n",
    "    - visualization: PCA and tSNE analyses"
   ]
  },
  {
   "cell_type": "code",
   "execution_count": 1,
   "metadata": {},
   "outputs": [
    {
     "name": "stderr",
     "output_type": "stream",
     "text": [
      "\u001b[34m\u001b[1mwandb\u001b[0m: Using wandb-core as the SDK backend.  Please refer to https://wandb.me/wandb-core for more information.\n",
      "\u001b[34m\u001b[1mwandb\u001b[0m: Currently logged in as: \u001b[33msteliobompai\u001b[0m (\u001b[33msynthetic-data-gan\u001b[0m). Use \u001b[1m`wandb login --relogin`\u001b[0m to force relogin\n"
     ]
    }
   ],
   "source": [
    "## Necessary packages\n",
    "from __future__ import absolute_import\n",
    "from __future__ import division\n",
    "from __future__ import print_function\n",
    "\n",
    "import numpy as np\n",
    "import matplotlib.pyplot as plt\n",
    "import warnings\n",
    "warnings.filterwarnings(\"ignore\")\n",
    "import wandb\n",
    "wandb.login()\n",
    "# 1. TimeGAN model\n",
    "from timegan import timegan\n",
    "# 2. Data loading\n",
    "from data_loading import real_data_loading, sine_data_generation\n",
    "# 3. Metrics\n",
    "from metrics.discriminative_metrics import discriminative_score_metrics\n",
    "from metrics.predictive_metrics import predictive_score_metrics\n",
    "from metrics.visualization_metrics import visualization"
   ]
  },
  {
   "cell_type": "markdown",
   "metadata": {},
   "source": [
    "# Training pipeline for TimeGAN with W&B logging"
   ]
  },
  {
   "cell_type": "code",
   "execution_count": 2,
   "metadata": {},
   "outputs": [],
   "source": [
    "def training_TimeGAN(config):\n",
    "\n",
    "    parameters = {\n",
    "        'data_name': config.data_name,\n",
    "        'seq_len': config.seq_len,\n",
    "        'batch_size': config.batch_size,\n",
    "        'module': config.module,\n",
    "        'hidden_dim': config.hidden_dim,\n",
    "        'num_layer': config.num_layer,\n",
    "        'iterations': config.iterations,\n",
    "        'embed_iterr': config.embed_iterr,\n",
    "        'num_train_G': config.num_train_G\n",
    "    }\n",
    "    if config.data_name in ['stock', 'energy', 'halcor']:\n",
    "        ori_data = real_data_loading(parameters['data_name'], parameters['seq_len'])\n",
    "    print(parameters['data_name'] + ' dataset is ready.')\n",
    "\n",
    "    generated_data = timegan(ori_data, parameters)   \n",
    "    print('Finish Synthetic Data Generation')\n",
    "\n",
    "    # Visualization\n",
    "    metric_iteration = 5\n",
    "    discriminative_score = list()\n",
    "    for _ in range(metric_iteration):\n",
    "        temp_disc = discriminative_score_metrics(ori_data, generated_data)\n",
    "        discriminative_score.append(temp_disc)\n",
    "\n",
    "\n",
    "    predictive_score = list()\n",
    "    for tt in range(metric_iteration):\n",
    "        temp_pred = predictive_score_metrics(ori_data, generated_data)\n",
    "        predictive_score.append(temp_pred)\n",
    "        \n",
    "    wandb.log(\n",
    "        {'Discriminative score': np.round(np.mean(discriminative_score), 4),\n",
    "         'Predictive score': np.round(np.mean(predictive_score), 4)\n",
    "        })\n",
    "    \n",
    "    f_pca = visualization(ori_data, generated_data, 'pca')\n",
    "    f_tsne = visualization(ori_data, generated_data, 'tsne')\n",
    "\n",
    "    wandb.log({\n",
    "        \"PCA Plot\": wandb.Image(f_pca),\n",
    "        \"t-SNE Plot\": wandb.Image(f_tsne)\n",
    "    })\n",
    "\n",
    "    plt.close(f_pca)\n",
    "    plt.close(f_tsne)\n"
   ]
  },
  {
   "cell_type": "code",
   "execution_count": 3,
   "metadata": {},
   "outputs": [
    {
     "name": "stdout",
     "output_type": "stream",
     "text": [
      "Create sweep with ID: g2o9cbdw\n",
      "Sweep URL: https://wandb.ai/synthetic-data-gan/TimeGAN_Experiments/sweeps/g2o9cbdw\n"
     ]
    },
    {
     "name": "stderr",
     "output_type": "stream",
     "text": [
      "\u001b[34m\u001b[1mwandb\u001b[0m: Agent Starting Run: hdwfc4qo with config:\n",
      "\u001b[34m\u001b[1mwandb\u001b[0m: \tbatch_size: 128\n",
      "\u001b[34m\u001b[1mwandb\u001b[0m: \tdata_name: energy\n",
      "\u001b[34m\u001b[1mwandb\u001b[0m: \tembed_iterr: 10000\n",
      "\u001b[34m\u001b[1mwandb\u001b[0m: \thidden_dim: 112\n",
      "\u001b[34m\u001b[1mwandb\u001b[0m: \titerations: 50000\n",
      "\u001b[34m\u001b[1mwandb\u001b[0m: \tmodule: gru\n",
      "\u001b[34m\u001b[1mwandb\u001b[0m: \tnum_layer: 3\n",
      "\u001b[34m\u001b[1mwandb\u001b[0m: \tnum_train_G: 2\n",
      "\u001b[34m\u001b[1mwandb\u001b[0m: \tseq_len: 24\n"
     ]
    },
    {
     "data": {
      "text/html": [
       "Tracking run with wandb version 0.18.7"
      ],
      "text/plain": [
       "<IPython.core.display.HTML object>"
      ]
     },
     "metadata": {},
     "output_type": "display_data"
    },
    {
     "data": {
      "text/html": [
       "Run data is saved locally in <code>/home/stelios-pc/Desktop/PhD/PhD/Generative Adversarial Networks/Code/TimeGAN/wandb/run-20250630_035238-hdwfc4qo</code>"
      ],
      "text/plain": [
       "<IPython.core.display.HTML object>"
      ]
     },
     "metadata": {},
     "output_type": "display_data"
    },
    {
     "data": {
      "text/html": [
       "Syncing run <strong><a href='https://wandb.ai/synthetic-data-gan/TimeGAN_Experiments/runs/hdwfc4qo' target=\"_blank\">restful-sweep-1</a></strong> to <a href='https://wandb.ai/synthetic-data-gan/TimeGAN_Experiments' target=\"_blank\">Weights & Biases</a> (<a href='https://wandb.me/developer-guide' target=\"_blank\">docs</a>)<br/>Sweep page: <a href='https://wandb.ai/synthetic-data-gan/TimeGAN_Experiments/sweeps/g2o9cbdw' target=\"_blank\">https://wandb.ai/synthetic-data-gan/TimeGAN_Experiments/sweeps/g2o9cbdw</a>"
      ],
      "text/plain": [
       "<IPython.core.display.HTML object>"
      ]
     },
     "metadata": {},
     "output_type": "display_data"
    },
    {
     "data": {
      "text/html": [
       " View project at <a href='https://wandb.ai/synthetic-data-gan/TimeGAN_Experiments' target=\"_blank\">https://wandb.ai/synthetic-data-gan/TimeGAN_Experiments</a>"
      ],
      "text/plain": [
       "<IPython.core.display.HTML object>"
      ]
     },
     "metadata": {},
     "output_type": "display_data"
    },
    {
     "data": {
      "text/html": [
       " View sweep at <a href='https://wandb.ai/synthetic-data-gan/TimeGAN_Experiments/sweeps/g2o9cbdw' target=\"_blank\">https://wandb.ai/synthetic-data-gan/TimeGAN_Experiments/sweeps/g2o9cbdw</a>"
      ],
      "text/plain": [
       "<IPython.core.display.HTML object>"
      ]
     },
     "metadata": {},
     "output_type": "display_data"
    },
    {
     "data": {
      "text/html": [
       " View run at <a href='https://wandb.ai/synthetic-data-gan/TimeGAN_Experiments/runs/hdwfc4qo' target=\"_blank\">https://wandb.ai/synthetic-data-gan/TimeGAN_Experiments/runs/hdwfc4qo</a>"
      ],
      "text/plain": [
       "<IPython.core.display.HTML object>"
      ]
     },
     "metadata": {},
     "output_type": "display_data"
    },
    {
     "name": "stderr",
     "output_type": "stream",
     "text": [
      "\u001b[34m\u001b[1mwandb\u001b[0m: \u001b[33mWARNING\u001b[0m Calling wandb.run.save without any arguments is deprecated.Changes to attributes are automatically persisted.\n"
     ]
    },
    {
     "name": "stdout",
     "output_type": "stream",
     "text": [
      "energy dataset is ready.\n",
      "WARNING:tensorflow:From /home/stelios-pc/Desktop/PhD/PhD/Generative Adversarial Networks/Code/TimeGAN/timegan.py:38: The name tf.reset_default_graph is deprecated. Please use tf.compat.v1.reset_default_graph instead.\n",
      "\n",
      "WARNING:tensorflow:From /home/stelios-pc/Desktop/PhD/PhD/Generative Adversarial Networks/Code/TimeGAN/timegan.py:82: The name tf.placeholder is deprecated. Please use tf.compat.v1.placeholder instead.\n",
      "\n",
      "WARNING:tensorflow:From /home/stelios-pc/Desktop/PhD/PhD/Generative Adversarial Networks/Code/TimeGAN/timegan.py:96: The name tf.variable_scope is deprecated. Please use tf.compat.v1.variable_scope instead.\n",
      "\n",
      "WARNING:tensorflow:From /home/stelios-pc/Desktop/PhD/PhD/Generative Adversarial Networks/Code/TimeGAN/timegan.py:96: The name tf.AUTO_REUSE is deprecated. Please use tf.compat.v1.AUTO_REUSE instead.\n",
      "\n",
      "WARNING:tensorflow:From /home/stelios-pc/Desktop/PhD/PhD/Generative Adversarial Networks/Code/TimeGAN/utils.py:95: GRUCell.__init__ (from tensorflow.python.ops.rnn_cell_impl) is deprecated and will be removed in a future version.\n",
      "Instructions for updating:\n",
      "This class is equivalent as tf.keras.layers.GRUCell, and will be replaced by that in Tensorflow 2.0.\n",
      "WARNING:tensorflow:From /home/stelios-pc/Desktop/PhD/PhD/Generative Adversarial Networks/Code/TimeGAN/timegan.py:97: MultiRNNCell.__init__ (from tensorflow.python.ops.rnn_cell_impl) is deprecated and will be removed in a future version.\n",
      "Instructions for updating:\n",
      "This class is equivalent as tf.keras.layers.StackedRNNCells, and will be replaced by that in Tensorflow 2.0.\n",
      "WARNING:tensorflow:From /home/stelios-pc/Desktop/PhD/PhD/Generative Adversarial Networks/Code/TimeGAN/timegan.py:98: dynamic_rnn (from tensorflow.python.ops.rnn) is deprecated and will be removed in a future version.\n",
      "Instructions for updating:\n",
      "Please use `keras.layers.RNN(cell)`, which is equivalent to this API\n",
      "WARNING:tensorflow:From /home/stelios-pc/anaconda3/envs/TimeGAN/lib/python3.7/site-packages/tensorflow_core/python/ops/rnn_cell_impl.py:559: Layer.add_variable (from tensorflow.python.keras.engine.base_layer) is deprecated and will be removed in a future version.\n",
      "Instructions for updating:\n",
      "Please use `layer.add_weight` method instead.\n",
      "WARNING:tensorflow:From /home/stelios-pc/anaconda3/envs/TimeGAN/lib/python3.7/site-packages/tensorflow_core/python/ops/rnn_cell_impl.py:565: calling Constant.__init__ (from tensorflow.python.ops.init_ops) with dtype is deprecated and will be removed in a future version.\n",
      "Instructions for updating:\n",
      "Call initializer instance with the dtype argument instead of passing it to the constructor\n",
      "WARNING:tensorflow:From /home/stelios-pc/anaconda3/envs/TimeGAN/lib/python3.7/site-packages/tensorflow_core/python/ops/rnn_cell_impl.py:575: calling Zeros.__init__ (from tensorflow.python.ops.init_ops) with dtype is deprecated and will be removed in a future version.\n",
      "Instructions for updating:\n",
      "Call initializer instance with the dtype argument instead of passing it to the constructor\n",
      "WARNING:tensorflow:From /home/stelios-pc/anaconda3/envs/TimeGAN/lib/python3.7/site-packages/tensorflow_core/python/ops/rnn.py:244: where (from tensorflow.python.ops.array_ops) is deprecated and will be removed in a future version.\n",
      "Instructions for updating:\n",
      "Use tf.where in 2.0, which has the same broadcast rule as np.where\n",
      "WARNING:tensorflow:\n",
      "The TensorFlow contrib module will not be included in TensorFlow 2.0.\n",
      "For more information, please see:\n",
      "  * https://github.com/tensorflow/community/blob/master/rfcs/20180907-contrib-sunset.md\n",
      "  * https://github.com/tensorflow/addons\n",
      "  * https://github.com/tensorflow/io (for I/O related ops)\n",
      "If you depend on functionality not listed there, please file an issue.\n",
      "\n",
      "WARNING:tensorflow:From /home/stelios-pc/anaconda3/envs/TimeGAN/lib/python3.7/site-packages/tensorflow_core/contrib/layers/python/layers/layers.py:1866: Layer.apply (from tensorflow.python.keras.engine.base_layer) is deprecated and will be removed in a future version.\n",
      "Instructions for updating:\n",
      "Please use `layer.__call__` method instead.\n",
      "WARNING:tensorflow:From /home/stelios-pc/Desktop/PhD/PhD/Generative Adversarial Networks/Code/TimeGAN/timegan.py:184: The name tf.trainable_variables is deprecated. Please use tf.compat.v1.trainable_variables instead.\n",
      "\n",
      "WARNING:tensorflow:From /home/stelios-pc/Desktop/PhD/PhD/Generative Adversarial Networks/Code/TimeGAN/timegan.py:191: The name tf.losses.sigmoid_cross_entropy is deprecated. Please use tf.compat.v1.losses.sigmoid_cross_entropy instead.\n",
      "\n",
      "WARNING:tensorflow:From /home/stelios-pc/Desktop/PhD/PhD/Generative Adversarial Networks/Code/TimeGAN/timegan.py:202: The name tf.losses.mean_squared_error is deprecated. Please use tf.compat.v1.losses.mean_squared_error instead.\n",
      "\n",
      "WARNING:tensorflow:From /home/stelios-pc/Desktop/PhD/PhD/Generative Adversarial Networks/Code/TimeGAN/timegan.py:219: The name tf.train.AdamOptimizer is deprecated. Please use tf.compat.v1.train.AdamOptimizer instead.\n",
      "\n",
      "WARNING:tensorflow:From /home/stelios-pc/Desktop/PhD/PhD/Generative Adversarial Networks/Code/TimeGAN/timegan.py:226: The name tf.Session is deprecated. Please use tf.compat.v1.Session instead.\n",
      "\n",
      "WARNING:tensorflow:From /home/stelios-pc/Desktop/PhD/PhD/Generative Adversarial Networks/Code/TimeGAN/timegan.py:227: The name tf.global_variables_initializer is deprecated. Please use tf.compat.v1.global_variables_initializer instead.\n",
      "\n"
     ]
    },
    {
     "name": "stderr",
     "output_type": "stream",
     "text": [
      "2025-06-30 03:52:43.671380: I tensorflow/stream_executor/platform/default/dso_loader.cc:44] Successfully opened dynamic library libcuda.so.1\n",
      "2025-06-30 03:52:43.675947: I tensorflow/stream_executor/cuda/cuda_gpu_executor.cc:983] successful NUMA node read from SysFS had negative value (-1), but there must be at least one NUMA node, so returning NUMA node zero\n",
      "2025-06-30 03:52:43.676035: I tensorflow/core/common_runtime/gpu/gpu_device.cc:1618] Found device 0 with properties: \n",
      "name: NVIDIA GeForce RTX 3080 major: 8 minor: 6 memoryClockRate(GHz): 1.8\n",
      "pciBusID: 0000:01:00.0\n",
      "2025-06-30 03:52:43.676083: W tensorflow/stream_executor/platform/default/dso_loader.cc:55] Could not load dynamic library 'libcudart.so.10.0'; dlerror: libcudart.so.10.0: cannot open shared object file: No such file or directory\n",
      "2025-06-30 03:52:43.676117: W tensorflow/stream_executor/platform/default/dso_loader.cc:55] Could not load dynamic library 'libcublas.so.10.0'; dlerror: libcublas.so.10.0: cannot open shared object file: No such file or directory\n",
      "2025-06-30 03:52:43.676147: W tensorflow/stream_executor/platform/default/dso_loader.cc:55] Could not load dynamic library 'libcufft.so.10.0'; dlerror: libcufft.so.10.0: cannot open shared object file: No such file or directory\n",
      "2025-06-30 03:52:43.676177: W tensorflow/stream_executor/platform/default/dso_loader.cc:55] Could not load dynamic library 'libcurand.so.10.0'; dlerror: libcurand.so.10.0: cannot open shared object file: No such file or directory\n",
      "2025-06-30 03:52:43.676208: W tensorflow/stream_executor/platform/default/dso_loader.cc:55] Could not load dynamic library 'libcusolver.so.10.0'; dlerror: libcusolver.so.10.0: cannot open shared object file: No such file or directory\n",
      "2025-06-30 03:52:43.676237: W tensorflow/stream_executor/platform/default/dso_loader.cc:55] Could not load dynamic library 'libcusparse.so.10.0'; dlerror: libcusparse.so.10.0: cannot open shared object file: No such file or directory\n",
      "2025-06-30 03:52:43.676267: W tensorflow/stream_executor/platform/default/dso_loader.cc:55] Could not load dynamic library 'libcudnn.so.7'; dlerror: libcudnn.so.7: cannot open shared object file: No such file or directory\n",
      "2025-06-30 03:52:43.676271: W tensorflow/core/common_runtime/gpu/gpu_device.cc:1641] Cannot dlopen some GPU libraries. Please make sure the missing libraries mentioned above are installed properly if you would like to use GPU. Follow the guide at https://www.tensorflow.org/install/gpu for how to download and setup the required libraries for your platform.\n",
      "Skipping registering GPU devices...\n",
      "2025-06-30 03:52:43.676657: I tensorflow/core/platform/cpu_feature_guard.cc:142] Your CPU supports instructions that this TensorFlow binary was not compiled to use: AVX2 AVX512F FMA\n",
      "2025-06-30 03:52:43.680395: I tensorflow/core/platform/profile_utils/cpu_utils.cc:94] CPU Frequency: 3792625000 Hz\n",
      "2025-06-30 03:52:43.680858: I tensorflow/compiler/xla/service/service.cc:168] XLA service 0x70f8241394f0 initialized for platform Host (this does not guarantee that XLA will be used). Devices:\n",
      "2025-06-30 03:52:43.680868: I tensorflow/compiler/xla/service/service.cc:176]   StreamExecutor device (0): Host, Default Version\n",
      "2025-06-30 03:52:43.715889: I tensorflow/stream_executor/cuda/cuda_gpu_executor.cc:983] successful NUMA node read from SysFS had negative value (-1), but there must be at least one NUMA node, so returning NUMA node zero\n",
      "2025-06-30 03:52:43.716050: I tensorflow/compiler/xla/service/service.cc:168] XLA service 0x70f824133b40 initialized for platform CUDA (this does not guarantee that XLA will be used). Devices:\n",
      "2025-06-30 03:52:43.716065: I tensorflow/compiler/xla/service/service.cc:176]   StreamExecutor device (0): NVIDIA GeForce RTX 3080, Compute Capability 8.6\n",
      "2025-06-30 03:52:43.716152: I tensorflow/core/common_runtime/gpu/gpu_device.cc:1159] Device interconnect StreamExecutor with strength 1 edge matrix:\n",
      "2025-06-30 03:52:43.716158: I tensorflow/core/common_runtime/gpu/gpu_device.cc:1165]      \n"
     ]
    },
    {
     "name": "stdout",
     "output_type": "stream",
     "text": [
      "Start Embedding Network Training\n",
      "step: 0/10000, e_loss: 0.24\n",
      "step: 1000/10000, e_loss: 0.0488\n",
      "step: 2000/10000, e_loss: 0.0303\n",
      "step: 3000/10000, e_loss: 0.0219\n",
      "step: 4000/10000, e_loss: 0.0183\n",
      "step: 5000/10000, e_loss: 0.0161\n",
      "step: 6000/10000, e_loss: 0.0133\n",
      "step: 7000/10000, e_loss: 0.013\n",
      "step: 8000/10000, e_loss: 0.0112\n",
      "step: 9000/10000, e_loss: 0.0108\n",
      "Finish Embedding Network Training\n",
      "Start Training with Supervised Loss Only\n",
      "step: 0/10000, s_loss: 0.2527\n",
      "step: 1000/10000, s_loss: 0.0389\n",
      "step: 2000/10000, s_loss: 0.0373\n",
      "step: 3000/10000, s_loss: 0.0367\n",
      "step: 4000/10000, s_loss: 0.0365\n",
      "step: 5000/10000, s_loss: 0.0349\n",
      "step: 6000/10000, s_loss: 0.0345\n",
      "step: 7000/10000, s_loss: 0.0322\n",
      "step: 8000/10000, s_loss: 0.0306\n",
      "step: 9000/10000, s_loss: 0.0293\n",
      "Finish Training with Supervised Loss Only\n",
      "Start Joint Training\n",
      "step: 0/50000, d_loss: 1.9302, g_loss_u: 0.8197, g_loss_s: 0.0505, g_loss_v: 0.2943, e_loss_t0: 0.1122\n",
      "step: 1000/50000, d_loss: 0.9976, g_loss_u: 1.2972, g_loss_s: 0.0425, g_loss_v: 0.045, e_loss_t0: 0.0082\n",
      "step: 2000/50000, d_loss: 1.2745, g_loss_u: 1.5417, g_loss_s: 0.039, g_loss_v: 0.0322, e_loss_t0: 0.0068\n",
      "step: 3000/50000, d_loss: 1.7176, g_loss_u: 1.0794, g_loss_s: 0.0535, g_loss_v: 0.0549, e_loss_t0: 0.0064\n",
      "step: 4000/50000, d_loss: 1.4328, g_loss_u: 1.2318, g_loss_s: 0.0392, g_loss_v: 0.0561, e_loss_t0: 0.0066\n",
      "step: 5000/50000, d_loss: 1.5909, g_loss_u: 1.6692, g_loss_s: 0.0372, g_loss_v: 0.0362, e_loss_t0: 0.0052\n",
      "step: 6000/50000, d_loss: 1.7296, g_loss_u: 1.4239, g_loss_s: 0.0388, g_loss_v: 0.038, e_loss_t0: 0.0048\n",
      "step: 7000/50000, d_loss: 1.4113, g_loss_u: 1.4123, g_loss_s: 0.0408, g_loss_v: 0.0426, e_loss_t0: 0.0051\n",
      "step: 8000/50000, d_loss: 1.4275, g_loss_u: 1.3238, g_loss_s: 0.0386, g_loss_v: 0.0428, e_loss_t0: 0.0048\n",
      "step: 9000/50000, d_loss: 1.3778, g_loss_u: 1.1874, g_loss_s: 0.0414, g_loss_v: 0.0461, e_loss_t0: 0.0052\n",
      "step: 10000/50000, d_loss: 1.5054, g_loss_u: 1.5515, g_loss_s: 0.0378, g_loss_v: 0.0437, e_loss_t0: 0.0044\n",
      "step: 11000/50000, d_loss: 1.2583, g_loss_u: 1.374, g_loss_s: 0.0372, g_loss_v: 0.0289, e_loss_t0: 0.0046\n",
      "step: 12000/50000, d_loss: 1.2465, g_loss_u: 1.5445, g_loss_s: 0.0391, g_loss_v: 0.0378, e_loss_t0: 0.0043\n",
      "step: 13000/50000, d_loss: 1.1158, g_loss_u: 1.6548, g_loss_s: 0.0391, g_loss_v: 0.0435, e_loss_t0: 0.004\n",
      "step: 14000/50000, d_loss: 1.0819, g_loss_u: 1.7119, g_loss_s: 0.0388, g_loss_v: 0.0258, e_loss_t0: 0.0041\n",
      "step: 15000/50000, d_loss: 1.1897, g_loss_u: 1.909, g_loss_s: 0.0385, g_loss_v: 0.0282, e_loss_t0: 0.004\n",
      "step: 16000/50000, d_loss: 0.8071, g_loss_u: 1.9174, g_loss_s: 0.0397, g_loss_v: 0.0271, e_loss_t0: 0.0037\n",
      "step: 17000/50000, d_loss: 0.8258, g_loss_u: 2.3703, g_loss_s: 0.0388, g_loss_v: 0.0444, e_loss_t0: 0.0035\n",
      "step: 18000/50000, d_loss: 1.0038, g_loss_u: 2.4242, g_loss_s: 0.0374, g_loss_v: 0.0261, e_loss_t0: 0.0039\n",
      "step: 19000/50000, d_loss: 0.9274, g_loss_u: 2.1982, g_loss_s: 0.038, g_loss_v: 0.0278, e_loss_t0: 0.0042\n",
      "step: 20000/50000, d_loss: 0.8396, g_loss_u: 2.4863, g_loss_s: 0.0365, g_loss_v: 0.0462, e_loss_t0: 0.0037\n",
      "step: 21000/50000, d_loss: 0.9506, g_loss_u: 2.2916, g_loss_s: 0.0371, g_loss_v: 0.0323, e_loss_t0: 0.0038\n",
      "step: 22000/50000, d_loss: 0.9654, g_loss_u: 2.4218, g_loss_s: 0.0365, g_loss_v: 0.0355, e_loss_t0: 0.0035\n",
      "step: 23000/50000, d_loss: 0.9312, g_loss_u: 2.2832, g_loss_s: 0.0362, g_loss_v: 0.0382, e_loss_t0: 0.0034\n",
      "step: 24000/50000, d_loss: 0.9182, g_loss_u: 2.6696, g_loss_s: 0.037, g_loss_v: 0.0379, e_loss_t0: 0.0033\n",
      "step: 25000/50000, d_loss: 1.2416, g_loss_u: 1.9645, g_loss_s: 0.036, g_loss_v: 0.0255, e_loss_t0: 0.0034\n",
      "step: 26000/50000, d_loss: 0.763, g_loss_u: 2.1706, g_loss_s: 0.036, g_loss_v: 0.0329, e_loss_t0: 0.0034\n",
      "step: 27000/50000, d_loss: 0.7975, g_loss_u: 2.4155, g_loss_s: 0.0356, g_loss_v: 0.0558, e_loss_t0: 0.0035\n",
      "step: 28000/50000, d_loss: 0.872, g_loss_u: 2.4027, g_loss_s: 0.0348, g_loss_v: 0.0315, e_loss_t0: 0.0031\n",
      "step: 29000/50000, d_loss: 1.1338, g_loss_u: 2.4981, g_loss_s: 0.0358, g_loss_v: 0.0393, e_loss_t0: 0.0039\n",
      "step: 30000/50000, d_loss: 0.705, g_loss_u: 2.4171, g_loss_s: 0.034, g_loss_v: 0.0346, e_loss_t0: 0.0035\n",
      "step: 31000/50000, d_loss: 0.7993, g_loss_u: 2.4339, g_loss_s: 0.0337, g_loss_v: 0.0355, e_loss_t0: 0.0029\n",
      "step: 32000/50000, d_loss: 1.0102, g_loss_u: 1.9356, g_loss_s: 0.0352, g_loss_v: 0.0229, e_loss_t0: 0.0032\n",
      "step: 33000/50000, d_loss: 0.9258, g_loss_u: 2.5424, g_loss_s: 0.0333, g_loss_v: 0.031, e_loss_t0: 0.0033\n",
      "step: 34000/50000, d_loss: 0.791, g_loss_u: 2.6406, g_loss_s: 0.0341, g_loss_v: 0.0315, e_loss_t0: 0.003\n",
      "step: 35000/50000, d_loss: 0.7786, g_loss_u: 2.4719, g_loss_s: 0.0341, g_loss_v: 0.0267, e_loss_t0: 0.003\n",
      "step: 36000/50000, d_loss: 0.7511, g_loss_u: 2.6491, g_loss_s: 0.0354, g_loss_v: 0.0391, e_loss_t0: 0.0032\n",
      "step: 37000/50000, d_loss: 0.5634, g_loss_u: 2.66, g_loss_s: 0.0342, g_loss_v: 0.0366, e_loss_t0: 0.0031\n",
      "step: 38000/50000, d_loss: 0.5187, g_loss_u: 3.1257, g_loss_s: 0.0375, g_loss_v: 0.0548, e_loss_t0: 0.0028\n",
      "step: 39000/50000, d_loss: 0.705, g_loss_u: 3.1992, g_loss_s: 0.065, g_loss_v: 0.033, e_loss_t0: 0.0028\n",
      "step: 40000/50000, d_loss: 0.7493, g_loss_u: 2.2583, g_loss_s: 0.0477, g_loss_v: 0.0361, e_loss_t0: 0.0032\n",
      "step: 41000/50000, d_loss: 0.6509, g_loss_u: 2.3298, g_loss_s: 0.0359, g_loss_v: 0.0304, e_loss_t0: 0.0029\n",
      "step: 42000/50000, d_loss: 0.8055, g_loss_u: 2.7681, g_loss_s: 0.0368, g_loss_v: 0.0296, e_loss_t0: 0.0026\n",
      "step: 43000/50000, d_loss: 0.68, g_loss_u: 2.5257, g_loss_s: 0.0382, g_loss_v: 0.0262, e_loss_t0: 0.0028\n",
      "step: 44000/50000, d_loss: 0.8563, g_loss_u: 3.0088, g_loss_s: 0.0353, g_loss_v: 0.0377, e_loss_t0: 0.0029\n",
      "step: 45000/50000, d_loss: 0.6713, g_loss_u: 2.8439, g_loss_s: 0.0465, g_loss_v: 0.0351, e_loss_t0: 0.0031\n",
      "step: 46000/50000, d_loss: 0.6762, g_loss_u: 2.8221, g_loss_s: 0.0377, g_loss_v: 0.0274, e_loss_t0: 0.0027\n",
      "step: 47000/50000, d_loss: 0.8248, g_loss_u: 2.5982, g_loss_s: 0.0376, g_loss_v: 0.0288, e_loss_t0: 0.003\n",
      "step: 48000/50000, d_loss: 1.0908, g_loss_u: 2.6099, g_loss_s: 0.0363, g_loss_v: 0.0302, e_loss_t0: 0.0028\n",
      "step: 49000/50000, d_loss: 0.5683, g_loss_u: 2.9805, g_loss_s: 0.037, g_loss_v: 0.0291, e_loss_t0: 0.0027\n",
      "Finish Joint Training\n",
      "Finish Synthetic Data Generation\n",
      "WARNING:tensorflow:From /home/stelios-pc/Desktop/PhD/PhD/Generative Adversarial Networks/Code/TimeGAN/metrics/discriminative_metrics.py:81: all_variables (from tensorflow.python.ops.variables) is deprecated and will be removed after 2017-03-02.\n",
      "Instructions for updating:\n",
      "Please use tf.global_variables instead.\n"
     ]
    },
    {
     "name": "stderr",
     "output_type": "stream",
     "text": [
      "2025-06-30 07:22:38.264554: I tensorflow/core/common_runtime/gpu/gpu_device.cc:1159] Device interconnect StreamExecutor with strength 1 edge matrix:\n",
      "2025-06-30 07:22:38.264576: I tensorflow/core/common_runtime/gpu/gpu_device.cc:1165]      \n",
      "2025-06-30 07:22:44.833310: I tensorflow/core/common_runtime/gpu/gpu_device.cc:1159] Device interconnect StreamExecutor with strength 1 edge matrix:\n",
      "2025-06-30 07:22:44.833330: I tensorflow/core/common_runtime/gpu/gpu_device.cc:1165]      \n",
      "2025-06-30 07:22:51.330237: I tensorflow/core/common_runtime/gpu/gpu_device.cc:1159] Device interconnect StreamExecutor with strength 1 edge matrix:\n",
      "2025-06-30 07:22:51.330259: I tensorflow/core/common_runtime/gpu/gpu_device.cc:1165]      \n",
      "2025-06-30 07:22:58.148964: I tensorflow/core/common_runtime/gpu/gpu_device.cc:1159] Device interconnect StreamExecutor with strength 1 edge matrix:\n",
      "2025-06-30 07:22:58.148984: I tensorflow/core/common_runtime/gpu/gpu_device.cc:1165]      \n",
      "2025-06-30 07:23:04.746866: I tensorflow/core/common_runtime/gpu/gpu_device.cc:1159] Device interconnect StreamExecutor with strength 1 edge matrix:\n",
      "2025-06-30 07:23:04.746886: I tensorflow/core/common_runtime/gpu/gpu_device.cc:1165]      \n"
     ]
    },
    {
     "name": "stdout",
     "output_type": "stream",
     "text": [
      "WARNING:tensorflow:From /home/stelios-pc/Desktop/PhD/PhD/Generative Adversarial Networks/Code/TimeGAN/metrics/predictive_metrics.py:81: The name tf.losses.absolute_difference is deprecated. Please use tf.compat.v1.losses.absolute_difference instead.\n",
      "\n"
     ]
    },
    {
     "name": "stderr",
     "output_type": "stream",
     "text": [
      "2025-06-30 07:23:11.206051: I tensorflow/core/common_runtime/gpu/gpu_device.cc:1159] Device interconnect StreamExecutor with strength 1 edge matrix:\n",
      "2025-06-30 07:23:11.206071: I tensorflow/core/common_runtime/gpu/gpu_device.cc:1165]      \n",
      "2025-06-30 07:23:27.304039: I tensorflow/core/common_runtime/gpu/gpu_device.cc:1159] Device interconnect StreamExecutor with strength 1 edge matrix:\n",
      "2025-06-30 07:23:27.304058: I tensorflow/core/common_runtime/gpu/gpu_device.cc:1165]      \n",
      "2025-06-30 07:23:43.340711: I tensorflow/core/common_runtime/gpu/gpu_device.cc:1159] Device interconnect StreamExecutor with strength 1 edge matrix:\n",
      "2025-06-30 07:23:43.340731: I tensorflow/core/common_runtime/gpu/gpu_device.cc:1165]      \n",
      "2025-06-30 07:23:59.392362: I tensorflow/core/common_runtime/gpu/gpu_device.cc:1159] Device interconnect StreamExecutor with strength 1 edge matrix:\n",
      "2025-06-30 07:23:59.392381: I tensorflow/core/common_runtime/gpu/gpu_device.cc:1165]      \n",
      "2025-06-30 07:24:15.404487: I tensorflow/core/common_runtime/gpu/gpu_device.cc:1159] Device interconnect StreamExecutor with strength 1 edge matrix:\n",
      "2025-06-30 07:24:15.404507: I tensorflow/core/common_runtime/gpu/gpu_device.cc:1165]      \n"
     ]
    },
    {
     "name": "stdout",
     "output_type": "stream",
     "text": [
      "[t-SNE] Computing 121 nearest neighbors...\n",
      "[t-SNE] Indexed 2000 samples in 0.000s...\n",
      "[t-SNE] Computed neighbors for 2000 samples in 0.057s...\n",
      "[t-SNE] Computed conditional probabilities for sample 1000 / 2000\n",
      "[t-SNE] Computed conditional probabilities for sample 2000 / 2000\n",
      "[t-SNE] Mean sigma: 0.004626\n",
      "[t-SNE] KL divergence after 250 iterations with early exaggeration: 58.023849\n",
      "[t-SNE] KL divergence after 300 iterations: 0.914130\n"
     ]
    },
    {
     "data": {
      "text/html": [
       "\n",
       "    <style>\n",
       "        .wandb-row {\n",
       "            display: flex;\n",
       "            flex-direction: row;\n",
       "            flex-wrap: wrap;\n",
       "            justify-content: flex-start;\n",
       "            width: 100%;\n",
       "        }\n",
       "        .wandb-col {\n",
       "            display: flex;\n",
       "            flex-direction: column;\n",
       "            flex-basis: 100%;\n",
       "            flex: 1;\n",
       "            padding: 10px;\n",
       "        }\n",
       "    </style>\n",
       "<div class=\"wandb-row\"><div class=\"wandb-col\"><h3>Run history:</h3><br/><table class=\"wandb\"><tr><td>Discriminative score</td><td>▁</td></tr><tr><td>Predictive score</td><td>▁</td></tr></table><br/></div><div class=\"wandb-col\"><h3>Run summary:</h3><br/><table class=\"wandb\"><tr><td>Discriminative score</td><td>0.4924</td></tr><tr><td>Predictive score</td><td>0.3146</td></tr></table><br/></div></div>"
      ],
      "text/plain": [
       "<IPython.core.display.HTML object>"
      ]
     },
     "metadata": {},
     "output_type": "display_data"
    },
    {
     "data": {
      "text/html": [
       " View run <strong style=\"color:#cdcd00\">restful-sweep-1</strong> at: <a href='https://wandb.ai/synthetic-data-gan/TimeGAN_Experiments/runs/hdwfc4qo' target=\"_blank\">https://wandb.ai/synthetic-data-gan/TimeGAN_Experiments/runs/hdwfc4qo</a><br/> View project at: <a href='https://wandb.ai/synthetic-data-gan/TimeGAN_Experiments' target=\"_blank\">https://wandb.ai/synthetic-data-gan/TimeGAN_Experiments</a><br/>Synced 5 W&B file(s), 0 media file(s), 0 artifact file(s) and 2 other file(s)"
      ],
      "text/plain": [
       "<IPython.core.display.HTML object>"
      ]
     },
     "metadata": {},
     "output_type": "display_data"
    },
    {
     "data": {
      "text/html": [
       "Find logs at: <code>./wandb/run-20250630_035238-hdwfc4qo/logs</code>"
      ],
      "text/plain": [
       "<IPython.core.display.HTML object>"
      ]
     },
     "metadata": {},
     "output_type": "display_data"
    },
    {
     "name": "stderr",
     "output_type": "stream",
     "text": [
      "\u001b[34m\u001b[1mwandb\u001b[0m: Sweep Agent: Waiting for job.\n",
      "\u001b[34m\u001b[1mwandb\u001b[0m: Sweep Agent: Exiting.\n"
     ]
    }
   ],
   "source": [
    "sweep_config = {\n",
    "    'method': 'grid',\n",
    "    'parameters': {\n",
    "        'data_name': {\n",
    "            'values': ['energy']\n",
    "        },\n",
    "        'seq_len': {\n",
    "            'values': [24]\n",
    "        },\n",
    "        'batch_size': {\n",
    "            'values': [128]\n",
    "        },\n",
    "        'module' :{\n",
    "            'values': ['gru']\n",
    "        },\n",
    "        'hidden_dim': {\n",
    "            'values': [28*4] # feature dimension * 4\n",
    "        },\n",
    "        'num_layer': {\n",
    "            'values': [3]\n",
    "        },\n",
    "        'iterations': {\n",
    "            'values': [50000]\n",
    "        },\n",
    "        'embed_iterr': {\n",
    "            'values': [10000]\n",
    "        },\n",
    "        'num_train_G': {\n",
    "            'values': [2]\n",
    "        }\n",
    "    }\n",
    "}\n",
    "\n",
    "sweep_id = wandb.sweep(sweep_config, project=\"TimeGAN_Experiments\")\n",
    "\n",
    "def sweep_train():\n",
    "    run = wandb.init()\n",
    "    run.name = (\n",
    "        f\"{run.config.data_name}-\"\n",
    "        f\"seq_len-{run.config.seq_len}-\"\n",
    "        f\"batch_size-{run.config.batch_size}-\"\n",
    "        f\"module-{run.config.module}-\"\n",
    "        f\"hidden_dim-{run.config.hidden_dim}-\"\n",
    "        f\"num_layer-{run.config.num_layer}-\"\n",
    "        f\"iterations-{run.config.iterations}-\"\n",
    "        f\"embed_iterr-{run.config.embed_iterr}-\"\n",
    "        f\"num_train_G-{run.config.num_train_G}\"\n",
    "    )\n",
    "    run.save()\n",
    "\n",
    "    training_TimeGAN(run.config)\n",
    "\n",
    "wandb.agent(sweep_id, function=sweep_train)"
   ]
  }
 ],
 "metadata": {
  "kernelspec": {
   "display_name": "TimeGAN",
   "language": "python",
   "name": "python3"
  },
  "language_info": {
   "codemirror_mode": {
    "name": "ipython",
    "version": 3
   },
   "file_extension": ".py",
   "mimetype": "text/x-python",
   "name": "python",
   "nbconvert_exporter": "python",
   "pygments_lexer": "ipython3",
   "version": "3.7.12"
  }
 },
 "nbformat": 4,
 "nbformat_minor": 2
}
