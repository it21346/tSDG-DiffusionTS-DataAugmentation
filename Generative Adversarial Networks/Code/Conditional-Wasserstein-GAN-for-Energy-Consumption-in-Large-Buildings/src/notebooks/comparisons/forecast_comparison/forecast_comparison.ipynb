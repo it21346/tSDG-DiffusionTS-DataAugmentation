{
 "cells": [
  {
   "cell_type": "markdown",
   "metadata": {},
   "source": [
    "\n",
    "# Forecast"
   ]
  },
  {
   "cell_type": "code",
   "execution_count": 1,
   "metadata": {},
   "outputs": [],
   "source": [
    "import os\n",
    "import numpy as np\n",
    "import matplotlib.pyplot as plt\n",
    "import tensorflow as tf\n",
    "from tensorflow.keras.layers import Input, Dense, Flatten, Dropout, BatchNormalization, Conv1D, MaxPooling1D, Concatenate, \\\n",
    "                                    LSTM, Activation, Embedding\n",
    "from tensorflow.keras.models import Model\n",
    "from tensorflow.keras.optimizers import Adam\n",
    "from tensorflow.keras.callbacks import Callback, EarlyStopping\n",
    "from tensorflow_addons.layers import SpectralNormalization as SN"
   ]
  },
  {
   "cell_type": "code",
   "execution_count": 2,
   "metadata": {},
   "outputs": [],
   "source": [
    "%matplotlib inline\n",
    "file_name = 'forecast_comparison'\n",
    "dir_name = file_name + '_dir'\n",
    "ckpt_dir = dir_name + '/ckpt'\n",
    "os.mkdir(dir_name)\n",
    "os.mkdir(ckpt_dir)"
   ]
  },
  {
   "cell_type": "code",
   "execution_count": 3,
   "metadata": {
    "scrolled": true
   },
   "outputs": [],
   "source": [
    "data = np.load('../../data/processed/dccgan_full_generated_data.npz')\n",
    "gen_electrical_data = data['electrical_data']\n",
    "gen_labels = data['labels']"
   ]
  },
  {
   "cell_type": "code",
   "execution_count": 4,
   "metadata": {},
   "outputs": [],
   "source": [
    "data = np.load('../../data/processed/full_data.npz')\n",
    "electrical_data = data['electrical_data'][:500]\n",
    "labels = data['labels'][:500]"
   ]
  },
  {
   "cell_type": "markdown",
   "metadata": {},
   "source": [
    "## Split Data"
   ]
  },
  {
   "cell_type": "code",
   "execution_count": 5,
   "metadata": {},
   "outputs": [],
   "source": [
    "def split_data(data, labels):\n",
    "    train_factor, val_factor = 0.8, 0.1\n",
    "    train_limit, val_limit = int(len(data) * train_factor), int(len(data) * (train_factor + val_factor))\n",
    "    train_data, train_labels = data[:train_limit], labels[:train_limit]\n",
    "    val_data, val_labels = data[train_limit:val_limit], labels[train_limit:val_limit]\n",
    "    test_data, test_labels = data[val_limit:], labels[val_limit:]\n",
    "    return train_data, train_labels, val_data, val_labels, test_data, test_labels"
   ]
  },
  {
   "cell_type": "code",
   "execution_count": 6,
   "metadata": {},
   "outputs": [],
   "source": [
    "_, _, _, _, test_data, test_labels = split_data(electrical_data, labels)\n",
    "gen_train_data, gen_train_labels, gen_val_data, gen_val_labels, _, _ = split_data(gen_electrical_data, gen_labels)"
   ]
  },
  {
   "cell_type": "markdown",
   "metadata": {},
   "source": [
    "## Building the Model"
   ]
  },
  {
   "cell_type": "code",
   "execution_count": 7,
   "metadata": {},
   "outputs": [],
   "source": [
    "early_stopping_monitor = EarlyStopping(patience=3)\n",
    "data_length = 720 # One month of data\n",
    "nr_labels = 6 # from labels + timestamp\n",
    "emb_input_dim = 28 + electrical_data.shape[1] - data_length + 1 # Added values are for timestamp\n",
    "emb_output_dim = 32\n",
    "batch_size = 128"
   ]
  },
  {
   "cell_type": "code",
   "execution_count": 8,
   "metadata": {},
   "outputs": [],
   "source": [
    "def conv_block(kernel_size, filters, padding, input_layer):\n",
    "    sn_conv_1d = SN(Conv1D(kernel_size=kernel_size, filters=filters, padding=padding))(input_layer)\n",
    "    bn = BatchNormalization()(sn_conv_1d)\n",
    "    act = Activation('relu')(bn)\n",
    "    mp_1d = MaxPooling1D()(act)\n",
    "    res = Dropout(0.2)(mp_1d)\n",
    "    return res"
   ]
  },
  {
   "cell_type": "code",
   "execution_count": 9,
   "metadata": {
    "scrolled": true
   },
   "outputs": [],
   "source": [
    "def create_model():\n",
    "    sampled_data = Input((data_length, electrical_data.shape[2]), name='input_1')\n",
    "    sampled_labels = Input((nr_labels,), name='input_2')\n",
    "    label_embedding = SN(Embedding(emb_input_dim, emb_output_dim, input_length=nr_labels))(sampled_labels)\n",
    "    flatten_embedding = Flatten()(label_embedding)\n",
    "    dense_embedding = SN(Dense(64))(flatten_embedding)\n",
    "    conv1 = conv_block((3), 128, 'same', sampled_data)\n",
    "    conv2 = conv_block((5), 128, 'same', sampled_data)\n",
    "    conv3 = conv_block((7), 128, 'same', sampled_data)\n",
    "    conc_convs = Concatenate(axis=-1)([conv1, conv2, conv3])\n",
    "    lstm1 = LSTM(128, return_sequences=True)(conc_convs)\n",
    "    bn1 = BatchNormalization()(lstm1)\n",
    "    lstm2 = LSTM(128)(bn1)\n",
    "    bn2 = BatchNormalization()(lstm2)\n",
    "    conc_all = Concatenate(axis=1)([bn2, dense_embedding])\n",
    "    dense_final = SN(Dense(128, activation='relu'))(conc_all)\n",
    "    res = SN(Dense(1, activation='tanh'))(dense_final)\n",
    "    model = Model([sampled_data, sampled_labels], res, name='C-RNN')\n",
    "    model.compile(optimizer = Adam(1e-3, 0.5, 0.9), loss = 'mse', metrics = ['mae', 'mape'])\n",
    "    return model"
   ]
  },
  {
   "cell_type": "markdown",
   "metadata": {},
   "source": [
    "## Define Generator"
   ]
  },
  {
   "cell_type": "code",
   "execution_count": 10,
   "metadata": {},
   "outputs": [],
   "source": [
    "def generator_wrapper(data, labels, batch_size):\n",
    "    def generator():\n",
    "        while True:\n",
    "            indexes = np.random.randint(0, data.shape[0], batch_size)\n",
    "            sampled_data = data[indexes]\n",
    "            hours = np.random.randint(0, data.shape[1] - data_length, batch_size)\n",
    "            X = np.array([x[h:h + data_length] for x, h in zip(sampled_data, hours)])\n",
    "            y = np.array([x[h + data_length, 0] for x, h in zip(sampled_data, hours)])\n",
    "            l = np.array([np.concatenate((l, h), axis=-1) for l, h in zip(labels[indexes], np.expand_dims(hours, -1))])\n",
    "            yield {'input_1': X, 'input_2': l}, y\n",
    "    return generator"
   ]
  },
  {
   "cell_type": "markdown",
   "metadata": {},
   "source": [
    "## Define Dataset"
   ]
  },
  {
   "cell_type": "code",
   "execution_count": 11,
   "metadata": {},
   "outputs": [],
   "source": [
    "def dataset_from_generator(data, labels, batch_size):\n",
    "    dataset = tf.data.Dataset.from_generator(generator_wrapper(data, labels, batch_size), output_signature=\\\n",
    "                                             ({'input_1': tf.TensorSpec(shape=(batch_size, data_length, 6), dtype=tf.float64), \\\n",
    "                                              'input_2': tf.TensorSpec(shape=(batch_size, nr_labels), dtype=tf.int32)}, \\\n",
    "                                              tf.TensorSpec(shape=(batch_size), dtype=tf.float64)))\n",
    "    #dataset = dataset.batch(batch_size)\n",
    "    return dataset"
   ]
  },
  {
   "cell_type": "markdown",
   "metadata": {},
   "source": [
    "## Trainging the Model"
   ]
  },
  {
   "cell_type": "code",
   "execution_count": 24,
   "metadata": {
    "collapsed": true
   },
   "outputs": [
    {
     "name": "stdout",
     "output_type": "stream",
     "text": [
      "Epoch 1/100\n",
      "200/200 [==============================] - 33s 148ms/step - loss: 0.0369 - mae: 0.1317 - mape: 120.2472 - val_loss: 0.1457 - val_mae: 0.3358 - val_mape: 134.0239\n",
      "Epoch 2/100\n",
      "200/200 [==============================] - 28s 142ms/step - loss: 0.0070 - mae: 0.0657 - mape: 73.0364 - val_loss: 0.0568 - val_mae: 0.2148 - val_mape: 65.5990\n",
      "Epoch 3/100\n",
      "200/200 [==============================] - 29s 143ms/step - loss: 0.0042 - mae: 0.0507 - mape: 184.7722 - val_loss: 0.0064 - val_mae: 0.0681 - val_mape: 40.2251\n",
      "Epoch 4/100\n",
      "200/200 [==============================] - 29s 143ms/step - loss: 0.0034 - mae: 0.0454 - mape: 41.5130 - val_loss: 0.0029 - val_mae: 0.0414 - val_mape: 26.7096\n",
      "Epoch 5/100\n",
      "200/200 [==============================] - 29s 144ms/step - loss: 0.0030 - mae: 0.0426 - mape: 35.2037 - val_loss: 0.0018 - val_mae: 0.0354 - val_mape: 55.0521\n",
      "Epoch 6/100\n",
      "200/200 [==============================] - 29s 145ms/step - loss: 0.0024 - mae: 0.0381 - mape: 51.9657 - val_loss: 0.0030 - val_mae: 0.0444 - val_mape: 91.8243\n",
      "Epoch 7/100\n",
      "200/200 [==============================] - 29s 144ms/step - loss: 0.0024 - mae: 0.0382 - mape: 37.9458 - val_loss: 0.0014 - val_mae: 0.0293 - val_mape: 57.6855\n",
      "Epoch 8/100\n",
      "200/200 [==============================] - 29s 143ms/step - loss: 0.0021 - mae: 0.0355 - mape: 32.5419 - val_loss: 0.0013 - val_mae: 0.0283 - val_mape: 18.9095\n",
      "Epoch 9/100\n",
      "200/200 [==============================] - 28s 142ms/step - loss: 0.0022 - mae: 0.0364 - mape: 53.2807 - val_loss: 0.0021 - val_mae: 0.0331 - val_mape: 28.2287\n",
      "Epoch 10/100\n",
      "200/200 [==============================] - 29s 144ms/step - loss: 0.0019 - mae: 0.0342 - mape: 28.9555 - val_loss: 0.0010 - val_mae: 0.0247 - val_mape: 19.4812\n",
      "Epoch 11/100\n",
      "200/200 [==============================] - 29s 144ms/step - loss: 0.0019 - mae: 0.0344 - mape: 37.4232 - val_loss: 8.3916e-04 - val_mae: 0.0223 - val_mape: 16.7086\n",
      "Epoch 12/100\n",
      "200/200 [==============================] - 29s 144ms/step - loss: 0.0017 - mae: 0.0328 - mape: 126.4965 - val_loss: 0.0022 - val_mae: 0.0395 - val_mape: 66.2827\n",
      "Epoch 13/100\n",
      "200/200 [==============================] - 29s 143ms/step - loss: 0.0018 - mae: 0.0328 - mape: 33.4658 - val_loss: 0.0042 - val_mae: 0.0509 - val_mape: 27.8449\n",
      "Epoch 14/100\n",
      "200/200 [==============================] - 28s 140ms/step - loss: 0.0016 - mae: 0.0310 - mape: 27.9010 - val_loss: 0.0055 - val_mae: 0.0671 - val_mape: 33.3920\n"
     ]
    }
   ],
   "source": [
    "gen_model = create_model()\n",
    "gen_history = gen_model.fit(dataset_from_generator(gen_train_data, gen_train_labels, batch_size), epochs=100, steps_per_epoch=200, \\\n",
    "                    validation_data=dataset_from_generator(gen_val_data, gen_val_labels, batch_size), validation_steps=50, \\\n",
    "                    callbacks=[early_stopping_monitor])"
   ]
  },
  {
   "cell_type": "code",
   "execution_count": 49,
   "metadata": {},
   "outputs": [],
   "source": [
    "gen_model.save_weights(ckpt_dir + '/gen_weights.ckpt')"
   ]
  },
  {
   "cell_type": "markdown",
   "metadata": {},
   "source": [
    "## Test the Model"
   ]
  },
  {
   "cell_type": "markdown",
   "metadata": {},
   "source": [
    "### TSTR"
   ]
  },
  {
   "cell_type": "code",
   "execution_count": 32,
   "metadata": {},
   "outputs": [
    {
     "name": "stdout",
     "output_type": "stream",
     "text": [
      "1000/1000 [==============================] - 63s 63ms/step - loss: 0.0100 - mae: 0.0731 - mape: 381.03610s - loss: 0.0099 - mae:\n"
     ]
    }
   ],
   "source": [
    "gen_model_eval_3 = gen_model.evaluate(dataset_from_generator(test_data, test_labels, batch_size), steps=1000)"
   ]
  },
  {
   "cell_type": "markdown",
   "metadata": {},
   "source": [
    "## Load already computed metrics"
   ]
  },
  {
   "cell_type": "code",
   "execution_count": 14,
   "metadata": {},
   "outputs": [],
   "source": [
    "rest_metrics = np.load('forecast_metrics&evals.npz')"
   ]
  },
  {
   "cell_type": "markdown",
   "metadata": {},
   "source": [
    "## Show Results"
   ]
  },
  {
   "cell_type": "code",
   "execution_count": 15,
   "metadata": {},
   "outputs": [],
   "source": [
    "model_eval = rest_metrics['trtr']\n",
    "wgen_model_eval = rest_metrics['tstr']"
   ]
  },
  {
   "cell_type": "code",
   "execution_count": 48,
   "metadata": {},
   "outputs": [
    {
     "name": "stdout",
     "output_type": "stream",
     "text": [
      "[6.37094537e-03 5.81483394e-02 1.05123657e+03]\n",
      "[0.01333446286, 0.09746634961, 889.52771]\n",
      "[1.45346681e-02 8.84554461e-02 1.45487122e+02]\n"
     ]
    }
   ],
   "source": [
    "print(model_eval)\n",
    "print(gen_model_eval)\n",
    "print(wgen_model_eval)"
   ]
  },
  {
   "cell_type": "code",
   "execution_count": 50,
   "metadata": {},
   "outputs": [
    {
     "data": {
      "image/png": "[encoded data removed]",
      "text/plain": [
       "<Figure size 2160x720 with 3 Axes>"
      ]
     },
     "metadata": {
      "needs_background": "light"
     },
     "output_type": "display_data"
    }
   ],
   "source": [
    "fig, axs = plt.subplots(1, 3)\n",
    "fig.set_size_inches(30, 10)\n",
    "for i, metric in enumerate(['loss', 'mae', 'mape']):\n",
    "    title = metric if metric != 'loss' else 'mse'\n",
    "    ax = axs[i]\n",
    "    ax.bar(['Original', 'CGAN', 'WGAN'], [model_eval[i], gen_model_eval[i], wgen_model_eval[i]])\n",
    "    ax.title.set_text(title.upper())\n",
    "    ax.set_ylabel('Values')"
   ]
  }
 ],
 "metadata": {
  "hide_input": false,
  "kernelspec": {
   "display_name": "Python 3",
   "language": "python",
   "name": "python3"
  },
  "language_info": {
   "codemirror_mode": {
    "name": "ipython",
    "version": 3
   },
   "file_extension": ".py",
   "mimetype": "text/x-python",
   "name": "python",
   "nbconvert_exporter": "python",
   "pygments_lexer": "ipython3",
   "version": "3.8.8"
  }
 },
 "nbformat": 4,
 "nbformat_minor": 1
}
