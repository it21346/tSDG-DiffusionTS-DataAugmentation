{
 "cells": [
  {
   "cell_type": "markdown",
   "metadata": {},
   "source": [
    "\n",
    "# Forecast"
   ]
  },
  {
   "cell_type": "code",
   "execution_count": 1,
   "metadata": {},
   "outputs": [],
   "source": [
    "import os\n",
    "import numpy as np\n",
    "import matplotlib.pyplot as plt\n",
    "import tensorflow as tf\n",
    "from tensorflow.keras.layers import Input, Dense, Flatten, Dropout, BatchNormalization, Conv1D, MaxPooling1D, Activation, Lambda\n",
    "from tensorflow.keras.models import Model\n",
    "from tensorflow.keras.optimizers import Adam\n",
    "from tensorflow_addons.layers import SpectralNormalization as SN\n",
    "from tensorflow.keras.metrics import CategoricalAccuracy as Acc\n",
    "from tensorflow.keras.losses import CategoricalCrossentropy as cc\n",
    "from art.estimators.classification import TensorFlowV2Classifier\n",
    "from art.attacks.evasion import FastGradientMethod as FGSM, CarliniLInfMethod as CW, BoundaryAttack as BA, DeepFool as DF, \\\n",
    "                                BasicIterativeMethod as BIM, NewtonFool as NF, ElasticNet as EN, \\\n",
    "                                ProjectedGradientDescentTensorFlowV2 as PGD"
   ]
  },
  {
   "cell_type": "code",
   "execution_count": 2,
   "metadata": {},
   "outputs": [],
   "source": [
    "%matplotlib inline\n",
    "file_name = 'attack_classif'\n",
    "dir_name = file_name + '_dir'\n",
    "weights_dir = 'classif_dublu_lstm_v3_dir/ckpt'\n",
    "#os.mkdir(dir_name)"
   ]
  },
  {
   "cell_type": "code",
   "execution_count": 3,
   "metadata": {
    "scrolled": true
   },
   "outputs": [],
   "source": [
    "data = np.load('../../data/processed/normalized_generated_data.npz')\n",
    "electrical_data = data['electrical_data']\n",
    "labels = data['labels']"
   ]
  },
  {
   "cell_type": "code",
   "execution_count": 10,
   "metadata": {},
   "outputs": [],
   "source": [
    "x = np.load('attack_classif_metrics.npz', allow_pickle=True)"
   ]
  },
  {
   "cell_type": "code",
   "execution_count": 21,
   "metadata": {},
   "outputs": [
    {
     "name": "stdout",
     "output_type": "stream",
     "text": [
      "unlabeled_Orig\n",
      "unlabeled_FGSM\n",
      "unlabeled_BIM\n",
      "unlabeled_PGD\n",
      "unlabeled_CW\n",
      "unlabeled_BA\n",
      "unlabeled_EN\n",
      "unlabeled_DF\n",
      "unlabeled_NF\n",
      "labeled_Orig\n",
      "labeled_FGSM\n",
      "labeled_BIM\n",
      "labeled_PGD\n",
      "labeled_CW\n",
      "labeled_BA\n",
      "labeled_EN\n",
      "labeled_DF\n",
      "labeled_NF\n",
      "targeted_Orig\n",
      "targeted_FGSM\n",
      "targeted_BIM\n",
      "targeted_PGD\n",
      "targeted_CW\n",
      "targeted_BA\n",
      "targeted_EN\n",
      "['Orig', 'FGSM', 'BIM', 'PGD', 'CW', 'BA', 'EN', 'DF', 'NF']\n"
     ]
    }
   ],
   "source": [
    "with_eps = ['FGSM', 'BIM', 'PGD', 'CW'] # With a maximum perturbation allowed\n",
    "without_eps = ['BA', 'EN', 'DF', 'NF']\n",
    "with_eps_names = ['Orig'] + with_eps\n",
    "all_names = with_eps_names + without_eps\n",
    "attack_vals_np = {}\n",
    "labeled_attack_vals_np = {}\n",
    "targeted_attack_vals_np = {}\n",
    "\n",
    "for i, k in enumerate(x.keys()):\n",
    "    print(k)\n",
    "    if i < 9:\n",
    "        attack_vals_np[all_names[i]] = x[k]\n",
    "    elif i < 18:\n",
    "        labeled_attack_vals_np[all_names[i - 9]] = x[k]\n",
    "    else:\n",
    "        targeted_attack_vals_np[all_names[i - 18]] = x[k]\n",
    "\n",
    "print(all_names)"
   ]
  },
  {
   "cell_type": "code",
   "execution_count": 20,
   "metadata": {},
   "outputs": [
    {
     "name": "stdout",
     "output_type": "stream",
     "text": [
      "[0.962, 0.088, 0.018, 0.02, 0.47, 0.026, 0.342, 0.076, 0.198]\n",
      "\n",
      "[0.962, 0.066, 0.0, 0.0, 0.35, 0.018, 0.332, 0.076, 0.198]\n",
      "\n",
      "[0.962, 0.054, 0.0, 0.0, 0.646, 0.132, 0.384]\n",
      "\n",
      "[0.0, 0.097, 0.078, 0.079, 0.003, 0.101, 0.101, 0.165, 0.003]\n",
      "\n",
      "[0.0, 0.097, 0.078, 0.079, 0.005, 0.101, 0.099, 0.165, 0.003]\n",
      "\n",
      "[0.0, 0.097, 0.07, 0.07, 0.004, 0.109, 0.13]\n",
      "\n"
     ]
    }
   ],
   "source": [
    "for i in range(1, 3):\n",
    "    for j, results_dict in enumerate([attack_vals_np, labeled_attack_vals_np, targeted_attack_vals_np]):\n",
    "        without_eps_names = ['BA', 'EN'] if j == 2 else without_eps\n",
    "        best_vals = [results_dict[attack][-1, i] for attack in with_eps_names]\n",
    "        best_vals += [results_dict[attack][i] for attack in without_eps_names]\n",
    "        print([round(nr, 3) for nr in best_vals])\n",
    "        print()"
   ]
  },
  {
   "cell_type": "markdown",
   "metadata": {},
   "source": [
    "## Split Data"
   ]
  },
  {
   "cell_type": "code",
   "execution_count": 4,
   "metadata": {},
   "outputs": [],
   "source": [
    "nr_outputs = 5\n",
    "batch_size = 32\n",
    "input_shape=electrical_data.shape[1:3]"
   ]
  },
  {
   "cell_type": "code",
   "execution_count": 5,
   "metadata": {},
   "outputs": [],
   "source": [
    "def split_data(data, labels):\n",
    "    labels = labels[:, 2] - 12\n",
    "    one_hot = np.zeros((labels.size, nr_outputs))\n",
    "    one_hot[np.arange(labels.size), labels] = 1\n",
    "    labels = one_hot\n",
    "    train_factor, val_factor = 0.8, 0.1\n",
    "    train_limit, val_limit = int(len(data) * train_factor), int(len(data) * (train_factor + val_factor))\n",
    "    train_data, train_labels = data[:train_limit], labels[:train_limit]\n",
    "    val_data, val_labels = data[train_limit:val_limit], labels[train_limit:val_limit]\n",
    "    test_data, test_labels = data[val_limit:], labels[val_limit:]\n",
    "    return train_data, train_labels, val_data, val_labels, test_data, test_labels"
   ]
  },
  {
   "cell_type": "code",
   "execution_count": 6,
   "metadata": {},
   "outputs": [],
   "source": [
    "train_data, train_labels, val_data, val_labels, test_data, test_labels = split_data(electrical_data, labels)"
   ]
  },
  {
   "cell_type": "markdown",
   "metadata": {},
   "source": [
    "## Building the Model"
   ]
  },
  {
   "cell_type": "code",
   "execution_count": 7,
   "metadata": {},
   "outputs": [],
   "source": [
    "def conv_block(kernel_size, filters, padding, input_layer):\n",
    "    sn_conv_1d = SN(Conv1D(kernel_size=kernel_size, filters=filters, padding=padding))(input_layer)\n",
    "    bn = BatchNormalization()(sn_conv_1d)\n",
    "    act = Activation('relu')(bn)\n",
    "    mp_1d = MaxPooling1D()(act)\n",
    "    res = Dropout(0.2)(mp_1d)\n",
    "    return res"
   ]
  },
  {
   "cell_type": "code",
   "execution_count": 8,
   "metadata": {
    "scrolled": true
   },
   "outputs": [],
   "source": [
    "def create_model():\n",
    "    # Commented lines were used when ART was tested with logits, not probabilities\n",
    "    sampled_data = Input(input_shape, name='input_data')\n",
    "    padding = \"valid\"\n",
    "    conv1 = conv_block(4, 16, padding, sampled_data)\n",
    "    conv2 = conv_block(4, 32, padding, conv1)\n",
    "    conv3 = conv_block(4, 64, padding, conv2)\n",
    "    conv4 = conv_block(4, 128, padding, conv3)\n",
    "    conv5 = conv_block(4, 256, padding, conv4)\n",
    "    conv6 = conv_block(4, 512, padding, conv5)\n",
    "    flat = Flatten()(conv6)\n",
    "    res = SN(Dense(nr_outputs, activation='softmax'))(flat)\n",
    "    #res = Lambda(lambda x: tf.math.log(x / tf.math.maximum((1 - x), 1e-9)))(res)\n",
    "    model = Model(sampled_data, res, name=\"Classifier\")\n",
    "    #model.compile(optimizer = Adam(1e-3, 0.5, 0.9), loss = cc(from_logits=True), metrics=[Acc(name='acc')])\n",
    "    model.compile(optimizer = Adam(1e-3, 0.5, 0.9), loss = cc(), metrics=[Acc(name='acc')])\n",
    "    return model\n",
    "\n",
    "model = create_model()"
   ]
  },
  {
   "cell_type": "code",
   "execution_count": 9,
   "metadata": {},
   "outputs": [
    {
     "data": {
      "text/plain": [
       "<tensorflow.python.training.tracking.util.CheckpointLoadStatus at 0x153efefdca0>"
      ]
     },
     "execution_count": 9,
     "metadata": {},
     "output_type": "execute_result"
    }
   ],
   "source": [
    "model.load_weights(weights_dir + '/gen_weights.ckpt')"
   ]
  },
  {
   "cell_type": "markdown",
   "metadata": {},
   "source": [
    "## Test the Model"
   ]
  },
  {
   "cell_type": "code",
   "execution_count": 11,
   "metadata": {},
   "outputs": [],
   "source": [
    "classifier = TensorFlowV2Classifier(model=model, nb_classes=nr_outputs, input_shape=input_shape, clip_values=(-1, 1), \\\n",
    "                                   loss_object=cc())\n",
    "attack_vals = {} # Untargeted, without labels\n",
    "labeled_attack_vals = {} # Untargeted, with labels\n",
    "targeted_attack_vals = {} # Targeted\n",
    "interval = np.linspace(0.01, 0.1, 10)\n",
    "batch_size = 64\n",
    "max_iter = 50\n",
    "with_eps = ['FGSM', 'BIM', 'PGD', 'CW'] # With a maximum perturbation allowed\n",
    "without_eps = ['BA', 'EN', 'DF', 'NF']\n",
    "sample_index = 7\n",
    "target_labels = np.array([[0, 0, 0, 0, 1] if lb[4] == 0 else [1, 0, 0, 0, 0] for lb in test_labels])"
   ]
  },
  {
   "cell_type": "code",
   "execution_count": 19,
   "metadata": {},
   "outputs": [
    {
     "name": "stdout",
     "output_type": "stream",
     "text": [
      "16/16 [==============================] - 1s 72ms/step - loss: 0.1106 - acc: 0.9620\n"
     ]
    }
   ],
   "source": [
    "loss_test, accuracy_test = model.evaluate(test_data, test_labels)\n",
    "clean_result = (loss_test, accuracy_test, 0., test_data[sample_index])\n",
    "clean_results = [clean_result for _ in range(len(interval) + 1)]\n",
    "attack_vals['Orig'] = clean_results\n",
    "labeled_attack_vals['Orig'] = clean_results\n",
    "targeted_attack_vals['Orig'] = clean_results"
   ]
  },
  {
   "cell_type": "markdown",
   "metadata": {},
   "source": [
    "## Attacks with a maximum perturbation"
   ]
  },
  {
   "cell_type": "code",
   "execution_count": 78,
   "metadata": {
    "collapsed": true
   },
   "outputs": [
    {
     "name": "stdout",
     "output_type": "stream",
     "text": [
      "FGM\n",
      "16/16 [==============================] - 0s 13ms/step - loss: 0.2758 - acc: 0.8860\n",
      "16/16 [==============================] - 0s 13ms/step - loss: 0.7610 - acc: 0.7280\n",
      "16/16 [==============================] - 0s 13ms/step - loss: 1.4899 - acc: 0.5720\n",
      "16/16 [==============================] - 0s 13ms/step - loss: 2.3693 - acc: 0.4400\n",
      "16/16 [==============================] - 0s 13ms/step - loss: 3.3093 - acc: 0.3320\n",
      "16/16 [==============================] - 0s 13ms/step - loss: 4.2643 - acc: 0.2540\n",
      "16/16 [==============================] - 0s 13ms/step - loss: 5.1985 - acc: 0.1680\n",
      "16/16 [==============================] - 0s 13ms/step - loss: 6.0908 - acc: 0.1340\n",
      "16/16 [==============================] - 0s 13ms/step - loss: 6.9335 - acc: 0.0900\n",
      "16/16 [==============================] - 0s 13ms/step - loss: 7.7230 - acc: 0.0880\n",
      "16/16 [==============================] - 0s 13ms/step - loss: 0.3984 - acc: 0.8660\n",
      "16/16 [==============================] - 0s 13ms/step - loss: 0.9692 - acc: 0.7060\n",
      "16/16 [==============================] - 0s 13ms/step - loss: 1.7660 - acc: 0.5520\n",
      "16/16 [==============================] - 0s 14ms/step - loss: 2.7019 - acc: 0.4200\n",
      "16/16 [==============================] - 0s 13ms/step - loss: 3.6911 - acc: 0.3120\n",
      "16/16 [==============================] - ETA: 0s - loss: 4.7657 - acc: 0.235 - 0s 13ms/step - loss: 4.6899 - acc: 0.2340\n",
      "16/16 [==============================] - 0s 14ms/step - loss: 5.6638 - acc: 0.1480\n",
      "16/16 [==============================] - 0s 13ms/step - loss: 6.5924 - acc: 0.1120\n",
      "16/16 [==============================] - 0s 13ms/step - loss: 7.4678 - acc: 0.0680\n",
      "16/16 [==============================] - 0s 13ms/step - loss: 8.2861 - acc: 0.0660\n",
      "16/16 [==============================] - 0s 13ms/step - loss: 0.2259 - acc: 0.9360\n",
      "16/16 [==============================] - 0s 13ms/step - loss: 0.5305 - acc: 0.8320\n",
      "16/16 [==============================] - 0s 13ms/step - loss: 1.0902 - acc: 0.7000\n",
      "16/16 [==============================] - 0s 13ms/step - loss: 1.9148 - acc: 0.5260\n",
      "16/16 [==============================] - 0s 13ms/step - loss: 2.9611 - acc: 0.3480\n",
      "16/16 [==============================] - 0s 13ms/step - loss: 4.1482 - acc: 0.1880\n",
      "16/16 [==============================] - 0s 13ms/step - loss: 5.3817 - acc: 0.1280\n",
      "16/16 [==============================] - 0s 13ms/step - loss: 6.5822 - acc: 0.0800\n",
      "16/16 [==============================] - 0s 13ms/step - loss: 7.7134 - acc: 0.0620\n",
      "16/16 [==============================] - 0s 13ms/step - loss: 8.7684 - acc: 0.0540\n",
      "BIM\n"
     ]
    },
    {
     "data": {
      "application/vnd.jupyter.widget-view+json": {
       "model_id": "ca881681691249b090b02275d8852480",
       "version_major": 2,
       "version_minor": 0
      },
      "text/plain": [
       "PGD - Batches: 0it [00:00, ?it/s]"
      ]
     },
     "metadata": {},
     "output_type": "display_data"
    },
    {
     "name": "stdout",
     "output_type": "stream",
     "text": [
      "16/16 [==============================] - 0s 13ms/step - loss: 0.3182 - acc: 0.8640\n"
     ]
    },
    {
     "data": {
      "application/vnd.jupyter.widget-view+json": {
       "model_id": "602818b0ff5542c282694244a94862ad",
       "version_major": 2,
       "version_minor": 0
      },
      "text/plain": [
       "PGD - Batches: 0it [00:00, ?it/s]"
      ]
     },
     "metadata": {},
     "output_type": "display_data"
    },
    {
     "name": "stdout",
     "output_type": "stream",
     "text": [
      "16/16 [==============================] - 0s 13ms/step - loss: 1.1779 - acc: 0.6280\n"
     ]
    },
    {
     "data": {
      "application/vnd.jupyter.widget-view+json": {
       "model_id": "7fae31a3245048769f1bd446e672d003",
       "version_major": 2,
       "version_minor": 0
      },
      "text/plain": [
       "PGD - Batches: 0it [00:00, ?it/s]"
      ]
     },
     "metadata": {},
     "output_type": "display_data"
    },
    {
     "name": "stdout",
     "output_type": "stream",
     "text": [
      "16/16 [==============================] - 0s 13ms/step - loss: 3.0632 - acc: 0.3200\n"
     ]
    },
    {
     "data": {
      "application/vnd.jupyter.widget-view+json": {
       "model_id": "3aa9096d6f9b4fb6a4606005a11f8ec7",
       "version_major": 2,
       "version_minor": 0
      },
      "text/plain": [
       "PGD - Batches: 0it [00:00, ?it/s]"
      ]
     },
     "metadata": {},
     "output_type": "display_data"
    },
    {
     "name": "stdout",
     "output_type": "stream",
     "text": [
      "16/16 [==============================] - 0s 13ms/step - loss: 6.4603 - acc: 0.0480\n"
     ]
    },
    {
     "data": {
      "application/vnd.jupyter.widget-view+json": {
       "model_id": "e59731d8775c4032a4abbf53ca8c18a4",
       "version_major": 2,
       "version_minor": 0
      },
      "text/plain": [
       "PGD - Batches: 0it [00:00, ?it/s]"
      ]
     },
     "metadata": {},
     "output_type": "display_data"
    },
    {
     "name": "stdout",
     "output_type": "stream",
     "text": [
      "16/16 [==============================] - 0s 13ms/step - loss: 11.3739 - acc: 0.0220\n"
     ]
    },
    {
     "data": {
      "application/vnd.jupyter.widget-view+json": {
       "model_id": "acae117713ec48aa843be13bb47576ad",
       "version_major": 2,
       "version_minor": 0
      },
      "text/plain": [
       "PGD - Batches: 0it [00:00, ?it/s]"
      ]
     },
     "metadata": {},
     "output_type": "display_data"
    },
    {
     "name": "stdout",
     "output_type": "stream",
     "text": [
      "16/16 [==============================] - 0s 13ms/step - loss: 17.6142 - acc: 0.0200\n"
     ]
    },
    {
     "data": {
      "application/vnd.jupyter.widget-view+json": {
       "model_id": "02ed33948e1c4e1b84ea5b8aa737a9cf",
       "version_major": 2,
       "version_minor": 0
      },
      "text/plain": [
       "PGD - Batches: 0it [00:00, ?it/s]"
      ]
     },
     "metadata": {},
     "output_type": "display_data"
    },
    {
     "name": "stdout",
     "output_type": "stream",
     "text": [
      "16/16 [==============================] - 0s 13ms/step - loss: 24.9451 - acc: 0.0180\n"
     ]
    },
    {
     "data": {
      "application/vnd.jupyter.widget-view+json": {
       "model_id": "426d4bb41b824fe18bf8a4db339e494d",
       "version_major": 2,
       "version_minor": 0
      },
      "text/plain": [
       "PGD - Batches: 0it [00:00, ?it/s]"
      ]
     },
     "metadata": {},
     "output_type": "display_data"
    },
    {
     "name": "stdout",
     "output_type": "stream",
     "text": [
      "16/16 [==============================] - 0s 13ms/step - loss: 33.2196 - acc: 0.0180\n"
     ]
    },
    {
     "data": {
      "application/vnd.jupyter.widget-view+json": {
       "model_id": "b9a5d008cd104eab993d1ce7e7cf98a3",
       "version_major": 2,
       "version_minor": 0
      },
      "text/plain": [
       "PGD - Batches: 0it [00:00, ?it/s]"
      ]
     },
     "metadata": {},
     "output_type": "display_data"
    },
    {
     "name": "stdout",
     "output_type": "stream",
     "text": [
      "16/16 [==============================] - 0s 13ms/step - loss: 42.4410 - acc: 0.0180\n"
     ]
    },
    {
     "data": {
      "application/vnd.jupyter.widget-view+json": {
       "model_id": "3d769c2dd01f458cb3d81ab63c9d575c",
       "version_major": 2,
       "version_minor": 0
      },
      "text/plain": [
       "PGD - Batches: 0it [00:00, ?it/s]"
      ]
     },
     "metadata": {},
     "output_type": "display_data"
    },
    {
     "name": "stdout",
     "output_type": "stream",
     "text": [
      "16/16 [==============================] - 0s 13ms/step - loss: 52.2259 - acc: 0.0180\n"
     ]
    },
    {
     "data": {
      "application/vnd.jupyter.widget-view+json": {
       "model_id": "47742b9f6d32479a9637c3a5caa14b32",
       "version_major": 2,
       "version_minor": 0
      },
      "text/plain": [
       "PGD - Batches: 0it [00:00, ?it/s]"
      ]
     },
     "metadata": {},
     "output_type": "display_data"
    },
    {
     "name": "stdout",
     "output_type": "stream",
     "text": [
      "16/16 [==============================] - 0s 13ms/step - loss: 0.4530 - acc: 0.8420\n"
     ]
    },
    {
     "data": {
      "application/vnd.jupyter.widget-view+json": {
       "model_id": "7c57b3697de344bc97028efa83959988",
       "version_major": 2,
       "version_minor": 0
      },
      "text/plain": [
       "PGD - Batches: 0it [00:00, ?it/s]"
      ]
     },
     "metadata": {},
     "output_type": "display_data"
    },
    {
     "name": "stdout",
     "output_type": "stream",
     "text": [
      "16/16 [==============================] - ETA: 0s - loss: 1.4667 - acc: 0.601 - 0s 13ms/step - loss: 1.4257 - acc: 0.6060\n"
     ]
    },
    {
     "data": {
      "application/vnd.jupyter.widget-view+json": {
       "model_id": "bee275b6d2c14dd5941174599697e001",
       "version_major": 2,
       "version_minor": 0
      },
      "text/plain": [
       "PGD - Batches: 0it [00:00, ?it/s]"
      ]
     },
     "metadata": {},
     "output_type": "display_data"
    },
    {
     "name": "stdout",
     "output_type": "stream",
     "text": [
      "16/16 [==============================] - 0s 13ms/step - loss: 3.4255 - acc: 0.3000\n"
     ]
    },
    {
     "data": {
      "application/vnd.jupyter.widget-view+json": {
       "model_id": "251d25f0811140e59a8f158fe354a46e",
       "version_major": 2,
       "version_minor": 0
      },
      "text/plain": [
       "PGD - Batches: 0it [00:00, ?it/s]"
      ]
     },
     "metadata": {},
     "output_type": "display_data"
    },
    {
     "name": "stdout",
     "output_type": "stream",
     "text": [
      "16/16 [==============================] - 0s 13ms/step - loss: 6.9472 - acc: 0.0280\n"
     ]
    },
    {
     "data": {
      "application/vnd.jupyter.widget-view+json": {
       "model_id": "9ba6ee622c1449299d744454be1fafd7",
       "version_major": 2,
       "version_minor": 0
      },
      "text/plain": [
       "PGD - Batches: 0it [00:00, ?it/s]"
      ]
     },
     "metadata": {},
     "output_type": "display_data"
    },
    {
     "name": "stdout",
     "output_type": "stream",
     "text": [
      "16/16 [==============================] - 0s 13ms/step - loss: 12.0143 - acc: 0.0020\n"
     ]
    },
    {
     "data": {
      "application/vnd.jupyter.widget-view+json": {
       "model_id": "8a858fb0a21b4bb19eadacc4a8065a1b",
       "version_major": 2,
       "version_minor": 0
      },
      "text/plain": [
       "PGD - Batches: 0it [00:00, ?it/s]"
      ]
     },
     "metadata": {},
     "output_type": "display_data"
    },
    {
     "name": "stdout",
     "output_type": "stream",
     "text": [
      "16/16 [==============================] - 0s 13ms/step - loss: 18.4671 - acc: 0.0000e+00\n"
     ]
    },
    {
     "data": {
      "application/vnd.jupyter.widget-view+json": {
       "model_id": "6c7b0849c300489b88e6115eec2f19fc",
       "version_major": 2,
       "version_minor": 0
      },
      "text/plain": [
       "PGD - Batches: 0it [00:00, ?it/s]"
      ]
     },
     "metadata": {},
     "output_type": "display_data"
    },
    {
     "name": "stdout",
     "output_type": "stream",
     "text": [
      "16/16 [==============================] - 0s 13ms/step - loss: 25.9243 - acc: 0.0000e+00\n"
     ]
    },
    {
     "data": {
      "application/vnd.jupyter.widget-view+json": {
       "model_id": "52d8aa28b0c34038ab6d52d96e3a71b7",
       "version_major": 2,
       "version_minor": 0
      },
      "text/plain": [
       "PGD - Batches: 0it [00:00, ?it/s]"
      ]
     },
     "metadata": {},
     "output_type": "display_data"
    },
    {
     "name": "stdout",
     "output_type": "stream",
     "text": [
      "16/16 [==============================] - 0s 13ms/step - loss: 34.3908 - acc: 0.0000e+00\n"
     ]
    },
    {
     "data": {
      "application/vnd.jupyter.widget-view+json": {
       "model_id": "c62309a418c248bbb7ad047d6977dbfc",
       "version_major": 2,
       "version_minor": 0
      },
      "text/plain": [
       "PGD - Batches: 0it [00:00, ?it/s]"
      ]
     },
     "metadata": {},
     "output_type": "display_data"
    },
    {
     "name": "stdout",
     "output_type": "stream",
     "text": [
      "16/16 [==============================] - 0s 13ms/step - loss: 43.8214 - acc: 0.0000e+00\n"
     ]
    },
    {
     "data": {
      "application/vnd.jupyter.widget-view+json": {
       "model_id": "13fcd0887632408d8b690769415bebd0",
       "version_major": 2,
       "version_minor": 0
      },
      "text/plain": [
       "PGD - Batches: 0it [00:00, ?it/s]"
      ]
     },
     "metadata": {},
     "output_type": "display_data"
    },
    {
     "name": "stdout",
     "output_type": "stream",
     "text": [
      "16/16 [==============================] - 0s 13ms/step - loss: 53.8369 - acc: 0.0000e+00\n"
     ]
    },
    {
     "data": {
      "application/vnd.jupyter.widget-view+json": {
       "model_id": "865a4559063d4c5b85d5b54a30f709c1",
       "version_major": 2,
       "version_minor": 0
      },
      "text/plain": [
       "PGD - Batches: 0it [00:00, ?it/s]"
      ]
     },
     "metadata": {},
     "output_type": "display_data"
    },
    {
     "name": "stdout",
     "output_type": "stream",
     "text": [
      "16/16 [==============================] - 0s 13ms/step - loss: 0.2292 - acc: 0.9300\n"
     ]
    },
    {
     "data": {
      "application/vnd.jupyter.widget-view+json": {
       "model_id": "8cf0e96d029e4c55988d19e0b1041f38",
       "version_major": 2,
       "version_minor": 0
      },
      "text/plain": [
       "PGD - Batches: 0it [00:00, ?it/s]"
      ]
     },
     "metadata": {},
     "output_type": "display_data"
    },
    {
     "name": "stdout",
     "output_type": "stream",
     "text": [
      "16/16 [==============================] - 0s 14ms/step - loss: 0.6577 - acc: 0.8000\n"
     ]
    },
    {
     "data": {
      "application/vnd.jupyter.widget-view+json": {
       "model_id": "a7448218c7a447b7b54e6d7e6407e873",
       "version_major": 2,
       "version_minor": 0
      },
      "text/plain": [
       "PGD - Batches: 0it [00:00, ?it/s]"
      ]
     },
     "metadata": {},
     "output_type": "display_data"
    },
    {
     "name": "stdout",
     "output_type": "stream",
     "text": [
      "16/16 [==============================] - 0s 13ms/step - loss: 1.9788 - acc: 0.4620\n"
     ]
    },
    {
     "data": {
      "application/vnd.jupyter.widget-view+json": {
       "model_id": "0ecb861e97064590b527efce5c14653b",
       "version_major": 2,
       "version_minor": 0
      },
      "text/plain": [
       "PGD - Batches: 0it [00:00, ?it/s]"
      ]
     },
     "metadata": {},
     "output_type": "display_data"
    },
    {
     "name": "stdout",
     "output_type": "stream",
     "text": [
      "16/16 [==============================] - 0s 13ms/step - loss: 5.1777 - acc: 0.0620\n"
     ]
    },
    {
     "data": {
      "application/vnd.jupyter.widget-view+json": {
       "model_id": "e0359eade92b4019b0396e17866b8c77",
       "version_major": 2,
       "version_minor": 0
      },
      "text/plain": [
       "PGD - Batches: 0it [00:00, ?it/s]"
      ]
     },
     "metadata": {},
     "output_type": "display_data"
    },
    {
     "name": "stdout",
     "output_type": "stream",
     "text": [
      "16/16 [==============================] - 0s 13ms/step - loss: 10.3767 - acc: 0.0000e+00\n"
     ]
    },
    {
     "data": {
      "application/vnd.jupyter.widget-view+json": {
       "model_id": "07cc0ab1ba88417b8523758567f3c47e",
       "version_major": 2,
       "version_minor": 0
      },
      "text/plain": [
       "PGD - Batches: 0it [00:00, ?it/s]"
      ]
     },
     "metadata": {},
     "output_type": "display_data"
    },
    {
     "name": "stdout",
     "output_type": "stream",
     "text": [
      "16/16 [==============================] - 0s 13ms/step - loss: 15.6742 - acc: 0.0000e+00\n"
     ]
    },
    {
     "data": {
      "application/vnd.jupyter.widget-view+json": {
       "model_id": "72e7516ba52a4c99a82010e6b5f864e8",
       "version_major": 2,
       "version_minor": 0
      },
      "text/plain": [
       "PGD - Batches: 0it [00:00, ?it/s]"
      ]
     },
     "metadata": {},
     "output_type": "display_data"
    },
    {
     "name": "stdout",
     "output_type": "stream",
     "text": [
      "16/16 [==============================] - 0s 13ms/step - loss: 19.5015 - acc: 0.0000e+00\n"
     ]
    },
    {
     "data": {
      "application/vnd.jupyter.widget-view+json": {
       "model_id": "7ac544fba47d469491b3ec6a4c9af978",
       "version_major": 2,
       "version_minor": 0
      },
      "text/plain": [
       "PGD - Batches: 0it [00:00, ?it/s]"
      ]
     },
     "metadata": {},
     "output_type": "display_data"
    },
    {
     "name": "stdout",
     "output_type": "stream",
     "text": [
      "16/16 [==============================] - 0s 14ms/step - loss: 24.0303 - acc: 0.0000e+00\n"
     ]
    },
    {
     "data": {
      "application/vnd.jupyter.widget-view+json": {
       "model_id": "46eeef43cb9e44d9bd9f0f36f585ff36",
       "version_major": 2,
       "version_minor": 0
      },
      "text/plain": [
       "PGD - Batches: 0it [00:00, ?it/s]"
      ]
     },
     "metadata": {},
     "output_type": "display_data"
    },
    {
     "name": "stdout",
     "output_type": "stream",
     "text": [
      "16/16 [==============================] - 0s 14ms/step - loss: 29.1658 - acc: 0.0000e+00\n"
     ]
    },
    {
     "data": {
      "application/vnd.jupyter.widget-view+json": {
       "model_id": "2ab0f119eacf4482ab19276a73c1af8b",
       "version_major": 2,
       "version_minor": 0
      },
      "text/plain": [
       "PGD - Batches: 0it [00:00, ?it/s]"
      ]
     },
     "metadata": {},
     "output_type": "display_data"
    },
    {
     "name": "stdout",
     "output_type": "stream",
     "text": [
      "16/16 [==============================] - 0s 13ms/step - loss: 36.0587 - acc: 0.0000e+00\n",
      "PGD\n"
     ]
    },
    {
     "data": {
      "application/vnd.jupyter.widget-view+json": {
       "model_id": "399c606870f84fd698529d6798164293",
       "version_major": 2,
       "version_minor": 0
      },
      "text/plain": [
       "PGD - Batches: 0it [00:00, ?it/s]"
      ]
     },
     "metadata": {},
     "output_type": "display_data"
    },
    {
     "name": "stdout",
     "output_type": "stream",
     "text": [
      "16/16 [==============================] - 0s 13ms/step - loss: 0.3182 - acc: 0.8640\n"
     ]
    },
    {
     "data": {
      "application/vnd.jupyter.widget-view+json": {
       "model_id": "33ba41deac5b43e5891e98f3e68cb7d0",
       "version_major": 2,
       "version_minor": 0
      },
      "text/plain": [
       "PGD - Batches: 0it [00:00, ?it/s]"
      ]
     },
     "metadata": {},
     "output_type": "display_data"
    },
    {
     "name": "stdout",
     "output_type": "stream",
     "text": [
      "16/16 [==============================] - 0s 13ms/step - loss: 1.1779 - acc: 0.6280\n"
     ]
    },
    {
     "data": {
      "application/vnd.jupyter.widget-view+json": {
       "model_id": "0190e3b80234425d8c248cfca9be74c8",
       "version_major": 2,
       "version_minor": 0
      },
      "text/plain": [
       "PGD - Batches: 0it [00:00, ?it/s]"
      ]
     },
     "metadata": {},
     "output_type": "display_data"
    },
    {
     "name": "stdout",
     "output_type": "stream",
     "text": [
      "16/16 [==============================] - 0s 13ms/step - loss: 3.0632 - acc: 0.3200\n"
     ]
    },
    {
     "data": {
      "application/vnd.jupyter.widget-view+json": {
       "model_id": "b5a005cc9f4544b0bceac4dad28ba6c6",
       "version_major": 2,
       "version_minor": 0
      },
      "text/plain": [
       "PGD - Batches: 0it [00:00, ?it/s]"
      ]
     },
     "metadata": {},
     "output_type": "display_data"
    },
    {
     "name": "stdout",
     "output_type": "stream",
     "text": [
      "16/16 [==============================] - 0s 13ms/step - loss: 6.4603 - acc: 0.0480\n"
     ]
    },
    {
     "data": {
      "application/vnd.jupyter.widget-view+json": {
       "model_id": "bd6676d033624d7c939fb331cb406886",
       "version_major": 2,
       "version_minor": 0
      },
      "text/plain": [
       "PGD - Batches: 0it [00:00, ?it/s]"
      ]
     },
     "metadata": {},
     "output_type": "display_data"
    },
    {
     "name": "stdout",
     "output_type": "stream",
     "text": [
      "16/16 [==============================] - 0s 13ms/step - loss: 11.3739 - acc: 0.0220\n"
     ]
    },
    {
     "data": {
      "application/vnd.jupyter.widget-view+json": {
       "model_id": "1d3f3bb753634640a106458229222b69",
       "version_major": 2,
       "version_minor": 0
      },
      "text/plain": [
       "PGD - Batches: 0it [00:00, ?it/s]"
      ]
     },
     "metadata": {},
     "output_type": "display_data"
    },
    {
     "name": "stdout",
     "output_type": "stream",
     "text": [
      "16/16 [==============================] - 0s 13ms/step - loss: 17.6142 - acc: 0.0200\n"
     ]
    },
    {
     "data": {
      "application/vnd.jupyter.widget-view+json": {
       "model_id": "1ac7fcfb5a364b35b2c0b9f5269d9035",
       "version_major": 2,
       "version_minor": 0
      },
      "text/plain": [
       "PGD - Batches: 0it [00:00, ?it/s]"
      ]
     },
     "metadata": {},
     "output_type": "display_data"
    },
    {
     "name": "stdout",
     "output_type": "stream",
     "text": [
      "16/16 [==============================] - 0s 13ms/step - loss: 24.9451 - acc: 0.0180\n"
     ]
    },
    {
     "data": {
      "application/vnd.jupyter.widget-view+json": {
       "model_id": "69b2ef3f67434294a90b128b70c3d46e",
       "version_major": 2,
       "version_minor": 0
      },
      "text/plain": [
       "PGD - Batches: 0it [00:00, ?it/s]"
      ]
     },
     "metadata": {},
     "output_type": "display_data"
    },
    {
     "name": "stdout",
     "output_type": "stream",
     "text": [
      "16/16 [==============================] - 0s 13ms/step - loss: 33.2196 - acc: 0.0180\n"
     ]
    },
    {
     "data": {
      "application/vnd.jupyter.widget-view+json": {
       "model_id": "3d080f4ff7134fe2bc9cdd60e203f3ba",
       "version_major": 2,
       "version_minor": 0
      },
      "text/plain": [
       "PGD - Batches: 0it [00:00, ?it/s]"
      ]
     },
     "metadata": {},
     "output_type": "display_data"
    },
    {
     "name": "stdout",
     "output_type": "stream",
     "text": [
      "16/16 [==============================] - 0s 13ms/step - loss: 42.4410 - acc: 0.0180\n"
     ]
    },
    {
     "data": {
      "application/vnd.jupyter.widget-view+json": {
       "model_id": "052f9734bef2486cba1156dc651ffd18",
       "version_major": 2,
       "version_minor": 0
      },
      "text/plain": [
       "PGD - Batches: 0it [00:00, ?it/s]"
      ]
     },
     "metadata": {},
     "output_type": "display_data"
    },
    {
     "name": "stdout",
     "output_type": "stream",
     "text": [
      "16/16 [==============================] - 0s 13ms/step - loss: 52.2259 - acc: 0.0180\n"
     ]
    },
    {
     "data": {
      "application/vnd.jupyter.widget-view+json": {
       "model_id": "5ecb50df50a64a5d9cf6b85defcd7c34",
       "version_major": 2,
       "version_minor": 0
      },
      "text/plain": [
       "PGD - Batches: 0it [00:00, ?it/s]"
      ]
     },
     "metadata": {},
     "output_type": "display_data"
    },
    {
     "name": "stdout",
     "output_type": "stream",
     "text": [
      "16/16 [==============================] - 0s 13ms/step - loss: 0.4530 - acc: 0.8420\n"
     ]
    },
    {
     "data": {
      "application/vnd.jupyter.widget-view+json": {
       "model_id": "b7b53cd9cee840ddb71d05d93d4bedfb",
       "version_major": 2,
       "version_minor": 0
      },
      "text/plain": [
       "PGD - Batches: 0it [00:00, ?it/s]"
      ]
     },
     "metadata": {},
     "output_type": "display_data"
    },
    {
     "name": "stdout",
     "output_type": "stream",
     "text": [
      "16/16 [==============================] - 0s 13ms/step - loss: 1.4257 - acc: 0.6060\n"
     ]
    },
    {
     "data": {
      "application/vnd.jupyter.widget-view+json": {
       "model_id": "d187907975fe4dedac4cb63327b8da06",
       "version_major": 2,
       "version_minor": 0
      },
      "text/plain": [
       "PGD - Batches: 0it [00:00, ?it/s]"
      ]
     },
     "metadata": {},
     "output_type": "display_data"
    },
    {
     "name": "stdout",
     "output_type": "stream",
     "text": [
      "16/16 [==============================] - 0s 13ms/step - loss: 3.4255 - acc: 0.3000\n"
     ]
    },
    {
     "data": {
      "application/vnd.jupyter.widget-view+json": {
       "model_id": "29a6b4508d944689b2675a7c0ec6caad",
       "version_major": 2,
       "version_minor": 0
      },
      "text/plain": [
       "PGD - Batches: 0it [00:00, ?it/s]"
      ]
     },
     "metadata": {},
     "output_type": "display_data"
    },
    {
     "name": "stdout",
     "output_type": "stream",
     "text": [
      "16/16 [==============================] - 0s 13ms/step - loss: 6.9472 - acc: 0.0280\n"
     ]
    },
    {
     "data": {
      "application/vnd.jupyter.widget-view+json": {
       "model_id": "0cc2c04db9b74bb6b9c18f0228cc0311",
       "version_major": 2,
       "version_minor": 0
      },
      "text/plain": [
       "PGD - Batches: 0it [00:00, ?it/s]"
      ]
     },
     "metadata": {},
     "output_type": "display_data"
    },
    {
     "name": "stdout",
     "output_type": "stream",
     "text": [
      "16/16 [==============================] - 0s 13ms/step - loss: 12.0143 - acc: 0.0020\n"
     ]
    },
    {
     "data": {
      "application/vnd.jupyter.widget-view+json": {
       "model_id": "41a3fd55d284491898e133196bfeae09",
       "version_major": 2,
       "version_minor": 0
      },
      "text/plain": [
       "PGD - Batches: 0it [00:00, ?it/s]"
      ]
     },
     "metadata": {},
     "output_type": "display_data"
    },
    {
     "name": "stdout",
     "output_type": "stream",
     "text": [
      "16/16 [==============================] - 0s 13ms/step - loss: 18.4671 - acc: 0.0000e+00\n"
     ]
    },
    {
     "data": {
      "application/vnd.jupyter.widget-view+json": {
       "model_id": "23d66926ca2f4fac97d3f70215679f37",
       "version_major": 2,
       "version_minor": 0
      },
      "text/plain": [
       "PGD - Batches: 0it [00:00, ?it/s]"
      ]
     },
     "metadata": {},
     "output_type": "display_data"
    },
    {
     "name": "stdout",
     "output_type": "stream",
     "text": [
      "16/16 [==============================] - 0s 13ms/step - loss: 25.9243 - acc: 0.0000e+00\n"
     ]
    },
    {
     "data": {
      "application/vnd.jupyter.widget-view+json": {
       "model_id": "4a3122be4f3a494a8820f2189560a420",
       "version_major": 2,
       "version_minor": 0
      },
      "text/plain": [
       "PGD - Batches: 0it [00:00, ?it/s]"
      ]
     },
     "metadata": {},
     "output_type": "display_data"
    },
    {
     "name": "stdout",
     "output_type": "stream",
     "text": [
      "16/16 [==============================] - 0s 13ms/step - loss: 34.3908 - acc: 0.0000e+00\n"
     ]
    },
    {
     "data": {
      "application/vnd.jupyter.widget-view+json": {
       "model_id": "490cae140fe14252b3b474bfa011d6f0",
       "version_major": 2,
       "version_minor": 0
      },
      "text/plain": [
       "PGD - Batches: 0it [00:00, ?it/s]"
      ]
     },
     "metadata": {},
     "output_type": "display_data"
    },
    {
     "name": "stdout",
     "output_type": "stream",
     "text": [
      "16/16 [==============================] - 0s 13ms/step - loss: 43.8214 - acc: 0.0000e+00\n"
     ]
    },
    {
     "data": {
      "application/vnd.jupyter.widget-view+json": {
       "model_id": "abf588cc825d474396139e69497b423b",
       "version_major": 2,
       "version_minor": 0
      },
      "text/plain": [
       "PGD - Batches: 0it [00:00, ?it/s]"
      ]
     },
     "metadata": {},
     "output_type": "display_data"
    },
    {
     "name": "stdout",
     "output_type": "stream",
     "text": [
      "16/16 [==============================] - 0s 13ms/step - loss: 53.8369 - acc: 0.0000e+00\n"
     ]
    },
    {
     "data": {
      "application/vnd.jupyter.widget-view+json": {
       "model_id": "7b45f3d292ec48fe94c22a5cc3731307",
       "version_major": 2,
       "version_minor": 0
      },
      "text/plain": [
       "PGD - Batches: 0it [00:00, ?it/s]"
      ]
     },
     "metadata": {},
     "output_type": "display_data"
    },
    {
     "name": "stdout",
     "output_type": "stream",
     "text": [
      "16/16 [==============================] - 0s 13ms/step - loss: 0.2292 - acc: 0.9300\n"
     ]
    },
    {
     "data": {
      "application/vnd.jupyter.widget-view+json": {
       "model_id": "99bf1eb497e048e884e8aab3449023b3",
       "version_major": 2,
       "version_minor": 0
      },
      "text/plain": [
       "PGD - Batches: 0it [00:00, ?it/s]"
      ]
     },
     "metadata": {},
     "output_type": "display_data"
    },
    {
     "name": "stdout",
     "output_type": "stream",
     "text": [
      "16/16 [==============================] - 0s 13ms/step - loss: 0.6577 - acc: 0.8000\n"
     ]
    },
    {
     "data": {
      "application/vnd.jupyter.widget-view+json": {
       "model_id": "08c3a37de6f942fd84531cbe5dfc4d1e",
       "version_major": 2,
       "version_minor": 0
      },
      "text/plain": [
       "PGD - Batches: 0it [00:00, ?it/s]"
      ]
     },
     "metadata": {},
     "output_type": "display_data"
    },
    {
     "name": "stdout",
     "output_type": "stream",
     "text": [
      "16/16 [==============================] - 0s 13ms/step - loss: 1.9788 - acc: 0.4620\n"
     ]
    },
    {
     "data": {
      "application/vnd.jupyter.widget-view+json": {
       "model_id": "5119cbe66abe4de68d9716ad4ccadf41",
       "version_major": 2,
       "version_minor": 0
      },
      "text/plain": [
       "PGD - Batches: 0it [00:00, ?it/s]"
      ]
     },
     "metadata": {},
     "output_type": "display_data"
    },
    {
     "name": "stdout",
     "output_type": "stream",
     "text": [
      "16/16 [==============================] - 0s 13ms/step - loss: 5.1777 - acc: 0.0620\n"
     ]
    },
    {
     "data": {
      "application/vnd.jupyter.widget-view+json": {
       "model_id": "ada97ed915b046b49565e68474e8cb8b",
       "version_major": 2,
       "version_minor": 0
      },
      "text/plain": [
       "PGD - Batches: 0it [00:00, ?it/s]"
      ]
     },
     "metadata": {},
     "output_type": "display_data"
    },
    {
     "name": "stdout",
     "output_type": "stream",
     "text": [
      "16/16 [==============================] - 0s 13ms/step - loss: 10.3767 - acc: 0.0000e+00\n"
     ]
    },
    {
     "data": {
      "application/vnd.jupyter.widget-view+json": {
       "model_id": "2518e5c635ac4888918eeaaead856c4e",
       "version_major": 2,
       "version_minor": 0
      },
      "text/plain": [
       "PGD - Batches: 0it [00:00, ?it/s]"
      ]
     },
     "metadata": {},
     "output_type": "display_data"
    },
    {
     "name": "stdout",
     "output_type": "stream",
     "text": [
      "16/16 [==============================] - 0s 13ms/step - loss: 15.6742 - acc: 0.0000e+00\n"
     ]
    },
    {
     "data": {
      "application/vnd.jupyter.widget-view+json": {
       "model_id": "11017b930f06482996c32560a492f20d",
       "version_major": 2,
       "version_minor": 0
      },
      "text/plain": [
       "PGD - Batches: 0it [00:00, ?it/s]"
      ]
     },
     "metadata": {},
     "output_type": "display_data"
    },
    {
     "name": "stdout",
     "output_type": "stream",
     "text": [
      "16/16 [==============================] - 0s 13ms/step - loss: 19.5015 - acc: 0.0000e+00\n"
     ]
    },
    {
     "data": {
      "application/vnd.jupyter.widget-view+json": {
       "model_id": "cced6c48455d4dae8fd7d685ec1a4907",
       "version_major": 2,
       "version_minor": 0
      },
      "text/plain": [
       "PGD - Batches: 0it [00:00, ?it/s]"
      ]
     },
     "metadata": {},
     "output_type": "display_data"
    },
    {
     "name": "stdout",
     "output_type": "stream",
     "text": [
      "16/16 [==============================] - 0s 13ms/step - loss: 24.0303 - acc: 0.0000e+00\n"
     ]
    },
    {
     "data": {
      "application/vnd.jupyter.widget-view+json": {
       "model_id": "7e73c984d2cc4f689fc9215192a98fdb",
       "version_major": 2,
       "version_minor": 0
      },
      "text/plain": [
       "PGD - Batches: 0it [00:00, ?it/s]"
      ]
     },
     "metadata": {},
     "output_type": "display_data"
    },
    {
     "name": "stdout",
     "output_type": "stream",
     "text": [
      "16/16 [==============================] - 0s 13ms/step - loss: 29.1658 - acc: 0.0000e+00\n"
     ]
    },
    {
     "data": {
      "application/vnd.jupyter.widget-view+json": {
       "model_id": "ceecba54ca104062ac634965ef055175",
       "version_major": 2,
       "version_minor": 0
      },
      "text/plain": [
       "PGD - Batches: 0it [00:00, ?it/s]"
      ]
     },
     "metadata": {},
     "output_type": "display_data"
    },
    {
     "name": "stdout",
     "output_type": "stream",
     "text": [
      "16/16 [==============================] - 0s 13ms/step - loss: 36.0587 - acc: 0.0000e+00\n",
      "CW\n"
     ]
    },
    {
     "data": {
      "application/vnd.jupyter.widget-view+json": {
       "model_id": "1bceaf68ccb944508352405cfb341275",
       "version_major": 2,
       "version_minor": 0
      },
      "text/plain": [
       "C&W L_inf:   0%|          | 0/8 [00:00<?, ?it/s]"
      ]
     },
     "metadata": {},
     "output_type": "display_data"
    },
    {
     "name": "stdout",
     "output_type": "stream",
     "text": [
      "16/16 [==============================] - 0s 13ms/step - loss: 0.3038 - acc: 0.7900\n"
     ]
    },
    {
     "data": {
      "application/vnd.jupyter.widget-view+json": {
       "model_id": "a0199122452b45e282fe03627915e303",
       "version_major": 2,
       "version_minor": 0
      },
      "text/plain": [
       "C&W L_inf:   0%|          | 0/8 [00:00<?, ?it/s]"
      ]
     },
     "metadata": {},
     "output_type": "display_data"
    },
    {
     "name": "stdout",
     "output_type": "stream",
     "text": [
      "16/16 [==============================] - 0s 13ms/step - loss: 0.4351 - acc: 0.6460\n"
     ]
    },
    {
     "data": {
      "application/vnd.jupyter.widget-view+json": {
       "model_id": "911e170c3f8d4940a2e2956880c262c1",
       "version_major": 2,
       "version_minor": 0
      },
      "text/plain": [
       "C&W L_inf:   0%|          | 0/8 [00:00<?, ?it/s]"
      ]
     },
     "metadata": {},
     "output_type": "display_data"
    },
    {
     "name": "stdout",
     "output_type": "stream",
     "text": [
      "16/16 [==============================] - 0s 13ms/step - loss: 0.5521 - acc: 0.5840\n"
     ]
    },
    {
     "data": {
      "application/vnd.jupyter.widget-view+json": {
       "model_id": "436cd9ed20b44d41ad33d4b30b9070d7",
       "version_major": 2,
       "version_minor": 0
      },
      "text/plain": [
       "C&W L_inf:   0%|          | 0/8 [00:00<?, ?it/s]"
      ]
     },
     "metadata": {},
     "output_type": "display_data"
    },
    {
     "name": "stdout",
     "output_type": "stream",
     "text": [
      "16/16 [==============================] - 0s 13ms/step - loss: 0.5855 - acc: 0.5860\n"
     ]
    },
    {
     "data": {
      "application/vnd.jupyter.widget-view+json": {
       "model_id": "90f046942af1462ab65b18164bd040a6",
       "version_major": 2,
       "version_minor": 0
      },
      "text/plain": [
       "C&W L_inf:   0%|          | 0/8 [00:00<?, ?it/s]"
      ]
     },
     "metadata": {},
     "output_type": "display_data"
    },
    {
     "name": "stdout",
     "output_type": "stream",
     "text": [
      "16/16 [==============================] - 0s 13ms/step - loss: 0.7440 - acc: 0.5400\n"
     ]
    },
    {
     "data": {
      "application/vnd.jupyter.widget-view+json": {
       "model_id": "7c8450a7dabe4bf6b031df65cffe25ac",
       "version_major": 2,
       "version_minor": 0
      },
      "text/plain": [
       "C&W L_inf:   0%|          | 0/8 [00:00<?, ?it/s]"
      ]
     },
     "metadata": {},
     "output_type": "display_data"
    },
    {
     "name": "stdout",
     "output_type": "stream",
     "text": [
      "16/16 [==============================] - 0s 13ms/step - loss: 0.7677 - acc: 0.5200\n"
     ]
    },
    {
     "data": {
      "application/vnd.jupyter.widget-view+json": {
       "model_id": "be37fcb51c524861943ad605509b2006",
       "version_major": 2,
       "version_minor": 0
      },
      "text/plain": [
       "C&W L_inf:   0%|          | 0/8 [00:00<?, ?it/s]"
      ]
     },
     "metadata": {},
     "output_type": "display_data"
    },
    {
     "name": "stdout",
     "output_type": "stream",
     "text": [
      "16/16 [==============================] - 0s 13ms/step - loss: 0.8976 - acc: 0.4880\n"
     ]
    },
    {
     "data": {
      "application/vnd.jupyter.widget-view+json": {
       "model_id": "129e7e8c562143399d03d2f98d4cb033",
       "version_major": 2,
       "version_minor": 0
      },
      "text/plain": [
       "C&W L_inf:   0%|          | 0/8 [00:00<?, ?it/s]"
      ]
     },
     "metadata": {},
     "output_type": "display_data"
    },
    {
     "name": "stdout",
     "output_type": "stream",
     "text": [
      "16/16 [==============================] - 0s 13ms/step - loss: 0.9850 - acc: 0.4800\n"
     ]
    },
    {
     "data": {
      "application/vnd.jupyter.widget-view+json": {
       "model_id": "8b87f5f5c63446618545977213f43416",
       "version_major": 2,
       "version_minor": 0
      },
      "text/plain": [
       "C&W L_inf:   0%|          | 0/8 [00:00<?, ?it/s]"
      ]
     },
     "metadata": {},
     "output_type": "display_data"
    },
    {
     "name": "stdout",
     "output_type": "stream",
     "text": [
      "16/16 [==============================] - 0s 13ms/step - loss: 0.9999 - acc: 0.4800\n"
     ]
    },
    {
     "data": {
      "application/vnd.jupyter.widget-view+json": {
       "model_id": "4ee688347be34ffd8536fe14d309c1d3",
       "version_major": 2,
       "version_minor": 0
      },
      "text/plain": [
       "C&W L_inf:   0%|          | 0/8 [00:00<?, ?it/s]"
      ]
     },
     "metadata": {},
     "output_type": "display_data"
    },
    {
     "name": "stdout",
     "output_type": "stream",
     "text": [
      "16/16 [==============================] - 0s 13ms/step - loss: 1.1909 - acc: 0.4700\n"
     ]
    },
    {
     "data": {
      "application/vnd.jupyter.widget-view+json": {
       "model_id": "440d1cdc29da45358aec623079dea12f",
       "version_major": 2,
       "version_minor": 0
      },
      "text/plain": [
       "C&W L_inf:   0%|          | 0/8 [00:00<?, ?it/s]"
      ]
     },
     "metadata": {},
     "output_type": "display_data"
    },
    {
     "name": "stdout",
     "output_type": "stream",
     "text": [
      "16/16 [==============================] - 0s 13ms/step - loss: 0.3431 - acc: 0.7440\n"
     ]
    },
    {
     "data": {
      "application/vnd.jupyter.widget-view+json": {
       "model_id": "75e240818b954c839200dbc7d65191dd",
       "version_major": 2,
       "version_minor": 0
      },
      "text/plain": [
       "C&W L_inf:   0%|          | 0/8 [00:00<?, ?it/s]"
      ]
     },
     "metadata": {},
     "output_type": "display_data"
    },
    {
     "name": "stdout",
     "output_type": "stream",
     "text": [
      "16/16 [==============================] - 0s 14ms/step - loss: 0.4970 - acc: 0.5820\n"
     ]
    },
    {
     "data": {
      "application/vnd.jupyter.widget-view+json": {
       "model_id": "4e34d356072b46b08a2caf96a93e532d",
       "version_major": 2,
       "version_minor": 0
      },
      "text/plain": [
       "C&W L_inf:   0%|          | 0/8 [00:00<?, ?it/s]"
      ]
     },
     "metadata": {},
     "output_type": "display_data"
    },
    {
     "name": "stdout",
     "output_type": "stream",
     "text": [
      "16/16 [==============================] - 0s 14ms/step - loss: 0.6389 - acc: 0.5160\n"
     ]
    },
    {
     "data": {
      "application/vnd.jupyter.widget-view+json": {
       "model_id": "32b2c9f0ae2c430dba2905e127c963bc",
       "version_major": 2,
       "version_minor": 0
      },
      "text/plain": [
       "C&W L_inf:   0%|          | 0/8 [00:00<?, ?it/s]"
      ]
     },
     "metadata": {},
     "output_type": "display_data"
    },
    {
     "name": "stdout",
     "output_type": "stream",
     "text": [
      "16/16 [==============================] - 0s 14ms/step - loss: 0.7677 - acc: 0.4580\n"
     ]
    },
    {
     "data": {
      "application/vnd.jupyter.widget-view+json": {
       "model_id": "fc27be3fbf1c4a8d9d0615ccc8c00c4b",
       "version_major": 2,
       "version_minor": 0
      },
      "text/plain": [
       "C&W L_inf:   0%|          | 0/8 [00:00<?, ?it/s]"
      ]
     },
     "metadata": {},
     "output_type": "display_data"
    },
    {
     "name": "stdout",
     "output_type": "stream",
     "text": [
      "16/16 [==============================] - 0s 14ms/step - loss: 0.9347 - acc: 0.4280\n"
     ]
    },
    {
     "data": {
      "application/vnd.jupyter.widget-view+json": {
       "model_id": "ca839fee47564429ae4a62a4aa5bd666",
       "version_major": 2,
       "version_minor": 0
      },
      "text/plain": [
       "C&W L_inf:   0%|          | 0/8 [00:00<?, ?it/s]"
      ]
     },
     "metadata": {},
     "output_type": "display_data"
    },
    {
     "name": "stdout",
     "output_type": "stream",
     "text": [
      "16/16 [==============================] - 0s 14ms/step - loss: 0.9820 - acc: 0.3900\n"
     ]
    },
    {
     "data": {
      "application/vnd.jupyter.widget-view+json": {
       "model_id": "d56721a5040347d998d8856773dedc50",
       "version_major": 2,
       "version_minor": 0
      },
      "text/plain": [
       "C&W L_inf:   0%|          | 0/8 [00:00<?, ?it/s]"
      ]
     },
     "metadata": {},
     "output_type": "display_data"
    },
    {
     "name": "stdout",
     "output_type": "stream",
     "text": [
      "16/16 [==============================] - 0s 14ms/step - loss: 1.1444 - acc: 0.3840\n"
     ]
    },
    {
     "data": {
      "application/vnd.jupyter.widget-view+json": {
       "model_id": "e2a6a3052a1c411ebed15bfbf964e113",
       "version_major": 2,
       "version_minor": 0
      },
      "text/plain": [
       "C&W L_inf:   0%|          | 0/8 [00:00<?, ?it/s]"
      ]
     },
     "metadata": {},
     "output_type": "display_data"
    },
    {
     "name": "stdout",
     "output_type": "stream",
     "text": [
      "16/16 [==============================] - 0s 13ms/step - loss: 1.4056 - acc: 0.3600\n"
     ]
    },
    {
     "data": {
      "application/vnd.jupyter.widget-view+json": {
       "model_id": "0c6ad267176a4874b86d72b9f66ba96f",
       "version_major": 2,
       "version_minor": 0
      },
      "text/plain": [
       "C&W L_inf:   0%|          | 0/8 [00:00<?, ?it/s]"
      ]
     },
     "metadata": {},
     "output_type": "display_data"
    },
    {
     "name": "stdout",
     "output_type": "stream",
     "text": [
      "16/16 [==============================] - 0s 14ms/step - loss: 1.4008 - acc: 0.3620\n"
     ]
    },
    {
     "data": {
      "application/vnd.jupyter.widget-view+json": {
       "model_id": "c84f1d35de9449f296b361ce4bf5ceaa",
       "version_major": 2,
       "version_minor": 0
      },
      "text/plain": [
       "C&W L_inf:   0%|          | 0/8 [00:00<?, ?it/s]"
      ]
     },
     "metadata": {},
     "output_type": "display_data"
    },
    {
     "name": "stdout",
     "output_type": "stream",
     "text": [
      "16/16 [==============================] - 0s 14ms/step - loss: 1.5006 - acc: 0.3500\n"
     ]
    },
    {
     "data": {
      "application/vnd.jupyter.widget-view+json": {
       "model_id": "0e2865ff32c34532ac37c483f8d458dd",
       "version_major": 2,
       "version_minor": 0
      },
      "text/plain": [
       "C&W L_inf:   0%|          | 0/8 [00:00<?, ?it/s]"
      ]
     },
     "metadata": {},
     "output_type": "display_data"
    },
    {
     "name": "stdout",
     "output_type": "stream",
     "text": [
      "16/16 [==============================] - 0s 14ms/step - loss: 0.2256 - acc: 0.8560\n"
     ]
    },
    {
     "data": {
      "application/vnd.jupyter.widget-view+json": {
       "model_id": "7a96ade0ff8440c48ec2c7f07babf23c",
       "version_major": 2,
       "version_minor": 0
      },
      "text/plain": [
       "C&W L_inf:   0%|          | 0/8 [00:00<?, ?it/s]"
      ]
     },
     "metadata": {},
     "output_type": "display_data"
    },
    {
     "name": "stdout",
     "output_type": "stream",
     "text": [
      "16/16 [==============================] - 0s 14ms/step - loss: 0.3243 - acc: 0.7820\n"
     ]
    },
    {
     "data": {
      "application/vnd.jupyter.widget-view+json": {
       "model_id": "fad7a41c0afc454b95df9663a4882f3b",
       "version_major": 2,
       "version_minor": 0
      },
      "text/plain": [
       "C&W L_inf:   0%|          | 0/8 [00:00<?, ?it/s]"
      ]
     },
     "metadata": {},
     "output_type": "display_data"
    },
    {
     "name": "stdout",
     "output_type": "stream",
     "text": [
      "16/16 [==============================] - 0s 13ms/step - loss: 0.4240 - acc: 0.7360\n"
     ]
    },
    {
     "data": {
      "application/vnd.jupyter.widget-view+json": {
       "model_id": "89b41d0df989494db70f3921749d320c",
       "version_major": 2,
       "version_minor": 0
      },
      "text/plain": [
       "C&W L_inf:   0%|          | 0/8 [00:00<?, ?it/s]"
      ]
     },
     "metadata": {},
     "output_type": "display_data"
    },
    {
     "name": "stdout",
     "output_type": "stream",
     "text": [
      "16/16 [==============================] - 0s 13ms/step - loss: 0.5541 - acc: 0.6780\n"
     ]
    },
    {
     "data": {
      "application/vnd.jupyter.widget-view+json": {
       "model_id": "7e5b146e10e64d3d82e1755a9d211c8e",
       "version_major": 2,
       "version_minor": 0
      },
      "text/plain": [
       "C&W L_inf:   0%|          | 0/8 [00:00<?, ?it/s]"
      ]
     },
     "metadata": {},
     "output_type": "display_data"
    },
    {
     "name": "stdout",
     "output_type": "stream",
     "text": [
      "16/16 [==============================] - ETA: 0s - loss: 0.6283 - acc: 0.711 - 0s 13ms/step - loss: 0.6227 - acc: 0.7080\n"
     ]
    },
    {
     "data": {
      "application/vnd.jupyter.widget-view+json": {
       "model_id": "835ebcb592e04b78bda7caf2b166fa73",
       "version_major": 2,
       "version_minor": 0
      },
      "text/plain": [
       "C&W L_inf:   0%|          | 0/8 [00:00<?, ?it/s]"
      ]
     },
     "metadata": {},
     "output_type": "display_data"
    },
    {
     "name": "stdout",
     "output_type": "stream",
     "text": [
      "16/16 [==============================] - 0s 13ms/step - loss: 0.7406 - acc: 0.6660\n"
     ]
    },
    {
     "data": {
      "application/vnd.jupyter.widget-view+json": {
       "model_id": "0dc4d2322c11420c8c336cfb935c0c4c",
       "version_major": 2,
       "version_minor": 0
      },
      "text/plain": [
       "C&W L_inf:   0%|          | 0/8 [00:00<?, ?it/s]"
      ]
     },
     "metadata": {},
     "output_type": "display_data"
    },
    {
     "name": "stdout",
     "output_type": "stream",
     "text": [
      "16/16 [==============================] - 0s 13ms/step - loss: 0.8208 - acc: 0.6780\n"
     ]
    },
    {
     "data": {
      "application/vnd.jupyter.widget-view+json": {
       "model_id": "b1bc95e2fd0c4dfe9951add04b725fe5",
       "version_major": 2,
       "version_minor": 0
      },
      "text/plain": [
       "C&W L_inf:   0%|          | 0/8 [00:00<?, ?it/s]"
      ]
     },
     "metadata": {},
     "output_type": "display_data"
    },
    {
     "name": "stdout",
     "output_type": "stream",
     "text": [
      "16/16 [==============================] - 0s 13ms/step - loss: 0.9268 - acc: 0.6640\n"
     ]
    },
    {
     "data": {
      "application/vnd.jupyter.widget-view+json": {
       "model_id": "24dd3fccf2484f23949199eefa140ba5",
       "version_major": 2,
       "version_minor": 0
      },
      "text/plain": [
       "C&W L_inf:   0%|          | 0/8 [00:00<?, ?it/s]"
      ]
     },
     "metadata": {},
     "output_type": "display_data"
    },
    {
     "name": "stdout",
     "output_type": "stream",
     "text": [
      "16/16 [==============================] - 0s 13ms/step - loss: 1.1127 - acc: 0.6500\n"
     ]
    },
    {
     "data": {
      "application/vnd.jupyter.widget-view+json": {
       "model_id": "18e26777edcd493683d190aa37bbe443",
       "version_major": 2,
       "version_minor": 0
      },
      "text/plain": [
       "C&W L_inf:   0%|          | 0/8 [00:00<?, ?it/s]"
      ]
     },
     "metadata": {},
     "output_type": "display_data"
    },
    {
     "name": "stdout",
     "output_type": "stream",
     "text": [
      "16/16 [==============================] - 0s 13ms/step - loss: 1.2284 - acc: 0.6460\n"
     ]
    }
   ],
   "source": [
    "for attack_name in with_eps:\n",
    "    if attack_name == 'Orig':\n",
    "        continue\n",
    "    print(attack_name)\n",
    "    attack_type = eval(attack_name)\n",
    "    for results_dict, targeted, y in [(attack_vals, False, None), (labeled_attack_vals, False, test_labels), \\\n",
    "                                      (targeted_attack_vals, True, target_labels)]:\n",
    "        vals = []\n",
    "        for eps in interval:\n",
    "            params = {'batch_size': batch_size, 'targeted': targeted, 'eps': eps}\n",
    "            if attack_name == 'PGD':\n",
    "                params['num_random_init'] = 1\n",
    "            if attack_name != 'CW':\n",
    "                params['eps_step'] = eps / 3\n",
    "            if attack_name != 'FGSM':\n",
    "                params['max_iter'] = max_iter\n",
    "            attack = attack_type(classifier, **params)\n",
    "            test_data_adv = attack.generate(x=test_data, y=y)\n",
    "            loss_test, accuracy_test = model.evaluate(test_data_adv, test_labels)\n",
    "            perturbation = np.nanmean(np.abs((test_data_adv - test_data)))\n",
    "            vals.append((loss_test, accuracy_test, perturbation, test_data_adv[sample_index]))\n",
    "        results_dict[attack_name] = vals"
   ]
  },
  {
   "cell_type": "code",
   "execution_count": 18,
   "metadata": {
    "collapsed": true
   },
   "outputs": [
    {
     "name": "stdout",
     "output_type": "stream",
     "text": [
      "PGD\n"
     ]
    },
    {
     "data": {
      "application/vnd.jupyter.widget-view+json": {
       "model_id": "76491074b6db4154bacd4584e05ab6e8",
       "version_major": 2,
       "version_minor": 0
      },
      "text/plain": [
       "PGD - Batches: 0it [00:00, ?it/s]"
      ]
     },
     "metadata": {},
     "output_type": "display_data"
    },
    {
     "name": "stdout",
     "output_type": "stream",
     "text": [
      "16/16 [==============================] - 1s 75ms/step - loss: 0.3170 - acc: 0.8660\n"
     ]
    },
    {
     "data": {
      "application/vnd.jupyter.widget-view+json": {
       "model_id": "936219c9911f43bc9eb220b67304f41d",
       "version_major": 2,
       "version_minor": 0
      },
      "text/plain": [
       "PGD - Batches: 0it [00:00, ?it/s]"
      ]
     },
     "metadata": {},
     "output_type": "display_data"
    },
    {
     "name": "stdout",
     "output_type": "stream",
     "text": [
      "16/16 [==============================] - 1s 77ms/step - loss: 1.1649 - acc: 0.6280\n"
     ]
    },
    {
     "data": {
      "application/vnd.jupyter.widget-view+json": {
       "model_id": "5afc23ddc2ee4b578b0ff3a093ae2c40",
       "version_major": 2,
       "version_minor": 0
      },
      "text/plain": [
       "PGD - Batches: 0it [00:00, ?it/s]"
      ]
     },
     "metadata": {},
     "output_type": "display_data"
    },
    {
     "name": "stdout",
     "output_type": "stream",
     "text": [
      "16/16 [==============================] - 1s 72ms/step - loss: 3.0198 - acc: 0.3220\n"
     ]
    },
    {
     "data": {
      "application/vnd.jupyter.widget-view+json": {
       "model_id": "0fe68bfdf0ef404982ff63fd4287315f",
       "version_major": 2,
       "version_minor": 0
      },
      "text/plain": [
       "PGD - Batches: 0it [00:00, ?it/s]"
      ]
     },
     "metadata": {},
     "output_type": "display_data"
    },
    {
     "name": "stdout",
     "output_type": "stream",
     "text": [
      "16/16 [==============================] - 1s 74ms/step - loss: 6.3205 - acc: 0.0560\n"
     ]
    },
    {
     "data": {
      "application/vnd.jupyter.widget-view+json": {
       "model_id": "de147d9d7d264ae191a6c20b75d58803",
       "version_major": 2,
       "version_minor": 0
      },
      "text/plain": [
       "PGD - Batches: 0it [00:00, ?it/s]"
      ]
     },
     "metadata": {},
     "output_type": "display_data"
    },
    {
     "name": "stdout",
     "output_type": "stream",
     "text": [
      "16/16 [==============================] - 1s 78ms/step - loss: 11.2564 - acc: 0.0220\n"
     ]
    },
    {
     "data": {
      "application/vnd.jupyter.widget-view+json": {
       "model_id": "2b725f3d13964acd805485b6d7eb020e",
       "version_major": 2,
       "version_minor": 0
      },
      "text/plain": [
       "PGD - Batches: 0it [00:00, ?it/s]"
      ]
     },
     "metadata": {},
     "output_type": "display_data"
    },
    {
     "name": "stdout",
     "output_type": "stream",
     "text": [
      "16/16 [==============================] - 1s 71ms/step - loss: 17.5476 - acc: 0.0220\n"
     ]
    },
    {
     "data": {
      "application/vnd.jupyter.widget-view+json": {
       "model_id": "99f3174adfb647d9a990b85935c24841",
       "version_major": 2,
       "version_minor": 0
      },
      "text/plain": [
       "PGD - Batches: 0it [00:00, ?it/s]"
      ]
     },
     "metadata": {},
     "output_type": "display_data"
    },
    {
     "name": "stdout",
     "output_type": "stream",
     "text": [
      "16/16 [==============================] - 1s 76ms/step - loss: 25.1213 - acc: 0.0180\n"
     ]
    },
    {
     "data": {
      "application/vnd.jupyter.widget-view+json": {
       "model_id": "118f64b0b2bd46d49c4418bd94688585",
       "version_major": 2,
       "version_minor": 0
      },
      "text/plain": [
       "PGD - Batches: 0it [00:00, ?it/s]"
      ]
     },
     "metadata": {},
     "output_type": "display_data"
    },
    {
     "name": "stdout",
     "output_type": "stream",
     "text": [
      "16/16 [==============================] - 1s 87ms/step - loss: 33.7584 - acc: 0.0180\n"
     ]
    },
    {
     "data": {
      "application/vnd.jupyter.widget-view+json": {
       "model_id": "a34c800b8b3c46d1b3a2572f81de0d48",
       "version_major": 2,
       "version_minor": 0
      },
      "text/plain": [
       "PGD - Batches: 0it [00:00, ?it/s]"
      ]
     },
     "metadata": {},
     "output_type": "display_data"
    },
    {
     "name": "stdout",
     "output_type": "stream",
     "text": [
      "16/16 [==============================] - 1s 77ms/step - loss: 43.3150 - acc: 0.0180\n"
     ]
    },
    {
     "data": {
      "application/vnd.jupyter.widget-view+json": {
       "model_id": "7f58997977d14acf9dc6b931106c5460",
       "version_major": 2,
       "version_minor": 0
      },
      "text/plain": [
       "PGD - Batches: 0it [00:00, ?it/s]"
      ]
     },
     "metadata": {},
     "output_type": "display_data"
    },
    {
     "name": "stdout",
     "output_type": "stream",
     "text": [
      "16/16 [==============================] - 1s 71ms/step - loss: 53.2919 - acc: 0.0200\n"
     ]
    },
    {
     "data": {
      "application/vnd.jupyter.widget-view+json": {
       "model_id": "935825260b92422287231f74ae362195",
       "version_major": 2,
       "version_minor": 0
      },
      "text/plain": [
       "PGD - Batches: 0it [00:00, ?it/s]"
      ]
     },
     "metadata": {},
     "output_type": "display_data"
    },
    {
     "name": "stdout",
     "output_type": "stream",
     "text": [
      "16/16 [==============================] - 1s 74ms/step - loss: 0.4516 - acc: 0.8440\n"
     ]
    },
    {
     "data": {
      "application/vnd.jupyter.widget-view+json": {
       "model_id": "090eada0bd004e1786257f9fff6f2df9",
       "version_major": 2,
       "version_minor": 0
      },
      "text/plain": [
       "PGD - Batches: 0it [00:00, ?it/s]"
      ]
     },
     "metadata": {},
     "output_type": "display_data"
    },
    {
     "name": "stdout",
     "output_type": "stream",
     "text": [
      "16/16 [==============================] - 1s 71ms/step - loss: 1.4146 - acc: 0.6080\n"
     ]
    },
    {
     "data": {
      "application/vnd.jupyter.widget-view+json": {
       "model_id": "19243537069b4da3a0113d1af1051ba1",
       "version_major": 2,
       "version_minor": 0
      },
      "text/plain": [
       "PGD - Batches: 0it [00:00, ?it/s]"
      ]
     },
     "metadata": {},
     "output_type": "display_data"
    },
    {
     "name": "stdout",
     "output_type": "stream",
     "text": [
      "16/16 [==============================] - 1s 74ms/step - loss: 3.3733 - acc: 0.3100\n"
     ]
    },
    {
     "data": {
      "application/vnd.jupyter.widget-view+json": {
       "model_id": "21d9d3a54ff3476aa58f7245b028c844",
       "version_major": 2,
       "version_minor": 0
      },
      "text/plain": [
       "PGD - Batches: 0it [00:00, ?it/s]"
      ]
     },
     "metadata": {},
     "output_type": "display_data"
    },
    {
     "name": "stdout",
     "output_type": "stream",
     "text": [
      "16/16 [==============================] - 1s 74ms/step - loss: 6.8264 - acc: 0.0340\n"
     ]
    },
    {
     "data": {
      "application/vnd.jupyter.widget-view+json": {
       "model_id": "f06f84ad71844026b0a98f8ab4100d20",
       "version_major": 2,
       "version_minor": 0
      },
      "text/plain": [
       "PGD - Batches: 0it [00:00, ?it/s]"
      ]
     },
     "metadata": {},
     "output_type": "display_data"
    },
    {
     "name": "stdout",
     "output_type": "stream",
     "text": [
      "16/16 [==============================] - 1s 74ms/step - loss: 11.9310 - acc: 0.0020\n"
     ]
    },
    {
     "data": {
      "application/vnd.jupyter.widget-view+json": {
       "model_id": "88f3d9221b5d404d98432ebd03e109af",
       "version_major": 2,
       "version_minor": 0
      },
      "text/plain": [
       "PGD - Batches: 0it [00:00, ?it/s]"
      ]
     },
     "metadata": {},
     "output_type": "display_data"
    },
    {
     "name": "stdout",
     "output_type": "stream",
     "text": [
      "16/16 [==============================] - 1s 75ms/step - loss: 18.4270 - acc: 0.0000e+00\n"
     ]
    },
    {
     "data": {
      "application/vnd.jupyter.widget-view+json": {
       "model_id": "eadc4c3270bf496c858ff0d97083122a",
       "version_major": 2,
       "version_minor": 0
      },
      "text/plain": [
       "PGD - Batches: 0it [00:00, ?it/s]"
      ]
     },
     "metadata": {},
     "output_type": "display_data"
    },
    {
     "name": "stdout",
     "output_type": "stream",
     "text": [
      "16/16 [==============================] - 1s 75ms/step - loss: 26.1072 - acc: 0.0000e+00\n"
     ]
    },
    {
     "data": {
      "application/vnd.jupyter.widget-view+json": {
       "model_id": "001bcb167b024c618e515619a6c4c490",
       "version_major": 2,
       "version_minor": 0
      },
      "text/plain": [
       "PGD - Batches: 0it [00:00, ?it/s]"
      ]
     },
     "metadata": {},
     "output_type": "display_data"
    },
    {
     "name": "stdout",
     "output_type": "stream",
     "text": [
      "16/16 [==============================] - 1s 76ms/step - loss: 34.9264 - acc: 0.0000e+00\n"
     ]
    },
    {
     "data": {
      "application/vnd.jupyter.widget-view+json": {
       "model_id": "35f713410f67459e96b1635a1a3dce29",
       "version_major": 2,
       "version_minor": 0
      },
      "text/plain": [
       "PGD - Batches: 0it [00:00, ?it/s]"
      ]
     },
     "metadata": {},
     "output_type": "display_data"
    },
    {
     "name": "stdout",
     "output_type": "stream",
     "text": [
      "16/16 [==============================] - 1s 76ms/step - loss: 44.9252 - acc: 0.0000e+00\n"
     ]
    },
    {
     "data": {
      "application/vnd.jupyter.widget-view+json": {
       "model_id": "5466bfdd80b84f04ae5e6a16f5444714",
       "version_major": 2,
       "version_minor": 0
      },
      "text/plain": [
       "PGD - Batches: 0it [00:00, ?it/s]"
      ]
     },
     "metadata": {},
     "output_type": "display_data"
    },
    {
     "name": "stdout",
     "output_type": "stream",
     "text": [
      "16/16 [==============================] - 1s 75ms/step - loss: 54.7036 - acc: 0.0000e+00\n"
     ]
    },
    {
     "data": {
      "application/vnd.jupyter.widget-view+json": {
       "model_id": "5e8397d1592244f4b0c6ccef7036790b",
       "version_major": 2,
       "version_minor": 0
      },
      "text/plain": [
       "PGD - Batches: 0it [00:00, ?it/s]"
      ]
     },
     "metadata": {},
     "output_type": "display_data"
    },
    {
     "name": "stdout",
     "output_type": "stream",
     "text": [
      "16/16 [==============================] - 1s 74ms/step - loss: 0.2286 - acc: 0.9280\n"
     ]
    },
    {
     "data": {
      "application/vnd.jupyter.widget-view+json": {
       "model_id": "dcd10f9f47584ebbbda97c7997c28260",
       "version_major": 2,
       "version_minor": 0
      },
      "text/plain": [
       "PGD - Batches: 0it [00:00, ?it/s]"
      ]
     },
     "metadata": {},
     "output_type": "display_data"
    },
    {
     "name": "stdout",
     "output_type": "stream",
     "text": [
      "16/16 [==============================] - 1s 77ms/step - loss: 0.6506 - acc: 0.8020\n"
     ]
    },
    {
     "data": {
      "application/vnd.jupyter.widget-view+json": {
       "model_id": "29700456d8664ecc8ccd76492ac3f2ac",
       "version_major": 2,
       "version_minor": 0
      },
      "text/plain": [
       "PGD - Batches: 0it [00:00, ?it/s]"
      ]
     },
     "metadata": {},
     "output_type": "display_data"
    },
    {
     "name": "stdout",
     "output_type": "stream",
     "text": [
      "16/16 [==============================] - 1s 75ms/step - loss: 1.9482 - acc: 0.4640\n"
     ]
    },
    {
     "data": {
      "application/vnd.jupyter.widget-view+json": {
       "model_id": "a04e1fa271e644d3a0e0f1915adf6ae2",
       "version_major": 2,
       "version_minor": 0
      },
      "text/plain": [
       "PGD - Batches: 0it [00:00, ?it/s]"
      ]
     },
     "metadata": {},
     "output_type": "display_data"
    },
    {
     "name": "stdout",
     "output_type": "stream",
     "text": [
      "16/16 [==============================] - 1s 74ms/step - loss: 5.0830 - acc: 0.0720\n"
     ]
    },
    {
     "data": {
      "application/vnd.jupyter.widget-view+json": {
       "model_id": "b30ac454913f4170b61c37d995bc1c21",
       "version_major": 2,
       "version_minor": 0
      },
      "text/plain": [
       "PGD - Batches: 0it [00:00, ?it/s]"
      ]
     },
     "metadata": {},
     "output_type": "display_data"
    },
    {
     "name": "stdout",
     "output_type": "stream",
     "text": [
      "16/16 [==============================] - 1s 75ms/step - loss: 10.2734 - acc: 0.0000e+00\n"
     ]
    },
    {
     "data": {
      "application/vnd.jupyter.widget-view+json": {
       "model_id": "3015a88eece94b3c8156460e5a0927b3",
       "version_major": 2,
       "version_minor": 0
      },
      "text/plain": [
       "PGD - Batches: 0it [00:00, ?it/s]"
      ]
     },
     "metadata": {},
     "output_type": "display_data"
    },
    {
     "name": "stdout",
     "output_type": "stream",
     "text": [
      "16/16 [==============================] - 1s 76ms/step - loss: 15.4761 - acc: 0.0000e+00\n"
     ]
    },
    {
     "data": {
      "application/vnd.jupyter.widget-view+json": {
       "model_id": "b2d24f76c2d34747a002f8672693d763",
       "version_major": 2,
       "version_minor": 0
      },
      "text/plain": [
       "PGD - Batches: 0it [00:00, ?it/s]"
      ]
     },
     "metadata": {},
     "output_type": "display_data"
    },
    {
     "name": "stdout",
     "output_type": "stream",
     "text": [
      "16/16 [==============================] - 1s 76ms/step - loss: 19.3878 - acc: 0.0000e+00\n"
     ]
    },
    {
     "data": {
      "application/vnd.jupyter.widget-view+json": {
       "model_id": "71ba8a02f2e14fca96c17f9cd4454caa",
       "version_major": 2,
       "version_minor": 0
      },
      "text/plain": [
       "PGD - Batches: 0it [00:00, ?it/s]"
      ]
     },
     "metadata": {},
     "output_type": "display_data"
    },
    {
     "name": "stdout",
     "output_type": "stream",
     "text": [
      "16/16 [==============================] - 1s 77ms/step - loss: 23.8579 - acc: 0.0000e+00\n"
     ]
    },
    {
     "data": {
      "application/vnd.jupyter.widget-view+json": {
       "model_id": "585e00dc024c497bb1f4762ec88d6ff7",
       "version_major": 2,
       "version_minor": 0
      },
      "text/plain": [
       "PGD - Batches: 0it [00:00, ?it/s]"
      ]
     },
     "metadata": {},
     "output_type": "display_data"
    },
    {
     "name": "stdout",
     "output_type": "stream",
     "text": [
      "16/16 [==============================] - 1s 72ms/step - loss: 29.3081 - acc: 0.0000e+00\n"
     ]
    },
    {
     "data": {
      "application/vnd.jupyter.widget-view+json": {
       "model_id": "283b7e40425d4eb5a2d160ba9d064d04",
       "version_major": 2,
       "version_minor": 0
      },
      "text/plain": [
       "PGD - Batches: 0it [00:00, ?it/s]"
      ]
     },
     "metadata": {},
     "output_type": "display_data"
    },
    {
     "name": "stdout",
     "output_type": "stream",
     "text": [
      "16/16 [==============================] - 1s 71ms/step - loss: 35.6276 - acc: 0.0000e+00\n"
     ]
    }
   ],
   "source": [
    "attack_name = 'PGD'\n",
    "print(attack_name)\n",
    "attack_type = eval(attack_name)\n",
    "for results_dict, targeted, y in [(attack_vals, False, None), (labeled_attack_vals, False, test_labels), \\\n",
    "                                  (targeted_attack_vals, True, target_labels)]:\n",
    "    vals = []\n",
    "    for eps in interval:\n",
    "        params = {'batch_size': batch_size, 'targeted': targeted, 'eps': eps, 'eps_step': eps / 3, 'max_iter': max_iter, \\\n",
    "                  'num_random_init': 1}\n",
    "        attack = attack_type(classifier, **params)\n",
    "        test_data_adv = attack.generate(x=test_data, y=y)\n",
    "        loss_test, accuracy_test = model.evaluate(test_data_adv, test_labels)\n",
    "        perturbation = np.nanmean(np.abs((test_data_adv - test_data)))\n",
    "        vals.append((loss_test, accuracy_test, perturbation, test_data_adv[sample_index]))\n",
    "    results_dict[attack_name] = vals"
   ]
  },
  {
   "cell_type": "markdown",
   "metadata": {},
   "source": [
    "## Attacks without a maximum perturbation"
   ]
  },
  {
   "cell_type": "code",
   "execution_count": 79,
   "metadata": {
    "collapsed": true
   },
   "outputs": [
    {
     "name": "stdout",
     "output_type": "stream",
     "text": [
      "BA\n"
     ]
    },
    {
     "data": {
      "application/vnd.jupyter.widget-view+json": {
       "model_id": "24ef2ce7b2b3493baed7e1113c07c476",
       "version_major": 2,
       "version_minor": 0
      },
      "text/plain": [
       "Boundary attack:   0%|          | 0/500 [00:00<?, ?it/s]"
      ]
     },
     "metadata": {},
     "output_type": "display_data"
    },
    {
     "data": {
      "application/vnd.jupyter.widget-view+json": {
       "model_id": "9217f2ec26474c4d8dec5bdb009e1389",
       "version_major": 2,
       "version_minor": 0
      },
      "text/plain": [
       "Boundary attack - iterations:   0%|          | 0/50 [00:00<?, ?it/s]"
      ]
     },
     "metadata": {},
     "output_type": "display_data"
    },
    {
     "data": {
      "application/vnd.jupyter.widget-view+json": {
       "model_id": "f4b991ef94034b5fbf3ce1f713d2a729",
       "version_major": 2,
       "version_minor": 0
      },
      "text/plain": [
       "Boundary attack - iterations:   0%|          | 0/50 [00:00<?, ?it/s]"
      ]
     },
     "metadata": {},
     "output_type": "display_data"
    },
    {
     "data": {
      "application/vnd.jupyter.widget-view+json": {
       "model_id": "19c5f3005f894bc3baefa71d46f47729",
       "version_major": 2,
       "version_minor": 0
      },
      "text/plain": [
       "Boundary attack - iterations:   0%|          | 0/50 [00:00<?, ?it/s]"
      ]
     },
     "metadata": {},
     "output_type": "display_data"
    },
    {
     "data": {
      "application/vnd.jupyter.widget-view+json": {
       "model_id": "1fadf865d7c843998841aee4df0214e3",
       "version_major": 2,
       "version_minor": 0
      },
      "text/plain": [
       "Boundary attack - iterations:   0%|          | 0/50 [00:00<?, ?it/s]"
      ]
     },
     "metadata": {},
     "output_type": "display_data"
    },
    {
     "data": {
      "application/vnd.jupyter.widget-view+json": {
       "model_id": "225e6206d52f48edbde3e94808ff0631",
       "version_major": 2,
       "version_minor": 0
      },
      "text/plain": [
       "Boundary attack - iterations:   0%|          | 0/50 [00:00<?, ?it/s]"
      ]
     },
     "metadata": {},
     "output_type": "display_data"
    },
    {
     "data": {
      "application/vnd.jupyter.widget-view+json": {
       "model_id": "8ec369de54f64d9d8ea8f2f232a80e9f",
       "version_major": 2,
       "version_minor": 0
      },
      "text/plain": [
       "Boundary attack - iterations:   0%|          | 0/50 [00:00<?, ?it/s]"
      ]
     },
     "metadata": {},
     "output_type": "display_data"
    },
    {
     "data": {
      "application/vnd.jupyter.widget-view+json": {
       "model_id": "364e39f74b2a4475b661960b521b8c25",
       "version_major": 2,
       "version_minor": 0
      },
      "text/plain": [
       "Boundary attack - iterations:   0%|          | 0/50 [00:00<?, ?it/s]"
      ]
     },
     "metadata": {},
     "output_type": "display_data"
    },
    {
     "data": {
      "application/vnd.jupyter.widget-view+json": {
       "model_id": "08bcd178bbf344328b46d2651b73bc9b",
       "version_major": 2,
       "version_minor": 0
      },
      "text/plain": [
       "Boundary attack - iterations:   0%|          | 0/50 [00:00<?, ?it/s]"
      ]
     },
     "metadata": {},
     "output_type": "display_data"
    },
    {
     "data": {
      "application/vnd.jupyter.widget-view+json": {
       "model_id": "7f076037fb5c4fe99ec1183210ae170f",
       "version_major": 2,
       "version_minor": 0
      },
      "text/plain": [
       "Boundary attack - iterations:   0%|          | 0/50 [00:00<?, ?it/s]"
      ]
     },
     "metadata": {},
     "output_type": "display_data"
    },
    {
     "data": {
      "application/vnd.jupyter.widget-view+json": {
       "model_id": "cfad638b40aa479385a3050ca09a8888",
       "version_major": 2,
       "version_minor": 0
      },
      "text/plain": [
       "Boundary attack - iterations:   0%|          | 0/50 [00:00<?, ?it/s]"
      ]
     },
     "metadata": {},
     "output_type": "display_data"
    },
    {
     "data": {
      "application/vnd.jupyter.widget-view+json": {
       "model_id": "7d7b07f7d24d459aac35d12b1d30e021",
       "version_major": 2,
       "version_minor": 0
      },
      "text/plain": [
       "Boundary attack - iterations:   0%|          | 0/50 [00:00<?, ?it/s]"
      ]
     },
     "metadata": {},
     "output_type": "display_data"
    },
    {
     "data": {
      "application/vnd.jupyter.widget-view+json": {
       "model_id": "b397d3950249424984da55df3df2cd63",
       "version_major": 2,
       "version_minor": 0
      },
      "text/plain": [
       "Boundary attack - iterations:   0%|          | 0/50 [00:00<?, ?it/s]"
      ]
     },
     "metadata": {},
     "output_type": "display_data"
    },
    {
     "data": {
      "application/vnd.jupyter.widget-view+json": {
       "model_id": "9a1c357b530849c79d6902e9377265d8",
       "version_major": 2,
       "version_minor": 0
      },
      "text/plain": [
       "Boundary attack - iterations:   0%|          | 0/50 [00:00<?, ?it/s]"
      ]
     },
     "metadata": {},
     "output_type": "display_data"
    },
    {
     "data": {
      "application/vnd.jupyter.widget-view+json": {
       "model_id": "8c6233485f394c0cbccbf5c26edf69bd",
       "version_major": 2,
       "version_minor": 0
      },
      "text/plain": [
       "Boundary attack - iterations:   0%|          | 0/50 [00:00<?, ?it/s]"
      ]
     },
     "metadata": {},
     "output_type": "display_data"
    },
    {
     "data": {
      "application/vnd.jupyter.widget-view+json": {
       "model_id": "ab164f384fe045d19382261db0d418c7",
       "version_major": 2,
       "version_minor": 0
      },
      "text/plain": [
       "Boundary attack - iterations:   0%|          | 0/50 [00:00<?, ?it/s]"
      ]
     },
     "metadata": {},
     "output_type": "display_data"
    },
    {
     "data": {
      "application/vnd.jupyter.widget-view+json": {
       "model_id": "fd855dda18644e40af752dbc48818d99",
       "version_major": 2,
       "version_minor": 0
      },
      "text/plain": [
       "Boundary attack - iterations:   0%|          | 0/50 [00:00<?, ?it/s]"
      ]
     },
     "metadata": {},
     "output_type": "display_data"
    },
    {
     "data": {
      "application/vnd.jupyter.widget-view+json": {
       "model_id": "d25d6745538b4ddc85bb294fffa080ef",
       "version_major": 2,
       "version_minor": 0
      },
      "text/plain": [
       "Boundary attack - iterations:   0%|          | 0/50 [00:00<?, ?it/s]"
      ]
     },
     "metadata": {},
     "output_type": "display_data"
    },
    {
     "data": {
      "application/vnd.jupyter.widget-view+json": {
       "model_id": "0b19c68647ce4c01af4ae5c673db6f18",
       "version_major": 2,
       "version_minor": 0
      },
      "text/plain": [
       "Boundary attack - iterations:   0%|          | 0/50 [00:00<?, ?it/s]"
      ]
     },
     "metadata": {},
     "output_type": "display_data"
    },
    {
     "data": {
      "application/vnd.jupyter.widget-view+json": {
       "model_id": "d3b18407144a43a29aca2bf508ce6f1b",
       "version_major": 2,
       "version_minor": 0
      },
      "text/plain": [
       "Boundary attack - iterations:   0%|          | 0/50 [00:00<?, ?it/s]"
      ]
     },
     "metadata": {},
     "output_type": "display_data"
    },
    {
     "data": {
      "application/vnd.jupyter.widget-view+json": {
       "model_id": "c9adc622de764d2b827af2c1b775b478",
       "version_major": 2,
       "version_minor": 0
      },
      "text/plain": [
       "Boundary attack - iterations:   0%|          | 0/50 [00:00<?, ?it/s]"
      ]
     },
     "metadata": {},
     "output_type": "display_data"
    },
    {
     "data": {
      "application/vnd.jupyter.widget-view+json": {
       "model_id": "8270ce6242414958ab9c28e6abb4772c",
       "version_major": 2,
       "version_minor": 0
      },
      "text/plain": [
       "Boundary attack - iterations:   0%|          | 0/50 [00:00<?, ?it/s]"
      ]
     },
     "metadata": {},
     "output_type": "display_data"
    },
    {
     "data": {
      "application/vnd.jupyter.widget-view+json": {
       "model_id": "c2b2da7c53da49f88c702c4f885a64d1",
       "version_major": 2,
       "version_minor": 0
      },
      "text/plain": [
       "Boundary attack - iterations:   0%|          | 0/50 [00:00<?, ?it/s]"
      ]
     },
     "metadata": {},
     "output_type": "display_data"
    },
    {
     "data": {
      "application/vnd.jupyter.widget-view+json": {
       "model_id": "838384caaf084ac4ba8e58fee12b879d",
       "version_major": 2,
       "version_minor": 0
      },
      "text/plain": [
       "Boundary attack - iterations:   0%|          | 0/50 [00:00<?, ?it/s]"
      ]
     },
     "metadata": {},
     "output_type": "display_data"
    },
    {
     "data": {
      "application/vnd.jupyter.widget-view+json": {
       "model_id": "96f6e36f6c1e47928535e8a488d7cb83",
       "version_major": 2,
       "version_minor": 0
      },
      "text/plain": [
       "Boundary attack - iterations:   0%|          | 0/50 [00:00<?, ?it/s]"
      ]
     },
     "metadata": {},
     "output_type": "display_data"
    },
    {
     "data": {
      "application/vnd.jupyter.widget-view+json": {
       "model_id": "2b7a547e5d51453ba7a492ffacdd296c",
       "version_major": 2,
       "version_minor": 0
      },
      "text/plain": [
       "Boundary attack - iterations:   0%|          | 0/50 [00:00<?, ?it/s]"
      ]
     },
     "metadata": {},
     "output_type": "display_data"
    },
    {
     "data": {
      "application/vnd.jupyter.widget-view+json": {
       "model_id": "fc1d27dc0a5b483aaefe219ecc8f9a2e",
       "version_major": 2,
       "version_minor": 0
      },
      "text/plain": [
       "Boundary attack - iterations:   0%|          | 0/50 [00:00<?, ?it/s]"
      ]
     },
     "metadata": {},
     "output_type": "display_data"
    },
    {
     "data": {
      "application/vnd.jupyter.widget-view+json": {
       "model_id": "eb6ed852d03548d288b7dc842069a08f",
       "version_major": 2,
       "version_minor": 0
      },
      "text/plain": [
       "Boundary attack - iterations:   0%|          | 0/50 [00:00<?, ?it/s]"
      ]
     },
     "metadata": {},
     "output_type": "display_data"
    },
    {
     "data": {
      "application/vnd.jupyter.widget-view+json": {
       "model_id": "dbef13f2b4fa49c7b2f6f88ee47ea2bf",
       "version_major": 2,
       "version_minor": 0
      },
      "text/plain": [
       "Boundary attack - iterations:   0%|          | 0/50 [00:00<?, ?it/s]"
      ]
     },
     "metadata": {},
     "output_type": "display_data"
    },
    {
     "data": {
      "application/vnd.jupyter.widget-view+json": {
       "model_id": "e4b56320b44d4a10ba74ab3ee3e6a124",
       "version_major": 2,
       "version_minor": 0
      },
      "text/plain": [
       "Boundary attack - iterations:   0%|          | 0/50 [00:00<?, ?it/s]"
      ]
     },
     "metadata": {},
     "output_type": "display_data"
    },
    {
     "data": {
      "application/vnd.jupyter.widget-view+json": {
       "model_id": "eea8bf06d2724abdb700e1e93faaf146",
       "version_major": 2,
       "version_minor": 0
      },
      "text/plain": [
       "Boundary attack - iterations:   0%|          | 0/50 [00:00<?, ?it/s]"
      ]
     },
     "metadata": {},
     "output_type": "display_data"
    },
    {
     "data": {
      "application/vnd.jupyter.widget-view+json": {
       "model_id": "03beb0af78514f70ac5a8a485bb5acd7",
       "version_major": 2,
       "version_minor": 0
      },
      "text/plain": [
       "Boundary attack - iterations:   0%|          | 0/50 [00:00<?, ?it/s]"
      ]
     },
     "metadata": {},
     "output_type": "display_data"
    },
    {
     "data": {
      "application/vnd.jupyter.widget-view+json": {
       "model_id": "0323b6fb2f6149298e9215f8c9badd40",
       "version_major": 2,
       "version_minor": 0
      },
      "text/plain": [
       "Boundary attack - iterations:   0%|          | 0/50 [00:00<?, ?it/s]"
      ]
     },
     "metadata": {},
     "output_type": "display_data"
    },
    {
     "data": {
      "application/vnd.jupyter.widget-view+json": {
       "model_id": "5f1d48778f1a4c46a28fabe4267f3b5b",
       "version_major": 2,
       "version_minor": 0
      },
      "text/plain": [
       "Boundary attack - iterations:   0%|          | 0/50 [00:00<?, ?it/s]"
      ]
     },
     "metadata": {},
     "output_type": "display_data"
    },
    {
     "data": {
      "application/vnd.jupyter.widget-view+json": {
       "model_id": "4f75b558e5c04a9e8a0419d1e6ba0ac9",
       "version_major": 2,
       "version_minor": 0
      },
      "text/plain": [
       "Boundary attack - iterations:   0%|          | 0/50 [00:00<?, ?it/s]"
      ]
     },
     "metadata": {},
     "output_type": "display_data"
    },
    {
     "data": {
      "application/vnd.jupyter.widget-view+json": {
       "model_id": "0902ed05cd074a1d9864921c24841f45",
       "version_major": 2,
       "version_minor": 0
      },
      "text/plain": [
       "Boundary attack - iterations:   0%|          | 0/50 [00:00<?, ?it/s]"
      ]
     },
     "metadata": {},
     "output_type": "display_data"
    },
    {
     "data": {
      "application/vnd.jupyter.widget-view+json": {
       "model_id": "69bf597a78e9406689afe434ae7429cc",
       "version_major": 2,
       "version_minor": 0
      },
      "text/plain": [
       "Boundary attack - iterations:   0%|          | 0/50 [00:00<?, ?it/s]"
      ]
     },
     "metadata": {},
     "output_type": "display_data"
    },
    {
     "data": {
      "application/vnd.jupyter.widget-view+json": {
       "model_id": "c301fc249e0646ef96de8cd9141f980a",
       "version_major": 2,
       "version_minor": 0
      },
      "text/plain": [
       "Boundary attack - iterations:   0%|          | 0/50 [00:00<?, ?it/s]"
      ]
     },
     "metadata": {},
     "output_type": "display_data"
    },
    {
     "data": {
      "application/vnd.jupyter.widget-view+json": {
       "model_id": "413feea4f9694264b9548831a45f1b95",
       "version_major": 2,
       "version_minor": 0
      },
      "text/plain": [
       "Boundary attack - iterations:   0%|          | 0/50 [00:00<?, ?it/s]"
      ]
     },
     "metadata": {},
     "output_type": "display_data"
    },
    {
     "data": {
      "application/vnd.jupyter.widget-view+json": {
       "model_id": "f47c52310c84499eba7b335f1193e46e",
       "version_major": 2,
       "version_minor": 0
      },
      "text/plain": [
       "Boundary attack - iterations:   0%|          | 0/50 [00:00<?, ?it/s]"
      ]
     },
     "metadata": {},
     "output_type": "display_data"
    },
    {
     "data": {
      "application/vnd.jupyter.widget-view+json": {
       "model_id": "0d7dbc4ea38f4212895be0fa859a2f88",
       "version_major": 2,
       "version_minor": 0
      },
      "text/plain": [
       "Boundary attack - iterations:   0%|          | 0/50 [00:00<?, ?it/s]"
      ]
     },
     "metadata": {},
     "output_type": "display_data"
    },
    {
     "data": {
      "application/vnd.jupyter.widget-view+json": {
       "model_id": "9ef9c6f606a947daa7537220993b2ce2",
       "version_major": 2,
       "version_minor": 0
      },
      "text/plain": [
       "Boundary attack - iterations:   0%|          | 0/50 [00:00<?, ?it/s]"
      ]
     },
     "metadata": {},
     "output_type": "display_data"
    },
    {
     "data": {
      "application/vnd.jupyter.widget-view+json": {
       "model_id": "5c572b5934a44354b2ce66f08bdc346c",
       "version_major": 2,
       "version_minor": 0
      },
      "text/plain": [
       "Boundary attack - iterations:   0%|          | 0/50 [00:00<?, ?it/s]"
      ]
     },
     "metadata": {},
     "output_type": "display_data"
    },
    {
     "data": {
      "application/vnd.jupyter.widget-view+json": {
       "model_id": "bb36e801e203402f98d34d2927f46d53",
       "version_major": 2,
       "version_minor": 0
      },
      "text/plain": [
       "Boundary attack - iterations:   0%|          | 0/50 [00:00<?, ?it/s]"
      ]
     },
     "metadata": {},
     "output_type": "display_data"
    },
    {
     "data": {
      "application/vnd.jupyter.widget-view+json": {
       "model_id": "006c45856fe34d8ab71d2c1e4a686f4c",
       "version_major": 2,
       "version_minor": 0
      },
      "text/plain": [
       "Boundary attack - iterations:   0%|          | 0/50 [00:00<?, ?it/s]"
      ]
     },
     "metadata": {},
     "output_type": "display_data"
    },
    {
     "data": {
      "application/vnd.jupyter.widget-view+json": {
       "model_id": "85c19194a49f4963963d4592770f2ad7",
       "version_major": 2,
       "version_minor": 0
      },
      "text/plain": [
       "Boundary attack - iterations:   0%|          | 0/50 [00:00<?, ?it/s]"
      ]
     },
     "metadata": {},
     "output_type": "display_data"
    },
    {
     "data": {
      "application/vnd.jupyter.widget-view+json": {
       "model_id": "f61edfe5d351488691d7724b8c76ca91",
       "version_major": 2,
       "version_minor": 0
      },
      "text/plain": [
       "Boundary attack - iterations:   0%|          | 0/50 [00:00<?, ?it/s]"
      ]
     },
     "metadata": {},
     "output_type": "display_data"
    },
    {
     "data": {
      "application/vnd.jupyter.widget-view+json": {
       "model_id": "32ce88a4e5464d3691ad51a8a229ec7f",
       "version_major": 2,
       "version_minor": 0
      },
      "text/plain": [
       "Boundary attack - iterations:   0%|          | 0/50 [00:00<?, ?it/s]"
      ]
     },
     "metadata": {},
     "output_type": "display_data"
    },
    {
     "data": {
      "application/vnd.jupyter.widget-view+json": {
       "model_id": "9e154b58fa204cffbd98d823d3ebcdef",
       "version_major": 2,
       "version_minor": 0
      },
      "text/plain": [
       "Boundary attack - iterations:   0%|          | 0/50 [00:00<?, ?it/s]"
      ]
     },
     "metadata": {},
     "output_type": "display_data"
    },
    {
     "data": {
      "application/vnd.jupyter.widget-view+json": {
       "model_id": "8da90a6dfa84437392e95dd10a7dfbb5",
       "version_major": 2,
       "version_minor": 0
      },
      "text/plain": [
       "Boundary attack - iterations:   0%|          | 0/50 [00:00<?, ?it/s]"
      ]
     },
     "metadata": {},
     "output_type": "display_data"
    },
    {
     "data": {
      "application/vnd.jupyter.widget-view+json": {
       "model_id": "f8ad2da86d7d4fc7be5b0bf2896c8169",
       "version_major": 2,
       "version_minor": 0
      },
      "text/plain": [
       "Boundary attack - iterations:   0%|          | 0/50 [00:00<?, ?it/s]"
      ]
     },
     "metadata": {},
     "output_type": "display_data"
    },
    {
     "data": {
      "application/vnd.jupyter.widget-view+json": {
       "model_id": "91116f71983b45c4b748fdb644c949c8",
       "version_major": 2,
       "version_minor": 0
      },
      "text/plain": [
       "Boundary attack - iterations:   0%|          | 0/50 [00:00<?, ?it/s]"
      ]
     },
     "metadata": {},
     "output_type": "display_data"
    },
    {
     "data": {
      "application/vnd.jupyter.widget-view+json": {
       "model_id": "d1dc00b6b8a04ab5ba7929f8d075015d",
       "version_major": 2,
       "version_minor": 0
      },
      "text/plain": [
       "Boundary attack - iterations:   0%|          | 0/50 [00:00<?, ?it/s]"
      ]
     },
     "metadata": {},
     "output_type": "display_data"
    },
    {
     "data": {
      "application/vnd.jupyter.widget-view+json": {
       "model_id": "5aba46e001f24689acf088119fc3bcd6",
       "version_major": 2,
       "version_minor": 0
      },
      "text/plain": [
       "Boundary attack - iterations:   0%|          | 0/50 [00:00<?, ?it/s]"
      ]
     },
     "metadata": {},
     "output_type": "display_data"
    },
    {
     "data": {
      "application/vnd.jupyter.widget-view+json": {
       "model_id": "f4e85b4a3fcd4f6eb03d25ff82853d42",
       "version_major": 2,
       "version_minor": 0
      },
      "text/plain": [
       "Boundary attack - iterations:   0%|          | 0/50 [00:00<?, ?it/s]"
      ]
     },
     "metadata": {},
     "output_type": "display_data"
    },
    {
     "data": {
      "application/vnd.jupyter.widget-view+json": {
       "model_id": "024b6e1ec58e4312b148f43fbab362b7",
       "version_major": 2,
       "version_minor": 0
      },
      "text/plain": [
       "Boundary attack - iterations:   0%|          | 0/50 [00:00<?, ?it/s]"
      ]
     },
     "metadata": {},
     "output_type": "display_data"
    },
    {
     "data": {
      "application/vnd.jupyter.widget-view+json": {
       "model_id": "5cb96dfa629d4a54b78174cc971292d8",
       "version_major": 2,
       "version_minor": 0
      },
      "text/plain": [
       "Boundary attack - iterations:   0%|          | 0/50 [00:00<?, ?it/s]"
      ]
     },
     "metadata": {},
     "output_type": "display_data"
    },
    {
     "data": {
      "application/vnd.jupyter.widget-view+json": {
       "model_id": "2f7797f74c9243c8a7311f1397c74e06",
       "version_major": 2,
       "version_minor": 0
      },
      "text/plain": [
       "Boundary attack - iterations:   0%|          | 0/50 [00:00<?, ?it/s]"
      ]
     },
     "metadata": {},
     "output_type": "display_data"
    },
    {
     "data": {
      "application/vnd.jupyter.widget-view+json": {
       "model_id": "8f4b0343f6764fdc82543710c8622d39",
       "version_major": 2,
       "version_minor": 0
      },
      "text/plain": [
       "Boundary attack - iterations:   0%|          | 0/50 [00:00<?, ?it/s]"
      ]
     },
     "metadata": {},
     "output_type": "display_data"
    },
    {
     "data": {
      "application/vnd.jupyter.widget-view+json": {
       "model_id": "583029bcb00842a59ca9cd7411faf4a7",
       "version_major": 2,
       "version_minor": 0
      },
      "text/plain": [
       "Boundary attack - iterations:   0%|          | 0/50 [00:00<?, ?it/s]"
      ]
     },
     "metadata": {},
     "output_type": "display_data"
    },
    {
     "data": {
      "application/vnd.jupyter.widget-view+json": {
       "model_id": "b94691df16e64c95acd75437d0218345",
       "version_major": 2,
       "version_minor": 0
      },
      "text/plain": [
       "Boundary attack - iterations:   0%|          | 0/50 [00:00<?, ?it/s]"
      ]
     },
     "metadata": {},
     "output_type": "display_data"
    },
    {
     "data": {
      "application/vnd.jupyter.widget-view+json": {
       "model_id": "eb152557e12f4ce58aaa824ae0d0d16b",
       "version_major": 2,
       "version_minor": 0
      },
      "text/plain": [
       "Boundary attack - iterations:   0%|          | 0/50 [00:00<?, ?it/s]"
      ]
     },
     "metadata": {},
     "output_type": "display_data"
    },
    {
     "data": {
      "application/vnd.jupyter.widget-view+json": {
       "model_id": "0e71ffa823da4bec9b6da20aff502d3a",
       "version_major": 2,
       "version_minor": 0
      },
      "text/plain": [
       "Boundary attack - iterations:   0%|          | 0/50 [00:00<?, ?it/s]"
      ]
     },
     "metadata": {},
     "output_type": "display_data"
    },
    {
     "data": {
      "application/vnd.jupyter.widget-view+json": {
       "model_id": "a68b22d75b114374bec417c3a0d36c08",
       "version_major": 2,
       "version_minor": 0
      },
      "text/plain": [
       "Boundary attack - iterations:   0%|          | 0/50 [00:00<?, ?it/s]"
      ]
     },
     "metadata": {},
     "output_type": "display_data"
    },
    {
     "data": {
      "application/vnd.jupyter.widget-view+json": {
       "model_id": "01d8c3e41bbb4f4194308e2521d77601",
       "version_major": 2,
       "version_minor": 0
      },
      "text/plain": [
       "Boundary attack - iterations:   0%|          | 0/50 [00:00<?, ?it/s]"
      ]
     },
     "metadata": {},
     "output_type": "display_data"
    },
    {
     "data": {
      "application/vnd.jupyter.widget-view+json": {
       "model_id": "8963a97114db40538da74d0979d93315",
       "version_major": 2,
       "version_minor": 0
      },
      "text/plain": [
       "Boundary attack - iterations:   0%|          | 0/50 [00:00<?, ?it/s]"
      ]
     },
     "metadata": {},
     "output_type": "display_data"
    },
    {
     "data": {
      "application/vnd.jupyter.widget-view+json": {
       "model_id": "a59ca941fc19404781998d5ad60bf436",
       "version_major": 2,
       "version_minor": 0
      },
      "text/plain": [
       "Boundary attack - iterations:   0%|          | 0/50 [00:00<?, ?it/s]"
      ]
     },
     "metadata": {},
     "output_type": "display_data"
    },
    {
     "data": {
      "application/vnd.jupyter.widget-view+json": {
       "model_id": "4170bca5f52946979e9173ad11521a47",
       "version_major": 2,
       "version_minor": 0
      },
      "text/plain": [
       "Boundary attack - iterations:   0%|          | 0/50 [00:00<?, ?it/s]"
      ]
     },
     "metadata": {},
     "output_type": "display_data"
    },
    {
     "data": {
      "application/vnd.jupyter.widget-view+json": {
       "model_id": "eca4b7954aab446c8e0d7fca65e2bbe2",
       "version_major": 2,
       "version_minor": 0
      },
      "text/plain": [
       "Boundary attack - iterations:   0%|          | 0/50 [00:00<?, ?it/s]"
      ]
     },
     "metadata": {},
     "output_type": "display_data"
    },
    {
     "data": {
      "application/vnd.jupyter.widget-view+json": {
       "model_id": "674818ac9d7341ee8feba0d71a13961d",
       "version_major": 2,
       "version_minor": 0
      },
      "text/plain": [
       "Boundary attack - iterations:   0%|          | 0/50 [00:00<?, ?it/s]"
      ]
     },
     "metadata": {},
     "output_type": "display_data"
    },
    {
     "data": {
      "application/vnd.jupyter.widget-view+json": {
       "model_id": "769d8e322f8e4f779a6e584836bdef48",
       "version_major": 2,
       "version_minor": 0
      },
      "text/plain": [
       "Boundary attack - iterations:   0%|          | 0/50 [00:00<?, ?it/s]"
      ]
     },
     "metadata": {},
     "output_type": "display_data"
    },
    {
     "data": {
      "application/vnd.jupyter.widget-view+json": {
       "model_id": "749e238645254a319a567c387dde1242",
       "version_major": 2,
       "version_minor": 0
      },
      "text/plain": [
       "Boundary attack - iterations:   0%|          | 0/50 [00:00<?, ?it/s]"
      ]
     },
     "metadata": {},
     "output_type": "display_data"
    },
    {
     "data": {
      "application/vnd.jupyter.widget-view+json": {
       "model_id": "8ef4fa48461b4cbd87e4d8585d9376c3",
       "version_major": 2,
       "version_minor": 0
      },
      "text/plain": [
       "Boundary attack - iterations:   0%|          | 0/50 [00:00<?, ?it/s]"
      ]
     },
     "metadata": {},
     "output_type": "display_data"
    },
    {
     "data": {
      "application/vnd.jupyter.widget-view+json": {
       "model_id": "4c461c24b19f45b4953cdff3eca5493c",
       "version_major": 2,
       "version_minor": 0
      },
      "text/plain": [
       "Boundary attack - iterations:   0%|          | 0/50 [00:00<?, ?it/s]"
      ]
     },
     "metadata": {},
     "output_type": "display_data"
    },
    {
     "data": {
      "application/vnd.jupyter.widget-view+json": {
       "model_id": "5ba7707980454f748237c733aeb2a6c8",
       "version_major": 2,
       "version_minor": 0
      },
      "text/plain": [
       "Boundary attack - iterations:   0%|          | 0/50 [00:00<?, ?it/s]"
      ]
     },
     "metadata": {},
     "output_type": "display_data"
    },
    {
     "data": {
      "application/vnd.jupyter.widget-view+json": {
       "model_id": "69cd9d7772ca44ca802e795df7b56055",
       "version_major": 2,
       "version_minor": 0
      },
      "text/plain": [
       "Boundary attack - iterations:   0%|          | 0/50 [00:00<?, ?it/s]"
      ]
     },
     "metadata": {},
     "output_type": "display_data"
    },
    {
     "data": {
      "application/vnd.jupyter.widget-view+json": {
       "model_id": "8ef25dc7e06a45698ebac7bcf63d7d6d",
       "version_major": 2,
       "version_minor": 0
      },
      "text/plain": [
       "Boundary attack - iterations:   0%|          | 0/50 [00:00<?, ?it/s]"
      ]
     },
     "metadata": {},
     "output_type": "display_data"
    },
    {
     "data": {
      "application/vnd.jupyter.widget-view+json": {
       "model_id": "10258b63d1d64d32b409c7652b698479",
       "version_major": 2,
       "version_minor": 0
      },
      "text/plain": [
       "Boundary attack - iterations:   0%|          | 0/50 [00:00<?, ?it/s]"
      ]
     },
     "metadata": {},
     "output_type": "display_data"
    },
    {
     "data": {
      "application/vnd.jupyter.widget-view+json": {
       "model_id": "15ade06c1d6c4f2299630a7382ffa808",
       "version_major": 2,
       "version_minor": 0
      },
      "text/plain": [
       "Boundary attack - iterations:   0%|          | 0/50 [00:00<?, ?it/s]"
      ]
     },
     "metadata": {},
     "output_type": "display_data"
    },
    {
     "data": {
      "application/vnd.jupyter.widget-view+json": {
       "model_id": "129f1df87719482681183826f1d26ea7",
       "version_major": 2,
       "version_minor": 0
      },
      "text/plain": [
       "Boundary attack - iterations:   0%|          | 0/50 [00:00<?, ?it/s]"
      ]
     },
     "metadata": {},
     "output_type": "display_data"
    },
    {
     "data": {
      "application/vnd.jupyter.widget-view+json": {
       "model_id": "6bb4bd473c634c1ba204ca3055021d4e",
       "version_major": 2,
       "version_minor": 0
      },
      "text/plain": [
       "Boundary attack - iterations:   0%|          | 0/50 [00:00<?, ?it/s]"
      ]
     },
     "metadata": {},
     "output_type": "display_data"
    },
    {
     "data": {
      "application/vnd.jupyter.widget-view+json": {
       "model_id": "81bfc2966e0642a3a10618b56836dcc9",
       "version_major": 2,
       "version_minor": 0
      },
      "text/plain": [
       "Boundary attack - iterations:   0%|          | 0/50 [00:00<?, ?it/s]"
      ]
     },
     "metadata": {},
     "output_type": "display_data"
    },
    {
     "data": {
      "application/vnd.jupyter.widget-view+json": {
       "model_id": "9b259d0790924be89c00cea5d877e193",
       "version_major": 2,
       "version_minor": 0
      },
      "text/plain": [
       "Boundary attack - iterations:   0%|          | 0/50 [00:00<?, ?it/s]"
      ]
     },
     "metadata": {},
     "output_type": "display_data"
    },
    {
     "data": {
      "application/vnd.jupyter.widget-view+json": {
       "model_id": "23df7d5aee8145edb6e36563c352c121",
       "version_major": 2,
       "version_minor": 0
      },
      "text/plain": [
       "Boundary attack - iterations:   0%|          | 0/50 [00:00<?, ?it/s]"
      ]
     },
     "metadata": {},
     "output_type": "display_data"
    },
    {
     "data": {
      "application/vnd.jupyter.widget-view+json": {
       "model_id": "08a6fb559b8f4dd6b51b9c32cb9cc439",
       "version_major": 2,
       "version_minor": 0
      },
      "text/plain": [
       "Boundary attack - iterations:   0%|          | 0/50 [00:00<?, ?it/s]"
      ]
     },
     "metadata": {},
     "output_type": "display_data"
    },
    {
     "data": {
      "application/vnd.jupyter.widget-view+json": {
       "model_id": "e0ddc72f799940d88df56d3b53872e7c",
       "version_major": 2,
       "version_minor": 0
      },
      "text/plain": [
       "Boundary attack - iterations:   0%|          | 0/50 [00:00<?, ?it/s]"
      ]
     },
     "metadata": {},
     "output_type": "display_data"
    },
    {
     "data": {
      "application/vnd.jupyter.widget-view+json": {
       "model_id": "eb0788f3df3e49939215d0224a69cf40",
       "version_major": 2,
       "version_minor": 0
      },
      "text/plain": [
       "Boundary attack - iterations:   0%|          | 0/50 [00:00<?, ?it/s]"
      ]
     },
     "metadata": {},
     "output_type": "display_data"
    },
    {
     "data": {
      "application/vnd.jupyter.widget-view+json": {
       "model_id": "bcd0f8031b5b403a8d37c2260c6dc294",
       "version_major": 2,
       "version_minor": 0
      },
      "text/plain": [
       "Boundary attack - iterations:   0%|          | 0/50 [00:00<?, ?it/s]"
      ]
     },
     "metadata": {},
     "output_type": "display_data"
    },
    {
     "data": {
      "application/vnd.jupyter.widget-view+json": {
       "model_id": "1b9c589519eb4c749b3f890cc7dcd91e",
       "version_major": 2,
       "version_minor": 0
      },
      "text/plain": [
       "Boundary attack - iterations:   0%|          | 0/50 [00:00<?, ?it/s]"
      ]
     },
     "metadata": {},
     "output_type": "display_data"
    },
    {
     "data": {
      "application/vnd.jupyter.widget-view+json": {
       "model_id": "e6576dac2c864cfe948e8b1e1baf45cc",
       "version_major": 2,
       "version_minor": 0
      },
      "text/plain": [
       "Boundary attack - iterations:   0%|          | 0/50 [00:00<?, ?it/s]"
      ]
     },
     "metadata": {},
     "output_type": "display_data"
    },
    {
     "data": {
      "application/vnd.jupyter.widget-view+json": {
       "model_id": "cbbc1ee9f1724271a107d787b451894d",
       "version_major": 2,
       "version_minor": 0
      },
      "text/plain": [
       "Boundary attack - iterations:   0%|          | 0/50 [00:00<?, ?it/s]"
      ]
     },
     "metadata": {},
     "output_type": "display_data"
    },
    {
     "data": {
      "application/vnd.jupyter.widget-view+json": {
       "model_id": "7ce3aeafc6904035ba24e00dc75af890",
       "version_major": 2,
       "version_minor": 0
      },
      "text/plain": [
       "Boundary attack - iterations:   0%|          | 0/50 [00:00<?, ?it/s]"
      ]
     },
     "metadata": {},
     "output_type": "display_data"
    },
    {
     "data": {
      "application/vnd.jupyter.widget-view+json": {
       "model_id": "77a3bc4322d4401fbc40ec830ce8df48",
       "version_major": 2,
       "version_minor": 0
      },
      "text/plain": [
       "Boundary attack - iterations:   0%|          | 0/50 [00:00<?, ?it/s]"
      ]
     },
     "metadata": {},
     "output_type": "display_data"
    },
    {
     "data": {
      "application/vnd.jupyter.widget-view+json": {
       "model_id": "ebc9ae68dc6b45c2a68352182c4b5e8f",
       "version_major": 2,
       "version_minor": 0
      },
      "text/plain": [
       "Boundary attack - iterations:   0%|          | 0/50 [00:00<?, ?it/s]"
      ]
     },
     "metadata": {},
     "output_type": "display_data"
    },
    {
     "data": {
      "application/vnd.jupyter.widget-view+json": {
       "model_id": "c3f433224d814758891a9ebba1f95d50",
       "version_major": 2,
       "version_minor": 0
      },
      "text/plain": [
       "Boundary attack - iterations:   0%|          | 0/50 [00:00<?, ?it/s]"
      ]
     },
     "metadata": {},
     "output_type": "display_data"
    },
    {
     "data": {
      "application/vnd.jupyter.widget-view+json": {
       "model_id": "7933ed924ad94a91b3fa1679d7daad02",
       "version_major": 2,
       "version_minor": 0
      },
      "text/plain": [
       "Boundary attack - iterations:   0%|          | 0/50 [00:00<?, ?it/s]"
      ]
     },
     "metadata": {},
     "output_type": "display_data"
    },
    {
     "data": {
      "application/vnd.jupyter.widget-view+json": {
       "model_id": "ca0a84af804c4ed690c87eeb1518bc68",
       "version_major": 2,
       "version_minor": 0
      },
      "text/plain": [
       "Boundary attack - iterations:   0%|          | 0/50 [00:00<?, ?it/s]"
      ]
     },
     "metadata": {},
     "output_type": "display_data"
    },
    {
     "data": {
      "application/vnd.jupyter.widget-view+json": {
       "model_id": "4b9b0915f7a94fb79b7dd70a4fc1ba82",
       "version_major": 2,
       "version_minor": 0
      },
      "text/plain": [
       "Boundary attack - iterations:   0%|          | 0/50 [00:00<?, ?it/s]"
      ]
     },
     "metadata": {},
     "output_type": "display_data"
    },
    {
     "data": {
      "application/vnd.jupyter.widget-view+json": {
       "model_id": "0462531c29dc459f9b2293ac1a7339a4",
       "version_major": 2,
       "version_minor": 0
      },
      "text/plain": [
       "Boundary attack - iterations:   0%|          | 0/50 [00:00<?, ?it/s]"
      ]
     },
     "metadata": {},
     "output_type": "display_data"
    },
    {
     "data": {
      "application/vnd.jupyter.widget-view+json": {
       "model_id": "d81dadb0e9e14a68a3e035a0225e29d9",
       "version_major": 2,
       "version_minor": 0
      },
      "text/plain": [
       "Boundary attack - iterations:   0%|          | 0/50 [00:00<?, ?it/s]"
      ]
     },
     "metadata": {},
     "output_type": "display_data"
    },
    {
     "data": {
      "application/vnd.jupyter.widget-view+json": {
       "model_id": "910000db626d45668da790ea2a08a615",
       "version_major": 2,
       "version_minor": 0
      },
      "text/plain": [
       "Boundary attack - iterations:   0%|          | 0/50 [00:00<?, ?it/s]"
      ]
     },
     "metadata": {},
     "output_type": "display_data"
    },
    {
     "data": {
      "application/vnd.jupyter.widget-view+json": {
       "model_id": "666e845bdbda438496130a5e10a607f1",
       "version_major": 2,
       "version_minor": 0
      },
      "text/plain": [
       "Boundary attack - iterations:   0%|          | 0/50 [00:00<?, ?it/s]"
      ]
     },
     "metadata": {},
     "output_type": "display_data"
    },
    {
     "data": {
      "application/vnd.jupyter.widget-view+json": {
       "model_id": "3e18ec2e52c24cefa8917f71e002acd6",
       "version_major": 2,
       "version_minor": 0
      },
      "text/plain": [
       "Boundary attack - iterations:   0%|          | 0/50 [00:00<?, ?it/s]"
      ]
     },
     "metadata": {},
     "output_type": "display_data"
    },
    {
     "data": {
      "application/vnd.jupyter.widget-view+json": {
       "model_id": "f1dcfb9fa18841c0afe6ee0f3daa6274",
       "version_major": 2,
       "version_minor": 0
      },
      "text/plain": [
       "Boundary attack - iterations:   0%|          | 0/50 [00:00<?, ?it/s]"
      ]
     },
     "metadata": {},
     "output_type": "display_data"
    },
    {
     "data": {
      "application/vnd.jupyter.widget-view+json": {
       "model_id": "1d0c1c584fcf4d05915d7977a472dd4e",
       "version_major": 2,
       "version_minor": 0
      },
      "text/plain": [
       "Boundary attack - iterations:   0%|          | 0/50 [00:00<?, ?it/s]"
      ]
     },
     "metadata": {},
     "output_type": "display_data"
    },
    {
     "data": {
      "application/vnd.jupyter.widget-view+json": {
       "model_id": "a332a06bca4b41a08adef85dfa9386ce",
       "version_major": 2,
       "version_minor": 0
      },
      "text/plain": [
       "Boundary attack - iterations:   0%|          | 0/50 [00:00<?, ?it/s]"
      ]
     },
     "metadata": {},
     "output_type": "display_data"
    },
    {
     "data": {
      "application/vnd.jupyter.widget-view+json": {
       "model_id": "e0183df90b7541f08cb98f3e12605c02",
       "version_major": 2,
       "version_minor": 0
      },
      "text/plain": [
       "Boundary attack - iterations:   0%|          | 0/50 [00:00<?, ?it/s]"
      ]
     },
     "metadata": {},
     "output_type": "display_data"
    },
    {
     "data": {
      "application/vnd.jupyter.widget-view+json": {
       "model_id": "ee26215247e94a15be648d74fb93c6f7",
       "version_major": 2,
       "version_minor": 0
      },
      "text/plain": [
       "Boundary attack - iterations:   0%|          | 0/50 [00:00<?, ?it/s]"
      ]
     },
     "metadata": {},
     "output_type": "display_data"
    },
    {
     "data": {
      "application/vnd.jupyter.widget-view+json": {
       "model_id": "25a5c9fa1f414133a364d8ce1dd12fdc",
       "version_major": 2,
       "version_minor": 0
      },
      "text/plain": [
       "Boundary attack - iterations:   0%|          | 0/50 [00:00<?, ?it/s]"
      ]
     },
     "metadata": {},
     "output_type": "display_data"
    },
    {
     "data": {
      "application/vnd.jupyter.widget-view+json": {
       "model_id": "3781c9d740e94c689f6eb881a4d3a558",
       "version_major": 2,
       "version_minor": 0
      },
      "text/plain": [
       "Boundary attack - iterations:   0%|          | 0/50 [00:00<?, ?it/s]"
      ]
     },
     "metadata": {},
     "output_type": "display_data"
    },
    {
     "data": {
      "application/vnd.jupyter.widget-view+json": {
       "model_id": "d09dbe21915543059d90687caa4b14c7",
       "version_major": 2,
       "version_minor": 0
      },
      "text/plain": [
       "Boundary attack - iterations:   0%|          | 0/50 [00:00<?, ?it/s]"
      ]
     },
     "metadata": {},
     "output_type": "display_data"
    },
    {
     "data": {
      "application/vnd.jupyter.widget-view+json": {
       "model_id": "f1d78dfc3b344733916bcc4e4ddc4096",
       "version_major": 2,
       "version_minor": 0
      },
      "text/plain": [
       "Boundary attack - iterations:   0%|          | 0/50 [00:00<?, ?it/s]"
      ]
     },
     "metadata": {},
     "output_type": "display_data"
    },
    {
     "data": {
      "application/vnd.jupyter.widget-view+json": {
       "model_id": "863ff49ff2bc472bb502a362a4930f69",
       "version_major": 2,
       "version_minor": 0
      },
      "text/plain": [
       "Boundary attack - iterations:   0%|          | 0/50 [00:00<?, ?it/s]"
      ]
     },
     "metadata": {},
     "output_type": "display_data"
    },
    {
     "data": {
      "application/vnd.jupyter.widget-view+json": {
       "model_id": "1403e861affa425bb1a352ad29302eda",
       "version_major": 2,
       "version_minor": 0
      },
      "text/plain": [
       "Boundary attack - iterations:   0%|          | 0/50 [00:00<?, ?it/s]"
      ]
     },
     "metadata": {},
     "output_type": "display_data"
    },
    {
     "data": {
      "application/vnd.jupyter.widget-view+json": {
       "model_id": "edacc1d0dc984312a7e5923f84d3cee4",
       "version_major": 2,
       "version_minor": 0
      },
      "text/plain": [
       "Boundary attack - iterations:   0%|          | 0/50 [00:00<?, ?it/s]"
      ]
     },
     "metadata": {},
     "output_type": "display_data"
    },
    {
     "data": {
      "application/vnd.jupyter.widget-view+json": {
       "model_id": "b4987c3ac07c47a7ad2c1f1bb98b98e5",
       "version_major": 2,
       "version_minor": 0
      },
      "text/plain": [
       "Boundary attack - iterations:   0%|          | 0/50 [00:00<?, ?it/s]"
      ]
     },
     "metadata": {},
     "output_type": "display_data"
    },
    {
     "data": {
      "application/vnd.jupyter.widget-view+json": {
       "model_id": "16af5087c66f463da36431498fc1d515",
       "version_major": 2,
       "version_minor": 0
      },
      "text/plain": [
       "Boundary attack - iterations:   0%|          | 0/50 [00:00<?, ?it/s]"
      ]
     },
     "metadata": {},
     "output_type": "display_data"
    },
    {
     "data": {
      "application/vnd.jupyter.widget-view+json": {
       "model_id": "93d0cb84ff834683859c925d09d5fc42",
       "version_major": 2,
       "version_minor": 0
      },
      "text/plain": [
       "Boundary attack - iterations:   0%|          | 0/50 [00:00<?, ?it/s]"
      ]
     },
     "metadata": {},
     "output_type": "display_data"
    },
    {
     "data": {
      "application/vnd.jupyter.widget-view+json": {
       "model_id": "bf5a6be936c7426b97c492eb83256e85",
       "version_major": 2,
       "version_minor": 0
      },
      "text/plain": [
       "Boundary attack - iterations:   0%|          | 0/50 [00:00<?, ?it/s]"
      ]
     },
     "metadata": {},
     "output_type": "display_data"
    },
    {
     "data": {
      "application/vnd.jupyter.widget-view+json": {
       "model_id": "48486b96f61b4ea18bee021a9ea36e0f",
       "version_major": 2,
       "version_minor": 0
      },
      "text/plain": [
       "Boundary attack - iterations:   0%|          | 0/50 [00:00<?, ?it/s]"
      ]
     },
     "metadata": {},
     "output_type": "display_data"
    },
    {
     "data": {
      "application/vnd.jupyter.widget-view+json": {
       "model_id": "829855193554469f853cea02edee15bc",
       "version_major": 2,
       "version_minor": 0
      },
      "text/plain": [
       "Boundary attack - iterations:   0%|          | 0/50 [00:00<?, ?it/s]"
      ]
     },
     "metadata": {},
     "output_type": "display_data"
    },
    {
     "data": {
      "application/vnd.jupyter.widget-view+json": {
       "model_id": "b7e02ff9509d4ba2837a498fc4a26c10",
       "version_major": 2,
       "version_minor": 0
      },
      "text/plain": [
       "Boundary attack - iterations:   0%|          | 0/50 [00:00<?, ?it/s]"
      ]
     },
     "metadata": {},
     "output_type": "display_data"
    },
    {
     "data": {
      "application/vnd.jupyter.widget-view+json": {
       "model_id": "205c9a7fda7646a4bd45be0372cd3ccc",
       "version_major": 2,
       "version_minor": 0
      },
      "text/plain": [
       "Boundary attack - iterations:   0%|          | 0/50 [00:00<?, ?it/s]"
      ]
     },
     "metadata": {},
     "output_type": "display_data"
    },
    {
     "data": {
      "application/vnd.jupyter.widget-view+json": {
       "model_id": "c7bf003232904e9e874ad5c04e4cab0b",
       "version_major": 2,
       "version_minor": 0
      },
      "text/plain": [
       "Boundary attack - iterations:   0%|          | 0/50 [00:00<?, ?it/s]"
      ]
     },
     "metadata": {},
     "output_type": "display_data"
    },
    {
     "data": {
      "application/vnd.jupyter.widget-view+json": {
       "model_id": "5efdb71a56604bc3901ce5585aac47f2",
       "version_major": 2,
       "version_minor": 0
      },
      "text/plain": [
       "Boundary attack - iterations:   0%|          | 0/50 [00:00<?, ?it/s]"
      ]
     },
     "metadata": {},
     "output_type": "display_data"
    },
    {
     "data": {
      "application/vnd.jupyter.widget-view+json": {
       "model_id": "43b5bd56257b4a36a64c05c7f3eb6d2f",
       "version_major": 2,
       "version_minor": 0
      },
      "text/plain": [
       "Boundary attack - iterations:   0%|          | 0/50 [00:00<?, ?it/s]"
      ]
     },
     "metadata": {},
     "output_type": "display_data"
    },
    {
     "data": {
      "application/vnd.jupyter.widget-view+json": {
       "model_id": "bd5617bc0be44df7851fb3792ab15fa8",
       "version_major": 2,
       "version_minor": 0
      },
      "text/plain": [
       "Boundary attack - iterations:   0%|          | 0/50 [00:00<?, ?it/s]"
      ]
     },
     "metadata": {},
     "output_type": "display_data"
    },
    {
     "data": {
      "application/vnd.jupyter.widget-view+json": {
       "model_id": "e62ab69031fe4685a31364ef50f5db31",
       "version_major": 2,
       "version_minor": 0
      },
      "text/plain": [
       "Boundary attack - iterations:   0%|          | 0/50 [00:00<?, ?it/s]"
      ]
     },
     "metadata": {},
     "output_type": "display_data"
    },
    {
     "data": {
      "application/vnd.jupyter.widget-view+json": {
       "model_id": "15803e0c78c14c09a1dda8fa8f79d701",
       "version_major": 2,
       "version_minor": 0
      },
      "text/plain": [
       "Boundary attack - iterations:   0%|          | 0/50 [00:00<?, ?it/s]"
      ]
     },
     "metadata": {},
     "output_type": "display_data"
    },
    {
     "data": {
      "application/vnd.jupyter.widget-view+json": {
       "model_id": "0a4bef60e0954455a3748685fbfc1182",
       "version_major": 2,
       "version_minor": 0
      },
      "text/plain": [
       "Boundary attack - iterations:   0%|          | 0/50 [00:00<?, ?it/s]"
      ]
     },
     "metadata": {},
     "output_type": "display_data"
    },
    {
     "data": {
      "application/vnd.jupyter.widget-view+json": {
       "model_id": "e3e754e0ca734e179855d4e7b3981422",
       "version_major": 2,
       "version_minor": 0
      },
      "text/plain": [
       "Boundary attack - iterations:   0%|          | 0/50 [00:00<?, ?it/s]"
      ]
     },
     "metadata": {},
     "output_type": "display_data"
    },
    {
     "data": {
      "application/vnd.jupyter.widget-view+json": {
       "model_id": "2b625e0bbb07400fb05daf9a3b0775a3",
       "version_major": 2,
       "version_minor": 0
      },
      "text/plain": [
       "Boundary attack - iterations:   0%|          | 0/50 [00:00<?, ?it/s]"
      ]
     },
     "metadata": {},
     "output_type": "display_data"
    },
    {
     "data": {
      "application/vnd.jupyter.widget-view+json": {
       "model_id": "c82e0759563343e7a47d11d45e47b552",
       "version_major": 2,
       "version_minor": 0
      },
      "text/plain": [
       "Boundary attack - iterations:   0%|          | 0/50 [00:00<?, ?it/s]"
      ]
     },
     "metadata": {},
     "output_type": "display_data"
    },
    {
     "data": {
      "application/vnd.jupyter.widget-view+json": {
       "model_id": "e3aacbb1f45f4a4e97e7fce43035dc4f",
       "version_major": 2,
       "version_minor": 0
      },
      "text/plain": [
       "Boundary attack - iterations:   0%|          | 0/50 [00:00<?, ?it/s]"
      ]
     },
     "metadata": {},
     "output_type": "display_data"
    },
    {
     "data": {
      "application/vnd.jupyter.widget-view+json": {
       "model_id": "0ff793ffa1164db59699dca9e6d445fd",
       "version_major": 2,
       "version_minor": 0
      },
      "text/plain": [
       "Boundary attack - iterations:   0%|          | 0/50 [00:00<?, ?it/s]"
      ]
     },
     "metadata": {},
     "output_type": "display_data"
    },
    {
     "data": {
      "application/vnd.jupyter.widget-view+json": {
       "model_id": "9ccd2262392947fe8351c9c610c2268a",
       "version_major": 2,
       "version_minor": 0
      },
      "text/plain": [
       "Boundary attack - iterations:   0%|          | 0/50 [00:00<?, ?it/s]"
      ]
     },
     "metadata": {},
     "output_type": "display_data"
    },
    {
     "data": {
      "application/vnd.jupyter.widget-view+json": {
       "model_id": "e524c5d9e5e14179adf2a7c8ae7459aa",
       "version_major": 2,
       "version_minor": 0
      },
      "text/plain": [
       "Boundary attack - iterations:   0%|          | 0/50 [00:00<?, ?it/s]"
      ]
     },
     "metadata": {},
     "output_type": "display_data"
    },
    {
     "data": {
      "application/vnd.jupyter.widget-view+json": {
       "model_id": "94b5537256be458c8d0996260ecbb0ed",
       "version_major": 2,
       "version_minor": 0
      },
      "text/plain": [
       "Boundary attack - iterations:   0%|          | 0/50 [00:00<?, ?it/s]"
      ]
     },
     "metadata": {},
     "output_type": "display_data"
    },
    {
     "data": {
      "application/vnd.jupyter.widget-view+json": {
       "model_id": "d48e21b85f4940ed95f5182d74b0c58e",
       "version_major": 2,
       "version_minor": 0
      },
      "text/plain": [
       "Boundary attack - iterations:   0%|          | 0/50 [00:00<?, ?it/s]"
      ]
     },
     "metadata": {},
     "output_type": "display_data"
    },
    {
     "data": {
      "application/vnd.jupyter.widget-view+json": {
       "model_id": "d806502dc2334a46818ba8aeef9fd687",
       "version_major": 2,
       "version_minor": 0
      },
      "text/plain": [
       "Boundary attack - iterations:   0%|          | 0/50 [00:00<?, ?it/s]"
      ]
     },
     "metadata": {},
     "output_type": "display_data"
    },
    {
     "data": {
      "application/vnd.jupyter.widget-view+json": {
       "model_id": "10a6e3ab90864668a75f780942772b1b",
       "version_major": 2,
       "version_minor": 0
      },
      "text/plain": [
       "Boundary attack - iterations:   0%|          | 0/50 [00:00<?, ?it/s]"
      ]
     },
     "metadata": {},
     "output_type": "display_data"
    },
    {
     "data": {
      "application/vnd.jupyter.widget-view+json": {
       "model_id": "96938b16747143bf9a669eb066e89859",
       "version_major": 2,
       "version_minor": 0
      },
      "text/plain": [
       "Boundary attack - iterations:   0%|          | 0/50 [00:00<?, ?it/s]"
      ]
     },
     "metadata": {},
     "output_type": "display_data"
    },
    {
     "data": {
      "application/vnd.jupyter.widget-view+json": {
       "model_id": "922fbb6375b947a28b025aeefd614074",
       "version_major": 2,
       "version_minor": 0
      },
      "text/plain": [
       "Boundary attack - iterations:   0%|          | 0/50 [00:00<?, ?it/s]"
      ]
     },
     "metadata": {},
     "output_type": "display_data"
    },
    {
     "data": {
      "application/vnd.jupyter.widget-view+json": {
       "model_id": "3d277401303c4f5dbb96ae43be43309a",
       "version_major": 2,
       "version_minor": 0
      },
      "text/plain": [
       "Boundary attack - iterations:   0%|          | 0/50 [00:00<?, ?it/s]"
      ]
     },
     "metadata": {},
     "output_type": "display_data"
    },
    {
     "data": {
      "application/vnd.jupyter.widget-view+json": {
       "model_id": "3a713ebe7acd4162ac33e39966c3a331",
       "version_major": 2,
       "version_minor": 0
      },
      "text/plain": [
       "Boundary attack - iterations:   0%|          | 0/50 [00:00<?, ?it/s]"
      ]
     },
     "metadata": {},
     "output_type": "display_data"
    },
    {
     "data": {
      "application/vnd.jupyter.widget-view+json": {
       "model_id": "2e02f297cc224f8584b39bdd43e4d9b9",
       "version_major": 2,
       "version_minor": 0
      },
      "text/plain": [
       "Boundary attack - iterations:   0%|          | 0/50 [00:00<?, ?it/s]"
      ]
     },
     "metadata": {},
     "output_type": "display_data"
    },
    {
     "data": {
      "application/vnd.jupyter.widget-view+json": {
       "model_id": "ad6fd08255254aaea5bce583ff3e30ef",
       "version_major": 2,
       "version_minor": 0
      },
      "text/plain": [
       "Boundary attack - iterations:   0%|          | 0/50 [00:00<?, ?it/s]"
      ]
     },
     "metadata": {},
     "output_type": "display_data"
    },
    {
     "data": {
      "application/vnd.jupyter.widget-view+json": {
       "model_id": "a36c2fd79676448da7334933e0e99959",
       "version_major": 2,
       "version_minor": 0
      },
      "text/plain": [
       "Boundary attack - iterations:   0%|          | 0/50 [00:00<?, ?it/s]"
      ]
     },
     "metadata": {},
     "output_type": "display_data"
    },
    {
     "data": {
      "application/vnd.jupyter.widget-view+json": {
       "model_id": "95382b2a285b4211ae48347e588c908d",
       "version_major": 2,
       "version_minor": 0
      },
      "text/plain": [
       "Boundary attack - iterations:   0%|          | 0/50 [00:00<?, ?it/s]"
      ]
     },
     "metadata": {},
     "output_type": "display_data"
    },
    {
     "data": {
      "application/vnd.jupyter.widget-view+json": {
       "model_id": "93d329ec291144219133e15026cfaa0e",
       "version_major": 2,
       "version_minor": 0
      },
      "text/plain": [
       "Boundary attack - iterations:   0%|          | 0/50 [00:00<?, ?it/s]"
      ]
     },
     "metadata": {},
     "output_type": "display_data"
    },
    {
     "data": {
      "application/vnd.jupyter.widget-view+json": {
       "model_id": "2967c656e55f43a7acb2a1307f516603",
       "version_major": 2,
       "version_minor": 0
      },
      "text/plain": [
       "Boundary attack - iterations:   0%|          | 0/50 [00:00<?, ?it/s]"
      ]
     },
     "metadata": {},
     "output_type": "display_data"
    },
    {
     "data": {
      "application/vnd.jupyter.widget-view+json": {
       "model_id": "a1377b8d114048daa8529c11dcbe3f96",
       "version_major": 2,
       "version_minor": 0
      },
      "text/plain": [
       "Boundary attack - iterations:   0%|          | 0/50 [00:00<?, ?it/s]"
      ]
     },
     "metadata": {},
     "output_type": "display_data"
    },
    {
     "data": {
      "application/vnd.jupyter.widget-view+json": {
       "model_id": "2c0a7d9956df43e797b763d9ca4e3bbd",
       "version_major": 2,
       "version_minor": 0
      },
      "text/plain": [
       "Boundary attack - iterations:   0%|          | 0/50 [00:00<?, ?it/s]"
      ]
     },
     "metadata": {},
     "output_type": "display_data"
    },
    {
     "data": {
      "application/vnd.jupyter.widget-view+json": {
       "model_id": "d1d0521a635649e2919ffb54d0ccdf73",
       "version_major": 2,
       "version_minor": 0
      },
      "text/plain": [
       "Boundary attack - iterations:   0%|          | 0/50 [00:00<?, ?it/s]"
      ]
     },
     "metadata": {},
     "output_type": "display_data"
    },
    {
     "data": {
      "application/vnd.jupyter.widget-view+json": {
       "model_id": "9e11359a02464f6289132348d4d9d2f4",
       "version_major": 2,
       "version_minor": 0
      },
      "text/plain": [
       "Boundary attack - iterations:   0%|          | 0/50 [00:00<?, ?it/s]"
      ]
     },
     "metadata": {},
     "output_type": "display_data"
    },
    {
     "data": {
      "application/vnd.jupyter.widget-view+json": {
       "model_id": "2e51370568db4d708d080872d17d7024",
       "version_major": 2,
       "version_minor": 0
      },
      "text/plain": [
       "Boundary attack - iterations:   0%|          | 0/50 [00:00<?, ?it/s]"
      ]
     },
     "metadata": {},
     "output_type": "display_data"
    },
    {
     "data": {
      "application/vnd.jupyter.widget-view+json": {
       "model_id": "8ebf3f9e1e5e4da9b9c4c703f670b322",
       "version_major": 2,
       "version_minor": 0
      },
      "text/plain": [
       "Boundary attack - iterations:   0%|          | 0/50 [00:00<?, ?it/s]"
      ]
     },
     "metadata": {},
     "output_type": "display_data"
    },
    {
     "data": {
      "application/vnd.jupyter.widget-view+json": {
       "model_id": "b12e902591c849a38a9434df2db6b24a",
       "version_major": 2,
       "version_minor": 0
      },
      "text/plain": [
       "Boundary attack - iterations:   0%|          | 0/50 [00:00<?, ?it/s]"
      ]
     },
     "metadata": {},
     "output_type": "display_data"
    },
    {
     "data": {
      "application/vnd.jupyter.widget-view+json": {
       "model_id": "f2b3f67240794be99802ca8a17ca47aa",
       "version_major": 2,
       "version_minor": 0
      },
      "text/plain": [
       "Boundary attack - iterations:   0%|          | 0/50 [00:00<?, ?it/s]"
      ]
     },
     "metadata": {},
     "output_type": "display_data"
    },
    {
     "data": {
      "application/vnd.jupyter.widget-view+json": {
       "model_id": "f4a5aeaf77c446308fb2f7bcace7c061",
       "version_major": 2,
       "version_minor": 0
      },
      "text/plain": [
       "Boundary attack - iterations:   0%|          | 0/50 [00:00<?, ?it/s]"
      ]
     },
     "metadata": {},
     "output_type": "display_data"
    },
    {
     "data": {
      "application/vnd.jupyter.widget-view+json": {
       "model_id": "389fe133d0ee4a93a657ae0a32d26786",
       "version_major": 2,
       "version_minor": 0
      },
      "text/plain": [
       "Boundary attack - iterations:   0%|          | 0/50 [00:00<?, ?it/s]"
      ]
     },
     "metadata": {},
     "output_type": "display_data"
    },
    {
     "data": {
      "application/vnd.jupyter.widget-view+json": {
       "model_id": "bcb64124c42e426aae8b2257d498028c",
       "version_major": 2,
       "version_minor": 0
      },
      "text/plain": [
       "Boundary attack - iterations:   0%|          | 0/50 [00:00<?, ?it/s]"
      ]
     },
     "metadata": {},
     "output_type": "display_data"
    },
    {
     "data": {
      "application/vnd.jupyter.widget-view+json": {
       "model_id": "169c0cc380384fc59350e6572afeaeb7",
       "version_major": 2,
       "version_minor": 0
      },
      "text/plain": [
       "Boundary attack - iterations:   0%|          | 0/50 [00:00<?, ?it/s]"
      ]
     },
     "metadata": {},
     "output_type": "display_data"
    },
    {
     "data": {
      "application/vnd.jupyter.widget-view+json": {
       "model_id": "1be4ca57afa8479aa87a00c41db3ea10",
       "version_major": 2,
       "version_minor": 0
      },
      "text/plain": [
       "Boundary attack - iterations:   0%|          | 0/50 [00:00<?, ?it/s]"
      ]
     },
     "metadata": {},
     "output_type": "display_data"
    },
    {
     "data": {
      "application/vnd.jupyter.widget-view+json": {
       "model_id": "ec84a37f23934376a9492047f4c0cc9a",
       "version_major": 2,
       "version_minor": 0
      },
      "text/plain": [
       "Boundary attack - iterations:   0%|          | 0/50 [00:00<?, ?it/s]"
      ]
     },
     "metadata": {},
     "output_type": "display_data"
    },
    {
     "data": {
      "application/vnd.jupyter.widget-view+json": {
       "model_id": "84290a54de1d4e5aa838d8dda29a77a6",
       "version_major": 2,
       "version_minor": 0
      },
      "text/plain": [
       "Boundary attack - iterations:   0%|          | 0/50 [00:00<?, ?it/s]"
      ]
     },
     "metadata": {},
     "output_type": "display_data"
    },
    {
     "data": {
      "application/vnd.jupyter.widget-view+json": {
       "model_id": "8871bb5c540f46fc8365cd9ab0a93912",
       "version_major": 2,
       "version_minor": 0
      },
      "text/plain": [
       "Boundary attack - iterations:   0%|          | 0/50 [00:00<?, ?it/s]"
      ]
     },
     "metadata": {},
     "output_type": "display_data"
    },
    {
     "data": {
      "application/vnd.jupyter.widget-view+json": {
       "model_id": "0fa2015018504314b5ac11bddf63a6fd",
       "version_major": 2,
       "version_minor": 0
      },
      "text/plain": [
       "Boundary attack - iterations:   0%|          | 0/50 [00:00<?, ?it/s]"
      ]
     },
     "metadata": {},
     "output_type": "display_data"
    },
    {
     "data": {
      "application/vnd.jupyter.widget-view+json": {
       "model_id": "2bdd2b28954a4e1b9dea1f09aac3890e",
       "version_major": 2,
       "version_minor": 0
      },
      "text/plain": [
       "Boundary attack - iterations:   0%|          | 0/50 [00:00<?, ?it/s]"
      ]
     },
     "metadata": {},
     "output_type": "display_data"
    },
    {
     "data": {
      "application/vnd.jupyter.widget-view+json": {
       "model_id": "6572ea63af944170a5f74ebeefa44345",
       "version_major": 2,
       "version_minor": 0
      },
      "text/plain": [
       "Boundary attack - iterations:   0%|          | 0/50 [00:00<?, ?it/s]"
      ]
     },
     "metadata": {},
     "output_type": "display_data"
    },
    {
     "data": {
      "application/vnd.jupyter.widget-view+json": {
       "model_id": "587c03e027c24276a89f0397d02628e4",
       "version_major": 2,
       "version_minor": 0
      },
      "text/plain": [
       "Boundary attack - iterations:   0%|          | 0/50 [00:00<?, ?it/s]"
      ]
     },
     "metadata": {},
     "output_type": "display_data"
    },
    {
     "data": {
      "application/vnd.jupyter.widget-view+json": {
       "model_id": "e0c13490f9b5467da831fd4762b64e1d",
       "version_major": 2,
       "version_minor": 0
      },
      "text/plain": [
       "Boundary attack - iterations:   0%|          | 0/50 [00:00<?, ?it/s]"
      ]
     },
     "metadata": {},
     "output_type": "display_data"
    },
    {
     "data": {
      "application/vnd.jupyter.widget-view+json": {
       "model_id": "0c8721b97736495d995d4ccab38a22a9",
       "version_major": 2,
       "version_minor": 0
      },
      "text/plain": [
       "Boundary attack - iterations:   0%|          | 0/50 [00:00<?, ?it/s]"
      ]
     },
     "metadata": {},
     "output_type": "display_data"
    },
    {
     "data": {
      "application/vnd.jupyter.widget-view+json": {
       "model_id": "0874101f2e294a8daf73b0a7e72f6021",
       "version_major": 2,
       "version_minor": 0
      },
      "text/plain": [
       "Boundary attack - iterations:   0%|          | 0/50 [00:00<?, ?it/s]"
      ]
     },
     "metadata": {},
     "output_type": "display_data"
    },
    {
     "data": {
      "application/vnd.jupyter.widget-view+json": {
       "model_id": "5547415db92b4e88a88feac0692146c7",
       "version_major": 2,
       "version_minor": 0
      },
      "text/plain": [
       "Boundary attack - iterations:   0%|          | 0/50 [00:00<?, ?it/s]"
      ]
     },
     "metadata": {},
     "output_type": "display_data"
    },
    {
     "data": {
      "application/vnd.jupyter.widget-view+json": {
       "model_id": "feb7e5bdc3dd447abc1de30cd950b5b6",
       "version_major": 2,
       "version_minor": 0
      },
      "text/plain": [
       "Boundary attack - iterations:   0%|          | 0/50 [00:00<?, ?it/s]"
      ]
     },
     "metadata": {},
     "output_type": "display_data"
    },
    {
     "data": {
      "application/vnd.jupyter.widget-view+json": {
       "model_id": "70d743e396ea4b6982d7895921c1f4ea",
       "version_major": 2,
       "version_minor": 0
      },
      "text/plain": [
       "Boundary attack - iterations:   0%|          | 0/50 [00:00<?, ?it/s]"
      ]
     },
     "metadata": {},
     "output_type": "display_data"
    },
    {
     "data": {
      "application/vnd.jupyter.widget-view+json": {
       "model_id": "0b5fee11264846fd931a7747b291d99e",
       "version_major": 2,
       "version_minor": 0
      },
      "text/plain": [
       "Boundary attack - iterations:   0%|          | 0/50 [00:00<?, ?it/s]"
      ]
     },
     "metadata": {},
     "output_type": "display_data"
    },
    {
     "data": {
      "application/vnd.jupyter.widget-view+json": {
       "model_id": "72c57d04739443f48d0d9efe22465430",
       "version_major": 2,
       "version_minor": 0
      },
      "text/plain": [
       "Boundary attack - iterations:   0%|          | 0/50 [00:00<?, ?it/s]"
      ]
     },
     "metadata": {},
     "output_type": "display_data"
    },
    {
     "data": {
      "application/vnd.jupyter.widget-view+json": {
       "model_id": "2f9808a916ad4502b7e25aa214d52893",
       "version_major": 2,
       "version_minor": 0
      },
      "text/plain": [
       "Boundary attack - iterations:   0%|          | 0/50 [00:00<?, ?it/s]"
      ]
     },
     "metadata": {},
     "output_type": "display_data"
    },
    {
     "data": {
      "application/vnd.jupyter.widget-view+json": {
       "model_id": "9d78ad99facb46a09e25a0f73461658c",
       "version_major": 2,
       "version_minor": 0
      },
      "text/plain": [
       "Boundary attack - iterations:   0%|          | 0/50 [00:00<?, ?it/s]"
      ]
     },
     "metadata": {},
     "output_type": "display_data"
    },
    {
     "data": {
      "application/vnd.jupyter.widget-view+json": {
       "model_id": "92b291d38e424b29860758f5a52157ce",
       "version_major": 2,
       "version_minor": 0
      },
      "text/plain": [
       "Boundary attack - iterations:   0%|          | 0/50 [00:00<?, ?it/s]"
      ]
     },
     "metadata": {},
     "output_type": "display_data"
    },
    {
     "data": {
      "application/vnd.jupyter.widget-view+json": {
       "model_id": "dd39a2a2a1a3402a9a2626a2b650bf94",
       "version_major": 2,
       "version_minor": 0
      },
      "text/plain": [
       "Boundary attack - iterations:   0%|          | 0/50 [00:00<?, ?it/s]"
      ]
     },
     "metadata": {},
     "output_type": "display_data"
    },
    {
     "data": {
      "application/vnd.jupyter.widget-view+json": {
       "model_id": "eba9520841e749c591c45e274de52103",
       "version_major": 2,
       "version_minor": 0
      },
      "text/plain": [
       "Boundary attack - iterations:   0%|          | 0/50 [00:00<?, ?it/s]"
      ]
     },
     "metadata": {},
     "output_type": "display_data"
    },
    {
     "data": {
      "application/vnd.jupyter.widget-view+json": {
       "model_id": "8d20a329ad9a4b658223f352dc4944e7",
       "version_major": 2,
       "version_minor": 0
      },
      "text/plain": [
       "Boundary attack - iterations:   0%|          | 0/50 [00:00<?, ?it/s]"
      ]
     },
     "metadata": {},
     "output_type": "display_data"
    },
    {
     "data": {
      "application/vnd.jupyter.widget-view+json": {
       "model_id": "5d339de600f04adc9d0499fcb9c29120",
       "version_major": 2,
       "version_minor": 0
      },
      "text/plain": [
       "Boundary attack - iterations:   0%|          | 0/50 [00:00<?, ?it/s]"
      ]
     },
     "metadata": {},
     "output_type": "display_data"
    },
    {
     "data": {
      "application/vnd.jupyter.widget-view+json": {
       "model_id": "b2a2914ba8c940629ccf4aa64b91c572",
       "version_major": 2,
       "version_minor": 0
      },
      "text/plain": [
       "Boundary attack - iterations:   0%|          | 0/50 [00:00<?, ?it/s]"
      ]
     },
     "metadata": {},
     "output_type": "display_data"
    },
    {
     "data": {
      "application/vnd.jupyter.widget-view+json": {
       "model_id": "05bcb31a5f1a4da8b4148e5e05d5c22c",
       "version_major": 2,
       "version_minor": 0
      },
      "text/plain": [
       "Boundary attack - iterations:   0%|          | 0/50 [00:00<?, ?it/s]"
      ]
     },
     "metadata": {},
     "output_type": "display_data"
    },
    {
     "data": {
      "application/vnd.jupyter.widget-view+json": {
       "model_id": "ad6f51773325412a9bf8549dca51eb9f",
       "version_major": 2,
       "version_minor": 0
      },
      "text/plain": [
       "Boundary attack - iterations:   0%|          | 0/50 [00:00<?, ?it/s]"
      ]
     },
     "metadata": {},
     "output_type": "display_data"
    },
    {
     "data": {
      "application/vnd.jupyter.widget-view+json": {
       "model_id": "b4e160ebd27f47d1b22be29277b6067a",
       "version_major": 2,
       "version_minor": 0
      },
      "text/plain": [
       "Boundary attack - iterations:   0%|          | 0/50 [00:00<?, ?it/s]"
      ]
     },
     "metadata": {},
     "output_type": "display_data"
    },
    {
     "data": {
      "application/vnd.jupyter.widget-view+json": {
       "model_id": "23072dbecfe444f8acf1ef81ee18311a",
       "version_major": 2,
       "version_minor": 0
      },
      "text/plain": [
       "Boundary attack - iterations:   0%|          | 0/50 [00:00<?, ?it/s]"
      ]
     },
     "metadata": {},
     "output_type": "display_data"
    },
    {
     "data": {
      "application/vnd.jupyter.widget-view+json": {
       "model_id": "46306dbe06bd4b2a87f4a767e7a0ad3d",
       "version_major": 2,
       "version_minor": 0
      },
      "text/plain": [
       "Boundary attack - iterations:   0%|          | 0/50 [00:00<?, ?it/s]"
      ]
     },
     "metadata": {},
     "output_type": "display_data"
    },
    {
     "data": {
      "application/vnd.jupyter.widget-view+json": {
       "model_id": "dfe28b70c6854beba7a6f20d520d92bc",
       "version_major": 2,
       "version_minor": 0
      },
      "text/plain": [
       "Boundary attack - iterations:   0%|          | 0/50 [00:00<?, ?it/s]"
      ]
     },
     "metadata": {},
     "output_type": "display_data"
    },
    {
     "data": {
      "application/vnd.jupyter.widget-view+json": {
       "model_id": "66bd1d81f6fe4db0b42c38431e8c6117",
       "version_major": 2,
       "version_minor": 0
      },
      "text/plain": [
       "Boundary attack - iterations:   0%|          | 0/50 [00:00<?, ?it/s]"
      ]
     },
     "metadata": {},
     "output_type": "display_data"
    },
    {
     "data": {
      "application/vnd.jupyter.widget-view+json": {
       "model_id": "130e5b5b17554da39f7febe7fddf49a3",
       "version_major": 2,
       "version_minor": 0
      },
      "text/plain": [
       "Boundary attack - iterations:   0%|          | 0/50 [00:00<?, ?it/s]"
      ]
     },
     "metadata": {},
     "output_type": "display_data"
    },
    {
     "data": {
      "application/vnd.jupyter.widget-view+json": {
       "model_id": "f8b6bee548864014a06cbcd578269be2",
       "version_major": 2,
       "version_minor": 0
      },
      "text/plain": [
       "Boundary attack - iterations:   0%|          | 0/50 [00:00<?, ?it/s]"
      ]
     },
     "metadata": {},
     "output_type": "display_data"
    },
    {
     "data": {
      "application/vnd.jupyter.widget-view+json": {
       "model_id": "da9486a4cba848debcc0903b6e1dc356",
       "version_major": 2,
       "version_minor": 0
      },
      "text/plain": [
       "Boundary attack - iterations:   0%|          | 0/50 [00:00<?, ?it/s]"
      ]
     },
     "metadata": {},
     "output_type": "display_data"
    },
    {
     "data": {
      "application/vnd.jupyter.widget-view+json": {
       "model_id": "b1217136db5f4769b4dc5ba1db5cc9c4",
       "version_major": 2,
       "version_minor": 0
      },
      "text/plain": [
       "Boundary attack - iterations:   0%|          | 0/50 [00:00<?, ?it/s]"
      ]
     },
     "metadata": {},
     "output_type": "display_data"
    },
    {
     "data": {
      "application/vnd.jupyter.widget-view+json": {
       "model_id": "0f5f5c75670942438715409a232069cb",
       "version_major": 2,
       "version_minor": 0
      },
      "text/plain": [
       "Boundary attack - iterations:   0%|          | 0/50 [00:00<?, ?it/s]"
      ]
     },
     "metadata": {},
     "output_type": "display_data"
    },
    {
     "data": {
      "application/vnd.jupyter.widget-view+json": {
       "model_id": "4f4a14d01faf408eac66bb3f3d68d04f",
       "version_major": 2,
       "version_minor": 0
      },
      "text/plain": [
       "Boundary attack - iterations:   0%|          | 0/50 [00:00<?, ?it/s]"
      ]
     },
     "metadata": {},
     "output_type": "display_data"
    },
    {
     "data": {
      "application/vnd.jupyter.widget-view+json": {
       "model_id": "2ad980e8d91d468da389dae62a98c38e",
       "version_major": 2,
       "version_minor": 0
      },
      "text/plain": [
       "Boundary attack - iterations:   0%|          | 0/50 [00:00<?, ?it/s]"
      ]
     },
     "metadata": {},
     "output_type": "display_data"
    },
    {
     "data": {
      "application/vnd.jupyter.widget-view+json": {
       "model_id": "1001b26cac9e42c0a43a08a8eac02f65",
       "version_major": 2,
       "version_minor": 0
      },
      "text/plain": [
       "Boundary attack - iterations:   0%|          | 0/50 [00:00<?, ?it/s]"
      ]
     },
     "metadata": {},
     "output_type": "display_data"
    },
    {
     "data": {
      "application/vnd.jupyter.widget-view+json": {
       "model_id": "180883af94be4a2984768a735c392441",
       "version_major": 2,
       "version_minor": 0
      },
      "text/plain": [
       "Boundary attack - iterations:   0%|          | 0/50 [00:00<?, ?it/s]"
      ]
     },
     "metadata": {},
     "output_type": "display_data"
    },
    {
     "data": {
      "application/vnd.jupyter.widget-view+json": {
       "model_id": "8fb315f28a4f4efbbe26a5c4e23f9e25",
       "version_major": 2,
       "version_minor": 0
      },
      "text/plain": [
       "Boundary attack - iterations:   0%|          | 0/50 [00:00<?, ?it/s]"
      ]
     },
     "metadata": {},
     "output_type": "display_data"
    },
    {
     "data": {
      "application/vnd.jupyter.widget-view+json": {
       "model_id": "af3a9fe2843243feadf4e0999b4ed05c",
       "version_major": 2,
       "version_minor": 0
      },
      "text/plain": [
       "Boundary attack - iterations:   0%|          | 0/50 [00:00<?, ?it/s]"
      ]
     },
     "metadata": {},
     "output_type": "display_data"
    },
    {
     "data": {
      "application/vnd.jupyter.widget-view+json": {
       "model_id": "0408dc38e5924df5a2426dc119c67ad0",
       "version_major": 2,
       "version_minor": 0
      },
      "text/plain": [
       "Boundary attack - iterations:   0%|          | 0/50 [00:00<?, ?it/s]"
      ]
     },
     "metadata": {},
     "output_type": "display_data"
    },
    {
     "data": {
      "application/vnd.jupyter.widget-view+json": {
       "model_id": "0d4d6159cd43418b9408d0614ef89759",
       "version_major": 2,
       "version_minor": 0
      },
      "text/plain": [
       "Boundary attack - iterations:   0%|          | 0/50 [00:00<?, ?it/s]"
      ]
     },
     "metadata": {},
     "output_type": "display_data"
    },
    {
     "data": {
      "application/vnd.jupyter.widget-view+json": {
       "model_id": "7170254c24eb4754bdfb410d76cf68a2",
       "version_major": 2,
       "version_minor": 0
      },
      "text/plain": [
       "Boundary attack - iterations:   0%|          | 0/50 [00:00<?, ?it/s]"
      ]
     },
     "metadata": {},
     "output_type": "display_data"
    },
    {
     "data": {
      "application/vnd.jupyter.widget-view+json": {
       "model_id": "95f78e41913740cc81a445a594af2b53",
       "version_major": 2,
       "version_minor": 0
      },
      "text/plain": [
       "Boundary attack - iterations:   0%|          | 0/50 [00:00<?, ?it/s]"
      ]
     },
     "metadata": {},
     "output_type": "display_data"
    },
    {
     "data": {
      "application/vnd.jupyter.widget-view+json": {
       "model_id": "aa964a821de9431e90e6802260dcfeb4",
       "version_major": 2,
       "version_minor": 0
      },
      "text/plain": [
       "Boundary attack - iterations:   0%|          | 0/50 [00:00<?, ?it/s]"
      ]
     },
     "metadata": {},
     "output_type": "display_data"
    },
    {
     "data": {
      "application/vnd.jupyter.widget-view+json": {
       "model_id": "ce737b6a7c444216b6a81d22a951434a",
       "version_major": 2,
       "version_minor": 0
      },
      "text/plain": [
       "Boundary attack - iterations:   0%|          | 0/50 [00:00<?, ?it/s]"
      ]
     },
     "metadata": {},
     "output_type": "display_data"
    },
    {
     "data": {
      "application/vnd.jupyter.widget-view+json": {
       "model_id": "04924fbe70824e11abec662d69a5de49",
       "version_major": 2,
       "version_minor": 0
      },
      "text/plain": [
       "Boundary attack - iterations:   0%|          | 0/50 [00:00<?, ?it/s]"
      ]
     },
     "metadata": {},
     "output_type": "display_data"
    },
    {
     "data": {
      "application/vnd.jupyter.widget-view+json": {
       "model_id": "b4618972a23044458a0767414cc96eea",
       "version_major": 2,
       "version_minor": 0
      },
      "text/plain": [
       "Boundary attack - iterations:   0%|          | 0/50 [00:00<?, ?it/s]"
      ]
     },
     "metadata": {},
     "output_type": "display_data"
    },
    {
     "data": {
      "application/vnd.jupyter.widget-view+json": {
       "model_id": "19aab8ee6d04416ab27acda36dd44270",
       "version_major": 2,
       "version_minor": 0
      },
      "text/plain": [
       "Boundary attack - iterations:   0%|          | 0/50 [00:00<?, ?it/s]"
      ]
     },
     "metadata": {},
     "output_type": "display_data"
    },
    {
     "data": {
      "application/vnd.jupyter.widget-view+json": {
       "model_id": "4da389dd3f9b42d7bea7533300346fe5",
       "version_major": 2,
       "version_minor": 0
      },
      "text/plain": [
       "Boundary attack - iterations:   0%|          | 0/50 [00:00<?, ?it/s]"
      ]
     },
     "metadata": {},
     "output_type": "display_data"
    },
    {
     "data": {
      "application/vnd.jupyter.widget-view+json": {
       "model_id": "4d892c302b2c404ebb7a8a3c39af81d0",
       "version_major": 2,
       "version_minor": 0
      },
      "text/plain": [
       "Boundary attack - iterations:   0%|          | 0/50 [00:00<?, ?it/s]"
      ]
     },
     "metadata": {},
     "output_type": "display_data"
    },
    {
     "data": {
      "application/vnd.jupyter.widget-view+json": {
       "model_id": "8b4fc8908c9d4f3a8df3be980f94d628",
       "version_major": 2,
       "version_minor": 0
      },
      "text/plain": [
       "Boundary attack - iterations:   0%|          | 0/50 [00:00<?, ?it/s]"
      ]
     },
     "metadata": {},
     "output_type": "display_data"
    },
    {
     "data": {
      "application/vnd.jupyter.widget-view+json": {
       "model_id": "85837f80b9bb4c88b54f9c0dcfd47a0c",
       "version_major": 2,
       "version_minor": 0
      },
      "text/plain": [
       "Boundary attack - iterations:   0%|          | 0/50 [00:00<?, ?it/s]"
      ]
     },
     "metadata": {},
     "output_type": "display_data"
    },
    {
     "data": {
      "application/vnd.jupyter.widget-view+json": {
       "model_id": "3aa2fb55875e462fb5af40d42e9078b0",
       "version_major": 2,
       "version_minor": 0
      },
      "text/plain": [
       "Boundary attack - iterations:   0%|          | 0/50 [00:00<?, ?it/s]"
      ]
     },
     "metadata": {},
     "output_type": "display_data"
    },
    {
     "data": {
      "application/vnd.jupyter.widget-view+json": {
       "model_id": "e86ed32cf9e34dd0b88b31a0d8736a61",
       "version_major": 2,
       "version_minor": 0
      },
      "text/plain": [
       "Boundary attack - iterations:   0%|          | 0/50 [00:00<?, ?it/s]"
      ]
     },
     "metadata": {},
     "output_type": "display_data"
    },
    {
     "data": {
      "application/vnd.jupyter.widget-view+json": {
       "model_id": "f600f6bfb74f4bdf8682f6881331a2fd",
       "version_major": 2,
       "version_minor": 0
      },
      "text/plain": [
       "Boundary attack - iterations:   0%|          | 0/50 [00:00<?, ?it/s]"
      ]
     },
     "metadata": {},
     "output_type": "display_data"
    },
    {
     "data": {
      "application/vnd.jupyter.widget-view+json": {
       "model_id": "3f608d95f79f4adebf23a5be6ba15f94",
       "version_major": 2,
       "version_minor": 0
      },
      "text/plain": [
       "Boundary attack - iterations:   0%|          | 0/50 [00:00<?, ?it/s]"
      ]
     },
     "metadata": {},
     "output_type": "display_data"
    },
    {
     "data": {
      "application/vnd.jupyter.widget-view+json": {
       "model_id": "5046347b03be422a8a5b826d78a2341f",
       "version_major": 2,
       "version_minor": 0
      },
      "text/plain": [
       "Boundary attack - iterations:   0%|          | 0/50 [00:00<?, ?it/s]"
      ]
     },
     "metadata": {},
     "output_type": "display_data"
    },
    {
     "data": {
      "application/vnd.jupyter.widget-view+json": {
       "model_id": "045da6ce69394a7a815827f2793673aa",
       "version_major": 2,
       "version_minor": 0
      },
      "text/plain": [
       "Boundary attack - iterations:   0%|          | 0/50 [00:00<?, ?it/s]"
      ]
     },
     "metadata": {},
     "output_type": "display_data"
    },
    {
     "data": {
      "application/vnd.jupyter.widget-view+json": {
       "model_id": "d261914aa23c4cb8a91be0fea47df90b",
       "version_major": 2,
       "version_minor": 0
      },
      "text/plain": [
       "Boundary attack - iterations:   0%|          | 0/50 [00:00<?, ?it/s]"
      ]
     },
     "metadata": {},
     "output_type": "display_data"
    },
    {
     "data": {
      "application/vnd.jupyter.widget-view+json": {
       "model_id": "a15a539d4cc948da8ff38d565e752ac9",
       "version_major": 2,
       "version_minor": 0
      },
      "text/plain": [
       "Boundary attack - iterations:   0%|          | 0/50 [00:00<?, ?it/s]"
      ]
     },
     "metadata": {},
     "output_type": "display_data"
    },
    {
     "data": {
      "application/vnd.jupyter.widget-view+json": {
       "model_id": "cde508e6ada144c18c4ed315d9ee14d7",
       "version_major": 2,
       "version_minor": 0
      },
      "text/plain": [
       "Boundary attack - iterations:   0%|          | 0/50 [00:00<?, ?it/s]"
      ]
     },
     "metadata": {},
     "output_type": "display_data"
    },
    {
     "data": {
      "application/vnd.jupyter.widget-view+json": {
       "model_id": "ad3588769ef84fa9ba6e7cfdff4b4203",
       "version_major": 2,
       "version_minor": 0
      },
      "text/plain": [
       "Boundary attack - iterations:   0%|          | 0/50 [00:00<?, ?it/s]"
      ]
     },
     "metadata": {},
     "output_type": "display_data"
    },
    {
     "data": {
      "application/vnd.jupyter.widget-view+json": {
       "model_id": "03e1cd44436f4393a5091fbd78fc25c3",
       "version_major": 2,
       "version_minor": 0
      },
      "text/plain": [
       "Boundary attack - iterations:   0%|          | 0/50 [00:00<?, ?it/s]"
      ]
     },
     "metadata": {},
     "output_type": "display_data"
    },
    {
     "data": {
      "application/vnd.jupyter.widget-view+json": {
       "model_id": "7e893f388fc149f384c6a8a92a96494e",
       "version_major": 2,
       "version_minor": 0
      },
      "text/plain": [
       "Boundary attack - iterations:   0%|          | 0/50 [00:00<?, ?it/s]"
      ]
     },
     "metadata": {},
     "output_type": "display_data"
    },
    {
     "data": {
      "application/vnd.jupyter.widget-view+json": {
       "model_id": "6a1148b0577c40abbf046079e334ebf9",
       "version_major": 2,
       "version_minor": 0
      },
      "text/plain": [
       "Boundary attack - iterations:   0%|          | 0/50 [00:00<?, ?it/s]"
      ]
     },
     "metadata": {},
     "output_type": "display_data"
    },
    {
     "data": {
      "application/vnd.jupyter.widget-view+json": {
       "model_id": "7017620dd8ee473fa231ba8d68f83c30",
       "version_major": 2,
       "version_minor": 0
      },
      "text/plain": [
       "Boundary attack - iterations:   0%|          | 0/50 [00:00<?, ?it/s]"
      ]
     },
     "metadata": {},
     "output_type": "display_data"
    },
    {
     "data": {
      "application/vnd.jupyter.widget-view+json": {
       "model_id": "f0e7e47c6a1b40bf8530976029e89d4f",
       "version_major": 2,
       "version_minor": 0
      },
      "text/plain": [
       "Boundary attack - iterations:   0%|          | 0/50 [00:00<?, ?it/s]"
      ]
     },
     "metadata": {},
     "output_type": "display_data"
    },
    {
     "data": {
      "application/vnd.jupyter.widget-view+json": {
       "model_id": "7f9969d830974e629c7815b0e5b9191d",
       "version_major": 2,
       "version_minor": 0
      },
      "text/plain": [
       "Boundary attack - iterations:   0%|          | 0/50 [00:00<?, ?it/s]"
      ]
     },
     "metadata": {},
     "output_type": "display_data"
    },
    {
     "data": {
      "application/vnd.jupyter.widget-view+json": {
       "model_id": "91973403b66441d0b75c5f0611de3d19",
       "version_major": 2,
       "version_minor": 0
      },
      "text/plain": [
       "Boundary attack - iterations:   0%|          | 0/50 [00:00<?, ?it/s]"
      ]
     },
     "metadata": {},
     "output_type": "display_data"
    },
    {
     "data": {
      "application/vnd.jupyter.widget-view+json": {
       "model_id": "249be97cdda44703bf04f1f51ee23bb9",
       "version_major": 2,
       "version_minor": 0
      },
      "text/plain": [
       "Boundary attack - iterations:   0%|          | 0/50 [00:00<?, ?it/s]"
      ]
     },
     "metadata": {},
     "output_type": "display_data"
    },
    {
     "data": {
      "application/vnd.jupyter.widget-view+json": {
       "model_id": "54147b733b2d4995923e20b86cefc0f9",
       "version_major": 2,
       "version_minor": 0
      },
      "text/plain": [
       "Boundary attack - iterations:   0%|          | 0/50 [00:00<?, ?it/s]"
      ]
     },
     "metadata": {},
     "output_type": "display_data"
    },
    {
     "data": {
      "application/vnd.jupyter.widget-view+json": {
       "model_id": "fa5a5c3a065e4e8fa95bbc3c8e4c9530",
       "version_major": 2,
       "version_minor": 0
      },
      "text/plain": [
       "Boundary attack - iterations:   0%|          | 0/50 [00:00<?, ?it/s]"
      ]
     },
     "metadata": {},
     "output_type": "display_data"
    },
    {
     "data": {
      "application/vnd.jupyter.widget-view+json": {
       "model_id": "92d7ffc1ad04496cb84f540367a912f2",
       "version_major": 2,
       "version_minor": 0
      },
      "text/plain": [
       "Boundary attack - iterations:   0%|          | 0/50 [00:00<?, ?it/s]"
      ]
     },
     "metadata": {},
     "output_type": "display_data"
    },
    {
     "data": {
      "application/vnd.jupyter.widget-view+json": {
       "model_id": "ed18091bfe014556adb41f4bcce73922",
       "version_major": 2,
       "version_minor": 0
      },
      "text/plain": [
       "Boundary attack - iterations:   0%|          | 0/50 [00:00<?, ?it/s]"
      ]
     },
     "metadata": {},
     "output_type": "display_data"
    },
    {
     "data": {
      "application/vnd.jupyter.widget-view+json": {
       "model_id": "05c2d1acb982457db23090f4d20fc281",
       "version_major": 2,
       "version_minor": 0
      },
      "text/plain": [
       "Boundary attack - iterations:   0%|          | 0/50 [00:00<?, ?it/s]"
      ]
     },
     "metadata": {},
     "output_type": "display_data"
    },
    {
     "data": {
      "application/vnd.jupyter.widget-view+json": {
       "model_id": "2266fb3961394853b4569120e30802f9",
       "version_major": 2,
       "version_minor": 0
      },
      "text/plain": [
       "Boundary attack - iterations:   0%|          | 0/50 [00:00<?, ?it/s]"
      ]
     },
     "metadata": {},
     "output_type": "display_data"
    },
    {
     "data": {
      "application/vnd.jupyter.widget-view+json": {
       "model_id": "0f7ac5fdda584380816ea3f6387fba81",
       "version_major": 2,
       "version_minor": 0
      },
      "text/plain": [
       "Boundary attack - iterations:   0%|          | 0/50 [00:00<?, ?it/s]"
      ]
     },
     "metadata": {},
     "output_type": "display_data"
    },
    {
     "data": {
      "application/vnd.jupyter.widget-view+json": {
       "model_id": "280ea044d955433d86b95694ea46c336",
       "version_major": 2,
       "version_minor": 0
      },
      "text/plain": [
       "Boundary attack - iterations:   0%|          | 0/50 [00:00<?, ?it/s]"
      ]
     },
     "metadata": {},
     "output_type": "display_data"
    },
    {
     "data": {
      "application/vnd.jupyter.widget-view+json": {
       "model_id": "1d7d029128424098907ed544216210dd",
       "version_major": 2,
       "version_minor": 0
      },
      "text/plain": [
       "Boundary attack - iterations:   0%|          | 0/50 [00:00<?, ?it/s]"
      ]
     },
     "metadata": {},
     "output_type": "display_data"
    },
    {
     "data": {
      "application/vnd.jupyter.widget-view+json": {
       "model_id": "732bb82430b34260bbdeee54cabbade5",
       "version_major": 2,
       "version_minor": 0
      },
      "text/plain": [
       "Boundary attack - iterations:   0%|          | 0/50 [00:00<?, ?it/s]"
      ]
     },
     "metadata": {},
     "output_type": "display_data"
    },
    {
     "data": {
      "application/vnd.jupyter.widget-view+json": {
       "model_id": "5dbef03616354b66928b8198ac1f2f93",
       "version_major": 2,
       "version_minor": 0
      },
      "text/plain": [
       "Boundary attack - iterations:   0%|          | 0/50 [00:00<?, ?it/s]"
      ]
     },
     "metadata": {},
     "output_type": "display_data"
    },
    {
     "data": {
      "application/vnd.jupyter.widget-view+json": {
       "model_id": "32de9b9119dc4074bc05cda0e720f1ca",
       "version_major": 2,
       "version_minor": 0
      },
      "text/plain": [
       "Boundary attack - iterations:   0%|          | 0/50 [00:00<?, ?it/s]"
      ]
     },
     "metadata": {},
     "output_type": "display_data"
    },
    {
     "data": {
      "application/vnd.jupyter.widget-view+json": {
       "model_id": "2105cc0dc7b74e7aad620ea11b1b4339",
       "version_major": 2,
       "version_minor": 0
      },
      "text/plain": [
       "Boundary attack - iterations:   0%|          | 0/50 [00:00<?, ?it/s]"
      ]
     },
     "metadata": {},
     "output_type": "display_data"
    },
    {
     "data": {
      "application/vnd.jupyter.widget-view+json": {
       "model_id": "95e0dedbe33f4f2fa96d4f663f47074a",
       "version_major": 2,
       "version_minor": 0
      },
      "text/plain": [
       "Boundary attack - iterations:   0%|          | 0/50 [00:00<?, ?it/s]"
      ]
     },
     "metadata": {},
     "output_type": "display_data"
    },
    {
     "data": {
      "application/vnd.jupyter.widget-view+json": {
       "model_id": "505c03b77537497a801b7522eb831ac2",
       "version_major": 2,
       "version_minor": 0
      },
      "text/plain": [
       "Boundary attack - iterations:   0%|          | 0/50 [00:00<?, ?it/s]"
      ]
     },
     "metadata": {},
     "output_type": "display_data"
    },
    {
     "data": {
      "application/vnd.jupyter.widget-view+json": {
       "model_id": "63f0c2268fa0482b83fa67d070bd7250",
       "version_major": 2,
       "version_minor": 0
      },
      "text/plain": [
       "Boundary attack - iterations:   0%|          | 0/50 [00:00<?, ?it/s]"
      ]
     },
     "metadata": {},
     "output_type": "display_data"
    },
    {
     "data": {
      "application/vnd.jupyter.widget-view+json": {
       "model_id": "350b77f801844787864fa0eabb5abfdc",
       "version_major": 2,
       "version_minor": 0
      },
      "text/plain": [
       "Boundary attack - iterations:   0%|          | 0/50 [00:00<?, ?it/s]"
      ]
     },
     "metadata": {},
     "output_type": "display_data"
    },
    {
     "data": {
      "application/vnd.jupyter.widget-view+json": {
       "model_id": "c4f83119a9334be3b458a593a8510c5c",
       "version_major": 2,
       "version_minor": 0
      },
      "text/plain": [
       "Boundary attack - iterations:   0%|          | 0/50 [00:00<?, ?it/s]"
      ]
     },
     "metadata": {},
     "output_type": "display_data"
    },
    {
     "data": {
      "application/vnd.jupyter.widget-view+json": {
       "model_id": "1c377bd94afc42ff95748dd553425837",
       "version_major": 2,
       "version_minor": 0
      },
      "text/plain": [
       "Boundary attack - iterations:   0%|          | 0/50 [00:00<?, ?it/s]"
      ]
     },
     "metadata": {},
     "output_type": "display_data"
    },
    {
     "data": {
      "application/vnd.jupyter.widget-view+json": {
       "model_id": "7f89c543915c40f29a31d5b4f2c46b54",
       "version_major": 2,
       "version_minor": 0
      },
      "text/plain": [
       "Boundary attack - iterations:   0%|          | 0/50 [00:00<?, ?it/s]"
      ]
     },
     "metadata": {},
     "output_type": "display_data"
    },
    {
     "data": {
      "application/vnd.jupyter.widget-view+json": {
       "model_id": "47aa8a0ee90a48f499d0b1b4f89a5dad",
       "version_major": 2,
       "version_minor": 0
      },
      "text/plain": [
       "Boundary attack - iterations:   0%|          | 0/50 [00:00<?, ?it/s]"
      ]
     },
     "metadata": {},
     "output_type": "display_data"
    },
    {
     "data": {
      "application/vnd.jupyter.widget-view+json": {
       "model_id": "131bff9be7474815800d928d36fa41e1",
       "version_major": 2,
       "version_minor": 0
      },
      "text/plain": [
       "Boundary attack - iterations:   0%|          | 0/50 [00:00<?, ?it/s]"
      ]
     },
     "metadata": {},
     "output_type": "display_data"
    },
    {
     "data": {
      "application/vnd.jupyter.widget-view+json": {
       "model_id": "f9695708f78848aba436fb249f66e1d6",
       "version_major": 2,
       "version_minor": 0
      },
      "text/plain": [
       "Boundary attack - iterations:   0%|          | 0/50 [00:00<?, ?it/s]"
      ]
     },
     "metadata": {},
     "output_type": "display_data"
    },
    {
     "data": {
      "application/vnd.jupyter.widget-view+json": {
       "model_id": "130f988c4b144b44be10aa1ee93386f6",
       "version_major": 2,
       "version_minor": 0
      },
      "text/plain": [
       "Boundary attack - iterations:   0%|          | 0/50 [00:00<?, ?it/s]"
      ]
     },
     "metadata": {},
     "output_type": "display_data"
    },
    {
     "data": {
      "application/vnd.jupyter.widget-view+json": {
       "model_id": "ecc103368e11478494563a9c0c452ff2",
       "version_major": 2,
       "version_minor": 0
      },
      "text/plain": [
       "Boundary attack - iterations:   0%|          | 0/50 [00:00<?, ?it/s]"
      ]
     },
     "metadata": {},
     "output_type": "display_data"
    },
    {
     "data": {
      "application/vnd.jupyter.widget-view+json": {
       "model_id": "82812f8112834145b3a0f033f76e7f8f",
       "version_major": 2,
       "version_minor": 0
      },
      "text/plain": [
       "Boundary attack - iterations:   0%|          | 0/50 [00:00<?, ?it/s]"
      ]
     },
     "metadata": {},
     "output_type": "display_data"
    },
    {
     "data": {
      "application/vnd.jupyter.widget-view+json": {
       "model_id": "a639bb8404174ecda424228b1dc46218",
       "version_major": 2,
       "version_minor": 0
      },
      "text/plain": [
       "Boundary attack - iterations:   0%|          | 0/50 [00:00<?, ?it/s]"
      ]
     },
     "metadata": {},
     "output_type": "display_data"
    },
    {
     "data": {
      "application/vnd.jupyter.widget-view+json": {
       "model_id": "ecec7dd4ff014f6c8ae9f3200643614b",
       "version_major": 2,
       "version_minor": 0
      },
      "text/plain": [
       "Boundary attack - iterations:   0%|          | 0/50 [00:00<?, ?it/s]"
      ]
     },
     "metadata": {},
     "output_type": "display_data"
    },
    {
     "data": {
      "application/vnd.jupyter.widget-view+json": {
       "model_id": "79b94f63417a4c88b52368b8d67e83d6",
       "version_major": 2,
       "version_minor": 0
      },
      "text/plain": [
       "Boundary attack - iterations:   0%|          | 0/50 [00:00<?, ?it/s]"
      ]
     },
     "metadata": {},
     "output_type": "display_data"
    },
    {
     "data": {
      "application/vnd.jupyter.widget-view+json": {
       "model_id": "7b7dc33a2e22475185b18264ce5afce0",
       "version_major": 2,
       "version_minor": 0
      },
      "text/plain": [
       "Boundary attack - iterations:   0%|          | 0/50 [00:00<?, ?it/s]"
      ]
     },
     "metadata": {},
     "output_type": "display_data"
    },
    {
     "data": {
      "application/vnd.jupyter.widget-view+json": {
       "model_id": "f09206ddd5744f5fb7671b7a549cf59a",
       "version_major": 2,
       "version_minor": 0
      },
      "text/plain": [
       "Boundary attack - iterations:   0%|          | 0/50 [00:00<?, ?it/s]"
      ]
     },
     "metadata": {},
     "output_type": "display_data"
    },
    {
     "data": {
      "application/vnd.jupyter.widget-view+json": {
       "model_id": "5e391fde7be9458f9e4024e76ae7fb4f",
       "version_major": 2,
       "version_minor": 0
      },
      "text/plain": [
       "Boundary attack - iterations:   0%|          | 0/50 [00:00<?, ?it/s]"
      ]
     },
     "metadata": {},
     "output_type": "display_data"
    },
    {
     "data": {
      "application/vnd.jupyter.widget-view+json": {
       "model_id": "be1eeede6c7b41b296b32de4352c5710",
       "version_major": 2,
       "version_minor": 0
      },
      "text/plain": [
       "Boundary attack - iterations:   0%|          | 0/50 [00:00<?, ?it/s]"
      ]
     },
     "metadata": {},
     "output_type": "display_data"
    },
    {
     "data": {
      "application/vnd.jupyter.widget-view+json": {
       "model_id": "e0b061eb7fd641caa45b871a923c9045",
       "version_major": 2,
       "version_minor": 0
      },
      "text/plain": [
       "Boundary attack - iterations:   0%|          | 0/50 [00:00<?, ?it/s]"
      ]
     },
     "metadata": {},
     "output_type": "display_data"
    },
    {
     "data": {
      "application/vnd.jupyter.widget-view+json": {
       "model_id": "c730e631079e4860a40826839077b4e9",
       "version_major": 2,
       "version_minor": 0
      },
      "text/plain": [
       "Boundary attack - iterations:   0%|          | 0/50 [00:00<?, ?it/s]"
      ]
     },
     "metadata": {},
     "output_type": "display_data"
    },
    {
     "data": {
      "application/vnd.jupyter.widget-view+json": {
       "model_id": "6efec79279564633854e057ea1294fb6",
       "version_major": 2,
       "version_minor": 0
      },
      "text/plain": [
       "Boundary attack - iterations:   0%|          | 0/50 [00:00<?, ?it/s]"
      ]
     },
     "metadata": {},
     "output_type": "display_data"
    },
    {
     "data": {
      "application/vnd.jupyter.widget-view+json": {
       "model_id": "961aa938a5a8454ea66d57c9a18def11",
       "version_major": 2,
       "version_minor": 0
      },
      "text/plain": [
       "Boundary attack - iterations:   0%|          | 0/50 [00:00<?, ?it/s]"
      ]
     },
     "metadata": {},
     "output_type": "display_data"
    },
    {
     "data": {
      "application/vnd.jupyter.widget-view+json": {
       "model_id": "6c49798aa48a400e8b8a701105277674",
       "version_major": 2,
       "version_minor": 0
      },
      "text/plain": [
       "Boundary attack - iterations:   0%|          | 0/50 [00:00<?, ?it/s]"
      ]
     },
     "metadata": {},
     "output_type": "display_data"
    },
    {
     "data": {
      "application/vnd.jupyter.widget-view+json": {
       "model_id": "65f321f9156e489cbb2c4d9fd04bd3a9",
       "version_major": 2,
       "version_minor": 0
      },
      "text/plain": [
       "Boundary attack - iterations:   0%|          | 0/50 [00:00<?, ?it/s]"
      ]
     },
     "metadata": {},
     "output_type": "display_data"
    },
    {
     "data": {
      "application/vnd.jupyter.widget-view+json": {
       "model_id": "7d353d0c8f554a22971248cdde7a25c3",
       "version_major": 2,
       "version_minor": 0
      },
      "text/plain": [
       "Boundary attack - iterations:   0%|          | 0/50 [00:00<?, ?it/s]"
      ]
     },
     "metadata": {},
     "output_type": "display_data"
    },
    {
     "data": {
      "application/vnd.jupyter.widget-view+json": {
       "model_id": "2d1e0b24bfce4f488325534c26ed17b6",
       "version_major": 2,
       "version_minor": 0
      },
      "text/plain": [
       "Boundary attack - iterations:   0%|          | 0/50 [00:00<?, ?it/s]"
      ]
     },
     "metadata": {},
     "output_type": "display_data"
    },
    {
     "data": {
      "application/vnd.jupyter.widget-view+json": {
       "model_id": "4b6ad9f239b1473db808230ef9be2dfc",
       "version_major": 2,
       "version_minor": 0
      },
      "text/plain": [
       "Boundary attack - iterations:   0%|          | 0/50 [00:00<?, ?it/s]"
      ]
     },
     "metadata": {},
     "output_type": "display_data"
    },
    {
     "data": {
      "application/vnd.jupyter.widget-view+json": {
       "model_id": "8c90ba4560634547bf64dc0748b97d30",
       "version_major": 2,
       "version_minor": 0
      },
      "text/plain": [
       "Boundary attack - iterations:   0%|          | 0/50 [00:00<?, ?it/s]"
      ]
     },
     "metadata": {},
     "output_type": "display_data"
    },
    {
     "data": {
      "application/vnd.jupyter.widget-view+json": {
       "model_id": "baae106cb6274ff9b35ef86f13e0db09",
       "version_major": 2,
       "version_minor": 0
      },
      "text/plain": [
       "Boundary attack - iterations:   0%|          | 0/50 [00:00<?, ?it/s]"
      ]
     },
     "metadata": {},
     "output_type": "display_data"
    },
    {
     "data": {
      "application/vnd.jupyter.widget-view+json": {
       "model_id": "9c84bdf493a745f09a5621638a3896cc",
       "version_major": 2,
       "version_minor": 0
      },
      "text/plain": [
       "Boundary attack - iterations:   0%|          | 0/50 [00:00<?, ?it/s]"
      ]
     },
     "metadata": {},
     "output_type": "display_data"
    },
    {
     "data": {
      "application/vnd.jupyter.widget-view+json": {
       "model_id": "7060d25439ed4b4bb10153d4e8db17a0",
       "version_major": 2,
       "version_minor": 0
      },
      "text/plain": [
       "Boundary attack - iterations:   0%|          | 0/50 [00:00<?, ?it/s]"
      ]
     },
     "metadata": {},
     "output_type": "display_data"
    },
    {
     "data": {
      "application/vnd.jupyter.widget-view+json": {
       "model_id": "b9f3bd74c37b405b994cd55c855ec1c3",
       "version_major": 2,
       "version_minor": 0
      },
      "text/plain": [
       "Boundary attack - iterations:   0%|          | 0/50 [00:00<?, ?it/s]"
      ]
     },
     "metadata": {},
     "output_type": "display_data"
    },
    {
     "data": {
      "application/vnd.jupyter.widget-view+json": {
       "model_id": "0355b99febba41a7b27dd2f2902b149f",
       "version_major": 2,
       "version_minor": 0
      },
      "text/plain": [
       "Boundary attack - iterations:   0%|          | 0/50 [00:00<?, ?it/s]"
      ]
     },
     "metadata": {},
     "output_type": "display_data"
    },
    {
     "data": {
      "application/vnd.jupyter.widget-view+json": {
       "model_id": "44226bfd36c44b4a81d83c605ebc7fa1",
       "version_major": 2,
       "version_minor": 0
      },
      "text/plain": [
       "Boundary attack - iterations:   0%|          | 0/50 [00:00<?, ?it/s]"
      ]
     },
     "metadata": {},
     "output_type": "display_data"
    },
    {
     "data": {
      "application/vnd.jupyter.widget-view+json": {
       "model_id": "6853787f35ae46048c0ec8ee9b5e66a9",
       "version_major": 2,
       "version_minor": 0
      },
      "text/plain": [
       "Boundary attack - iterations:   0%|          | 0/50 [00:00<?, ?it/s]"
      ]
     },
     "metadata": {},
     "output_type": "display_data"
    },
    {
     "data": {
      "application/vnd.jupyter.widget-view+json": {
       "model_id": "84c457b634294ac1a3f5f8f2d30ee7fd",
       "version_major": 2,
       "version_minor": 0
      },
      "text/plain": [
       "Boundary attack - iterations:   0%|          | 0/50 [00:00<?, ?it/s]"
      ]
     },
     "metadata": {},
     "output_type": "display_data"
    },
    {
     "data": {
      "application/vnd.jupyter.widget-view+json": {
       "model_id": "131383e9711d4913bca16d4d040cbc78",
       "version_major": 2,
       "version_minor": 0
      },
      "text/plain": [
       "Boundary attack - iterations:   0%|          | 0/50 [00:00<?, ?it/s]"
      ]
     },
     "metadata": {},
     "output_type": "display_data"
    },
    {
     "data": {
      "application/vnd.jupyter.widget-view+json": {
       "model_id": "cf9e2dc63fd5450fab96ec0f85a77a86",
       "version_major": 2,
       "version_minor": 0
      },
      "text/plain": [
       "Boundary attack - iterations:   0%|          | 0/50 [00:00<?, ?it/s]"
      ]
     },
     "metadata": {},
     "output_type": "display_data"
    },
    {
     "data": {
      "application/vnd.jupyter.widget-view+json": {
       "model_id": "8351322e8ec845e49ec398a0fd848176",
       "version_major": 2,
       "version_minor": 0
      },
      "text/plain": [
       "Boundary attack - iterations:   0%|          | 0/50 [00:00<?, ?it/s]"
      ]
     },
     "metadata": {},
     "output_type": "display_data"
    },
    {
     "data": {
      "application/vnd.jupyter.widget-view+json": {
       "model_id": "9e8d454dd7604a98943cb6546984b1eb",
       "version_major": 2,
       "version_minor": 0
      },
      "text/plain": [
       "Boundary attack - iterations:   0%|          | 0/50 [00:00<?, ?it/s]"
      ]
     },
     "metadata": {},
     "output_type": "display_data"
    },
    {
     "data": {
      "application/vnd.jupyter.widget-view+json": {
       "model_id": "406f8ee00b86488a9a6e7e55f7113c8e",
       "version_major": 2,
       "version_minor": 0
      },
      "text/plain": [
       "Boundary attack - iterations:   0%|          | 0/50 [00:00<?, ?it/s]"
      ]
     },
     "metadata": {},
     "output_type": "display_data"
    },
    {
     "data": {
      "application/vnd.jupyter.widget-view+json": {
       "model_id": "f17fd6a7ac3b468283c5a263847f9de2",
       "version_major": 2,
       "version_minor": 0
      },
      "text/plain": [
       "Boundary attack - iterations:   0%|          | 0/50 [00:00<?, ?it/s]"
      ]
     },
     "metadata": {},
     "output_type": "display_data"
    },
    {
     "data": {
      "application/vnd.jupyter.widget-view+json": {
       "model_id": "bc42512a2a8d4debb12e09592bed528d",
       "version_major": 2,
       "version_minor": 0
      },
      "text/plain": [
       "Boundary attack - iterations:   0%|          | 0/50 [00:00<?, ?it/s]"
      ]
     },
     "metadata": {},
     "output_type": "display_data"
    },
    {
     "data": {
      "application/vnd.jupyter.widget-view+json": {
       "model_id": "34525c74b08a439dbfa0db9a3c765476",
       "version_major": 2,
       "version_minor": 0
      },
      "text/plain": [
       "Boundary attack - iterations:   0%|          | 0/50 [00:00<?, ?it/s]"
      ]
     },
     "metadata": {},
     "output_type": "display_data"
    },
    {
     "data": {
      "application/vnd.jupyter.widget-view+json": {
       "model_id": "a477a00bbd834815bfd2272e08559dec",
       "version_major": 2,
       "version_minor": 0
      },
      "text/plain": [
       "Boundary attack - iterations:   0%|          | 0/50 [00:00<?, ?it/s]"
      ]
     },
     "metadata": {},
     "output_type": "display_data"
    },
    {
     "data": {
      "application/vnd.jupyter.widget-view+json": {
       "model_id": "39de0ee11f0843cb9b0d62df31f8d496",
       "version_major": 2,
       "version_minor": 0
      },
      "text/plain": [
       "Boundary attack - iterations:   0%|          | 0/50 [00:00<?, ?it/s]"
      ]
     },
     "metadata": {},
     "output_type": "display_data"
    },
    {
     "data": {
      "application/vnd.jupyter.widget-view+json": {
       "model_id": "353c708d9ada43ecb3ae897164bcae42",
       "version_major": 2,
       "version_minor": 0
      },
      "text/plain": [
       "Boundary attack - iterations:   0%|          | 0/50 [00:00<?, ?it/s]"
      ]
     },
     "metadata": {},
     "output_type": "display_data"
    },
    {
     "data": {
      "application/vnd.jupyter.widget-view+json": {
       "model_id": "ff5249408ceb4254b9853266a174cc28",
       "version_major": 2,
       "version_minor": 0
      },
      "text/plain": [
       "Boundary attack - iterations:   0%|          | 0/50 [00:00<?, ?it/s]"
      ]
     },
     "metadata": {},
     "output_type": "display_data"
    },
    {
     "data": {
      "application/vnd.jupyter.widget-view+json": {
       "model_id": "be20c86d027b4a8fa1083122dc550a00",
       "version_major": 2,
       "version_minor": 0
      },
      "text/plain": [
       "Boundary attack - iterations:   0%|          | 0/50 [00:00<?, ?it/s]"
      ]
     },
     "metadata": {},
     "output_type": "display_data"
    },
    {
     "data": {
      "application/vnd.jupyter.widget-view+json": {
       "model_id": "c9d9d14758c44d4bb6f6283075c76610",
       "version_major": 2,
       "version_minor": 0
      },
      "text/plain": [
       "Boundary attack - iterations:   0%|          | 0/50 [00:00<?, ?it/s]"
      ]
     },
     "metadata": {},
     "output_type": "display_data"
    },
    {
     "data": {
      "application/vnd.jupyter.widget-view+json": {
       "model_id": "411495b5899c41418f5af2bdb33e0559",
       "version_major": 2,
       "version_minor": 0
      },
      "text/plain": [
       "Boundary attack - iterations:   0%|          | 0/50 [00:00<?, ?it/s]"
      ]
     },
     "metadata": {},
     "output_type": "display_data"
    },
    {
     "data": {
      "application/vnd.jupyter.widget-view+json": {
       "model_id": "d868c42515764417968d94ef2aaf1fb9",
       "version_major": 2,
       "version_minor": 0
      },
      "text/plain": [
       "Boundary attack - iterations:   0%|          | 0/50 [00:00<?, ?it/s]"
      ]
     },
     "metadata": {},
     "output_type": "display_data"
    },
    {
     "data": {
      "application/vnd.jupyter.widget-view+json": {
       "model_id": "157309a3558f47e2a0e7489e4ee3e828",
       "version_major": 2,
       "version_minor": 0
      },
      "text/plain": [
       "Boundary attack - iterations:   0%|          | 0/50 [00:00<?, ?it/s]"
      ]
     },
     "metadata": {},
     "output_type": "display_data"
    },
    {
     "data": {
      "application/vnd.jupyter.widget-view+json": {
       "model_id": "f844f6badb5f4a13a5ffc4799d206282",
       "version_major": 2,
       "version_minor": 0
      },
      "text/plain": [
       "Boundary attack - iterations:   0%|          | 0/50 [00:00<?, ?it/s]"
      ]
     },
     "metadata": {},
     "output_type": "display_data"
    },
    {
     "data": {
      "application/vnd.jupyter.widget-view+json": {
       "model_id": "2e607f4fc22043af8731414a6a311396",
       "version_major": 2,
       "version_minor": 0
      },
      "text/plain": [
       "Boundary attack - iterations:   0%|          | 0/50 [00:00<?, ?it/s]"
      ]
     },
     "metadata": {},
     "output_type": "display_data"
    },
    {
     "data": {
      "application/vnd.jupyter.widget-view+json": {
       "model_id": "1805998ad66e471b8dc3a0eb3ea15dd8",
       "version_major": 2,
       "version_minor": 0
      },
      "text/plain": [
       "Boundary attack - iterations:   0%|          | 0/50 [00:00<?, ?it/s]"
      ]
     },
     "metadata": {},
     "output_type": "display_data"
    },
    {
     "data": {
      "application/vnd.jupyter.widget-view+json": {
       "model_id": "f43cd36b9fc94d86a66e69f154b1ba42",
       "version_major": 2,
       "version_minor": 0
      },
      "text/plain": [
       "Boundary attack - iterations:   0%|          | 0/50 [00:00<?, ?it/s]"
      ]
     },
     "metadata": {},
     "output_type": "display_data"
    },
    {
     "data": {
      "application/vnd.jupyter.widget-view+json": {
       "model_id": "7149ed4de8394303837692425f80caa7",
       "version_major": 2,
       "version_minor": 0
      },
      "text/plain": [
       "Boundary attack - iterations:   0%|          | 0/50 [00:00<?, ?it/s]"
      ]
     },
     "metadata": {},
     "output_type": "display_data"
    },
    {
     "data": {
      "application/vnd.jupyter.widget-view+json": {
       "model_id": "d2f3653929354332a9875260d2e5321a",
       "version_major": 2,
       "version_minor": 0
      },
      "text/plain": [
       "Boundary attack - iterations:   0%|          | 0/50 [00:00<?, ?it/s]"
      ]
     },
     "metadata": {},
     "output_type": "display_data"
    },
    {
     "data": {
      "application/vnd.jupyter.widget-view+json": {
       "model_id": "c65291e31e144daba19c75b74a5d5c80",
       "version_major": 2,
       "version_minor": 0
      },
      "text/plain": [
       "Boundary attack - iterations:   0%|          | 0/50 [00:00<?, ?it/s]"
      ]
     },
     "metadata": {},
     "output_type": "display_data"
    },
    {
     "data": {
      "application/vnd.jupyter.widget-view+json": {
       "model_id": "e5851cc506cb4e1eb3b0c6fc9c84b3ed",
       "version_major": 2,
       "version_minor": 0
      },
      "text/plain": [
       "Boundary attack - iterations:   0%|          | 0/50 [00:00<?, ?it/s]"
      ]
     },
     "metadata": {},
     "output_type": "display_data"
    },
    {
     "data": {
      "application/vnd.jupyter.widget-view+json": {
       "model_id": "9c04ee7f0ea04b27b894ba9d11a587f3",
       "version_major": 2,
       "version_minor": 0
      },
      "text/plain": [
       "Boundary attack - iterations:   0%|          | 0/50 [00:00<?, ?it/s]"
      ]
     },
     "metadata": {},
     "output_type": "display_data"
    },
    {
     "data": {
      "application/vnd.jupyter.widget-view+json": {
       "model_id": "53c3d6e5cab241cc83de36e8e846489c",
       "version_major": 2,
       "version_minor": 0
      },
      "text/plain": [
       "Boundary attack - iterations:   0%|          | 0/50 [00:00<?, ?it/s]"
      ]
     },
     "metadata": {},
     "output_type": "display_data"
    },
    {
     "data": {
      "application/vnd.jupyter.widget-view+json": {
       "model_id": "a47af165f3244aa8a5031ef76cd98c5a",
       "version_major": 2,
       "version_minor": 0
      },
      "text/plain": [
       "Boundary attack - iterations:   0%|          | 0/50 [00:00<?, ?it/s]"
      ]
     },
     "metadata": {},
     "output_type": "display_data"
    },
    {
     "data": {
      "application/vnd.jupyter.widget-view+json": {
       "model_id": "35e075098dc44fcc9fd52db2c083fdbd",
       "version_major": 2,
       "version_minor": 0
      },
      "text/plain": [
       "Boundary attack - iterations:   0%|          | 0/50 [00:00<?, ?it/s]"
      ]
     },
     "metadata": {},
     "output_type": "display_data"
    },
    {
     "data": {
      "application/vnd.jupyter.widget-view+json": {
       "model_id": "78227901a2a54e1ea8101b6b289279f6",
       "version_major": 2,
       "version_minor": 0
      },
      "text/plain": [
       "Boundary attack - iterations:   0%|          | 0/50 [00:00<?, ?it/s]"
      ]
     },
     "metadata": {},
     "output_type": "display_data"
    },
    {
     "data": {
      "application/vnd.jupyter.widget-view+json": {
       "model_id": "a40717e7735a48aea8ff62ad9f0c6226",
       "version_major": 2,
       "version_minor": 0
      },
      "text/plain": [
       "Boundary attack - iterations:   0%|          | 0/50 [00:00<?, ?it/s]"
      ]
     },
     "metadata": {},
     "output_type": "display_data"
    },
    {
     "data": {
      "application/vnd.jupyter.widget-view+json": {
       "model_id": "b2fc31584e964908a2dc06f1ac0e8932",
       "version_major": 2,
       "version_minor": 0
      },
      "text/plain": [
       "Boundary attack - iterations:   0%|          | 0/50 [00:00<?, ?it/s]"
      ]
     },
     "metadata": {},
     "output_type": "display_data"
    },
    {
     "data": {
      "application/vnd.jupyter.widget-view+json": {
       "model_id": "9af11e8ef72e46bfa54d8944ab0442f3",
       "version_major": 2,
       "version_minor": 0
      },
      "text/plain": [
       "Boundary attack - iterations:   0%|          | 0/50 [00:00<?, ?it/s]"
      ]
     },
     "metadata": {},
     "output_type": "display_data"
    },
    {
     "data": {
      "application/vnd.jupyter.widget-view+json": {
       "model_id": "8fccec598a3a4d1e8a2f56c80c1a3f15",
       "version_major": 2,
       "version_minor": 0
      },
      "text/plain": [
       "Boundary attack - iterations:   0%|          | 0/50 [00:00<?, ?it/s]"
      ]
     },
     "metadata": {},
     "output_type": "display_data"
    },
    {
     "data": {
      "application/vnd.jupyter.widget-view+json": {
       "model_id": "096a32a0f5144f78be2788b634ee7bc8",
       "version_major": 2,
       "version_minor": 0
      },
      "text/plain": [
       "Boundary attack - iterations:   0%|          | 0/50 [00:00<?, ?it/s]"
      ]
     },
     "metadata": {},
     "output_type": "display_data"
    },
    {
     "data": {
      "application/vnd.jupyter.widget-view+json": {
       "model_id": "810e2d8c7daf401fb4cd1b315d3d783d",
       "version_major": 2,
       "version_minor": 0
      },
      "text/plain": [
       "Boundary attack - iterations:   0%|          | 0/50 [00:00<?, ?it/s]"
      ]
     },
     "metadata": {},
     "output_type": "display_data"
    },
    {
     "data": {
      "application/vnd.jupyter.widget-view+json": {
       "model_id": "e595c6244c614f9c980dbdbf7794e4f2",
       "version_major": 2,
       "version_minor": 0
      },
      "text/plain": [
       "Boundary attack - iterations:   0%|          | 0/50 [00:00<?, ?it/s]"
      ]
     },
     "metadata": {},
     "output_type": "display_data"
    },
    {
     "data": {
      "application/vnd.jupyter.widget-view+json": {
       "model_id": "4c6378a775a240f48a2883d93d320404",
       "version_major": 2,
       "version_minor": 0
      },
      "text/plain": [
       "Boundary attack - iterations:   0%|          | 0/50 [00:00<?, ?it/s]"
      ]
     },
     "metadata": {},
     "output_type": "display_data"
    },
    {
     "data": {
      "application/vnd.jupyter.widget-view+json": {
       "model_id": "f8da555bc0fc43a7bf93672224580bed",
       "version_major": 2,
       "version_minor": 0
      },
      "text/plain": [
       "Boundary attack - iterations:   0%|          | 0/50 [00:00<?, ?it/s]"
      ]
     },
     "metadata": {},
     "output_type": "display_data"
    },
    {
     "data": {
      "application/vnd.jupyter.widget-view+json": {
       "model_id": "e339cb0945034e77b1b80b83eae62900",
       "version_major": 2,
       "version_minor": 0
      },
      "text/plain": [
       "Boundary attack - iterations:   0%|          | 0/50 [00:00<?, ?it/s]"
      ]
     },
     "metadata": {},
     "output_type": "display_data"
    },
    {
     "data": {
      "application/vnd.jupyter.widget-view+json": {
       "model_id": "2eac2fc8c4b04ede8fb75218160a4577",
       "version_major": 2,
       "version_minor": 0
      },
      "text/plain": [
       "Boundary attack - iterations:   0%|          | 0/50 [00:00<?, ?it/s]"
      ]
     },
     "metadata": {},
     "output_type": "display_data"
    },
    {
     "data": {
      "application/vnd.jupyter.widget-view+json": {
       "model_id": "43fbc815768f473d8fb6338ecc9a661c",
       "version_major": 2,
       "version_minor": 0
      },
      "text/plain": [
       "Boundary attack - iterations:   0%|          | 0/50 [00:00<?, ?it/s]"
      ]
     },
     "metadata": {},
     "output_type": "display_data"
    },
    {
     "data": {
      "application/vnd.jupyter.widget-view+json": {
       "model_id": "5ef1c7a3ea20476cb1756d6d08e28253",
       "version_major": 2,
       "version_minor": 0
      },
      "text/plain": [
       "Boundary attack - iterations:   0%|          | 0/50 [00:00<?, ?it/s]"
      ]
     },
     "metadata": {},
     "output_type": "display_data"
    },
    {
     "data": {
      "application/vnd.jupyter.widget-view+json": {
       "model_id": "7330240d8c1647148805d11a541d3d2b",
       "version_major": 2,
       "version_minor": 0
      },
      "text/plain": [
       "Boundary attack - iterations:   0%|          | 0/50 [00:00<?, ?it/s]"
      ]
     },
     "metadata": {},
     "output_type": "display_data"
    },
    {
     "data": {
      "application/vnd.jupyter.widget-view+json": {
       "model_id": "7c9a286261fa4a739ad15e5171fed8f2",
       "version_major": 2,
       "version_minor": 0
      },
      "text/plain": [
       "Boundary attack - iterations:   0%|          | 0/50 [00:00<?, ?it/s]"
      ]
     },
     "metadata": {},
     "output_type": "display_data"
    },
    {
     "data": {
      "application/vnd.jupyter.widget-view+json": {
       "model_id": "b4277091a2cb43da895d9b3991746d76",
       "version_major": 2,
       "version_minor": 0
      },
      "text/plain": [
       "Boundary attack - iterations:   0%|          | 0/50 [00:00<?, ?it/s]"
      ]
     },
     "metadata": {},
     "output_type": "display_data"
    },
    {
     "data": {
      "application/vnd.jupyter.widget-view+json": {
       "model_id": "f2d390483dd9443d8af7a740722c938d",
       "version_major": 2,
       "version_minor": 0
      },
      "text/plain": [
       "Boundary attack - iterations:   0%|          | 0/50 [00:00<?, ?it/s]"
      ]
     },
     "metadata": {},
     "output_type": "display_data"
    },
    {
     "data": {
      "application/vnd.jupyter.widget-view+json": {
       "model_id": "44330fa8e23d4975953e8d8bcb734685",
       "version_major": 2,
       "version_minor": 0
      },
      "text/plain": [
       "Boundary attack - iterations:   0%|          | 0/50 [00:00<?, ?it/s]"
      ]
     },
     "metadata": {},
     "output_type": "display_data"
    },
    {
     "data": {
      "application/vnd.jupyter.widget-view+json": {
       "model_id": "7b0f449af93a474e849c4f4e10daa52b",
       "version_major": 2,
       "version_minor": 0
      },
      "text/plain": [
       "Boundary attack - iterations:   0%|          | 0/50 [00:00<?, ?it/s]"
      ]
     },
     "metadata": {},
     "output_type": "display_data"
    },
    {
     "data": {
      "application/vnd.jupyter.widget-view+json": {
       "model_id": "995244c2f72e450a82969a2185775841",
       "version_major": 2,
       "version_minor": 0
      },
      "text/plain": [
       "Boundary attack - iterations:   0%|          | 0/50 [00:00<?, ?it/s]"
      ]
     },
     "metadata": {},
     "output_type": "display_data"
    },
    {
     "data": {
      "application/vnd.jupyter.widget-view+json": {
       "model_id": "b63153db9558491b91540a7effc442a1",
       "version_major": 2,
       "version_minor": 0
      },
      "text/plain": [
       "Boundary attack - iterations:   0%|          | 0/50 [00:00<?, ?it/s]"
      ]
     },
     "metadata": {},
     "output_type": "display_data"
    },
    {
     "data": {
      "application/vnd.jupyter.widget-view+json": {
       "model_id": "9590f872795c49c2bb55e49e5777edef",
       "version_major": 2,
       "version_minor": 0
      },
      "text/plain": [
       "Boundary attack - iterations:   0%|          | 0/50 [00:00<?, ?it/s]"
      ]
     },
     "metadata": {},
     "output_type": "display_data"
    },
    {
     "data": {
      "application/vnd.jupyter.widget-view+json": {
       "model_id": "2c8fb843295d4ee1bc4a090cde517e9a",
       "version_major": 2,
       "version_minor": 0
      },
      "text/plain": [
       "Boundary attack - iterations:   0%|          | 0/50 [00:00<?, ?it/s]"
      ]
     },
     "metadata": {},
     "output_type": "display_data"
    },
    {
     "data": {
      "application/vnd.jupyter.widget-view+json": {
       "model_id": "55012227f07d4b36b90b724cd5bb2c10",
       "version_major": 2,
       "version_minor": 0
      },
      "text/plain": [
       "Boundary attack - iterations:   0%|          | 0/50 [00:00<?, ?it/s]"
      ]
     },
     "metadata": {},
     "output_type": "display_data"
    },
    {
     "data": {
      "application/vnd.jupyter.widget-view+json": {
       "model_id": "e850118811234b81b6cd34e7e2bd95a2",
       "version_major": 2,
       "version_minor": 0
      },
      "text/plain": [
       "Boundary attack - iterations:   0%|          | 0/50 [00:00<?, ?it/s]"
      ]
     },
     "metadata": {},
     "output_type": "display_data"
    },
    {
     "data": {
      "application/vnd.jupyter.widget-view+json": {
       "model_id": "f39876090e1f4d5ab4ab3f55230a8dcb",
       "version_major": 2,
       "version_minor": 0
      },
      "text/plain": [
       "Boundary attack - iterations:   0%|          | 0/50 [00:00<?, ?it/s]"
      ]
     },
     "metadata": {},
     "output_type": "display_data"
    },
    {
     "data": {
      "application/vnd.jupyter.widget-view+json": {
       "model_id": "8003ac6c2c924b1d8ab5283d05226bc5",
       "version_major": 2,
       "version_minor": 0
      },
      "text/plain": [
       "Boundary attack - iterations:   0%|          | 0/50 [00:00<?, ?it/s]"
      ]
     },
     "metadata": {},
     "output_type": "display_data"
    },
    {
     "data": {
      "application/vnd.jupyter.widget-view+json": {
       "model_id": "a177ed56292046c0a29e7dfa581e3fac",
       "version_major": 2,
       "version_minor": 0
      },
      "text/plain": [
       "Boundary attack - iterations:   0%|          | 0/50 [00:00<?, ?it/s]"
      ]
     },
     "metadata": {},
     "output_type": "display_data"
    },
    {
     "data": {
      "application/vnd.jupyter.widget-view+json": {
       "model_id": "896c9468207c470b9b22227dc89b9d34",
       "version_major": 2,
       "version_minor": 0
      },
      "text/plain": [
       "Boundary attack - iterations:   0%|          | 0/50 [00:00<?, ?it/s]"
      ]
     },
     "metadata": {},
     "output_type": "display_data"
    },
    {
     "data": {
      "application/vnd.jupyter.widget-view+json": {
       "model_id": "2a2f2bc41bb64a1db5d600f20d2965a2",
       "version_major": 2,
       "version_minor": 0
      },
      "text/plain": [
       "Boundary attack - iterations:   0%|          | 0/50 [00:00<?, ?it/s]"
      ]
     },
     "metadata": {},
     "output_type": "display_data"
    },
    {
     "data": {
      "application/vnd.jupyter.widget-view+json": {
       "model_id": "ad2b270cc48b4d42bf4ea9180bc69c6a",
       "version_major": 2,
       "version_minor": 0
      },
      "text/plain": [
       "Boundary attack - iterations:   0%|          | 0/50 [00:00<?, ?it/s]"
      ]
     },
     "metadata": {},
     "output_type": "display_data"
    },
    {
     "data": {
      "application/vnd.jupyter.widget-view+json": {
       "model_id": "7212e86733854c7691295fc828b5e7f8",
       "version_major": 2,
       "version_minor": 0
      },
      "text/plain": [
       "Boundary attack - iterations:   0%|          | 0/50 [00:00<?, ?it/s]"
      ]
     },
     "metadata": {},
     "output_type": "display_data"
    },
    {
     "data": {
      "application/vnd.jupyter.widget-view+json": {
       "model_id": "185b7d195eaf4fbab759bf56e9115aa7",
       "version_major": 2,
       "version_minor": 0
      },
      "text/plain": [
       "Boundary attack - iterations:   0%|          | 0/50 [00:00<?, ?it/s]"
      ]
     },
     "metadata": {},
     "output_type": "display_data"
    },
    {
     "data": {
      "application/vnd.jupyter.widget-view+json": {
       "model_id": "6d229ef0a77642cb896435372816f465",
       "version_major": 2,
       "version_minor": 0
      },
      "text/plain": [
       "Boundary attack - iterations:   0%|          | 0/50 [00:00<?, ?it/s]"
      ]
     },
     "metadata": {},
     "output_type": "display_data"
    },
    {
     "data": {
      "application/vnd.jupyter.widget-view+json": {
       "model_id": "d820b068a04648adb5bf1bf045207bef",
       "version_major": 2,
       "version_minor": 0
      },
      "text/plain": [
       "Boundary attack - iterations:   0%|          | 0/50 [00:00<?, ?it/s]"
      ]
     },
     "metadata": {},
     "output_type": "display_data"
    },
    {
     "data": {
      "application/vnd.jupyter.widget-view+json": {
       "model_id": "bc341ca989d242639fa083f08ca4210b",
       "version_major": 2,
       "version_minor": 0
      },
      "text/plain": [
       "Boundary attack - iterations:   0%|          | 0/50 [00:00<?, ?it/s]"
      ]
     },
     "metadata": {},
     "output_type": "display_data"
    },
    {
     "data": {
      "application/vnd.jupyter.widget-view+json": {
       "model_id": "98e6c74db37b49cead3b564417b8434c",
       "version_major": 2,
       "version_minor": 0
      },
      "text/plain": [
       "Boundary attack - iterations:   0%|          | 0/50 [00:00<?, ?it/s]"
      ]
     },
     "metadata": {},
     "output_type": "display_data"
    },
    {
     "data": {
      "application/vnd.jupyter.widget-view+json": {
       "model_id": "bf3ae34993c846c480b98bfaa274669f",
       "version_major": 2,
       "version_minor": 0
      },
      "text/plain": [
       "Boundary attack - iterations:   0%|          | 0/50 [00:00<?, ?it/s]"
      ]
     },
     "metadata": {},
     "output_type": "display_data"
    },
    {
     "data": {
      "application/vnd.jupyter.widget-view+json": {
       "model_id": "7bf7ec60e7f04cce8de8507ccdd1e31e",
       "version_major": 2,
       "version_minor": 0
      },
      "text/plain": [
       "Boundary attack - iterations:   0%|          | 0/50 [00:00<?, ?it/s]"
      ]
     },
     "metadata": {},
     "output_type": "display_data"
    },
    {
     "data": {
      "application/vnd.jupyter.widget-view+json": {
       "model_id": "d110621598034a2fa632aa30680a0521",
       "version_major": 2,
       "version_minor": 0
      },
      "text/plain": [
       "Boundary attack - iterations:   0%|          | 0/50 [00:00<?, ?it/s]"
      ]
     },
     "metadata": {},
     "output_type": "display_data"
    },
    {
     "data": {
      "application/vnd.jupyter.widget-view+json": {
       "model_id": "1aa60b8f90c44623966a03fe11d3ac2a",
       "version_major": 2,
       "version_minor": 0
      },
      "text/plain": [
       "Boundary attack - iterations:   0%|          | 0/50 [00:00<?, ?it/s]"
      ]
     },
     "metadata": {},
     "output_type": "display_data"
    },
    {
     "data": {
      "application/vnd.jupyter.widget-view+json": {
       "model_id": "25e28ce0c9f14c2bb08c3d01a72f60a1",
       "version_major": 2,
       "version_minor": 0
      },
      "text/plain": [
       "Boundary attack - iterations:   0%|          | 0/50 [00:00<?, ?it/s]"
      ]
     },
     "metadata": {},
     "output_type": "display_data"
    },
    {
     "data": {
      "application/vnd.jupyter.widget-view+json": {
       "model_id": "32677ab8fbfa49908b674970ce075922",
       "version_major": 2,
       "version_minor": 0
      },
      "text/plain": [
       "Boundary attack - iterations:   0%|          | 0/50 [00:00<?, ?it/s]"
      ]
     },
     "metadata": {},
     "output_type": "display_data"
    },
    {
     "data": {
      "application/vnd.jupyter.widget-view+json": {
       "model_id": "5f5836e94f6442bcbf897565419c7ab1",
       "version_major": 2,
       "version_minor": 0
      },
      "text/plain": [
       "Boundary attack - iterations:   0%|          | 0/50 [00:00<?, ?it/s]"
      ]
     },
     "metadata": {},
     "output_type": "display_data"
    },
    {
     "data": {
      "application/vnd.jupyter.widget-view+json": {
       "model_id": "239fb1a4378c424086e8dfbf9b91cc4d",
       "version_major": 2,
       "version_minor": 0
      },
      "text/plain": [
       "Boundary attack - iterations:   0%|          | 0/50 [00:00<?, ?it/s]"
      ]
     },
     "metadata": {},
     "output_type": "display_data"
    },
    {
     "data": {
      "application/vnd.jupyter.widget-view+json": {
       "model_id": "3f3b08f9666243f99da433654b790c37",
       "version_major": 2,
       "version_minor": 0
      },
      "text/plain": [
       "Boundary attack - iterations:   0%|          | 0/50 [00:00<?, ?it/s]"
      ]
     },
     "metadata": {},
     "output_type": "display_data"
    },
    {
     "data": {
      "application/vnd.jupyter.widget-view+json": {
       "model_id": "06e125a4471c4f319a9834b0141ee9cb",
       "version_major": 2,
       "version_minor": 0
      },
      "text/plain": [
       "Boundary attack - iterations:   0%|          | 0/50 [00:00<?, ?it/s]"
      ]
     },
     "metadata": {},
     "output_type": "display_data"
    },
    {
     "data": {
      "application/vnd.jupyter.widget-view+json": {
       "model_id": "8410bc4790874709baa197a4421f6e7f",
       "version_major": 2,
       "version_minor": 0
      },
      "text/plain": [
       "Boundary attack - iterations:   0%|          | 0/50 [00:00<?, ?it/s]"
      ]
     },
     "metadata": {},
     "output_type": "display_data"
    },
    {
     "data": {
      "application/vnd.jupyter.widget-view+json": {
       "model_id": "4961d4c7dfc341eb84d98a6add88ed97",
       "version_major": 2,
       "version_minor": 0
      },
      "text/plain": [
       "Boundary attack - iterations:   0%|          | 0/50 [00:00<?, ?it/s]"
      ]
     },
     "metadata": {},
     "output_type": "display_data"
    },
    {
     "data": {
      "application/vnd.jupyter.widget-view+json": {
       "model_id": "ccfae4e37a914ec8820b964ade8a044c",
       "version_major": 2,
       "version_minor": 0
      },
      "text/plain": [
       "Boundary attack - iterations:   0%|          | 0/50 [00:00<?, ?it/s]"
      ]
     },
     "metadata": {},
     "output_type": "display_data"
    },
    {
     "data": {
      "application/vnd.jupyter.widget-view+json": {
       "model_id": "8d45d35ddc9a472489b51052ec8eecd4",
       "version_major": 2,
       "version_minor": 0
      },
      "text/plain": [
       "Boundary attack - iterations:   0%|          | 0/50 [00:00<?, ?it/s]"
      ]
     },
     "metadata": {},
     "output_type": "display_data"
    },
    {
     "data": {
      "application/vnd.jupyter.widget-view+json": {
       "model_id": "cd817d3411a6465eab63e4d9466f1783",
       "version_major": 2,
       "version_minor": 0
      },
      "text/plain": [
       "Boundary attack - iterations:   0%|          | 0/50 [00:00<?, ?it/s]"
      ]
     },
     "metadata": {},
     "output_type": "display_data"
    },
    {
     "data": {
      "application/vnd.jupyter.widget-view+json": {
       "model_id": "780b86917de1495a8b72f59945270e55",
       "version_major": 2,
       "version_minor": 0
      },
      "text/plain": [
       "Boundary attack - iterations:   0%|          | 0/50 [00:00<?, ?it/s]"
      ]
     },
     "metadata": {},
     "output_type": "display_data"
    },
    {
     "data": {
      "application/vnd.jupyter.widget-view+json": {
       "model_id": "abe38b6043b142cdb0aaca5e96b36cbd",
       "version_major": 2,
       "version_minor": 0
      },
      "text/plain": [
       "Boundary attack - iterations:   0%|          | 0/50 [00:00<?, ?it/s]"
      ]
     },
     "metadata": {},
     "output_type": "display_data"
    },
    {
     "data": {
      "application/vnd.jupyter.widget-view+json": {
       "model_id": "fd5f2e363b414308bb56700b34b3db59",
       "version_major": 2,
       "version_minor": 0
      },
      "text/plain": [
       "Boundary attack - iterations:   0%|          | 0/50 [00:00<?, ?it/s]"
      ]
     },
     "metadata": {},
     "output_type": "display_data"
    },
    {
     "data": {
      "application/vnd.jupyter.widget-view+json": {
       "model_id": "406e3c81f28241d2b6a1cd035ecab9b5",
       "version_major": 2,
       "version_minor": 0
      },
      "text/plain": [
       "Boundary attack - iterations:   0%|          | 0/50 [00:00<?, ?it/s]"
      ]
     },
     "metadata": {},
     "output_type": "display_data"
    },
    {
     "data": {
      "application/vnd.jupyter.widget-view+json": {
       "model_id": "9438a8f1cab149c4a7e474a16b2519fa",
       "version_major": 2,
       "version_minor": 0
      },
      "text/plain": [
       "Boundary attack - iterations:   0%|          | 0/50 [00:00<?, ?it/s]"
      ]
     },
     "metadata": {},
     "output_type": "display_data"
    },
    {
     "data": {
      "application/vnd.jupyter.widget-view+json": {
       "model_id": "26a8f1f3b06a48449942116ee409482b",
       "version_major": 2,
       "version_minor": 0
      },
      "text/plain": [
       "Boundary attack - iterations:   0%|          | 0/50 [00:00<?, ?it/s]"
      ]
     },
     "metadata": {},
     "output_type": "display_data"
    },
    {
     "data": {
      "application/vnd.jupyter.widget-view+json": {
       "model_id": "eb4b294d768047a99d99df84e9d8303b",
       "version_major": 2,
       "version_minor": 0
      },
      "text/plain": [
       "Boundary attack - iterations:   0%|          | 0/50 [00:00<?, ?it/s]"
      ]
     },
     "metadata": {},
     "output_type": "display_data"
    },
    {
     "data": {
      "application/vnd.jupyter.widget-view+json": {
       "model_id": "de406ffdb0ca4450b88d7b529691a1b7",
       "version_major": 2,
       "version_minor": 0
      },
      "text/plain": [
       "Boundary attack - iterations:   0%|          | 0/50 [00:00<?, ?it/s]"
      ]
     },
     "metadata": {},
     "output_type": "display_data"
    },
    {
     "data": {
      "application/vnd.jupyter.widget-view+json": {
       "model_id": "b3c9c7126f1a40b596f91cf7e2127c66",
       "version_major": 2,
       "version_minor": 0
      },
      "text/plain": [
       "Boundary attack - iterations:   0%|          | 0/50 [00:00<?, ?it/s]"
      ]
     },
     "metadata": {},
     "output_type": "display_data"
    },
    {
     "data": {
      "application/vnd.jupyter.widget-view+json": {
       "model_id": "242a0ffc6cdd4cd990be8e8c8be5627c",
       "version_major": 2,
       "version_minor": 0
      },
      "text/plain": [
       "Boundary attack - iterations:   0%|          | 0/50 [00:00<?, ?it/s]"
      ]
     },
     "metadata": {},
     "output_type": "display_data"
    },
    {
     "data": {
      "application/vnd.jupyter.widget-view+json": {
       "model_id": "e5cabb1725ea453d917b36beb48abec6",
       "version_major": 2,
       "version_minor": 0
      },
      "text/plain": [
       "Boundary attack - iterations:   0%|          | 0/50 [00:00<?, ?it/s]"
      ]
     },
     "metadata": {},
     "output_type": "display_data"
    },
    {
     "data": {
      "application/vnd.jupyter.widget-view+json": {
       "model_id": "9c948ccca14046c1aac42c465f5b35f6",
       "version_major": 2,
       "version_minor": 0
      },
      "text/plain": [
       "Boundary attack - iterations:   0%|          | 0/50 [00:00<?, ?it/s]"
      ]
     },
     "metadata": {},
     "output_type": "display_data"
    },
    {
     "data": {
      "application/vnd.jupyter.widget-view+json": {
       "model_id": "83e53702f13449e9a067c62f14de8457",
       "version_major": 2,
       "version_minor": 0
      },
      "text/plain": [
       "Boundary attack - iterations:   0%|          | 0/50 [00:00<?, ?it/s]"
      ]
     },
     "metadata": {},
     "output_type": "display_data"
    },
    {
     "data": {
      "application/vnd.jupyter.widget-view+json": {
       "model_id": "8cc71eee23c147649f59bd6ef7d5b456",
       "version_major": 2,
       "version_minor": 0
      },
      "text/plain": [
       "Boundary attack - iterations:   0%|          | 0/50 [00:00<?, ?it/s]"
      ]
     },
     "metadata": {},
     "output_type": "display_data"
    },
    {
     "data": {
      "application/vnd.jupyter.widget-view+json": {
       "model_id": "bbd013324d4b4cffb3e2c9e8567dfb54",
       "version_major": 2,
       "version_minor": 0
      },
      "text/plain": [
       "Boundary attack - iterations:   0%|          | 0/50 [00:00<?, ?it/s]"
      ]
     },
     "metadata": {},
     "output_type": "display_data"
    },
    {
     "data": {
      "application/vnd.jupyter.widget-view+json": {
       "model_id": "20f03ce13cf24c3d8a9e0cfc774e7892",
       "version_major": 2,
       "version_minor": 0
      },
      "text/plain": [
       "Boundary attack - iterations:   0%|          | 0/50 [00:00<?, ?it/s]"
      ]
     },
     "metadata": {},
     "output_type": "display_data"
    },
    {
     "data": {
      "application/vnd.jupyter.widget-view+json": {
       "model_id": "c42c8d4123344e31bfb4ba3ba62b64cf",
       "version_major": 2,
       "version_minor": 0
      },
      "text/plain": [
       "Boundary attack - iterations:   0%|          | 0/50 [00:00<?, ?it/s]"
      ]
     },
     "metadata": {},
     "output_type": "display_data"
    },
    {
     "data": {
      "application/vnd.jupyter.widget-view+json": {
       "model_id": "0e276a1d081c4cfe97f1500076dd07e0",
       "version_major": 2,
       "version_minor": 0
      },
      "text/plain": [
       "Boundary attack - iterations:   0%|          | 0/50 [00:00<?, ?it/s]"
      ]
     },
     "metadata": {},
     "output_type": "display_data"
    },
    {
     "data": {
      "application/vnd.jupyter.widget-view+json": {
       "model_id": "1dfc6157ec7b4768a8312138d22adb9c",
       "version_major": 2,
       "version_minor": 0
      },
      "text/plain": [
       "Boundary attack - iterations:   0%|          | 0/50 [00:00<?, ?it/s]"
      ]
     },
     "metadata": {},
     "output_type": "display_data"
    },
    {
     "data": {
      "application/vnd.jupyter.widget-view+json": {
       "model_id": "ceec2983ec0c46018c7ca27c4e0ba8f6",
       "version_major": 2,
       "version_minor": 0
      },
      "text/plain": [
       "Boundary attack - iterations:   0%|          | 0/50 [00:00<?, ?it/s]"
      ]
     },
     "metadata": {},
     "output_type": "display_data"
    },
    {
     "data": {
      "application/vnd.jupyter.widget-view+json": {
       "model_id": "cc4c6fc1387d45fbbbb2d1c11045e574",
       "version_major": 2,
       "version_minor": 0
      },
      "text/plain": [
       "Boundary attack - iterations:   0%|          | 0/50 [00:00<?, ?it/s]"
      ]
     },
     "metadata": {},
     "output_type": "display_data"
    },
    {
     "data": {
      "application/vnd.jupyter.widget-view+json": {
       "model_id": "91cec2947ab649aea42942e1b5ad87a6",
       "version_major": 2,
       "version_minor": 0
      },
      "text/plain": [
       "Boundary attack - iterations:   0%|          | 0/50 [00:00<?, ?it/s]"
      ]
     },
     "metadata": {},
     "output_type": "display_data"
    },
    {
     "data": {
      "application/vnd.jupyter.widget-view+json": {
       "model_id": "f4c9430c410f4454841a9cfdd1b98483",
       "version_major": 2,
       "version_minor": 0
      },
      "text/plain": [
       "Boundary attack - iterations:   0%|          | 0/50 [00:00<?, ?it/s]"
      ]
     },
     "metadata": {},
     "output_type": "display_data"
    },
    {
     "data": {
      "application/vnd.jupyter.widget-view+json": {
       "model_id": "4ed473bd03da465cb757f21630304985",
       "version_major": 2,
       "version_minor": 0
      },
      "text/plain": [
       "Boundary attack - iterations:   0%|          | 0/50 [00:00<?, ?it/s]"
      ]
     },
     "metadata": {},
     "output_type": "display_data"
    },
    {
     "data": {
      "application/vnd.jupyter.widget-view+json": {
       "model_id": "45b279febdbb4f948e6d84b6c04e83dd",
       "version_major": 2,
       "version_minor": 0
      },
      "text/plain": [
       "Boundary attack - iterations:   0%|          | 0/50 [00:00<?, ?it/s]"
      ]
     },
     "metadata": {},
     "output_type": "display_data"
    },
    {
     "data": {
      "application/vnd.jupyter.widget-view+json": {
       "model_id": "0943d535711a4ec993c0dd8bbfeda25e",
       "version_major": 2,
       "version_minor": 0
      },
      "text/plain": [
       "Boundary attack - iterations:   0%|          | 0/50 [00:00<?, ?it/s]"
      ]
     },
     "metadata": {},
     "output_type": "display_data"
    },
    {
     "data": {
      "application/vnd.jupyter.widget-view+json": {
       "model_id": "4edaff845e1945c6ade0f206a8e47f8e",
       "version_major": 2,
       "version_minor": 0
      },
      "text/plain": [
       "Boundary attack - iterations:   0%|          | 0/50 [00:00<?, ?it/s]"
      ]
     },
     "metadata": {},
     "output_type": "display_data"
    },
    {
     "data": {
      "application/vnd.jupyter.widget-view+json": {
       "model_id": "c5bc2e1adffe45c1aa65eb2772ce72e6",
       "version_major": 2,
       "version_minor": 0
      },
      "text/plain": [
       "Boundary attack - iterations:   0%|          | 0/50 [00:00<?, ?it/s]"
      ]
     },
     "metadata": {},
     "output_type": "display_data"
    },
    {
     "data": {
      "application/vnd.jupyter.widget-view+json": {
       "model_id": "806d44324d0649a08d024c41e8e04069",
       "version_major": 2,
       "version_minor": 0
      },
      "text/plain": [
       "Boundary attack - iterations:   0%|          | 0/50 [00:00<?, ?it/s]"
      ]
     },
     "metadata": {},
     "output_type": "display_data"
    },
    {
     "data": {
      "application/vnd.jupyter.widget-view+json": {
       "model_id": "5e2d8e3ac04a485d9ed6e59377047d28",
       "version_major": 2,
       "version_minor": 0
      },
      "text/plain": [
       "Boundary attack - iterations:   0%|          | 0/50 [00:00<?, ?it/s]"
      ]
     },
     "metadata": {},
     "output_type": "display_data"
    },
    {
     "data": {
      "application/vnd.jupyter.widget-view+json": {
       "model_id": "8318b1852b624e75a9fc4f529eccc3d8",
       "version_major": 2,
       "version_minor": 0
      },
      "text/plain": [
       "Boundary attack - iterations:   0%|          | 0/50 [00:00<?, ?it/s]"
      ]
     },
     "metadata": {},
     "output_type": "display_data"
    },
    {
     "data": {
      "application/vnd.jupyter.widget-view+json": {
       "model_id": "d96e0d8ca02c4e1a9ba0071ef2d649d1",
       "version_major": 2,
       "version_minor": 0
      },
      "text/plain": [
       "Boundary attack - iterations:   0%|          | 0/50 [00:00<?, ?it/s]"
      ]
     },
     "metadata": {},
     "output_type": "display_data"
    },
    {
     "data": {
      "application/vnd.jupyter.widget-view+json": {
       "model_id": "abe8ac0d97a046bd81eb75fc72eca0f3",
       "version_major": 2,
       "version_minor": 0
      },
      "text/plain": [
       "Boundary attack - iterations:   0%|          | 0/50 [00:00<?, ?it/s]"
      ]
     },
     "metadata": {},
     "output_type": "display_data"
    },
    {
     "data": {
      "application/vnd.jupyter.widget-view+json": {
       "model_id": "39a201411302407fb2168f45d5d84c45",
       "version_major": 2,
       "version_minor": 0
      },
      "text/plain": [
       "Boundary attack - iterations:   0%|          | 0/50 [00:00<?, ?it/s]"
      ]
     },
     "metadata": {},
     "output_type": "display_data"
    },
    {
     "data": {
      "application/vnd.jupyter.widget-view+json": {
       "model_id": "aff3e23d4ff74d068efb7d87afc437c8",
       "version_major": 2,
       "version_minor": 0
      },
      "text/plain": [
       "Boundary attack - iterations:   0%|          | 0/50 [00:00<?, ?it/s]"
      ]
     },
     "metadata": {},
     "output_type": "display_data"
    },
    {
     "data": {
      "application/vnd.jupyter.widget-view+json": {
       "model_id": "76924c88f4e94b0db2bc766980a2be5a",
       "version_major": 2,
       "version_minor": 0
      },
      "text/plain": [
       "Boundary attack - iterations:   0%|          | 0/50 [00:00<?, ?it/s]"
      ]
     },
     "metadata": {},
     "output_type": "display_data"
    },
    {
     "data": {
      "application/vnd.jupyter.widget-view+json": {
       "model_id": "09c2debe50e148c0a48eb1e6abe0a00d",
       "version_major": 2,
       "version_minor": 0
      },
      "text/plain": [
       "Boundary attack - iterations:   0%|          | 0/50 [00:00<?, ?it/s]"
      ]
     },
     "metadata": {},
     "output_type": "display_data"
    },
    {
     "data": {
      "application/vnd.jupyter.widget-view+json": {
       "model_id": "9b01d16cdd7d4a1aada069f842210046",
       "version_major": 2,
       "version_minor": 0
      },
      "text/plain": [
       "Boundary attack - iterations:   0%|          | 0/50 [00:00<?, ?it/s]"
      ]
     },
     "metadata": {},
     "output_type": "display_data"
    },
    {
     "data": {
      "application/vnd.jupyter.widget-view+json": {
       "model_id": "18ecaa08e7fd4732b859a8030de74e8f",
       "version_major": 2,
       "version_minor": 0
      },
      "text/plain": [
       "Boundary attack - iterations:   0%|          | 0/50 [00:00<?, ?it/s]"
      ]
     },
     "metadata": {},
     "output_type": "display_data"
    },
    {
     "data": {
      "application/vnd.jupyter.widget-view+json": {
       "model_id": "a66b82ae42364d6099b0b0456bc486b8",
       "version_major": 2,
       "version_minor": 0
      },
      "text/plain": [
       "Boundary attack - iterations:   0%|          | 0/50 [00:00<?, ?it/s]"
      ]
     },
     "metadata": {},
     "output_type": "display_data"
    },
    {
     "data": {
      "application/vnd.jupyter.widget-view+json": {
       "model_id": "81c3fea0a5b54cd39ab07df7e72475f8",
       "version_major": 2,
       "version_minor": 0
      },
      "text/plain": [
       "Boundary attack - iterations:   0%|          | 0/50 [00:00<?, ?it/s]"
      ]
     },
     "metadata": {},
     "output_type": "display_data"
    },
    {
     "data": {
      "application/vnd.jupyter.widget-view+json": {
       "model_id": "ed4b9ba6f82f480ebc192aaa42a90fe6",
       "version_major": 2,
       "version_minor": 0
      },
      "text/plain": [
       "Boundary attack - iterations:   0%|          | 0/50 [00:00<?, ?it/s]"
      ]
     },
     "metadata": {},
     "output_type": "display_data"
    },
    {
     "data": {
      "application/vnd.jupyter.widget-view+json": {
       "model_id": "772e4d8eb08f49d9acaa1131daa8b82d",
       "version_major": 2,
       "version_minor": 0
      },
      "text/plain": [
       "Boundary attack - iterations:   0%|          | 0/50 [00:00<?, ?it/s]"
      ]
     },
     "metadata": {},
     "output_type": "display_data"
    },
    {
     "data": {
      "application/vnd.jupyter.widget-view+json": {
       "model_id": "ba6833c6079041449232fb061f0f1cec",
       "version_major": 2,
       "version_minor": 0
      },
      "text/plain": [
       "Boundary attack - iterations:   0%|          | 0/50 [00:00<?, ?it/s]"
      ]
     },
     "metadata": {},
     "output_type": "display_data"
    },
    {
     "data": {
      "application/vnd.jupyter.widget-view+json": {
       "model_id": "195f820a66e24efea52d9f36933bd84a",
       "version_major": 2,
       "version_minor": 0
      },
      "text/plain": [
       "Boundary attack - iterations:   0%|          | 0/50 [00:00<?, ?it/s]"
      ]
     },
     "metadata": {},
     "output_type": "display_data"
    },
    {
     "data": {
      "application/vnd.jupyter.widget-view+json": {
       "model_id": "272b77e5659140d1b37ea2f2f93e2788",
       "version_major": 2,
       "version_minor": 0
      },
      "text/plain": [
       "Boundary attack - iterations:   0%|          | 0/50 [00:00<?, ?it/s]"
      ]
     },
     "metadata": {},
     "output_type": "display_data"
    },
    {
     "data": {
      "application/vnd.jupyter.widget-view+json": {
       "model_id": "566abe370b0d4e6f84a06c87bd21fd64",
       "version_major": 2,
       "version_minor": 0
      },
      "text/plain": [
       "Boundary attack - iterations:   0%|          | 0/50 [00:00<?, ?it/s]"
      ]
     },
     "metadata": {},
     "output_type": "display_data"
    },
    {
     "data": {
      "application/vnd.jupyter.widget-view+json": {
       "model_id": "fa35912745ee466085c4e959c19a7974",
       "version_major": 2,
       "version_minor": 0
      },
      "text/plain": [
       "Boundary attack - iterations:   0%|          | 0/50 [00:00<?, ?it/s]"
      ]
     },
     "metadata": {},
     "output_type": "display_data"
    },
    {
     "data": {
      "application/vnd.jupyter.widget-view+json": {
       "model_id": "42f10cf117034fe4aafd8e21a9f09aed",
       "version_major": 2,
       "version_minor": 0
      },
      "text/plain": [
       "Boundary attack - iterations:   0%|          | 0/50 [00:00<?, ?it/s]"
      ]
     },
     "metadata": {},
     "output_type": "display_data"
    },
    {
     "data": {
      "application/vnd.jupyter.widget-view+json": {
       "model_id": "31869b40daba4a14b7174b6cfd8a8def",
       "version_major": 2,
       "version_minor": 0
      },
      "text/plain": [
       "Boundary attack - iterations:   0%|          | 0/50 [00:00<?, ?it/s]"
      ]
     },
     "metadata": {},
     "output_type": "display_data"
    },
    {
     "data": {
      "application/vnd.jupyter.widget-view+json": {
       "model_id": "43970825cc044274855c92e6c7082cf2",
       "version_major": 2,
       "version_minor": 0
      },
      "text/plain": [
       "Boundary attack - iterations:   0%|          | 0/50 [00:00<?, ?it/s]"
      ]
     },
     "metadata": {},
     "output_type": "display_data"
    },
    {
     "data": {
      "application/vnd.jupyter.widget-view+json": {
       "model_id": "161880a907a0470d803ad02a2cee5a54",
       "version_major": 2,
       "version_minor": 0
      },
      "text/plain": [
       "Boundary attack - iterations:   0%|          | 0/50 [00:00<?, ?it/s]"
      ]
     },
     "metadata": {},
     "output_type": "display_data"
    },
    {
     "data": {
      "application/vnd.jupyter.widget-view+json": {
       "model_id": "c4b3749037e446c0b5fe71fd35d8328f",
       "version_major": 2,
       "version_minor": 0
      },
      "text/plain": [
       "Boundary attack - iterations:   0%|          | 0/50 [00:00<?, ?it/s]"
      ]
     },
     "metadata": {},
     "output_type": "display_data"
    },
    {
     "data": {
      "application/vnd.jupyter.widget-view+json": {
       "model_id": "cc021ea7684745318ffb6fc90422456a",
       "version_major": 2,
       "version_minor": 0
      },
      "text/plain": [
       "Boundary attack - iterations:   0%|          | 0/50 [00:00<?, ?it/s]"
      ]
     },
     "metadata": {},
     "output_type": "display_data"
    },
    {
     "data": {
      "application/vnd.jupyter.widget-view+json": {
       "model_id": "938b4f4fe0dc4d4280ba9772b19675e8",
       "version_major": 2,
       "version_minor": 0
      },
      "text/plain": [
       "Boundary attack - iterations:   0%|          | 0/50 [00:00<?, ?it/s]"
      ]
     },
     "metadata": {},
     "output_type": "display_data"
    },
    {
     "data": {
      "application/vnd.jupyter.widget-view+json": {
       "model_id": "07fd3368e9aa4c518991cb05b2171220",
       "version_major": 2,
       "version_minor": 0
      },
      "text/plain": [
       "Boundary attack - iterations:   0%|          | 0/50 [00:00<?, ?it/s]"
      ]
     },
     "metadata": {},
     "output_type": "display_data"
    },
    {
     "data": {
      "application/vnd.jupyter.widget-view+json": {
       "model_id": "030f4b28897f44b8b2815b0811e03ad3",
       "version_major": 2,
       "version_minor": 0
      },
      "text/plain": [
       "Boundary attack - iterations:   0%|          | 0/50 [00:00<?, ?it/s]"
      ]
     },
     "metadata": {},
     "output_type": "display_data"
    },
    {
     "data": {
      "application/vnd.jupyter.widget-view+json": {
       "model_id": "5dc966e7f29445f59a2dd612f6365844",
       "version_major": 2,
       "version_minor": 0
      },
      "text/plain": [
       "Boundary attack - iterations:   0%|          | 0/50 [00:00<?, ?it/s]"
      ]
     },
     "metadata": {},
     "output_type": "display_data"
    },
    {
     "data": {
      "application/vnd.jupyter.widget-view+json": {
       "model_id": "55772f274c074b86a66bc1cebd1fe029",
       "version_major": 2,
       "version_minor": 0
      },
      "text/plain": [
       "Boundary attack - iterations:   0%|          | 0/50 [00:00<?, ?it/s]"
      ]
     },
     "metadata": {},
     "output_type": "display_data"
    },
    {
     "data": {
      "application/vnd.jupyter.widget-view+json": {
       "model_id": "51d9c5d81d214c479a51c7b7d2fa5d3f",
       "version_major": 2,
       "version_minor": 0
      },
      "text/plain": [
       "Boundary attack - iterations:   0%|          | 0/50 [00:00<?, ?it/s]"
      ]
     },
     "metadata": {},
     "output_type": "display_data"
    },
    {
     "data": {
      "application/vnd.jupyter.widget-view+json": {
       "model_id": "7fd87c42be1b442da17b4f4b752e14b9",
       "version_major": 2,
       "version_minor": 0
      },
      "text/plain": [
       "Boundary attack - iterations:   0%|          | 0/50 [00:00<?, ?it/s]"
      ]
     },
     "metadata": {},
     "output_type": "display_data"
    },
    {
     "data": {
      "application/vnd.jupyter.widget-view+json": {
       "model_id": "de1ae7a480104dd59b8a80b3be316569",
       "version_major": 2,
       "version_minor": 0
      },
      "text/plain": [
       "Boundary attack - iterations:   0%|          | 0/50 [00:00<?, ?it/s]"
      ]
     },
     "metadata": {},
     "output_type": "display_data"
    },
    {
     "data": {
      "application/vnd.jupyter.widget-view+json": {
       "model_id": "630e8f0bbcfa4ae3954ae8bf69df19c1",
       "version_major": 2,
       "version_minor": 0
      },
      "text/plain": [
       "Boundary attack - iterations:   0%|          | 0/50 [00:00<?, ?it/s]"
      ]
     },
     "metadata": {},
     "output_type": "display_data"
    },
    {
     "data": {
      "application/vnd.jupyter.widget-view+json": {
       "model_id": "54a0be093f714d0e832217511126fdf6",
       "version_major": 2,
       "version_minor": 0
      },
      "text/plain": [
       "Boundary attack - iterations:   0%|          | 0/50 [00:00<?, ?it/s]"
      ]
     },
     "metadata": {},
     "output_type": "display_data"
    },
    {
     "data": {
      "application/vnd.jupyter.widget-view+json": {
       "model_id": "b87c0140bdd442c281cc0ebd6f5b8b85",
       "version_major": 2,
       "version_minor": 0
      },
      "text/plain": [
       "Boundary attack - iterations:   0%|          | 0/50 [00:00<?, ?it/s]"
      ]
     },
     "metadata": {},
     "output_type": "display_data"
    },
    {
     "data": {
      "application/vnd.jupyter.widget-view+json": {
       "model_id": "e920f53a9e7a4a0784551c5c439726f6",
       "version_major": 2,
       "version_minor": 0
      },
      "text/plain": [
       "Boundary attack - iterations:   0%|          | 0/50 [00:00<?, ?it/s]"
      ]
     },
     "metadata": {},
     "output_type": "display_data"
    },
    {
     "data": {
      "application/vnd.jupyter.widget-view+json": {
       "model_id": "44fa664b5815498998a1d50dfb4fb272",
       "version_major": 2,
       "version_minor": 0
      },
      "text/plain": [
       "Boundary attack - iterations:   0%|          | 0/50 [00:00<?, ?it/s]"
      ]
     },
     "metadata": {},
     "output_type": "display_data"
    },
    {
     "data": {
      "application/vnd.jupyter.widget-view+json": {
       "model_id": "ff047cdb3ed9464eb60eea1cbb0d3b26",
       "version_major": 2,
       "version_minor": 0
      },
      "text/plain": [
       "Boundary attack - iterations:   0%|          | 0/50 [00:00<?, ?it/s]"
      ]
     },
     "metadata": {},
     "output_type": "display_data"
    },
    {
     "data": {
      "application/vnd.jupyter.widget-view+json": {
       "model_id": "969d2a9722464616906971e9e86301e2",
       "version_major": 2,
       "version_minor": 0
      },
      "text/plain": [
       "Boundary attack - iterations:   0%|          | 0/50 [00:00<?, ?it/s]"
      ]
     },
     "metadata": {},
     "output_type": "display_data"
    },
    {
     "data": {
      "application/vnd.jupyter.widget-view+json": {
       "model_id": "2486160f574842f1909ea453742773c3",
       "version_major": 2,
       "version_minor": 0
      },
      "text/plain": [
       "Boundary attack - iterations:   0%|          | 0/50 [00:00<?, ?it/s]"
      ]
     },
     "metadata": {},
     "output_type": "display_data"
    },
    {
     "data": {
      "application/vnd.jupyter.widget-view+json": {
       "model_id": "c806342e4eee473ea38b099550280beb",
       "version_major": 2,
       "version_minor": 0
      },
      "text/plain": [
       "Boundary attack - iterations:   0%|          | 0/50 [00:00<?, ?it/s]"
      ]
     },
     "metadata": {},
     "output_type": "display_data"
    },
    {
     "data": {
      "application/vnd.jupyter.widget-view+json": {
       "model_id": "4e8f12a658be46aa99056b676d950b4b",
       "version_major": 2,
       "version_minor": 0
      },
      "text/plain": [
       "Boundary attack - iterations:   0%|          | 0/50 [00:00<?, ?it/s]"
      ]
     },
     "metadata": {},
     "output_type": "display_data"
    },
    {
     "data": {
      "application/vnd.jupyter.widget-view+json": {
       "model_id": "22e5bfbea5e34616b6e4b36e42489709",
       "version_major": 2,
       "version_minor": 0
      },
      "text/plain": [
       "Boundary attack - iterations:   0%|          | 0/50 [00:00<?, ?it/s]"
      ]
     },
     "metadata": {},
     "output_type": "display_data"
    },
    {
     "data": {
      "application/vnd.jupyter.widget-view+json": {
       "model_id": "ed3fc68474514a25be4bd6b5911273b2",
       "version_major": 2,
       "version_minor": 0
      },
      "text/plain": [
       "Boundary attack - iterations:   0%|          | 0/50 [00:00<?, ?it/s]"
      ]
     },
     "metadata": {},
     "output_type": "display_data"
    },
    {
     "data": {
      "application/vnd.jupyter.widget-view+json": {
       "model_id": "c07a4b1af50e452d93fac181d52e72a2",
       "version_major": 2,
       "version_minor": 0
      },
      "text/plain": [
       "Boundary attack - iterations:   0%|          | 0/50 [00:00<?, ?it/s]"
      ]
     },
     "metadata": {},
     "output_type": "display_data"
    },
    {
     "data": {
      "application/vnd.jupyter.widget-view+json": {
       "model_id": "b298027069cd4c2bbb231a1d37171a37",
       "version_major": 2,
       "version_minor": 0
      },
      "text/plain": [
       "Boundary attack - iterations:   0%|          | 0/50 [00:00<?, ?it/s]"
      ]
     },
     "metadata": {},
     "output_type": "display_data"
    },
    {
     "data": {
      "application/vnd.jupyter.widget-view+json": {
       "model_id": "854f4a3b6c4742bbb7e9cb1d648108dd",
       "version_major": 2,
       "version_minor": 0
      },
      "text/plain": [
       "Boundary attack - iterations:   0%|          | 0/50 [00:00<?, ?it/s]"
      ]
     },
     "metadata": {},
     "output_type": "display_data"
    },
    {
     "data": {
      "application/vnd.jupyter.widget-view+json": {
       "model_id": "a990b796bd4b4902a2d309086aa262a7",
       "version_major": 2,
       "version_minor": 0
      },
      "text/plain": [
       "Boundary attack - iterations:   0%|          | 0/50 [00:00<?, ?it/s]"
      ]
     },
     "metadata": {},
     "output_type": "display_data"
    },
    {
     "data": {
      "application/vnd.jupyter.widget-view+json": {
       "model_id": "b493f20357a54116b85fabf00d2cf20f",
       "version_major": 2,
       "version_minor": 0
      },
      "text/plain": [
       "Boundary attack - iterations:   0%|          | 0/50 [00:00<?, ?it/s]"
      ]
     },
     "metadata": {},
     "output_type": "display_data"
    },
    {
     "data": {
      "application/vnd.jupyter.widget-view+json": {
       "model_id": "a4dfc3cd9fc94c018112bd19f6940378",
       "version_major": 2,
       "version_minor": 0
      },
      "text/plain": [
       "Boundary attack - iterations:   0%|          | 0/50 [00:00<?, ?it/s]"
      ]
     },
     "metadata": {},
     "output_type": "display_data"
    },
    {
     "data": {
      "application/vnd.jupyter.widget-view+json": {
       "model_id": "95491519d6844feaa3cc2a3af0930b34",
       "version_major": 2,
       "version_minor": 0
      },
      "text/plain": [
       "Boundary attack - iterations:   0%|          | 0/50 [00:00<?, ?it/s]"
      ]
     },
     "metadata": {},
     "output_type": "display_data"
    },
    {
     "data": {
      "application/vnd.jupyter.widget-view+json": {
       "model_id": "3164291b290e47399924731e57f2e252",
       "version_major": 2,
       "version_minor": 0
      },
      "text/plain": [
       "Boundary attack - iterations:   0%|          | 0/50 [00:00<?, ?it/s]"
      ]
     },
     "metadata": {},
     "output_type": "display_data"
    },
    {
     "data": {
      "application/vnd.jupyter.widget-view+json": {
       "model_id": "63d90e9501614e5887eb3e772c878085",
       "version_major": 2,
       "version_minor": 0
      },
      "text/plain": [
       "Boundary attack - iterations:   0%|          | 0/50 [00:00<?, ?it/s]"
      ]
     },
     "metadata": {},
     "output_type": "display_data"
    },
    {
     "data": {
      "application/vnd.jupyter.widget-view+json": {
       "model_id": "85a62181ae70444a88d45fb750799423",
       "version_major": 2,
       "version_minor": 0
      },
      "text/plain": [
       "Boundary attack - iterations:   0%|          | 0/50 [00:00<?, ?it/s]"
      ]
     },
     "metadata": {},
     "output_type": "display_data"
    },
    {
     "data": {
      "application/vnd.jupyter.widget-view+json": {
       "model_id": "dfb4681a5d26472b8c98773212e52855",
       "version_major": 2,
       "version_minor": 0
      },
      "text/plain": [
       "Boundary attack - iterations:   0%|          | 0/50 [00:00<?, ?it/s]"
      ]
     },
     "metadata": {},
     "output_type": "display_data"
    },
    {
     "data": {
      "application/vnd.jupyter.widget-view+json": {
       "model_id": "ed976c8434ba4cbf97433bb3f5554d95",
       "version_major": 2,
       "version_minor": 0
      },
      "text/plain": [
       "Boundary attack - iterations:   0%|          | 0/50 [00:00<?, ?it/s]"
      ]
     },
     "metadata": {},
     "output_type": "display_data"
    },
    {
     "data": {
      "application/vnd.jupyter.widget-view+json": {
       "model_id": "b36086ba037e41e386eb723272e033bd",
       "version_major": 2,
       "version_minor": 0
      },
      "text/plain": [
       "Boundary attack - iterations:   0%|          | 0/50 [00:00<?, ?it/s]"
      ]
     },
     "metadata": {},
     "output_type": "display_data"
    },
    {
     "data": {
      "application/vnd.jupyter.widget-view+json": {
       "model_id": "47ca7ddd23d04bd7b0d4f603d4f545a1",
       "version_major": 2,
       "version_minor": 0
      },
      "text/plain": [
       "Boundary attack - iterations:   0%|          | 0/50 [00:00<?, ?it/s]"
      ]
     },
     "metadata": {},
     "output_type": "display_data"
    },
    {
     "data": {
      "application/vnd.jupyter.widget-view+json": {
       "model_id": "86c24b7cbf2b4a0eb622b391cb55eee8",
       "version_major": 2,
       "version_minor": 0
      },
      "text/plain": [
       "Boundary attack - iterations:   0%|          | 0/50 [00:00<?, ?it/s]"
      ]
     },
     "metadata": {},
     "output_type": "display_data"
    },
    {
     "data": {
      "application/vnd.jupyter.widget-view+json": {
       "model_id": "795ea24cd0e344aea690185d10eac63d",
       "version_major": 2,
       "version_minor": 0
      },
      "text/plain": [
       "Boundary attack - iterations:   0%|          | 0/50 [00:00<?, ?it/s]"
      ]
     },
     "metadata": {},
     "output_type": "display_data"
    },
    {
     "data": {
      "application/vnd.jupyter.widget-view+json": {
       "model_id": "e6a9e278b9b24558960f63864a1fa1dd",
       "version_major": 2,
       "version_minor": 0
      },
      "text/plain": [
       "Boundary attack - iterations:   0%|          | 0/50 [00:00<?, ?it/s]"
      ]
     },
     "metadata": {},
     "output_type": "display_data"
    },
    {
     "data": {
      "application/vnd.jupyter.widget-view+json": {
       "model_id": "26f1a3a851ea4bf89c49fe061e5bf340",
       "version_major": 2,
       "version_minor": 0
      },
      "text/plain": [
       "Boundary attack - iterations:   0%|          | 0/50 [00:00<?, ?it/s]"
      ]
     },
     "metadata": {},
     "output_type": "display_data"
    },
    {
     "data": {
      "application/vnd.jupyter.widget-view+json": {
       "model_id": "5b05ec4947a9488c8e26429fa1a9e69a",
       "version_major": 2,
       "version_minor": 0
      },
      "text/plain": [
       "Boundary attack - iterations:   0%|          | 0/50 [00:00<?, ?it/s]"
      ]
     },
     "metadata": {},
     "output_type": "display_data"
    },
    {
     "data": {
      "application/vnd.jupyter.widget-view+json": {
       "model_id": "2d192098e9704f46ae6f53ee28341bc4",
       "version_major": 2,
       "version_minor": 0
      },
      "text/plain": [
       "Boundary attack - iterations:   0%|          | 0/50 [00:00<?, ?it/s]"
      ]
     },
     "metadata": {},
     "output_type": "display_data"
    },
    {
     "data": {
      "application/vnd.jupyter.widget-view+json": {
       "model_id": "abd804cc0f654b3da03259a9e181eaab",
       "version_major": 2,
       "version_minor": 0
      },
      "text/plain": [
       "Boundary attack - iterations:   0%|          | 0/50 [00:00<?, ?it/s]"
      ]
     },
     "metadata": {},
     "output_type": "display_data"
    },
    {
     "data": {
      "application/vnd.jupyter.widget-view+json": {
       "model_id": "baa3b3735ee949ee8514861390f1b8ca",
       "version_major": 2,
       "version_minor": 0
      },
      "text/plain": [
       "Boundary attack - iterations:   0%|          | 0/50 [00:00<?, ?it/s]"
      ]
     },
     "metadata": {},
     "output_type": "display_data"
    },
    {
     "data": {
      "application/vnd.jupyter.widget-view+json": {
       "model_id": "632815fa656d4810afe191e88786005b",
       "version_major": 2,
       "version_minor": 0
      },
      "text/plain": [
       "Boundary attack - iterations:   0%|          | 0/50 [00:00<?, ?it/s]"
      ]
     },
     "metadata": {},
     "output_type": "display_data"
    },
    {
     "data": {
      "application/vnd.jupyter.widget-view+json": {
       "model_id": "0d93c5fcde4b4fa3b98ebb7370daa7a8",
       "version_major": 2,
       "version_minor": 0
      },
      "text/plain": [
       "Boundary attack - iterations:   0%|          | 0/50 [00:00<?, ?it/s]"
      ]
     },
     "metadata": {},
     "output_type": "display_data"
    },
    {
     "data": {
      "application/vnd.jupyter.widget-view+json": {
       "model_id": "b32d03b285574c3781481145fcfc66aa",
       "version_major": 2,
       "version_minor": 0
      },
      "text/plain": [
       "Boundary attack - iterations:   0%|          | 0/50 [00:00<?, ?it/s]"
      ]
     },
     "metadata": {},
     "output_type": "display_data"
    },
    {
     "data": {
      "application/vnd.jupyter.widget-view+json": {
       "model_id": "0021443cf1ed4af8a7b23671121003b1",
       "version_major": 2,
       "version_minor": 0
      },
      "text/plain": [
       "Boundary attack - iterations:   0%|          | 0/50 [00:00<?, ?it/s]"
      ]
     },
     "metadata": {},
     "output_type": "display_data"
    },
    {
     "data": {
      "application/vnd.jupyter.widget-view+json": {
       "model_id": "bbdf98ea5aa14e8db57a9a7ff9e273b4",
       "version_major": 2,
       "version_minor": 0
      },
      "text/plain": [
       "Boundary attack - iterations:   0%|          | 0/50 [00:00<?, ?it/s]"
      ]
     },
     "metadata": {},
     "output_type": "display_data"
    },
    {
     "data": {
      "application/vnd.jupyter.widget-view+json": {
       "model_id": "3f88b8e7e6f641f891cbd9222de0ce43",
       "version_major": 2,
       "version_minor": 0
      },
      "text/plain": [
       "Boundary attack - iterations:   0%|          | 0/50 [00:00<?, ?it/s]"
      ]
     },
     "metadata": {},
     "output_type": "display_data"
    },
    {
     "data": {
      "application/vnd.jupyter.widget-view+json": {
       "model_id": "1adf6b986a424797af6d4fb2b4ce5639",
       "version_major": 2,
       "version_minor": 0
      },
      "text/plain": [
       "Boundary attack - iterations:   0%|          | 0/50 [00:00<?, ?it/s]"
      ]
     },
     "metadata": {},
     "output_type": "display_data"
    },
    {
     "data": {
      "application/vnd.jupyter.widget-view+json": {
       "model_id": "23ccdcfc78f341d3a0125c7f60b6c601",
       "version_major": 2,
       "version_minor": 0
      },
      "text/plain": [
       "Boundary attack - iterations:   0%|          | 0/50 [00:00<?, ?it/s]"
      ]
     },
     "metadata": {},
     "output_type": "display_data"
    },
    {
     "data": {
      "application/vnd.jupyter.widget-view+json": {
       "model_id": "d2efe063dcd54f439b0e3d432eba6660",
       "version_major": 2,
       "version_minor": 0
      },
      "text/plain": [
       "Boundary attack - iterations:   0%|          | 0/50 [00:00<?, ?it/s]"
      ]
     },
     "metadata": {},
     "output_type": "display_data"
    },
    {
     "data": {
      "application/vnd.jupyter.widget-view+json": {
       "model_id": "f3d1a770391647dbb0a212585049eaa8",
       "version_major": 2,
       "version_minor": 0
      },
      "text/plain": [
       "Boundary attack - iterations:   0%|          | 0/50 [00:00<?, ?it/s]"
      ]
     },
     "metadata": {},
     "output_type": "display_data"
    },
    {
     "data": {
      "application/vnd.jupyter.widget-view+json": {
       "model_id": "aa6d7afe796241519c9e3bb5c3dc83f3",
       "version_major": 2,
       "version_minor": 0
      },
      "text/plain": [
       "Boundary attack - iterations:   0%|          | 0/50 [00:00<?, ?it/s]"
      ]
     },
     "metadata": {},
     "output_type": "display_data"
    },
    {
     "data": {
      "application/vnd.jupyter.widget-view+json": {
       "model_id": "9d40358c10f0426a87dcb8fc0fe87d85",
       "version_major": 2,
       "version_minor": 0
      },
      "text/plain": [
       "Boundary attack - iterations:   0%|          | 0/50 [00:00<?, ?it/s]"
      ]
     },
     "metadata": {},
     "output_type": "display_data"
    },
    {
     "data": {
      "application/vnd.jupyter.widget-view+json": {
       "model_id": "5377056993df45a9909f51425f94bc93",
       "version_major": 2,
       "version_minor": 0
      },
      "text/plain": [
       "Boundary attack - iterations:   0%|          | 0/50 [00:00<?, ?it/s]"
      ]
     },
     "metadata": {},
     "output_type": "display_data"
    },
    {
     "data": {
      "application/vnd.jupyter.widget-view+json": {
       "model_id": "f28aa33a1e894cb29cd33a54153f4542",
       "version_major": 2,
       "version_minor": 0
      },
      "text/plain": [
       "Boundary attack - iterations:   0%|          | 0/50 [00:00<?, ?it/s]"
      ]
     },
     "metadata": {},
     "output_type": "display_data"
    },
    {
     "data": {
      "application/vnd.jupyter.widget-view+json": {
       "model_id": "77d46e7a1c364b978d15f83912f9889c",
       "version_major": 2,
       "version_minor": 0
      },
      "text/plain": [
       "Boundary attack - iterations:   0%|          | 0/50 [00:00<?, ?it/s]"
      ]
     },
     "metadata": {},
     "output_type": "display_data"
    },
    {
     "data": {
      "application/vnd.jupyter.widget-view+json": {
       "model_id": "077b9a7942b94748b896b73404f73350",
       "version_major": 2,
       "version_minor": 0
      },
      "text/plain": [
       "Boundary attack - iterations:   0%|          | 0/50 [00:00<?, ?it/s]"
      ]
     },
     "metadata": {},
     "output_type": "display_data"
    },
    {
     "data": {
      "application/vnd.jupyter.widget-view+json": {
       "model_id": "a8d412f43a194dc683f5a993ad9036ab",
       "version_major": 2,
       "version_minor": 0
      },
      "text/plain": [
       "Boundary attack - iterations:   0%|          | 0/50 [00:00<?, ?it/s]"
      ]
     },
     "metadata": {},
     "output_type": "display_data"
    },
    {
     "data": {
      "application/vnd.jupyter.widget-view+json": {
       "model_id": "4ff67aa517fa4c88974c35dc5cde6f8d",
       "version_major": 2,
       "version_minor": 0
      },
      "text/plain": [
       "Boundary attack - iterations:   0%|          | 0/50 [00:00<?, ?it/s]"
      ]
     },
     "metadata": {},
     "output_type": "display_data"
    },
    {
     "data": {
      "application/vnd.jupyter.widget-view+json": {
       "model_id": "5292769378b243f79f458eb08d9a0557",
       "version_major": 2,
       "version_minor": 0
      },
      "text/plain": [
       "Boundary attack - iterations:   0%|          | 0/50 [00:00<?, ?it/s]"
      ]
     },
     "metadata": {},
     "output_type": "display_data"
    },
    {
     "data": {
      "application/vnd.jupyter.widget-view+json": {
       "model_id": "103b105d1c5f4edc9da58ce46245b986",
       "version_major": 2,
       "version_minor": 0
      },
      "text/plain": [
       "Boundary attack - iterations:   0%|          | 0/50 [00:00<?, ?it/s]"
      ]
     },
     "metadata": {},
     "output_type": "display_data"
    },
    {
     "data": {
      "application/vnd.jupyter.widget-view+json": {
       "model_id": "c8917340969747e5959cae324fe6df09",
       "version_major": 2,
       "version_minor": 0
      },
      "text/plain": [
       "Boundary attack - iterations:   0%|          | 0/50 [00:00<?, ?it/s]"
      ]
     },
     "metadata": {},
     "output_type": "display_data"
    },
    {
     "data": {
      "application/vnd.jupyter.widget-view+json": {
       "model_id": "ce3ee3a68fef42a1aa1c23f1d5fa48a1",
       "version_major": 2,
       "version_minor": 0
      },
      "text/plain": [
       "Boundary attack - iterations:   0%|          | 0/50 [00:00<?, ?it/s]"
      ]
     },
     "metadata": {},
     "output_type": "display_data"
    },
    {
     "data": {
      "application/vnd.jupyter.widget-view+json": {
       "model_id": "66265f3546784a548014887e9147f49e",
       "version_major": 2,
       "version_minor": 0
      },
      "text/plain": [
       "Boundary attack - iterations:   0%|          | 0/50 [00:00<?, ?it/s]"
      ]
     },
     "metadata": {},
     "output_type": "display_data"
    },
    {
     "data": {
      "application/vnd.jupyter.widget-view+json": {
       "model_id": "2ae4eb164c694dc5bf89dc50fde5ec4b",
       "version_major": 2,
       "version_minor": 0
      },
      "text/plain": [
       "Boundary attack - iterations:   0%|          | 0/50 [00:00<?, ?it/s]"
      ]
     },
     "metadata": {},
     "output_type": "display_data"
    },
    {
     "data": {
      "application/vnd.jupyter.widget-view+json": {
       "model_id": "108f5489b0d842efb668693d49041330",
       "version_major": 2,
       "version_minor": 0
      },
      "text/plain": [
       "Boundary attack - iterations:   0%|          | 0/50 [00:00<?, ?it/s]"
      ]
     },
     "metadata": {},
     "output_type": "display_data"
    },
    {
     "data": {
      "application/vnd.jupyter.widget-view+json": {
       "model_id": "4a52755ad13c496fa5c6a4ee499cfd18",
       "version_major": 2,
       "version_minor": 0
      },
      "text/plain": [
       "Boundary attack - iterations:   0%|          | 0/50 [00:00<?, ?it/s]"
      ]
     },
     "metadata": {},
     "output_type": "display_data"
    },
    {
     "data": {
      "application/vnd.jupyter.widget-view+json": {
       "model_id": "3debc929fb6240518646e33516eb41e5",
       "version_major": 2,
       "version_minor": 0
      },
      "text/plain": [
       "Boundary attack - iterations:   0%|          | 0/50 [00:00<?, ?it/s]"
      ]
     },
     "metadata": {},
     "output_type": "display_data"
    },
    {
     "data": {
      "application/vnd.jupyter.widget-view+json": {
       "model_id": "f61bc54f4c96425b9b599f4f6c79fe28",
       "version_major": 2,
       "version_minor": 0
      },
      "text/plain": [
       "Boundary attack - iterations:   0%|          | 0/50 [00:00<?, ?it/s]"
      ]
     },
     "metadata": {},
     "output_type": "display_data"
    },
    {
     "data": {
      "application/vnd.jupyter.widget-view+json": {
       "model_id": "e378f32e5c9545c9bc224603e4e99778",
       "version_major": 2,
       "version_minor": 0
      },
      "text/plain": [
       "Boundary attack - iterations:   0%|          | 0/50 [00:00<?, ?it/s]"
      ]
     },
     "metadata": {},
     "output_type": "display_data"
    },
    {
     "data": {
      "application/vnd.jupyter.widget-view+json": {
       "model_id": "954ef900af0044e6946ba3e425ccaf6d",
       "version_major": 2,
       "version_minor": 0
      },
      "text/plain": [
       "Boundary attack - iterations:   0%|          | 0/50 [00:00<?, ?it/s]"
      ]
     },
     "metadata": {},
     "output_type": "display_data"
    },
    {
     "data": {
      "application/vnd.jupyter.widget-view+json": {
       "model_id": "1c022e6361ed472980a529857dfae506",
       "version_major": 2,
       "version_minor": 0
      },
      "text/plain": [
       "Boundary attack - iterations:   0%|          | 0/50 [00:00<?, ?it/s]"
      ]
     },
     "metadata": {},
     "output_type": "display_data"
    },
    {
     "data": {
      "application/vnd.jupyter.widget-view+json": {
       "model_id": "e7efb1a094a94b5f8d7892afeef4853f",
       "version_major": 2,
       "version_minor": 0
      },
      "text/plain": [
       "Boundary attack - iterations:   0%|          | 0/50 [00:00<?, ?it/s]"
      ]
     },
     "metadata": {},
     "output_type": "display_data"
    },
    {
     "name": "stdout",
     "output_type": "stream",
     "text": [
      "16/16 [==============================] - 0s 13ms/step - loss: 0.9613 - acc: 0.0260\n"
     ]
    },
    {
     "data": {
      "application/vnd.jupyter.widget-view+json": {
       "model_id": "676a89647f8a4777b4372c532e26bbfe",
       "version_major": 2,
       "version_minor": 0
      },
      "text/plain": [
       "Boundary attack:   0%|          | 0/500 [00:00<?, ?it/s]"
      ]
     },
     "metadata": {},
     "output_type": "display_data"
    },
    {
     "data": {
      "application/vnd.jupyter.widget-view+json": {
       "model_id": "6a209f5cbcf74844a97a806562211147",
       "version_major": 2,
       "version_minor": 0
      },
      "text/plain": [
       "Boundary attack - iterations:   0%|          | 0/50 [00:00<?, ?it/s]"
      ]
     },
     "metadata": {},
     "output_type": "display_data"
    },
    {
     "data": {
      "application/vnd.jupyter.widget-view+json": {
       "model_id": "806dce1dc25d47fda72ca1421261c89b",
       "version_major": 2,
       "version_minor": 0
      },
      "text/plain": [
       "Boundary attack - iterations:   0%|          | 0/50 [00:00<?, ?it/s]"
      ]
     },
     "metadata": {},
     "output_type": "display_data"
    },
    {
     "data": {
      "application/vnd.jupyter.widget-view+json": {
       "model_id": "7dbd6e38d1cc4185a0a73750a5d1ec6e",
       "version_major": 2,
       "version_minor": 0
      },
      "text/plain": [
       "Boundary attack - iterations:   0%|          | 0/50 [00:00<?, ?it/s]"
      ]
     },
     "metadata": {},
     "output_type": "display_data"
    },
    {
     "data": {
      "application/vnd.jupyter.widget-view+json": {
       "model_id": "ead343e563b845008775d5ad7108f00e",
       "version_major": 2,
       "version_minor": 0
      },
      "text/plain": [
       "Boundary attack - iterations:   0%|          | 0/50 [00:00<?, ?it/s]"
      ]
     },
     "metadata": {},
     "output_type": "display_data"
    },
    {
     "data": {
      "application/vnd.jupyter.widget-view+json": {
       "model_id": "d22f40a4a5004b73befe398614145de0",
       "version_major": 2,
       "version_minor": 0
      },
      "text/plain": [
       "Boundary attack - iterations:   0%|          | 0/50 [00:00<?, ?it/s]"
      ]
     },
     "metadata": {},
     "output_type": "display_data"
    },
    {
     "data": {
      "application/vnd.jupyter.widget-view+json": {
       "model_id": "6d7672b119dd49b18ae0ea115e1335de",
       "version_major": 2,
       "version_minor": 0
      },
      "text/plain": [
       "Boundary attack - iterations:   0%|          | 0/50 [00:00<?, ?it/s]"
      ]
     },
     "metadata": {},
     "output_type": "display_data"
    },
    {
     "data": {
      "application/vnd.jupyter.widget-view+json": {
       "model_id": "b826f0fa39dc49bea971630fd04808e5",
       "version_major": 2,
       "version_minor": 0
      },
      "text/plain": [
       "Boundary attack - iterations:   0%|          | 0/50 [00:00<?, ?it/s]"
      ]
     },
     "metadata": {},
     "output_type": "display_data"
    },
    {
     "data": {
      "application/vnd.jupyter.widget-view+json": {
       "model_id": "75f616186d9a4c2d9261466ed9fa9f75",
       "version_major": 2,
       "version_minor": 0
      },
      "text/plain": [
       "Boundary attack - iterations:   0%|          | 0/50 [00:00<?, ?it/s]"
      ]
     },
     "metadata": {},
     "output_type": "display_data"
    },
    {
     "data": {
      "application/vnd.jupyter.widget-view+json": {
       "model_id": "80adc9f1c3b0494ea93b9e20cad5916d",
       "version_major": 2,
       "version_minor": 0
      },
      "text/plain": [
       "Boundary attack - iterations:   0%|          | 0/50 [00:00<?, ?it/s]"
      ]
     },
     "metadata": {},
     "output_type": "display_data"
    },
    {
     "data": {
      "application/vnd.jupyter.widget-view+json": {
       "model_id": "0c0c66090a154d908fea17c8aede41f6",
       "version_major": 2,
       "version_minor": 0
      },
      "text/plain": [
       "Boundary attack - iterations:   0%|          | 0/50 [00:00<?, ?it/s]"
      ]
     },
     "metadata": {},
     "output_type": "display_data"
    },
    {
     "data": {
      "application/vnd.jupyter.widget-view+json": {
       "model_id": "586fd7ccffc74ee0b84c54572a6f7247",
       "version_major": 2,
       "version_minor": 0
      },
      "text/plain": [
       "Boundary attack - iterations:   0%|          | 0/50 [00:00<?, ?it/s]"
      ]
     },
     "metadata": {},
     "output_type": "display_data"
    },
    {
     "data": {
      "application/vnd.jupyter.widget-view+json": {
       "model_id": "20d47e0928394fe8b2d8e7064394a482",
       "version_major": 2,
       "version_minor": 0
      },
      "text/plain": [
       "Boundary attack - iterations:   0%|          | 0/50 [00:00<?, ?it/s]"
      ]
     },
     "metadata": {},
     "output_type": "display_data"
    },
    {
     "data": {
      "application/vnd.jupyter.widget-view+json": {
       "model_id": "bfec93cecc8f4c9fb3f3df13d20864ee",
       "version_major": 2,
       "version_minor": 0
      },
      "text/plain": [
       "Boundary attack - iterations:   0%|          | 0/50 [00:00<?, ?it/s]"
      ]
     },
     "metadata": {},
     "output_type": "display_data"
    },
    {
     "data": {
      "application/vnd.jupyter.widget-view+json": {
       "model_id": "d6ff947585014ccc9a3910f150cdb5ca",
       "version_major": 2,
       "version_minor": 0
      },
      "text/plain": [
       "Boundary attack - iterations:   0%|          | 0/50 [00:00<?, ?it/s]"
      ]
     },
     "metadata": {},
     "output_type": "display_data"
    },
    {
     "data": {
      "application/vnd.jupyter.widget-view+json": {
       "model_id": "0098c7448d1b4888890c46f10e052c21",
       "version_major": 2,
       "version_minor": 0
      },
      "text/plain": [
       "Boundary attack - iterations:   0%|          | 0/50 [00:00<?, ?it/s]"
      ]
     },
     "metadata": {},
     "output_type": "display_data"
    },
    {
     "data": {
      "application/vnd.jupyter.widget-view+json": {
       "model_id": "00c0a5c90e7d44d8a6b00d4600d4b0dd",
       "version_major": 2,
       "version_minor": 0
      },
      "text/plain": [
       "Boundary attack - iterations:   0%|          | 0/50 [00:00<?, ?it/s]"
      ]
     },
     "metadata": {},
     "output_type": "display_data"
    },
    {
     "data": {
      "application/vnd.jupyter.widget-view+json": {
       "model_id": "ad0a6ae188d14a5fa563b6c12b1ccc0b",
       "version_major": 2,
       "version_minor": 0
      },
      "text/plain": [
       "Boundary attack - iterations:   0%|          | 0/50 [00:00<?, ?it/s]"
      ]
     },
     "metadata": {},
     "output_type": "display_data"
    },
    {
     "data": {
      "application/vnd.jupyter.widget-view+json": {
       "model_id": "05c71fd915014f70a300d640b9e948cf",
       "version_major": 2,
       "version_minor": 0
      },
      "text/plain": [
       "Boundary attack - iterations:   0%|          | 0/50 [00:00<?, ?it/s]"
      ]
     },
     "metadata": {},
     "output_type": "display_data"
    },
    {
     "data": {
      "application/vnd.jupyter.widget-view+json": {
       "model_id": "a1cb095d10704417b08c6af1c62f0cd4",
       "version_major": 2,
       "version_minor": 0
      },
      "text/plain": [
       "Boundary attack - iterations:   0%|          | 0/50 [00:00<?, ?it/s]"
      ]
     },
     "metadata": {},
     "output_type": "display_data"
    },
    {
     "data": {
      "application/vnd.jupyter.widget-view+json": {
       "model_id": "45e297b73bf54513a0d709c18745f8d0",
       "version_major": 2,
       "version_minor": 0
      },
      "text/plain": [
       "Boundary attack - iterations:   0%|          | 0/50 [00:00<?, ?it/s]"
      ]
     },
     "metadata": {},
     "output_type": "display_data"
    },
    {
     "data": {
      "application/vnd.jupyter.widget-view+json": {
       "model_id": "ccbd886ed86643f2850eefba55dfad0c",
       "version_major": 2,
       "version_minor": 0
      },
      "text/plain": [
       "Boundary attack - iterations:   0%|          | 0/50 [00:00<?, ?it/s]"
      ]
     },
     "metadata": {},
     "output_type": "display_data"
    },
    {
     "data": {
      "application/vnd.jupyter.widget-view+json": {
       "model_id": "2e8d6a58c0204e46a6c80bb0d2aaaa0f",
       "version_major": 2,
       "version_minor": 0
      },
      "text/plain": [
       "Boundary attack - iterations:   0%|          | 0/50 [00:00<?, ?it/s]"
      ]
     },
     "metadata": {},
     "output_type": "display_data"
    },
    {
     "data": {
      "application/vnd.jupyter.widget-view+json": {
       "model_id": "c7f1374ef6f74c56a312f249b88fcf74",
       "version_major": 2,
       "version_minor": 0
      },
      "text/plain": [
       "Boundary attack - iterations:   0%|          | 0/50 [00:00<?, ?it/s]"
      ]
     },
     "metadata": {},
     "output_type": "display_data"
    },
    {
     "data": {
      "application/vnd.jupyter.widget-view+json": {
       "model_id": "c7a5387fb4a54757adde13e4eca619d0",
       "version_major": 2,
       "version_minor": 0
      },
      "text/plain": [
       "Boundary attack - iterations:   0%|          | 0/50 [00:00<?, ?it/s]"
      ]
     },
     "metadata": {},
     "output_type": "display_data"
    },
    {
     "data": {
      "application/vnd.jupyter.widget-view+json": {
       "model_id": "e0c42aea444e4697b2239b06a25c1dc0",
       "version_major": 2,
       "version_minor": 0
      },
      "text/plain": [
       "Boundary attack - iterations:   0%|          | 0/50 [00:00<?, ?it/s]"
      ]
     },
     "metadata": {},
     "output_type": "display_data"
    },
    {
     "data": {
      "application/vnd.jupyter.widget-view+json": {
       "model_id": "42f8ebda5456482f82b3a3b50e852a28",
       "version_major": 2,
       "version_minor": 0
      },
      "text/plain": [
       "Boundary attack - iterations:   0%|          | 0/50 [00:00<?, ?it/s]"
      ]
     },
     "metadata": {},
     "output_type": "display_data"
    },
    {
     "data": {
      "application/vnd.jupyter.widget-view+json": {
       "model_id": "be80397b4636476ea1af4f52965d6cb2",
       "version_major": 2,
       "version_minor": 0
      },
      "text/plain": [
       "Boundary attack - iterations:   0%|          | 0/50 [00:00<?, ?it/s]"
      ]
     },
     "metadata": {},
     "output_type": "display_data"
    },
    {
     "data": {
      "application/vnd.jupyter.widget-view+json": {
       "model_id": "f5fd56e812d84b249dd2710824533e3c",
       "version_major": 2,
       "version_minor": 0
      },
      "text/plain": [
       "Boundary attack - iterations:   0%|          | 0/50 [00:00<?, ?it/s]"
      ]
     },
     "metadata": {},
     "output_type": "display_data"
    },
    {
     "data": {
      "application/vnd.jupyter.widget-view+json": {
       "model_id": "dfe940aa6bd34e369abc19ea13d87f55",
       "version_major": 2,
       "version_minor": 0
      },
      "text/plain": [
       "Boundary attack - iterations:   0%|          | 0/50 [00:00<?, ?it/s]"
      ]
     },
     "metadata": {},
     "output_type": "display_data"
    },
    {
     "data": {
      "application/vnd.jupyter.widget-view+json": {
       "model_id": "1428b32392f449c5a9bf8861d1e446f1",
       "version_major": 2,
       "version_minor": 0
      },
      "text/plain": [
       "Boundary attack - iterations:   0%|          | 0/50 [00:00<?, ?it/s]"
      ]
     },
     "metadata": {},
     "output_type": "display_data"
    },
    {
     "data": {
      "application/vnd.jupyter.widget-view+json": {
       "model_id": "44ef34a1a4dd455bb6172767fb864259",
       "version_major": 2,
       "version_minor": 0
      },
      "text/plain": [
       "Boundary attack - iterations:   0%|          | 0/50 [00:00<?, ?it/s]"
      ]
     },
     "metadata": {},
     "output_type": "display_data"
    },
    {
     "data": {
      "application/vnd.jupyter.widget-view+json": {
       "model_id": "b0ea08909cc949cb8f96e8434a6db342",
       "version_major": 2,
       "version_minor": 0
      },
      "text/plain": [
       "Boundary attack - iterations:   0%|          | 0/50 [00:00<?, ?it/s]"
      ]
     },
     "metadata": {},
     "output_type": "display_data"
    },
    {
     "data": {
      "application/vnd.jupyter.widget-view+json": {
       "model_id": "458638d4eea045e286bb76a5201d7548",
       "version_major": 2,
       "version_minor": 0
      },
      "text/plain": [
       "Boundary attack - iterations:   0%|          | 0/50 [00:00<?, ?it/s]"
      ]
     },
     "metadata": {},
     "output_type": "display_data"
    },
    {
     "data": {
      "application/vnd.jupyter.widget-view+json": {
       "model_id": "595e2cb5aec849c984772760d5cb2d84",
       "version_major": 2,
       "version_minor": 0
      },
      "text/plain": [
       "Boundary attack - iterations:   0%|          | 0/50 [00:00<?, ?it/s]"
      ]
     },
     "metadata": {},
     "output_type": "display_data"
    },
    {
     "data": {
      "application/vnd.jupyter.widget-view+json": {
       "model_id": "ff16b4b1ce4c4398bc4ec03e2f652c84",
       "version_major": 2,
       "version_minor": 0
      },
      "text/plain": [
       "Boundary attack - iterations:   0%|          | 0/50 [00:00<?, ?it/s]"
      ]
     },
     "metadata": {},
     "output_type": "display_data"
    },
    {
     "data": {
      "application/vnd.jupyter.widget-view+json": {
       "model_id": "64d71bc84ba44eaa82e9ed53296409b9",
       "version_major": 2,
       "version_minor": 0
      },
      "text/plain": [
       "Boundary attack - iterations:   0%|          | 0/50 [00:00<?, ?it/s]"
      ]
     },
     "metadata": {},
     "output_type": "display_data"
    },
    {
     "data": {
      "application/vnd.jupyter.widget-view+json": {
       "model_id": "7eb7f4ccd84f4dd4b3e809555070fa25",
       "version_major": 2,
       "version_minor": 0
      },
      "text/plain": [
       "Boundary attack - iterations:   0%|          | 0/50 [00:00<?, ?it/s]"
      ]
     },
     "metadata": {},
     "output_type": "display_data"
    },
    {
     "data": {
      "application/vnd.jupyter.widget-view+json": {
       "model_id": "401d2ea493c2431097b261a40242a2a8",
       "version_major": 2,
       "version_minor": 0
      },
      "text/plain": [
       "Boundary attack - iterations:   0%|          | 0/50 [00:00<?, ?it/s]"
      ]
     },
     "metadata": {},
     "output_type": "display_data"
    },
    {
     "data": {
      "application/vnd.jupyter.widget-view+json": {
       "model_id": "0ac0e07b63674ab6b1660c842efdd49f",
       "version_major": 2,
       "version_minor": 0
      },
      "text/plain": [
       "Boundary attack - iterations:   0%|          | 0/50 [00:00<?, ?it/s]"
      ]
     },
     "metadata": {},
     "output_type": "display_data"
    },
    {
     "data": {
      "application/vnd.jupyter.widget-view+json": {
       "model_id": "fdead68b6e1a440d95b4f00acf80c96e",
       "version_major": 2,
       "version_minor": 0
      },
      "text/plain": [
       "Boundary attack - iterations:   0%|          | 0/50 [00:00<?, ?it/s]"
      ]
     },
     "metadata": {},
     "output_type": "display_data"
    },
    {
     "data": {
      "application/vnd.jupyter.widget-view+json": {
       "model_id": "1ec83200c2d34217b5568d6717ddc161",
       "version_major": 2,
       "version_minor": 0
      },
      "text/plain": [
       "Boundary attack - iterations:   0%|          | 0/50 [00:00<?, ?it/s]"
      ]
     },
     "metadata": {},
     "output_type": "display_data"
    },
    {
     "data": {
      "application/vnd.jupyter.widget-view+json": {
       "model_id": "70ab5ab7b85f4bd9be5f2afc83ba26c1",
       "version_major": 2,
       "version_minor": 0
      },
      "text/plain": [
       "Boundary attack - iterations:   0%|          | 0/50 [00:00<?, ?it/s]"
      ]
     },
     "metadata": {},
     "output_type": "display_data"
    },
    {
     "data": {
      "application/vnd.jupyter.widget-view+json": {
       "model_id": "47a349b3aaea45adbf4a4aadaf6814b7",
       "version_major": 2,
       "version_minor": 0
      },
      "text/plain": [
       "Boundary attack - iterations:   0%|          | 0/50 [00:00<?, ?it/s]"
      ]
     },
     "metadata": {},
     "output_type": "display_data"
    },
    {
     "data": {
      "application/vnd.jupyter.widget-view+json": {
       "model_id": "172c6326aa384fe6b77022988080f16e",
       "version_major": 2,
       "version_minor": 0
      },
      "text/plain": [
       "Boundary attack - iterations:   0%|          | 0/50 [00:00<?, ?it/s]"
      ]
     },
     "metadata": {},
     "output_type": "display_data"
    },
    {
     "data": {
      "application/vnd.jupyter.widget-view+json": {
       "model_id": "60fdc437c3a24765aa42669de4e92eeb",
       "version_major": 2,
       "version_minor": 0
      },
      "text/plain": [
       "Boundary attack - iterations:   0%|          | 0/50 [00:00<?, ?it/s]"
      ]
     },
     "metadata": {},
     "output_type": "display_data"
    },
    {
     "data": {
      "application/vnd.jupyter.widget-view+json": {
       "model_id": "194b55a702d845a38ddfdad68615eb42",
       "version_major": 2,
       "version_minor": 0
      },
      "text/plain": [
       "Boundary attack - iterations:   0%|          | 0/50 [00:00<?, ?it/s]"
      ]
     },
     "metadata": {},
     "output_type": "display_data"
    },
    {
     "data": {
      "application/vnd.jupyter.widget-view+json": {
       "model_id": "de1fa1dcb8d04cfe9014d858930e051d",
       "version_major": 2,
       "version_minor": 0
      },
      "text/plain": [
       "Boundary attack - iterations:   0%|          | 0/50 [00:00<?, ?it/s]"
      ]
     },
     "metadata": {},
     "output_type": "display_data"
    },
    {
     "data": {
      "application/vnd.jupyter.widget-view+json": {
       "model_id": "be59e91b25f74f7fbfd9d731abbc591a",
       "version_major": 2,
       "version_minor": 0
      },
      "text/plain": [
       "Boundary attack - iterations:   0%|          | 0/50 [00:00<?, ?it/s]"
      ]
     },
     "metadata": {},
     "output_type": "display_data"
    },
    {
     "data": {
      "application/vnd.jupyter.widget-view+json": {
       "model_id": "241e04cb603c4ed8b2a0adb2226bf689",
       "version_major": 2,
       "version_minor": 0
      },
      "text/plain": [
       "Boundary attack - iterations:   0%|          | 0/50 [00:00<?, ?it/s]"
      ]
     },
     "metadata": {},
     "output_type": "display_data"
    },
    {
     "data": {
      "application/vnd.jupyter.widget-view+json": {
       "model_id": "97181a4b376d4135a731a0656794c77a",
       "version_major": 2,
       "version_minor": 0
      },
      "text/plain": [
       "Boundary attack - iterations:   0%|          | 0/50 [00:00<?, ?it/s]"
      ]
     },
     "metadata": {},
     "output_type": "display_data"
    },
    {
     "data": {
      "application/vnd.jupyter.widget-view+json": {
       "model_id": "d73c4b26d4894fa8bf061bc1d38eb794",
       "version_major": 2,
       "version_minor": 0
      },
      "text/plain": [
       "Boundary attack - iterations:   0%|          | 0/50 [00:00<?, ?it/s]"
      ]
     },
     "metadata": {},
     "output_type": "display_data"
    },
    {
     "data": {
      "application/vnd.jupyter.widget-view+json": {
       "model_id": "39d533710e4a4195a25c46d683b72eb4",
       "version_major": 2,
       "version_minor": 0
      },
      "text/plain": [
       "Boundary attack - iterations:   0%|          | 0/50 [00:00<?, ?it/s]"
      ]
     },
     "metadata": {},
     "output_type": "display_data"
    },
    {
     "data": {
      "application/vnd.jupyter.widget-view+json": {
       "model_id": "a31a99cfe8374e7e8ef06bb711b6a0ba",
       "version_major": 2,
       "version_minor": 0
      },
      "text/plain": [
       "Boundary attack - iterations:   0%|          | 0/50 [00:00<?, ?it/s]"
      ]
     },
     "metadata": {},
     "output_type": "display_data"
    },
    {
     "data": {
      "application/vnd.jupyter.widget-view+json": {
       "model_id": "c656d980a2044624a43ec711b4655539",
       "version_major": 2,
       "version_minor": 0
      },
      "text/plain": [
       "Boundary attack - iterations:   0%|          | 0/50 [00:00<?, ?it/s]"
      ]
     },
     "metadata": {},
     "output_type": "display_data"
    },
    {
     "data": {
      "application/vnd.jupyter.widget-view+json": {
       "model_id": "d0c4f158d8934aa39c2867b05e906de2",
       "version_major": 2,
       "version_minor": 0
      },
      "text/plain": [
       "Boundary attack - iterations:   0%|          | 0/50 [00:00<?, ?it/s]"
      ]
     },
     "metadata": {},
     "output_type": "display_data"
    },
    {
     "data": {
      "application/vnd.jupyter.widget-view+json": {
       "model_id": "ed9ea44c81934249a2cd0fd19aad5d7b",
       "version_major": 2,
       "version_minor": 0
      },
      "text/plain": [
       "Boundary attack - iterations:   0%|          | 0/50 [00:00<?, ?it/s]"
      ]
     },
     "metadata": {},
     "output_type": "display_data"
    },
    {
     "data": {
      "application/vnd.jupyter.widget-view+json": {
       "model_id": "d9ba8987b01a4d1b97026a450dd8f8f5",
       "version_major": 2,
       "version_minor": 0
      },
      "text/plain": [
       "Boundary attack - iterations:   0%|          | 0/50 [00:00<?, ?it/s]"
      ]
     },
     "metadata": {},
     "output_type": "display_data"
    },
    {
     "data": {
      "application/vnd.jupyter.widget-view+json": {
       "model_id": "7bfe1c5c79674c50ab5889805fbf3f31",
       "version_major": 2,
       "version_minor": 0
      },
      "text/plain": [
       "Boundary attack - iterations:   0%|          | 0/50 [00:00<?, ?it/s]"
      ]
     },
     "metadata": {},
     "output_type": "display_data"
    },
    {
     "data": {
      "application/vnd.jupyter.widget-view+json": {
       "model_id": "04e8bcb93954439db9a2bd1eb524df87",
       "version_major": 2,
       "version_minor": 0
      },
      "text/plain": [
       "Boundary attack - iterations:   0%|          | 0/50 [00:00<?, ?it/s]"
      ]
     },
     "metadata": {},
     "output_type": "display_data"
    },
    {
     "data": {
      "application/vnd.jupyter.widget-view+json": {
       "model_id": "767e8fdcc27f4eeab1fcdd458040bd43",
       "version_major": 2,
       "version_minor": 0
      },
      "text/plain": [
       "Boundary attack - iterations:   0%|          | 0/50 [00:00<?, ?it/s]"
      ]
     },
     "metadata": {},
     "output_type": "display_data"
    },
    {
     "data": {
      "application/vnd.jupyter.widget-view+json": {
       "model_id": "adda6abfe01e4cdeb762b27680bd99da",
       "version_major": 2,
       "version_minor": 0
      },
      "text/plain": [
       "Boundary attack - iterations:   0%|          | 0/50 [00:00<?, ?it/s]"
      ]
     },
     "metadata": {},
     "output_type": "display_data"
    },
    {
     "data": {
      "application/vnd.jupyter.widget-view+json": {
       "model_id": "082e64d182cf4225b220dd93b355fba5",
       "version_major": 2,
       "version_minor": 0
      },
      "text/plain": [
       "Boundary attack - iterations:   0%|          | 0/50 [00:00<?, ?it/s]"
      ]
     },
     "metadata": {},
     "output_type": "display_data"
    },
    {
     "data": {
      "application/vnd.jupyter.widget-view+json": {
       "model_id": "e448df5a532041ed80b5bd2a89c8f973",
       "version_major": 2,
       "version_minor": 0
      },
      "text/plain": [
       "Boundary attack - iterations:   0%|          | 0/50 [00:00<?, ?it/s]"
      ]
     },
     "metadata": {},
     "output_type": "display_data"
    },
    {
     "data": {
      "application/vnd.jupyter.widget-view+json": {
       "model_id": "7a174893065d454e8b125433b55acc17",
       "version_major": 2,
       "version_minor": 0
      },
      "text/plain": [
       "Boundary attack - iterations:   0%|          | 0/50 [00:00<?, ?it/s]"
      ]
     },
     "metadata": {},
     "output_type": "display_data"
    },
    {
     "data": {
      "application/vnd.jupyter.widget-view+json": {
       "model_id": "dcf9e0720e4348b19be4818dce4a4f9b",
       "version_major": 2,
       "version_minor": 0
      },
      "text/plain": [
       "Boundary attack - iterations:   0%|          | 0/50 [00:00<?, ?it/s]"
      ]
     },
     "metadata": {},
     "output_type": "display_data"
    },
    {
     "data": {
      "application/vnd.jupyter.widget-view+json": {
       "model_id": "0950bc3e75f94df894133b7cc2185316",
       "version_major": 2,
       "version_minor": 0
      },
      "text/plain": [
       "Boundary attack - iterations:   0%|          | 0/50 [00:00<?, ?it/s]"
      ]
     },
     "metadata": {},
     "output_type": "display_data"
    },
    {
     "data": {
      "application/vnd.jupyter.widget-view+json": {
       "model_id": "459df9e7a82946c78e16dff138d9b164",
       "version_major": 2,
       "version_minor": 0
      },
      "text/plain": [
       "Boundary attack - iterations:   0%|          | 0/50 [00:00<?, ?it/s]"
      ]
     },
     "metadata": {},
     "output_type": "display_data"
    },
    {
     "data": {
      "application/vnd.jupyter.widget-view+json": {
       "model_id": "f4db381e75e14147a3c6bc84d0458c12",
       "version_major": 2,
       "version_minor": 0
      },
      "text/plain": [
       "Boundary attack - iterations:   0%|          | 0/50 [00:00<?, ?it/s]"
      ]
     },
     "metadata": {},
     "output_type": "display_data"
    },
    {
     "data": {
      "application/vnd.jupyter.widget-view+json": {
       "model_id": "9e8060152f784b0d8fc0f5a4ef9f7f02",
       "version_major": 2,
       "version_minor": 0
      },
      "text/plain": [
       "Boundary attack - iterations:   0%|          | 0/50 [00:00<?, ?it/s]"
      ]
     },
     "metadata": {},
     "output_type": "display_data"
    },
    {
     "data": {
      "application/vnd.jupyter.widget-view+json": {
       "model_id": "630039afb72140c08767f3c598f7ed1d",
       "version_major": 2,
       "version_minor": 0
      },
      "text/plain": [
       "Boundary attack - iterations:   0%|          | 0/50 [00:00<?, ?it/s]"
      ]
     },
     "metadata": {},
     "output_type": "display_data"
    },
    {
     "data": {
      "application/vnd.jupyter.widget-view+json": {
       "model_id": "70df21c8145c458ca744fc152c96d2c9",
       "version_major": 2,
       "version_minor": 0
      },
      "text/plain": [
       "Boundary attack - iterations:   0%|          | 0/50 [00:00<?, ?it/s]"
      ]
     },
     "metadata": {},
     "output_type": "display_data"
    },
    {
     "data": {
      "application/vnd.jupyter.widget-view+json": {
       "model_id": "8a87867ab6df4dba92748012c050215a",
       "version_major": 2,
       "version_minor": 0
      },
      "text/plain": [
       "Boundary attack - iterations:   0%|          | 0/50 [00:00<?, ?it/s]"
      ]
     },
     "metadata": {},
     "output_type": "display_data"
    },
    {
     "data": {
      "application/vnd.jupyter.widget-view+json": {
       "model_id": "90b34900a1364571be48f6d75d4a81c7",
       "version_major": 2,
       "version_minor": 0
      },
      "text/plain": [
       "Boundary attack - iterations:   0%|          | 0/50 [00:00<?, ?it/s]"
      ]
     },
     "metadata": {},
     "output_type": "display_data"
    },
    {
     "data": {
      "application/vnd.jupyter.widget-view+json": {
       "model_id": "0d32206588ce44c5b462fb41691a2e06",
       "version_major": 2,
       "version_minor": 0
      },
      "text/plain": [
       "Boundary attack - iterations:   0%|          | 0/50 [00:00<?, ?it/s]"
      ]
     },
     "metadata": {},
     "output_type": "display_data"
    },
    {
     "data": {
      "application/vnd.jupyter.widget-view+json": {
       "model_id": "f3943a99d7f64184a94864852f3872e3",
       "version_major": 2,
       "version_minor": 0
      },
      "text/plain": [
       "Boundary attack - iterations:   0%|          | 0/50 [00:00<?, ?it/s]"
      ]
     },
     "metadata": {},
     "output_type": "display_data"
    },
    {
     "data": {
      "application/vnd.jupyter.widget-view+json": {
       "model_id": "719322d22d7b4fcf96bf49ce6d770610",
       "version_major": 2,
       "version_minor": 0
      },
      "text/plain": [
       "Boundary attack - iterations:   0%|          | 0/50 [00:00<?, ?it/s]"
      ]
     },
     "metadata": {},
     "output_type": "display_data"
    },
    {
     "data": {
      "application/vnd.jupyter.widget-view+json": {
       "model_id": "72c8b048a0464f5fb1b89e7fe60f5f78",
       "version_major": 2,
       "version_minor": 0
      },
      "text/plain": [
       "Boundary attack - iterations:   0%|          | 0/50 [00:00<?, ?it/s]"
      ]
     },
     "metadata": {},
     "output_type": "display_data"
    },
    {
     "data": {
      "application/vnd.jupyter.widget-view+json": {
       "model_id": "4b47fb7a04a94669a5f2cd4450f88a9d",
       "version_major": 2,
       "version_minor": 0
      },
      "text/plain": [
       "Boundary attack - iterations:   0%|          | 0/50 [00:00<?, ?it/s]"
      ]
     },
     "metadata": {},
     "output_type": "display_data"
    },
    {
     "data": {
      "application/vnd.jupyter.widget-view+json": {
       "model_id": "ad01419fc07040b2933f441577b764ba",
       "version_major": 2,
       "version_minor": 0
      },
      "text/plain": [
       "Boundary attack - iterations:   0%|          | 0/50 [00:00<?, ?it/s]"
      ]
     },
     "metadata": {},
     "output_type": "display_data"
    },
    {
     "data": {
      "application/vnd.jupyter.widget-view+json": {
       "model_id": "11e4e45eab9b4e419bbc21277a9aaea4",
       "version_major": 2,
       "version_minor": 0
      },
      "text/plain": [
       "Boundary attack - iterations:   0%|          | 0/50 [00:00<?, ?it/s]"
      ]
     },
     "metadata": {},
     "output_type": "display_data"
    },
    {
     "data": {
      "application/vnd.jupyter.widget-view+json": {
       "model_id": "6a7e7b5f19444c9ba4a8a8f187eb27f7",
       "version_major": 2,
       "version_minor": 0
      },
      "text/plain": [
       "Boundary attack - iterations:   0%|          | 0/50 [00:00<?, ?it/s]"
      ]
     },
     "metadata": {},
     "output_type": "display_data"
    },
    {
     "data": {
      "application/vnd.jupyter.widget-view+json": {
       "model_id": "1d01a95c6e084dfc857d61a152fc7d38",
       "version_major": 2,
       "version_minor": 0
      },
      "text/plain": [
       "Boundary attack - iterations:   0%|          | 0/50 [00:00<?, ?it/s]"
      ]
     },
     "metadata": {},
     "output_type": "display_data"
    },
    {
     "data": {
      "application/vnd.jupyter.widget-view+json": {
       "model_id": "ed5589f7f4b24a53a115e768fb85cc65",
       "version_major": 2,
       "version_minor": 0
      },
      "text/plain": [
       "Boundary attack - iterations:   0%|          | 0/50 [00:00<?, ?it/s]"
      ]
     },
     "metadata": {},
     "output_type": "display_data"
    },
    {
     "data": {
      "application/vnd.jupyter.widget-view+json": {
       "model_id": "e97eb21aa09f48e293603c1c4202fb4e",
       "version_major": 2,
       "version_minor": 0
      },
      "text/plain": [
       "Boundary attack - iterations:   0%|          | 0/50 [00:00<?, ?it/s]"
      ]
     },
     "metadata": {},
     "output_type": "display_data"
    },
    {
     "data": {
      "application/vnd.jupyter.widget-view+json": {
       "model_id": "e0680db9cb31452babd5a838a8d00f23",
       "version_major": 2,
       "version_minor": 0
      },
      "text/plain": [
       "Boundary attack - iterations:   0%|          | 0/50 [00:00<?, ?it/s]"
      ]
     },
     "metadata": {},
     "output_type": "display_data"
    },
    {
     "data": {
      "application/vnd.jupyter.widget-view+json": {
       "model_id": "98da617671f54b1486f2341c732cacc8",
       "version_major": 2,
       "version_minor": 0
      },
      "text/plain": [
       "Boundary attack - iterations:   0%|          | 0/50 [00:00<?, ?it/s]"
      ]
     },
     "metadata": {},
     "output_type": "display_data"
    },
    {
     "data": {
      "application/vnd.jupyter.widget-view+json": {
       "model_id": "ab6fa11c84084a878cc1db0305a55eb8",
       "version_major": 2,
       "version_minor": 0
      },
      "text/plain": [
       "Boundary attack - iterations:   0%|          | 0/50 [00:00<?, ?it/s]"
      ]
     },
     "metadata": {},
     "output_type": "display_data"
    },
    {
     "data": {
      "application/vnd.jupyter.widget-view+json": {
       "model_id": "08f8e9a5d90345c7a1dec806a0b2583d",
       "version_major": 2,
       "version_minor": 0
      },
      "text/plain": [
       "Boundary attack - iterations:   0%|          | 0/50 [00:00<?, ?it/s]"
      ]
     },
     "metadata": {},
     "output_type": "display_data"
    },
    {
     "data": {
      "application/vnd.jupyter.widget-view+json": {
       "model_id": "bf543b2c730d4c01a946e70da8a3c904",
       "version_major": 2,
       "version_minor": 0
      },
      "text/plain": [
       "Boundary attack - iterations:   0%|          | 0/50 [00:00<?, ?it/s]"
      ]
     },
     "metadata": {},
     "output_type": "display_data"
    },
    {
     "data": {
      "application/vnd.jupyter.widget-view+json": {
       "model_id": "8899efd0f5a04f3899547b9fa89b199a",
       "version_major": 2,
       "version_minor": 0
      },
      "text/plain": [
       "Boundary attack - iterations:   0%|          | 0/50 [00:00<?, ?it/s]"
      ]
     },
     "metadata": {},
     "output_type": "display_data"
    },
    {
     "data": {
      "application/vnd.jupyter.widget-view+json": {
       "model_id": "49457392a5114f8fa460e7fdf448a44d",
       "version_major": 2,
       "version_minor": 0
      },
      "text/plain": [
       "Boundary attack - iterations:   0%|          | 0/50 [00:00<?, ?it/s]"
      ]
     },
     "metadata": {},
     "output_type": "display_data"
    },
    {
     "data": {
      "application/vnd.jupyter.widget-view+json": {
       "model_id": "2798d8a595eb43d1b1f3d32c0d78b58f",
       "version_major": 2,
       "version_minor": 0
      },
      "text/plain": [
       "Boundary attack - iterations:   0%|          | 0/50 [00:00<?, ?it/s]"
      ]
     },
     "metadata": {},
     "output_type": "display_data"
    },
    {
     "data": {
      "application/vnd.jupyter.widget-view+json": {
       "model_id": "84031320139e4743b41b1662f8f98bf1",
       "version_major": 2,
       "version_minor": 0
      },
      "text/plain": [
       "Boundary attack - iterations:   0%|          | 0/50 [00:00<?, ?it/s]"
      ]
     },
     "metadata": {},
     "output_type": "display_data"
    },
    {
     "data": {
      "application/vnd.jupyter.widget-view+json": {
       "model_id": "b701ef257d704e8aba878692612ee54b",
       "version_major": 2,
       "version_minor": 0
      },
      "text/plain": [
       "Boundary attack - iterations:   0%|          | 0/50 [00:00<?, ?it/s]"
      ]
     },
     "metadata": {},
     "output_type": "display_data"
    },
    {
     "data": {
      "application/vnd.jupyter.widget-view+json": {
       "model_id": "4cfc4f69e98d4576938412b6c212d426",
       "version_major": 2,
       "version_minor": 0
      },
      "text/plain": [
       "Boundary attack - iterations:   0%|          | 0/50 [00:00<?, ?it/s]"
      ]
     },
     "metadata": {},
     "output_type": "display_data"
    },
    {
     "data": {
      "application/vnd.jupyter.widget-view+json": {
       "model_id": "3374a753b57d4889b242fec551876243",
       "version_major": 2,
       "version_minor": 0
      },
      "text/plain": [
       "Boundary attack - iterations:   0%|          | 0/50 [00:00<?, ?it/s]"
      ]
     },
     "metadata": {},
     "output_type": "display_data"
    },
    {
     "data": {
      "application/vnd.jupyter.widget-view+json": {
       "model_id": "c09db98eacb54255a09211ecfb7a575b",
       "version_major": 2,
       "version_minor": 0
      },
      "text/plain": [
       "Boundary attack - iterations:   0%|          | 0/50 [00:00<?, ?it/s]"
      ]
     },
     "metadata": {},
     "output_type": "display_data"
    },
    {
     "data": {
      "application/vnd.jupyter.widget-view+json": {
       "model_id": "1b72975884444dda984ecfa477eee248",
       "version_major": 2,
       "version_minor": 0
      },
      "text/plain": [
       "Boundary attack - iterations:   0%|          | 0/50 [00:00<?, ?it/s]"
      ]
     },
     "metadata": {},
     "output_type": "display_data"
    },
    {
     "data": {
      "application/vnd.jupyter.widget-view+json": {
       "model_id": "2b12d15945994f74bc1f8f45b6f43887",
       "version_major": 2,
       "version_minor": 0
      },
      "text/plain": [
       "Boundary attack - iterations:   0%|          | 0/50 [00:00<?, ?it/s]"
      ]
     },
     "metadata": {},
     "output_type": "display_data"
    },
    {
     "data": {
      "application/vnd.jupyter.widget-view+json": {
       "model_id": "3ab5579bc5924060a41d3e67b4579cb6",
       "version_major": 2,
       "version_minor": 0
      },
      "text/plain": [
       "Boundary attack - iterations:   0%|          | 0/50 [00:00<?, ?it/s]"
      ]
     },
     "metadata": {},
     "output_type": "display_data"
    },
    {
     "data": {
      "application/vnd.jupyter.widget-view+json": {
       "model_id": "a8088db400ae40518e464146090758be",
       "version_major": 2,
       "version_minor": 0
      },
      "text/plain": [
       "Boundary attack - iterations:   0%|          | 0/50 [00:00<?, ?it/s]"
      ]
     },
     "metadata": {},
     "output_type": "display_data"
    },
    {
     "data": {
      "application/vnd.jupyter.widget-view+json": {
       "model_id": "cd2324df839f4ba09d5e1848cf4aec8f",
       "version_major": 2,
       "version_minor": 0
      },
      "text/plain": [
       "Boundary attack - iterations:   0%|          | 0/50 [00:00<?, ?it/s]"
      ]
     },
     "metadata": {},
     "output_type": "display_data"
    },
    {
     "data": {
      "application/vnd.jupyter.widget-view+json": {
       "model_id": "cc7201e1b1f542079f31578832e0836f",
       "version_major": 2,
       "version_minor": 0
      },
      "text/plain": [
       "Boundary attack - iterations:   0%|          | 0/50 [00:00<?, ?it/s]"
      ]
     },
     "metadata": {},
     "output_type": "display_data"
    },
    {
     "data": {
      "application/vnd.jupyter.widget-view+json": {
       "model_id": "996645d92e974131a59dae9dddda60cb",
       "version_major": 2,
       "version_minor": 0
      },
      "text/plain": [
       "Boundary attack - iterations:   0%|          | 0/50 [00:00<?, ?it/s]"
      ]
     },
     "metadata": {},
     "output_type": "display_data"
    },
    {
     "data": {
      "application/vnd.jupyter.widget-view+json": {
       "model_id": "f7b788b05cad4442b8041424846c7675",
       "version_major": 2,
       "version_minor": 0
      },
      "text/plain": [
       "Boundary attack - iterations:   0%|          | 0/50 [00:00<?, ?it/s]"
      ]
     },
     "metadata": {},
     "output_type": "display_data"
    },
    {
     "data": {
      "application/vnd.jupyter.widget-view+json": {
       "model_id": "1bf26eee6adb4e20bb7e6f400ed29259",
       "version_major": 2,
       "version_minor": 0
      },
      "text/plain": [
       "Boundary attack - iterations:   0%|          | 0/50 [00:00<?, ?it/s]"
      ]
     },
     "metadata": {},
     "output_type": "display_data"
    },
    {
     "data": {
      "application/vnd.jupyter.widget-view+json": {
       "model_id": "50c8fec4407b4c188ddb83d0e50afa39",
       "version_major": 2,
       "version_minor": 0
      },
      "text/plain": [
       "Boundary attack - iterations:   0%|          | 0/50 [00:00<?, ?it/s]"
      ]
     },
     "metadata": {},
     "output_type": "display_data"
    },
    {
     "data": {
      "application/vnd.jupyter.widget-view+json": {
       "model_id": "9cb20b1570f34128ba052f1e05d74895",
       "version_major": 2,
       "version_minor": 0
      },
      "text/plain": [
       "Boundary attack - iterations:   0%|          | 0/50 [00:00<?, ?it/s]"
      ]
     },
     "metadata": {},
     "output_type": "display_data"
    },
    {
     "data": {
      "application/vnd.jupyter.widget-view+json": {
       "model_id": "b35f01a7687e46ac85bb8c792e37ef5c",
       "version_major": 2,
       "version_minor": 0
      },
      "text/plain": [
       "Boundary attack - iterations:   0%|          | 0/50 [00:00<?, ?it/s]"
      ]
     },
     "metadata": {},
     "output_type": "display_data"
    },
    {
     "data": {
      "application/vnd.jupyter.widget-view+json": {
       "model_id": "5bb29b8b5d6c42e4a949664de4f02424",
       "version_major": 2,
       "version_minor": 0
      },
      "text/plain": [
       "Boundary attack - iterations:   0%|          | 0/50 [00:00<?, ?it/s]"
      ]
     },
     "metadata": {},
     "output_type": "display_data"
    },
    {
     "data": {
      "application/vnd.jupyter.widget-view+json": {
       "model_id": "214f21f88a944c81ae262d8d4caff87d",
       "version_major": 2,
       "version_minor": 0
      },
      "text/plain": [
       "Boundary attack - iterations:   0%|          | 0/50 [00:00<?, ?it/s]"
      ]
     },
     "metadata": {},
     "output_type": "display_data"
    },
    {
     "data": {
      "application/vnd.jupyter.widget-view+json": {
       "model_id": "4b9d3a87ca7a40aead9c58792ccdaa5d",
       "version_major": 2,
       "version_minor": 0
      },
      "text/plain": [
       "Boundary attack - iterations:   0%|          | 0/50 [00:00<?, ?it/s]"
      ]
     },
     "metadata": {},
     "output_type": "display_data"
    },
    {
     "data": {
      "application/vnd.jupyter.widget-view+json": {
       "model_id": "9a51d755f23b4eb28ebca2ca33ff0714",
       "version_major": 2,
       "version_minor": 0
      },
      "text/plain": [
       "Boundary attack - iterations:   0%|          | 0/50 [00:00<?, ?it/s]"
      ]
     },
     "metadata": {},
     "output_type": "display_data"
    },
    {
     "data": {
      "application/vnd.jupyter.widget-view+json": {
       "model_id": "2642905c094e4b869c8c2b209bb4a61f",
       "version_major": 2,
       "version_minor": 0
      },
      "text/plain": [
       "Boundary attack - iterations:   0%|          | 0/50 [00:00<?, ?it/s]"
      ]
     },
     "metadata": {},
     "output_type": "display_data"
    },
    {
     "data": {
      "application/vnd.jupyter.widget-view+json": {
       "model_id": "c2e0f919ff7d44feb95a15df2517e685",
       "version_major": 2,
       "version_minor": 0
      },
      "text/plain": [
       "Boundary attack - iterations:   0%|          | 0/50 [00:00<?, ?it/s]"
      ]
     },
     "metadata": {},
     "output_type": "display_data"
    },
    {
     "data": {
      "application/vnd.jupyter.widget-view+json": {
       "model_id": "38d6262890ff4e2d8adeb42252a74de0",
       "version_major": 2,
       "version_minor": 0
      },
      "text/plain": [
       "Boundary attack - iterations:   0%|          | 0/50 [00:00<?, ?it/s]"
      ]
     },
     "metadata": {},
     "output_type": "display_data"
    },
    {
     "data": {
      "application/vnd.jupyter.widget-view+json": {
       "model_id": "b12e9f16ae194ea5825d7c82c9b793fa",
       "version_major": 2,
       "version_minor": 0
      },
      "text/plain": [
       "Boundary attack - iterations:   0%|          | 0/50 [00:00<?, ?it/s]"
      ]
     },
     "metadata": {},
     "output_type": "display_data"
    },
    {
     "data": {
      "application/vnd.jupyter.widget-view+json": {
       "model_id": "9c771953eada490db71dffb80ac412bf",
       "version_major": 2,
       "version_minor": 0
      },
      "text/plain": [
       "Boundary attack - iterations:   0%|          | 0/50 [00:00<?, ?it/s]"
      ]
     },
     "metadata": {},
     "output_type": "display_data"
    },
    {
     "data": {
      "application/vnd.jupyter.widget-view+json": {
       "model_id": "1ff958688f5e40c6adb97e0f8ade7bda",
       "version_major": 2,
       "version_minor": 0
      },
      "text/plain": [
       "Boundary attack - iterations:   0%|          | 0/50 [00:00<?, ?it/s]"
      ]
     },
     "metadata": {},
     "output_type": "display_data"
    },
    {
     "data": {
      "application/vnd.jupyter.widget-view+json": {
       "model_id": "f19d024e2d6f48a29ac4d2e26b6fd3f9",
       "version_major": 2,
       "version_minor": 0
      },
      "text/plain": [
       "Boundary attack - iterations:   0%|          | 0/50 [00:00<?, ?it/s]"
      ]
     },
     "metadata": {},
     "output_type": "display_data"
    },
    {
     "data": {
      "application/vnd.jupyter.widget-view+json": {
       "model_id": "e2db5ace76b0465eafdeded12da1a08d",
       "version_major": 2,
       "version_minor": 0
      },
      "text/plain": [
       "Boundary attack - iterations:   0%|          | 0/50 [00:00<?, ?it/s]"
      ]
     },
     "metadata": {},
     "output_type": "display_data"
    },
    {
     "data": {
      "application/vnd.jupyter.widget-view+json": {
       "model_id": "3ea2774c879643d48d1acf238b3062c5",
       "version_major": 2,
       "version_minor": 0
      },
      "text/plain": [
       "Boundary attack - iterations:   0%|          | 0/50 [00:00<?, ?it/s]"
      ]
     },
     "metadata": {},
     "output_type": "display_data"
    },
    {
     "data": {
      "application/vnd.jupyter.widget-view+json": {
       "model_id": "5a48e29448854b928855016065eb660a",
       "version_major": 2,
       "version_minor": 0
      },
      "text/plain": [
       "Boundary attack - iterations:   0%|          | 0/50 [00:00<?, ?it/s]"
      ]
     },
     "metadata": {},
     "output_type": "display_data"
    },
    {
     "data": {
      "application/vnd.jupyter.widget-view+json": {
       "model_id": "5a44ff8022d147bfa402052fe917c93f",
       "version_major": 2,
       "version_minor": 0
      },
      "text/plain": [
       "Boundary attack - iterations:   0%|          | 0/50 [00:00<?, ?it/s]"
      ]
     },
     "metadata": {},
     "output_type": "display_data"
    },
    {
     "data": {
      "application/vnd.jupyter.widget-view+json": {
       "model_id": "ac6a4daab97c41daa2231cf2c0b9631c",
       "version_major": 2,
       "version_minor": 0
      },
      "text/plain": [
       "Boundary attack - iterations:   0%|          | 0/50 [00:00<?, ?it/s]"
      ]
     },
     "metadata": {},
     "output_type": "display_data"
    },
    {
     "data": {
      "application/vnd.jupyter.widget-view+json": {
       "model_id": "eefedd273ddd4327a8abdeb06540cd72",
       "version_major": 2,
       "version_minor": 0
      },
      "text/plain": [
       "Boundary attack - iterations:   0%|          | 0/50 [00:00<?, ?it/s]"
      ]
     },
     "metadata": {},
     "output_type": "display_data"
    },
    {
     "data": {
      "application/vnd.jupyter.widget-view+json": {
       "model_id": "8519cadc49154048af5218e5bda32c6b",
       "version_major": 2,
       "version_minor": 0
      },
      "text/plain": [
       "Boundary attack - iterations:   0%|          | 0/50 [00:00<?, ?it/s]"
      ]
     },
     "metadata": {},
     "output_type": "display_data"
    },
    {
     "data": {
      "application/vnd.jupyter.widget-view+json": {
       "model_id": "18b4f1528fcb4543b4fcaa0bd16211e0",
       "version_major": 2,
       "version_minor": 0
      },
      "text/plain": [
       "Boundary attack - iterations:   0%|          | 0/50 [00:00<?, ?it/s]"
      ]
     },
     "metadata": {},
     "output_type": "display_data"
    },
    {
     "data": {
      "application/vnd.jupyter.widget-view+json": {
       "model_id": "387289e56b5f470fa1ed298b6c81d678",
       "version_major": 2,
       "version_minor": 0
      },
      "text/plain": [
       "Boundary attack - iterations:   0%|          | 0/50 [00:00<?, ?it/s]"
      ]
     },
     "metadata": {},
     "output_type": "display_data"
    },
    {
     "data": {
      "application/vnd.jupyter.widget-view+json": {
       "model_id": "b46d5c280afa460a8699a4ba65a87649",
       "version_major": 2,
       "version_minor": 0
      },
      "text/plain": [
       "Boundary attack - iterations:   0%|          | 0/50 [00:00<?, ?it/s]"
      ]
     },
     "metadata": {},
     "output_type": "display_data"
    },
    {
     "data": {
      "application/vnd.jupyter.widget-view+json": {
       "model_id": "edd2df0ce4ee43a991a2e511b0c0d277",
       "version_major": 2,
       "version_minor": 0
      },
      "text/plain": [
       "Boundary attack - iterations:   0%|          | 0/50 [00:00<?, ?it/s]"
      ]
     },
     "metadata": {},
     "output_type": "display_data"
    },
    {
     "data": {
      "application/vnd.jupyter.widget-view+json": {
       "model_id": "53f1d5f09bb04624aa78fa96c93dc082",
       "version_major": 2,
       "version_minor": 0
      },
      "text/plain": [
       "Boundary attack - iterations:   0%|          | 0/50 [00:00<?, ?it/s]"
      ]
     },
     "metadata": {},
     "output_type": "display_data"
    },
    {
     "data": {
      "application/vnd.jupyter.widget-view+json": {
       "model_id": "2d21dcc4b88a4f459c361a35de267eca",
       "version_major": 2,
       "version_minor": 0
      },
      "text/plain": [
       "Boundary attack - iterations:   0%|          | 0/50 [00:00<?, ?it/s]"
      ]
     },
     "metadata": {},
     "output_type": "display_data"
    },
    {
     "data": {
      "application/vnd.jupyter.widget-view+json": {
       "model_id": "8d30edb2284f4000a48e0e7b698cdc81",
       "version_major": 2,
       "version_minor": 0
      },
      "text/plain": [
       "Boundary attack - iterations:   0%|          | 0/50 [00:00<?, ?it/s]"
      ]
     },
     "metadata": {},
     "output_type": "display_data"
    },
    {
     "data": {
      "application/vnd.jupyter.widget-view+json": {
       "model_id": "3b22c795934e4ef98d125d04b86ad90c",
       "version_major": 2,
       "version_minor": 0
      },
      "text/plain": [
       "Boundary attack - iterations:   0%|          | 0/50 [00:00<?, ?it/s]"
      ]
     },
     "metadata": {},
     "output_type": "display_data"
    },
    {
     "data": {
      "application/vnd.jupyter.widget-view+json": {
       "model_id": "0f055ddd106545e38ab446d44842975e",
       "version_major": 2,
       "version_minor": 0
      },
      "text/plain": [
       "Boundary attack - iterations:   0%|          | 0/50 [00:00<?, ?it/s]"
      ]
     },
     "metadata": {},
     "output_type": "display_data"
    },
    {
     "data": {
      "application/vnd.jupyter.widget-view+json": {
       "model_id": "bcd3fa7c07dc45cb906718679f23c095",
       "version_major": 2,
       "version_minor": 0
      },
      "text/plain": [
       "Boundary attack - iterations:   0%|          | 0/50 [00:00<?, ?it/s]"
      ]
     },
     "metadata": {},
     "output_type": "display_data"
    },
    {
     "data": {
      "application/vnd.jupyter.widget-view+json": {
       "model_id": "893e57cf0f944759a782c79936a2192c",
       "version_major": 2,
       "version_minor": 0
      },
      "text/plain": [
       "Boundary attack - iterations:   0%|          | 0/50 [00:00<?, ?it/s]"
      ]
     },
     "metadata": {},
     "output_type": "display_data"
    },
    {
     "data": {
      "application/vnd.jupyter.widget-view+json": {
       "model_id": "7e53a86b3d6a4e1dba2b27c794a469de",
       "version_major": 2,
       "version_minor": 0
      },
      "text/plain": [
       "Boundary attack - iterations:   0%|          | 0/50 [00:00<?, ?it/s]"
      ]
     },
     "metadata": {},
     "output_type": "display_data"
    },
    {
     "data": {
      "application/vnd.jupyter.widget-view+json": {
       "model_id": "a447e160d5004084b6f1c48edceb988d",
       "version_major": 2,
       "version_minor": 0
      },
      "text/plain": [
       "Boundary attack - iterations:   0%|          | 0/50 [00:00<?, ?it/s]"
      ]
     },
     "metadata": {},
     "output_type": "display_data"
    },
    {
     "data": {
      "application/vnd.jupyter.widget-view+json": {
       "model_id": "5f3032ac59594e7181729bd849522785",
       "version_major": 2,
       "version_minor": 0
      },
      "text/plain": [
       "Boundary attack - iterations:   0%|          | 0/50 [00:00<?, ?it/s]"
      ]
     },
     "metadata": {},
     "output_type": "display_data"
    },
    {
     "data": {
      "application/vnd.jupyter.widget-view+json": {
       "model_id": "61ee0c02e9104641bbdfca934966876e",
       "version_major": 2,
       "version_minor": 0
      },
      "text/plain": [
       "Boundary attack - iterations:   0%|          | 0/50 [00:00<?, ?it/s]"
      ]
     },
     "metadata": {},
     "output_type": "display_data"
    },
    {
     "data": {
      "application/vnd.jupyter.widget-view+json": {
       "model_id": "4fa4d10df1514957859b9afb77cd3ba9",
       "version_major": 2,
       "version_minor": 0
      },
      "text/plain": [
       "Boundary attack - iterations:   0%|          | 0/50 [00:00<?, ?it/s]"
      ]
     },
     "metadata": {},
     "output_type": "display_data"
    },
    {
     "data": {
      "application/vnd.jupyter.widget-view+json": {
       "model_id": "3b1bc84685c046e1b320fb0294c90faa",
       "version_major": 2,
       "version_minor": 0
      },
      "text/plain": [
       "Boundary attack - iterations:   0%|          | 0/50 [00:00<?, ?it/s]"
      ]
     },
     "metadata": {},
     "output_type": "display_data"
    },
    {
     "data": {
      "application/vnd.jupyter.widget-view+json": {
       "model_id": "3eef9ea8c79c4fff9d8af9aa91b5ab0a",
       "version_major": 2,
       "version_minor": 0
      },
      "text/plain": [
       "Boundary attack - iterations:   0%|          | 0/50 [00:00<?, ?it/s]"
      ]
     },
     "metadata": {},
     "output_type": "display_data"
    },
    {
     "data": {
      "application/vnd.jupyter.widget-view+json": {
       "model_id": "ac70ccf906794fbe81ea59c469b48cb5",
       "version_major": 2,
       "version_minor": 0
      },
      "text/plain": [
       "Boundary attack - iterations:   0%|          | 0/50 [00:00<?, ?it/s]"
      ]
     },
     "metadata": {},
     "output_type": "display_data"
    },
    {
     "data": {
      "application/vnd.jupyter.widget-view+json": {
       "model_id": "caaa471bb8eb4d4fb11fbb0de8dfeb6d",
       "version_major": 2,
       "version_minor": 0
      },
      "text/plain": [
       "Boundary attack - iterations:   0%|          | 0/50 [00:00<?, ?it/s]"
      ]
     },
     "metadata": {},
     "output_type": "display_data"
    },
    {
     "data": {
      "application/vnd.jupyter.widget-view+json": {
       "model_id": "51748160690649fcb43df903a3a4e3b5",
       "version_major": 2,
       "version_minor": 0
      },
      "text/plain": [
       "Boundary attack - iterations:   0%|          | 0/50 [00:00<?, ?it/s]"
      ]
     },
     "metadata": {},
     "output_type": "display_data"
    },
    {
     "data": {
      "application/vnd.jupyter.widget-view+json": {
       "model_id": "214629d6940a4b8aacbc266864dbd695",
       "version_major": 2,
       "version_minor": 0
      },
      "text/plain": [
       "Boundary attack - iterations:   0%|          | 0/50 [00:00<?, ?it/s]"
      ]
     },
     "metadata": {},
     "output_type": "display_data"
    },
    {
     "data": {
      "application/vnd.jupyter.widget-view+json": {
       "model_id": "b8b7161e93bb474a97c0b37581730701",
       "version_major": 2,
       "version_minor": 0
      },
      "text/plain": [
       "Boundary attack - iterations:   0%|          | 0/50 [00:00<?, ?it/s]"
      ]
     },
     "metadata": {},
     "output_type": "display_data"
    },
    {
     "data": {
      "application/vnd.jupyter.widget-view+json": {
       "model_id": "a11830f4218b44df86b842e81419fd25",
       "version_major": 2,
       "version_minor": 0
      },
      "text/plain": [
       "Boundary attack - iterations:   0%|          | 0/50 [00:00<?, ?it/s]"
      ]
     },
     "metadata": {},
     "output_type": "display_data"
    },
    {
     "data": {
      "application/vnd.jupyter.widget-view+json": {
       "model_id": "eab2660ccf9740d1b1f5cfc61062dd69",
       "version_major": 2,
       "version_minor": 0
      },
      "text/plain": [
       "Boundary attack - iterations:   0%|          | 0/50 [00:00<?, ?it/s]"
      ]
     },
     "metadata": {},
     "output_type": "display_data"
    },
    {
     "data": {
      "application/vnd.jupyter.widget-view+json": {
       "model_id": "9ae51449d45845f88f3018e070cde5e5",
       "version_major": 2,
       "version_minor": 0
      },
      "text/plain": [
       "Boundary attack - iterations:   0%|          | 0/50 [00:00<?, ?it/s]"
      ]
     },
     "metadata": {},
     "output_type": "display_data"
    },
    {
     "data": {
      "application/vnd.jupyter.widget-view+json": {
       "model_id": "64574a71f6414bb0a1d298ef096cdd09",
       "version_major": 2,
       "version_minor": 0
      },
      "text/plain": [
       "Boundary attack - iterations:   0%|          | 0/50 [00:00<?, ?it/s]"
      ]
     },
     "metadata": {},
     "output_type": "display_data"
    },
    {
     "data": {
      "application/vnd.jupyter.widget-view+json": {
       "model_id": "af1ce28063b84146ba2f6997b8497f0d",
       "version_major": 2,
       "version_minor": 0
      },
      "text/plain": [
       "Boundary attack - iterations:   0%|          | 0/50 [00:00<?, ?it/s]"
      ]
     },
     "metadata": {},
     "output_type": "display_data"
    },
    {
     "data": {
      "application/vnd.jupyter.widget-view+json": {
       "model_id": "052979e4ec294ae1a2a5477ea069e303",
       "version_major": 2,
       "version_minor": 0
      },
      "text/plain": [
       "Boundary attack - iterations:   0%|          | 0/50 [00:00<?, ?it/s]"
      ]
     },
     "metadata": {},
     "output_type": "display_data"
    },
    {
     "data": {
      "application/vnd.jupyter.widget-view+json": {
       "model_id": "186bee0baaec48319dc3a318c84a2ec7",
       "version_major": 2,
       "version_minor": 0
      },
      "text/plain": [
       "Boundary attack - iterations:   0%|          | 0/50 [00:00<?, ?it/s]"
      ]
     },
     "metadata": {},
     "output_type": "display_data"
    },
    {
     "data": {
      "application/vnd.jupyter.widget-view+json": {
       "model_id": "9adaa98b35f141de8754cf61f7998295",
       "version_major": 2,
       "version_minor": 0
      },
      "text/plain": [
       "Boundary attack - iterations:   0%|          | 0/50 [00:00<?, ?it/s]"
      ]
     },
     "metadata": {},
     "output_type": "display_data"
    },
    {
     "data": {
      "application/vnd.jupyter.widget-view+json": {
       "model_id": "3460a0a9b72346cf94a61ba40b8b632c",
       "version_major": 2,
       "version_minor": 0
      },
      "text/plain": [
       "Boundary attack - iterations:   0%|          | 0/50 [00:00<?, ?it/s]"
      ]
     },
     "metadata": {},
     "output_type": "display_data"
    },
    {
     "data": {
      "application/vnd.jupyter.widget-view+json": {
       "model_id": "205c61cf5b4b4a6b8a784bd0ab4cb40d",
       "version_major": 2,
       "version_minor": 0
      },
      "text/plain": [
       "Boundary attack - iterations:   0%|          | 0/50 [00:00<?, ?it/s]"
      ]
     },
     "metadata": {},
     "output_type": "display_data"
    },
    {
     "data": {
      "application/vnd.jupyter.widget-view+json": {
       "model_id": "1f3668b9971e451ab2e1d9fa46d2cbb9",
       "version_major": 2,
       "version_minor": 0
      },
      "text/plain": [
       "Boundary attack - iterations:   0%|          | 0/50 [00:00<?, ?it/s]"
      ]
     },
     "metadata": {},
     "output_type": "display_data"
    },
    {
     "data": {
      "application/vnd.jupyter.widget-view+json": {
       "model_id": "e14d4fd6daa945e6bcf59090f844a65f",
       "version_major": 2,
       "version_minor": 0
      },
      "text/plain": [
       "Boundary attack - iterations:   0%|          | 0/50 [00:00<?, ?it/s]"
      ]
     },
     "metadata": {},
     "output_type": "display_data"
    },
    {
     "data": {
      "application/vnd.jupyter.widget-view+json": {
       "model_id": "86872b3bac3148b6acd920c844ff8307",
       "version_major": 2,
       "version_minor": 0
      },
      "text/plain": [
       "Boundary attack - iterations:   0%|          | 0/50 [00:00<?, ?it/s]"
      ]
     },
     "metadata": {},
     "output_type": "display_data"
    },
    {
     "data": {
      "application/vnd.jupyter.widget-view+json": {
       "model_id": "4a8c7be682f84b6ab8eec5e2a71968d3",
       "version_major": 2,
       "version_minor": 0
      },
      "text/plain": [
       "Boundary attack - iterations:   0%|          | 0/50 [00:00<?, ?it/s]"
      ]
     },
     "metadata": {},
     "output_type": "display_data"
    },
    {
     "data": {
      "application/vnd.jupyter.widget-view+json": {
       "model_id": "3d02ad81fa8643c89c0ac154d63edde6",
       "version_major": 2,
       "version_minor": 0
      },
      "text/plain": [
       "Boundary attack - iterations:   0%|          | 0/50 [00:00<?, ?it/s]"
      ]
     },
     "metadata": {},
     "output_type": "display_data"
    },
    {
     "data": {
      "application/vnd.jupyter.widget-view+json": {
       "model_id": "1e9fc32d7fed4b729dd79cc0ffc6b1bb",
       "version_major": 2,
       "version_minor": 0
      },
      "text/plain": [
       "Boundary attack - iterations:   0%|          | 0/50 [00:00<?, ?it/s]"
      ]
     },
     "metadata": {},
     "output_type": "display_data"
    },
    {
     "data": {
      "application/vnd.jupyter.widget-view+json": {
       "model_id": "5fdcb644a7224e02845bcb3c86db6011",
       "version_major": 2,
       "version_minor": 0
      },
      "text/plain": [
       "Boundary attack - iterations:   0%|          | 0/50 [00:00<?, ?it/s]"
      ]
     },
     "metadata": {},
     "output_type": "display_data"
    },
    {
     "data": {
      "application/vnd.jupyter.widget-view+json": {
       "model_id": "d16902e9ce604c2db39e31baf252ada9",
       "version_major": 2,
       "version_minor": 0
      },
      "text/plain": [
       "Boundary attack - iterations:   0%|          | 0/50 [00:00<?, ?it/s]"
      ]
     },
     "metadata": {},
     "output_type": "display_data"
    },
    {
     "data": {
      "application/vnd.jupyter.widget-view+json": {
       "model_id": "4a0b558a621c49688f02dfac73d47618",
       "version_major": 2,
       "version_minor": 0
      },
      "text/plain": [
       "Boundary attack - iterations:   0%|          | 0/50 [00:00<?, ?it/s]"
      ]
     },
     "metadata": {},
     "output_type": "display_data"
    },
    {
     "data": {
      "application/vnd.jupyter.widget-view+json": {
       "model_id": "53b81bd5c61a4be3af9b651c9d5f64e9",
       "version_major": 2,
       "version_minor": 0
      },
      "text/plain": [
       "Boundary attack - iterations:   0%|          | 0/50 [00:00<?, ?it/s]"
      ]
     },
     "metadata": {},
     "output_type": "display_data"
    },
    {
     "data": {
      "application/vnd.jupyter.widget-view+json": {
       "model_id": "d5263c02100943379b10e847b9be706f",
       "version_major": 2,
       "version_minor": 0
      },
      "text/plain": [
       "Boundary attack - iterations:   0%|          | 0/50 [00:00<?, ?it/s]"
      ]
     },
     "metadata": {},
     "output_type": "display_data"
    },
    {
     "data": {
      "application/vnd.jupyter.widget-view+json": {
       "model_id": "7f2ceafdfe68402db27d579cb1f5b98d",
       "version_major": 2,
       "version_minor": 0
      },
      "text/plain": [
       "Boundary attack - iterations:   0%|          | 0/50 [00:00<?, ?it/s]"
      ]
     },
     "metadata": {},
     "output_type": "display_data"
    },
    {
     "data": {
      "application/vnd.jupyter.widget-view+json": {
       "model_id": "eace7484018f467aa45ef73012d7c69e",
       "version_major": 2,
       "version_minor": 0
      },
      "text/plain": [
       "Boundary attack - iterations:   0%|          | 0/50 [00:00<?, ?it/s]"
      ]
     },
     "metadata": {},
     "output_type": "display_data"
    },
    {
     "data": {
      "application/vnd.jupyter.widget-view+json": {
       "model_id": "719c42dc96e5406bacf4e6d8da92d9db",
       "version_major": 2,
       "version_minor": 0
      },
      "text/plain": [
       "Boundary attack - iterations:   0%|          | 0/50 [00:00<?, ?it/s]"
      ]
     },
     "metadata": {},
     "output_type": "display_data"
    },
    {
     "data": {
      "application/vnd.jupyter.widget-view+json": {
       "model_id": "a4c9cdd9e7c6475598b1d5f567369c4a",
       "version_major": 2,
       "version_minor": 0
      },
      "text/plain": [
       "Boundary attack - iterations:   0%|          | 0/50 [00:00<?, ?it/s]"
      ]
     },
     "metadata": {},
     "output_type": "display_data"
    },
    {
     "data": {
      "application/vnd.jupyter.widget-view+json": {
       "model_id": "45b858ea9bfc41b9a9ecd2c223920e02",
       "version_major": 2,
       "version_minor": 0
      },
      "text/plain": [
       "Boundary attack - iterations:   0%|          | 0/50 [00:00<?, ?it/s]"
      ]
     },
     "metadata": {},
     "output_type": "display_data"
    },
    {
     "data": {
      "application/vnd.jupyter.widget-view+json": {
       "model_id": "092972075ad345b8b03ad60f32a6d883",
       "version_major": 2,
       "version_minor": 0
      },
      "text/plain": [
       "Boundary attack - iterations:   0%|          | 0/50 [00:00<?, ?it/s]"
      ]
     },
     "metadata": {},
     "output_type": "display_data"
    },
    {
     "data": {
      "application/vnd.jupyter.widget-view+json": {
       "model_id": "8ab6ce9b83d042a29a3ceddacd7a8e72",
       "version_major": 2,
       "version_minor": 0
      },
      "text/plain": [
       "Boundary attack - iterations:   0%|          | 0/50 [00:00<?, ?it/s]"
      ]
     },
     "metadata": {},
     "output_type": "display_data"
    },
    {
     "data": {
      "application/vnd.jupyter.widget-view+json": {
       "model_id": "ab72b40891484765bf97a86dd318d9d6",
       "version_major": 2,
       "version_minor": 0
      },
      "text/plain": [
       "Boundary attack - iterations:   0%|          | 0/50 [00:00<?, ?it/s]"
      ]
     },
     "metadata": {},
     "output_type": "display_data"
    },
    {
     "data": {
      "application/vnd.jupyter.widget-view+json": {
       "model_id": "3c92da1a80264c52a58f57d44a8dd166",
       "version_major": 2,
       "version_minor": 0
      },
      "text/plain": [
       "Boundary attack - iterations:   0%|          | 0/50 [00:00<?, ?it/s]"
      ]
     },
     "metadata": {},
     "output_type": "display_data"
    },
    {
     "data": {
      "application/vnd.jupyter.widget-view+json": {
       "model_id": "22cf203787cf480ea561db0fdb10fa4e",
       "version_major": 2,
       "version_minor": 0
      },
      "text/plain": [
       "Boundary attack - iterations:   0%|          | 0/50 [00:00<?, ?it/s]"
      ]
     },
     "metadata": {},
     "output_type": "display_data"
    },
    {
     "data": {
      "application/vnd.jupyter.widget-view+json": {
       "model_id": "0df08aa84b90487598d3c82afbcf77bd",
       "version_major": 2,
       "version_minor": 0
      },
      "text/plain": [
       "Boundary attack - iterations:   0%|          | 0/50 [00:00<?, ?it/s]"
      ]
     },
     "metadata": {},
     "output_type": "display_data"
    },
    {
     "data": {
      "application/vnd.jupyter.widget-view+json": {
       "model_id": "db9de08924a2413abbb5a26661362cfa",
       "version_major": 2,
       "version_minor": 0
      },
      "text/plain": [
       "Boundary attack - iterations:   0%|          | 0/50 [00:00<?, ?it/s]"
      ]
     },
     "metadata": {},
     "output_type": "display_data"
    },
    {
     "data": {
      "application/vnd.jupyter.widget-view+json": {
       "model_id": "93c7dead7f7f402788bf917837718694",
       "version_major": 2,
       "version_minor": 0
      },
      "text/plain": [
       "Boundary attack - iterations:   0%|          | 0/50 [00:00<?, ?it/s]"
      ]
     },
     "metadata": {},
     "output_type": "display_data"
    },
    {
     "data": {
      "application/vnd.jupyter.widget-view+json": {
       "model_id": "c6084cf9670a4a6bbc754c8ea6035159",
       "version_major": 2,
       "version_minor": 0
      },
      "text/plain": [
       "Boundary attack - iterations:   0%|          | 0/50 [00:00<?, ?it/s]"
      ]
     },
     "metadata": {},
     "output_type": "display_data"
    },
    {
     "data": {
      "application/vnd.jupyter.widget-view+json": {
       "model_id": "a6420ae3174f403f8ec231900a500abc",
       "version_major": 2,
       "version_minor": 0
      },
      "text/plain": [
       "Boundary attack - iterations:   0%|          | 0/50 [00:00<?, ?it/s]"
      ]
     },
     "metadata": {},
     "output_type": "display_data"
    },
    {
     "data": {
      "application/vnd.jupyter.widget-view+json": {
       "model_id": "9b91c1e25c62418bbd598d13d09a69ce",
       "version_major": 2,
       "version_minor": 0
      },
      "text/plain": [
       "Boundary attack - iterations:   0%|          | 0/50 [00:00<?, ?it/s]"
      ]
     },
     "metadata": {},
     "output_type": "display_data"
    },
    {
     "data": {
      "application/vnd.jupyter.widget-view+json": {
       "model_id": "60f9965e6ca94211b8239fa1202060d1",
       "version_major": 2,
       "version_minor": 0
      },
      "text/plain": [
       "Boundary attack - iterations:   0%|          | 0/50 [00:00<?, ?it/s]"
      ]
     },
     "metadata": {},
     "output_type": "display_data"
    },
    {
     "data": {
      "application/vnd.jupyter.widget-view+json": {
       "model_id": "a5f96761c27f4878a4bce775a3736521",
       "version_major": 2,
       "version_minor": 0
      },
      "text/plain": [
       "Boundary attack - iterations:   0%|          | 0/50 [00:00<?, ?it/s]"
      ]
     },
     "metadata": {},
     "output_type": "display_data"
    },
    {
     "data": {
      "application/vnd.jupyter.widget-view+json": {
       "model_id": "6f39ff7c2d9e46f09bb575e46dc282cb",
       "version_major": 2,
       "version_minor": 0
      },
      "text/plain": [
       "Boundary attack - iterations:   0%|          | 0/50 [00:00<?, ?it/s]"
      ]
     },
     "metadata": {},
     "output_type": "display_data"
    },
    {
     "data": {
      "application/vnd.jupyter.widget-view+json": {
       "model_id": "1d42cac9ccfe4c5b996c4577f6a7ebdb",
       "version_major": 2,
       "version_minor": 0
      },
      "text/plain": [
       "Boundary attack - iterations:   0%|          | 0/50 [00:00<?, ?it/s]"
      ]
     },
     "metadata": {},
     "output_type": "display_data"
    },
    {
     "data": {
      "application/vnd.jupyter.widget-view+json": {
       "model_id": "8fbc1a65e12d418ba79dfa8fc79c437e",
       "version_major": 2,
       "version_minor": 0
      },
      "text/plain": [
       "Boundary attack - iterations:   0%|          | 0/50 [00:00<?, ?it/s]"
      ]
     },
     "metadata": {},
     "output_type": "display_data"
    },
    {
     "data": {
      "application/vnd.jupyter.widget-view+json": {
       "model_id": "0e5b206862484003be9ad3082a09e7b5",
       "version_major": 2,
       "version_minor": 0
      },
      "text/plain": [
       "Boundary attack - iterations:   0%|          | 0/50 [00:00<?, ?it/s]"
      ]
     },
     "metadata": {},
     "output_type": "display_data"
    },
    {
     "data": {
      "application/vnd.jupyter.widget-view+json": {
       "model_id": "7f17b4fb5d08489b97dc33d31f66f064",
       "version_major": 2,
       "version_minor": 0
      },
      "text/plain": [
       "Boundary attack - iterations:   0%|          | 0/50 [00:00<?, ?it/s]"
      ]
     },
     "metadata": {},
     "output_type": "display_data"
    },
    {
     "data": {
      "application/vnd.jupyter.widget-view+json": {
       "model_id": "2a3be2f5a81b49a49c4c8a6f81b6a7eb",
       "version_major": 2,
       "version_minor": 0
      },
      "text/plain": [
       "Boundary attack - iterations:   0%|          | 0/50 [00:00<?, ?it/s]"
      ]
     },
     "metadata": {},
     "output_type": "display_data"
    },
    {
     "data": {
      "application/vnd.jupyter.widget-view+json": {
       "model_id": "9058580f1be64d0cb92431cd9dc0aa50",
       "version_major": 2,
       "version_minor": 0
      },
      "text/plain": [
       "Boundary attack - iterations:   0%|          | 0/50 [00:00<?, ?it/s]"
      ]
     },
     "metadata": {},
     "output_type": "display_data"
    },
    {
     "data": {
      "application/vnd.jupyter.widget-view+json": {
       "model_id": "3c2823a185c74f189afa6b9ff5c87e44",
       "version_major": 2,
       "version_minor": 0
      },
      "text/plain": [
       "Boundary attack - iterations:   0%|          | 0/50 [00:00<?, ?it/s]"
      ]
     },
     "metadata": {},
     "output_type": "display_data"
    },
    {
     "data": {
      "application/vnd.jupyter.widget-view+json": {
       "model_id": "12445861a6a842b990fbd63ec96ae6b5",
       "version_major": 2,
       "version_minor": 0
      },
      "text/plain": [
       "Boundary attack - iterations:   0%|          | 0/50 [00:00<?, ?it/s]"
      ]
     },
     "metadata": {},
     "output_type": "display_data"
    },
    {
     "data": {
      "application/vnd.jupyter.widget-view+json": {
       "model_id": "a01e9d625b74498f96a3d724d9252de8",
       "version_major": 2,
       "version_minor": 0
      },
      "text/plain": [
       "Boundary attack - iterations:   0%|          | 0/50 [00:00<?, ?it/s]"
      ]
     },
     "metadata": {},
     "output_type": "display_data"
    },
    {
     "data": {
      "application/vnd.jupyter.widget-view+json": {
       "model_id": "328b223628f44c6a8b7246368162b027",
       "version_major": 2,
       "version_minor": 0
      },
      "text/plain": [
       "Boundary attack - iterations:   0%|          | 0/50 [00:00<?, ?it/s]"
      ]
     },
     "metadata": {},
     "output_type": "display_data"
    },
    {
     "data": {
      "application/vnd.jupyter.widget-view+json": {
       "model_id": "c48d526a48464b8487173d4f0d440654",
       "version_major": 2,
       "version_minor": 0
      },
      "text/plain": [
       "Boundary attack - iterations:   0%|          | 0/50 [00:00<?, ?it/s]"
      ]
     },
     "metadata": {},
     "output_type": "display_data"
    },
    {
     "data": {
      "application/vnd.jupyter.widget-view+json": {
       "model_id": "164a6b4bcd934464b2c5eeb720f9e2c6",
       "version_major": 2,
       "version_minor": 0
      },
      "text/plain": [
       "Boundary attack - iterations:   0%|          | 0/50 [00:00<?, ?it/s]"
      ]
     },
     "metadata": {},
     "output_type": "display_data"
    },
    {
     "data": {
      "application/vnd.jupyter.widget-view+json": {
       "model_id": "e2ad903373914368802430cb71049a87",
       "version_major": 2,
       "version_minor": 0
      },
      "text/plain": [
       "Boundary attack - iterations:   0%|          | 0/50 [00:00<?, ?it/s]"
      ]
     },
     "metadata": {},
     "output_type": "display_data"
    },
    {
     "data": {
      "application/vnd.jupyter.widget-view+json": {
       "model_id": "e1b2172adced42619f2cd5e45b13b3fb",
       "version_major": 2,
       "version_minor": 0
      },
      "text/plain": [
       "Boundary attack - iterations:   0%|          | 0/50 [00:00<?, ?it/s]"
      ]
     },
     "metadata": {},
     "output_type": "display_data"
    },
    {
     "data": {
      "application/vnd.jupyter.widget-view+json": {
       "model_id": "8d7823275cff45ba91b2771e799898bd",
       "version_major": 2,
       "version_minor": 0
      },
      "text/plain": [
       "Boundary attack - iterations:   0%|          | 0/50 [00:00<?, ?it/s]"
      ]
     },
     "metadata": {},
     "output_type": "display_data"
    },
    {
     "data": {
      "application/vnd.jupyter.widget-view+json": {
       "model_id": "c52d30bef2a74b2aa2fd74cb10448e3b",
       "version_major": 2,
       "version_minor": 0
      },
      "text/plain": [
       "Boundary attack - iterations:   0%|          | 0/50 [00:00<?, ?it/s]"
      ]
     },
     "metadata": {},
     "output_type": "display_data"
    },
    {
     "data": {
      "application/vnd.jupyter.widget-view+json": {
       "model_id": "d3c48655f8d742b9baf1433263ced789",
       "version_major": 2,
       "version_minor": 0
      },
      "text/plain": [
       "Boundary attack - iterations:   0%|          | 0/50 [00:00<?, ?it/s]"
      ]
     },
     "metadata": {},
     "output_type": "display_data"
    },
    {
     "data": {
      "application/vnd.jupyter.widget-view+json": {
       "model_id": "4e72048431c44ed5846d98749ebff102",
       "version_major": 2,
       "version_minor": 0
      },
      "text/plain": [
       "Boundary attack - iterations:   0%|          | 0/50 [00:00<?, ?it/s]"
      ]
     },
     "metadata": {},
     "output_type": "display_data"
    },
    {
     "data": {
      "application/vnd.jupyter.widget-view+json": {
       "model_id": "77b72ac662914a138f540cde1f3e56d1",
       "version_major": 2,
       "version_minor": 0
      },
      "text/plain": [
       "Boundary attack - iterations:   0%|          | 0/50 [00:00<?, ?it/s]"
      ]
     },
     "metadata": {},
     "output_type": "display_data"
    },
    {
     "data": {
      "application/vnd.jupyter.widget-view+json": {
       "model_id": "31220eae1091408386e84008d7c9370a",
       "version_major": 2,
       "version_minor": 0
      },
      "text/plain": [
       "Boundary attack - iterations:   0%|          | 0/50 [00:00<?, ?it/s]"
      ]
     },
     "metadata": {},
     "output_type": "display_data"
    },
    {
     "data": {
      "application/vnd.jupyter.widget-view+json": {
       "model_id": "436306565e5b4eb58f4da45f7211337f",
       "version_major": 2,
       "version_minor": 0
      },
      "text/plain": [
       "Boundary attack - iterations:   0%|          | 0/50 [00:00<?, ?it/s]"
      ]
     },
     "metadata": {},
     "output_type": "display_data"
    },
    {
     "data": {
      "application/vnd.jupyter.widget-view+json": {
       "model_id": "8bc8225fac284c6cbbd13e0cd0cdc2ec",
       "version_major": 2,
       "version_minor": 0
      },
      "text/plain": [
       "Boundary attack - iterations:   0%|          | 0/50 [00:00<?, ?it/s]"
      ]
     },
     "metadata": {},
     "output_type": "display_data"
    },
    {
     "data": {
      "application/vnd.jupyter.widget-view+json": {
       "model_id": "53d9e6e081f04744b381fd1481b51e0a",
       "version_major": 2,
       "version_minor": 0
      },
      "text/plain": [
       "Boundary attack - iterations:   0%|          | 0/50 [00:00<?, ?it/s]"
      ]
     },
     "metadata": {},
     "output_type": "display_data"
    },
    {
     "data": {
      "application/vnd.jupyter.widget-view+json": {
       "model_id": "cee27d4503f5485bac13471009df488f",
       "version_major": 2,
       "version_minor": 0
      },
      "text/plain": [
       "Boundary attack - iterations:   0%|          | 0/50 [00:00<?, ?it/s]"
      ]
     },
     "metadata": {},
     "output_type": "display_data"
    },
    {
     "data": {
      "application/vnd.jupyter.widget-view+json": {
       "model_id": "2b3b74d093cf4e78a49a6cfa5a189742",
       "version_major": 2,
       "version_minor": 0
      },
      "text/plain": [
       "Boundary attack - iterations:   0%|          | 0/50 [00:00<?, ?it/s]"
      ]
     },
     "metadata": {},
     "output_type": "display_data"
    },
    {
     "data": {
      "application/vnd.jupyter.widget-view+json": {
       "model_id": "a882e68365e54be5bba8870118ef5c7c",
       "version_major": 2,
       "version_minor": 0
      },
      "text/plain": [
       "Boundary attack - iterations:   0%|          | 0/50 [00:00<?, ?it/s]"
      ]
     },
     "metadata": {},
     "output_type": "display_data"
    },
    {
     "data": {
      "application/vnd.jupyter.widget-view+json": {
       "model_id": "b914403bbd7f46e8a234dded29d20815",
       "version_major": 2,
       "version_minor": 0
      },
      "text/plain": [
       "Boundary attack - iterations:   0%|          | 0/50 [00:00<?, ?it/s]"
      ]
     },
     "metadata": {},
     "output_type": "display_data"
    },
    {
     "data": {
      "application/vnd.jupyter.widget-view+json": {
       "model_id": "0997fe8b903d461b829631eff299683d",
       "version_major": 2,
       "version_minor": 0
      },
      "text/plain": [
       "Boundary attack - iterations:   0%|          | 0/50 [00:00<?, ?it/s]"
      ]
     },
     "metadata": {},
     "output_type": "display_data"
    },
    {
     "data": {
      "application/vnd.jupyter.widget-view+json": {
       "model_id": "f902c8ceffcf4f7d921f2f1a3854045d",
       "version_major": 2,
       "version_minor": 0
      },
      "text/plain": [
       "Boundary attack - iterations:   0%|          | 0/50 [00:00<?, ?it/s]"
      ]
     },
     "metadata": {},
     "output_type": "display_data"
    },
    {
     "data": {
      "application/vnd.jupyter.widget-view+json": {
       "model_id": "3025aa924b98442abd8b1c55b1611c3a",
       "version_major": 2,
       "version_minor": 0
      },
      "text/plain": [
       "Boundary attack - iterations:   0%|          | 0/50 [00:00<?, ?it/s]"
      ]
     },
     "metadata": {},
     "output_type": "display_data"
    },
    {
     "data": {
      "application/vnd.jupyter.widget-view+json": {
       "model_id": "06be413d2d1c4985990d5c1000efbdc7",
       "version_major": 2,
       "version_minor": 0
      },
      "text/plain": [
       "Boundary attack - iterations:   0%|          | 0/50 [00:00<?, ?it/s]"
      ]
     },
     "metadata": {},
     "output_type": "display_data"
    },
    {
     "data": {
      "application/vnd.jupyter.widget-view+json": {
       "model_id": "51b9ce1420dc4a2fb7e5dade18eb86b1",
       "version_major": 2,
       "version_minor": 0
      },
      "text/plain": [
       "Boundary attack - iterations:   0%|          | 0/50 [00:00<?, ?it/s]"
      ]
     },
     "metadata": {},
     "output_type": "display_data"
    },
    {
     "data": {
      "application/vnd.jupyter.widget-view+json": {
       "model_id": "6ad8143a4b4148898c9b28bb2b9f1af6",
       "version_major": 2,
       "version_minor": 0
      },
      "text/plain": [
       "Boundary attack - iterations:   0%|          | 0/50 [00:00<?, ?it/s]"
      ]
     },
     "metadata": {},
     "output_type": "display_data"
    },
    {
     "data": {
      "application/vnd.jupyter.widget-view+json": {
       "model_id": "26dbf4fdc73140c09bbb6d904e91f98c",
       "version_major": 2,
       "version_minor": 0
      },
      "text/plain": [
       "Boundary attack - iterations:   0%|          | 0/50 [00:00<?, ?it/s]"
      ]
     },
     "metadata": {},
     "output_type": "display_data"
    },
    {
     "data": {
      "application/vnd.jupyter.widget-view+json": {
       "model_id": "b6bbbbffecd7429798daa32379407e00",
       "version_major": 2,
       "version_minor": 0
      },
      "text/plain": [
       "Boundary attack - iterations:   0%|          | 0/50 [00:00<?, ?it/s]"
      ]
     },
     "metadata": {},
     "output_type": "display_data"
    },
    {
     "data": {
      "application/vnd.jupyter.widget-view+json": {
       "model_id": "25cf3b0bb10b4810aec5439725c2c89a",
       "version_major": 2,
       "version_minor": 0
      },
      "text/plain": [
       "Boundary attack - iterations:   0%|          | 0/50 [00:00<?, ?it/s]"
      ]
     },
     "metadata": {},
     "output_type": "display_data"
    },
    {
     "data": {
      "application/vnd.jupyter.widget-view+json": {
       "model_id": "c71a72c29f4a47708d7e00c3a16e10af",
       "version_major": 2,
       "version_minor": 0
      },
      "text/plain": [
       "Boundary attack - iterations:   0%|          | 0/50 [00:00<?, ?it/s]"
      ]
     },
     "metadata": {},
     "output_type": "display_data"
    },
    {
     "data": {
      "application/vnd.jupyter.widget-view+json": {
       "model_id": "79ea32186a5640ea8a2cc37933f93086",
       "version_major": 2,
       "version_minor": 0
      },
      "text/plain": [
       "Boundary attack - iterations:   0%|          | 0/50 [00:00<?, ?it/s]"
      ]
     },
     "metadata": {},
     "output_type": "display_data"
    },
    {
     "data": {
      "application/vnd.jupyter.widget-view+json": {
       "model_id": "1d477d582b8f4e84be057903fa1c8587",
       "version_major": 2,
       "version_minor": 0
      },
      "text/plain": [
       "Boundary attack - iterations:   0%|          | 0/50 [00:00<?, ?it/s]"
      ]
     },
     "metadata": {},
     "output_type": "display_data"
    },
    {
     "data": {
      "application/vnd.jupyter.widget-view+json": {
       "model_id": "ebe70bd33b8845a18459cf728f126ecf",
       "version_major": 2,
       "version_minor": 0
      },
      "text/plain": [
       "Boundary attack - iterations:   0%|          | 0/50 [00:00<?, ?it/s]"
      ]
     },
     "metadata": {},
     "output_type": "display_data"
    },
    {
     "data": {
      "application/vnd.jupyter.widget-view+json": {
       "model_id": "113ccf15a70b446689df8c7cc924a326",
       "version_major": 2,
       "version_minor": 0
      },
      "text/plain": [
       "Boundary attack - iterations:   0%|          | 0/50 [00:00<?, ?it/s]"
      ]
     },
     "metadata": {},
     "output_type": "display_data"
    },
    {
     "data": {
      "application/vnd.jupyter.widget-view+json": {
       "model_id": "d5754bcabb264cc48b811bad006b5261",
       "version_major": 2,
       "version_minor": 0
      },
      "text/plain": [
       "Boundary attack - iterations:   0%|          | 0/50 [00:00<?, ?it/s]"
      ]
     },
     "metadata": {},
     "output_type": "display_data"
    },
    {
     "data": {
      "application/vnd.jupyter.widget-view+json": {
       "model_id": "cd699a73cb7f4e90a68f167073385be0",
       "version_major": 2,
       "version_minor": 0
      },
      "text/plain": [
       "Boundary attack - iterations:   0%|          | 0/50 [00:00<?, ?it/s]"
      ]
     },
     "metadata": {},
     "output_type": "display_data"
    },
    {
     "data": {
      "application/vnd.jupyter.widget-view+json": {
       "model_id": "07263f6ae15b419b969e8a6a97c8fe5a",
       "version_major": 2,
       "version_minor": 0
      },
      "text/plain": [
       "Boundary attack - iterations:   0%|          | 0/50 [00:00<?, ?it/s]"
      ]
     },
     "metadata": {},
     "output_type": "display_data"
    },
    {
     "data": {
      "application/vnd.jupyter.widget-view+json": {
       "model_id": "45b512cf56bc4b13879cf2c891e9b4be",
       "version_major": 2,
       "version_minor": 0
      },
      "text/plain": [
       "Boundary attack - iterations:   0%|          | 0/50 [00:00<?, ?it/s]"
      ]
     },
     "metadata": {},
     "output_type": "display_data"
    },
    {
     "data": {
      "application/vnd.jupyter.widget-view+json": {
       "model_id": "5df2147105ab44229fdd665cb33be8ef",
       "version_major": 2,
       "version_minor": 0
      },
      "text/plain": [
       "Boundary attack - iterations:   0%|          | 0/50 [00:00<?, ?it/s]"
      ]
     },
     "metadata": {},
     "output_type": "display_data"
    },
    {
     "data": {
      "application/vnd.jupyter.widget-view+json": {
       "model_id": "ef8a5db8850f4fd3bd0bd51b7e8145d1",
       "version_major": 2,
       "version_minor": 0
      },
      "text/plain": [
       "Boundary attack - iterations:   0%|          | 0/50 [00:00<?, ?it/s]"
      ]
     },
     "metadata": {},
     "output_type": "display_data"
    },
    {
     "data": {
      "application/vnd.jupyter.widget-view+json": {
       "model_id": "6a81afa67cc0477cad072a390ef9042a",
       "version_major": 2,
       "version_minor": 0
      },
      "text/plain": [
       "Boundary attack - iterations:   0%|          | 0/50 [00:00<?, ?it/s]"
      ]
     },
     "metadata": {},
     "output_type": "display_data"
    },
    {
     "data": {
      "application/vnd.jupyter.widget-view+json": {
       "model_id": "b40eaee0f7884aaabe9edfb0d45f2d1d",
       "version_major": 2,
       "version_minor": 0
      },
      "text/plain": [
       "Boundary attack - iterations:   0%|          | 0/50 [00:00<?, ?it/s]"
      ]
     },
     "metadata": {},
     "output_type": "display_data"
    },
    {
     "data": {
      "application/vnd.jupyter.widget-view+json": {
       "model_id": "568be709a2524b3794b1be43539ebe5a",
       "version_major": 2,
       "version_minor": 0
      },
      "text/plain": [
       "Boundary attack - iterations:   0%|          | 0/50 [00:00<?, ?it/s]"
      ]
     },
     "metadata": {},
     "output_type": "display_data"
    },
    {
     "data": {
      "application/vnd.jupyter.widget-view+json": {
       "model_id": "c37815ffa0a645979156828908281e86",
       "version_major": 2,
       "version_minor": 0
      },
      "text/plain": [
       "Boundary attack - iterations:   0%|          | 0/50 [00:00<?, ?it/s]"
      ]
     },
     "metadata": {},
     "output_type": "display_data"
    },
    {
     "data": {
      "application/vnd.jupyter.widget-view+json": {
       "model_id": "2efe330625cb4d948f4b295767ab0168",
       "version_major": 2,
       "version_minor": 0
      },
      "text/plain": [
       "Boundary attack - iterations:   0%|          | 0/50 [00:00<?, ?it/s]"
      ]
     },
     "metadata": {},
     "output_type": "display_data"
    },
    {
     "data": {
      "application/vnd.jupyter.widget-view+json": {
       "model_id": "8c465d0d062a476b9cad7878dbe24697",
       "version_major": 2,
       "version_minor": 0
      },
      "text/plain": [
       "Boundary attack - iterations:   0%|          | 0/50 [00:00<?, ?it/s]"
      ]
     },
     "metadata": {},
     "output_type": "display_data"
    },
    {
     "data": {
      "application/vnd.jupyter.widget-view+json": {
       "model_id": "be47650200a6441fb1c3cae0e1ef48c6",
       "version_major": 2,
       "version_minor": 0
      },
      "text/plain": [
       "Boundary attack - iterations:   0%|          | 0/50 [00:00<?, ?it/s]"
      ]
     },
     "metadata": {},
     "output_type": "display_data"
    },
    {
     "data": {
      "application/vnd.jupyter.widget-view+json": {
       "model_id": "9c8de9eba99149dda9bad1e9d58c2a03",
       "version_major": 2,
       "version_minor": 0
      },
      "text/plain": [
       "Boundary attack - iterations:   0%|          | 0/50 [00:00<?, ?it/s]"
      ]
     },
     "metadata": {},
     "output_type": "display_data"
    },
    {
     "data": {
      "application/vnd.jupyter.widget-view+json": {
       "model_id": "d6b2ee14c44d4b6caf760a4704a99507",
       "version_major": 2,
       "version_minor": 0
      },
      "text/plain": [
       "Boundary attack - iterations:   0%|          | 0/50 [00:00<?, ?it/s]"
      ]
     },
     "metadata": {},
     "output_type": "display_data"
    },
    {
     "data": {
      "application/vnd.jupyter.widget-view+json": {
       "model_id": "18fbad23143a48f992757daf24eed4a5",
       "version_major": 2,
       "version_minor": 0
      },
      "text/plain": [
       "Boundary attack - iterations:   0%|          | 0/50 [00:00<?, ?it/s]"
      ]
     },
     "metadata": {},
     "output_type": "display_data"
    },
    {
     "data": {
      "application/vnd.jupyter.widget-view+json": {
       "model_id": "eb6de05767574f8694557236140ddc79",
       "version_major": 2,
       "version_minor": 0
      },
      "text/plain": [
       "Boundary attack - iterations:   0%|          | 0/50 [00:00<?, ?it/s]"
      ]
     },
     "metadata": {},
     "output_type": "display_data"
    },
    {
     "data": {
      "application/vnd.jupyter.widget-view+json": {
       "model_id": "ebd5355593d743c79b234c9f6d828ab3",
       "version_major": 2,
       "version_minor": 0
      },
      "text/plain": [
       "Boundary attack - iterations:   0%|          | 0/50 [00:00<?, ?it/s]"
      ]
     },
     "metadata": {},
     "output_type": "display_data"
    },
    {
     "data": {
      "application/vnd.jupyter.widget-view+json": {
       "model_id": "7ea6c3ecf90f4050bb5c8825fcf81952",
       "version_major": 2,
       "version_minor": 0
      },
      "text/plain": [
       "Boundary attack - iterations:   0%|          | 0/50 [00:00<?, ?it/s]"
      ]
     },
     "metadata": {},
     "output_type": "display_data"
    },
    {
     "data": {
      "application/vnd.jupyter.widget-view+json": {
       "model_id": "1472930b56dc4c9bb07e7aa88a4e5158",
       "version_major": 2,
       "version_minor": 0
      },
      "text/plain": [
       "Boundary attack - iterations:   0%|          | 0/50 [00:00<?, ?it/s]"
      ]
     },
     "metadata": {},
     "output_type": "display_data"
    },
    {
     "data": {
      "application/vnd.jupyter.widget-view+json": {
       "model_id": "10e916153ca44e9f9428171383316cff",
       "version_major": 2,
       "version_minor": 0
      },
      "text/plain": [
       "Boundary attack - iterations:   0%|          | 0/50 [00:00<?, ?it/s]"
      ]
     },
     "metadata": {},
     "output_type": "display_data"
    },
    {
     "data": {
      "application/vnd.jupyter.widget-view+json": {
       "model_id": "4de1bc1246f54a00acb7e320b2c8d42a",
       "version_major": 2,
       "version_minor": 0
      },
      "text/plain": [
       "Boundary attack - iterations:   0%|          | 0/50 [00:00<?, ?it/s]"
      ]
     },
     "metadata": {},
     "output_type": "display_data"
    },
    {
     "data": {
      "application/vnd.jupyter.widget-view+json": {
       "model_id": "3ed10e8725934405b021ee18ad1af1f3",
       "version_major": 2,
       "version_minor": 0
      },
      "text/plain": [
       "Boundary attack - iterations:   0%|          | 0/50 [00:00<?, ?it/s]"
      ]
     },
     "metadata": {},
     "output_type": "display_data"
    },
    {
     "data": {
      "application/vnd.jupyter.widget-view+json": {
       "model_id": "3e96ac894549464aa02609012c47ea4f",
       "version_major": 2,
       "version_minor": 0
      },
      "text/plain": [
       "Boundary attack - iterations:   0%|          | 0/50 [00:00<?, ?it/s]"
      ]
     },
     "metadata": {},
     "output_type": "display_data"
    },
    {
     "data": {
      "application/vnd.jupyter.widget-view+json": {
       "model_id": "0ad7001c02234331a6293808ecb3917e",
       "version_major": 2,
       "version_minor": 0
      },
      "text/plain": [
       "Boundary attack - iterations:   0%|          | 0/50 [00:00<?, ?it/s]"
      ]
     },
     "metadata": {},
     "output_type": "display_data"
    },
    {
     "data": {
      "application/vnd.jupyter.widget-view+json": {
       "model_id": "3657a65afb2f44e1ae2c6d91548f68a3",
       "version_major": 2,
       "version_minor": 0
      },
      "text/plain": [
       "Boundary attack - iterations:   0%|          | 0/50 [00:00<?, ?it/s]"
      ]
     },
     "metadata": {},
     "output_type": "display_data"
    },
    {
     "data": {
      "application/vnd.jupyter.widget-view+json": {
       "model_id": "bd45a2b366864feb92a9d3f229d7803c",
       "version_major": 2,
       "version_minor": 0
      },
      "text/plain": [
       "Boundary attack - iterations:   0%|          | 0/50 [00:00<?, ?it/s]"
      ]
     },
     "metadata": {},
     "output_type": "display_data"
    },
    {
     "data": {
      "application/vnd.jupyter.widget-view+json": {
       "model_id": "3d7450e8018d43e283edfe8c1f93c483",
       "version_major": 2,
       "version_minor": 0
      },
      "text/plain": [
       "Boundary attack - iterations:   0%|          | 0/50 [00:00<?, ?it/s]"
      ]
     },
     "metadata": {},
     "output_type": "display_data"
    },
    {
     "data": {
      "application/vnd.jupyter.widget-view+json": {
       "model_id": "7ec4ced7361e42d993802d7f81294d0e",
       "version_major": 2,
       "version_minor": 0
      },
      "text/plain": [
       "Boundary attack - iterations:   0%|          | 0/50 [00:00<?, ?it/s]"
      ]
     },
     "metadata": {},
     "output_type": "display_data"
    },
    {
     "data": {
      "application/vnd.jupyter.widget-view+json": {
       "model_id": "4a485531065a432784c22d464a950c36",
       "version_major": 2,
       "version_minor": 0
      },
      "text/plain": [
       "Boundary attack - iterations:   0%|          | 0/50 [00:00<?, ?it/s]"
      ]
     },
     "metadata": {},
     "output_type": "display_data"
    },
    {
     "data": {
      "application/vnd.jupyter.widget-view+json": {
       "model_id": "f5e8abc2f4d74bd697de1fcf480a78cb",
       "version_major": 2,
       "version_minor": 0
      },
      "text/plain": [
       "Boundary attack - iterations:   0%|          | 0/50 [00:00<?, ?it/s]"
      ]
     },
     "metadata": {},
     "output_type": "display_data"
    },
    {
     "data": {
      "application/vnd.jupyter.widget-view+json": {
       "model_id": "759a767fd48842328589dce020a8c5f0",
       "version_major": 2,
       "version_minor": 0
      },
      "text/plain": [
       "Boundary attack - iterations:   0%|          | 0/50 [00:00<?, ?it/s]"
      ]
     },
     "metadata": {},
     "output_type": "display_data"
    },
    {
     "data": {
      "application/vnd.jupyter.widget-view+json": {
       "model_id": "494bf9ed2f1341b6b0ef869acce4b678",
       "version_major": 2,
       "version_minor": 0
      },
      "text/plain": [
       "Boundary attack - iterations:   0%|          | 0/50 [00:00<?, ?it/s]"
      ]
     },
     "metadata": {},
     "output_type": "display_data"
    },
    {
     "data": {
      "application/vnd.jupyter.widget-view+json": {
       "model_id": "ea7dbe4bbeed4f21845a37981173b331",
       "version_major": 2,
       "version_minor": 0
      },
      "text/plain": [
       "Boundary attack - iterations:   0%|          | 0/50 [00:00<?, ?it/s]"
      ]
     },
     "metadata": {},
     "output_type": "display_data"
    },
    {
     "data": {
      "application/vnd.jupyter.widget-view+json": {
       "model_id": "fc3cd21a7bb84b00ac2c6e9ed781903d",
       "version_major": 2,
       "version_minor": 0
      },
      "text/plain": [
       "Boundary attack - iterations:   0%|          | 0/50 [00:00<?, ?it/s]"
      ]
     },
     "metadata": {},
     "output_type": "display_data"
    },
    {
     "data": {
      "application/vnd.jupyter.widget-view+json": {
       "model_id": "d1cae09caab24383af5249e239e4bb9e",
       "version_major": 2,
       "version_minor": 0
      },
      "text/plain": [
       "Boundary attack - iterations:   0%|          | 0/50 [00:00<?, ?it/s]"
      ]
     },
     "metadata": {},
     "output_type": "display_data"
    },
    {
     "data": {
      "application/vnd.jupyter.widget-view+json": {
       "model_id": "45e393dd47374a0c8be29ff632ee9da2",
       "version_major": 2,
       "version_minor": 0
      },
      "text/plain": [
       "Boundary attack - iterations:   0%|          | 0/50 [00:00<?, ?it/s]"
      ]
     },
     "metadata": {},
     "output_type": "display_data"
    },
    {
     "data": {
      "application/vnd.jupyter.widget-view+json": {
       "model_id": "4e552a72d3ef49cc8e839b5cae6f47af",
       "version_major": 2,
       "version_minor": 0
      },
      "text/plain": [
       "Boundary attack - iterations:   0%|          | 0/50 [00:00<?, ?it/s]"
      ]
     },
     "metadata": {},
     "output_type": "display_data"
    },
    {
     "data": {
      "application/vnd.jupyter.widget-view+json": {
       "model_id": "7b59039b5fd948a190a669ca32306f3d",
       "version_major": 2,
       "version_minor": 0
      },
      "text/plain": [
       "Boundary attack - iterations:   0%|          | 0/50 [00:00<?, ?it/s]"
      ]
     },
     "metadata": {},
     "output_type": "display_data"
    },
    {
     "data": {
      "application/vnd.jupyter.widget-view+json": {
       "model_id": "989c754ded6949a0b05bfab1485eecc9",
       "version_major": 2,
       "version_minor": 0
      },
      "text/plain": [
       "Boundary attack - iterations:   0%|          | 0/50 [00:00<?, ?it/s]"
      ]
     },
     "metadata": {},
     "output_type": "display_data"
    },
    {
     "data": {
      "application/vnd.jupyter.widget-view+json": {
       "model_id": "f96cc1c78f574908bc7a3a0bd3fc7e73",
       "version_major": 2,
       "version_minor": 0
      },
      "text/plain": [
       "Boundary attack - iterations:   0%|          | 0/50 [00:00<?, ?it/s]"
      ]
     },
     "metadata": {},
     "output_type": "display_data"
    },
    {
     "data": {
      "application/vnd.jupyter.widget-view+json": {
       "model_id": "3c762063e2d2415ea6d3b64d7a426662",
       "version_major": 2,
       "version_minor": 0
      },
      "text/plain": [
       "Boundary attack - iterations:   0%|          | 0/50 [00:00<?, ?it/s]"
      ]
     },
     "metadata": {},
     "output_type": "display_data"
    },
    {
     "data": {
      "application/vnd.jupyter.widget-view+json": {
       "model_id": "008b7707505a4aa48d8ae48ac2a0e536",
       "version_major": 2,
       "version_minor": 0
      },
      "text/plain": [
       "Boundary attack - iterations:   0%|          | 0/50 [00:00<?, ?it/s]"
      ]
     },
     "metadata": {},
     "output_type": "display_data"
    },
    {
     "data": {
      "application/vnd.jupyter.widget-view+json": {
       "model_id": "da19bf907d3944d1b4034e23d83e64c1",
       "version_major": 2,
       "version_minor": 0
      },
      "text/plain": [
       "Boundary attack - iterations:   0%|          | 0/50 [00:00<?, ?it/s]"
      ]
     },
     "metadata": {},
     "output_type": "display_data"
    },
    {
     "data": {
      "application/vnd.jupyter.widget-view+json": {
       "model_id": "752e5e9421ae48d4b54313661acdf8b2",
       "version_major": 2,
       "version_minor": 0
      },
      "text/plain": [
       "Boundary attack - iterations:   0%|          | 0/50 [00:00<?, ?it/s]"
      ]
     },
     "metadata": {},
     "output_type": "display_data"
    },
    {
     "data": {
      "application/vnd.jupyter.widget-view+json": {
       "model_id": "24ea21d7cb16442baf293bea36499e78",
       "version_major": 2,
       "version_minor": 0
      },
      "text/plain": [
       "Boundary attack - iterations:   0%|          | 0/50 [00:00<?, ?it/s]"
      ]
     },
     "metadata": {},
     "output_type": "display_data"
    },
    {
     "data": {
      "application/vnd.jupyter.widget-view+json": {
       "model_id": "f1d5f89fdc35405e918053d407ea752a",
       "version_major": 2,
       "version_minor": 0
      },
      "text/plain": [
       "Boundary attack - iterations:   0%|          | 0/50 [00:00<?, ?it/s]"
      ]
     },
     "metadata": {},
     "output_type": "display_data"
    },
    {
     "data": {
      "application/vnd.jupyter.widget-view+json": {
       "model_id": "eaf3ee77e0b84a508b22a49b21bdefd1",
       "version_major": 2,
       "version_minor": 0
      },
      "text/plain": [
       "Boundary attack - iterations:   0%|          | 0/50 [00:00<?, ?it/s]"
      ]
     },
     "metadata": {},
     "output_type": "display_data"
    },
    {
     "data": {
      "application/vnd.jupyter.widget-view+json": {
       "model_id": "f694a2dc766d4b1eb893ec46cccd569f",
       "version_major": 2,
       "version_minor": 0
      },
      "text/plain": [
       "Boundary attack - iterations:   0%|          | 0/50 [00:00<?, ?it/s]"
      ]
     },
     "metadata": {},
     "output_type": "display_data"
    },
    {
     "data": {
      "application/vnd.jupyter.widget-view+json": {
       "model_id": "8d0fa38b20934eeea4f1a4d7c4f07c3e",
       "version_major": 2,
       "version_minor": 0
      },
      "text/plain": [
       "Boundary attack - iterations:   0%|          | 0/50 [00:00<?, ?it/s]"
      ]
     },
     "metadata": {},
     "output_type": "display_data"
    },
    {
     "data": {
      "application/vnd.jupyter.widget-view+json": {
       "model_id": "c35ab0a1d54b4a1a9b1d68b1d31c3f09",
       "version_major": 2,
       "version_minor": 0
      },
      "text/plain": [
       "Boundary attack - iterations:   0%|          | 0/50 [00:00<?, ?it/s]"
      ]
     },
     "metadata": {},
     "output_type": "display_data"
    },
    {
     "data": {
      "application/vnd.jupyter.widget-view+json": {
       "model_id": "0f558bf87755465c9f2ba3021037ac50",
       "version_major": 2,
       "version_minor": 0
      },
      "text/plain": [
       "Boundary attack - iterations:   0%|          | 0/50 [00:00<?, ?it/s]"
      ]
     },
     "metadata": {},
     "output_type": "display_data"
    },
    {
     "data": {
      "application/vnd.jupyter.widget-view+json": {
       "model_id": "e32172da726646a8818ec2b44c6199ea",
       "version_major": 2,
       "version_minor": 0
      },
      "text/plain": [
       "Boundary attack - iterations:   0%|          | 0/50 [00:00<?, ?it/s]"
      ]
     },
     "metadata": {},
     "output_type": "display_data"
    },
    {
     "data": {
      "application/vnd.jupyter.widget-view+json": {
       "model_id": "37bb2033e82b4b2bac4766cd1e451668",
       "version_major": 2,
       "version_minor": 0
      },
      "text/plain": [
       "Boundary attack - iterations:   0%|          | 0/50 [00:00<?, ?it/s]"
      ]
     },
     "metadata": {},
     "output_type": "display_data"
    },
    {
     "data": {
      "application/vnd.jupyter.widget-view+json": {
       "model_id": "148da4d6cee74fd288e6b78885e3c54b",
       "version_major": 2,
       "version_minor": 0
      },
      "text/plain": [
       "Boundary attack - iterations:   0%|          | 0/50 [00:00<?, ?it/s]"
      ]
     },
     "metadata": {},
     "output_type": "display_data"
    },
    {
     "data": {
      "application/vnd.jupyter.widget-view+json": {
       "model_id": "e7d42913f4ec4b97adbffd7036182b9d",
       "version_major": 2,
       "version_minor": 0
      },
      "text/plain": [
       "Boundary attack - iterations:   0%|          | 0/50 [00:00<?, ?it/s]"
      ]
     },
     "metadata": {},
     "output_type": "display_data"
    },
    {
     "data": {
      "application/vnd.jupyter.widget-view+json": {
       "model_id": "38a930a95bd445e2914afb052f2f6807",
       "version_major": 2,
       "version_minor": 0
      },
      "text/plain": [
       "Boundary attack - iterations:   0%|          | 0/50 [00:00<?, ?it/s]"
      ]
     },
     "metadata": {},
     "output_type": "display_data"
    },
    {
     "data": {
      "application/vnd.jupyter.widget-view+json": {
       "model_id": "bf5779e3787e46968c1c6e1cb371d963",
       "version_major": 2,
       "version_minor": 0
      },
      "text/plain": [
       "Boundary attack - iterations:   0%|          | 0/50 [00:00<?, ?it/s]"
      ]
     },
     "metadata": {},
     "output_type": "display_data"
    },
    {
     "data": {
      "application/vnd.jupyter.widget-view+json": {
       "model_id": "5e4e5bb0f5bc4dc6a99d279f24c338df",
       "version_major": 2,
       "version_minor": 0
      },
      "text/plain": [
       "Boundary attack - iterations:   0%|          | 0/50 [00:00<?, ?it/s]"
      ]
     },
     "metadata": {},
     "output_type": "display_data"
    },
    {
     "data": {
      "application/vnd.jupyter.widget-view+json": {
       "model_id": "26909b617a2d4f2db777d397763f4961",
       "version_major": 2,
       "version_minor": 0
      },
      "text/plain": [
       "Boundary attack - iterations:   0%|          | 0/50 [00:00<?, ?it/s]"
      ]
     },
     "metadata": {},
     "output_type": "display_data"
    },
    {
     "data": {
      "application/vnd.jupyter.widget-view+json": {
       "model_id": "8bbdfc0fcea244bba7cc249f3c619689",
       "version_major": 2,
       "version_minor": 0
      },
      "text/plain": [
       "Boundary attack - iterations:   0%|          | 0/50 [00:00<?, ?it/s]"
      ]
     },
     "metadata": {},
     "output_type": "display_data"
    },
    {
     "data": {
      "application/vnd.jupyter.widget-view+json": {
       "model_id": "f5f79d1eba73431cbcafdabd7bc9376e",
       "version_major": 2,
       "version_minor": 0
      },
      "text/plain": [
       "Boundary attack - iterations:   0%|          | 0/50 [00:00<?, ?it/s]"
      ]
     },
     "metadata": {},
     "output_type": "display_data"
    },
    {
     "data": {
      "application/vnd.jupyter.widget-view+json": {
       "model_id": "e17f8651da3b4792973bafe85c08641b",
       "version_major": 2,
       "version_minor": 0
      },
      "text/plain": [
       "Boundary attack - iterations:   0%|          | 0/50 [00:00<?, ?it/s]"
      ]
     },
     "metadata": {},
     "output_type": "display_data"
    },
    {
     "data": {
      "application/vnd.jupyter.widget-view+json": {
       "model_id": "abce0bd37d3b4429ac6fe47fccd02eea",
       "version_major": 2,
       "version_minor": 0
      },
      "text/plain": [
       "Boundary attack - iterations:   0%|          | 0/50 [00:00<?, ?it/s]"
      ]
     },
     "metadata": {},
     "output_type": "display_data"
    },
    {
     "data": {
      "application/vnd.jupyter.widget-view+json": {
       "model_id": "2bf755f6890b4265aebad63d4084f051",
       "version_major": 2,
       "version_minor": 0
      },
      "text/plain": [
       "Boundary attack - iterations:   0%|          | 0/50 [00:00<?, ?it/s]"
      ]
     },
     "metadata": {},
     "output_type": "display_data"
    },
    {
     "data": {
      "application/vnd.jupyter.widget-view+json": {
       "model_id": "ed36ff34eae344369dea2afb52c23b96",
       "version_major": 2,
       "version_minor": 0
      },
      "text/plain": [
       "Boundary attack - iterations:   0%|          | 0/50 [00:00<?, ?it/s]"
      ]
     },
     "metadata": {},
     "output_type": "display_data"
    },
    {
     "data": {
      "application/vnd.jupyter.widget-view+json": {
       "model_id": "50f53ffd639143aa89937a07f1b560a6",
       "version_major": 2,
       "version_minor": 0
      },
      "text/plain": [
       "Boundary attack - iterations:   0%|          | 0/50 [00:00<?, ?it/s]"
      ]
     },
     "metadata": {},
     "output_type": "display_data"
    },
    {
     "data": {
      "application/vnd.jupyter.widget-view+json": {
       "model_id": "556393a9af7b429cb568a1c3d0e3d6d9",
       "version_major": 2,
       "version_minor": 0
      },
      "text/plain": [
       "Boundary attack - iterations:   0%|          | 0/50 [00:00<?, ?it/s]"
      ]
     },
     "metadata": {},
     "output_type": "display_data"
    },
    {
     "data": {
      "application/vnd.jupyter.widget-view+json": {
       "model_id": "264a052261924223b87810182e10bbab",
       "version_major": 2,
       "version_minor": 0
      },
      "text/plain": [
       "Boundary attack - iterations:   0%|          | 0/50 [00:00<?, ?it/s]"
      ]
     },
     "metadata": {},
     "output_type": "display_data"
    },
    {
     "data": {
      "application/vnd.jupyter.widget-view+json": {
       "model_id": "3308d78461f44d18912786135a464dac",
       "version_major": 2,
       "version_minor": 0
      },
      "text/plain": [
       "Boundary attack - iterations:   0%|          | 0/50 [00:00<?, ?it/s]"
      ]
     },
     "metadata": {},
     "output_type": "display_data"
    },
    {
     "data": {
      "application/vnd.jupyter.widget-view+json": {
       "model_id": "ded6ac8aebe042558f961ab8f9113eff",
       "version_major": 2,
       "version_minor": 0
      },
      "text/plain": [
       "Boundary attack - iterations:   0%|          | 0/50 [00:00<?, ?it/s]"
      ]
     },
     "metadata": {},
     "output_type": "display_data"
    },
    {
     "data": {
      "application/vnd.jupyter.widget-view+json": {
       "model_id": "24e53f039b7045e489f9bbcf6e30907d",
       "version_major": 2,
       "version_minor": 0
      },
      "text/plain": [
       "Boundary attack - iterations:   0%|          | 0/50 [00:00<?, ?it/s]"
      ]
     },
     "metadata": {},
     "output_type": "display_data"
    },
    {
     "data": {
      "application/vnd.jupyter.widget-view+json": {
       "model_id": "7faab1e85a2f443cbeaee767b9f37753",
       "version_major": 2,
       "version_minor": 0
      },
      "text/plain": [
       "Boundary attack - iterations:   0%|          | 0/50 [00:00<?, ?it/s]"
      ]
     },
     "metadata": {},
     "output_type": "display_data"
    },
    {
     "data": {
      "application/vnd.jupyter.widget-view+json": {
       "model_id": "5255a041e8c64a2a89a493050e2cbc69",
       "version_major": 2,
       "version_minor": 0
      },
      "text/plain": [
       "Boundary attack - iterations:   0%|          | 0/50 [00:00<?, ?it/s]"
      ]
     },
     "metadata": {},
     "output_type": "display_data"
    },
    {
     "data": {
      "application/vnd.jupyter.widget-view+json": {
       "model_id": "a7babbaebb494e3298dc305d6234e2fa",
       "version_major": 2,
       "version_minor": 0
      },
      "text/plain": [
       "Boundary attack - iterations:   0%|          | 0/50 [00:00<?, ?it/s]"
      ]
     },
     "metadata": {},
     "output_type": "display_data"
    },
    {
     "data": {
      "application/vnd.jupyter.widget-view+json": {
       "model_id": "db5964649d69411cb6c95a697b26b807",
       "version_major": 2,
       "version_minor": 0
      },
      "text/plain": [
       "Boundary attack - iterations:   0%|          | 0/50 [00:00<?, ?it/s]"
      ]
     },
     "metadata": {},
     "output_type": "display_data"
    },
    {
     "data": {
      "application/vnd.jupyter.widget-view+json": {
       "model_id": "92ac38d3d2d94de8b051a8f1f2eb95e8",
       "version_major": 2,
       "version_minor": 0
      },
      "text/plain": [
       "Boundary attack - iterations:   0%|          | 0/50 [00:00<?, ?it/s]"
      ]
     },
     "metadata": {},
     "output_type": "display_data"
    },
    {
     "data": {
      "application/vnd.jupyter.widget-view+json": {
       "model_id": "bb62c1ecf73a4df999e4079b59812bf6",
       "version_major": 2,
       "version_minor": 0
      },
      "text/plain": [
       "Boundary attack - iterations:   0%|          | 0/50 [00:00<?, ?it/s]"
      ]
     },
     "metadata": {},
     "output_type": "display_data"
    },
    {
     "data": {
      "application/vnd.jupyter.widget-view+json": {
       "model_id": "2add4fe21f8e456cb23ffc51e9fcdf97",
       "version_major": 2,
       "version_minor": 0
      },
      "text/plain": [
       "Boundary attack - iterations:   0%|          | 0/50 [00:00<?, ?it/s]"
      ]
     },
     "metadata": {},
     "output_type": "display_data"
    },
    {
     "data": {
      "application/vnd.jupyter.widget-view+json": {
       "model_id": "a82f108c6f254a40a8c2f73f09e8a3b1",
       "version_major": 2,
       "version_minor": 0
      },
      "text/plain": [
       "Boundary attack - iterations:   0%|          | 0/50 [00:00<?, ?it/s]"
      ]
     },
     "metadata": {},
     "output_type": "display_data"
    },
    {
     "data": {
      "application/vnd.jupyter.widget-view+json": {
       "model_id": "6a17780e51f644b5930fed58b6e3a319",
       "version_major": 2,
       "version_minor": 0
      },
      "text/plain": [
       "Boundary attack - iterations:   0%|          | 0/50 [00:00<?, ?it/s]"
      ]
     },
     "metadata": {},
     "output_type": "display_data"
    },
    {
     "data": {
      "application/vnd.jupyter.widget-view+json": {
       "model_id": "7aafba49d3124bf7a683d9e40749f443",
       "version_major": 2,
       "version_minor": 0
      },
      "text/plain": [
       "Boundary attack - iterations:   0%|          | 0/50 [00:00<?, ?it/s]"
      ]
     },
     "metadata": {},
     "output_type": "display_data"
    },
    {
     "data": {
      "application/vnd.jupyter.widget-view+json": {
       "model_id": "ea8a1211dca1446d8578ca17dde00c9b",
       "version_major": 2,
       "version_minor": 0
      },
      "text/plain": [
       "Boundary attack - iterations:   0%|          | 0/50 [00:00<?, ?it/s]"
      ]
     },
     "metadata": {},
     "output_type": "display_data"
    },
    {
     "data": {
      "application/vnd.jupyter.widget-view+json": {
       "model_id": "4d90cb23e54741399f16555e38af9bdd",
       "version_major": 2,
       "version_minor": 0
      },
      "text/plain": [
       "Boundary attack - iterations:   0%|          | 0/50 [00:00<?, ?it/s]"
      ]
     },
     "metadata": {},
     "output_type": "display_data"
    },
    {
     "data": {
      "application/vnd.jupyter.widget-view+json": {
       "model_id": "5ab98ff2b607494a865440e138d986dd",
       "version_major": 2,
       "version_minor": 0
      },
      "text/plain": [
       "Boundary attack - iterations:   0%|          | 0/50 [00:00<?, ?it/s]"
      ]
     },
     "metadata": {},
     "output_type": "display_data"
    },
    {
     "data": {
      "application/vnd.jupyter.widget-view+json": {
       "model_id": "3a7c0bd2243349c3b9adae2ca1af755b",
       "version_major": 2,
       "version_minor": 0
      },
      "text/plain": [
       "Boundary attack - iterations:   0%|          | 0/50 [00:00<?, ?it/s]"
      ]
     },
     "metadata": {},
     "output_type": "display_data"
    },
    {
     "data": {
      "application/vnd.jupyter.widget-view+json": {
       "model_id": "e9f281bcdf404a039ee58a6272295800",
       "version_major": 2,
       "version_minor": 0
      },
      "text/plain": [
       "Boundary attack - iterations:   0%|          | 0/50 [00:00<?, ?it/s]"
      ]
     },
     "metadata": {},
     "output_type": "display_data"
    },
    {
     "data": {
      "application/vnd.jupyter.widget-view+json": {
       "model_id": "ebfe9b9965174928804dd16d4bab324d",
       "version_major": 2,
       "version_minor": 0
      },
      "text/plain": [
       "Boundary attack - iterations:   0%|          | 0/50 [00:00<?, ?it/s]"
      ]
     },
     "metadata": {},
     "output_type": "display_data"
    },
    {
     "data": {
      "application/vnd.jupyter.widget-view+json": {
       "model_id": "74632f2ff7ed494ca1dbcd488aa12141",
       "version_major": 2,
       "version_minor": 0
      },
      "text/plain": [
       "Boundary attack - iterations:   0%|          | 0/50 [00:00<?, ?it/s]"
      ]
     },
     "metadata": {},
     "output_type": "display_data"
    },
    {
     "data": {
      "application/vnd.jupyter.widget-view+json": {
       "model_id": "e12e9247ad184b469c1cf45a06d2df3b",
       "version_major": 2,
       "version_minor": 0
      },
      "text/plain": [
       "Boundary attack - iterations:   0%|          | 0/50 [00:00<?, ?it/s]"
      ]
     },
     "metadata": {},
     "output_type": "display_data"
    },
    {
     "data": {
      "application/vnd.jupyter.widget-view+json": {
       "model_id": "a3b0e5a25e9b4342a1b9a0ca865c9434",
       "version_major": 2,
       "version_minor": 0
      },
      "text/plain": [
       "Boundary attack - iterations:   0%|          | 0/50 [00:00<?, ?it/s]"
      ]
     },
     "metadata": {},
     "output_type": "display_data"
    },
    {
     "data": {
      "application/vnd.jupyter.widget-view+json": {
       "model_id": "baa96a28eb3c4a39a29a376f5e3f3d93",
       "version_major": 2,
       "version_minor": 0
      },
      "text/plain": [
       "Boundary attack - iterations:   0%|          | 0/50 [00:00<?, ?it/s]"
      ]
     },
     "metadata": {},
     "output_type": "display_data"
    },
    {
     "data": {
      "application/vnd.jupyter.widget-view+json": {
       "model_id": "02e360413b86446da213be9686471fcd",
       "version_major": 2,
       "version_minor": 0
      },
      "text/plain": [
       "Boundary attack - iterations:   0%|          | 0/50 [00:00<?, ?it/s]"
      ]
     },
     "metadata": {},
     "output_type": "display_data"
    },
    {
     "data": {
      "application/vnd.jupyter.widget-view+json": {
       "model_id": "eaacd699cccf44b794de801905136620",
       "version_major": 2,
       "version_minor": 0
      },
      "text/plain": [
       "Boundary attack - iterations:   0%|          | 0/50 [00:00<?, ?it/s]"
      ]
     },
     "metadata": {},
     "output_type": "display_data"
    },
    {
     "data": {
      "application/vnd.jupyter.widget-view+json": {
       "model_id": "fa573dddc19b45acbd531b46c033f7f0",
       "version_major": 2,
       "version_minor": 0
      },
      "text/plain": [
       "Boundary attack - iterations:   0%|          | 0/50 [00:00<?, ?it/s]"
      ]
     },
     "metadata": {},
     "output_type": "display_data"
    },
    {
     "data": {
      "application/vnd.jupyter.widget-view+json": {
       "model_id": "8ab18319e1794acebb36b77c2bde5c31",
       "version_major": 2,
       "version_minor": 0
      },
      "text/plain": [
       "Boundary attack - iterations:   0%|          | 0/50 [00:00<?, ?it/s]"
      ]
     },
     "metadata": {},
     "output_type": "display_data"
    },
    {
     "data": {
      "application/vnd.jupyter.widget-view+json": {
       "model_id": "a6b17776fb56491cb54c93d3cf8bbf86",
       "version_major": 2,
       "version_minor": 0
      },
      "text/plain": [
       "Boundary attack - iterations:   0%|          | 0/50 [00:00<?, ?it/s]"
      ]
     },
     "metadata": {},
     "output_type": "display_data"
    },
    {
     "data": {
      "application/vnd.jupyter.widget-view+json": {
       "model_id": "04ac57c2a51a4fe89d0b93eebd0a2273",
       "version_major": 2,
       "version_minor": 0
      },
      "text/plain": [
       "Boundary attack - iterations:   0%|          | 0/50 [00:00<?, ?it/s]"
      ]
     },
     "metadata": {},
     "output_type": "display_data"
    },
    {
     "data": {
      "application/vnd.jupyter.widget-view+json": {
       "model_id": "b2f89707e002466286e21250a8870dc2",
       "version_major": 2,
       "version_minor": 0
      },
      "text/plain": [
       "Boundary attack - iterations:   0%|          | 0/50 [00:00<?, ?it/s]"
      ]
     },
     "metadata": {},
     "output_type": "display_data"
    },
    {
     "data": {
      "application/vnd.jupyter.widget-view+json": {
       "model_id": "8c8d18409def4c7a9048d216b078f107",
       "version_major": 2,
       "version_minor": 0
      },
      "text/plain": [
       "Boundary attack - iterations:   0%|          | 0/50 [00:00<?, ?it/s]"
      ]
     },
     "metadata": {},
     "output_type": "display_data"
    },
    {
     "data": {
      "application/vnd.jupyter.widget-view+json": {
       "model_id": "91110e39700448628c6e54c30f6ddf2b",
       "version_major": 2,
       "version_minor": 0
      },
      "text/plain": [
       "Boundary attack - iterations:   0%|          | 0/50 [00:00<?, ?it/s]"
      ]
     },
     "metadata": {},
     "output_type": "display_data"
    },
    {
     "data": {
      "application/vnd.jupyter.widget-view+json": {
       "model_id": "572608fdeaf9406590ba59c173428eb8",
       "version_major": 2,
       "version_minor": 0
      },
      "text/plain": [
       "Boundary attack - iterations:   0%|          | 0/50 [00:00<?, ?it/s]"
      ]
     },
     "metadata": {},
     "output_type": "display_data"
    },
    {
     "data": {
      "application/vnd.jupyter.widget-view+json": {
       "model_id": "9726a05118aa4bf2b2a711b6060ea262",
       "version_major": 2,
       "version_minor": 0
      },
      "text/plain": [
       "Boundary attack - iterations:   0%|          | 0/50 [00:00<?, ?it/s]"
      ]
     },
     "metadata": {},
     "output_type": "display_data"
    },
    {
     "data": {
      "application/vnd.jupyter.widget-view+json": {
       "model_id": "0dc3f1b571b84646bd73d42296261b8f",
       "version_major": 2,
       "version_minor": 0
      },
      "text/plain": [
       "Boundary attack - iterations:   0%|          | 0/50 [00:00<?, ?it/s]"
      ]
     },
     "metadata": {},
     "output_type": "display_data"
    },
    {
     "data": {
      "application/vnd.jupyter.widget-view+json": {
       "model_id": "9fe539cc48304550b187fc88af1170dd",
       "version_major": 2,
       "version_minor": 0
      },
      "text/plain": [
       "Boundary attack - iterations:   0%|          | 0/50 [00:00<?, ?it/s]"
      ]
     },
     "metadata": {},
     "output_type": "display_data"
    },
    {
     "data": {
      "application/vnd.jupyter.widget-view+json": {
       "model_id": "3b83d815af6c45d094cc5acc1cabcaae",
       "version_major": 2,
       "version_minor": 0
      },
      "text/plain": [
       "Boundary attack - iterations:   0%|          | 0/50 [00:00<?, ?it/s]"
      ]
     },
     "metadata": {},
     "output_type": "display_data"
    },
    {
     "data": {
      "application/vnd.jupyter.widget-view+json": {
       "model_id": "6508278929a543269e4dc368ed685c95",
       "version_major": 2,
       "version_minor": 0
      },
      "text/plain": [
       "Boundary attack - iterations:   0%|          | 0/50 [00:00<?, ?it/s]"
      ]
     },
     "metadata": {},
     "output_type": "display_data"
    },
    {
     "data": {
      "application/vnd.jupyter.widget-view+json": {
       "model_id": "ce6ff8e787a64496b936276117a43dd8",
       "version_major": 2,
       "version_minor": 0
      },
      "text/plain": [
       "Boundary attack - iterations:   0%|          | 0/50 [00:00<?, ?it/s]"
      ]
     },
     "metadata": {},
     "output_type": "display_data"
    },
    {
     "data": {
      "application/vnd.jupyter.widget-view+json": {
       "model_id": "d2394b2e310d4eb4b2d3a86743a7c7a2",
       "version_major": 2,
       "version_minor": 0
      },
      "text/plain": [
       "Boundary attack - iterations:   0%|          | 0/50 [00:00<?, ?it/s]"
      ]
     },
     "metadata": {},
     "output_type": "display_data"
    },
    {
     "data": {
      "application/vnd.jupyter.widget-view+json": {
       "model_id": "7b67c10af19445bebabeb957cfc2270b",
       "version_major": 2,
       "version_minor": 0
      },
      "text/plain": [
       "Boundary attack - iterations:   0%|          | 0/50 [00:00<?, ?it/s]"
      ]
     },
     "metadata": {},
     "output_type": "display_data"
    },
    {
     "data": {
      "application/vnd.jupyter.widget-view+json": {
       "model_id": "dabbd4ebdedf471a804128269bf6aaa3",
       "version_major": 2,
       "version_minor": 0
      },
      "text/plain": [
       "Boundary attack - iterations:   0%|          | 0/50 [00:00<?, ?it/s]"
      ]
     },
     "metadata": {},
     "output_type": "display_data"
    },
    {
     "data": {
      "application/vnd.jupyter.widget-view+json": {
       "model_id": "6b68eff8ecc64cb3838ec2d85a488c38",
       "version_major": 2,
       "version_minor": 0
      },
      "text/plain": [
       "Boundary attack - iterations:   0%|          | 0/50 [00:00<?, ?it/s]"
      ]
     },
     "metadata": {},
     "output_type": "display_data"
    },
    {
     "data": {
      "application/vnd.jupyter.widget-view+json": {
       "model_id": "f25d3b543e314f55ace929d1c850341d",
       "version_major": 2,
       "version_minor": 0
      },
      "text/plain": [
       "Boundary attack - iterations:   0%|          | 0/50 [00:00<?, ?it/s]"
      ]
     },
     "metadata": {},
     "output_type": "display_data"
    },
    {
     "data": {
      "application/vnd.jupyter.widget-view+json": {
       "model_id": "48b121af30b84976bee5382d9bddc2dc",
       "version_major": 2,
       "version_minor": 0
      },
      "text/plain": [
       "Boundary attack - iterations:   0%|          | 0/50 [00:00<?, ?it/s]"
      ]
     },
     "metadata": {},
     "output_type": "display_data"
    },
    {
     "data": {
      "application/vnd.jupyter.widget-view+json": {
       "model_id": "e787b83e2df3437385935a0c81800ffb",
       "version_major": 2,
       "version_minor": 0
      },
      "text/plain": [
       "Boundary attack - iterations:   0%|          | 0/50 [00:00<?, ?it/s]"
      ]
     },
     "metadata": {},
     "output_type": "display_data"
    },
    {
     "data": {
      "application/vnd.jupyter.widget-view+json": {
       "model_id": "3a09d24828654fe8927bea2d09ffdc5c",
       "version_major": 2,
       "version_minor": 0
      },
      "text/plain": [
       "Boundary attack - iterations:   0%|          | 0/50 [00:00<?, ?it/s]"
      ]
     },
     "metadata": {},
     "output_type": "display_data"
    },
    {
     "data": {
      "application/vnd.jupyter.widget-view+json": {
       "model_id": "efcba08959f94c369cae03d2e2a6b691",
       "version_major": 2,
       "version_minor": 0
      },
      "text/plain": [
       "Boundary attack - iterations:   0%|          | 0/50 [00:00<?, ?it/s]"
      ]
     },
     "metadata": {},
     "output_type": "display_data"
    },
    {
     "data": {
      "application/vnd.jupyter.widget-view+json": {
       "model_id": "bcb6b27669e640908aeee571929a530c",
       "version_major": 2,
       "version_minor": 0
      },
      "text/plain": [
       "Boundary attack - iterations:   0%|          | 0/50 [00:00<?, ?it/s]"
      ]
     },
     "metadata": {},
     "output_type": "display_data"
    },
    {
     "data": {
      "application/vnd.jupyter.widget-view+json": {
       "model_id": "cba6974955a941908190104055577c0d",
       "version_major": 2,
       "version_minor": 0
      },
      "text/plain": [
       "Boundary attack - iterations:   0%|          | 0/50 [00:00<?, ?it/s]"
      ]
     },
     "metadata": {},
     "output_type": "display_data"
    },
    {
     "data": {
      "application/vnd.jupyter.widget-view+json": {
       "model_id": "4b1334c1be9c4ab49725f37918e9fa6b",
       "version_major": 2,
       "version_minor": 0
      },
      "text/plain": [
       "Boundary attack - iterations:   0%|          | 0/50 [00:00<?, ?it/s]"
      ]
     },
     "metadata": {},
     "output_type": "display_data"
    },
    {
     "data": {
      "application/vnd.jupyter.widget-view+json": {
       "model_id": "193e2d895ed74367b24a677305c1eb54",
       "version_major": 2,
       "version_minor": 0
      },
      "text/plain": [
       "Boundary attack - iterations:   0%|          | 0/50 [00:00<?, ?it/s]"
      ]
     },
     "metadata": {},
     "output_type": "display_data"
    },
    {
     "data": {
      "application/vnd.jupyter.widget-view+json": {
       "model_id": "edb3d4f30b1b483d8f36d8f2759bbe46",
       "version_major": 2,
       "version_minor": 0
      },
      "text/plain": [
       "Boundary attack - iterations:   0%|          | 0/50 [00:00<?, ?it/s]"
      ]
     },
     "metadata": {},
     "output_type": "display_data"
    },
    {
     "data": {
      "application/vnd.jupyter.widget-view+json": {
       "model_id": "a52c5d2d8002436c913008e35138c9ea",
       "version_major": 2,
       "version_minor": 0
      },
      "text/plain": [
       "Boundary attack - iterations:   0%|          | 0/50 [00:00<?, ?it/s]"
      ]
     },
     "metadata": {},
     "output_type": "display_data"
    },
    {
     "data": {
      "application/vnd.jupyter.widget-view+json": {
       "model_id": "b87c60e004244e57a0ed4fa7188b8990",
       "version_major": 2,
       "version_minor": 0
      },
      "text/plain": [
       "Boundary attack - iterations:   0%|          | 0/50 [00:00<?, ?it/s]"
      ]
     },
     "metadata": {},
     "output_type": "display_data"
    },
    {
     "data": {
      "application/vnd.jupyter.widget-view+json": {
       "model_id": "4f7fa8bbe1804f9f9e95e6fd686bcc4c",
       "version_major": 2,
       "version_minor": 0
      },
      "text/plain": [
       "Boundary attack - iterations:   0%|          | 0/50 [00:00<?, ?it/s]"
      ]
     },
     "metadata": {},
     "output_type": "display_data"
    },
    {
     "data": {
      "application/vnd.jupyter.widget-view+json": {
       "model_id": "37a8b475263342dfb42ba86a9f28875f",
       "version_major": 2,
       "version_minor": 0
      },
      "text/plain": [
       "Boundary attack - iterations:   0%|          | 0/50 [00:00<?, ?it/s]"
      ]
     },
     "metadata": {},
     "output_type": "display_data"
    },
    {
     "data": {
      "application/vnd.jupyter.widget-view+json": {
       "model_id": "424666d1f9c741b2ac2e9e1ffeb88826",
       "version_major": 2,
       "version_minor": 0
      },
      "text/plain": [
       "Boundary attack - iterations:   0%|          | 0/50 [00:00<?, ?it/s]"
      ]
     },
     "metadata": {},
     "output_type": "display_data"
    },
    {
     "data": {
      "application/vnd.jupyter.widget-view+json": {
       "model_id": "cf4a9480cf6140a290a35e6ccc61e77e",
       "version_major": 2,
       "version_minor": 0
      },
      "text/plain": [
       "Boundary attack - iterations:   0%|          | 0/50 [00:00<?, ?it/s]"
      ]
     },
     "metadata": {},
     "output_type": "display_data"
    },
    {
     "data": {
      "application/vnd.jupyter.widget-view+json": {
       "model_id": "fb69b01fd3564f599a916022e909fa52",
       "version_major": 2,
       "version_minor": 0
      },
      "text/plain": [
       "Boundary attack - iterations:   0%|          | 0/50 [00:00<?, ?it/s]"
      ]
     },
     "metadata": {},
     "output_type": "display_data"
    },
    {
     "data": {
      "application/vnd.jupyter.widget-view+json": {
       "model_id": "106f5da3e1774d609dd7ad3e42dd8914",
       "version_major": 2,
       "version_minor": 0
      },
      "text/plain": [
       "Boundary attack - iterations:   0%|          | 0/50 [00:00<?, ?it/s]"
      ]
     },
     "metadata": {},
     "output_type": "display_data"
    },
    {
     "data": {
      "application/vnd.jupyter.widget-view+json": {
       "model_id": "b5b811449de041b88f875219f48b4da0",
       "version_major": 2,
       "version_minor": 0
      },
      "text/plain": [
       "Boundary attack - iterations:   0%|          | 0/50 [00:00<?, ?it/s]"
      ]
     },
     "metadata": {},
     "output_type": "display_data"
    },
    {
     "data": {
      "application/vnd.jupyter.widget-view+json": {
       "model_id": "71f9e60861c04c24aea860e95190b9f9",
       "version_major": 2,
       "version_minor": 0
      },
      "text/plain": [
       "Boundary attack - iterations:   0%|          | 0/50 [00:00<?, ?it/s]"
      ]
     },
     "metadata": {},
     "output_type": "display_data"
    },
    {
     "data": {
      "application/vnd.jupyter.widget-view+json": {
       "model_id": "9a628e4b812e4ccd9c226103296099fe",
       "version_major": 2,
       "version_minor": 0
      },
      "text/plain": [
       "Boundary attack - iterations:   0%|          | 0/50 [00:00<?, ?it/s]"
      ]
     },
     "metadata": {},
     "output_type": "display_data"
    },
    {
     "data": {
      "application/vnd.jupyter.widget-view+json": {
       "model_id": "93d3c3c03c064862b1231a416621fd5c",
       "version_major": 2,
       "version_minor": 0
      },
      "text/plain": [
       "Boundary attack - iterations:   0%|          | 0/50 [00:00<?, ?it/s]"
      ]
     },
     "metadata": {},
     "output_type": "display_data"
    },
    {
     "data": {
      "application/vnd.jupyter.widget-view+json": {
       "model_id": "24924fdc3b2c46a2a9db418b442f05db",
       "version_major": 2,
       "version_minor": 0
      },
      "text/plain": [
       "Boundary attack - iterations:   0%|          | 0/50 [00:00<?, ?it/s]"
      ]
     },
     "metadata": {},
     "output_type": "display_data"
    },
    {
     "data": {
      "application/vnd.jupyter.widget-view+json": {
       "model_id": "0212fe55cb1942b0a051bd1ccb70860b",
       "version_major": 2,
       "version_minor": 0
      },
      "text/plain": [
       "Boundary attack - iterations:   0%|          | 0/50 [00:00<?, ?it/s]"
      ]
     },
     "metadata": {},
     "output_type": "display_data"
    },
    {
     "data": {
      "application/vnd.jupyter.widget-view+json": {
       "model_id": "519b2d9764ec4dd8b57045fd27db5fb7",
       "version_major": 2,
       "version_minor": 0
      },
      "text/plain": [
       "Boundary attack - iterations:   0%|          | 0/50 [00:00<?, ?it/s]"
      ]
     },
     "metadata": {},
     "output_type": "display_data"
    },
    {
     "data": {
      "application/vnd.jupyter.widget-view+json": {
       "model_id": "e4eb6b1c397d44c0a9c34df4f0a11d9c",
       "version_major": 2,
       "version_minor": 0
      },
      "text/plain": [
       "Boundary attack - iterations:   0%|          | 0/50 [00:00<?, ?it/s]"
      ]
     },
     "metadata": {},
     "output_type": "display_data"
    },
    {
     "data": {
      "application/vnd.jupyter.widget-view+json": {
       "model_id": "0ff3cb50035d422fa66f923b50efe840",
       "version_major": 2,
       "version_minor": 0
      },
      "text/plain": [
       "Boundary attack - iterations:   0%|          | 0/50 [00:00<?, ?it/s]"
      ]
     },
     "metadata": {},
     "output_type": "display_data"
    },
    {
     "data": {
      "application/vnd.jupyter.widget-view+json": {
       "model_id": "d9aa86e0b770481a99cb45d7d9c08ccd",
       "version_major": 2,
       "version_minor": 0
      },
      "text/plain": [
       "Boundary attack - iterations:   0%|          | 0/50 [00:00<?, ?it/s]"
      ]
     },
     "metadata": {},
     "output_type": "display_data"
    },
    {
     "data": {
      "application/vnd.jupyter.widget-view+json": {
       "model_id": "f368661dc25e40e48e1575602f99df9e",
       "version_major": 2,
       "version_minor": 0
      },
      "text/plain": [
       "Boundary attack - iterations:   0%|          | 0/50 [00:00<?, ?it/s]"
      ]
     },
     "metadata": {},
     "output_type": "display_data"
    },
    {
     "data": {
      "application/vnd.jupyter.widget-view+json": {
       "model_id": "712074cc263e4b32804807af18ef4455",
       "version_major": 2,
       "version_minor": 0
      },
      "text/plain": [
       "Boundary attack - iterations:   0%|          | 0/50 [00:00<?, ?it/s]"
      ]
     },
     "metadata": {},
     "output_type": "display_data"
    },
    {
     "data": {
      "application/vnd.jupyter.widget-view+json": {
       "model_id": "d46ab6064b2041af8b4ff10353618af0",
       "version_major": 2,
       "version_minor": 0
      },
      "text/plain": [
       "Boundary attack - iterations:   0%|          | 0/50 [00:00<?, ?it/s]"
      ]
     },
     "metadata": {},
     "output_type": "display_data"
    },
    {
     "data": {
      "application/vnd.jupyter.widget-view+json": {
       "model_id": "b0a4d60280a44f68b0f20974af8363e1",
       "version_major": 2,
       "version_minor": 0
      },
      "text/plain": [
       "Boundary attack - iterations:   0%|          | 0/50 [00:00<?, ?it/s]"
      ]
     },
     "metadata": {},
     "output_type": "display_data"
    },
    {
     "data": {
      "application/vnd.jupyter.widget-view+json": {
       "model_id": "c4cdc03cc9984a3bb9bf18b663373962",
       "version_major": 2,
       "version_minor": 0
      },
      "text/plain": [
       "Boundary attack - iterations:   0%|          | 0/50 [00:00<?, ?it/s]"
      ]
     },
     "metadata": {},
     "output_type": "display_data"
    },
    {
     "data": {
      "application/vnd.jupyter.widget-view+json": {
       "model_id": "c5952be8ec25436bb74d936d737f71bf",
       "version_major": 2,
       "version_minor": 0
      },
      "text/plain": [
       "Boundary attack - iterations:   0%|          | 0/50 [00:00<?, ?it/s]"
      ]
     },
     "metadata": {},
     "output_type": "display_data"
    },
    {
     "data": {
      "application/vnd.jupyter.widget-view+json": {
       "model_id": "b36b8daba81c4d5b97b88823eb7db569",
       "version_major": 2,
       "version_minor": 0
      },
      "text/plain": [
       "Boundary attack - iterations:   0%|          | 0/50 [00:00<?, ?it/s]"
      ]
     },
     "metadata": {},
     "output_type": "display_data"
    },
    {
     "data": {
      "application/vnd.jupyter.widget-view+json": {
       "model_id": "a596b717914a4d43a175d19a83b0bdea",
       "version_major": 2,
       "version_minor": 0
      },
      "text/plain": [
       "Boundary attack - iterations:   0%|          | 0/50 [00:00<?, ?it/s]"
      ]
     },
     "metadata": {},
     "output_type": "display_data"
    },
    {
     "data": {
      "application/vnd.jupyter.widget-view+json": {
       "model_id": "6ca722c5840847e29b469e5ed592515c",
       "version_major": 2,
       "version_minor": 0
      },
      "text/plain": [
       "Boundary attack - iterations:   0%|          | 0/50 [00:00<?, ?it/s]"
      ]
     },
     "metadata": {},
     "output_type": "display_data"
    },
    {
     "data": {
      "application/vnd.jupyter.widget-view+json": {
       "model_id": "63f533fc0f164b63b584734ab0e5058d",
       "version_major": 2,
       "version_minor": 0
      },
      "text/plain": [
       "Boundary attack - iterations:   0%|          | 0/50 [00:00<?, ?it/s]"
      ]
     },
     "metadata": {},
     "output_type": "display_data"
    },
    {
     "data": {
      "application/vnd.jupyter.widget-view+json": {
       "model_id": "0bf6cd22bae940e9a609f38cb5628ab1",
       "version_major": 2,
       "version_minor": 0
      },
      "text/plain": [
       "Boundary attack - iterations:   0%|          | 0/50 [00:00<?, ?it/s]"
      ]
     },
     "metadata": {},
     "output_type": "display_data"
    },
    {
     "data": {
      "application/vnd.jupyter.widget-view+json": {
       "model_id": "4e08df8b0fb0432781c0e5a11f6c0e4f",
       "version_major": 2,
       "version_minor": 0
      },
      "text/plain": [
       "Boundary attack - iterations:   0%|          | 0/50 [00:00<?, ?it/s]"
      ]
     },
     "metadata": {},
     "output_type": "display_data"
    },
    {
     "data": {
      "application/vnd.jupyter.widget-view+json": {
       "model_id": "c57a989c784545149372bd872889c37a",
       "version_major": 2,
       "version_minor": 0
      },
      "text/plain": [
       "Boundary attack - iterations:   0%|          | 0/50 [00:00<?, ?it/s]"
      ]
     },
     "metadata": {},
     "output_type": "display_data"
    },
    {
     "data": {
      "application/vnd.jupyter.widget-view+json": {
       "model_id": "8d5c8365d25945148eef18cd748f3a21",
       "version_major": 2,
       "version_minor": 0
      },
      "text/plain": [
       "Boundary attack - iterations:   0%|          | 0/50 [00:00<?, ?it/s]"
      ]
     },
     "metadata": {},
     "output_type": "display_data"
    },
    {
     "data": {
      "application/vnd.jupyter.widget-view+json": {
       "model_id": "0d1a7f91af3a42c9afaea78a2bf9ef18",
       "version_major": 2,
       "version_minor": 0
      },
      "text/plain": [
       "Boundary attack - iterations:   0%|          | 0/50 [00:00<?, ?it/s]"
      ]
     },
     "metadata": {},
     "output_type": "display_data"
    },
    {
     "data": {
      "application/vnd.jupyter.widget-view+json": {
       "model_id": "f9a2921576834d38ae653fbf947956c4",
       "version_major": 2,
       "version_minor": 0
      },
      "text/plain": [
       "Boundary attack - iterations:   0%|          | 0/50 [00:00<?, ?it/s]"
      ]
     },
     "metadata": {},
     "output_type": "display_data"
    },
    {
     "data": {
      "application/vnd.jupyter.widget-view+json": {
       "model_id": "14fe1d8fc5c745a893c642a1c2843545",
       "version_major": 2,
       "version_minor": 0
      },
      "text/plain": [
       "Boundary attack - iterations:   0%|          | 0/50 [00:00<?, ?it/s]"
      ]
     },
     "metadata": {},
     "output_type": "display_data"
    },
    {
     "data": {
      "application/vnd.jupyter.widget-view+json": {
       "model_id": "dd8a0bfb56284a3893d92597b06fb847",
       "version_major": 2,
       "version_minor": 0
      },
      "text/plain": [
       "Boundary attack - iterations:   0%|          | 0/50 [00:00<?, ?it/s]"
      ]
     },
     "metadata": {},
     "output_type": "display_data"
    },
    {
     "data": {
      "application/vnd.jupyter.widget-view+json": {
       "model_id": "15fcdc1820c24062b9be72d5ce3dc8fd",
       "version_major": 2,
       "version_minor": 0
      },
      "text/plain": [
       "Boundary attack - iterations:   0%|          | 0/50 [00:00<?, ?it/s]"
      ]
     },
     "metadata": {},
     "output_type": "display_data"
    },
    {
     "data": {
      "application/vnd.jupyter.widget-view+json": {
       "model_id": "8b566332d6e141799ac52723bf53533f",
       "version_major": 2,
       "version_minor": 0
      },
      "text/plain": [
       "Boundary attack - iterations:   0%|          | 0/50 [00:00<?, ?it/s]"
      ]
     },
     "metadata": {},
     "output_type": "display_data"
    },
    {
     "data": {
      "application/vnd.jupyter.widget-view+json": {
       "model_id": "ed925cd71a454c309d8dce4cff7be802",
       "version_major": 2,
       "version_minor": 0
      },
      "text/plain": [
       "Boundary attack - iterations:   0%|          | 0/50 [00:00<?, ?it/s]"
      ]
     },
     "metadata": {},
     "output_type": "display_data"
    },
    {
     "data": {
      "application/vnd.jupyter.widget-view+json": {
       "model_id": "55dd96adcdab410d976ef9b5056d6b13",
       "version_major": 2,
       "version_minor": 0
      },
      "text/plain": [
       "Boundary attack - iterations:   0%|          | 0/50 [00:00<?, ?it/s]"
      ]
     },
     "metadata": {},
     "output_type": "display_data"
    },
    {
     "data": {
      "application/vnd.jupyter.widget-view+json": {
       "model_id": "19b7c5dc74384347b45fee896575b841",
       "version_major": 2,
       "version_minor": 0
      },
      "text/plain": [
       "Boundary attack - iterations:   0%|          | 0/50 [00:00<?, ?it/s]"
      ]
     },
     "metadata": {},
     "output_type": "display_data"
    },
    {
     "data": {
      "application/vnd.jupyter.widget-view+json": {
       "model_id": "c62a5a4ce6654174850103aa4d6fb5be",
       "version_major": 2,
       "version_minor": 0
      },
      "text/plain": [
       "Boundary attack - iterations:   0%|          | 0/50 [00:00<?, ?it/s]"
      ]
     },
     "metadata": {},
     "output_type": "display_data"
    },
    {
     "data": {
      "application/vnd.jupyter.widget-view+json": {
       "model_id": "2fd48a257a1d45f69d5c613b924ca3e1",
       "version_major": 2,
       "version_minor": 0
      },
      "text/plain": [
       "Boundary attack - iterations:   0%|          | 0/50 [00:00<?, ?it/s]"
      ]
     },
     "metadata": {},
     "output_type": "display_data"
    },
    {
     "data": {
      "application/vnd.jupyter.widget-view+json": {
       "model_id": "3f941d6da5a44b63af02cd0e18859a81",
       "version_major": 2,
       "version_minor": 0
      },
      "text/plain": [
       "Boundary attack - iterations:   0%|          | 0/50 [00:00<?, ?it/s]"
      ]
     },
     "metadata": {},
     "output_type": "display_data"
    },
    {
     "data": {
      "application/vnd.jupyter.widget-view+json": {
       "model_id": "9be7930623fc4de7be1a3c3b1acb092e",
       "version_major": 2,
       "version_minor": 0
      },
      "text/plain": [
       "Boundary attack - iterations:   0%|          | 0/50 [00:00<?, ?it/s]"
      ]
     },
     "metadata": {},
     "output_type": "display_data"
    },
    {
     "data": {
      "application/vnd.jupyter.widget-view+json": {
       "model_id": "d1410139aa324725a92a196f79828f38",
       "version_major": 2,
       "version_minor": 0
      },
      "text/plain": [
       "Boundary attack - iterations:   0%|          | 0/50 [00:00<?, ?it/s]"
      ]
     },
     "metadata": {},
     "output_type": "display_data"
    },
    {
     "data": {
      "application/vnd.jupyter.widget-view+json": {
       "model_id": "f7656ac4973f48c5b9742e8426b0d3cf",
       "version_major": 2,
       "version_minor": 0
      },
      "text/plain": [
       "Boundary attack - iterations:   0%|          | 0/50 [00:00<?, ?it/s]"
      ]
     },
     "metadata": {},
     "output_type": "display_data"
    },
    {
     "data": {
      "application/vnd.jupyter.widget-view+json": {
       "model_id": "71b8564a8fd94ec7be36f48f8ea84f5c",
       "version_major": 2,
       "version_minor": 0
      },
      "text/plain": [
       "Boundary attack - iterations:   0%|          | 0/50 [00:00<?, ?it/s]"
      ]
     },
     "metadata": {},
     "output_type": "display_data"
    },
    {
     "data": {
      "application/vnd.jupyter.widget-view+json": {
       "model_id": "d39f64ad63b248eb9d50efa1d33d19be",
       "version_major": 2,
       "version_minor": 0
      },
      "text/plain": [
       "Boundary attack - iterations:   0%|          | 0/50 [00:00<?, ?it/s]"
      ]
     },
     "metadata": {},
     "output_type": "display_data"
    },
    {
     "data": {
      "application/vnd.jupyter.widget-view+json": {
       "model_id": "64278177591745998549c9737ddf7dea",
       "version_major": 2,
       "version_minor": 0
      },
      "text/plain": [
       "Boundary attack - iterations:   0%|          | 0/50 [00:00<?, ?it/s]"
      ]
     },
     "metadata": {},
     "output_type": "display_data"
    },
    {
     "data": {
      "application/vnd.jupyter.widget-view+json": {
       "model_id": "2091941caf584f75952642c200fae5f5",
       "version_major": 2,
       "version_minor": 0
      },
      "text/plain": [
       "Boundary attack - iterations:   0%|          | 0/50 [00:00<?, ?it/s]"
      ]
     },
     "metadata": {},
     "output_type": "display_data"
    },
    {
     "data": {
      "application/vnd.jupyter.widget-view+json": {
       "model_id": "1d34e4f7aeb042379665de65095f354b",
       "version_major": 2,
       "version_minor": 0
      },
      "text/plain": [
       "Boundary attack - iterations:   0%|          | 0/50 [00:00<?, ?it/s]"
      ]
     },
     "metadata": {},
     "output_type": "display_data"
    },
    {
     "data": {
      "application/vnd.jupyter.widget-view+json": {
       "model_id": "f06f1d3d10724695a6ae52bc665ed768",
       "version_major": 2,
       "version_minor": 0
      },
      "text/plain": [
       "Boundary attack - iterations:   0%|          | 0/50 [00:00<?, ?it/s]"
      ]
     },
     "metadata": {},
     "output_type": "display_data"
    },
    {
     "data": {
      "application/vnd.jupyter.widget-view+json": {
       "model_id": "3df118a243664ed3a1615d3fd360b953",
       "version_major": 2,
       "version_minor": 0
      },
      "text/plain": [
       "Boundary attack - iterations:   0%|          | 0/50 [00:00<?, ?it/s]"
      ]
     },
     "metadata": {},
     "output_type": "display_data"
    },
    {
     "data": {
      "application/vnd.jupyter.widget-view+json": {
       "model_id": "26c129f8a4d44ba892ead788df141668",
       "version_major": 2,
       "version_minor": 0
      },
      "text/plain": [
       "Boundary attack - iterations:   0%|          | 0/50 [00:00<?, ?it/s]"
      ]
     },
     "metadata": {},
     "output_type": "display_data"
    },
    {
     "data": {
      "application/vnd.jupyter.widget-view+json": {
       "model_id": "c79f8010ebd941ecb28360997a227ece",
       "version_major": 2,
       "version_minor": 0
      },
      "text/plain": [
       "Boundary attack - iterations:   0%|          | 0/50 [00:00<?, ?it/s]"
      ]
     },
     "metadata": {},
     "output_type": "display_data"
    },
    {
     "data": {
      "application/vnd.jupyter.widget-view+json": {
       "model_id": "4f91ac78f06e47e4afd25be284bf3ea9",
       "version_major": 2,
       "version_minor": 0
      },
      "text/plain": [
       "Boundary attack - iterations:   0%|          | 0/50 [00:00<?, ?it/s]"
      ]
     },
     "metadata": {},
     "output_type": "display_data"
    },
    {
     "data": {
      "application/vnd.jupyter.widget-view+json": {
       "model_id": "109d0487da8a4f9e8f18083e1fe6e16e",
       "version_major": 2,
       "version_minor": 0
      },
      "text/plain": [
       "Boundary attack - iterations:   0%|          | 0/50 [00:00<?, ?it/s]"
      ]
     },
     "metadata": {},
     "output_type": "display_data"
    },
    {
     "data": {
      "application/vnd.jupyter.widget-view+json": {
       "model_id": "af2348ec38194bcda18840aa0a625ff3",
       "version_major": 2,
       "version_minor": 0
      },
      "text/plain": [
       "Boundary attack - iterations:   0%|          | 0/50 [00:00<?, ?it/s]"
      ]
     },
     "metadata": {},
     "output_type": "display_data"
    },
    {
     "data": {
      "application/vnd.jupyter.widget-view+json": {
       "model_id": "4f42418d4e4f44a1a63361ddd95af46c",
       "version_major": 2,
       "version_minor": 0
      },
      "text/plain": [
       "Boundary attack - iterations:   0%|          | 0/50 [00:00<?, ?it/s]"
      ]
     },
     "metadata": {},
     "output_type": "display_data"
    },
    {
     "data": {
      "application/vnd.jupyter.widget-view+json": {
       "model_id": "de6ab05f780c403a97dc1191cee3b3f6",
       "version_major": 2,
       "version_minor": 0
      },
      "text/plain": [
       "Boundary attack - iterations:   0%|          | 0/50 [00:00<?, ?it/s]"
      ]
     },
     "metadata": {},
     "output_type": "display_data"
    },
    {
     "data": {
      "application/vnd.jupyter.widget-view+json": {
       "model_id": "131d7b0b31bb44098f3e7c21865d392c",
       "version_major": 2,
       "version_minor": 0
      },
      "text/plain": [
       "Boundary attack - iterations:   0%|          | 0/50 [00:00<?, ?it/s]"
      ]
     },
     "metadata": {},
     "output_type": "display_data"
    },
    {
     "data": {
      "application/vnd.jupyter.widget-view+json": {
       "model_id": "ed365146661342d2bd92b4f4c9e05839",
       "version_major": 2,
       "version_minor": 0
      },
      "text/plain": [
       "Boundary attack - iterations:   0%|          | 0/50 [00:00<?, ?it/s]"
      ]
     },
     "metadata": {},
     "output_type": "display_data"
    },
    {
     "data": {
      "application/vnd.jupyter.widget-view+json": {
       "model_id": "98dbdd9efa214d6fa0c5fcae54a95bff",
       "version_major": 2,
       "version_minor": 0
      },
      "text/plain": [
       "Boundary attack - iterations:   0%|          | 0/50 [00:00<?, ?it/s]"
      ]
     },
     "metadata": {},
     "output_type": "display_data"
    },
    {
     "data": {
      "application/vnd.jupyter.widget-view+json": {
       "model_id": "9c409e9f67724be5a63387f4bc55026c",
       "version_major": 2,
       "version_minor": 0
      },
      "text/plain": [
       "Boundary attack - iterations:   0%|          | 0/50 [00:00<?, ?it/s]"
      ]
     },
     "metadata": {},
     "output_type": "display_data"
    },
    {
     "data": {
      "application/vnd.jupyter.widget-view+json": {
       "model_id": "a835575572b84f0e80398de1e634a373",
       "version_major": 2,
       "version_minor": 0
      },
      "text/plain": [
       "Boundary attack - iterations:   0%|          | 0/50 [00:00<?, ?it/s]"
      ]
     },
     "metadata": {},
     "output_type": "display_data"
    },
    {
     "data": {
      "application/vnd.jupyter.widget-view+json": {
       "model_id": "9122252ea733484bb44e67fd09667d4b",
       "version_major": 2,
       "version_minor": 0
      },
      "text/plain": [
       "Boundary attack - iterations:   0%|          | 0/50 [00:00<?, ?it/s]"
      ]
     },
     "metadata": {},
     "output_type": "display_data"
    },
    {
     "data": {
      "application/vnd.jupyter.widget-view+json": {
       "model_id": "e78f841d6197449f8bd77fec840664fb",
       "version_major": 2,
       "version_minor": 0
      },
      "text/plain": [
       "Boundary attack - iterations:   0%|          | 0/50 [00:00<?, ?it/s]"
      ]
     },
     "metadata": {},
     "output_type": "display_data"
    },
    {
     "data": {
      "application/vnd.jupyter.widget-view+json": {
       "model_id": "404992e2ffcc4742addbb05eec50d67e",
       "version_major": 2,
       "version_minor": 0
      },
      "text/plain": [
       "Boundary attack - iterations:   0%|          | 0/50 [00:00<?, ?it/s]"
      ]
     },
     "metadata": {},
     "output_type": "display_data"
    },
    {
     "data": {
      "application/vnd.jupyter.widget-view+json": {
       "model_id": "035a40d2e6f54ba99a1f5b9264083ca9",
       "version_major": 2,
       "version_minor": 0
      },
      "text/plain": [
       "Boundary attack - iterations:   0%|          | 0/50 [00:00<?, ?it/s]"
      ]
     },
     "metadata": {},
     "output_type": "display_data"
    },
    {
     "data": {
      "application/vnd.jupyter.widget-view+json": {
       "model_id": "eda36a4f0e944776910d297756731cf2",
       "version_major": 2,
       "version_minor": 0
      },
      "text/plain": [
       "Boundary attack - iterations:   0%|          | 0/50 [00:00<?, ?it/s]"
      ]
     },
     "metadata": {},
     "output_type": "display_data"
    },
    {
     "data": {
      "application/vnd.jupyter.widget-view+json": {
       "model_id": "ad8fbbaa949441359a6fdbccfd236e34",
       "version_major": 2,
       "version_minor": 0
      },
      "text/plain": [
       "Boundary attack - iterations:   0%|          | 0/50 [00:00<?, ?it/s]"
      ]
     },
     "metadata": {},
     "output_type": "display_data"
    },
    {
     "data": {
      "application/vnd.jupyter.widget-view+json": {
       "model_id": "4577bb8b0b384deea7dcf5c2857f3fce",
       "version_major": 2,
       "version_minor": 0
      },
      "text/plain": [
       "Boundary attack - iterations:   0%|          | 0/50 [00:00<?, ?it/s]"
      ]
     },
     "metadata": {},
     "output_type": "display_data"
    },
    {
     "data": {
      "application/vnd.jupyter.widget-view+json": {
       "model_id": "8362daf174934ea39bafffe735a567e5",
       "version_major": 2,
       "version_minor": 0
      },
      "text/plain": [
       "Boundary attack - iterations:   0%|          | 0/50 [00:00<?, ?it/s]"
      ]
     },
     "metadata": {},
     "output_type": "display_data"
    },
    {
     "data": {
      "application/vnd.jupyter.widget-view+json": {
       "model_id": "9d7cbf3830ff4b16a127cea930cbaebd",
       "version_major": 2,
       "version_minor": 0
      },
      "text/plain": [
       "Boundary attack - iterations:   0%|          | 0/50 [00:00<?, ?it/s]"
      ]
     },
     "metadata": {},
     "output_type": "display_data"
    },
    {
     "data": {
      "application/vnd.jupyter.widget-view+json": {
       "model_id": "f2c74545160740d686a9a8e6b4e558a4",
       "version_major": 2,
       "version_minor": 0
      },
      "text/plain": [
       "Boundary attack - iterations:   0%|          | 0/50 [00:00<?, ?it/s]"
      ]
     },
     "metadata": {},
     "output_type": "display_data"
    },
    {
     "data": {
      "application/vnd.jupyter.widget-view+json": {
       "model_id": "9e5781ab7bb941baaaf0d487a44e4070",
       "version_major": 2,
       "version_minor": 0
      },
      "text/plain": [
       "Boundary attack - iterations:   0%|          | 0/50 [00:00<?, ?it/s]"
      ]
     },
     "metadata": {},
     "output_type": "display_data"
    },
    {
     "data": {
      "application/vnd.jupyter.widget-view+json": {
       "model_id": "0b61a83b846445189f2d1abfeb5cba85",
       "version_major": 2,
       "version_minor": 0
      },
      "text/plain": [
       "Boundary attack - iterations:   0%|          | 0/50 [00:00<?, ?it/s]"
      ]
     },
     "metadata": {},
     "output_type": "display_data"
    },
    {
     "data": {
      "application/vnd.jupyter.widget-view+json": {
       "model_id": "c7a4105e2f354e2d98fd711eb3e56648",
       "version_major": 2,
       "version_minor": 0
      },
      "text/plain": [
       "Boundary attack - iterations:   0%|          | 0/50 [00:00<?, ?it/s]"
      ]
     },
     "metadata": {},
     "output_type": "display_data"
    },
    {
     "data": {
      "application/vnd.jupyter.widget-view+json": {
       "model_id": "16a5c792c1334abe8efc237f4636d51d",
       "version_major": 2,
       "version_minor": 0
      },
      "text/plain": [
       "Boundary attack - iterations:   0%|          | 0/50 [00:00<?, ?it/s]"
      ]
     },
     "metadata": {},
     "output_type": "display_data"
    },
    {
     "data": {
      "application/vnd.jupyter.widget-view+json": {
       "model_id": "f895b204ffe04e8a9458a78bbef792df",
       "version_major": 2,
       "version_minor": 0
      },
      "text/plain": [
       "Boundary attack - iterations:   0%|          | 0/50 [00:00<?, ?it/s]"
      ]
     },
     "metadata": {},
     "output_type": "display_data"
    },
    {
     "data": {
      "application/vnd.jupyter.widget-view+json": {
       "model_id": "1ece936d511e42c7922c0587ac132e0d",
       "version_major": 2,
       "version_minor": 0
      },
      "text/plain": [
       "Boundary attack - iterations:   0%|          | 0/50 [00:00<?, ?it/s]"
      ]
     },
     "metadata": {},
     "output_type": "display_data"
    },
    {
     "data": {
      "application/vnd.jupyter.widget-view+json": {
       "model_id": "6eb6e8538ffe43f59ef691f301129ea2",
       "version_major": 2,
       "version_minor": 0
      },
      "text/plain": [
       "Boundary attack - iterations:   0%|          | 0/50 [00:00<?, ?it/s]"
      ]
     },
     "metadata": {},
     "output_type": "display_data"
    },
    {
     "data": {
      "application/vnd.jupyter.widget-view+json": {
       "model_id": "0aad5e47f1fd47bfac7c78a5c18b77b6",
       "version_major": 2,
       "version_minor": 0
      },
      "text/plain": [
       "Boundary attack - iterations:   0%|          | 0/50 [00:00<?, ?it/s]"
      ]
     },
     "metadata": {},
     "output_type": "display_data"
    },
    {
     "data": {
      "application/vnd.jupyter.widget-view+json": {
       "model_id": "c7e35bda4f144ed38d0b325a6ea460a0",
       "version_major": 2,
       "version_minor": 0
      },
      "text/plain": [
       "Boundary attack - iterations:   0%|          | 0/50 [00:00<?, ?it/s]"
      ]
     },
     "metadata": {},
     "output_type": "display_data"
    },
    {
     "data": {
      "application/vnd.jupyter.widget-view+json": {
       "model_id": "63acd1a0081e4888a8ee7f1bfa6dd521",
       "version_major": 2,
       "version_minor": 0
      },
      "text/plain": [
       "Boundary attack - iterations:   0%|          | 0/50 [00:00<?, ?it/s]"
      ]
     },
     "metadata": {},
     "output_type": "display_data"
    },
    {
     "data": {
      "application/vnd.jupyter.widget-view+json": {
       "model_id": "3f0fa2e7a1bc40bebe81e1f53456f1df",
       "version_major": 2,
       "version_minor": 0
      },
      "text/plain": [
       "Boundary attack - iterations:   0%|          | 0/50 [00:00<?, ?it/s]"
      ]
     },
     "metadata": {},
     "output_type": "display_data"
    },
    {
     "data": {
      "application/vnd.jupyter.widget-view+json": {
       "model_id": "4c0a0552a78d479facacd9f787c9db11",
       "version_major": 2,
       "version_minor": 0
      },
      "text/plain": [
       "Boundary attack - iterations:   0%|          | 0/50 [00:00<?, ?it/s]"
      ]
     },
     "metadata": {},
     "output_type": "display_data"
    },
    {
     "data": {
      "application/vnd.jupyter.widget-view+json": {
       "model_id": "a3c3af98335c496582dbeb6d279749e8",
       "version_major": 2,
       "version_minor": 0
      },
      "text/plain": [
       "Boundary attack - iterations:   0%|          | 0/50 [00:00<?, ?it/s]"
      ]
     },
     "metadata": {},
     "output_type": "display_data"
    },
    {
     "data": {
      "application/vnd.jupyter.widget-view+json": {
       "model_id": "6cb01165474c442587ec58b1260a6229",
       "version_major": 2,
       "version_minor": 0
      },
      "text/plain": [
       "Boundary attack - iterations:   0%|          | 0/50 [00:00<?, ?it/s]"
      ]
     },
     "metadata": {},
     "output_type": "display_data"
    },
    {
     "data": {
      "application/vnd.jupyter.widget-view+json": {
       "model_id": "c1da786328094a4a8789183227b9320c",
       "version_major": 2,
       "version_minor": 0
      },
      "text/plain": [
       "Boundary attack - iterations:   0%|          | 0/50 [00:00<?, ?it/s]"
      ]
     },
     "metadata": {},
     "output_type": "display_data"
    },
    {
     "data": {
      "application/vnd.jupyter.widget-view+json": {
       "model_id": "71c04069587e4afd991527dd89eef5d6",
       "version_major": 2,
       "version_minor": 0
      },
      "text/plain": [
       "Boundary attack - iterations:   0%|          | 0/50 [00:00<?, ?it/s]"
      ]
     },
     "metadata": {},
     "output_type": "display_data"
    },
    {
     "data": {
      "application/vnd.jupyter.widget-view+json": {
       "model_id": "270533cfeb03438d84762af887179cfe",
       "version_major": 2,
       "version_minor": 0
      },
      "text/plain": [
       "Boundary attack - iterations:   0%|          | 0/50 [00:00<?, ?it/s]"
      ]
     },
     "metadata": {},
     "output_type": "display_data"
    },
    {
     "data": {
      "application/vnd.jupyter.widget-view+json": {
       "model_id": "b3b5c3e9eb28414caf930609b40039c5",
       "version_major": 2,
       "version_minor": 0
      },
      "text/plain": [
       "Boundary attack - iterations:   0%|          | 0/50 [00:00<?, ?it/s]"
      ]
     },
     "metadata": {},
     "output_type": "display_data"
    },
    {
     "data": {
      "application/vnd.jupyter.widget-view+json": {
       "model_id": "69857be47c824af68ca8a2638e00af58",
       "version_major": 2,
       "version_minor": 0
      },
      "text/plain": [
       "Boundary attack - iterations:   0%|          | 0/50 [00:00<?, ?it/s]"
      ]
     },
     "metadata": {},
     "output_type": "display_data"
    },
    {
     "data": {
      "application/vnd.jupyter.widget-view+json": {
       "model_id": "8f8affe79c89411b9060bf153ed33522",
       "version_major": 2,
       "version_minor": 0
      },
      "text/plain": [
       "Boundary attack - iterations:   0%|          | 0/50 [00:00<?, ?it/s]"
      ]
     },
     "metadata": {},
     "output_type": "display_data"
    },
    {
     "data": {
      "application/vnd.jupyter.widget-view+json": {
       "model_id": "8f63fb482b08426eabe1b88812e6719e",
       "version_major": 2,
       "version_minor": 0
      },
      "text/plain": [
       "Boundary attack - iterations:   0%|          | 0/50 [00:00<?, ?it/s]"
      ]
     },
     "metadata": {},
     "output_type": "display_data"
    },
    {
     "data": {
      "application/vnd.jupyter.widget-view+json": {
       "model_id": "d24052cb2cd54e25904f4e866b80fe53",
       "version_major": 2,
       "version_minor": 0
      },
      "text/plain": [
       "Boundary attack - iterations:   0%|          | 0/50 [00:00<?, ?it/s]"
      ]
     },
     "metadata": {},
     "output_type": "display_data"
    },
    {
     "data": {
      "application/vnd.jupyter.widget-view+json": {
       "model_id": "b6afa4f1e2a04e3eaa59a9c41158210f",
       "version_major": 2,
       "version_minor": 0
      },
      "text/plain": [
       "Boundary attack - iterations:   0%|          | 0/50 [00:00<?, ?it/s]"
      ]
     },
     "metadata": {},
     "output_type": "display_data"
    },
    {
     "data": {
      "application/vnd.jupyter.widget-view+json": {
       "model_id": "f59e4378e5064f899ed6dfd7cf1d0bb8",
       "version_major": 2,
       "version_minor": 0
      },
      "text/plain": [
       "Boundary attack - iterations:   0%|          | 0/50 [00:00<?, ?it/s]"
      ]
     },
     "metadata": {},
     "output_type": "display_data"
    },
    {
     "data": {
      "application/vnd.jupyter.widget-view+json": {
       "model_id": "fd35963ba13f4543919b95194bb9f31e",
       "version_major": 2,
       "version_minor": 0
      },
      "text/plain": [
       "Boundary attack - iterations:   0%|          | 0/50 [00:00<?, ?it/s]"
      ]
     },
     "metadata": {},
     "output_type": "display_data"
    },
    {
     "data": {
      "application/vnd.jupyter.widget-view+json": {
       "model_id": "c47628d2bb644943bb9bde4505cb94b0",
       "version_major": 2,
       "version_minor": 0
      },
      "text/plain": [
       "Boundary attack - iterations:   0%|          | 0/50 [00:00<?, ?it/s]"
      ]
     },
     "metadata": {},
     "output_type": "display_data"
    },
    {
     "data": {
      "application/vnd.jupyter.widget-view+json": {
       "model_id": "d731ba7072174157b8e9baa8cd4f66f0",
       "version_major": 2,
       "version_minor": 0
      },
      "text/plain": [
       "Boundary attack - iterations:   0%|          | 0/50 [00:00<?, ?it/s]"
      ]
     },
     "metadata": {},
     "output_type": "display_data"
    },
    {
     "data": {
      "application/vnd.jupyter.widget-view+json": {
       "model_id": "3d003f4777504471a1a96441dedc8f0b",
       "version_major": 2,
       "version_minor": 0
      },
      "text/plain": [
       "Boundary attack - iterations:   0%|          | 0/50 [00:00<?, ?it/s]"
      ]
     },
     "metadata": {},
     "output_type": "display_data"
    },
    {
     "data": {
      "application/vnd.jupyter.widget-view+json": {
       "model_id": "c28ba7e13c4b4121a05f1f67166a73e4",
       "version_major": 2,
       "version_minor": 0
      },
      "text/plain": [
       "Boundary attack - iterations:   0%|          | 0/50 [00:00<?, ?it/s]"
      ]
     },
     "metadata": {},
     "output_type": "display_data"
    },
    {
     "data": {
      "application/vnd.jupyter.widget-view+json": {
       "model_id": "3636e8abea9346cbbcab6eda2d479d11",
       "version_major": 2,
       "version_minor": 0
      },
      "text/plain": [
       "Boundary attack - iterations:   0%|          | 0/50 [00:00<?, ?it/s]"
      ]
     },
     "metadata": {},
     "output_type": "display_data"
    },
    {
     "data": {
      "application/vnd.jupyter.widget-view+json": {
       "model_id": "3fea5a2a081043ba92ac2094be6c2bb1",
       "version_major": 2,
       "version_minor": 0
      },
      "text/plain": [
       "Boundary attack - iterations:   0%|          | 0/50 [00:00<?, ?it/s]"
      ]
     },
     "metadata": {},
     "output_type": "display_data"
    },
    {
     "data": {
      "application/vnd.jupyter.widget-view+json": {
       "model_id": "56da32ae904c484f852077139eb133e9",
       "version_major": 2,
       "version_minor": 0
      },
      "text/plain": [
       "Boundary attack - iterations:   0%|          | 0/50 [00:00<?, ?it/s]"
      ]
     },
     "metadata": {},
     "output_type": "display_data"
    },
    {
     "data": {
      "application/vnd.jupyter.widget-view+json": {
       "model_id": "a5fb642ab7bb495ea203904d494cbf5d",
       "version_major": 2,
       "version_minor": 0
      },
      "text/plain": [
       "Boundary attack - iterations:   0%|          | 0/50 [00:00<?, ?it/s]"
      ]
     },
     "metadata": {},
     "output_type": "display_data"
    },
    {
     "data": {
      "application/vnd.jupyter.widget-view+json": {
       "model_id": "299081eb36f04c5b964169b6029c44c4",
       "version_major": 2,
       "version_minor": 0
      },
      "text/plain": [
       "Boundary attack - iterations:   0%|          | 0/50 [00:00<?, ?it/s]"
      ]
     },
     "metadata": {},
     "output_type": "display_data"
    },
    {
     "data": {
      "application/vnd.jupyter.widget-view+json": {
       "model_id": "10ba60e35e4c4c76a0f022b29c62ad77",
       "version_major": 2,
       "version_minor": 0
      },
      "text/plain": [
       "Boundary attack - iterations:   0%|          | 0/50 [00:00<?, ?it/s]"
      ]
     },
     "metadata": {},
     "output_type": "display_data"
    },
    {
     "data": {
      "application/vnd.jupyter.widget-view+json": {
       "model_id": "50b9835a2b99457380d9948dfec7b1af",
       "version_major": 2,
       "version_minor": 0
      },
      "text/plain": [
       "Boundary attack - iterations:   0%|          | 0/50 [00:00<?, ?it/s]"
      ]
     },
     "metadata": {},
     "output_type": "display_data"
    },
    {
     "data": {
      "application/vnd.jupyter.widget-view+json": {
       "model_id": "4ee60c6c3db34f58ae7211cf63c5ac2b",
       "version_major": 2,
       "version_minor": 0
      },
      "text/plain": [
       "Boundary attack - iterations:   0%|          | 0/50 [00:00<?, ?it/s]"
      ]
     },
     "metadata": {},
     "output_type": "display_data"
    },
    {
     "data": {
      "application/vnd.jupyter.widget-view+json": {
       "model_id": "5d510f0cc9ab49f7a3f2163aa7131836",
       "version_major": 2,
       "version_minor": 0
      },
      "text/plain": [
       "Boundary attack - iterations:   0%|          | 0/50 [00:00<?, ?it/s]"
      ]
     },
     "metadata": {},
     "output_type": "display_data"
    },
    {
     "data": {
      "application/vnd.jupyter.widget-view+json": {
       "model_id": "b406a35e7c024ecfbcc2be342696830e",
       "version_major": 2,
       "version_minor": 0
      },
      "text/plain": [
       "Boundary attack - iterations:   0%|          | 0/50 [00:00<?, ?it/s]"
      ]
     },
     "metadata": {},
     "output_type": "display_data"
    },
    {
     "data": {
      "application/vnd.jupyter.widget-view+json": {
       "model_id": "aa7ccc99a3164868bf2113adee73df70",
       "version_major": 2,
       "version_minor": 0
      },
      "text/plain": [
       "Boundary attack - iterations:   0%|          | 0/50 [00:00<?, ?it/s]"
      ]
     },
     "metadata": {},
     "output_type": "display_data"
    },
    {
     "data": {
      "application/vnd.jupyter.widget-view+json": {
       "model_id": "74e70388777a470db65092b0c4eb0253",
       "version_major": 2,
       "version_minor": 0
      },
      "text/plain": [
       "Boundary attack - iterations:   0%|          | 0/50 [00:00<?, ?it/s]"
      ]
     },
     "metadata": {},
     "output_type": "display_data"
    },
    {
     "data": {
      "application/vnd.jupyter.widget-view+json": {
       "model_id": "778a11831a9d474cacbefe8d327c3073",
       "version_major": 2,
       "version_minor": 0
      },
      "text/plain": [
       "Boundary attack - iterations:   0%|          | 0/50 [00:00<?, ?it/s]"
      ]
     },
     "metadata": {},
     "output_type": "display_data"
    },
    {
     "data": {
      "application/vnd.jupyter.widget-view+json": {
       "model_id": "23ac4349123e4b5c8718dbc24a475ab6",
       "version_major": 2,
       "version_minor": 0
      },
      "text/plain": [
       "Boundary attack - iterations:   0%|          | 0/50 [00:00<?, ?it/s]"
      ]
     },
     "metadata": {},
     "output_type": "display_data"
    },
    {
     "data": {
      "application/vnd.jupyter.widget-view+json": {
       "model_id": "fecd58a4b8b24499b16656a864765bba",
       "version_major": 2,
       "version_minor": 0
      },
      "text/plain": [
       "Boundary attack - iterations:   0%|          | 0/50 [00:00<?, ?it/s]"
      ]
     },
     "metadata": {},
     "output_type": "display_data"
    },
    {
     "data": {
      "application/vnd.jupyter.widget-view+json": {
       "model_id": "5ec06886b6444eec80e2cb0da63209e0",
       "version_major": 2,
       "version_minor": 0
      },
      "text/plain": [
       "Boundary attack - iterations:   0%|          | 0/50 [00:00<?, ?it/s]"
      ]
     },
     "metadata": {},
     "output_type": "display_data"
    },
    {
     "data": {
      "application/vnd.jupyter.widget-view+json": {
       "model_id": "d8230ec7312245488306d8376b67cd9e",
       "version_major": 2,
       "version_minor": 0
      },
      "text/plain": [
       "Boundary attack - iterations:   0%|          | 0/50 [00:00<?, ?it/s]"
      ]
     },
     "metadata": {},
     "output_type": "display_data"
    },
    {
     "data": {
      "application/vnd.jupyter.widget-view+json": {
       "model_id": "c688a2e1f6e64003a0140b64557214b7",
       "version_major": 2,
       "version_minor": 0
      },
      "text/plain": [
       "Boundary attack - iterations:   0%|          | 0/50 [00:00<?, ?it/s]"
      ]
     },
     "metadata": {},
     "output_type": "display_data"
    },
    {
     "data": {
      "application/vnd.jupyter.widget-view+json": {
       "model_id": "779bedcee4e144a7a24a701cc2f6784b",
       "version_major": 2,
       "version_minor": 0
      },
      "text/plain": [
       "Boundary attack - iterations:   0%|          | 0/50 [00:00<?, ?it/s]"
      ]
     },
     "metadata": {},
     "output_type": "display_data"
    },
    {
     "data": {
      "application/vnd.jupyter.widget-view+json": {
       "model_id": "7e329fa35bc64bdb9f4fa638128e4905",
       "version_major": 2,
       "version_minor": 0
      },
      "text/plain": [
       "Boundary attack - iterations:   0%|          | 0/50 [00:00<?, ?it/s]"
      ]
     },
     "metadata": {},
     "output_type": "display_data"
    },
    {
     "data": {
      "application/vnd.jupyter.widget-view+json": {
       "model_id": "dbc52fc278244d25901a791664d91b9b",
       "version_major": 2,
       "version_minor": 0
      },
      "text/plain": [
       "Boundary attack - iterations:   0%|          | 0/50 [00:00<?, ?it/s]"
      ]
     },
     "metadata": {},
     "output_type": "display_data"
    },
    {
     "data": {
      "application/vnd.jupyter.widget-view+json": {
       "model_id": "3a95f51f47474eecbb73083acda5c78c",
       "version_major": 2,
       "version_minor": 0
      },
      "text/plain": [
       "Boundary attack - iterations:   0%|          | 0/50 [00:00<?, ?it/s]"
      ]
     },
     "metadata": {},
     "output_type": "display_data"
    },
    {
     "data": {
      "application/vnd.jupyter.widget-view+json": {
       "model_id": "9f7e5d64feb644d0aeaf98792013cb49",
       "version_major": 2,
       "version_minor": 0
      },
      "text/plain": [
       "Boundary attack - iterations:   0%|          | 0/50 [00:00<?, ?it/s]"
      ]
     },
     "metadata": {},
     "output_type": "display_data"
    },
    {
     "data": {
      "application/vnd.jupyter.widget-view+json": {
       "model_id": "d3aecb536c924870919fcf8eadb908f1",
       "version_major": 2,
       "version_minor": 0
      },
      "text/plain": [
       "Boundary attack - iterations:   0%|          | 0/50 [00:00<?, ?it/s]"
      ]
     },
     "metadata": {},
     "output_type": "display_data"
    },
    {
     "data": {
      "application/vnd.jupyter.widget-view+json": {
       "model_id": "05850ceb87ba4f2fa65efc2fc2165bac",
       "version_major": 2,
       "version_minor": 0
      },
      "text/plain": [
       "Boundary attack - iterations:   0%|          | 0/50 [00:00<?, ?it/s]"
      ]
     },
     "metadata": {},
     "output_type": "display_data"
    },
    {
     "data": {
      "application/vnd.jupyter.widget-view+json": {
       "model_id": "4d2318c0992b4ed48007b9bc2eee3abe",
       "version_major": 2,
       "version_minor": 0
      },
      "text/plain": [
       "Boundary attack - iterations:   0%|          | 0/50 [00:00<?, ?it/s]"
      ]
     },
     "metadata": {},
     "output_type": "display_data"
    },
    {
     "data": {
      "application/vnd.jupyter.widget-view+json": {
       "model_id": "80c64e92e0fb4a63bd0cf977b640bd97",
       "version_major": 2,
       "version_minor": 0
      },
      "text/plain": [
       "Boundary attack - iterations:   0%|          | 0/50 [00:00<?, ?it/s]"
      ]
     },
     "metadata": {},
     "output_type": "display_data"
    },
    {
     "data": {
      "application/vnd.jupyter.widget-view+json": {
       "model_id": "ba3935ab7ca046a79caa9f238750cf4a",
       "version_major": 2,
       "version_minor": 0
      },
      "text/plain": [
       "Boundary attack - iterations:   0%|          | 0/50 [00:00<?, ?it/s]"
      ]
     },
     "metadata": {},
     "output_type": "display_data"
    },
    {
     "data": {
      "application/vnd.jupyter.widget-view+json": {
       "model_id": "4f75dc4c5cbc44f7bf02682783484791",
       "version_major": 2,
       "version_minor": 0
      },
      "text/plain": [
       "Boundary attack - iterations:   0%|          | 0/50 [00:00<?, ?it/s]"
      ]
     },
     "metadata": {},
     "output_type": "display_data"
    },
    {
     "data": {
      "application/vnd.jupyter.widget-view+json": {
       "model_id": "b844c845009644e3aabae6d9927d7393",
       "version_major": 2,
       "version_minor": 0
      },
      "text/plain": [
       "Boundary attack - iterations:   0%|          | 0/50 [00:00<?, ?it/s]"
      ]
     },
     "metadata": {},
     "output_type": "display_data"
    },
    {
     "data": {
      "application/vnd.jupyter.widget-view+json": {
       "model_id": "b86a1cacc35849a580ca4418432c2472",
       "version_major": 2,
       "version_minor": 0
      },
      "text/plain": [
       "Boundary attack - iterations:   0%|          | 0/50 [00:00<?, ?it/s]"
      ]
     },
     "metadata": {},
     "output_type": "display_data"
    },
    {
     "data": {
      "application/vnd.jupyter.widget-view+json": {
       "model_id": "21eef9da67484e67aaba98401ea47b52",
       "version_major": 2,
       "version_minor": 0
      },
      "text/plain": [
       "Boundary attack - iterations:   0%|          | 0/50 [00:00<?, ?it/s]"
      ]
     },
     "metadata": {},
     "output_type": "display_data"
    },
    {
     "data": {
      "application/vnd.jupyter.widget-view+json": {
       "model_id": "9b969595ada44d8286dbeb809faaf790",
       "version_major": 2,
       "version_minor": 0
      },
      "text/plain": [
       "Boundary attack - iterations:   0%|          | 0/50 [00:00<?, ?it/s]"
      ]
     },
     "metadata": {},
     "output_type": "display_data"
    },
    {
     "data": {
      "application/vnd.jupyter.widget-view+json": {
       "model_id": "eb7c2270bc084fae8e36ee5c21d2765d",
       "version_major": 2,
       "version_minor": 0
      },
      "text/plain": [
       "Boundary attack - iterations:   0%|          | 0/50 [00:00<?, ?it/s]"
      ]
     },
     "metadata": {},
     "output_type": "display_data"
    },
    {
     "data": {
      "application/vnd.jupyter.widget-view+json": {
       "model_id": "db4fb99988ba40109333d41c90dd95f2",
       "version_major": 2,
       "version_minor": 0
      },
      "text/plain": [
       "Boundary attack - iterations:   0%|          | 0/50 [00:00<?, ?it/s]"
      ]
     },
     "metadata": {},
     "output_type": "display_data"
    },
    {
     "data": {
      "application/vnd.jupyter.widget-view+json": {
       "model_id": "b9ea6da1d7d44cfca3ad04d93d697385",
       "version_major": 2,
       "version_minor": 0
      },
      "text/plain": [
       "Boundary attack - iterations:   0%|          | 0/50 [00:00<?, ?it/s]"
      ]
     },
     "metadata": {},
     "output_type": "display_data"
    },
    {
     "data": {
      "application/vnd.jupyter.widget-view+json": {
       "model_id": "873b75de4c924233901e428d4c9948f8",
       "version_major": 2,
       "version_minor": 0
      },
      "text/plain": [
       "Boundary attack - iterations:   0%|          | 0/50 [00:00<?, ?it/s]"
      ]
     },
     "metadata": {},
     "output_type": "display_data"
    },
    {
     "data": {
      "application/vnd.jupyter.widget-view+json": {
       "model_id": "47c6f2a6844849c5825fd5bb02f98868",
       "version_major": 2,
       "version_minor": 0
      },
      "text/plain": [
       "Boundary attack - iterations:   0%|          | 0/50 [00:00<?, ?it/s]"
      ]
     },
     "metadata": {},
     "output_type": "display_data"
    },
    {
     "data": {
      "application/vnd.jupyter.widget-view+json": {
       "model_id": "329e564934e94eed90cc002c899cf8b4",
       "version_major": 2,
       "version_minor": 0
      },
      "text/plain": [
       "Boundary attack - iterations:   0%|          | 0/50 [00:00<?, ?it/s]"
      ]
     },
     "metadata": {},
     "output_type": "display_data"
    },
    {
     "data": {
      "application/vnd.jupyter.widget-view+json": {
       "model_id": "59dfe9e59cc043e99c433b7a0f477fb4",
       "version_major": 2,
       "version_minor": 0
      },
      "text/plain": [
       "Boundary attack - iterations:   0%|          | 0/50 [00:00<?, ?it/s]"
      ]
     },
     "metadata": {},
     "output_type": "display_data"
    },
    {
     "name": "stdout",
     "output_type": "stream",
     "text": [
      "16/16 [==============================] - 0s 14ms/step - loss: 0.9419 - acc: 0.0180\n"
     ]
    },
    {
     "data": {
      "application/vnd.jupyter.widget-view+json": {
       "model_id": "163827fa7e9246caacb633f509921644",
       "version_major": 2,
       "version_minor": 0
      },
      "text/plain": [
       "Boundary attack:   0%|          | 0/500 [00:00<?, ?it/s]"
      ]
     },
     "metadata": {},
     "output_type": "display_data"
    },
    {
     "data": {
      "application/vnd.jupyter.widget-view+json": {
       "model_id": "0f4b341e75fd44c5b054cfc3baf5b4ad",
       "version_major": 2,
       "version_minor": 0
      },
      "text/plain": [
       "Boundary attack - iterations:   0%|          | 0/50 [00:00<?, ?it/s]"
      ]
     },
     "metadata": {},
     "output_type": "display_data"
    },
    {
     "data": {
      "application/vnd.jupyter.widget-view+json": {
       "model_id": "561d6ab0b6ec40fcb91dbe7cace02f6d",
       "version_major": 2,
       "version_minor": 0
      },
      "text/plain": [
       "Boundary attack - iterations:   0%|          | 0/50 [00:00<?, ?it/s]"
      ]
     },
     "metadata": {},
     "output_type": "display_data"
    },
    {
     "data": {
      "application/vnd.jupyter.widget-view+json": {
       "model_id": "8afe1c09cf2a44888914013dc9c3039c",
       "version_major": 2,
       "version_minor": 0
      },
      "text/plain": [
       "Boundary attack - iterations:   0%|          | 0/50 [00:00<?, ?it/s]"
      ]
     },
     "metadata": {},
     "output_type": "display_data"
    },
    {
     "data": {
      "application/vnd.jupyter.widget-view+json": {
       "model_id": "0f4ac99fc3854dc2b355eb1ea65044c3",
       "version_major": 2,
       "version_minor": 0
      },
      "text/plain": [
       "Boundary attack - iterations:   0%|          | 0/50 [00:00<?, ?it/s]"
      ]
     },
     "metadata": {},
     "output_type": "display_data"
    },
    {
     "data": {
      "application/vnd.jupyter.widget-view+json": {
       "model_id": "0c168608902e495bb855555ca73827c5",
       "version_major": 2,
       "version_minor": 0
      },
      "text/plain": [
       "Boundary attack - iterations:   0%|          | 0/50 [00:00<?, ?it/s]"
      ]
     },
     "metadata": {},
     "output_type": "display_data"
    },
    {
     "data": {
      "application/vnd.jupyter.widget-view+json": {
       "model_id": "b7aa3f0a079d40e2bacc6c8a6fab7c01",
       "version_major": 2,
       "version_minor": 0
      },
      "text/plain": [
       "Boundary attack - iterations:   0%|          | 0/50 [00:00<?, ?it/s]"
      ]
     },
     "metadata": {},
     "output_type": "display_data"
    },
    {
     "data": {
      "application/vnd.jupyter.widget-view+json": {
       "model_id": "10007be0040446cf9cb86ac60391b6d8",
       "version_major": 2,
       "version_minor": 0
      },
      "text/plain": [
       "Boundary attack - iterations:   0%|          | 0/50 [00:00<?, ?it/s]"
      ]
     },
     "metadata": {},
     "output_type": "display_data"
    },
    {
     "data": {
      "application/vnd.jupyter.widget-view+json": {
       "model_id": "c7be96e7820d4261aa7656953fa2f530",
       "version_major": 2,
       "version_minor": 0
      },
      "text/plain": [
       "Boundary attack - iterations:   0%|          | 0/50 [00:00<?, ?it/s]"
      ]
     },
     "metadata": {},
     "output_type": "display_data"
    },
    {
     "data": {
      "application/vnd.jupyter.widget-view+json": {
       "model_id": "56256cac2fac48bca819b876d2dda0dd",
       "version_major": 2,
       "version_minor": 0
      },
      "text/plain": [
       "Boundary attack - iterations:   0%|          | 0/50 [00:00<?, ?it/s]"
      ]
     },
     "metadata": {},
     "output_type": "display_data"
    },
    {
     "data": {
      "application/vnd.jupyter.widget-view+json": {
       "model_id": "3383972811d14037acb9207cf0ee6ed4",
       "version_major": 2,
       "version_minor": 0
      },
      "text/plain": [
       "Boundary attack - iterations:   0%|          | 0/50 [00:00<?, ?it/s]"
      ]
     },
     "metadata": {},
     "output_type": "display_data"
    },
    {
     "data": {
      "application/vnd.jupyter.widget-view+json": {
       "model_id": "48e7f8d95d154039a25af00d5051ba1a",
       "version_major": 2,
       "version_minor": 0
      },
      "text/plain": [
       "Boundary attack - iterations:   0%|          | 0/50 [00:00<?, ?it/s]"
      ]
     },
     "metadata": {},
     "output_type": "display_data"
    },
    {
     "data": {
      "application/vnd.jupyter.widget-view+json": {
       "model_id": "46596479732143459c40ac4e03b870ae",
       "version_major": 2,
       "version_minor": 0
      },
      "text/plain": [
       "Boundary attack - iterations:   0%|          | 0/50 [00:00<?, ?it/s]"
      ]
     },
     "metadata": {},
     "output_type": "display_data"
    },
    {
     "data": {
      "application/vnd.jupyter.widget-view+json": {
       "model_id": "7dab8fa7c05141328b1965469d27a8f2",
       "version_major": 2,
       "version_minor": 0
      },
      "text/plain": [
       "Boundary attack - iterations:   0%|          | 0/50 [00:00<?, ?it/s]"
      ]
     },
     "metadata": {},
     "output_type": "display_data"
    },
    {
     "data": {
      "application/vnd.jupyter.widget-view+json": {
       "model_id": "0f3d553c7e504eb1beaf10ee1b9839c8",
       "version_major": 2,
       "version_minor": 0
      },
      "text/plain": [
       "Boundary attack - iterations:   0%|          | 0/50 [00:00<?, ?it/s]"
      ]
     },
     "metadata": {},
     "output_type": "display_data"
    },
    {
     "data": {
      "application/vnd.jupyter.widget-view+json": {
       "model_id": "99964819c5a14134bd6f9bde268dd6db",
       "version_major": 2,
       "version_minor": 0
      },
      "text/plain": [
       "Boundary attack - iterations:   0%|          | 0/50 [00:00<?, ?it/s]"
      ]
     },
     "metadata": {},
     "output_type": "display_data"
    },
    {
     "data": {
      "application/vnd.jupyter.widget-view+json": {
       "model_id": "6b0ffddc36a6493ba59a72270ace82e8",
       "version_major": 2,
       "version_minor": 0
      },
      "text/plain": [
       "Boundary attack - iterations:   0%|          | 0/50 [00:00<?, ?it/s]"
      ]
     },
     "metadata": {},
     "output_type": "display_data"
    },
    {
     "data": {
      "application/vnd.jupyter.widget-view+json": {
       "model_id": "65fcb9aaff644ca8b04a4379797a9294",
       "version_major": 2,
       "version_minor": 0
      },
      "text/plain": [
       "Boundary attack - iterations:   0%|          | 0/50 [00:00<?, ?it/s]"
      ]
     },
     "metadata": {},
     "output_type": "display_data"
    },
    {
     "data": {
      "application/vnd.jupyter.widget-view+json": {
       "model_id": "aadb7f609c624eb6a971d4e9dce9c880",
       "version_major": 2,
       "version_minor": 0
      },
      "text/plain": [
       "Boundary attack - iterations:   0%|          | 0/50 [00:00<?, ?it/s]"
      ]
     },
     "metadata": {},
     "output_type": "display_data"
    },
    {
     "data": {
      "application/vnd.jupyter.widget-view+json": {
       "model_id": "fb87400187ac43f09567bfa91db651cd",
       "version_major": 2,
       "version_minor": 0
      },
      "text/plain": [
       "Boundary attack - iterations:   0%|          | 0/50 [00:00<?, ?it/s]"
      ]
     },
     "metadata": {},
     "output_type": "display_data"
    },
    {
     "data": {
      "application/vnd.jupyter.widget-view+json": {
       "model_id": "33be657b7dca4056b2ee60bef74b4465",
       "version_major": 2,
       "version_minor": 0
      },
      "text/plain": [
       "Boundary attack - iterations:   0%|          | 0/50 [00:00<?, ?it/s]"
      ]
     },
     "metadata": {},
     "output_type": "display_data"
    },
    {
     "data": {
      "application/vnd.jupyter.widget-view+json": {
       "model_id": "c4d11f0eed5f4bceb4df515b7b831730",
       "version_major": 2,
       "version_minor": 0
      },
      "text/plain": [
       "Boundary attack - iterations:   0%|          | 0/50 [00:00<?, ?it/s]"
      ]
     },
     "metadata": {},
     "output_type": "display_data"
    },
    {
     "data": {
      "application/vnd.jupyter.widget-view+json": {
       "model_id": "44f61e21c7b245858c8f9ce06a489e70",
       "version_major": 2,
       "version_minor": 0
      },
      "text/plain": [
       "Boundary attack - iterations:   0%|          | 0/50 [00:00<?, ?it/s]"
      ]
     },
     "metadata": {},
     "output_type": "display_data"
    },
    {
     "data": {
      "application/vnd.jupyter.widget-view+json": {
       "model_id": "45f9769a26e2478cbb96011c3e531f5e",
       "version_major": 2,
       "version_minor": 0
      },
      "text/plain": [
       "Boundary attack - iterations:   0%|          | 0/50 [00:00<?, ?it/s]"
      ]
     },
     "metadata": {},
     "output_type": "display_data"
    },
    {
     "data": {
      "application/vnd.jupyter.widget-view+json": {
       "model_id": "6dc2c29a9d6c46c58ff52ad0bfcfc1ad",
       "version_major": 2,
       "version_minor": 0
      },
      "text/plain": [
       "Boundary attack - iterations:   0%|          | 0/50 [00:00<?, ?it/s]"
      ]
     },
     "metadata": {},
     "output_type": "display_data"
    },
    {
     "data": {
      "application/vnd.jupyter.widget-view+json": {
       "model_id": "ae9ccf41e40c4fbaae025ab99a989635",
       "version_major": 2,
       "version_minor": 0
      },
      "text/plain": [
       "Boundary attack - iterations:   0%|          | 0/50 [00:00<?, ?it/s]"
      ]
     },
     "metadata": {},
     "output_type": "display_data"
    },
    {
     "data": {
      "application/vnd.jupyter.widget-view+json": {
       "model_id": "2719d70ba6b24810a82a056eaa9f642a",
       "version_major": 2,
       "version_minor": 0
      },
      "text/plain": [
       "Boundary attack - iterations:   0%|          | 0/50 [00:00<?, ?it/s]"
      ]
     },
     "metadata": {},
     "output_type": "display_data"
    },
    {
     "data": {
      "application/vnd.jupyter.widget-view+json": {
       "model_id": "67323bd229c54afbb607d9ef84d14246",
       "version_major": 2,
       "version_minor": 0
      },
      "text/plain": [
       "Boundary attack - iterations:   0%|          | 0/50 [00:00<?, ?it/s]"
      ]
     },
     "metadata": {},
     "output_type": "display_data"
    },
    {
     "data": {
      "application/vnd.jupyter.widget-view+json": {
       "model_id": "d87412290a2341ed8bf88b431760dd03",
       "version_major": 2,
       "version_minor": 0
      },
      "text/plain": [
       "Boundary attack - iterations:   0%|          | 0/50 [00:00<?, ?it/s]"
      ]
     },
     "metadata": {},
     "output_type": "display_data"
    },
    {
     "data": {
      "application/vnd.jupyter.widget-view+json": {
       "model_id": "200c9619a2754a1986780a4425b2d5cd",
       "version_major": 2,
       "version_minor": 0
      },
      "text/plain": [
       "Boundary attack - iterations:   0%|          | 0/50 [00:00<?, ?it/s]"
      ]
     },
     "metadata": {},
     "output_type": "display_data"
    },
    {
     "data": {
      "application/vnd.jupyter.widget-view+json": {
       "model_id": "81d38234d2a648c5aed270d2c633977b",
       "version_major": 2,
       "version_minor": 0
      },
      "text/plain": [
       "Boundary attack - iterations:   0%|          | 0/50 [00:00<?, ?it/s]"
      ]
     },
     "metadata": {},
     "output_type": "display_data"
    },
    {
     "data": {
      "application/vnd.jupyter.widget-view+json": {
       "model_id": "257990c78a2e4630a251c74d16116206",
       "version_major": 2,
       "version_minor": 0
      },
      "text/plain": [
       "Boundary attack - iterations:   0%|          | 0/50 [00:00<?, ?it/s]"
      ]
     },
     "metadata": {},
     "output_type": "display_data"
    },
    {
     "data": {
      "application/vnd.jupyter.widget-view+json": {
       "model_id": "31c34dc5ea62480b8006260b93739b02",
       "version_major": 2,
       "version_minor": 0
      },
      "text/plain": [
       "Boundary attack - iterations:   0%|          | 0/50 [00:00<?, ?it/s]"
      ]
     },
     "metadata": {},
     "output_type": "display_data"
    },
    {
     "data": {
      "application/vnd.jupyter.widget-view+json": {
       "model_id": "0874a0dd886c48bd9f9733c463427731",
       "version_major": 2,
       "version_minor": 0
      },
      "text/plain": [
       "Boundary attack - iterations:   0%|          | 0/50 [00:00<?, ?it/s]"
      ]
     },
     "metadata": {},
     "output_type": "display_data"
    },
    {
     "data": {
      "application/vnd.jupyter.widget-view+json": {
       "model_id": "a0b30719532240da805be29d664503f8",
       "version_major": 2,
       "version_minor": 0
      },
      "text/plain": [
       "Boundary attack - iterations:   0%|          | 0/50 [00:00<?, ?it/s]"
      ]
     },
     "metadata": {},
     "output_type": "display_data"
    },
    {
     "data": {
      "application/vnd.jupyter.widget-view+json": {
       "model_id": "6d041346ee98438a8762c5f447836eca",
       "version_major": 2,
       "version_minor": 0
      },
      "text/plain": [
       "Boundary attack - iterations:   0%|          | 0/50 [00:00<?, ?it/s]"
      ]
     },
     "metadata": {},
     "output_type": "display_data"
    },
    {
     "data": {
      "application/vnd.jupyter.widget-view+json": {
       "model_id": "fcd3122744c5437694129c4b4b1e07e2",
       "version_major": 2,
       "version_minor": 0
      },
      "text/plain": [
       "Boundary attack - iterations:   0%|          | 0/50 [00:00<?, ?it/s]"
      ]
     },
     "metadata": {},
     "output_type": "display_data"
    },
    {
     "data": {
      "application/vnd.jupyter.widget-view+json": {
       "model_id": "fe6efb60b01942098ccfffdff4567ce0",
       "version_major": 2,
       "version_minor": 0
      },
      "text/plain": [
       "Boundary attack - iterations:   0%|          | 0/50 [00:00<?, ?it/s]"
      ]
     },
     "metadata": {},
     "output_type": "display_data"
    },
    {
     "data": {
      "application/vnd.jupyter.widget-view+json": {
       "model_id": "076523cfbcfb456997570536cdd48494",
       "version_major": 2,
       "version_minor": 0
      },
      "text/plain": [
       "Boundary attack - iterations:   0%|          | 0/50 [00:00<?, ?it/s]"
      ]
     },
     "metadata": {},
     "output_type": "display_data"
    },
    {
     "data": {
      "application/vnd.jupyter.widget-view+json": {
       "model_id": "d8336ff185ff4d708ab31e05c146244b",
       "version_major": 2,
       "version_minor": 0
      },
      "text/plain": [
       "Boundary attack - iterations:   0%|          | 0/50 [00:00<?, ?it/s]"
      ]
     },
     "metadata": {},
     "output_type": "display_data"
    },
    {
     "data": {
      "application/vnd.jupyter.widget-view+json": {
       "model_id": "6a6110ab6e724df9a8b20e79317ea7bf",
       "version_major": 2,
       "version_minor": 0
      },
      "text/plain": [
       "Boundary attack - iterations:   0%|          | 0/50 [00:00<?, ?it/s]"
      ]
     },
     "metadata": {},
     "output_type": "display_data"
    },
    {
     "data": {
      "application/vnd.jupyter.widget-view+json": {
       "model_id": "50f64c947cb947e3b61f2f7ee7b78946",
       "version_major": 2,
       "version_minor": 0
      },
      "text/plain": [
       "Boundary attack - iterations:   0%|          | 0/50 [00:00<?, ?it/s]"
      ]
     },
     "metadata": {},
     "output_type": "display_data"
    },
    {
     "data": {
      "application/vnd.jupyter.widget-view+json": {
       "model_id": "1b45b1fdbbf5433187e66426270b811d",
       "version_major": 2,
       "version_minor": 0
      },
      "text/plain": [
       "Boundary attack - iterations:   0%|          | 0/50 [00:00<?, ?it/s]"
      ]
     },
     "metadata": {},
     "output_type": "display_data"
    },
    {
     "data": {
      "application/vnd.jupyter.widget-view+json": {
       "model_id": "e2fe3b1473a34836b0709e826a54b415",
       "version_major": 2,
       "version_minor": 0
      },
      "text/plain": [
       "Boundary attack - iterations:   0%|          | 0/50 [00:00<?, ?it/s]"
      ]
     },
     "metadata": {},
     "output_type": "display_data"
    },
    {
     "data": {
      "application/vnd.jupyter.widget-view+json": {
       "model_id": "e4f2343fd86f42b8b58fb4a070eb23e9",
       "version_major": 2,
       "version_minor": 0
      },
      "text/plain": [
       "Boundary attack - iterations:   0%|          | 0/50 [00:00<?, ?it/s]"
      ]
     },
     "metadata": {},
     "output_type": "display_data"
    },
    {
     "data": {
      "application/vnd.jupyter.widget-view+json": {
       "model_id": "43eb232dcb6d4ce9b82785a14004dc44",
       "version_major": 2,
       "version_minor": 0
      },
      "text/plain": [
       "Boundary attack - iterations:   0%|          | 0/50 [00:00<?, ?it/s]"
      ]
     },
     "metadata": {},
     "output_type": "display_data"
    },
    {
     "data": {
      "application/vnd.jupyter.widget-view+json": {
       "model_id": "f49f3b17fe9e408ab0576c89baadf7b2",
       "version_major": 2,
       "version_minor": 0
      },
      "text/plain": [
       "Boundary attack - iterations:   0%|          | 0/50 [00:00<?, ?it/s]"
      ]
     },
     "metadata": {},
     "output_type": "display_data"
    },
    {
     "data": {
      "application/vnd.jupyter.widget-view+json": {
       "model_id": "8cf3d91ae548495081c21f80f843bd37",
       "version_major": 2,
       "version_minor": 0
      },
      "text/plain": [
       "Boundary attack - iterations:   0%|          | 0/50 [00:00<?, ?it/s]"
      ]
     },
     "metadata": {},
     "output_type": "display_data"
    },
    {
     "data": {
      "application/vnd.jupyter.widget-view+json": {
       "model_id": "92269415332343c981aeef7cc901900f",
       "version_major": 2,
       "version_minor": 0
      },
      "text/plain": [
       "Boundary attack - iterations:   0%|          | 0/50 [00:00<?, ?it/s]"
      ]
     },
     "metadata": {},
     "output_type": "display_data"
    },
    {
     "data": {
      "application/vnd.jupyter.widget-view+json": {
       "model_id": "36cd8e76336b4c00ac221b1d9f428e83",
       "version_major": 2,
       "version_minor": 0
      },
      "text/plain": [
       "Boundary attack - iterations:   0%|          | 0/50 [00:00<?, ?it/s]"
      ]
     },
     "metadata": {},
     "output_type": "display_data"
    },
    {
     "data": {
      "application/vnd.jupyter.widget-view+json": {
       "model_id": "53ec6be2ee2743aaa8bbdc3353de5d7f",
       "version_major": 2,
       "version_minor": 0
      },
      "text/plain": [
       "Boundary attack - iterations:   0%|          | 0/50 [00:00<?, ?it/s]"
      ]
     },
     "metadata": {},
     "output_type": "display_data"
    },
    {
     "data": {
      "application/vnd.jupyter.widget-view+json": {
       "model_id": "4345b73fd7f54be5aeae03cc230bda77",
       "version_major": 2,
       "version_minor": 0
      },
      "text/plain": [
       "Boundary attack - iterations:   0%|          | 0/50 [00:00<?, ?it/s]"
      ]
     },
     "metadata": {},
     "output_type": "display_data"
    },
    {
     "data": {
      "application/vnd.jupyter.widget-view+json": {
       "model_id": "90320582497846e9ac93cb7ed2b74349",
       "version_major": 2,
       "version_minor": 0
      },
      "text/plain": [
       "Boundary attack - iterations:   0%|          | 0/50 [00:00<?, ?it/s]"
      ]
     },
     "metadata": {},
     "output_type": "display_data"
    },
    {
     "data": {
      "application/vnd.jupyter.widget-view+json": {
       "model_id": "2d62c1d26a624bbf9aa863acda47a8e5",
       "version_major": 2,
       "version_minor": 0
      },
      "text/plain": [
       "Boundary attack - iterations:   0%|          | 0/50 [00:00<?, ?it/s]"
      ]
     },
     "metadata": {},
     "output_type": "display_data"
    },
    {
     "data": {
      "application/vnd.jupyter.widget-view+json": {
       "model_id": "4c4fba03d1f34b80a5facd65d4a2380f",
       "version_major": 2,
       "version_minor": 0
      },
      "text/plain": [
       "Boundary attack - iterations:   0%|          | 0/50 [00:00<?, ?it/s]"
      ]
     },
     "metadata": {},
     "output_type": "display_data"
    },
    {
     "data": {
      "application/vnd.jupyter.widget-view+json": {
       "model_id": "a3b58d01b04e451189c719c024785fe7",
       "version_major": 2,
       "version_minor": 0
      },
      "text/plain": [
       "Boundary attack - iterations:   0%|          | 0/50 [00:00<?, ?it/s]"
      ]
     },
     "metadata": {},
     "output_type": "display_data"
    },
    {
     "data": {
      "application/vnd.jupyter.widget-view+json": {
       "model_id": "93fd39acab73451ea72930c4ec06e208",
       "version_major": 2,
       "version_minor": 0
      },
      "text/plain": [
       "Boundary attack - iterations:   0%|          | 0/50 [00:00<?, ?it/s]"
      ]
     },
     "metadata": {},
     "output_type": "display_data"
    },
    {
     "data": {
      "application/vnd.jupyter.widget-view+json": {
       "model_id": "77d0a8637201477d8f1d58c5a4fc9de8",
       "version_major": 2,
       "version_minor": 0
      },
      "text/plain": [
       "Boundary attack - iterations:   0%|          | 0/50 [00:00<?, ?it/s]"
      ]
     },
     "metadata": {},
     "output_type": "display_data"
    },
    {
     "data": {
      "application/vnd.jupyter.widget-view+json": {
       "model_id": "ad7797b400184b358a3b7977509da63a",
       "version_major": 2,
       "version_minor": 0
      },
      "text/plain": [
       "Boundary attack - iterations:   0%|          | 0/50 [00:00<?, ?it/s]"
      ]
     },
     "metadata": {},
     "output_type": "display_data"
    },
    {
     "data": {
      "application/vnd.jupyter.widget-view+json": {
       "model_id": "ffbe8c8a5d7842b6912cfee60222a6fd",
       "version_major": 2,
       "version_minor": 0
      },
      "text/plain": [
       "Boundary attack - iterations:   0%|          | 0/50 [00:00<?, ?it/s]"
      ]
     },
     "metadata": {},
     "output_type": "display_data"
    },
    {
     "data": {
      "application/vnd.jupyter.widget-view+json": {
       "model_id": "0ecf866c31de41cd8bfe53f6049b4328",
       "version_major": 2,
       "version_minor": 0
      },
      "text/plain": [
       "Boundary attack - iterations:   0%|          | 0/50 [00:00<?, ?it/s]"
      ]
     },
     "metadata": {},
     "output_type": "display_data"
    },
    {
     "data": {
      "application/vnd.jupyter.widget-view+json": {
       "model_id": "60fe6b66340f4ac2bff7cda5657b40bd",
       "version_major": 2,
       "version_minor": 0
      },
      "text/plain": [
       "Boundary attack - iterations:   0%|          | 0/50 [00:00<?, ?it/s]"
      ]
     },
     "metadata": {},
     "output_type": "display_data"
    },
    {
     "data": {
      "application/vnd.jupyter.widget-view+json": {
       "model_id": "f50f9d157cd04fd9aa7e9b385d57fca2",
       "version_major": 2,
       "version_minor": 0
      },
      "text/plain": [
       "Boundary attack - iterations:   0%|          | 0/50 [00:00<?, ?it/s]"
      ]
     },
     "metadata": {},
     "output_type": "display_data"
    },
    {
     "data": {
      "application/vnd.jupyter.widget-view+json": {
       "model_id": "c94044cdce424bb69998a0cbf005f56e",
       "version_major": 2,
       "version_minor": 0
      },
      "text/plain": [
       "Boundary attack - iterations:   0%|          | 0/50 [00:00<?, ?it/s]"
      ]
     },
     "metadata": {},
     "output_type": "display_data"
    },
    {
     "data": {
      "application/vnd.jupyter.widget-view+json": {
       "model_id": "592bb846a62d4442a97dac1cd16222d9",
       "version_major": 2,
       "version_minor": 0
      },
      "text/plain": [
       "Boundary attack - iterations:   0%|          | 0/50 [00:00<?, ?it/s]"
      ]
     },
     "metadata": {},
     "output_type": "display_data"
    },
    {
     "data": {
      "application/vnd.jupyter.widget-view+json": {
       "model_id": "30d23d9a724a4c1bbfbafbad2df3678c",
       "version_major": 2,
       "version_minor": 0
      },
      "text/plain": [
       "Boundary attack - iterations:   0%|          | 0/50 [00:00<?, ?it/s]"
      ]
     },
     "metadata": {},
     "output_type": "display_data"
    },
    {
     "data": {
      "application/vnd.jupyter.widget-view+json": {
       "model_id": "aeef172832ca46ecaaa465b43488b0c5",
       "version_major": 2,
       "version_minor": 0
      },
      "text/plain": [
       "Boundary attack - iterations:   0%|          | 0/50 [00:00<?, ?it/s]"
      ]
     },
     "metadata": {},
     "output_type": "display_data"
    },
    {
     "data": {
      "application/vnd.jupyter.widget-view+json": {
       "model_id": "8887e1251b884dc2890b14a0f296a3e9",
       "version_major": 2,
       "version_minor": 0
      },
      "text/plain": [
       "Boundary attack - iterations:   0%|          | 0/50 [00:00<?, ?it/s]"
      ]
     },
     "metadata": {},
     "output_type": "display_data"
    },
    {
     "data": {
      "application/vnd.jupyter.widget-view+json": {
       "model_id": "a51e293a17dd45448e61eac1811aadde",
       "version_major": 2,
       "version_minor": 0
      },
      "text/plain": [
       "Boundary attack - iterations:   0%|          | 0/50 [00:00<?, ?it/s]"
      ]
     },
     "metadata": {},
     "output_type": "display_data"
    },
    {
     "data": {
      "application/vnd.jupyter.widget-view+json": {
       "model_id": "abe9c518ad044e54ac3c978bbd183c34",
       "version_major": 2,
       "version_minor": 0
      },
      "text/plain": [
       "Boundary attack - iterations:   0%|          | 0/50 [00:00<?, ?it/s]"
      ]
     },
     "metadata": {},
     "output_type": "display_data"
    },
    {
     "data": {
      "application/vnd.jupyter.widget-view+json": {
       "model_id": "84b237e4733042d6bf7e8c7a7f94d9e9",
       "version_major": 2,
       "version_minor": 0
      },
      "text/plain": [
       "Boundary attack - iterations:   0%|          | 0/50 [00:00<?, ?it/s]"
      ]
     },
     "metadata": {},
     "output_type": "display_data"
    },
    {
     "data": {
      "application/vnd.jupyter.widget-view+json": {
       "model_id": "0eb1ce5fd14b48a6b155adf4f84f42ea",
       "version_major": 2,
       "version_minor": 0
      },
      "text/plain": [
       "Boundary attack - iterations:   0%|          | 0/50 [00:00<?, ?it/s]"
      ]
     },
     "metadata": {},
     "output_type": "display_data"
    },
    {
     "data": {
      "application/vnd.jupyter.widget-view+json": {
       "model_id": "e3baef4afc0947409a41c64460878c43",
       "version_major": 2,
       "version_minor": 0
      },
      "text/plain": [
       "Boundary attack - iterations:   0%|          | 0/50 [00:00<?, ?it/s]"
      ]
     },
     "metadata": {},
     "output_type": "display_data"
    },
    {
     "data": {
      "application/vnd.jupyter.widget-view+json": {
       "model_id": "38fa36cb964d4b79a4e158beab69e500",
       "version_major": 2,
       "version_minor": 0
      },
      "text/plain": [
       "Boundary attack - iterations:   0%|          | 0/50 [00:00<?, ?it/s]"
      ]
     },
     "metadata": {},
     "output_type": "display_data"
    },
    {
     "data": {
      "application/vnd.jupyter.widget-view+json": {
       "model_id": "45b8341109724a468a3f524d60b2cb01",
       "version_major": 2,
       "version_minor": 0
      },
      "text/plain": [
       "Boundary attack - iterations:   0%|          | 0/50 [00:00<?, ?it/s]"
      ]
     },
     "metadata": {},
     "output_type": "display_data"
    },
    {
     "data": {
      "application/vnd.jupyter.widget-view+json": {
       "model_id": "22638992b37f44589b5ff4115e1a5ff6",
       "version_major": 2,
       "version_minor": 0
      },
      "text/plain": [
       "Boundary attack - iterations:   0%|          | 0/50 [00:00<?, ?it/s]"
      ]
     },
     "metadata": {},
     "output_type": "display_data"
    },
    {
     "data": {
      "application/vnd.jupyter.widget-view+json": {
       "model_id": "5319b7dd0f8b440cb7cc8d9268fec0bb",
       "version_major": 2,
       "version_minor": 0
      },
      "text/plain": [
       "Boundary attack - iterations:   0%|          | 0/50 [00:00<?, ?it/s]"
      ]
     },
     "metadata": {},
     "output_type": "display_data"
    },
    {
     "data": {
      "application/vnd.jupyter.widget-view+json": {
       "model_id": "04d1aa3b27204867a6bea90511f5c0a2",
       "version_major": 2,
       "version_minor": 0
      },
      "text/plain": [
       "Boundary attack - iterations:   0%|          | 0/50 [00:00<?, ?it/s]"
      ]
     },
     "metadata": {},
     "output_type": "display_data"
    },
    {
     "data": {
      "application/vnd.jupyter.widget-view+json": {
       "model_id": "a1ee1e7d6726497fa1c84b51fa3bd544",
       "version_major": 2,
       "version_minor": 0
      },
      "text/plain": [
       "Boundary attack - iterations:   0%|          | 0/50 [00:00<?, ?it/s]"
      ]
     },
     "metadata": {},
     "output_type": "display_data"
    },
    {
     "data": {
      "application/vnd.jupyter.widget-view+json": {
       "model_id": "1dfdaf6602964b78ab817a4a6cf464d9",
       "version_major": 2,
       "version_minor": 0
      },
      "text/plain": [
       "Boundary attack - iterations:   0%|          | 0/50 [00:00<?, ?it/s]"
      ]
     },
     "metadata": {},
     "output_type": "display_data"
    },
    {
     "data": {
      "application/vnd.jupyter.widget-view+json": {
       "model_id": "e33329a4464249f5b8d4d960c2f699fc",
       "version_major": 2,
       "version_minor": 0
      },
      "text/plain": [
       "Boundary attack - iterations:   0%|          | 0/50 [00:00<?, ?it/s]"
      ]
     },
     "metadata": {},
     "output_type": "display_data"
    },
    {
     "data": {
      "application/vnd.jupyter.widget-view+json": {
       "model_id": "4156016324d4470bae08ecec5ac72e7d",
       "version_major": 2,
       "version_minor": 0
      },
      "text/plain": [
       "Boundary attack - iterations:   0%|          | 0/50 [00:00<?, ?it/s]"
      ]
     },
     "metadata": {},
     "output_type": "display_data"
    },
    {
     "data": {
      "application/vnd.jupyter.widget-view+json": {
       "model_id": "7703be837d45474d8353e789fc586829",
       "version_major": 2,
       "version_minor": 0
      },
      "text/plain": [
       "Boundary attack - iterations:   0%|          | 0/50 [00:00<?, ?it/s]"
      ]
     },
     "metadata": {},
     "output_type": "display_data"
    },
    {
     "data": {
      "application/vnd.jupyter.widget-view+json": {
       "model_id": "be603167f9104506a04c3fcf2455b451",
       "version_major": 2,
       "version_minor": 0
      },
      "text/plain": [
       "Boundary attack - iterations:   0%|          | 0/50 [00:00<?, ?it/s]"
      ]
     },
     "metadata": {},
     "output_type": "display_data"
    },
    {
     "data": {
      "application/vnd.jupyter.widget-view+json": {
       "model_id": "a5515d089c21414cbdc21d3b490c3947",
       "version_major": 2,
       "version_minor": 0
      },
      "text/plain": [
       "Boundary attack - iterations:   0%|          | 0/50 [00:00<?, ?it/s]"
      ]
     },
     "metadata": {},
     "output_type": "display_data"
    },
    {
     "data": {
      "application/vnd.jupyter.widget-view+json": {
       "model_id": "d9f71e1560f94a0c954af659ee5b5cfb",
       "version_major": 2,
       "version_minor": 0
      },
      "text/plain": [
       "Boundary attack - iterations:   0%|          | 0/50 [00:00<?, ?it/s]"
      ]
     },
     "metadata": {},
     "output_type": "display_data"
    },
    {
     "data": {
      "application/vnd.jupyter.widget-view+json": {
       "model_id": "1954555b8f354f748db422ad13e9cc58",
       "version_major": 2,
       "version_minor": 0
      },
      "text/plain": [
       "Boundary attack - iterations:   0%|          | 0/50 [00:00<?, ?it/s]"
      ]
     },
     "metadata": {},
     "output_type": "display_data"
    },
    {
     "data": {
      "application/vnd.jupyter.widget-view+json": {
       "model_id": "ff9df1e201b1430d8c7f5fbde4f5e7f8",
       "version_major": 2,
       "version_minor": 0
      },
      "text/plain": [
       "Boundary attack - iterations:   0%|          | 0/50 [00:00<?, ?it/s]"
      ]
     },
     "metadata": {},
     "output_type": "display_data"
    },
    {
     "data": {
      "application/vnd.jupyter.widget-view+json": {
       "model_id": "99dc08203c1e478494f2d35a060dc4fe",
       "version_major": 2,
       "version_minor": 0
      },
      "text/plain": [
       "Boundary attack - iterations:   0%|          | 0/50 [00:00<?, ?it/s]"
      ]
     },
     "metadata": {},
     "output_type": "display_data"
    },
    {
     "data": {
      "application/vnd.jupyter.widget-view+json": {
       "model_id": "b224553b63c34f7bb1376dc74dec0c83",
       "version_major": 2,
       "version_minor": 0
      },
      "text/plain": [
       "Boundary attack - iterations:   0%|          | 0/50 [00:00<?, ?it/s]"
      ]
     },
     "metadata": {},
     "output_type": "display_data"
    },
    {
     "data": {
      "application/vnd.jupyter.widget-view+json": {
       "model_id": "d941f2cbcb8f4a899065e0d9435833dc",
       "version_major": 2,
       "version_minor": 0
      },
      "text/plain": [
       "Boundary attack - iterations:   0%|          | 0/50 [00:00<?, ?it/s]"
      ]
     },
     "metadata": {},
     "output_type": "display_data"
    },
    {
     "data": {
      "application/vnd.jupyter.widget-view+json": {
       "model_id": "ce192d8cd0c24929a31e6d9d5c50e10b",
       "version_major": 2,
       "version_minor": 0
      },
      "text/plain": [
       "Boundary attack - iterations:   0%|          | 0/50 [00:00<?, ?it/s]"
      ]
     },
     "metadata": {},
     "output_type": "display_data"
    },
    {
     "data": {
      "application/vnd.jupyter.widget-view+json": {
       "model_id": "1f82ba3ec3994a00b064db8db60782a7",
       "version_major": 2,
       "version_minor": 0
      },
      "text/plain": [
       "Boundary attack - iterations:   0%|          | 0/50 [00:00<?, ?it/s]"
      ]
     },
     "metadata": {},
     "output_type": "display_data"
    },
    {
     "data": {
      "application/vnd.jupyter.widget-view+json": {
       "model_id": "66d975f7acdc4552b784ea62109280c3",
       "version_major": 2,
       "version_minor": 0
      },
      "text/plain": [
       "Boundary attack - iterations:   0%|          | 0/50 [00:00<?, ?it/s]"
      ]
     },
     "metadata": {},
     "output_type": "display_data"
    },
    {
     "data": {
      "application/vnd.jupyter.widget-view+json": {
       "model_id": "26a92e86c65b4aa9879ca7df735f9734",
       "version_major": 2,
       "version_minor": 0
      },
      "text/plain": [
       "Boundary attack - iterations:   0%|          | 0/50 [00:00<?, ?it/s]"
      ]
     },
     "metadata": {},
     "output_type": "display_data"
    },
    {
     "data": {
      "application/vnd.jupyter.widget-view+json": {
       "model_id": "9b16ec108149478bbb3c0e7f824a13e9",
       "version_major": 2,
       "version_minor": 0
      },
      "text/plain": [
       "Boundary attack - iterations:   0%|          | 0/50 [00:00<?, ?it/s]"
      ]
     },
     "metadata": {},
     "output_type": "display_data"
    },
    {
     "data": {
      "application/vnd.jupyter.widget-view+json": {
       "model_id": "320183ea2edf44ce8da96026b79f1582",
       "version_major": 2,
       "version_minor": 0
      },
      "text/plain": [
       "Boundary attack - iterations:   0%|          | 0/50 [00:00<?, ?it/s]"
      ]
     },
     "metadata": {},
     "output_type": "display_data"
    },
    {
     "data": {
      "application/vnd.jupyter.widget-view+json": {
       "model_id": "d91bccfbc6944b3fb9718333a90cf6b6",
       "version_major": 2,
       "version_minor": 0
      },
      "text/plain": [
       "Boundary attack - iterations:   0%|          | 0/50 [00:00<?, ?it/s]"
      ]
     },
     "metadata": {},
     "output_type": "display_data"
    },
    {
     "data": {
      "application/vnd.jupyter.widget-view+json": {
       "model_id": "a0c34fc7a156478bb0de6babae6b0ba9",
       "version_major": 2,
       "version_minor": 0
      },
      "text/plain": [
       "Boundary attack - iterations:   0%|          | 0/50 [00:00<?, ?it/s]"
      ]
     },
     "metadata": {},
     "output_type": "display_data"
    },
    {
     "data": {
      "application/vnd.jupyter.widget-view+json": {
       "model_id": "26ad64e430b64d9bb0ebfceb044471c1",
       "version_major": 2,
       "version_minor": 0
      },
      "text/plain": [
       "Boundary attack - iterations:   0%|          | 0/50 [00:00<?, ?it/s]"
      ]
     },
     "metadata": {},
     "output_type": "display_data"
    },
    {
     "data": {
      "application/vnd.jupyter.widget-view+json": {
       "model_id": "cc40d40516344e65a4f725d2817644c3",
       "version_major": 2,
       "version_minor": 0
      },
      "text/plain": [
       "Boundary attack - iterations:   0%|          | 0/50 [00:00<?, ?it/s]"
      ]
     },
     "metadata": {},
     "output_type": "display_data"
    },
    {
     "data": {
      "application/vnd.jupyter.widget-view+json": {
       "model_id": "73dbb29232074fcdab414e45b9acf396",
       "version_major": 2,
       "version_minor": 0
      },
      "text/plain": [
       "Boundary attack - iterations:   0%|          | 0/50 [00:00<?, ?it/s]"
      ]
     },
     "metadata": {},
     "output_type": "display_data"
    },
    {
     "data": {
      "application/vnd.jupyter.widget-view+json": {
       "model_id": "556ab43bc180427eb5bffde28267313e",
       "version_major": 2,
       "version_minor": 0
      },
      "text/plain": [
       "Boundary attack - iterations:   0%|          | 0/50 [00:00<?, ?it/s]"
      ]
     },
     "metadata": {},
     "output_type": "display_data"
    },
    {
     "data": {
      "application/vnd.jupyter.widget-view+json": {
       "model_id": "b1c12839bdbb44768a5663acd8266c41",
       "version_major": 2,
       "version_minor": 0
      },
      "text/plain": [
       "Boundary attack - iterations:   0%|          | 0/50 [00:00<?, ?it/s]"
      ]
     },
     "metadata": {},
     "output_type": "display_data"
    },
    {
     "data": {
      "application/vnd.jupyter.widget-view+json": {
       "model_id": "3d198f6ff2bf4caa913c2048fbb40a6e",
       "version_major": 2,
       "version_minor": 0
      },
      "text/plain": [
       "Boundary attack - iterations:   0%|          | 0/50 [00:00<?, ?it/s]"
      ]
     },
     "metadata": {},
     "output_type": "display_data"
    },
    {
     "data": {
      "application/vnd.jupyter.widget-view+json": {
       "model_id": "6c343bf2bc864cb6b6fc64c5eb61fc38",
       "version_major": 2,
       "version_minor": 0
      },
      "text/plain": [
       "Boundary attack - iterations:   0%|          | 0/50 [00:00<?, ?it/s]"
      ]
     },
     "metadata": {},
     "output_type": "display_data"
    },
    {
     "data": {
      "application/vnd.jupyter.widget-view+json": {
       "model_id": "bcc18dd024624a4b8b83dae07cb69a8b",
       "version_major": 2,
       "version_minor": 0
      },
      "text/plain": [
       "Boundary attack - iterations:   0%|          | 0/50 [00:00<?, ?it/s]"
      ]
     },
     "metadata": {},
     "output_type": "display_data"
    },
    {
     "data": {
      "application/vnd.jupyter.widget-view+json": {
       "model_id": "42c46656c0dd40f59c89e9e560f5f2b5",
       "version_major": 2,
       "version_minor": 0
      },
      "text/plain": [
       "Boundary attack - iterations:   0%|          | 0/50 [00:00<?, ?it/s]"
      ]
     },
     "metadata": {},
     "output_type": "display_data"
    },
    {
     "data": {
      "application/vnd.jupyter.widget-view+json": {
       "model_id": "51689735cab543f1aaf8a5c041e07816",
       "version_major": 2,
       "version_minor": 0
      },
      "text/plain": [
       "Boundary attack - iterations:   0%|          | 0/50 [00:00<?, ?it/s]"
      ]
     },
     "metadata": {},
     "output_type": "display_data"
    },
    {
     "data": {
      "application/vnd.jupyter.widget-view+json": {
       "model_id": "7225790838254e49aea19a23f93c6bac",
       "version_major": 2,
       "version_minor": 0
      },
      "text/plain": [
       "Boundary attack - iterations:   0%|          | 0/50 [00:00<?, ?it/s]"
      ]
     },
     "metadata": {},
     "output_type": "display_data"
    },
    {
     "data": {
      "application/vnd.jupyter.widget-view+json": {
       "model_id": "6883cc497ddc47728451cd83476ef0a8",
       "version_major": 2,
       "version_minor": 0
      },
      "text/plain": [
       "Boundary attack - iterations:   0%|          | 0/50 [00:00<?, ?it/s]"
      ]
     },
     "metadata": {},
     "output_type": "display_data"
    },
    {
     "data": {
      "application/vnd.jupyter.widget-view+json": {
       "model_id": "9dfd7075e56644bc83012428e1bbe80d",
       "version_major": 2,
       "version_minor": 0
      },
      "text/plain": [
       "Boundary attack - iterations:   0%|          | 0/50 [00:00<?, ?it/s]"
      ]
     },
     "metadata": {},
     "output_type": "display_data"
    },
    {
     "data": {
      "application/vnd.jupyter.widget-view+json": {
       "model_id": "0b216c6744ab4c3e88fdab674dd55f35",
       "version_major": 2,
       "version_minor": 0
      },
      "text/plain": [
       "Boundary attack - iterations:   0%|          | 0/50 [00:00<?, ?it/s]"
      ]
     },
     "metadata": {},
     "output_type": "display_data"
    },
    {
     "data": {
      "application/vnd.jupyter.widget-view+json": {
       "model_id": "1f8d99b246f742f28d96dfcd96f9d256",
       "version_major": 2,
       "version_minor": 0
      },
      "text/plain": [
       "Boundary attack - iterations:   0%|          | 0/50 [00:00<?, ?it/s]"
      ]
     },
     "metadata": {},
     "output_type": "display_data"
    },
    {
     "data": {
      "application/vnd.jupyter.widget-view+json": {
       "model_id": "e4b6503200e847a58d834c222d28b59b",
       "version_major": 2,
       "version_minor": 0
      },
      "text/plain": [
       "Boundary attack - iterations:   0%|          | 0/50 [00:00<?, ?it/s]"
      ]
     },
     "metadata": {},
     "output_type": "display_data"
    },
    {
     "data": {
      "application/vnd.jupyter.widget-view+json": {
       "model_id": "5e8659bd1f0247f9a792351e7c5dc5e1",
       "version_major": 2,
       "version_minor": 0
      },
      "text/plain": [
       "Boundary attack - iterations:   0%|          | 0/50 [00:00<?, ?it/s]"
      ]
     },
     "metadata": {},
     "output_type": "display_data"
    },
    {
     "data": {
      "application/vnd.jupyter.widget-view+json": {
       "model_id": "228e275b16544c40acfc8205c0afa1cd",
       "version_major": 2,
       "version_minor": 0
      },
      "text/plain": [
       "Boundary attack - iterations:   0%|          | 0/50 [00:00<?, ?it/s]"
      ]
     },
     "metadata": {},
     "output_type": "display_data"
    },
    {
     "data": {
      "application/vnd.jupyter.widget-view+json": {
       "model_id": "506d4c2733ab45f6a1169913346dc7b5",
       "version_major": 2,
       "version_minor": 0
      },
      "text/plain": [
       "Boundary attack - iterations:   0%|          | 0/50 [00:00<?, ?it/s]"
      ]
     },
     "metadata": {},
     "output_type": "display_data"
    },
    {
     "data": {
      "application/vnd.jupyter.widget-view+json": {
       "model_id": "0614f043ce074270b66367975fb1975b",
       "version_major": 2,
       "version_minor": 0
      },
      "text/plain": [
       "Boundary attack - iterations:   0%|          | 0/50 [00:00<?, ?it/s]"
      ]
     },
     "metadata": {},
     "output_type": "display_data"
    },
    {
     "data": {
      "application/vnd.jupyter.widget-view+json": {
       "model_id": "0f4039655d284daebc52c6366773ee11",
       "version_major": 2,
       "version_minor": 0
      },
      "text/plain": [
       "Boundary attack - iterations:   0%|          | 0/50 [00:00<?, ?it/s]"
      ]
     },
     "metadata": {},
     "output_type": "display_data"
    },
    {
     "data": {
      "application/vnd.jupyter.widget-view+json": {
       "model_id": "ec51686f914c477fa80862e17364193e",
       "version_major": 2,
       "version_minor": 0
      },
      "text/plain": [
       "Boundary attack - iterations:   0%|          | 0/50 [00:00<?, ?it/s]"
      ]
     },
     "metadata": {},
     "output_type": "display_data"
    },
    {
     "data": {
      "application/vnd.jupyter.widget-view+json": {
       "model_id": "527acbd4096c473688abaf3b26d8dcee",
       "version_major": 2,
       "version_minor": 0
      },
      "text/plain": [
       "Boundary attack - iterations:   0%|          | 0/50 [00:00<?, ?it/s]"
      ]
     },
     "metadata": {},
     "output_type": "display_data"
    },
    {
     "data": {
      "application/vnd.jupyter.widget-view+json": {
       "model_id": "d5f7d09ba8784221820332261f1f9278",
       "version_major": 2,
       "version_minor": 0
      },
      "text/plain": [
       "Boundary attack - iterations:   0%|          | 0/50 [00:00<?, ?it/s]"
      ]
     },
     "metadata": {},
     "output_type": "display_data"
    },
    {
     "data": {
      "application/vnd.jupyter.widget-view+json": {
       "model_id": "9ad30a9ba68a4f52af3cc4e80d45f7f3",
       "version_major": 2,
       "version_minor": 0
      },
      "text/plain": [
       "Boundary attack - iterations:   0%|          | 0/50 [00:00<?, ?it/s]"
      ]
     },
     "metadata": {},
     "output_type": "display_data"
    },
    {
     "data": {
      "application/vnd.jupyter.widget-view+json": {
       "model_id": "d681ebf5df4b4d38aad9fd9c8761c6fb",
       "version_major": 2,
       "version_minor": 0
      },
      "text/plain": [
       "Boundary attack - iterations:   0%|          | 0/50 [00:00<?, ?it/s]"
      ]
     },
     "metadata": {},
     "output_type": "display_data"
    },
    {
     "data": {
      "application/vnd.jupyter.widget-view+json": {
       "model_id": "b52033dcc2734467b60dc1d147300668",
       "version_major": 2,
       "version_minor": 0
      },
      "text/plain": [
       "Boundary attack - iterations:   0%|          | 0/50 [00:00<?, ?it/s]"
      ]
     },
     "metadata": {},
     "output_type": "display_data"
    },
    {
     "data": {
      "application/vnd.jupyter.widget-view+json": {
       "model_id": "7f9d905931fa426aa58d3abcd2ab58a2",
       "version_major": 2,
       "version_minor": 0
      },
      "text/plain": [
       "Boundary attack - iterations:   0%|          | 0/50 [00:00<?, ?it/s]"
      ]
     },
     "metadata": {},
     "output_type": "display_data"
    },
    {
     "data": {
      "application/vnd.jupyter.widget-view+json": {
       "model_id": "9b6a702e90a647459f4cfb395a3141da",
       "version_major": 2,
       "version_minor": 0
      },
      "text/plain": [
       "Boundary attack - iterations:   0%|          | 0/50 [00:00<?, ?it/s]"
      ]
     },
     "metadata": {},
     "output_type": "display_data"
    },
    {
     "data": {
      "application/vnd.jupyter.widget-view+json": {
       "model_id": "c8089f1fab984cbe90280e941c4c1794",
       "version_major": 2,
       "version_minor": 0
      },
      "text/plain": [
       "Boundary attack - iterations:   0%|          | 0/50 [00:00<?, ?it/s]"
      ]
     },
     "metadata": {},
     "output_type": "display_data"
    },
    {
     "data": {
      "application/vnd.jupyter.widget-view+json": {
       "model_id": "9ab26d3f11224ba68b645776a4c7b7c0",
       "version_major": 2,
       "version_minor": 0
      },
      "text/plain": [
       "Boundary attack - iterations:   0%|          | 0/50 [00:00<?, ?it/s]"
      ]
     },
     "metadata": {},
     "output_type": "display_data"
    },
    {
     "data": {
      "application/vnd.jupyter.widget-view+json": {
       "model_id": "7a57142ccc4b4ba69aea2279d000f043",
       "version_major": 2,
       "version_minor": 0
      },
      "text/plain": [
       "Boundary attack - iterations:   0%|          | 0/50 [00:00<?, ?it/s]"
      ]
     },
     "metadata": {},
     "output_type": "display_data"
    },
    {
     "data": {
      "application/vnd.jupyter.widget-view+json": {
       "model_id": "2f39972206414f2aa780e52e5c6302fb",
       "version_major": 2,
       "version_minor": 0
      },
      "text/plain": [
       "Boundary attack - iterations:   0%|          | 0/50 [00:00<?, ?it/s]"
      ]
     },
     "metadata": {},
     "output_type": "display_data"
    },
    {
     "data": {
      "application/vnd.jupyter.widget-view+json": {
       "model_id": "688cb8b4a64c43de8006639d0189e8bc",
       "version_major": 2,
       "version_minor": 0
      },
      "text/plain": [
       "Boundary attack - iterations:   0%|          | 0/50 [00:00<?, ?it/s]"
      ]
     },
     "metadata": {},
     "output_type": "display_data"
    },
    {
     "data": {
      "application/vnd.jupyter.widget-view+json": {
       "model_id": "d9f6079fc81944dcbc814f20971368aa",
       "version_major": 2,
       "version_minor": 0
      },
      "text/plain": [
       "Boundary attack - iterations:   0%|          | 0/50 [00:00<?, ?it/s]"
      ]
     },
     "metadata": {},
     "output_type": "display_data"
    },
    {
     "data": {
      "application/vnd.jupyter.widget-view+json": {
       "model_id": "1ffc3c77c4f9474eac737a3fc4d6d4ae",
       "version_major": 2,
       "version_minor": 0
      },
      "text/plain": [
       "Boundary attack - iterations:   0%|          | 0/50 [00:00<?, ?it/s]"
      ]
     },
     "metadata": {},
     "output_type": "display_data"
    },
    {
     "data": {
      "application/vnd.jupyter.widget-view+json": {
       "model_id": "ab6392d7bad84529ab8b0f0e33ab37e5",
       "version_major": 2,
       "version_minor": 0
      },
      "text/plain": [
       "Boundary attack - iterations:   0%|          | 0/50 [00:00<?, ?it/s]"
      ]
     },
     "metadata": {},
     "output_type": "display_data"
    },
    {
     "data": {
      "application/vnd.jupyter.widget-view+json": {
       "model_id": "38b0e39343e84d0e95a68a91d9069592",
       "version_major": 2,
       "version_minor": 0
      },
      "text/plain": [
       "Boundary attack - iterations:   0%|          | 0/50 [00:00<?, ?it/s]"
      ]
     },
     "metadata": {},
     "output_type": "display_data"
    },
    {
     "data": {
      "application/vnd.jupyter.widget-view+json": {
       "model_id": "17a7d447951c48588c3c59e0127be44b",
       "version_major": 2,
       "version_minor": 0
      },
      "text/plain": [
       "Boundary attack - iterations:   0%|          | 0/50 [00:00<?, ?it/s]"
      ]
     },
     "metadata": {},
     "output_type": "display_data"
    },
    {
     "data": {
      "application/vnd.jupyter.widget-view+json": {
       "model_id": "bbd87ee2c693427185e379824e7aaa6d",
       "version_major": 2,
       "version_minor": 0
      },
      "text/plain": [
       "Boundary attack - iterations:   0%|          | 0/50 [00:00<?, ?it/s]"
      ]
     },
     "metadata": {},
     "output_type": "display_data"
    },
    {
     "data": {
      "application/vnd.jupyter.widget-view+json": {
       "model_id": "bb19b4911b814de69952f4f744b17112",
       "version_major": 2,
       "version_minor": 0
      },
      "text/plain": [
       "Boundary attack - iterations:   0%|          | 0/50 [00:00<?, ?it/s]"
      ]
     },
     "metadata": {},
     "output_type": "display_data"
    },
    {
     "data": {
      "application/vnd.jupyter.widget-view+json": {
       "model_id": "9eea08d4c14344039d87ebe6d24c63c5",
       "version_major": 2,
       "version_minor": 0
      },
      "text/plain": [
       "Boundary attack - iterations:   0%|          | 0/50 [00:00<?, ?it/s]"
      ]
     },
     "metadata": {},
     "output_type": "display_data"
    },
    {
     "data": {
      "application/vnd.jupyter.widget-view+json": {
       "model_id": "54a65b98a2464c5dbddd0891285430f9",
       "version_major": 2,
       "version_minor": 0
      },
      "text/plain": [
       "Boundary attack - iterations:   0%|          | 0/50 [00:00<?, ?it/s]"
      ]
     },
     "metadata": {},
     "output_type": "display_data"
    },
    {
     "data": {
      "application/vnd.jupyter.widget-view+json": {
       "model_id": "23a3efc5b907451c97a96ecf5cf669fc",
       "version_major": 2,
       "version_minor": 0
      },
      "text/plain": [
       "Boundary attack - iterations:   0%|          | 0/50 [00:00<?, ?it/s]"
      ]
     },
     "metadata": {},
     "output_type": "display_data"
    },
    {
     "data": {
      "application/vnd.jupyter.widget-view+json": {
       "model_id": "2b80e41c85ad4589a6df71667868be00",
       "version_major": 2,
       "version_minor": 0
      },
      "text/plain": [
       "Boundary attack - iterations:   0%|          | 0/50 [00:00<?, ?it/s]"
      ]
     },
     "metadata": {},
     "output_type": "display_data"
    },
    {
     "data": {
      "application/vnd.jupyter.widget-view+json": {
       "model_id": "02fc4fe0cc1a4cc2ae9333fd9ce3b862",
       "version_major": 2,
       "version_minor": 0
      },
      "text/plain": [
       "Boundary attack - iterations:   0%|          | 0/50 [00:00<?, ?it/s]"
      ]
     },
     "metadata": {},
     "output_type": "display_data"
    },
    {
     "data": {
      "application/vnd.jupyter.widget-view+json": {
       "model_id": "e0df7aa2374241c6b38f02da613df2b4",
       "version_major": 2,
       "version_minor": 0
      },
      "text/plain": [
       "Boundary attack - iterations:   0%|          | 0/50 [00:00<?, ?it/s]"
      ]
     },
     "metadata": {},
     "output_type": "display_data"
    },
    {
     "data": {
      "application/vnd.jupyter.widget-view+json": {
       "model_id": "f24b6b17b4bc41299fcdff677b95f361",
       "version_major": 2,
       "version_minor": 0
      },
      "text/plain": [
       "Boundary attack - iterations:   0%|          | 0/50 [00:00<?, ?it/s]"
      ]
     },
     "metadata": {},
     "output_type": "display_data"
    },
    {
     "data": {
      "application/vnd.jupyter.widget-view+json": {
       "model_id": "23a3c38cdd504bcdb526ee30a96af27b",
       "version_major": 2,
       "version_minor": 0
      },
      "text/plain": [
       "Boundary attack - iterations:   0%|          | 0/50 [00:00<?, ?it/s]"
      ]
     },
     "metadata": {},
     "output_type": "display_data"
    },
    {
     "data": {
      "application/vnd.jupyter.widget-view+json": {
       "model_id": "2de15f484ea14ee5a5f8d6c83b3369b1",
       "version_major": 2,
       "version_minor": 0
      },
      "text/plain": [
       "Boundary attack - iterations:   0%|          | 0/50 [00:00<?, ?it/s]"
      ]
     },
     "metadata": {},
     "output_type": "display_data"
    },
    {
     "data": {
      "application/vnd.jupyter.widget-view+json": {
       "model_id": "d00861661d6945be93871facf40be19a",
       "version_major": 2,
       "version_minor": 0
      },
      "text/plain": [
       "Boundary attack - iterations:   0%|          | 0/50 [00:00<?, ?it/s]"
      ]
     },
     "metadata": {},
     "output_type": "display_data"
    },
    {
     "data": {
      "application/vnd.jupyter.widget-view+json": {
       "model_id": "9ec9b08501954008adf42a287d5b95fa",
       "version_major": 2,
       "version_minor": 0
      },
      "text/plain": [
       "Boundary attack - iterations:   0%|          | 0/50 [00:00<?, ?it/s]"
      ]
     },
     "metadata": {},
     "output_type": "display_data"
    },
    {
     "data": {
      "application/vnd.jupyter.widget-view+json": {
       "model_id": "cf6a7210368f44ef8227d4d0ab19e2f8",
       "version_major": 2,
       "version_minor": 0
      },
      "text/plain": [
       "Boundary attack - iterations:   0%|          | 0/50 [00:00<?, ?it/s]"
      ]
     },
     "metadata": {},
     "output_type": "display_data"
    },
    {
     "data": {
      "application/vnd.jupyter.widget-view+json": {
       "model_id": "604d1e271051437aaba95e308168120f",
       "version_major": 2,
       "version_minor": 0
      },
      "text/plain": [
       "Boundary attack - iterations:   0%|          | 0/50 [00:00<?, ?it/s]"
      ]
     },
     "metadata": {},
     "output_type": "display_data"
    },
    {
     "data": {
      "application/vnd.jupyter.widget-view+json": {
       "model_id": "bc53ce1107664ad9a62f426aafa80eeb",
       "version_major": 2,
       "version_minor": 0
      },
      "text/plain": [
       "Boundary attack - iterations:   0%|          | 0/50 [00:00<?, ?it/s]"
      ]
     },
     "metadata": {},
     "output_type": "display_data"
    },
    {
     "data": {
      "application/vnd.jupyter.widget-view+json": {
       "model_id": "1cb03d9813d641179bcccec055857a2c",
       "version_major": 2,
       "version_minor": 0
      },
      "text/plain": [
       "Boundary attack - iterations:   0%|          | 0/50 [00:00<?, ?it/s]"
      ]
     },
     "metadata": {},
     "output_type": "display_data"
    },
    {
     "data": {
      "application/vnd.jupyter.widget-view+json": {
       "model_id": "e515d031f9a9450dac6318f1734339cc",
       "version_major": 2,
       "version_minor": 0
      },
      "text/plain": [
       "Boundary attack - iterations:   0%|          | 0/50 [00:00<?, ?it/s]"
      ]
     },
     "metadata": {},
     "output_type": "display_data"
    },
    {
     "data": {
      "application/vnd.jupyter.widget-view+json": {
       "model_id": "6233b906941a4c0ebc7f057e69d4b5e9",
       "version_major": 2,
       "version_minor": 0
      },
      "text/plain": [
       "Boundary attack - iterations:   0%|          | 0/50 [00:00<?, ?it/s]"
      ]
     },
     "metadata": {},
     "output_type": "display_data"
    },
    {
     "data": {
      "application/vnd.jupyter.widget-view+json": {
       "model_id": "7e7d48b569cd4f8b814e76c6b282df8f",
       "version_major": 2,
       "version_minor": 0
      },
      "text/plain": [
       "Boundary attack - iterations:   0%|          | 0/50 [00:00<?, ?it/s]"
      ]
     },
     "metadata": {},
     "output_type": "display_data"
    },
    {
     "data": {
      "application/vnd.jupyter.widget-view+json": {
       "model_id": "a18ba6dc75854c37a2570365210f90e0",
       "version_major": 2,
       "version_minor": 0
      },
      "text/plain": [
       "Boundary attack - iterations:   0%|          | 0/50 [00:00<?, ?it/s]"
      ]
     },
     "metadata": {},
     "output_type": "display_data"
    },
    {
     "data": {
      "application/vnd.jupyter.widget-view+json": {
       "model_id": "401931b0845b44158acb5dbed06d537d",
       "version_major": 2,
       "version_minor": 0
      },
      "text/plain": [
       "Boundary attack - iterations:   0%|          | 0/50 [00:00<?, ?it/s]"
      ]
     },
     "metadata": {},
     "output_type": "display_data"
    },
    {
     "data": {
      "application/vnd.jupyter.widget-view+json": {
       "model_id": "9c8348d9881a42f5894a892ede40e903",
       "version_major": 2,
       "version_minor": 0
      },
      "text/plain": [
       "Boundary attack - iterations:   0%|          | 0/50 [00:00<?, ?it/s]"
      ]
     },
     "metadata": {},
     "output_type": "display_data"
    },
    {
     "data": {
      "application/vnd.jupyter.widget-view+json": {
       "model_id": "bb2bb5aebba745388e9f908dbce6cf33",
       "version_major": 2,
       "version_minor": 0
      },
      "text/plain": [
       "Boundary attack - iterations:   0%|          | 0/50 [00:00<?, ?it/s]"
      ]
     },
     "metadata": {},
     "output_type": "display_data"
    },
    {
     "data": {
      "application/vnd.jupyter.widget-view+json": {
       "model_id": "9b1071da5daf48398d717cf3ad0678e4",
       "version_major": 2,
       "version_minor": 0
      },
      "text/plain": [
       "Boundary attack - iterations:   0%|          | 0/50 [00:00<?, ?it/s]"
      ]
     },
     "metadata": {},
     "output_type": "display_data"
    },
    {
     "data": {
      "application/vnd.jupyter.widget-view+json": {
       "model_id": "8ceaa7eef2694bf690afede96d633d9a",
       "version_major": 2,
       "version_minor": 0
      },
      "text/plain": [
       "Boundary attack - iterations:   0%|          | 0/50 [00:00<?, ?it/s]"
      ]
     },
     "metadata": {},
     "output_type": "display_data"
    },
    {
     "data": {
      "application/vnd.jupyter.widget-view+json": {
       "model_id": "d4191609306d47c0b7825d980ae7fee2",
       "version_major": 2,
       "version_minor": 0
      },
      "text/plain": [
       "Boundary attack - iterations:   0%|          | 0/50 [00:00<?, ?it/s]"
      ]
     },
     "metadata": {},
     "output_type": "display_data"
    },
    {
     "data": {
      "application/vnd.jupyter.widget-view+json": {
       "model_id": "5daf3e99b3ef4e70bab563185542f5e2",
       "version_major": 2,
       "version_minor": 0
      },
      "text/plain": [
       "Boundary attack - iterations:   0%|          | 0/50 [00:00<?, ?it/s]"
      ]
     },
     "metadata": {},
     "output_type": "display_data"
    },
    {
     "data": {
      "application/vnd.jupyter.widget-view+json": {
       "model_id": "709f1965c18e4be9ae79da40df7dfcc7",
       "version_major": 2,
       "version_minor": 0
      },
      "text/plain": [
       "Boundary attack - iterations:   0%|          | 0/50 [00:00<?, ?it/s]"
      ]
     },
     "metadata": {},
     "output_type": "display_data"
    },
    {
     "data": {
      "application/vnd.jupyter.widget-view+json": {
       "model_id": "65aadc9f791c43f0a234b273b59f8b98",
       "version_major": 2,
       "version_minor": 0
      },
      "text/plain": [
       "Boundary attack - iterations:   0%|          | 0/50 [00:00<?, ?it/s]"
      ]
     },
     "metadata": {},
     "output_type": "display_data"
    },
    {
     "data": {
      "application/vnd.jupyter.widget-view+json": {
       "model_id": "43a6235c7ec14c7cb3d8246274e716d8",
       "version_major": 2,
       "version_minor": 0
      },
      "text/plain": [
       "Boundary attack - iterations:   0%|          | 0/50 [00:00<?, ?it/s]"
      ]
     },
     "metadata": {},
     "output_type": "display_data"
    },
    {
     "data": {
      "application/vnd.jupyter.widget-view+json": {
       "model_id": "39e33ba62d8948e7811f2638f27a51e9",
       "version_major": 2,
       "version_minor": 0
      },
      "text/plain": [
       "Boundary attack - iterations:   0%|          | 0/50 [00:00<?, ?it/s]"
      ]
     },
     "metadata": {},
     "output_type": "display_data"
    },
    {
     "data": {
      "application/vnd.jupyter.widget-view+json": {
       "model_id": "334822e6c61846b7b487f197b472b2bf",
       "version_major": 2,
       "version_minor": 0
      },
      "text/plain": [
       "Boundary attack - iterations:   0%|          | 0/50 [00:00<?, ?it/s]"
      ]
     },
     "metadata": {},
     "output_type": "display_data"
    },
    {
     "data": {
      "application/vnd.jupyter.widget-view+json": {
       "model_id": "c55bd41e55654c42857210287f55b217",
       "version_major": 2,
       "version_minor": 0
      },
      "text/plain": [
       "Boundary attack - iterations:   0%|          | 0/50 [00:00<?, ?it/s]"
      ]
     },
     "metadata": {},
     "output_type": "display_data"
    },
    {
     "data": {
      "application/vnd.jupyter.widget-view+json": {
       "model_id": "666585bfde124f6a909a86edcb3556f3",
       "version_major": 2,
       "version_minor": 0
      },
      "text/plain": [
       "Boundary attack - iterations:   0%|          | 0/50 [00:00<?, ?it/s]"
      ]
     },
     "metadata": {},
     "output_type": "display_data"
    },
    {
     "data": {
      "application/vnd.jupyter.widget-view+json": {
       "model_id": "0b91bc30b6ae4a4f8bb107d0ea950a2d",
       "version_major": 2,
       "version_minor": 0
      },
      "text/plain": [
       "Boundary attack - iterations:   0%|          | 0/50 [00:00<?, ?it/s]"
      ]
     },
     "metadata": {},
     "output_type": "display_data"
    },
    {
     "data": {
      "application/vnd.jupyter.widget-view+json": {
       "model_id": "567af8e6cdc84b848b5a9f3bf033844f",
       "version_major": 2,
       "version_minor": 0
      },
      "text/plain": [
       "Boundary attack - iterations:   0%|          | 0/50 [00:00<?, ?it/s]"
      ]
     },
     "metadata": {},
     "output_type": "display_data"
    },
    {
     "data": {
      "application/vnd.jupyter.widget-view+json": {
       "model_id": "4f07f12d436441dc86d3acaa1b4b4ae5",
       "version_major": 2,
       "version_minor": 0
      },
      "text/plain": [
       "Boundary attack - iterations:   0%|          | 0/50 [00:00<?, ?it/s]"
      ]
     },
     "metadata": {},
     "output_type": "display_data"
    },
    {
     "data": {
      "application/vnd.jupyter.widget-view+json": {
       "model_id": "fbe05d775ba24b1b9b0ee3b81ab461a1",
       "version_major": 2,
       "version_minor": 0
      },
      "text/plain": [
       "Boundary attack - iterations:   0%|          | 0/50 [00:00<?, ?it/s]"
      ]
     },
     "metadata": {},
     "output_type": "display_data"
    },
    {
     "data": {
      "application/vnd.jupyter.widget-view+json": {
       "model_id": "ddfb6aea22da49ca9c5158f5464c9bca",
       "version_major": 2,
       "version_minor": 0
      },
      "text/plain": [
       "Boundary attack - iterations:   0%|          | 0/50 [00:00<?, ?it/s]"
      ]
     },
     "metadata": {},
     "output_type": "display_data"
    },
    {
     "data": {
      "application/vnd.jupyter.widget-view+json": {
       "model_id": "cae1b32a1e7e4e9d8a0814108b74511d",
       "version_major": 2,
       "version_minor": 0
      },
      "text/plain": [
       "Boundary attack - iterations:   0%|          | 0/50 [00:00<?, ?it/s]"
      ]
     },
     "metadata": {},
     "output_type": "display_data"
    },
    {
     "data": {
      "application/vnd.jupyter.widget-view+json": {
       "model_id": "45ea936d47c345a680d67b2b5658b040",
       "version_major": 2,
       "version_minor": 0
      },
      "text/plain": [
       "Boundary attack - iterations:   0%|          | 0/50 [00:00<?, ?it/s]"
      ]
     },
     "metadata": {},
     "output_type": "display_data"
    },
    {
     "data": {
      "application/vnd.jupyter.widget-view+json": {
       "model_id": "d2c4a513b85743f4878197f23fcb2c2c",
       "version_major": 2,
       "version_minor": 0
      },
      "text/plain": [
       "Boundary attack - iterations:   0%|          | 0/50 [00:00<?, ?it/s]"
      ]
     },
     "metadata": {},
     "output_type": "display_data"
    },
    {
     "data": {
      "application/vnd.jupyter.widget-view+json": {
       "model_id": "5b01ef507280495ebd3ed1395f3646a6",
       "version_major": 2,
       "version_minor": 0
      },
      "text/plain": [
       "Boundary attack - iterations:   0%|          | 0/50 [00:00<?, ?it/s]"
      ]
     },
     "metadata": {},
     "output_type": "display_data"
    },
    {
     "data": {
      "application/vnd.jupyter.widget-view+json": {
       "model_id": "31993f37caf44603b8d5cb984400313f",
       "version_major": 2,
       "version_minor": 0
      },
      "text/plain": [
       "Boundary attack - iterations:   0%|          | 0/50 [00:00<?, ?it/s]"
      ]
     },
     "metadata": {},
     "output_type": "display_data"
    },
    {
     "data": {
      "application/vnd.jupyter.widget-view+json": {
       "model_id": "3343b12f18ff44bfa8f667445ffa117a",
       "version_major": 2,
       "version_minor": 0
      },
      "text/plain": [
       "Boundary attack - iterations:   0%|          | 0/50 [00:00<?, ?it/s]"
      ]
     },
     "metadata": {},
     "output_type": "display_data"
    },
    {
     "data": {
      "application/vnd.jupyter.widget-view+json": {
       "model_id": "07120a446a6047c28c6e2433f5c0304f",
       "version_major": 2,
       "version_minor": 0
      },
      "text/plain": [
       "Boundary attack - iterations:   0%|          | 0/50 [00:00<?, ?it/s]"
      ]
     },
     "metadata": {},
     "output_type": "display_data"
    },
    {
     "data": {
      "application/vnd.jupyter.widget-view+json": {
       "model_id": "bef97884c6df4900a9c0eb8e17fe56fe",
       "version_major": 2,
       "version_minor": 0
      },
      "text/plain": [
       "Boundary attack - iterations:   0%|          | 0/50 [00:00<?, ?it/s]"
      ]
     },
     "metadata": {},
     "output_type": "display_data"
    },
    {
     "data": {
      "application/vnd.jupyter.widget-view+json": {
       "model_id": "deadf33ff9ed4c2e8f7cca9115f53a7c",
       "version_major": 2,
       "version_minor": 0
      },
      "text/plain": [
       "Boundary attack - iterations:   0%|          | 0/50 [00:00<?, ?it/s]"
      ]
     },
     "metadata": {},
     "output_type": "display_data"
    },
    {
     "data": {
      "application/vnd.jupyter.widget-view+json": {
       "model_id": "3500fd9ca4304b7bb02e482413f13302",
       "version_major": 2,
       "version_minor": 0
      },
      "text/plain": [
       "Boundary attack - iterations:   0%|          | 0/50 [00:00<?, ?it/s]"
      ]
     },
     "metadata": {},
     "output_type": "display_data"
    },
    {
     "data": {
      "application/vnd.jupyter.widget-view+json": {
       "model_id": "5935031cc95f4245b0b8bd988e032fb9",
       "version_major": 2,
       "version_minor": 0
      },
      "text/plain": [
       "Boundary attack - iterations:   0%|          | 0/50 [00:00<?, ?it/s]"
      ]
     },
     "metadata": {},
     "output_type": "display_data"
    },
    {
     "data": {
      "application/vnd.jupyter.widget-view+json": {
       "model_id": "bb6aa97cf7384114b73efde458334ce2",
       "version_major": 2,
       "version_minor": 0
      },
      "text/plain": [
       "Boundary attack - iterations:   0%|          | 0/50 [00:00<?, ?it/s]"
      ]
     },
     "metadata": {},
     "output_type": "display_data"
    },
    {
     "data": {
      "application/vnd.jupyter.widget-view+json": {
       "model_id": "ceaa5bf712d44c6b8ecc61409cd02509",
       "version_major": 2,
       "version_minor": 0
      },
      "text/plain": [
       "Boundary attack - iterations:   0%|          | 0/50 [00:00<?, ?it/s]"
      ]
     },
     "metadata": {},
     "output_type": "display_data"
    },
    {
     "data": {
      "application/vnd.jupyter.widget-view+json": {
       "model_id": "647c5656ccb645679bf646246692f143",
       "version_major": 2,
       "version_minor": 0
      },
      "text/plain": [
       "Boundary attack - iterations:   0%|          | 0/50 [00:00<?, ?it/s]"
      ]
     },
     "metadata": {},
     "output_type": "display_data"
    },
    {
     "data": {
      "application/vnd.jupyter.widget-view+json": {
       "model_id": "1cd3d94d48fb47838c0fd4f737c5585d",
       "version_major": 2,
       "version_minor": 0
      },
      "text/plain": [
       "Boundary attack - iterations:   0%|          | 0/50 [00:00<?, ?it/s]"
      ]
     },
     "metadata": {},
     "output_type": "display_data"
    },
    {
     "data": {
      "application/vnd.jupyter.widget-view+json": {
       "model_id": "daf6c5cd0b884841b16c8739c705a5d3",
       "version_major": 2,
       "version_minor": 0
      },
      "text/plain": [
       "Boundary attack - iterations:   0%|          | 0/50 [00:00<?, ?it/s]"
      ]
     },
     "metadata": {},
     "output_type": "display_data"
    },
    {
     "data": {
      "application/vnd.jupyter.widget-view+json": {
       "model_id": "a79297ab4ec349dea3d038535efccecc",
       "version_major": 2,
       "version_minor": 0
      },
      "text/plain": [
       "Boundary attack - iterations:   0%|          | 0/50 [00:00<?, ?it/s]"
      ]
     },
     "metadata": {},
     "output_type": "display_data"
    },
    {
     "data": {
      "application/vnd.jupyter.widget-view+json": {
       "model_id": "f526356e18b440469e7a4f305a1c917c",
       "version_major": 2,
       "version_minor": 0
      },
      "text/plain": [
       "Boundary attack - iterations:   0%|          | 0/50 [00:00<?, ?it/s]"
      ]
     },
     "metadata": {},
     "output_type": "display_data"
    },
    {
     "data": {
      "application/vnd.jupyter.widget-view+json": {
       "model_id": "113682a85f394f33b6a34059e0c6a992",
       "version_major": 2,
       "version_minor": 0
      },
      "text/plain": [
       "Boundary attack - iterations:   0%|          | 0/50 [00:00<?, ?it/s]"
      ]
     },
     "metadata": {},
     "output_type": "display_data"
    },
    {
     "data": {
      "application/vnd.jupyter.widget-view+json": {
       "model_id": "961430c168c441b5b8808d8b29c18b06",
       "version_major": 2,
       "version_minor": 0
      },
      "text/plain": [
       "Boundary attack - iterations:   0%|          | 0/50 [00:00<?, ?it/s]"
      ]
     },
     "metadata": {},
     "output_type": "display_data"
    },
    {
     "data": {
      "application/vnd.jupyter.widget-view+json": {
       "model_id": "ce007375a2d942c28c078d835afceae9",
       "version_major": 2,
       "version_minor": 0
      },
      "text/plain": [
       "Boundary attack - iterations:   0%|          | 0/50 [00:00<?, ?it/s]"
      ]
     },
     "metadata": {},
     "output_type": "display_data"
    },
    {
     "data": {
      "application/vnd.jupyter.widget-view+json": {
       "model_id": "b356dee798a84157b2261c20ef8a9c70",
       "version_major": 2,
       "version_minor": 0
      },
      "text/plain": [
       "Boundary attack - iterations:   0%|          | 0/50 [00:00<?, ?it/s]"
      ]
     },
     "metadata": {},
     "output_type": "display_data"
    },
    {
     "data": {
      "application/vnd.jupyter.widget-view+json": {
       "model_id": "c49e2491e3e042a6a9c10abaa6fdf016",
       "version_major": 2,
       "version_minor": 0
      },
      "text/plain": [
       "Boundary attack - iterations:   0%|          | 0/50 [00:00<?, ?it/s]"
      ]
     },
     "metadata": {},
     "output_type": "display_data"
    },
    {
     "data": {
      "application/vnd.jupyter.widget-view+json": {
       "model_id": "7bfe075de9ba48de91a39d86ea5d5a61",
       "version_major": 2,
       "version_minor": 0
      },
      "text/plain": [
       "Boundary attack - iterations:   0%|          | 0/50 [00:00<?, ?it/s]"
      ]
     },
     "metadata": {},
     "output_type": "display_data"
    },
    {
     "data": {
      "application/vnd.jupyter.widget-view+json": {
       "model_id": "d6abe0fb673e473db78e6524146efc58",
       "version_major": 2,
       "version_minor": 0
      },
      "text/plain": [
       "Boundary attack - iterations:   0%|          | 0/50 [00:00<?, ?it/s]"
      ]
     },
     "metadata": {},
     "output_type": "display_data"
    },
    {
     "data": {
      "application/vnd.jupyter.widget-view+json": {
       "model_id": "fcdac280c9a7492eb9e8a9fc61b2694a",
       "version_major": 2,
       "version_minor": 0
      },
      "text/plain": [
       "Boundary attack - iterations:   0%|          | 0/50 [00:00<?, ?it/s]"
      ]
     },
     "metadata": {},
     "output_type": "display_data"
    },
    {
     "data": {
      "application/vnd.jupyter.widget-view+json": {
       "model_id": "640f9eda7cd74665a2cbcd64941094c6",
       "version_major": 2,
       "version_minor": 0
      },
      "text/plain": [
       "Boundary attack - iterations:   0%|          | 0/50 [00:00<?, ?it/s]"
      ]
     },
     "metadata": {},
     "output_type": "display_data"
    },
    {
     "data": {
      "application/vnd.jupyter.widget-view+json": {
       "model_id": "5d16a62b635149748630898e59e6a50d",
       "version_major": 2,
       "version_minor": 0
      },
      "text/plain": [
       "Boundary attack - iterations:   0%|          | 0/50 [00:00<?, ?it/s]"
      ]
     },
     "metadata": {},
     "output_type": "display_data"
    },
    {
     "data": {
      "application/vnd.jupyter.widget-view+json": {
       "model_id": "73f8861af2614fbbb19b2598ed9abcb7",
       "version_major": 2,
       "version_minor": 0
      },
      "text/plain": [
       "Boundary attack - iterations:   0%|          | 0/50 [00:00<?, ?it/s]"
      ]
     },
     "metadata": {},
     "output_type": "display_data"
    },
    {
     "data": {
      "application/vnd.jupyter.widget-view+json": {
       "model_id": "24bad6a592324a95ae584fa3d30eaba5",
       "version_major": 2,
       "version_minor": 0
      },
      "text/plain": [
       "Boundary attack - iterations:   0%|          | 0/50 [00:00<?, ?it/s]"
      ]
     },
     "metadata": {},
     "output_type": "display_data"
    },
    {
     "data": {
      "application/vnd.jupyter.widget-view+json": {
       "model_id": "a0686004d54d4bfe8246897c880ca924",
       "version_major": 2,
       "version_minor": 0
      },
      "text/plain": [
       "Boundary attack - iterations:   0%|          | 0/50 [00:00<?, ?it/s]"
      ]
     },
     "metadata": {},
     "output_type": "display_data"
    },
    {
     "data": {
      "application/vnd.jupyter.widget-view+json": {
       "model_id": "610656603c9143978c438519d759d2f6",
       "version_major": 2,
       "version_minor": 0
      },
      "text/plain": [
       "Boundary attack - iterations:   0%|          | 0/50 [00:00<?, ?it/s]"
      ]
     },
     "metadata": {},
     "output_type": "display_data"
    },
    {
     "data": {
      "application/vnd.jupyter.widget-view+json": {
       "model_id": "c2bf3c8995444aba875174a59e9766b1",
       "version_major": 2,
       "version_minor": 0
      },
      "text/plain": [
       "Boundary attack - iterations:   0%|          | 0/50 [00:00<?, ?it/s]"
      ]
     },
     "metadata": {},
     "output_type": "display_data"
    },
    {
     "data": {
      "application/vnd.jupyter.widget-view+json": {
       "model_id": "495e68f444d94c5fb560fbd3b0a30558",
       "version_major": 2,
       "version_minor": 0
      },
      "text/plain": [
       "Boundary attack - iterations:   0%|          | 0/50 [00:00<?, ?it/s]"
      ]
     },
     "metadata": {},
     "output_type": "display_data"
    },
    {
     "data": {
      "application/vnd.jupyter.widget-view+json": {
       "model_id": "80aa8fa4f247476981541fcb6bcb583a",
       "version_major": 2,
       "version_minor": 0
      },
      "text/plain": [
       "Boundary attack - iterations:   0%|          | 0/50 [00:00<?, ?it/s]"
      ]
     },
     "metadata": {},
     "output_type": "display_data"
    },
    {
     "data": {
      "application/vnd.jupyter.widget-view+json": {
       "model_id": "2d37eda65bc4442899757786aec84d77",
       "version_major": 2,
       "version_minor": 0
      },
      "text/plain": [
       "Boundary attack - iterations:   0%|          | 0/50 [00:00<?, ?it/s]"
      ]
     },
     "metadata": {},
     "output_type": "display_data"
    },
    {
     "data": {
      "application/vnd.jupyter.widget-view+json": {
       "model_id": "abac5e230b8d4324900fdec59ae95bf1",
       "version_major": 2,
       "version_minor": 0
      },
      "text/plain": [
       "Boundary attack - iterations:   0%|          | 0/50 [00:00<?, ?it/s]"
      ]
     },
     "metadata": {},
     "output_type": "display_data"
    },
    {
     "data": {
      "application/vnd.jupyter.widget-view+json": {
       "model_id": "2af0b5ad92a34516a956a5893325c06e",
       "version_major": 2,
       "version_minor": 0
      },
      "text/plain": [
       "Boundary attack - iterations:   0%|          | 0/50 [00:00<?, ?it/s]"
      ]
     },
     "metadata": {},
     "output_type": "display_data"
    },
    {
     "data": {
      "application/vnd.jupyter.widget-view+json": {
       "model_id": "402f8211731c42dcb8755bf2c3ae868c",
       "version_major": 2,
       "version_minor": 0
      },
      "text/plain": [
       "Boundary attack - iterations:   0%|          | 0/50 [00:00<?, ?it/s]"
      ]
     },
     "metadata": {},
     "output_type": "display_data"
    },
    {
     "data": {
      "application/vnd.jupyter.widget-view+json": {
       "model_id": "e4c8ad1be5b142059595990eaf59e86a",
       "version_major": 2,
       "version_minor": 0
      },
      "text/plain": [
       "Boundary attack - iterations:   0%|          | 0/50 [00:00<?, ?it/s]"
      ]
     },
     "metadata": {},
     "output_type": "display_data"
    },
    {
     "data": {
      "application/vnd.jupyter.widget-view+json": {
       "model_id": "c204f11224ef4e6eb85076fe1baa28c4",
       "version_major": 2,
       "version_minor": 0
      },
      "text/plain": [
       "Boundary attack - iterations:   0%|          | 0/50 [00:00<?, ?it/s]"
      ]
     },
     "metadata": {},
     "output_type": "display_data"
    },
    {
     "data": {
      "application/vnd.jupyter.widget-view+json": {
       "model_id": "67cb27166db3452da8e268cc12c8a8a3",
       "version_major": 2,
       "version_minor": 0
      },
      "text/plain": [
       "Boundary attack - iterations:   0%|          | 0/50 [00:00<?, ?it/s]"
      ]
     },
     "metadata": {},
     "output_type": "display_data"
    },
    {
     "data": {
      "application/vnd.jupyter.widget-view+json": {
       "model_id": "c093c9c9f0a944e7a06582da863b03af",
       "version_major": 2,
       "version_minor": 0
      },
      "text/plain": [
       "Boundary attack - iterations:   0%|          | 0/50 [00:00<?, ?it/s]"
      ]
     },
     "metadata": {},
     "output_type": "display_data"
    },
    {
     "data": {
      "application/vnd.jupyter.widget-view+json": {
       "model_id": "3b484471faed41859bcde35a7bd370de",
       "version_major": 2,
       "version_minor": 0
      },
      "text/plain": [
       "Boundary attack - iterations:   0%|          | 0/50 [00:00<?, ?it/s]"
      ]
     },
     "metadata": {},
     "output_type": "display_data"
    },
    {
     "data": {
      "application/vnd.jupyter.widget-view+json": {
       "model_id": "936cb1f5e1554f3e8a6f1f4a3275fc60",
       "version_major": 2,
       "version_minor": 0
      },
      "text/plain": [
       "Boundary attack - iterations:   0%|          | 0/50 [00:00<?, ?it/s]"
      ]
     },
     "metadata": {},
     "output_type": "display_data"
    },
    {
     "data": {
      "application/vnd.jupyter.widget-view+json": {
       "model_id": "a9c51d7396644d8ebd17e786dd5203fe",
       "version_major": 2,
       "version_minor": 0
      },
      "text/plain": [
       "Boundary attack - iterations:   0%|          | 0/50 [00:00<?, ?it/s]"
      ]
     },
     "metadata": {},
     "output_type": "display_data"
    },
    {
     "data": {
      "application/vnd.jupyter.widget-view+json": {
       "model_id": "ac45bc9403a6454ea117abc1f3e35700",
       "version_major": 2,
       "version_minor": 0
      },
      "text/plain": [
       "Boundary attack - iterations:   0%|          | 0/50 [00:00<?, ?it/s]"
      ]
     },
     "metadata": {},
     "output_type": "display_data"
    },
    {
     "data": {
      "application/vnd.jupyter.widget-view+json": {
       "model_id": "5498bdf693f74045a566843f045354d9",
       "version_major": 2,
       "version_minor": 0
      },
      "text/plain": [
       "Boundary attack - iterations:   0%|          | 0/50 [00:00<?, ?it/s]"
      ]
     },
     "metadata": {},
     "output_type": "display_data"
    },
    {
     "data": {
      "application/vnd.jupyter.widget-view+json": {
       "model_id": "ae47194050584f89ab910ed5e9a67695",
       "version_major": 2,
       "version_minor": 0
      },
      "text/plain": [
       "Boundary attack - iterations:   0%|          | 0/50 [00:00<?, ?it/s]"
      ]
     },
     "metadata": {},
     "output_type": "display_data"
    },
    {
     "data": {
      "application/vnd.jupyter.widget-view+json": {
       "model_id": "4717b7b490f448aca881587fda0da4f6",
       "version_major": 2,
       "version_minor": 0
      },
      "text/plain": [
       "Boundary attack - iterations:   0%|          | 0/50 [00:00<?, ?it/s]"
      ]
     },
     "metadata": {},
     "output_type": "display_data"
    },
    {
     "data": {
      "application/vnd.jupyter.widget-view+json": {
       "model_id": "d53869bbdc904bf2905e12e6cf68c05d",
       "version_major": 2,
       "version_minor": 0
      },
      "text/plain": [
       "Boundary attack - iterations:   0%|          | 0/50 [00:00<?, ?it/s]"
      ]
     },
     "metadata": {},
     "output_type": "display_data"
    },
    {
     "data": {
      "application/vnd.jupyter.widget-view+json": {
       "model_id": "c6d3a7295da8455a9ce575cecd8491f4",
       "version_major": 2,
       "version_minor": 0
      },
      "text/plain": [
       "Boundary attack - iterations:   0%|          | 0/50 [00:00<?, ?it/s]"
      ]
     },
     "metadata": {},
     "output_type": "display_data"
    },
    {
     "data": {
      "application/vnd.jupyter.widget-view+json": {
       "model_id": "4d47cbaadf79446ca68468bd0b26b0ba",
       "version_major": 2,
       "version_minor": 0
      },
      "text/plain": [
       "Boundary attack - iterations:   0%|          | 0/50 [00:00<?, ?it/s]"
      ]
     },
     "metadata": {},
     "output_type": "display_data"
    },
    {
     "data": {
      "application/vnd.jupyter.widget-view+json": {
       "model_id": "ac7075ddd534402f97c8ed1a2e8f0bfd",
       "version_major": 2,
       "version_minor": 0
      },
      "text/plain": [
       "Boundary attack - iterations:   0%|          | 0/50 [00:00<?, ?it/s]"
      ]
     },
     "metadata": {},
     "output_type": "display_data"
    },
    {
     "data": {
      "application/vnd.jupyter.widget-view+json": {
       "model_id": "4d21f423eb6b4e6db5565f1d23339471",
       "version_major": 2,
       "version_minor": 0
      },
      "text/plain": [
       "Boundary attack - iterations:   0%|          | 0/50 [00:00<?, ?it/s]"
      ]
     },
     "metadata": {},
     "output_type": "display_data"
    },
    {
     "data": {
      "application/vnd.jupyter.widget-view+json": {
       "model_id": "089d5869ee114b33aeb254fa636901d5",
       "version_major": 2,
       "version_minor": 0
      },
      "text/plain": [
       "Boundary attack - iterations:   0%|          | 0/50 [00:00<?, ?it/s]"
      ]
     },
     "metadata": {},
     "output_type": "display_data"
    },
    {
     "data": {
      "application/vnd.jupyter.widget-view+json": {
       "model_id": "4186f2755cfd4ec0959a25ed2d24fdb0",
       "version_major": 2,
       "version_minor": 0
      },
      "text/plain": [
       "Boundary attack - iterations:   0%|          | 0/50 [00:00<?, ?it/s]"
      ]
     },
     "metadata": {},
     "output_type": "display_data"
    },
    {
     "data": {
      "application/vnd.jupyter.widget-view+json": {
       "model_id": "73ab63f016884191878f9e874632f24c",
       "version_major": 2,
       "version_minor": 0
      },
      "text/plain": [
       "Boundary attack - iterations:   0%|          | 0/50 [00:00<?, ?it/s]"
      ]
     },
     "metadata": {},
     "output_type": "display_data"
    },
    {
     "data": {
      "application/vnd.jupyter.widget-view+json": {
       "model_id": "d1146640917e4f28b56072a9a7646401",
       "version_major": 2,
       "version_minor": 0
      },
      "text/plain": [
       "Boundary attack - iterations:   0%|          | 0/50 [00:00<?, ?it/s]"
      ]
     },
     "metadata": {},
     "output_type": "display_data"
    },
    {
     "data": {
      "application/vnd.jupyter.widget-view+json": {
       "model_id": "e3b92623d9ef48ab821100a202325a28",
       "version_major": 2,
       "version_minor": 0
      },
      "text/plain": [
       "Boundary attack - iterations:   0%|          | 0/50 [00:00<?, ?it/s]"
      ]
     },
     "metadata": {},
     "output_type": "display_data"
    },
    {
     "data": {
      "application/vnd.jupyter.widget-view+json": {
       "model_id": "cd099c37d19d4defa974fdcfe6638575",
       "version_major": 2,
       "version_minor": 0
      },
      "text/plain": [
       "Boundary attack - iterations:   0%|          | 0/50 [00:00<?, ?it/s]"
      ]
     },
     "metadata": {},
     "output_type": "display_data"
    },
    {
     "data": {
      "application/vnd.jupyter.widget-view+json": {
       "model_id": "b851150c8fab4f339ac90839b2e25899",
       "version_major": 2,
       "version_minor": 0
      },
      "text/plain": [
       "Boundary attack - iterations:   0%|          | 0/50 [00:00<?, ?it/s]"
      ]
     },
     "metadata": {},
     "output_type": "display_data"
    },
    {
     "data": {
      "application/vnd.jupyter.widget-view+json": {
       "model_id": "c244fc08ecb848c599882b469abd59b1",
       "version_major": 2,
       "version_minor": 0
      },
      "text/plain": [
       "Boundary attack - iterations:   0%|          | 0/50 [00:00<?, ?it/s]"
      ]
     },
     "metadata": {},
     "output_type": "display_data"
    },
    {
     "data": {
      "application/vnd.jupyter.widget-view+json": {
       "model_id": "b0807c0c6f914994a48da2ac6fdb61af",
       "version_major": 2,
       "version_minor": 0
      },
      "text/plain": [
       "Boundary attack - iterations:   0%|          | 0/50 [00:00<?, ?it/s]"
      ]
     },
     "metadata": {},
     "output_type": "display_data"
    },
    {
     "data": {
      "application/vnd.jupyter.widget-view+json": {
       "model_id": "5035268f62aa420294c1e1b42c5d90c3",
       "version_major": 2,
       "version_minor": 0
      },
      "text/plain": [
       "Boundary attack - iterations:   0%|          | 0/50 [00:00<?, ?it/s]"
      ]
     },
     "metadata": {},
     "output_type": "display_data"
    },
    {
     "data": {
      "application/vnd.jupyter.widget-view+json": {
       "model_id": "7e5b456a4241424f8bc617b25c6922d7",
       "version_major": 2,
       "version_minor": 0
      },
      "text/plain": [
       "Boundary attack - iterations:   0%|          | 0/50 [00:00<?, ?it/s]"
      ]
     },
     "metadata": {},
     "output_type": "display_data"
    },
    {
     "data": {
      "application/vnd.jupyter.widget-view+json": {
       "model_id": "eb0a1b09f3234e85bab5065baa1084bc",
       "version_major": 2,
       "version_minor": 0
      },
      "text/plain": [
       "Boundary attack - iterations:   0%|          | 0/50 [00:00<?, ?it/s]"
      ]
     },
     "metadata": {},
     "output_type": "display_data"
    },
    {
     "data": {
      "application/vnd.jupyter.widget-view+json": {
       "model_id": "e13b9c2116e24b3aa82ddd55efaeedda",
       "version_major": 2,
       "version_minor": 0
      },
      "text/plain": [
       "Boundary attack - iterations:   0%|          | 0/50 [00:00<?, ?it/s]"
      ]
     },
     "metadata": {},
     "output_type": "display_data"
    },
    {
     "data": {
      "application/vnd.jupyter.widget-view+json": {
       "model_id": "81e4a6af637e48bdb0afb46e84b87d64",
       "version_major": 2,
       "version_minor": 0
      },
      "text/plain": [
       "Boundary attack - iterations:   0%|          | 0/50 [00:00<?, ?it/s]"
      ]
     },
     "metadata": {},
     "output_type": "display_data"
    },
    {
     "data": {
      "application/vnd.jupyter.widget-view+json": {
       "model_id": "05afe490ad434b9ca0eac9ad5bdc081e",
       "version_major": 2,
       "version_minor": 0
      },
      "text/plain": [
       "Boundary attack - iterations:   0%|          | 0/50 [00:00<?, ?it/s]"
      ]
     },
     "metadata": {},
     "output_type": "display_data"
    },
    {
     "data": {
      "application/vnd.jupyter.widget-view+json": {
       "model_id": "a54c5d5ed27b4fedb68f8e6cfa866d1d",
       "version_major": 2,
       "version_minor": 0
      },
      "text/plain": [
       "Boundary attack - iterations:   0%|          | 0/50 [00:00<?, ?it/s]"
      ]
     },
     "metadata": {},
     "output_type": "display_data"
    },
    {
     "data": {
      "application/vnd.jupyter.widget-view+json": {
       "model_id": "2c8bd58e88fd4508a4d4dd55238cc897",
       "version_major": 2,
       "version_minor": 0
      },
      "text/plain": [
       "Boundary attack - iterations:   0%|          | 0/50 [00:00<?, ?it/s]"
      ]
     },
     "metadata": {},
     "output_type": "display_data"
    },
    {
     "data": {
      "application/vnd.jupyter.widget-view+json": {
       "model_id": "f670f91400444276bfa14c1a20a7875c",
       "version_major": 2,
       "version_minor": 0
      },
      "text/plain": [
       "Boundary attack - iterations:   0%|          | 0/50 [00:00<?, ?it/s]"
      ]
     },
     "metadata": {},
     "output_type": "display_data"
    },
    {
     "data": {
      "application/vnd.jupyter.widget-view+json": {
       "model_id": "bc2b1a96be9f45cfa837c5ab22491668",
       "version_major": 2,
       "version_minor": 0
      },
      "text/plain": [
       "Boundary attack - iterations:   0%|          | 0/50 [00:00<?, ?it/s]"
      ]
     },
     "metadata": {},
     "output_type": "display_data"
    },
    {
     "data": {
      "application/vnd.jupyter.widget-view+json": {
       "model_id": "e62588bc756b44a1ae7a0d4e706eb045",
       "version_major": 2,
       "version_minor": 0
      },
      "text/plain": [
       "Boundary attack - iterations:   0%|          | 0/50 [00:00<?, ?it/s]"
      ]
     },
     "metadata": {},
     "output_type": "display_data"
    },
    {
     "data": {
      "application/vnd.jupyter.widget-view+json": {
       "model_id": "706414d9347446c8b1b8120cf0eb8e5a",
       "version_major": 2,
       "version_minor": 0
      },
      "text/plain": [
       "Boundary attack - iterations:   0%|          | 0/50 [00:00<?, ?it/s]"
      ]
     },
     "metadata": {},
     "output_type": "display_data"
    },
    {
     "data": {
      "application/vnd.jupyter.widget-view+json": {
       "model_id": "fd17f7cffca3485a8505967d5a24e57a",
       "version_major": 2,
       "version_minor": 0
      },
      "text/plain": [
       "Boundary attack - iterations:   0%|          | 0/50 [00:00<?, ?it/s]"
      ]
     },
     "metadata": {},
     "output_type": "display_data"
    },
    {
     "data": {
      "application/vnd.jupyter.widget-view+json": {
       "model_id": "e225874dab274101a6069c6d05170205",
       "version_major": 2,
       "version_minor": 0
      },
      "text/plain": [
       "Boundary attack - iterations:   0%|          | 0/50 [00:00<?, ?it/s]"
      ]
     },
     "metadata": {},
     "output_type": "display_data"
    },
    {
     "data": {
      "application/vnd.jupyter.widget-view+json": {
       "model_id": "8457a40653d94b08a823543256855b02",
       "version_major": 2,
       "version_minor": 0
      },
      "text/plain": [
       "Boundary attack - iterations:   0%|          | 0/50 [00:00<?, ?it/s]"
      ]
     },
     "metadata": {},
     "output_type": "display_data"
    },
    {
     "data": {
      "application/vnd.jupyter.widget-view+json": {
       "model_id": "d59d0b80f0564552b95dcf90fda09974",
       "version_major": 2,
       "version_minor": 0
      },
      "text/plain": [
       "Boundary attack - iterations:   0%|          | 0/50 [00:00<?, ?it/s]"
      ]
     },
     "metadata": {},
     "output_type": "display_data"
    },
    {
     "data": {
      "application/vnd.jupyter.widget-view+json": {
       "model_id": "3259fa85ae83409fb11aa7841a5187ec",
       "version_major": 2,
       "version_minor": 0
      },
      "text/plain": [
       "Boundary attack - iterations:   0%|          | 0/50 [00:00<?, ?it/s]"
      ]
     },
     "metadata": {},
     "output_type": "display_data"
    },
    {
     "data": {
      "application/vnd.jupyter.widget-view+json": {
       "model_id": "182dcaf2e7ff470097cfac1b41812a71",
       "version_major": 2,
       "version_minor": 0
      },
      "text/plain": [
       "Boundary attack - iterations:   0%|          | 0/50 [00:00<?, ?it/s]"
      ]
     },
     "metadata": {},
     "output_type": "display_data"
    },
    {
     "data": {
      "application/vnd.jupyter.widget-view+json": {
       "model_id": "da5ce21117474da585463fcc6876edbb",
       "version_major": 2,
       "version_minor": 0
      },
      "text/plain": [
       "Boundary attack - iterations:   0%|          | 0/50 [00:00<?, ?it/s]"
      ]
     },
     "metadata": {},
     "output_type": "display_data"
    },
    {
     "data": {
      "application/vnd.jupyter.widget-view+json": {
       "model_id": "2d4baf92471440dcbfdf2c2a130b118d",
       "version_major": 2,
       "version_minor": 0
      },
      "text/plain": [
       "Boundary attack - iterations:   0%|          | 0/50 [00:00<?, ?it/s]"
      ]
     },
     "metadata": {},
     "output_type": "display_data"
    },
    {
     "data": {
      "application/vnd.jupyter.widget-view+json": {
       "model_id": "b0e4e8ecf8e14797b3ff1b7e29db28df",
       "version_major": 2,
       "version_minor": 0
      },
      "text/plain": [
       "Boundary attack - iterations:   0%|          | 0/50 [00:00<?, ?it/s]"
      ]
     },
     "metadata": {},
     "output_type": "display_data"
    },
    {
     "data": {
      "application/vnd.jupyter.widget-view+json": {
       "model_id": "0cdd4c4bb7e045d4b2c623dcc5b93201",
       "version_major": 2,
       "version_minor": 0
      },
      "text/plain": [
       "Boundary attack - iterations:   0%|          | 0/50 [00:00<?, ?it/s]"
      ]
     },
     "metadata": {},
     "output_type": "display_data"
    },
    {
     "data": {
      "application/vnd.jupyter.widget-view+json": {
       "model_id": "47616eedd1e64016afa8ac80a59f0fd7",
       "version_major": 2,
       "version_minor": 0
      },
      "text/plain": [
       "Boundary attack - iterations:   0%|          | 0/50 [00:00<?, ?it/s]"
      ]
     },
     "metadata": {},
     "output_type": "display_data"
    },
    {
     "data": {
      "application/vnd.jupyter.widget-view+json": {
       "model_id": "790b0e1e24514b2889d2278f197cc974",
       "version_major": 2,
       "version_minor": 0
      },
      "text/plain": [
       "Boundary attack - iterations:   0%|          | 0/50 [00:00<?, ?it/s]"
      ]
     },
     "metadata": {},
     "output_type": "display_data"
    },
    {
     "data": {
      "application/vnd.jupyter.widget-view+json": {
       "model_id": "4f018254cc5f4619b5c8c03efe94f86f",
       "version_major": 2,
       "version_minor": 0
      },
      "text/plain": [
       "Boundary attack - iterations:   0%|          | 0/50 [00:00<?, ?it/s]"
      ]
     },
     "metadata": {},
     "output_type": "display_data"
    },
    {
     "data": {
      "application/vnd.jupyter.widget-view+json": {
       "model_id": "ce12922015564217ba8658dffdef7f7a",
       "version_major": 2,
       "version_minor": 0
      },
      "text/plain": [
       "Boundary attack - iterations:   0%|          | 0/50 [00:00<?, ?it/s]"
      ]
     },
     "metadata": {},
     "output_type": "display_data"
    },
    {
     "data": {
      "application/vnd.jupyter.widget-view+json": {
       "model_id": "6e0dd9257c6b41cba02eb50af057820b",
       "version_major": 2,
       "version_minor": 0
      },
      "text/plain": [
       "Boundary attack - iterations:   0%|          | 0/50 [00:00<?, ?it/s]"
      ]
     },
     "metadata": {},
     "output_type": "display_data"
    },
    {
     "data": {
      "application/vnd.jupyter.widget-view+json": {
       "model_id": "a0c59455e22f48468aa8208231ff2ad0",
       "version_major": 2,
       "version_minor": 0
      },
      "text/plain": [
       "Boundary attack - iterations:   0%|          | 0/50 [00:00<?, ?it/s]"
      ]
     },
     "metadata": {},
     "output_type": "display_data"
    },
    {
     "data": {
      "application/vnd.jupyter.widget-view+json": {
       "model_id": "c0b93d0081074ddeb106c6bf7ab712c9",
       "version_major": 2,
       "version_minor": 0
      },
      "text/plain": [
       "Boundary attack - iterations:   0%|          | 0/50 [00:00<?, ?it/s]"
      ]
     },
     "metadata": {},
     "output_type": "display_data"
    },
    {
     "data": {
      "application/vnd.jupyter.widget-view+json": {
       "model_id": "daa134a3e4114f8e9c6a57abd37c9c1f",
       "version_major": 2,
       "version_minor": 0
      },
      "text/plain": [
       "Boundary attack - iterations:   0%|          | 0/50 [00:00<?, ?it/s]"
      ]
     },
     "metadata": {},
     "output_type": "display_data"
    },
    {
     "data": {
      "application/vnd.jupyter.widget-view+json": {
       "model_id": "d8a65e92327d4f97ac5a853c8a28e90e",
       "version_major": 2,
       "version_minor": 0
      },
      "text/plain": [
       "Boundary attack - iterations:   0%|          | 0/50 [00:00<?, ?it/s]"
      ]
     },
     "metadata": {},
     "output_type": "display_data"
    },
    {
     "data": {
      "application/vnd.jupyter.widget-view+json": {
       "model_id": "6abd731659f4445196f35b3626e607a7",
       "version_major": 2,
       "version_minor": 0
      },
      "text/plain": [
       "Boundary attack - iterations:   0%|          | 0/50 [00:00<?, ?it/s]"
      ]
     },
     "metadata": {},
     "output_type": "display_data"
    },
    {
     "data": {
      "application/vnd.jupyter.widget-view+json": {
       "model_id": "9554fb12d6eb446a9e917cf320d4570a",
       "version_major": 2,
       "version_minor": 0
      },
      "text/plain": [
       "Boundary attack - iterations:   0%|          | 0/50 [00:00<?, ?it/s]"
      ]
     },
     "metadata": {},
     "output_type": "display_data"
    },
    {
     "data": {
      "application/vnd.jupyter.widget-view+json": {
       "model_id": "f327a9e5c2b7465891e46b9d4a6ace64",
       "version_major": 2,
       "version_minor": 0
      },
      "text/plain": [
       "Boundary attack - iterations:   0%|          | 0/50 [00:00<?, ?it/s]"
      ]
     },
     "metadata": {},
     "output_type": "display_data"
    },
    {
     "data": {
      "application/vnd.jupyter.widget-view+json": {
       "model_id": "90af3098e59642dd84d3d21073091d3d",
       "version_major": 2,
       "version_minor": 0
      },
      "text/plain": [
       "Boundary attack - iterations:   0%|          | 0/50 [00:00<?, ?it/s]"
      ]
     },
     "metadata": {},
     "output_type": "display_data"
    },
    {
     "data": {
      "application/vnd.jupyter.widget-view+json": {
       "model_id": "a46b00be4e954e80bc66c6a656006ff5",
       "version_major": 2,
       "version_minor": 0
      },
      "text/plain": [
       "Boundary attack - iterations:   0%|          | 0/50 [00:00<?, ?it/s]"
      ]
     },
     "metadata": {},
     "output_type": "display_data"
    },
    {
     "data": {
      "application/vnd.jupyter.widget-view+json": {
       "model_id": "bf4406d57bc248c384475ce556142850",
       "version_major": 2,
       "version_minor": 0
      },
      "text/plain": [
       "Boundary attack - iterations:   0%|          | 0/50 [00:00<?, ?it/s]"
      ]
     },
     "metadata": {},
     "output_type": "display_data"
    },
    {
     "data": {
      "application/vnd.jupyter.widget-view+json": {
       "model_id": "3d31dc2eb05940259a9ac856b5c23b1b",
       "version_major": 2,
       "version_minor": 0
      },
      "text/plain": [
       "Boundary attack - iterations:   0%|          | 0/50 [00:00<?, ?it/s]"
      ]
     },
     "metadata": {},
     "output_type": "display_data"
    },
    {
     "data": {
      "application/vnd.jupyter.widget-view+json": {
       "model_id": "f75cd4edb6f647cf8a65f80f9b3e2538",
       "version_major": 2,
       "version_minor": 0
      },
      "text/plain": [
       "Boundary attack - iterations:   0%|          | 0/50 [00:00<?, ?it/s]"
      ]
     },
     "metadata": {},
     "output_type": "display_data"
    },
    {
     "data": {
      "application/vnd.jupyter.widget-view+json": {
       "model_id": "1af55a29633145518aa98d9e58992fca",
       "version_major": 2,
       "version_minor": 0
      },
      "text/plain": [
       "Boundary attack - iterations:   0%|          | 0/50 [00:00<?, ?it/s]"
      ]
     },
     "metadata": {},
     "output_type": "display_data"
    },
    {
     "data": {
      "application/vnd.jupyter.widget-view+json": {
       "model_id": "443dbfe79b7f41a2a54fa29cf429b007",
       "version_major": 2,
       "version_minor": 0
      },
      "text/plain": [
       "Boundary attack - iterations:   0%|          | 0/50 [00:00<?, ?it/s]"
      ]
     },
     "metadata": {},
     "output_type": "display_data"
    },
    {
     "data": {
      "application/vnd.jupyter.widget-view+json": {
       "model_id": "bccc575b1a9e44f1917ff8ec91976289",
       "version_major": 2,
       "version_minor": 0
      },
      "text/plain": [
       "Boundary attack - iterations:   0%|          | 0/50 [00:00<?, ?it/s]"
      ]
     },
     "metadata": {},
     "output_type": "display_data"
    },
    {
     "data": {
      "application/vnd.jupyter.widget-view+json": {
       "model_id": "936febc53f0e4f44b26f8c39c5f1cf40",
       "version_major": 2,
       "version_minor": 0
      },
      "text/plain": [
       "Boundary attack - iterations:   0%|          | 0/50 [00:00<?, ?it/s]"
      ]
     },
     "metadata": {},
     "output_type": "display_data"
    },
    {
     "data": {
      "application/vnd.jupyter.widget-view+json": {
       "model_id": "98486b5144ac4c298007e3d1dd4e00d3",
       "version_major": 2,
       "version_minor": 0
      },
      "text/plain": [
       "Boundary attack - iterations:   0%|          | 0/50 [00:00<?, ?it/s]"
      ]
     },
     "metadata": {},
     "output_type": "display_data"
    },
    {
     "data": {
      "application/vnd.jupyter.widget-view+json": {
       "model_id": "11f8e225c0e14a0d971a4a4390525163",
       "version_major": 2,
       "version_minor": 0
      },
      "text/plain": [
       "Boundary attack - iterations:   0%|          | 0/50 [00:00<?, ?it/s]"
      ]
     },
     "metadata": {},
     "output_type": "display_data"
    },
    {
     "data": {
      "application/vnd.jupyter.widget-view+json": {
       "model_id": "2e1690157bd5465a8da4149c0d7198c0",
       "version_major": 2,
       "version_minor": 0
      },
      "text/plain": [
       "Boundary attack - iterations:   0%|          | 0/50 [00:00<?, ?it/s]"
      ]
     },
     "metadata": {},
     "output_type": "display_data"
    },
    {
     "data": {
      "application/vnd.jupyter.widget-view+json": {
       "model_id": "0c4f2011f41c46bba060404b6304d2ef",
       "version_major": 2,
       "version_minor": 0
      },
      "text/plain": [
       "Boundary attack - iterations:   0%|          | 0/50 [00:00<?, ?it/s]"
      ]
     },
     "metadata": {},
     "output_type": "display_data"
    },
    {
     "data": {
      "application/vnd.jupyter.widget-view+json": {
       "model_id": "00781d99a38f4038acf119942b3b5888",
       "version_major": 2,
       "version_minor": 0
      },
      "text/plain": [
       "Boundary attack - iterations:   0%|          | 0/50 [00:00<?, ?it/s]"
      ]
     },
     "metadata": {},
     "output_type": "display_data"
    },
    {
     "data": {
      "application/vnd.jupyter.widget-view+json": {
       "model_id": "12cf62ae51e64e788ec81f664244d635",
       "version_major": 2,
       "version_minor": 0
      },
      "text/plain": [
       "Boundary attack - iterations:   0%|          | 0/50 [00:00<?, ?it/s]"
      ]
     },
     "metadata": {},
     "output_type": "display_data"
    },
    {
     "data": {
      "application/vnd.jupyter.widget-view+json": {
       "model_id": "1ec6a86568ce4463bc953098321f4dfd",
       "version_major": 2,
       "version_minor": 0
      },
      "text/plain": [
       "Boundary attack - iterations:   0%|          | 0/50 [00:00<?, ?it/s]"
      ]
     },
     "metadata": {},
     "output_type": "display_data"
    },
    {
     "data": {
      "application/vnd.jupyter.widget-view+json": {
       "model_id": "60adf8afc52a4d72b93174d933ffa922",
       "version_major": 2,
       "version_minor": 0
      },
      "text/plain": [
       "Boundary attack - iterations:   0%|          | 0/50 [00:00<?, ?it/s]"
      ]
     },
     "metadata": {},
     "output_type": "display_data"
    },
    {
     "data": {
      "application/vnd.jupyter.widget-view+json": {
       "model_id": "49655140bd3849169960c73437b5179c",
       "version_major": 2,
       "version_minor": 0
      },
      "text/plain": [
       "Boundary attack - iterations:   0%|          | 0/50 [00:00<?, ?it/s]"
      ]
     },
     "metadata": {},
     "output_type": "display_data"
    },
    {
     "data": {
      "application/vnd.jupyter.widget-view+json": {
       "model_id": "98cfefeeb0874c3e847828bf360b5a55",
       "version_major": 2,
       "version_minor": 0
      },
      "text/plain": [
       "Boundary attack - iterations:   0%|          | 0/50 [00:00<?, ?it/s]"
      ]
     },
     "metadata": {},
     "output_type": "display_data"
    },
    {
     "data": {
      "application/vnd.jupyter.widget-view+json": {
       "model_id": "45e5aab5d9f1456290f598c99b886916",
       "version_major": 2,
       "version_minor": 0
      },
      "text/plain": [
       "Boundary attack - iterations:   0%|          | 0/50 [00:00<?, ?it/s]"
      ]
     },
     "metadata": {},
     "output_type": "display_data"
    },
    {
     "data": {
      "application/vnd.jupyter.widget-view+json": {
       "model_id": "754ef816bcf74beaa1ae8df6feee277a",
       "version_major": 2,
       "version_minor": 0
      },
      "text/plain": [
       "Boundary attack - iterations:   0%|          | 0/50 [00:00<?, ?it/s]"
      ]
     },
     "metadata": {},
     "output_type": "display_data"
    },
    {
     "data": {
      "application/vnd.jupyter.widget-view+json": {
       "model_id": "ffd2d4a00b9747cebfa41d680f3ccd9c",
       "version_major": 2,
       "version_minor": 0
      },
      "text/plain": [
       "Boundary attack - iterations:   0%|          | 0/50 [00:00<?, ?it/s]"
      ]
     },
     "metadata": {},
     "output_type": "display_data"
    },
    {
     "data": {
      "application/vnd.jupyter.widget-view+json": {
       "model_id": "c350a585a83b48fab2881c34f5b8587e",
       "version_major": 2,
       "version_minor": 0
      },
      "text/plain": [
       "Boundary attack - iterations:   0%|          | 0/50 [00:00<?, ?it/s]"
      ]
     },
     "metadata": {},
     "output_type": "display_data"
    },
    {
     "data": {
      "application/vnd.jupyter.widget-view+json": {
       "model_id": "48064691634a47be8032e28cf7eb3fe7",
       "version_major": 2,
       "version_minor": 0
      },
      "text/plain": [
       "Boundary attack - iterations:   0%|          | 0/50 [00:00<?, ?it/s]"
      ]
     },
     "metadata": {},
     "output_type": "display_data"
    },
    {
     "data": {
      "application/vnd.jupyter.widget-view+json": {
       "model_id": "dc70621b45f44e4f93a23926b364ccf1",
       "version_major": 2,
       "version_minor": 0
      },
      "text/plain": [
       "Boundary attack - iterations:   0%|          | 0/50 [00:00<?, ?it/s]"
      ]
     },
     "metadata": {},
     "output_type": "display_data"
    },
    {
     "data": {
      "application/vnd.jupyter.widget-view+json": {
       "model_id": "63385ae77670454aa82e99f4bbfc1410",
       "version_major": 2,
       "version_minor": 0
      },
      "text/plain": [
       "Boundary attack - iterations:   0%|          | 0/50 [00:00<?, ?it/s]"
      ]
     },
     "metadata": {},
     "output_type": "display_data"
    },
    {
     "data": {
      "application/vnd.jupyter.widget-view+json": {
       "model_id": "f71cd39c60ea4778ac21691339691d4c",
       "version_major": 2,
       "version_minor": 0
      },
      "text/plain": [
       "Boundary attack - iterations:   0%|          | 0/50 [00:00<?, ?it/s]"
      ]
     },
     "metadata": {},
     "output_type": "display_data"
    },
    {
     "data": {
      "application/vnd.jupyter.widget-view+json": {
       "model_id": "732a8da99c2c446b8248c855d51c7e13",
       "version_major": 2,
       "version_minor": 0
      },
      "text/plain": [
       "Boundary attack - iterations:   0%|          | 0/50 [00:00<?, ?it/s]"
      ]
     },
     "metadata": {},
     "output_type": "display_data"
    },
    {
     "data": {
      "application/vnd.jupyter.widget-view+json": {
       "model_id": "1cca6063e37444849c295f66fc4cf200",
       "version_major": 2,
       "version_minor": 0
      },
      "text/plain": [
       "Boundary attack - iterations:   0%|          | 0/50 [00:00<?, ?it/s]"
      ]
     },
     "metadata": {},
     "output_type": "display_data"
    },
    {
     "data": {
      "application/vnd.jupyter.widget-view+json": {
       "model_id": "dc6fe1f2c4744f81b5266eaf42f215e1",
       "version_major": 2,
       "version_minor": 0
      },
      "text/plain": [
       "Boundary attack - iterations:   0%|          | 0/50 [00:00<?, ?it/s]"
      ]
     },
     "metadata": {},
     "output_type": "display_data"
    },
    {
     "data": {
      "application/vnd.jupyter.widget-view+json": {
       "model_id": "d7bda68d878b41ca890d7497650d871f",
       "version_major": 2,
       "version_minor": 0
      },
      "text/plain": [
       "Boundary attack - iterations:   0%|          | 0/50 [00:00<?, ?it/s]"
      ]
     },
     "metadata": {},
     "output_type": "display_data"
    },
    {
     "data": {
      "application/vnd.jupyter.widget-view+json": {
       "model_id": "078bc454303e494e80df35a9daefa333",
       "version_major": 2,
       "version_minor": 0
      },
      "text/plain": [
       "Boundary attack - iterations:   0%|          | 0/50 [00:00<?, ?it/s]"
      ]
     },
     "metadata": {},
     "output_type": "display_data"
    },
    {
     "data": {
      "application/vnd.jupyter.widget-view+json": {
       "model_id": "21a88cc98824448ebbe856b4d1d2ba00",
       "version_major": 2,
       "version_minor": 0
      },
      "text/plain": [
       "Boundary attack - iterations:   0%|          | 0/50 [00:00<?, ?it/s]"
      ]
     },
     "metadata": {},
     "output_type": "display_data"
    },
    {
     "data": {
      "application/vnd.jupyter.widget-view+json": {
       "model_id": "9d30a85eb68449d1a01fb05c18316d95",
       "version_major": 2,
       "version_minor": 0
      },
      "text/plain": [
       "Boundary attack - iterations:   0%|          | 0/50 [00:00<?, ?it/s]"
      ]
     },
     "metadata": {},
     "output_type": "display_data"
    },
    {
     "data": {
      "application/vnd.jupyter.widget-view+json": {
       "model_id": "31915139948f44eaafda9ceb17702848",
       "version_major": 2,
       "version_minor": 0
      },
      "text/plain": [
       "Boundary attack - iterations:   0%|          | 0/50 [00:00<?, ?it/s]"
      ]
     },
     "metadata": {},
     "output_type": "display_data"
    },
    {
     "data": {
      "application/vnd.jupyter.widget-view+json": {
       "model_id": "ce4988edd8084d7796abaeedb611d326",
       "version_major": 2,
       "version_minor": 0
      },
      "text/plain": [
       "Boundary attack - iterations:   0%|          | 0/50 [00:00<?, ?it/s]"
      ]
     },
     "metadata": {},
     "output_type": "display_data"
    },
    {
     "data": {
      "application/vnd.jupyter.widget-view+json": {
       "model_id": "e382d6782a9a42fd9da7cd6e591a37f7",
       "version_major": 2,
       "version_minor": 0
      },
      "text/plain": [
       "Boundary attack - iterations:   0%|          | 0/50 [00:00<?, ?it/s]"
      ]
     },
     "metadata": {},
     "output_type": "display_data"
    },
    {
     "data": {
      "application/vnd.jupyter.widget-view+json": {
       "model_id": "57748293d49c4ef09588f2f08f0539b7",
       "version_major": 2,
       "version_minor": 0
      },
      "text/plain": [
       "Boundary attack - iterations:   0%|          | 0/50 [00:00<?, ?it/s]"
      ]
     },
     "metadata": {},
     "output_type": "display_data"
    },
    {
     "data": {
      "application/vnd.jupyter.widget-view+json": {
       "model_id": "e0d0d6bc48eb47ff8b6667ac3e0f5a4c",
       "version_major": 2,
       "version_minor": 0
      },
      "text/plain": [
       "Boundary attack - iterations:   0%|          | 0/50 [00:00<?, ?it/s]"
      ]
     },
     "metadata": {},
     "output_type": "display_data"
    },
    {
     "data": {
      "application/vnd.jupyter.widget-view+json": {
       "model_id": "3dfc9490999a41c98cd10a40ad56688b",
       "version_major": 2,
       "version_minor": 0
      },
      "text/plain": [
       "Boundary attack - iterations:   0%|          | 0/50 [00:00<?, ?it/s]"
      ]
     },
     "metadata": {},
     "output_type": "display_data"
    },
    {
     "data": {
      "application/vnd.jupyter.widget-view+json": {
       "model_id": "31afb21a6e3441a88e9d91b80271c5ce",
       "version_major": 2,
       "version_minor": 0
      },
      "text/plain": [
       "Boundary attack - iterations:   0%|          | 0/50 [00:00<?, ?it/s]"
      ]
     },
     "metadata": {},
     "output_type": "display_data"
    },
    {
     "data": {
      "application/vnd.jupyter.widget-view+json": {
       "model_id": "38756396b9e14a899ecb614fa4edc7b3",
       "version_major": 2,
       "version_minor": 0
      },
      "text/plain": [
       "Boundary attack - iterations:   0%|          | 0/50 [00:00<?, ?it/s]"
      ]
     },
     "metadata": {},
     "output_type": "display_data"
    },
    {
     "data": {
      "application/vnd.jupyter.widget-view+json": {
       "model_id": "e03fec25d1c6411ba44542a22f46b33c",
       "version_major": 2,
       "version_minor": 0
      },
      "text/plain": [
       "Boundary attack - iterations:   0%|          | 0/50 [00:00<?, ?it/s]"
      ]
     },
     "metadata": {},
     "output_type": "display_data"
    },
    {
     "data": {
      "application/vnd.jupyter.widget-view+json": {
       "model_id": "a4f8f60bc4bc431f809fd78c68348f69",
       "version_major": 2,
       "version_minor": 0
      },
      "text/plain": [
       "Boundary attack - iterations:   0%|          | 0/50 [00:00<?, ?it/s]"
      ]
     },
     "metadata": {},
     "output_type": "display_data"
    },
    {
     "data": {
      "application/vnd.jupyter.widget-view+json": {
       "model_id": "25d6a058b97d4aca834050e7e9f06f07",
       "version_major": 2,
       "version_minor": 0
      },
      "text/plain": [
       "Boundary attack - iterations:   0%|          | 0/50 [00:00<?, ?it/s]"
      ]
     },
     "metadata": {},
     "output_type": "display_data"
    },
    {
     "data": {
      "application/vnd.jupyter.widget-view+json": {
       "model_id": "9acdcedcc5ad48b78b6e63548f225963",
       "version_major": 2,
       "version_minor": 0
      },
      "text/plain": [
       "Boundary attack - iterations:   0%|          | 0/50 [00:00<?, ?it/s]"
      ]
     },
     "metadata": {},
     "output_type": "display_data"
    },
    {
     "data": {
      "application/vnd.jupyter.widget-view+json": {
       "model_id": "a4ca92fc4be042c7aaba692e47c4622c",
       "version_major": 2,
       "version_minor": 0
      },
      "text/plain": [
       "Boundary attack - iterations:   0%|          | 0/50 [00:00<?, ?it/s]"
      ]
     },
     "metadata": {},
     "output_type": "display_data"
    },
    {
     "data": {
      "application/vnd.jupyter.widget-view+json": {
       "model_id": "ecb73ce94b074d64a7d458fa0bb9575b",
       "version_major": 2,
       "version_minor": 0
      },
      "text/plain": [
       "Boundary attack - iterations:   0%|          | 0/50 [00:00<?, ?it/s]"
      ]
     },
     "metadata": {},
     "output_type": "display_data"
    },
    {
     "data": {
      "application/vnd.jupyter.widget-view+json": {
       "model_id": "6f078255f6b84ff4920033a3a9d6a539",
       "version_major": 2,
       "version_minor": 0
      },
      "text/plain": [
       "Boundary attack - iterations:   0%|          | 0/50 [00:00<?, ?it/s]"
      ]
     },
     "metadata": {},
     "output_type": "display_data"
    },
    {
     "data": {
      "application/vnd.jupyter.widget-view+json": {
       "model_id": "e5819685278348c8bd7bd862e44c8cb8",
       "version_major": 2,
       "version_minor": 0
      },
      "text/plain": [
       "Boundary attack - iterations:   0%|          | 0/50 [00:00<?, ?it/s]"
      ]
     },
     "metadata": {},
     "output_type": "display_data"
    },
    {
     "data": {
      "application/vnd.jupyter.widget-view+json": {
       "model_id": "9ad2fa2b1463475f8c27f128bd08e066",
       "version_major": 2,
       "version_minor": 0
      },
      "text/plain": [
       "Boundary attack - iterations:   0%|          | 0/50 [00:00<?, ?it/s]"
      ]
     },
     "metadata": {},
     "output_type": "display_data"
    },
    {
     "data": {
      "application/vnd.jupyter.widget-view+json": {
       "model_id": "10eb6f0ab0d84483aafbb06639a72bb2",
       "version_major": 2,
       "version_minor": 0
      },
      "text/plain": [
       "Boundary attack - iterations:   0%|          | 0/50 [00:00<?, ?it/s]"
      ]
     },
     "metadata": {},
     "output_type": "display_data"
    },
    {
     "data": {
      "application/vnd.jupyter.widget-view+json": {
       "model_id": "9707328446cf457c97ed3345df6f0ba7",
       "version_major": 2,
       "version_minor": 0
      },
      "text/plain": [
       "Boundary attack - iterations:   0%|          | 0/50 [00:00<?, ?it/s]"
      ]
     },
     "metadata": {},
     "output_type": "display_data"
    },
    {
     "data": {
      "application/vnd.jupyter.widget-view+json": {
       "model_id": "8feb0dc77dfd40d8ad656357fcb25a4e",
       "version_major": 2,
       "version_minor": 0
      },
      "text/plain": [
       "Boundary attack - iterations:   0%|          | 0/50 [00:00<?, ?it/s]"
      ]
     },
     "metadata": {},
     "output_type": "display_data"
    },
    {
     "data": {
      "application/vnd.jupyter.widget-view+json": {
       "model_id": "3ea59bc691a84ce6ab25b83dc7a64bd5",
       "version_major": 2,
       "version_minor": 0
      },
      "text/plain": [
       "Boundary attack - iterations:   0%|          | 0/50 [00:00<?, ?it/s]"
      ]
     },
     "metadata": {},
     "output_type": "display_data"
    },
    {
     "data": {
      "application/vnd.jupyter.widget-view+json": {
       "model_id": "e2e9e0bc6a57454d81d2cc91da437df8",
       "version_major": 2,
       "version_minor": 0
      },
      "text/plain": [
       "Boundary attack - iterations:   0%|          | 0/50 [00:00<?, ?it/s]"
      ]
     },
     "metadata": {},
     "output_type": "display_data"
    },
    {
     "data": {
      "application/vnd.jupyter.widget-view+json": {
       "model_id": "556ee0f7bc9b46cd9df79634599d65b7",
       "version_major": 2,
       "version_minor": 0
      },
      "text/plain": [
       "Boundary attack - iterations:   0%|          | 0/50 [00:00<?, ?it/s]"
      ]
     },
     "metadata": {},
     "output_type": "display_data"
    },
    {
     "data": {
      "application/vnd.jupyter.widget-view+json": {
       "model_id": "82e3aa07f9964d898f07eda18dd31e35",
       "version_major": 2,
       "version_minor": 0
      },
      "text/plain": [
       "Boundary attack - iterations:   0%|          | 0/50 [00:00<?, ?it/s]"
      ]
     },
     "metadata": {},
     "output_type": "display_data"
    },
    {
     "data": {
      "application/vnd.jupyter.widget-view+json": {
       "model_id": "d961db94001e45468fb1dc43691ab423",
       "version_major": 2,
       "version_minor": 0
      },
      "text/plain": [
       "Boundary attack - iterations:   0%|          | 0/50 [00:00<?, ?it/s]"
      ]
     },
     "metadata": {},
     "output_type": "display_data"
    },
    {
     "data": {
      "application/vnd.jupyter.widget-view+json": {
       "model_id": "82e5a4706fa94d8db6ab9982310e4e4a",
       "version_major": 2,
       "version_minor": 0
      },
      "text/plain": [
       "Boundary attack - iterations:   0%|          | 0/50 [00:00<?, ?it/s]"
      ]
     },
     "metadata": {},
     "output_type": "display_data"
    },
    {
     "data": {
      "application/vnd.jupyter.widget-view+json": {
       "model_id": "bf106fc575a64e298351028d7a260ab5",
       "version_major": 2,
       "version_minor": 0
      },
      "text/plain": [
       "Boundary attack - iterations:   0%|          | 0/50 [00:00<?, ?it/s]"
      ]
     },
     "metadata": {},
     "output_type": "display_data"
    },
    {
     "data": {
      "application/vnd.jupyter.widget-view+json": {
       "model_id": "b3a2f164251c4353bf17a8d5e5dfe43a",
       "version_major": 2,
       "version_minor": 0
      },
      "text/plain": [
       "Boundary attack - iterations:   0%|          | 0/50 [00:00<?, ?it/s]"
      ]
     },
     "metadata": {},
     "output_type": "display_data"
    },
    {
     "data": {
      "application/vnd.jupyter.widget-view+json": {
       "model_id": "402bd25ab8b94985b785e7d16934d851",
       "version_major": 2,
       "version_minor": 0
      },
      "text/plain": [
       "Boundary attack - iterations:   0%|          | 0/50 [00:00<?, ?it/s]"
      ]
     },
     "metadata": {},
     "output_type": "display_data"
    },
    {
     "data": {
      "application/vnd.jupyter.widget-view+json": {
       "model_id": "14c3459c386042859f1e12fc012da18a",
       "version_major": 2,
       "version_minor": 0
      },
      "text/plain": [
       "Boundary attack - iterations:   0%|          | 0/50 [00:00<?, ?it/s]"
      ]
     },
     "metadata": {},
     "output_type": "display_data"
    },
    {
     "data": {
      "application/vnd.jupyter.widget-view+json": {
       "model_id": "37c1aaff5d7d446da65f24f79b0e204c",
       "version_major": 2,
       "version_minor": 0
      },
      "text/plain": [
       "Boundary attack - iterations:   0%|          | 0/50 [00:00<?, ?it/s]"
      ]
     },
     "metadata": {},
     "output_type": "display_data"
    },
    {
     "data": {
      "application/vnd.jupyter.widget-view+json": {
       "model_id": "a07193bc506b4a10a5277672c66423bd",
       "version_major": 2,
       "version_minor": 0
      },
      "text/plain": [
       "Boundary attack - iterations:   0%|          | 0/50 [00:00<?, ?it/s]"
      ]
     },
     "metadata": {},
     "output_type": "display_data"
    },
    {
     "data": {
      "application/vnd.jupyter.widget-view+json": {
       "model_id": "975e599b1b4b4f53b0ae50bf657bf777",
       "version_major": 2,
       "version_minor": 0
      },
      "text/plain": [
       "Boundary attack - iterations:   0%|          | 0/50 [00:00<?, ?it/s]"
      ]
     },
     "metadata": {},
     "output_type": "display_data"
    },
    {
     "data": {
      "application/vnd.jupyter.widget-view+json": {
       "model_id": "42440a8eadd242eab8be12fd22a3e8c7",
       "version_major": 2,
       "version_minor": 0
      },
      "text/plain": [
       "Boundary attack - iterations:   0%|          | 0/50 [00:00<?, ?it/s]"
      ]
     },
     "metadata": {},
     "output_type": "display_data"
    },
    {
     "data": {
      "application/vnd.jupyter.widget-view+json": {
       "model_id": "83f11427dc944e9b91b14210789142c4",
       "version_major": 2,
       "version_minor": 0
      },
      "text/plain": [
       "Boundary attack - iterations:   0%|          | 0/50 [00:00<?, ?it/s]"
      ]
     },
     "metadata": {},
     "output_type": "display_data"
    },
    {
     "data": {
      "application/vnd.jupyter.widget-view+json": {
       "model_id": "23d70494267647608ddf7090c61f7cc3",
       "version_major": 2,
       "version_minor": 0
      },
      "text/plain": [
       "Boundary attack - iterations:   0%|          | 0/50 [00:00<?, ?it/s]"
      ]
     },
     "metadata": {},
     "output_type": "display_data"
    },
    {
     "data": {
      "application/vnd.jupyter.widget-view+json": {
       "model_id": "9d46eaeb14be498c9637ec98b266d870",
       "version_major": 2,
       "version_minor": 0
      },
      "text/plain": [
       "Boundary attack - iterations:   0%|          | 0/50 [00:00<?, ?it/s]"
      ]
     },
     "metadata": {},
     "output_type": "display_data"
    },
    {
     "data": {
      "application/vnd.jupyter.widget-view+json": {
       "model_id": "42ccebeead5a4f4caa7118727a307973",
       "version_major": 2,
       "version_minor": 0
      },
      "text/plain": [
       "Boundary attack - iterations:   0%|          | 0/50 [00:00<?, ?it/s]"
      ]
     },
     "metadata": {},
     "output_type": "display_data"
    },
    {
     "data": {
      "application/vnd.jupyter.widget-view+json": {
       "model_id": "4cd08ecf41cb4516aab21b8fdd29e891",
       "version_major": 2,
       "version_minor": 0
      },
      "text/plain": [
       "Boundary attack - iterations:   0%|          | 0/50 [00:00<?, ?it/s]"
      ]
     },
     "metadata": {},
     "output_type": "display_data"
    },
    {
     "data": {
      "application/vnd.jupyter.widget-view+json": {
       "model_id": "ab9b9b427c6c40df93687234cdd02e9a",
       "version_major": 2,
       "version_minor": 0
      },
      "text/plain": [
       "Boundary attack - iterations:   0%|          | 0/50 [00:00<?, ?it/s]"
      ]
     },
     "metadata": {},
     "output_type": "display_data"
    },
    {
     "data": {
      "application/vnd.jupyter.widget-view+json": {
       "model_id": "3df3dae61f7f4273a3d9bccb73c3ae42",
       "version_major": 2,
       "version_minor": 0
      },
      "text/plain": [
       "Boundary attack - iterations:   0%|          | 0/50 [00:00<?, ?it/s]"
      ]
     },
     "metadata": {},
     "output_type": "display_data"
    },
    {
     "data": {
      "application/vnd.jupyter.widget-view+json": {
       "model_id": "0ec52144ed5f4719be3bb2eabb14c0e6",
       "version_major": 2,
       "version_minor": 0
      },
      "text/plain": [
       "Boundary attack - iterations:   0%|          | 0/50 [00:00<?, ?it/s]"
      ]
     },
     "metadata": {},
     "output_type": "display_data"
    },
    {
     "data": {
      "application/vnd.jupyter.widget-view+json": {
       "model_id": "1e5a023da7ea452aba8289551bf68006",
       "version_major": 2,
       "version_minor": 0
      },
      "text/plain": [
       "Boundary attack - iterations:   0%|          | 0/50 [00:00<?, ?it/s]"
      ]
     },
     "metadata": {},
     "output_type": "display_data"
    },
    {
     "data": {
      "application/vnd.jupyter.widget-view+json": {
       "model_id": "16775b636f3c473c94745c84c5e4f496",
       "version_major": 2,
       "version_minor": 0
      },
      "text/plain": [
       "Boundary attack - iterations:   0%|          | 0/50 [00:00<?, ?it/s]"
      ]
     },
     "metadata": {},
     "output_type": "display_data"
    },
    {
     "data": {
      "application/vnd.jupyter.widget-view+json": {
       "model_id": "024e1663d0524a428307cd3a20040331",
       "version_major": 2,
       "version_minor": 0
      },
      "text/plain": [
       "Boundary attack - iterations:   0%|          | 0/50 [00:00<?, ?it/s]"
      ]
     },
     "metadata": {},
     "output_type": "display_data"
    },
    {
     "data": {
      "application/vnd.jupyter.widget-view+json": {
       "model_id": "a52147b156b54b38bc114da4e2ff83c6",
       "version_major": 2,
       "version_minor": 0
      },
      "text/plain": [
       "Boundary attack - iterations:   0%|          | 0/50 [00:00<?, ?it/s]"
      ]
     },
     "metadata": {},
     "output_type": "display_data"
    },
    {
     "data": {
      "application/vnd.jupyter.widget-view+json": {
       "model_id": "ce1d941d687f415d9c3316b9cc94ba8c",
       "version_major": 2,
       "version_minor": 0
      },
      "text/plain": [
       "Boundary attack - iterations:   0%|          | 0/50 [00:00<?, ?it/s]"
      ]
     },
     "metadata": {},
     "output_type": "display_data"
    },
    {
     "data": {
      "application/vnd.jupyter.widget-view+json": {
       "model_id": "1d467393c2c0495b9d78881aad02845d",
       "version_major": 2,
       "version_minor": 0
      },
      "text/plain": [
       "Boundary attack - iterations:   0%|          | 0/50 [00:00<?, ?it/s]"
      ]
     },
     "metadata": {},
     "output_type": "display_data"
    },
    {
     "data": {
      "application/vnd.jupyter.widget-view+json": {
       "model_id": "e102cf5a5c00414cbec6578eb9f72117",
       "version_major": 2,
       "version_minor": 0
      },
      "text/plain": [
       "Boundary attack - iterations:   0%|          | 0/50 [00:00<?, ?it/s]"
      ]
     },
     "metadata": {},
     "output_type": "display_data"
    },
    {
     "data": {
      "application/vnd.jupyter.widget-view+json": {
       "model_id": "13d77c67ac1e4a40b1bc3834a2b85555",
       "version_major": 2,
       "version_minor": 0
      },
      "text/plain": [
       "Boundary attack - iterations:   0%|          | 0/50 [00:00<?, ?it/s]"
      ]
     },
     "metadata": {},
     "output_type": "display_data"
    },
    {
     "data": {
      "application/vnd.jupyter.widget-view+json": {
       "model_id": "dda14c5826d444dcba1638788e43be5a",
       "version_major": 2,
       "version_minor": 0
      },
      "text/plain": [
       "Boundary attack - iterations:   0%|          | 0/50 [00:00<?, ?it/s]"
      ]
     },
     "metadata": {},
     "output_type": "display_data"
    },
    {
     "data": {
      "application/vnd.jupyter.widget-view+json": {
       "model_id": "67c8268068aa42c7beefa76e1dff4211",
       "version_major": 2,
       "version_minor": 0
      },
      "text/plain": [
       "Boundary attack - iterations:   0%|          | 0/50 [00:00<?, ?it/s]"
      ]
     },
     "metadata": {},
     "output_type": "display_data"
    },
    {
     "data": {
      "application/vnd.jupyter.widget-view+json": {
       "model_id": "2611fe05060f4d44981d3f9fbb0dc620",
       "version_major": 2,
       "version_minor": 0
      },
      "text/plain": [
       "Boundary attack - iterations:   0%|          | 0/50 [00:00<?, ?it/s]"
      ]
     },
     "metadata": {},
     "output_type": "display_data"
    },
    {
     "data": {
      "application/vnd.jupyter.widget-view+json": {
       "model_id": "1ec93fdce34749ad84c9bdd2fa9f39b3",
       "version_major": 2,
       "version_minor": 0
      },
      "text/plain": [
       "Boundary attack - iterations:   0%|          | 0/50 [00:00<?, ?it/s]"
      ]
     },
     "metadata": {},
     "output_type": "display_data"
    },
    {
     "data": {
      "application/vnd.jupyter.widget-view+json": {
       "model_id": "fcdc69bee17e48cbbcf9e747f37e2b6b",
       "version_major": 2,
       "version_minor": 0
      },
      "text/plain": [
       "Boundary attack - iterations:   0%|          | 0/50 [00:00<?, ?it/s]"
      ]
     },
     "metadata": {},
     "output_type": "display_data"
    },
    {
     "data": {
      "application/vnd.jupyter.widget-view+json": {
       "model_id": "c886f4f054fd447eb2b7a3352e988147",
       "version_major": 2,
       "version_minor": 0
      },
      "text/plain": [
       "Boundary attack - iterations:   0%|          | 0/50 [00:00<?, ?it/s]"
      ]
     },
     "metadata": {},
     "output_type": "display_data"
    },
    {
     "data": {
      "application/vnd.jupyter.widget-view+json": {
       "model_id": "7575781b346e446ba85d2eeade3656f0",
       "version_major": 2,
       "version_minor": 0
      },
      "text/plain": [
       "Boundary attack - iterations:   0%|          | 0/50 [00:00<?, ?it/s]"
      ]
     },
     "metadata": {},
     "output_type": "display_data"
    },
    {
     "data": {
      "application/vnd.jupyter.widget-view+json": {
       "model_id": "89a5c1e0145043cc97049928bc790ebd",
       "version_major": 2,
       "version_minor": 0
      },
      "text/plain": [
       "Boundary attack - iterations:   0%|          | 0/50 [00:00<?, ?it/s]"
      ]
     },
     "metadata": {},
     "output_type": "display_data"
    },
    {
     "data": {
      "application/vnd.jupyter.widget-view+json": {
       "model_id": "25d72c2aebfe44babcb17e7487e90ede",
       "version_major": 2,
       "version_minor": 0
      },
      "text/plain": [
       "Boundary attack - iterations:   0%|          | 0/50 [00:00<?, ?it/s]"
      ]
     },
     "metadata": {},
     "output_type": "display_data"
    },
    {
     "data": {
      "application/vnd.jupyter.widget-view+json": {
       "model_id": "2ab1be9d54f444b398438d8129003887",
       "version_major": 2,
       "version_minor": 0
      },
      "text/plain": [
       "Boundary attack - iterations:   0%|          | 0/50 [00:00<?, ?it/s]"
      ]
     },
     "metadata": {},
     "output_type": "display_data"
    },
    {
     "data": {
      "application/vnd.jupyter.widget-view+json": {
       "model_id": "5672ee58bd6a44889f4f6b96e43b992e",
       "version_major": 2,
       "version_minor": 0
      },
      "text/plain": [
       "Boundary attack - iterations:   0%|          | 0/50 [00:00<?, ?it/s]"
      ]
     },
     "metadata": {},
     "output_type": "display_data"
    },
    {
     "data": {
      "application/vnd.jupyter.widget-view+json": {
       "model_id": "4d7c8acf1e494f019a1f53f4a836ea25",
       "version_major": 2,
       "version_minor": 0
      },
      "text/plain": [
       "Boundary attack - iterations:   0%|          | 0/50 [00:00<?, ?it/s]"
      ]
     },
     "metadata": {},
     "output_type": "display_data"
    },
    {
     "data": {
      "application/vnd.jupyter.widget-view+json": {
       "model_id": "0293441db9a94d94832c2539fef1cdd7",
       "version_major": 2,
       "version_minor": 0
      },
      "text/plain": [
       "Boundary attack - iterations:   0%|          | 0/50 [00:00<?, ?it/s]"
      ]
     },
     "metadata": {},
     "output_type": "display_data"
    },
    {
     "data": {
      "application/vnd.jupyter.widget-view+json": {
       "model_id": "23937c7baf384156ae1c94a04196fe1b",
       "version_major": 2,
       "version_minor": 0
      },
      "text/plain": [
       "Boundary attack - iterations:   0%|          | 0/50 [00:00<?, ?it/s]"
      ]
     },
     "metadata": {},
     "output_type": "display_data"
    },
    {
     "data": {
      "application/vnd.jupyter.widget-view+json": {
       "model_id": "0e11554ed1a24ff4ab7747692cd215f1",
       "version_major": 2,
       "version_minor": 0
      },
      "text/plain": [
       "Boundary attack - iterations:   0%|          | 0/50 [00:00<?, ?it/s]"
      ]
     },
     "metadata": {},
     "output_type": "display_data"
    },
    {
     "data": {
      "application/vnd.jupyter.widget-view+json": {
       "model_id": "4e69b1be4d2a4f7e89df8ef6f64cbf55",
       "version_major": 2,
       "version_minor": 0
      },
      "text/plain": [
       "Boundary attack - iterations:   0%|          | 0/50 [00:00<?, ?it/s]"
      ]
     },
     "metadata": {},
     "output_type": "display_data"
    },
    {
     "data": {
      "application/vnd.jupyter.widget-view+json": {
       "model_id": "cdf6d6c9b01e4fb380eb58355d78e2de",
       "version_major": 2,
       "version_minor": 0
      },
      "text/plain": [
       "Boundary attack - iterations:   0%|          | 0/50 [00:00<?, ?it/s]"
      ]
     },
     "metadata": {},
     "output_type": "display_data"
    },
    {
     "data": {
      "application/vnd.jupyter.widget-view+json": {
       "model_id": "9556cac40a144865b281e9028685236e",
       "version_major": 2,
       "version_minor": 0
      },
      "text/plain": [
       "Boundary attack - iterations:   0%|          | 0/50 [00:00<?, ?it/s]"
      ]
     },
     "metadata": {},
     "output_type": "display_data"
    },
    {
     "data": {
      "application/vnd.jupyter.widget-view+json": {
       "model_id": "5cded728ddae4453bf7a52fa810bb8b8",
       "version_major": 2,
       "version_minor": 0
      },
      "text/plain": [
       "Boundary attack - iterations:   0%|          | 0/50 [00:00<?, ?it/s]"
      ]
     },
     "metadata": {},
     "output_type": "display_data"
    },
    {
     "data": {
      "application/vnd.jupyter.widget-view+json": {
       "model_id": "7c274f3e7d79483db6379ed42749b9fc",
       "version_major": 2,
       "version_minor": 0
      },
      "text/plain": [
       "Boundary attack - iterations:   0%|          | 0/50 [00:00<?, ?it/s]"
      ]
     },
     "metadata": {},
     "output_type": "display_data"
    },
    {
     "data": {
      "application/vnd.jupyter.widget-view+json": {
       "model_id": "94fe49b9dc7945b492dd5f30fbd49571",
       "version_major": 2,
       "version_minor": 0
      },
      "text/plain": [
       "Boundary attack - iterations:   0%|          | 0/50 [00:00<?, ?it/s]"
      ]
     },
     "metadata": {},
     "output_type": "display_data"
    },
    {
     "data": {
      "application/vnd.jupyter.widget-view+json": {
       "model_id": "5fe129ad984a47fe9a0294fe94840ad3",
       "version_major": 2,
       "version_minor": 0
      },
      "text/plain": [
       "Boundary attack - iterations:   0%|          | 0/50 [00:00<?, ?it/s]"
      ]
     },
     "metadata": {},
     "output_type": "display_data"
    },
    {
     "data": {
      "application/vnd.jupyter.widget-view+json": {
       "model_id": "73f3c8fc9aad42a29e39ff697f907e76",
       "version_major": 2,
       "version_minor": 0
      },
      "text/plain": [
       "Boundary attack - iterations:   0%|          | 0/50 [00:00<?, ?it/s]"
      ]
     },
     "metadata": {},
     "output_type": "display_data"
    },
    {
     "data": {
      "application/vnd.jupyter.widget-view+json": {
       "model_id": "934abc412cde4949983c6bcdc6386879",
       "version_major": 2,
       "version_minor": 0
      },
      "text/plain": [
       "Boundary attack - iterations:   0%|          | 0/50 [00:00<?, ?it/s]"
      ]
     },
     "metadata": {},
     "output_type": "display_data"
    },
    {
     "data": {
      "application/vnd.jupyter.widget-view+json": {
       "model_id": "b9fcd07aa9cd4de28a2e4b8766796f4a",
       "version_major": 2,
       "version_minor": 0
      },
      "text/plain": [
       "Boundary attack - iterations:   0%|          | 0/50 [00:00<?, ?it/s]"
      ]
     },
     "metadata": {},
     "output_type": "display_data"
    },
    {
     "data": {
      "application/vnd.jupyter.widget-view+json": {
       "model_id": "ed5f8601d83349cf9838aea7a89c811a",
       "version_major": 2,
       "version_minor": 0
      },
      "text/plain": [
       "Boundary attack - iterations:   0%|          | 0/50 [00:00<?, ?it/s]"
      ]
     },
     "metadata": {},
     "output_type": "display_data"
    },
    {
     "data": {
      "application/vnd.jupyter.widget-view+json": {
       "model_id": "9be0a633f78b4c58b49cd353756a3ad9",
       "version_major": 2,
       "version_minor": 0
      },
      "text/plain": [
       "Boundary attack - iterations:   0%|          | 0/50 [00:00<?, ?it/s]"
      ]
     },
     "metadata": {},
     "output_type": "display_data"
    },
    {
     "data": {
      "application/vnd.jupyter.widget-view+json": {
       "model_id": "3dc460097fe64c5da7261f0d82a94966",
       "version_major": 2,
       "version_minor": 0
      },
      "text/plain": [
       "Boundary attack - iterations:   0%|          | 0/50 [00:00<?, ?it/s]"
      ]
     },
     "metadata": {},
     "output_type": "display_data"
    },
    {
     "data": {
      "application/vnd.jupyter.widget-view+json": {
       "model_id": "045ece2d2bff4744812414c74abb944a",
       "version_major": 2,
       "version_minor": 0
      },
      "text/plain": [
       "Boundary attack - iterations:   0%|          | 0/50 [00:00<?, ?it/s]"
      ]
     },
     "metadata": {},
     "output_type": "display_data"
    },
    {
     "data": {
      "application/vnd.jupyter.widget-view+json": {
       "model_id": "f94ee8a7a4a548ca84033525b14f9d4f",
       "version_major": 2,
       "version_minor": 0
      },
      "text/plain": [
       "Boundary attack - iterations:   0%|          | 0/50 [00:00<?, ?it/s]"
      ]
     },
     "metadata": {},
     "output_type": "display_data"
    },
    {
     "data": {
      "application/vnd.jupyter.widget-view+json": {
       "model_id": "b68cf14eb6d14ad89e555492f748ca98",
       "version_major": 2,
       "version_minor": 0
      },
      "text/plain": [
       "Boundary attack - iterations:   0%|          | 0/50 [00:00<?, ?it/s]"
      ]
     },
     "metadata": {},
     "output_type": "display_data"
    },
    {
     "data": {
      "application/vnd.jupyter.widget-view+json": {
       "model_id": "7e3239be26e84b1f9ae3fddc75d782a3",
       "version_major": 2,
       "version_minor": 0
      },
      "text/plain": [
       "Boundary attack - iterations:   0%|          | 0/50 [00:00<?, ?it/s]"
      ]
     },
     "metadata": {},
     "output_type": "display_data"
    },
    {
     "data": {
      "application/vnd.jupyter.widget-view+json": {
       "model_id": "ee7ebb697b444fed915e7ce7b0a18b2c",
       "version_major": 2,
       "version_minor": 0
      },
      "text/plain": [
       "Boundary attack - iterations:   0%|          | 0/50 [00:00<?, ?it/s]"
      ]
     },
     "metadata": {},
     "output_type": "display_data"
    },
    {
     "data": {
      "application/vnd.jupyter.widget-view+json": {
       "model_id": "3684bcab31bf4a8797cdbe67030a95d3",
       "version_major": 2,
       "version_minor": 0
      },
      "text/plain": [
       "Boundary attack - iterations:   0%|          | 0/50 [00:00<?, ?it/s]"
      ]
     },
     "metadata": {},
     "output_type": "display_data"
    },
    {
     "data": {
      "application/vnd.jupyter.widget-view+json": {
       "model_id": "0f04633f67324b69b68ed01ae15af877",
       "version_major": 2,
       "version_minor": 0
      },
      "text/plain": [
       "Boundary attack - iterations:   0%|          | 0/50 [00:00<?, ?it/s]"
      ]
     },
     "metadata": {},
     "output_type": "display_data"
    },
    {
     "data": {
      "application/vnd.jupyter.widget-view+json": {
       "model_id": "aea2ece902744eefab79e847e522387f",
       "version_major": 2,
       "version_minor": 0
      },
      "text/plain": [
       "Boundary attack - iterations:   0%|          | 0/50 [00:00<?, ?it/s]"
      ]
     },
     "metadata": {},
     "output_type": "display_data"
    },
    {
     "data": {
      "application/vnd.jupyter.widget-view+json": {
       "model_id": "ea3b86f5808e4a4ab42fc08a51629993",
       "version_major": 2,
       "version_minor": 0
      },
      "text/plain": [
       "Boundary attack - iterations:   0%|          | 0/50 [00:00<?, ?it/s]"
      ]
     },
     "metadata": {},
     "output_type": "display_data"
    },
    {
     "data": {
      "application/vnd.jupyter.widget-view+json": {
       "model_id": "1d74e04656c04716af18e3d4804def00",
       "version_major": 2,
       "version_minor": 0
      },
      "text/plain": [
       "Boundary attack - iterations:   0%|          | 0/50 [00:00<?, ?it/s]"
      ]
     },
     "metadata": {},
     "output_type": "display_data"
    },
    {
     "data": {
      "application/vnd.jupyter.widget-view+json": {
       "model_id": "e4036e68b6544583bf2f8d2844ec1476",
       "version_major": 2,
       "version_minor": 0
      },
      "text/plain": [
       "Boundary attack - iterations:   0%|          | 0/50 [00:00<?, ?it/s]"
      ]
     },
     "metadata": {},
     "output_type": "display_data"
    },
    {
     "data": {
      "application/vnd.jupyter.widget-view+json": {
       "model_id": "5ca55a1392a94b379cdaa41d681c28c9",
       "version_major": 2,
       "version_minor": 0
      },
      "text/plain": [
       "Boundary attack - iterations:   0%|          | 0/50 [00:00<?, ?it/s]"
      ]
     },
     "metadata": {},
     "output_type": "display_data"
    },
    {
     "data": {
      "application/vnd.jupyter.widget-view+json": {
       "model_id": "c8835a61cdb44ab29a6eeb52970f75d0",
       "version_major": 2,
       "version_minor": 0
      },
      "text/plain": [
       "Boundary attack - iterations:   0%|          | 0/50 [00:00<?, ?it/s]"
      ]
     },
     "metadata": {},
     "output_type": "display_data"
    },
    {
     "data": {
      "application/vnd.jupyter.widget-view+json": {
       "model_id": "7110bbcb32114b39b3ac08c4e0d5d3c8",
       "version_major": 2,
       "version_minor": 0
      },
      "text/plain": [
       "Boundary attack - iterations:   0%|          | 0/50 [00:00<?, ?it/s]"
      ]
     },
     "metadata": {},
     "output_type": "display_data"
    },
    {
     "data": {
      "application/vnd.jupyter.widget-view+json": {
       "model_id": "01723f402dcc437bb89186fd4dd58e9a",
       "version_major": 2,
       "version_minor": 0
      },
      "text/plain": [
       "Boundary attack - iterations:   0%|          | 0/50 [00:00<?, ?it/s]"
      ]
     },
     "metadata": {},
     "output_type": "display_data"
    },
    {
     "data": {
      "application/vnd.jupyter.widget-view+json": {
       "model_id": "a614bb78a45246e1b6055292356b96ac",
       "version_major": 2,
       "version_minor": 0
      },
      "text/plain": [
       "Boundary attack - iterations:   0%|          | 0/50 [00:00<?, ?it/s]"
      ]
     },
     "metadata": {},
     "output_type": "display_data"
    },
    {
     "data": {
      "application/vnd.jupyter.widget-view+json": {
       "model_id": "0571e36caf6940d3a97e5ea67e4e5921",
       "version_major": 2,
       "version_minor": 0
      },
      "text/plain": [
       "Boundary attack - iterations:   0%|          | 0/50 [00:00<?, ?it/s]"
      ]
     },
     "metadata": {},
     "output_type": "display_data"
    },
    {
     "data": {
      "application/vnd.jupyter.widget-view+json": {
       "model_id": "e59b016fe85640eb8514ffe5b89a80c5",
       "version_major": 2,
       "version_minor": 0
      },
      "text/plain": [
       "Boundary attack - iterations:   0%|          | 0/50 [00:00<?, ?it/s]"
      ]
     },
     "metadata": {},
     "output_type": "display_data"
    },
    {
     "data": {
      "application/vnd.jupyter.widget-view+json": {
       "model_id": "7a651dd0a4c54787b4ca56ab0ed5377c",
       "version_major": 2,
       "version_minor": 0
      },
      "text/plain": [
       "Boundary attack - iterations:   0%|          | 0/50 [00:00<?, ?it/s]"
      ]
     },
     "metadata": {},
     "output_type": "display_data"
    },
    {
     "data": {
      "application/vnd.jupyter.widget-view+json": {
       "model_id": "460f68012dfa4a269c779fefb4ace8d1",
       "version_major": 2,
       "version_minor": 0
      },
      "text/plain": [
       "Boundary attack - iterations:   0%|          | 0/50 [00:00<?, ?it/s]"
      ]
     },
     "metadata": {},
     "output_type": "display_data"
    },
    {
     "data": {
      "application/vnd.jupyter.widget-view+json": {
       "model_id": "202a1cb615c549b1b474529ab75ac9d8",
       "version_major": 2,
       "version_minor": 0
      },
      "text/plain": [
       "Boundary attack - iterations:   0%|          | 0/50 [00:00<?, ?it/s]"
      ]
     },
     "metadata": {},
     "output_type": "display_data"
    },
    {
     "data": {
      "application/vnd.jupyter.widget-view+json": {
       "model_id": "2802a37e4d734d0197f5bbf8048c5bda",
       "version_major": 2,
       "version_minor": 0
      },
      "text/plain": [
       "Boundary attack - iterations:   0%|          | 0/50 [00:00<?, ?it/s]"
      ]
     },
     "metadata": {},
     "output_type": "display_data"
    },
    {
     "data": {
      "application/vnd.jupyter.widget-view+json": {
       "model_id": "332ec8f436d94e4980becadedc3c280b",
       "version_major": 2,
       "version_minor": 0
      },
      "text/plain": [
       "Boundary attack - iterations:   0%|          | 0/50 [00:00<?, ?it/s]"
      ]
     },
     "metadata": {},
     "output_type": "display_data"
    },
    {
     "data": {
      "application/vnd.jupyter.widget-view+json": {
       "model_id": "40a3259ca714479299246180206811b0",
       "version_major": 2,
       "version_minor": 0
      },
      "text/plain": [
       "Boundary attack - iterations:   0%|          | 0/50 [00:00<?, ?it/s]"
      ]
     },
     "metadata": {},
     "output_type": "display_data"
    },
    {
     "data": {
      "application/vnd.jupyter.widget-view+json": {
       "model_id": "596d295c8502422fbdc5262cbf5c33d4",
       "version_major": 2,
       "version_minor": 0
      },
      "text/plain": [
       "Boundary attack - iterations:   0%|          | 0/50 [00:00<?, ?it/s]"
      ]
     },
     "metadata": {},
     "output_type": "display_data"
    },
    {
     "data": {
      "application/vnd.jupyter.widget-view+json": {
       "model_id": "638a6c7004f84ab193e87f9833981f42",
       "version_major": 2,
       "version_minor": 0
      },
      "text/plain": [
       "Boundary attack - iterations:   0%|          | 0/50 [00:00<?, ?it/s]"
      ]
     },
     "metadata": {},
     "output_type": "display_data"
    },
    {
     "data": {
      "application/vnd.jupyter.widget-view+json": {
       "model_id": "b5cd7f8b592e4c0da71b1b657ee36e61",
       "version_major": 2,
       "version_minor": 0
      },
      "text/plain": [
       "Boundary attack - iterations:   0%|          | 0/50 [00:00<?, ?it/s]"
      ]
     },
     "metadata": {},
     "output_type": "display_data"
    },
    {
     "data": {
      "application/vnd.jupyter.widget-view+json": {
       "model_id": "368e7d9ce85a43e1ad6335f267c2aff9",
       "version_major": 2,
       "version_minor": 0
      },
      "text/plain": [
       "Boundary attack - iterations:   0%|          | 0/50 [00:00<?, ?it/s]"
      ]
     },
     "metadata": {},
     "output_type": "display_data"
    },
    {
     "data": {
      "application/vnd.jupyter.widget-view+json": {
       "model_id": "c34c4c0df39f4b5895ed340882f9fd6f",
       "version_major": 2,
       "version_minor": 0
      },
      "text/plain": [
       "Boundary attack - iterations:   0%|          | 0/50 [00:00<?, ?it/s]"
      ]
     },
     "metadata": {},
     "output_type": "display_data"
    },
    {
     "data": {
      "application/vnd.jupyter.widget-view+json": {
       "model_id": "610032482b374372ace3f54f3c22a573",
       "version_major": 2,
       "version_minor": 0
      },
      "text/plain": [
       "Boundary attack - iterations:   0%|          | 0/50 [00:00<?, ?it/s]"
      ]
     },
     "metadata": {},
     "output_type": "display_data"
    },
    {
     "data": {
      "application/vnd.jupyter.widget-view+json": {
       "model_id": "7af42ce69442482abd6750384b237b64",
       "version_major": 2,
       "version_minor": 0
      },
      "text/plain": [
       "Boundary attack - iterations:   0%|          | 0/50 [00:00<?, ?it/s]"
      ]
     },
     "metadata": {},
     "output_type": "display_data"
    },
    {
     "data": {
      "application/vnd.jupyter.widget-view+json": {
       "model_id": "da5f653eec8848dd993378321995fd6d",
       "version_major": 2,
       "version_minor": 0
      },
      "text/plain": [
       "Boundary attack - iterations:   0%|          | 0/50 [00:00<?, ?it/s]"
      ]
     },
     "metadata": {},
     "output_type": "display_data"
    },
    {
     "data": {
      "application/vnd.jupyter.widget-view+json": {
       "model_id": "f6678c5edc9145f6bce625d60d0537ee",
       "version_major": 2,
       "version_minor": 0
      },
      "text/plain": [
       "Boundary attack - iterations:   0%|          | 0/50 [00:00<?, ?it/s]"
      ]
     },
     "metadata": {},
     "output_type": "display_data"
    },
    {
     "data": {
      "application/vnd.jupyter.widget-view+json": {
       "model_id": "b5d20c250815454587b6799d16af3b2f",
       "version_major": 2,
       "version_minor": 0
      },
      "text/plain": [
       "Boundary attack - iterations:   0%|          | 0/50 [00:00<?, ?it/s]"
      ]
     },
     "metadata": {},
     "output_type": "display_data"
    },
    {
     "data": {
      "application/vnd.jupyter.widget-view+json": {
       "model_id": "3ff9f10ad6ee4117a00c0c5c54f0e597",
       "version_major": 2,
       "version_minor": 0
      },
      "text/plain": [
       "Boundary attack - iterations:   0%|          | 0/50 [00:00<?, ?it/s]"
      ]
     },
     "metadata": {},
     "output_type": "display_data"
    },
    {
     "data": {
      "application/vnd.jupyter.widget-view+json": {
       "model_id": "c21842b2387b4b97bb6f57d8c9729f08",
       "version_major": 2,
       "version_minor": 0
      },
      "text/plain": [
       "Boundary attack - iterations:   0%|          | 0/50 [00:00<?, ?it/s]"
      ]
     },
     "metadata": {},
     "output_type": "display_data"
    },
    {
     "data": {
      "application/vnd.jupyter.widget-view+json": {
       "model_id": "f1b4f2f79cc145e7916262328c9248e5",
       "version_major": 2,
       "version_minor": 0
      },
      "text/plain": [
       "Boundary attack - iterations:   0%|          | 0/50 [00:00<?, ?it/s]"
      ]
     },
     "metadata": {},
     "output_type": "display_data"
    },
    {
     "data": {
      "application/vnd.jupyter.widget-view+json": {
       "model_id": "d51d630688c94e35860e17cc88f9d1a3",
       "version_major": 2,
       "version_minor": 0
      },
      "text/plain": [
       "Boundary attack - iterations:   0%|          | 0/50 [00:00<?, ?it/s]"
      ]
     },
     "metadata": {},
     "output_type": "display_data"
    },
    {
     "data": {
      "application/vnd.jupyter.widget-view+json": {
       "model_id": "d532b1db89c14b599cf07bb9b8bdeca6",
       "version_major": 2,
       "version_minor": 0
      },
      "text/plain": [
       "Boundary attack - iterations:   0%|          | 0/50 [00:00<?, ?it/s]"
      ]
     },
     "metadata": {},
     "output_type": "display_data"
    },
    {
     "data": {
      "application/vnd.jupyter.widget-view+json": {
       "model_id": "19013c1d16f843a5a0f4ea6ba473c651",
       "version_major": 2,
       "version_minor": 0
      },
      "text/plain": [
       "Boundary attack - iterations:   0%|          | 0/50 [00:00<?, ?it/s]"
      ]
     },
     "metadata": {},
     "output_type": "display_data"
    },
    {
     "data": {
      "application/vnd.jupyter.widget-view+json": {
       "model_id": "442e3306804c460ca70280ba26a7c97e",
       "version_major": 2,
       "version_minor": 0
      },
      "text/plain": [
       "Boundary attack - iterations:   0%|          | 0/50 [00:00<?, ?it/s]"
      ]
     },
     "metadata": {},
     "output_type": "display_data"
    },
    {
     "data": {
      "application/vnd.jupyter.widget-view+json": {
       "model_id": "c2f9ff2206e74df6a7821816c9e3714a",
       "version_major": 2,
       "version_minor": 0
      },
      "text/plain": [
       "Boundary attack - iterations:   0%|          | 0/50 [00:00<?, ?it/s]"
      ]
     },
     "metadata": {},
     "output_type": "display_data"
    },
    {
     "data": {
      "application/vnd.jupyter.widget-view+json": {
       "model_id": "cce9569559694f3fa3e30aaa6ee93452",
       "version_major": 2,
       "version_minor": 0
      },
      "text/plain": [
       "Boundary attack - iterations:   0%|          | 0/50 [00:00<?, ?it/s]"
      ]
     },
     "metadata": {},
     "output_type": "display_data"
    },
    {
     "name": "stdout",
     "output_type": "stream",
     "text": [
      "16/16 [==============================] - 0s 14ms/step - loss: 0.9378 - acc: 0.1320\n",
      "DF\n"
     ]
    },
    {
     "ename": "TypeError",
     "evalue": "__init__() got an unexpected keyword argument 'targeted'",
     "output_type": "error",
     "traceback": [
      "\u001b[1;31m---------------------------------------------------------------------------\u001b[0m",
      "\u001b[1;31mTypeError\u001b[0m                                 Traceback (most recent call last)",
      "\u001b[1;32m<ipython-input-79-a471b77fef77>\u001b[0m in \u001b[0;36m<module>\u001b[1;34m\u001b[0m\n\u001b[0;32m      5\u001b[0m                                       (targeted_attack_vals, True, target_labels)]:\n\u001b[0;32m      6\u001b[0m         \u001b[0mparams\u001b[0m \u001b[1;33m=\u001b[0m \u001b[1;33m{\u001b[0m\u001b[1;34m'batch_size'\u001b[0m\u001b[1;33m:\u001b[0m \u001b[0mbatch_size\u001b[0m\u001b[1;33m,\u001b[0m \u001b[1;34m'targeted'\u001b[0m\u001b[1;33m:\u001b[0m \u001b[0mtargeted\u001b[0m\u001b[1;33m,\u001b[0m \u001b[1;34m'max_iter'\u001b[0m\u001b[1;33m:\u001b[0m \u001b[0mmax_iter\u001b[0m\u001b[1;33m}\u001b[0m\u001b[1;33m\u001b[0m\u001b[1;33m\u001b[0m\u001b[0m\n\u001b[1;32m----> 7\u001b[1;33m         \u001b[0mattack\u001b[0m \u001b[1;33m=\u001b[0m \u001b[0mattack_type\u001b[0m\u001b[1;33m(\u001b[0m\u001b[0mclassifier\u001b[0m\u001b[1;33m,\u001b[0m \u001b[1;33m**\u001b[0m\u001b[0mparams\u001b[0m\u001b[1;33m)\u001b[0m\u001b[1;33m\u001b[0m\u001b[1;33m\u001b[0m\u001b[0m\n\u001b[0m\u001b[0;32m      8\u001b[0m         \u001b[0mtest_data_adv\u001b[0m \u001b[1;33m=\u001b[0m \u001b[0mattack\u001b[0m\u001b[1;33m.\u001b[0m\u001b[0mgenerate\u001b[0m\u001b[1;33m(\u001b[0m\u001b[0mx\u001b[0m\u001b[1;33m=\u001b[0m\u001b[0mtest_data\u001b[0m\u001b[1;33m,\u001b[0m \u001b[0my\u001b[0m\u001b[1;33m=\u001b[0m\u001b[0my\u001b[0m\u001b[1;33m)\u001b[0m\u001b[1;33m\u001b[0m\u001b[1;33m\u001b[0m\u001b[0m\n\u001b[0;32m      9\u001b[0m         \u001b[0mloss_test\u001b[0m\u001b[1;33m,\u001b[0m \u001b[0maccuracy_test\u001b[0m \u001b[1;33m=\u001b[0m \u001b[0mmodel\u001b[0m\u001b[1;33m.\u001b[0m\u001b[0mevaluate\u001b[0m\u001b[1;33m(\u001b[0m\u001b[0mtest_data_adv\u001b[0m\u001b[1;33m,\u001b[0m \u001b[0mtest_labels\u001b[0m\u001b[1;33m)\u001b[0m\u001b[1;33m\u001b[0m\u001b[1;33m\u001b[0m\u001b[0m\n",
      "\u001b[1;31mTypeError\u001b[0m: __init__() got an unexpected keyword argument 'targeted'"
     ]
    }
   ],
   "source": [
    "for attack_name in without_eps:\n",
    "    print(attack_name)\n",
    "    attack_type = eval(attack_name)\n",
    "    for results_dict, targeted, y in [(attack_vals, False, None), (labeled_attack_vals, False, test_labels), \\\n",
    "                                      (targeted_attack_vals, True, target_labels)]:\n",
    "        params = {'batch_size': batch_size, 'max_iter': max_iter}\n",
    "        if attack_name in ['DF', 'NF']:\n",
    "            if targeted:\n",
    "                break\n",
    "        else:\n",
    "            params['targeted'] = targeted\n",
    "        attack = attack_type(classifier, **params)\n",
    "        test_data_adv = attack.generate(x=test_data, y=y)\n",
    "        loss_test, accuracy_test = model.evaluate(test_data_adv, test_labels)\n",
    "        perturbation = np.nanmean(np.abs((test_data_adv - test_data)))\n",
    "        results_dict[attack_name] = (loss_test, accuracy_test, perturbation, test_data_adv[sample_index])"
   ]
  },
  {
   "cell_type": "code",
   "execution_count": 12,
   "metadata": {
    "collapsed": true
   },
   "outputs": [
    {
     "name": "stdout",
     "output_type": "stream",
     "text": [
      "DF\n",
      "!!!!!!!!!!!!!!!!!!!!!!!!!!!!!!!!!!!!!!!!!\n"
     ]
    },
    {
     "data": {
      "application/vnd.jupyter.widget-view+json": {
       "model_id": "e05bce7c4e5340c3bb03bff5b5a4076b",
       "version_major": 2,
       "version_minor": 0
      },
      "text/plain": [
       "DeepFool:   0%|          | 0/8 [00:00<?, ?it/s]"
      ]
     },
     "metadata": {},
     "output_type": "display_data"
    },
    {
     "name": "stdout",
     "output_type": "stream",
     "text": [
      "WARNING:tensorflow:Calling GradientTape.gradient on a persistent tape inside its context is significantly less efficient than calling it outside the context (it causes the gradient ops to be recorded on the tape, leading to increased CPU and memory usage). Only call GradientTape.gradient inside the context if you actually want to trace the gradient in order to compute higher order derivatives.\n",
      "16/16 [==============================] - 0s 15ms/step - loss: 30.2448 - acc: 0.0760\n",
      "!!!!!!!!!!!!!!!!!!!!!!!!!!!!!!!!!!!!!!!!!\n"
     ]
    },
    {
     "data": {
      "application/vnd.jupyter.widget-view+json": {
       "model_id": "8a1efa1301be467d80c910078ef773d7",
       "version_major": 2,
       "version_minor": 0
      },
      "text/plain": [
       "DeepFool:   0%|          | 0/8 [00:00<?, ?it/s]"
      ]
     },
     "metadata": {},
     "output_type": "display_data"
    },
    {
     "name": "stdout",
     "output_type": "stream",
     "text": [
      "16/16 [==============================] - 0s 14ms/step - loss: 30.2451 - acc: 0.0760\n",
      "!!!!!!!!!!!!!!!!!!!!!!!!!!!!!!!!!!!!!!!!!\n",
      "NF\n",
      "!!!!!!!!!!!!!!!!!!!!!!!!!!!!!!!!!!!!!!!!!\n"
     ]
    },
    {
     "data": {
      "application/vnd.jupyter.widget-view+json": {
       "model_id": "37af161a3f574d2a86465913a203ed7c",
       "version_major": 2,
       "version_minor": 0
      },
      "text/plain": [
       "NewtonFool:   0%|          | 0/8 [00:00<?, ?it/s]"
      ]
     },
     "metadata": {},
     "output_type": "display_data"
    },
    {
     "name": "stdout",
     "output_type": "stream",
     "text": [
      "WARNING:tensorflow:Calling GradientTape.gradient on a persistent tape inside its context is significantly less efficient than calling it outside the context (it causes the gradient ops to be recorded on the tape, leading to increased CPU and memory usage). Only call GradientTape.gradient inside the context if you actually want to trace the gradient in order to compute higher order derivatives.\n",
      "16/16 [==============================] - 0s 14ms/step - loss: 1.2344 - acc: 0.1980\n",
      "!!!!!!!!!!!!!!!!!!!!!!!!!!!!!!!!!!!!!!!!!\n"
     ]
    },
    {
     "data": {
      "application/vnd.jupyter.widget-view+json": {
       "model_id": "ca646d59f0584d358844f967a4626a7d",
       "version_major": 2,
       "version_minor": 0
      },
      "text/plain": [
       "NewtonFool:   0%|          | 0/8 [00:00<?, ?it/s]"
      ]
     },
     "metadata": {},
     "output_type": "display_data"
    },
    {
     "name": "stdout",
     "output_type": "stream",
     "text": [
      "16/16 [==============================] - 0s 14ms/step - loss: 1.2344 - acc: 0.1980\n",
      "!!!!!!!!!!!!!!!!!!!!!!!!!!!!!!!!!!!!!!!!!\n"
     ]
    }
   ],
   "source": []
  },
  {
   "cell_type": "code",
   "execution_count": 31,
   "metadata": {
    "collapsed": true
   },
   "outputs": [
    {
     "name": "stderr",
     "output_type": "stream",
     "text": [
      "<ipython-input-31-b9735cb84529>:5: VisibleDeprecationWarning: Creating an ndarray from ragged nested sequences (which is a list-or-tuple of lists-or-tuples-or ndarrays with different lengths or shapes) is deprecated. If you meant to do this, you must specify 'dtype=object' when creating the ndarray\n",
      "  attack_vals_np_2 = {k : np.array(v) for k, v in attack_vals_2.items()}\n",
      "<ipython-input-31-b9735cb84529>:6: VisibleDeprecationWarning: Creating an ndarray from ragged nested sequences (which is a list-or-tuple of lists-or-tuples-or ndarrays with different lengths or shapes) is deprecated. If you meant to do this, you must specify 'dtype=object' when creating the ndarray\n",
      "  labeled_attack_vals_np_2 = {k : np.array(v) for k, v in labeled_attack_vals_2.items()}\n",
      "<ipython-input-31-b9735cb84529>:7: VisibleDeprecationWarning: Creating an ndarray from ragged nested sequences (which is a list-or-tuple of lists-or-tuples-or ndarrays with different lengths or shapes) is deprecated. If you meant to do this, you must specify 'dtype=object' when creating the ndarray\n",
      "  targeted_attack_vals_np_2 = {k : np.array(v) for k, v in targeted_attack_vals_2.items()}\n"
     ]
    }
   ],
   "source": [
    "for results_dict in [attack_vals, labeled_attack_vals, targeted_attack_vals]:\n",
    "    for attack_name in with_eps:\n",
    "        results_dict[attack_name] = np.insert(results_dict[attack_name], 0, clean_result, 0)\n",
    "\n",
    "attack_vals_np = {k : np.array(v) for k, v in attack_vals.items()}\n",
    "labeled_attack_vals_np = {k : np.array(v) for k, v in labeled_attack_vals.items()}\n",
    "targeted_attack_vals_np = {k : np.array(v) for k, v in targeted_attack_vals.items()}"
   ]
  },
  {
   "cell_type": "markdown",
   "metadata": {},
   "source": [
    "## For me: load data saved yesterday"
   ]
  },
  {
   "cell_type": "code",
   "execution_count": 21,
   "metadata": {},
   "outputs": [],
   "source": [
    "attack_vals = {} # Untargeted, without labels\n",
    "labeled_attack_vals = {} # Untargeted, with labels\n",
    "targeted_attack_vals = {} # Targeted\n",
    "\n",
    "for i in range(1, 4):\n",
    "    attacks_vals = np.load(dir_name + '/attack_classif_metrics' + str(i) + '.npz', allow_pickle=True)\n",
    "    for k, v in attacks_vals.items():\n",
    "        if 'unlabeled' in k:\n",
    "            attack_vals[k[len('unlabeled_'):]] = v\n",
    "        elif 'labeled' in k:\n",
    "            labeled_attack_vals[k[len('labeled_'):]] = v\n",
    "        else: # targeted\n",
    "            targeted_attack_vals[k[len('targeted_'):]] = v"
   ]
  },
  {
   "cell_type": "markdown",
   "metadata": {},
   "source": [
    "## Plot results"
   ]
  },
  {
   "cell_type": "code",
   "execution_count": 71,
   "metadata": {},
   "outputs": [],
   "source": [
    "attack_vals_np = {k : np.array(v) for k, v in attack_vals.items()}\n",
    "labeled_attack_vals_np = {k : np.array(v) for k, v in labeled_attack_vals.items()}\n",
    "targeted_attack_vals_np = {k : np.array(v) for k, v in targeted_attack_vals.items()}"
   ]
  },
  {
   "cell_type": "code",
   "execution_count": 61,
   "metadata": {
    "scrolled": false
   },
   "outputs": [
    {
     "data": {
      "image/png": "[encoded data removed]",
      "text/plain": [
       "<Figure size 2160x720 with 3 Axes>"
      ]
     },
     "metadata": {
      "needs_background": "light"
     },
     "output_type": "display_data"
    },
    {
     "data": {
      "image/png": "[encoded data removed]",
      "text/plain": [
       "<Figure size 2160x720 with 3 Axes>"
      ]
     },
     "metadata": {
      "needs_background": "light"
     },
     "output_type": "display_data"
    },
    {
     "data": {
      "image/png": "[encoded data removed]",
      "text/plain": [
       "<Figure size 2160x720 with 3 Axes>"
      ]
     },
     "metadata": {
      "needs_background": "light"
     },
     "output_type": "display_data"
    }
   ],
   "source": [
    "result_types = ['Unlabeled', 'Labeled', 'Targeted']\n",
    "colors = ['m', 'c', 'g', 'b', 'r']\n",
    "linestyles=['-', '-','-','-.','--']\n",
    "plot_interval = np.linspace(0., 0.1, 11)\n",
    "plot_names = ['CW', 'FGSM', 'BIM', 'PGD']\n",
    "for i, metric in enumerate(['Loss (CC)', 'Accuracy', 'Perturbation']):\n",
    "    fig, axs = plt.subplots(1, 3)\n",
    "    fig.set_size_inches(30, 10)\n",
    "    fig.suptitle(metric)\n",
    "    for j, results_dict in enumerate([attack_vals_np, labeled_attack_vals_np, targeted_attack_vals_np]):\n",
    "        ax = axs[j]\n",
    "        ax.title.set_text(result_types[j])\n",
    "        ax.set_xlabel('epsilon')\n",
    "        ax.set_ylabel('Values')\n",
    "        ax.plot(plot_interval, results_dict['Orig'][:, i], color=colors[0], linestyle=linestyles[0], label='Orig')\n",
    "        for k, attack in enumerate(plot_names, 1):\n",
    "            val = results_dict[attack][:, i]\n",
    "            ax.plot(plot_interval, val, color=colors[k], linestyle=linestyles[k], label=attack)\n",
    "        ax.legend()"
   ]
  },
  {
   "cell_type": "code",
   "execution_count": 56,
   "metadata": {},
   "outputs": [
    {
     "data": {
      "image/png": "[encoded data removed]",
      "text/plain": [
       "<Figure size 2160x720 with 3 Axes>"
      ]
     },
     "metadata": {
      "needs_background": "light"
     },
     "output_type": "display_data"
    },
    {
     "data": {
      "image/png": "[encoded data removed]",
      "text/plain": [
       "<Figure size 2160x720 with 3 Axes>"
      ]
     },
     "metadata": {
      "needs_background": "light"
     },
     "output_type": "display_data"
    },
    {
     "data": {
      "image/png": "[encoded data removed]",
      "text/plain": [
       "<Figure size 2160x720 with 3 Axes>"
      ]
     },
     "metadata": {
      "needs_background": "light"
     },
     "output_type": "display_data"
    }
   ],
   "source": [
    "with_eps_names = ['Orig'] + with_eps\n",
    "for i, metric in enumerate(['Loss (CC)', 'Accuracy', 'Perturbation']):\n",
    "    fig, axs = plt.subplots(1, 3)\n",
    "    fig.set_size_inches(30, 10)\n",
    "    fig.suptitle(metric)\n",
    "    for j, results_dict in enumerate([attack_vals_np, labeled_attack_vals_np, targeted_attack_vals_np]):\n",
    "        without_eps_names = ['BA', 'EN'] if j == 2 else without_eps\n",
    "        attack_names = [k for k in results_dict.keys()]\n",
    "        ax = axs[j]\n",
    "        ax.set_ylabel('Values')\n",
    "        ax.title.set_text(result_types[j])\n",
    "        best_vals = [results_dict[attack][-1, i] for attack in with_eps_names]\n",
    "        best_vals += [results_dict[attack][i] for attack in without_eps_names]\n",
    "        ax.bar(attack_names, best_vals)"
   ]
  },
  {
   "cell_type": "code",
   "execution_count": 62,
   "metadata": {},
   "outputs": [],
   "source": [
    "attack_vals_2 = {'unlabeled_' + key: val for key, val in attack_vals_np.items()}\n",
    "labeled_attack_vals_2 = {'labeled_' + key: val for key, val in labeled_attack_vals_np.items()}\n",
    "targeted_attack_vals_2 = {'targeted_' + key: val for key, val in targeted_attack_vals_np.items()}\n",
    "np.savez_compressed(dir_name + '/attack_classif_metrics.npz', **attack_vals_2, **labeled_attack_vals_2, **targeted_attack_vals_2)"
   ]
  }
 ],
 "metadata": {
  "hide_input": false,
  "kernelspec": {
   "display_name": "Python 3",
   "language": "python",
   "name": "python3"
  },
  "language_info": {
   "codemirror_mode": {
    "name": "ipython",
    "version": 3
   },
   "file_extension": ".py",
   "mimetype": "text/x-python",
   "name": "python",
   "nbconvert_exporter": "python",
   "pygments_lexer": "ipython3",
   "version": "3.8.8"
  }
 },
 "nbformat": 4,
 "nbformat_minor": 1
}
