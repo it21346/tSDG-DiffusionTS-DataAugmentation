{
 "cells": [
  {
   "cell_type": "code",
   "execution_count": 1,
   "metadata": {},
   "outputs": [],
   "source": [
    "import os\n",
    "import sys\n",
    "\n",
    "import numpy as np\n",
    "import torch\n",
    "import torch.nn as nn\n",
    "import torch.nn.parallel\n",
    "import torch.backends.cudnn as cudnn\n",
    "import torch.optim as optim\n",
    "import torch.utils.data\n",
    "import torchvision.datasets as dset\n",
    "import torchvision.transforms as transforms\n",
    "import torchvision.utils as vutils\n",
    "\n",
    "import utils"
   ]
  },
  {
   "cell_type": "code",
   "execution_count": 2,
   "metadata": {},
   "outputs": [
    {
     "name": "stdout",
     "output_type": "stream",
     "text": [
      "2.2.2+cu121\n",
      "12.1\n",
      "True\n",
      "cuda\n"
     ]
    }
   ],
   "source": [
    "print(torch.__version__)\n",
    "print(torch.version.cuda)\n",
    "print(torch.cuda.is_available())\n",
    "device = torch.device(\"cuda\" if torch.cuda.is_available() else \"cpu\")\n",
    "print(device)"
   ]
  },
  {
   "cell_type": "code",
   "execution_count": 3,
   "metadata": {},
   "outputs": [],
   "source": [
    "CUDA = True\n",
    "DATA_PATH = './img_align_celeba'\n",
    "OUT_PATH = 'output'\n",
    "LOG_FILE = os.path.join(OUT_PATH, 'log.txt')\n",
    "BATCH_SIZE = 128\n",
    "IMAGE_CHANNEL = 3\n",
    "Z_DIM = 100\n",
    "G_HIDDEN = 64\n",
    "X_DIM = 64\n",
    "D_HIDDEN = 64\n",
    "EPOCH_NUM = 5\n",
    "REAL_LABEL = 1\n",
    "FAKE_LABEL = 0\n",
    "lr = 2e-4\n",
    "seed = 1"
   ]
  },
  {
   "cell_type": "code",
   "execution_count": 5,
   "metadata": {},
   "outputs": [
    {
     "name": "stdout",
     "output_type": "stream",
     "text": [
      "Logging to output\\log.txt\n",
      "\n",
      "Random seed:  1\n"
     ]
    }
   ],
   "source": [
    "utils.clear_folder(OUT_PATH)\n",
    "print(\"Logging to {}\\n\".format(LOG_FILE))\n",
    "sys.stdout = utils.StdOut(LOG_FILE)\n",
    "CUDA = CUDA and torch.cuda.is_available()\n",
    "if seed is None:\n",
    "  seed = np.random.randint(1, 10000)\n",
    "print(\"Random seed: \", seed)\n",
    "np.random.seed(seed)\n",
    "if CUDA:\n",
    "  torch.cuda.manual_seed(seed)\n",
    "cudnn.benchmark = True\n",
    "device = torch.device(\"cuda:0\" if CUDA else \"cpu\")"
   ]
  },
  {
   "cell_type": "markdown",
   "metadata": {},
   "source": [
    "# Weights initialization"
   ]
  },
  {
   "cell_type": "code",
   "execution_count": 4,
   "metadata": {},
   "outputs": [],
   "source": [
    "def weights_init(m):\n",
    "      \"\"\"\n",
    "      Here we initialize the convolution kernels based on the Gaussian distribution with a mean of 0 and a standard deviation of 0.02.\n",
    "      We also initialize the affine parameters(scaling factors) in batch\n",
    "      \"\"\"\n",
    "      classname =  m.__class__.__name__\n",
    "      if classname.find('Conv') != -1:\n",
    "        m.weight.data.normal_(0.0, 0.02)\n",
    "      elif classname.find('BatchNorm') != -1:\n",
    "        m.weight.data.normal_(1.0, 0.02)\n",
    "        m.bias.data.fill_(0)"
   ]
  },
  {
   "cell_type": "markdown",
   "metadata": {},
   "source": [
    "# Generator network"
   ]
  },
  {
   "cell_type": "code",
   "execution_count": 5,
   "metadata": {},
   "outputs": [],
   "source": [
    "class Generator(nn.Module):\n",
    "  def __init__(self):\n",
    "    super(Generator, self).__init__()\n",
    "    self.main  = nn.Sequential(\n",
    "        #1st layer\n",
    "        nn.ConvTranspose2d(Z_DIM, G_HIDDEN * 8, kernel_size = 4, stride = 1, padding = 0, bias = False), # (100, 512, 4, 1, 0, False)\n",
    "        nn.BatchNorm2d(G_HIDDEN * 8),\n",
    "        nn.ReLU(True),\n",
    "        #2nd layer\n",
    "        nn.ConvTranspose2d(G_HIDDEN * 8, G_HIDDEN * 4, kernel_size = 4, stride = 2, padding = 1, bias = False), # (512, 256, 4, 2, 1, False)\n",
    "        nn.BatchNorm2d(G_HIDDEN * 4),\n",
    "        nn.ReLU(True),\n",
    "        #3rd layer\n",
    "        nn.ConvTranspose2d(G_HIDDEN * 4, G_HIDDEN * 2, kernel_size = 4, stride = 2, padding = 1, bias = False), # (256, 128, 4, 2, 1, False)\n",
    "        nn.BatchNorm2d(G_HIDDEN * 2),\n",
    "        nn.ReLU(True),\n",
    "        #4th layer\n",
    "        nn.ConvTranspose2d(G_HIDDEN * 2, G_HIDDEN, kernel_size = 4, stride = 2, padding = 1, bias = False), # (128, 64, 4, 2, 1, False)\n",
    "        nn.BatchNorm2d(G_HIDDEN),\n",
    "        nn.ReLU(True),\n",
    "        #output layer\n",
    "        nn.ConvTranspose2d(G_HIDDEN, IMAGE_CHANNEL, kernel_size = 4, stride = 2, padding = 1, bias = False), # (64, 1, 4, 2, 1, False)\n",
    "        nn.Tanh()\n",
    "    )\n",
    "  def forward(self, input):\n",
    "    return self.main(input)"
   ]
  },
  {
   "cell_type": "code",
   "execution_count": 8,
   "metadata": {},
   "outputs": [
    {
     "name": "stdout",
     "output_type": "stream",
     "text": [
      "Generator(\n",
      "  (main): Sequential(\n",
      "    (0): ConvTranspose2d(100, 512, kernel_size=(4, 4), stride=(1, 1), bias=False)\n",
      "    (1): BatchNorm2d(512, eps=1e-05, momentum=0.1, affine=True, track_running_stats=True)\n",
      "    (2): ReLU(inplace=True)\n",
      "    (3): ConvTranspose2d(512, 256, kernel_size=(4, 4), stride=(2, 2), padding=(1, 1), bias=False)\n",
      "    (4): BatchNorm2d(256, eps=1e-05, momentum=0.1, affine=True, track_running_stats=True)\n",
      "    (5): ReLU(inplace=True)\n",
      "    (6): ConvTranspose2d(256, 128, kernel_size=(4, 4), stride=(2, 2), padding=(1, 1), bias=False)\n",
      "    (7): BatchNorm2d(128, eps=1e-05, momentum=0.1, affine=True, track_running_stats=True)\n",
      "    (8): ReLU(inplace=True)\n",
      "    (9): ConvTranspose2d(128, 64, kernel_size=(4, 4), stride=(2, 2), padding=(1, 1), bias=False)\n",
      "    (10): BatchNorm2d(64, eps=1e-05, momentum=0.1, affine=True, track_running_stats=True)\n",
      "    (11): ReLU(inplace=True)\n",
      "    (12): ConvTranspose2d(64, 3, kernel_size=(4, 4), stride=(2, 2), padding=(1, 1), bias=False)\n",
      "    (13): Tanh()\n",
      "  )\n",
      ")\n",
      "Discriminator(\n",
      "  (main): Sequential(\n",
      "    (0): Conv2d(3, 64, kernel_size=(4, 4), stride=(2, 2), padding=(1, 1), bias=False)\n",
      "    (1): LeakyReLU(negative_slope=0.2, inplace=True)\n",
      "    (2): Conv2d(64, 128, kernel_size=(4, 4), stride=(2, 2), padding=(1, 1), bias=False)\n",
      "    (3): BatchNorm2d(128, eps=1e-05, momentum=0.1, affine=True, track_running_stats=True)\n",
      "    (4): LeakyReLU(negative_slope=0.2, inplace=True)\n",
      "    (5): Conv2d(128, 256, kernel_size=(4, 4), stride=(2, 2), padding=(1, 1), bias=False)\n",
      "    (6): BatchNorm2d(256, eps=1e-05, momentum=0.1, affine=True, track_running_stats=True)\n",
      "    (7): LeakyReLU(negative_slope=0.2, inplace=True)\n",
      "    (8): Conv2d(256, 512, kernel_size=(4, 4), stride=(2, 2), padding=(1, 1), bias=False)\n",
      "    (9): BatchNorm2d(512, eps=1e-05, momentum=0.1, affine=True, track_running_stats=True)\n",
      "    (10): LeakyReLU(negative_slope=0.2, inplace=True)\n",
      "    (11): Conv2d(512, 1, kernel_size=(4, 4), stride=(1, 1), bias=False)\n",
      "    (12): Sigmoid()\n",
      "  )\n",
      ")\n",
      "Epoch 0 [0/1583] loss_D_real: 0.9078 loss_D_fake: 0.7951 loss_G:  4.4214\n",
      "Epoch 0 [100/1583] loss_D_real: 0.8072 loss_D_fake: 0.0226 loss_G:  3.8979\n",
      "Epoch 0 [200/1583] loss_D_real: 0.1857 loss_D_fake: 0.3317 loss_G:  6.3885\n",
      "Epoch 0 [300/1583] loss_D_real: 0.1976 loss_D_fake: 0.1483 loss_G:  2.6416\n",
      "Epoch 0 [400/1583] loss_D_real: 0.4074 loss_D_fake: 0.1429 loss_G:  3.6210\n",
      "Epoch 0 [500/1583] loss_D_real: 0.2265 loss_D_fake: 0.2525 loss_G:  4.1409\n",
      "Epoch 0 [600/1583] loss_D_real: 0.3835 loss_D_fake: 0.0629 loss_G:  4.4618\n",
      "Epoch 0 [700/1583] loss_D_real: 0.9266 loss_D_fake: 0.0057 loss_G:  4.9193\n",
      "Epoch 0 [800/1583] loss_D_real: 0.5638 loss_D_fake: 0.1515 loss_G:  3.3535\n",
      "Epoch 0 [900/1583] loss_D_real: 0.1703 loss_D_fake: 0.2165 loss_G:  4.4726\n",
      "Epoch 0 [1000/1583] loss_D_real: 0.5563 loss_D_fake: 0.1309 loss_G:  2.7439\n",
      "Epoch 0 [1100/1583] loss_D_real: 0.2308 loss_D_fake: 0.0279 loss_G:  3.0485\n",
      "Epoch 0 [1200/1583] loss_D_real: 0.4692 loss_D_fake: 0.0707 loss_G:  3.8723\n",
      "Epoch 0 [1300/1583] loss_D_real: 0.1443 loss_D_fake: 0.1184 loss_G:  4.3633\n",
      "Epoch 0 [1400/1583] loss_D_real: 0.2265 loss_D_fake: 0.2197 loss_G:  4.6106\n",
      "Epoch 0 [1500/1583] loss_D_real: 0.5954 loss_D_fake: 0.0197 loss_G:  2.1692\n",
      "Epoch 1 [0/1583] loss_D_real: 0.7822 loss_D_fake: 0.0173 loss_G:  2.5880\n",
      "Epoch 1 [100/1583] loss_D_real: 0.4620 loss_D_fake: 0.0581 loss_G:  2.7109\n",
      "Epoch 1 [200/1583] loss_D_real: 0.0455 loss_D_fake: 0.6805 loss_G:  6.0226\n",
      "Epoch 1 [300/1583] loss_D_real: 0.0495 loss_D_fake: 0.5556 loss_G:  4.4543\n",
      "Epoch 1 [400/1583] loss_D_real: 0.2808 loss_D_fake: 0.0840 loss_G:  3.7460\n",
      "Epoch 1 [500/1583] loss_D_real: 0.4207 loss_D_fake: 0.1136 loss_G:  1.7358\n",
      "Epoch 1 [600/1583] loss_D_real: 0.2595 loss_D_fake: 0.1468 loss_G:  2.9177\n",
      "Epoch 1 [700/1583] loss_D_real: 0.1688 loss_D_fake: 0.2770 loss_G:  4.1202\n",
      "Epoch 1 [800/1583] loss_D_real: 0.5132 loss_D_fake: 0.0894 loss_G:  1.5716\n",
      "Epoch 1 [900/1583] loss_D_real: 1.4339 loss_D_fake: 0.0161 loss_G:  1.6637\n",
      "Epoch 1 [1000/1583] loss_D_real: 0.2293 loss_D_fake: 0.4156 loss_G:  4.2396\n",
      "Epoch 1 [1100/1583] loss_D_real: 0.9539 loss_D_fake: 0.0330 loss_G:  1.3668\n",
      "Epoch 1 [1200/1583] loss_D_real: 0.2558 loss_D_fake: 0.2916 loss_G:  3.6246\n",
      "Epoch 1 [1300/1583] loss_D_real: 0.6504 loss_D_fake: 0.1138 loss_G:  1.9000\n",
      "Epoch 1 [1400/1583] loss_D_real: 0.0775 loss_D_fake: 0.4171 loss_G:  4.1042\n",
      "Epoch 1 [1500/1583] loss_D_real: 0.2101 loss_D_fake: 0.2846 loss_G:  3.7392\n",
      "Epoch 2 [0/1583] loss_D_real: 0.1559 loss_D_fake: 0.3908 loss_G:  3.7834\n",
      "Epoch 2 [100/1583] loss_D_real: 0.7283 loss_D_fake: 0.1533 loss_G:  0.9442\n",
      "Epoch 2 [200/1583] loss_D_real: 0.1332 loss_D_fake: 0.3647 loss_G:  2.8574\n",
      "Epoch 2 [300/1583] loss_D_real: 0.0104 loss_D_fake: 1.5933 loss_G:  5.4516\n",
      "Epoch 2 [400/1583] loss_D_real: 0.7040 loss_D_fake: 0.0823 loss_G:  1.5182\n",
      "Epoch 2 [500/1583] loss_D_real: 0.1688 loss_D_fake: 0.9925 loss_G:  3.9132\n",
      "Epoch 2 [600/1583] loss_D_real: 0.4300 loss_D_fake: 0.1653 loss_G:  2.2643\n",
      "Epoch 2 [700/1583] loss_D_real: 1.1418 loss_D_fake: 0.0241 loss_G:  1.2150\n",
      "Epoch 2 [800/1583] loss_D_real: 0.2471 loss_D_fake: 0.1741 loss_G:  2.7619\n",
      "Epoch 2 [900/1583] loss_D_real: 0.5803 loss_D_fake: 0.0895 loss_G:  1.9841\n",
      "Epoch 2 [1000/1583] loss_D_real: 0.3152 loss_D_fake: 0.2298 loss_G:  2.4991\n",
      "Epoch 2 [1100/1583] loss_D_real: 0.0915 loss_D_fake: 0.9904 loss_G:  3.0718\n",
      "Epoch 2 [1200/1583] loss_D_real: 0.2650 loss_D_fake: 0.1189 loss_G:  2.5906\n",
      "Epoch 2 [1300/1583] loss_D_real: 0.1319 loss_D_fake: 0.7610 loss_G:  3.4807\n",
      "Epoch 2 [1400/1583] loss_D_real: 0.4165 loss_D_fake: 0.2328 loss_G:  2.4930\n",
      "Epoch 2 [1500/1583] loss_D_real: 0.1618 loss_D_fake: 0.6982 loss_G:  3.1646\n",
      "Epoch 3 [0/1583] loss_D_real: 0.1573 loss_D_fake: 0.2995 loss_G:  3.0741\n",
      "Epoch 3 [100/1583] loss_D_real: 0.1163 loss_D_fake: 0.4595 loss_G:  3.6994\n",
      "Epoch 3 [200/1583] loss_D_real: 3.0013 loss_D_fake: 0.0140 loss_G:  0.8087\n",
      "Epoch 3 [300/1583] loss_D_real: 0.0577 loss_D_fake: 1.5357 loss_G:  4.6491\n",
      "Epoch 3 [400/1583] loss_D_real: 0.0287 loss_D_fake: 1.2014 loss_G:  4.5266\n",
      "Epoch 3 [500/1583] loss_D_real: 0.3550 loss_D_fake: 0.1071 loss_G:  2.2696\n",
      "Epoch 3 [600/1583] loss_D_real: 0.1555 loss_D_fake: 0.7115 loss_G:  3.9114\n",
      "Epoch 3 [700/1583] loss_D_real: 0.0528 loss_D_fake: 1.5261 loss_G:  5.5447\n",
      "Epoch 3 [800/1583] loss_D_real: 0.1457 loss_D_fake: 0.3444 loss_G:  3.0034\n",
      "Epoch 3 [900/1583] loss_D_real: 0.0242 loss_D_fake: 2.0064 loss_G:  5.3500\n",
      "Epoch 3 [1000/1583] loss_D_real: 0.5061 loss_D_fake: 0.1113 loss_G:  1.2343\n",
      "Epoch 3 [1100/1583] loss_D_real: 0.1362 loss_D_fake: 0.3269 loss_G:  3.1117\n",
      "Epoch 3 [1200/1583] loss_D_real: 0.2700 loss_D_fake: 0.5625 loss_G:  3.7355\n",
      "Epoch 3 [1300/1583] loss_D_real: 0.3750 loss_D_fake: 0.3919 loss_G:  2.3907\n",
      "Epoch 3 [1400/1583] loss_D_real: 0.6289 loss_D_fake: 0.0928 loss_G:  1.6974\n",
      "Epoch 3 [1500/1583] loss_D_real: 1.0917 loss_D_fake: 0.0649 loss_G:  0.0969\n",
      "Epoch 4 [0/1583] loss_D_real: 0.0513 loss_D_fake: 0.7972 loss_G:  4.2476\n",
      "Epoch 4 [100/1583] loss_D_real: 0.0613 loss_D_fake: 0.7237 loss_G:  4.4977\n",
      "Epoch 4 [200/1583] loss_D_real: 0.0603 loss_D_fake: 0.9085 loss_G:  5.3560\n",
      "Epoch 4 [300/1583] loss_D_real: 0.4327 loss_D_fake: 0.0925 loss_G:  1.7804\n",
      "Epoch 4 [400/1583] loss_D_real: 0.2213 loss_D_fake: 0.2372 loss_G:  2.1251\n",
      "Epoch 4 [500/1583] loss_D_real: 0.4805 loss_D_fake: 0.1509 loss_G:  2.1425\n",
      "Epoch 4 [600/1583] loss_D_real: 1.2231 loss_D_fake: 0.0479 loss_G:  1.4778\n",
      "Epoch 4 [700/1583] loss_D_real: 0.7603 loss_D_fake: 0.0582 loss_G:  1.5809\n",
      "Epoch 4 [800/1583] loss_D_real: 0.4714 loss_D_fake: 0.1585 loss_G:  1.9949\n",
      "Epoch 4 [900/1583] loss_D_real: 0.9498 loss_D_fake: 0.1267 loss_G:  1.8242\n",
      "Epoch 4 [1000/1583] loss_D_real: 0.2296 loss_D_fake: 0.1592 loss_G:  2.5223\n",
      "Epoch 4 [1100/1583] loss_D_real: 0.2463 loss_D_fake: 0.2398 loss_G:  2.7294\n",
      "Epoch 4 [1200/1583] loss_D_real: 0.1401 loss_D_fake: 0.2290 loss_G:  3.0849\n",
      "Epoch 4 [1300/1583] loss_D_real: 0.2851 loss_D_fake: 0.2226 loss_G:  1.8715\n",
      "Epoch 4 [1400/1583] loss_D_real: 0.1524 loss_D_fake: 0.4342 loss_G:  3.3298\n",
      "Epoch 4 [1500/1583] loss_D_real: 0.4081 loss_D_fake: 0.1298 loss_G:  2.0281\n",
      "torch.Size([20, 100, 1, 1])\n",
      "(20, 100)\n",
      "[[ 0.49547487 -0.20605098  1.5567497  ... -1.52323747  0.23721333\n",
      "  -1.35278094]\n",
      " [ 0.33083397  2.06714964 -0.17153189 ...  0.59460104 -0.36307523\n",
      "   0.99839991]\n",
      " [-0.100868   -0.81751972  0.99015975 ...  0.71398592 -0.72717708\n",
      "  -0.40063477]\n",
      " ...\n",
      " [-1.73068333 -1.056813   -1.91227388 ...  0.14786609  0.20659733\n",
      "   0.6064589 ]\n",
      " [ 0.51328683 -1.67684603 -1.20954192 ...  2.51355457 -0.56195349\n",
      "  -0.70140427]\n",
      " [ 0.80070484  0.70408726 -0.74859506 ...  0.02616779 -0.46623439\n",
      "   0.18294105]]\n",
      "torch.Size([3, 64, 64])\n",
      "torch.Size([3, 64, 64])\n",
      "torch.Size([20, 100, 1, 1])\n"
     ]
    }
   ],
   "source": [
    "netG = Generator().to(device)\n",
    "netG.apply(weights_init)\n",
    "print(netG)"
   ]
  },
  {
   "cell_type": "markdown",
   "metadata": {},
   "source": [
    "# Discriminator network"
   ]
  },
  {
   "cell_type": "code",
   "execution_count": 9,
   "metadata": {},
   "outputs": [],
   "source": [
    "class Discriminator(nn.Module):\n",
    "  def __init__(self):\n",
    "    super(Discriminator, self).__init__()\n",
    "    self.main = nn.Sequential(\n",
    "        #1st layer\n",
    "        nn.Conv2d(IMAGE_CHANNEL, D_HIDDEN, 4, 2, 1, bias = False), # (1, 64, 4, 2, 1, False)\n",
    "        nn.LeakyReLU(0.2, inplace = True),\n",
    "        #2nd layer\n",
    "        nn.Conv2d(D_HIDDEN, D_HIDDEN * 2, 4, 2, 1, bias = False), # (64, 128, 4, 2, 1, False)\n",
    "        nn.BatchNorm2d(D_HIDDEN * 2),\n",
    "        nn.LeakyReLU(0.2, inplace = True),\n",
    "        #3rd layer\n",
    "        nn.Conv2d(D_HIDDEN * 2, D_HIDDEN * 4, 4, 2, 1, bias = False), # (128, 256, 4, 2, 1, False)\n",
    "        nn.BatchNorm2d(D_HIDDEN * 4),\n",
    "        nn.LeakyReLU(0.2, inplace = True),\n",
    "        #4th layer\n",
    "        nn.Conv2d(D_HIDDEN * 4, D_HIDDEN * 8, 4, 2, 1, bias = False), # (256, 512, 4, 2, 1, False)\n",
    "        nn.BatchNorm2d(D_HIDDEN * 8),\n",
    "        nn.LeakyReLU(0.2, inplace = True),\n",
    "        #output layer\n",
    "        nn.Conv2d(D_HIDDEN * 8, 1, 4, 1, 0, bias = False), # (512, 1, 4, 1, 0, False)\n",
    "        nn.Sigmoid()\n",
    "    )\n",
    "  def forward(self, input):\n",
    "    return self.main(input).view(-1, 1).squeeze(1)"
   ]
  },
  {
   "cell_type": "code",
   "execution_count": 10,
   "metadata": {},
   "outputs": [],
   "source": [
    "netD = Discriminator().to(device)\n",
    "netD.apply(weights_init)\n",
    "print(netD)"
   ]
  },
  {
   "cell_type": "markdown",
   "metadata": {},
   "source": [
    "# Loss function"
   ]
  },
  {
   "cell_type": "code",
   "execution_count": 11,
   "metadata": {},
   "outputs": [],
   "source": [
    "criterion = nn.BCELoss()\n",
    "optimizerD = optim.Adam(netD.parameters(), lr = lr, betas = (0.5, 0.999))\n",
    "optimizerG = optim.Adam(netG.parameters(), lr = lr, betas = (0.5, 0.999))"
   ]
  },
  {
   "cell_type": "markdown",
   "metadata": {},
   "source": [
    "# Load the CelebA dataset to GPU"
   ]
  },
  {
   "cell_type": "code",
   "execution_count": 12,
   "metadata": {},
   "outputs": [],
   "source": [
    "dataset = dset.ImageFolder(root = DATA_PATH, transform = transforms.Compose([\n",
    "    transforms.Resize(X_DIM),\n",
    "    transforms.CenterCrop(X_DIM),\n",
    "    transforms.ToTensor(),\n",
    "    transforms.Normalize((0.5, 0.5, 0.5),(0.5, 0.5, 0.5))\n",
    "    ]))\n",
    "\n",
    "assert dataset\n",
    "dataloader = torch.utils.data.DataLoader(dataset, batch_size = BATCH_SIZE, shuffle = True, num_workers = 4, pin_memory = True)"
   ]
  },
  {
   "cell_type": "markdown",
   "metadata": {},
   "source": [
    "# Training"
   ]
  },
  {
   "cell_type": "code",
   "execution_count": 13,
   "metadata": {},
   "outputs": [],
   "source": [
    "\"\"\"\n",
    "1. Train the discriminator with the real data and recognize it as real.\n",
    "2. Train the discriminator with the fake data and recognize it as fake.\n",
    "3. Train the generator with the fake data and recognize it as real.\n",
    "\n",
    "The first two steps let the discriminator learn how to tell the difference between real data and fake data.\n",
    "The third step teaches the generator how to confuse the discriminator with generated samples.\n",
    "\"\"\"\n",
    "d_history = []\n",
    "g_history = []\n",
    "viz_noise = torch.randn(BATCH_SIZE, Z_DIM, 1, 1, device = device)\n",
    "for epoch in range(EPOCH_NUM):\n",
    "  for i, data in enumerate(dataloader):\n",
    "    x_real = data[0].to(device)\n",
    "    real_label = torch.full((x_real.size(0),), REAL_LABEL, device = device)\n",
    "    fake_label = torch.full((x_real.size(0),), FAKE_LABEL, device = device)\n",
    "\n",
    "    #Update D with real data\n",
    "    netD.zero_grad()\n",
    "    y_real = netD(x_real)\n",
    "    loss_D_real = criterion(y_real, real_label.float())\n",
    "    loss_D_real.backward()\n",
    "    #Update D with fake data\n",
    "    z_noise = torch.randn(x_real.size(0), Z_DIM, 1, 1, device = device)\n",
    "    x_fake = netG(z_noise)\n",
    "    y_fake = netD(x_fake.detach())\n",
    "    loss_D_fake = criterion(y_fake, fake_label.float())\n",
    "    loss_D_fake.backward()\n",
    "    optimizerD.step()\n",
    "    #Update G with fake data\n",
    "    netG.zero_grad()\n",
    "    y_fake_r = netD(x_fake)\n",
    "    loss_G = criterion(y_fake_r, real_label.float())\n",
    "    loss_G.backward()\n",
    "    optimizerG.step()\n",
    "\n",
    "    if i % 100 == 0:\n",
    "      print('Epoch {} [{}/{}] loss_D_real: {:.4f} loss_D_fake: {:.4f} loss_G:  {:.4f}'.format(\n",
    "          epoch, i, len(dataloader), loss_D_real.mean().item(), loss_D_fake.mean().item(), loss_G.mean().item()\n",
    "          ))\n",
    "      vutils.save_image(x_real, os.path.join(OUT_PATH, 'real_samples.png'), normalize = True)\n",
    "      with torch.no_grad():\n",
    "        viz_sample = netG(viz_noise)\n",
    "        vutils.save_image(viz_sample, os.path.join(OUT_PATH, 'fake_samples_{}.png'.format(epoch)), normalize = True)\n",
    "\n",
    "      # torch.save(netG.state_dict(), os.path.join(OUT_PATH, 'netG_{}.pth'.format(epoch)))\n",
    "      # torch.save(netD.state_dict(), os.path.join(OUT_PATH, 'netD_{}.pth'.format(epoch)))\n",
    "  #plot D history\n",
    "  loss_D = loss_D_real + loss_D_fake\n",
    "  d_history.append(loss_D.item())\n",
    "  #plot G history\n",
    "  g_history.append(loss_G.item())"
   ]
  },
  {
   "cell_type": "markdown",
   "metadata": {},
   "source": [
    "# Save the generator and discriminator networks"
   ]
  },
  {
   "cell_type": "code",
   "execution_count": 14,
   "metadata": {},
   "outputs": [],
   "source": [
    "torch.save(netG.state_dict(), os.path.join(OUT_PATH, 'netG_5_epochs.pth'))\n",
    "torch.save(netD.state_dict(), os.path.join(OUT_PATH, 'netD_5_epochs.pth'))"
   ]
  },
  {
   "cell_type": "markdown",
   "metadata": {},
   "source": [
    "# Plot the losses"
   ]
  },
  {
   "cell_type": "code",
   "execution_count": 16,
   "metadata": {},
   "outputs": [
    {
     "data": {
      "image/png": "[encoded data removed]",
      "text/plain": [
       "<Figure size 640x480 with 1 Axes>"
      ]
     },
     "metadata": {},
     "output_type": "display_data"
    }
   ],
   "source": [
    "import matplotlib.pyplot as plt\n",
    "plt.plot(d_history, label='Discriminator Loss', color='red')\n",
    "plt.plot(g_history, label = 'Generator loss', color = 'blue')\n",
    "plt.xlabel('Epoch')\n",
    "plt.ylabel('Loss')\n",
    "plt.title('DCGAN losses')\n",
    "plt.legend()\n",
    "plt.show()"
   ]
  },
  {
   "cell_type": "markdown",
   "metadata": {},
   "source": [
    "# Having fun with the Generator"
   ]
  },
  {
   "cell_type": "code",
   "execution_count": 6,
   "metadata": {},
   "outputs": [
    {
     "data": {
      "text/plain": [
       "Generator(\n",
       "  (main): Sequential(\n",
       "    (0): ConvTranspose2d(100, 512, kernel_size=(4, 4), stride=(1, 1), bias=False)\n",
       "    (1): BatchNorm2d(512, eps=1e-05, momentum=0.1, affine=True, track_running_stats=True)\n",
       "    (2): ReLU(inplace=True)\n",
       "    (3): ConvTranspose2d(512, 256, kernel_size=(4, 4), stride=(2, 2), padding=(1, 1), bias=False)\n",
       "    (4): BatchNorm2d(256, eps=1e-05, momentum=0.1, affine=True, track_running_stats=True)\n",
       "    (5): ReLU(inplace=True)\n",
       "    (6): ConvTranspose2d(256, 128, kernel_size=(4, 4), stride=(2, 2), padding=(1, 1), bias=False)\n",
       "    (7): BatchNorm2d(128, eps=1e-05, momentum=0.1, affine=True, track_running_stats=True)\n",
       "    (8): ReLU(inplace=True)\n",
       "    (9): ConvTranspose2d(128, 64, kernel_size=(4, 4), stride=(2, 2), padding=(1, 1), bias=False)\n",
       "    (10): BatchNorm2d(64, eps=1e-05, momentum=0.1, affine=True, track_running_stats=True)\n",
       "    (11): ReLU(inplace=True)\n",
       "    (12): ConvTranspose2d(64, 3, kernel_size=(4, 4), stride=(2, 2), padding=(1, 1), bias=False)\n",
       "    (13): Tanh()\n",
       "  )\n",
       ")"
      ]
     },
     "execution_count": 6,
     "metadata": {},
     "output_type": "execute_result"
    }
   ],
   "source": [
    "from datetime import datetime\n",
    "import scipy\n",
    "from scipy import interpolate\n",
    "# Load the generator from the saved model\n",
    "netG = Generator()\n",
    "netG.load_state_dict(torch.load(os.path.join(OUT_PATH, 'netG_5_epochs.pth')))\n",
    "netG.to(device)"
   ]
  },
  {
   "cell_type": "code",
   "execution_count": 14,
   "metadata": {},
   "outputs": [],
   "source": [
    "\"\"\"\n",
    "0 : creating a random starting tensor\n",
    "1 : Image interpolation\n",
    "2 : Semantic vector arithmetic\n",
    "\"\"\"\n",
    "\n",
    "# Semi refers to just z1 - z2 without the z3\n",
    "\n",
    "def visualize_gen(VIZ_MODE = 0, BATCH_SIZE = 20, semi = False):\n",
    "    if VIZ_MODE == 0:\n",
    "        viz_tensor = torch.randn(BATCH_SIZE, Z_DIM, 1, 1, device = device) # Create a starting random tensor\n",
    "    elif VIZ_MODE == 1:\n",
    "        load_vector = np.loadtxt('vec_20240329-123635.txt') \n",
    "        xp = [0, 1]\n",
    "        yp = np.vstack([load_vector[9], load_vector[14]]) # Choose two exemplar vectors by stacking these two arrays in sequence vertically\n",
    "        xvals = np.linspace(0, 1, num = BATCH_SIZE) # Create evenly spaced numbers over a specified interval\n",
    "        sample = interpolate.interp1d(xp, yp, axis = 0) # scipy interpolation method\n",
    "        viz_tensor = torch.tensor(sample(xvals).reshape(BATCH_SIZE, Z_DIM, 1, 1), dtype = torch.float32, device = device)\n",
    "        print(viz_tensor.shape)\n",
    "    elif VIZ_MODE == 2:\n",
    "        load_vector = np.loadtxt('vec_20240329-123635.txt')\n",
    "        z1 = (load_vector[7] + load_vector[15] + load_vector[12]) / 3. # Images 1,7,9 are of smiling women (mean)\n",
    "        z2 = (load_vector[14] + load_vector[17] + load_vector[5]) / 3. # Images 2,3,5 are of non-smiling women (mean)\n",
    "        z3 = (load_vector[0] + load_vector[16] + load_vector[13]) / 3. # Images of non-smiling men (mean)\n",
    "        z_semi = z1 - z2\n",
    "        z_new = z1 - z2 + z3 # Here we try to subtract the women smiling with the non-smiling to store the \"smile\" and then add it with the men's vector to try and put a smile on the non-smiling men\n",
    "        sample = np.zeros(shape = (BATCH_SIZE, Z_DIM))\n",
    "        sample_semi = np.zeros(shape = (BATCH_SIZE, Z_DIM))\n",
    "        for i in range(BATCH_SIZE):\n",
    "            sample[i] = z_new + 0.1 * np.random.normal(-1.0, 1.0, 100) #randomize the generated samples for variety\n",
    "            sample_semi[i] = z_semi + 0.1 * np.random.normal(-1.0, 1.0, 100)\n",
    "        viz_tensor = torch.tensor(sample.reshape(BATCH_SIZE, Z_DIM, 1, 1), dtype = torch.float32, device = device)\n",
    "        viz_tensor_semi = torch.tensor(sample_semi.reshape(BATCH_SIZE, Z_DIM, 1, 1), dtype = torch.float32, device = device)\n",
    "    \n",
    "    with torch.no_grad():\n",
    "        if semi:\n",
    "            viz_sample_semi = netG(viz_tensor_semi)\n",
    "            viz_vector_semi = utils.to_np(viz_tensor_semi).reshape(BATCH_SIZE, Z_DIM) # Export torch.Tensor to Numpy array\n",
    "            cur_time = datetime.now().strftime(\"%Y%m%d-%H%M%S\")\n",
    "            np.savetxt('vec_semi_{}.txt'.format(cur_time), viz_vector_semi)\n",
    "            vutils.save_image(viz_sample_semi, 'img_semi_{}.png'.format(cur_time), nrow = BATCH_SIZE, normalize = True)\n",
    "        viz_sample = netG(viz_tensor)\n",
    "        viz_vector = utils.to_np(viz_tensor).reshape(BATCH_SIZE, Z_DIM) # Export torch.Tensor to Numpy array\n",
    "        cur_time = datetime.now().strftime(\"%Y%m%d-%H%M%S\")\n",
    "        np.savetxt('vec_{}.txt'.format(cur_time), viz_vector)\n",
    "        vutils.save_image(viz_sample, 'img_{}.png'.format(cur_time), nrow = BATCH_SIZE, normalize = True)"
   ]
  },
  {
   "cell_type": "code",
   "execution_count": 70,
   "metadata": {},
   "outputs": [],
   "source": [
    "visualize_gen()"
   ]
  },
  {
   "cell_type": "code",
   "execution_count": 58,
   "metadata": {},
   "outputs": [],
   "source": [
    "# Interpolation\n",
    "visualize_gen(1)"
   ]
  },
  {
   "cell_type": "code",
   "execution_count": 15,
   "metadata": {},
   "outputs": [],
   "source": [
    "#Semantic arithmetic\n",
    "visualize_gen(2, semi = True)"
   ]
  }
 ],
 "metadata": {
  "kernelspec": {
   "display_name": "Python 3",
   "language": "python",
   "name": "python3"
  },
  "language_info": {
   "codemirror_mode": {
    "name": "ipython",
    "version": 3
   },
   "file_extension": ".py",
   "mimetype": "text/x-python",
   "name": "python",
   "nbconvert_exporter": "python",
   "pygments_lexer": "ipython3",
   "version": "3.12.1"
  }
 },
 "nbformat": 4,
 "nbformat_minor": 2
}
