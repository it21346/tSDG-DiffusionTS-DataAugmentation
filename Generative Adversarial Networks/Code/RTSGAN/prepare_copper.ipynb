{
 "cells": [
  {
   "cell_type": "code",
   "execution_count": 6,
   "metadata": {},
   "outputs": [
    {
     "name": "stdout",
     "output_type": "stream",
     "text": [
      "SUM 1 None continuous\n",
      "Φούρνος Προθέρμανσης 1 καύσης Φ.Α. 1 None continuous\n",
      "Φούρνος Προθέρμανσης 2 καύσης Φ.Α. 1 None continuous\n",
      "Φούρνοι Προθέρμανσης 1-2 καύσης Φ.Α. 1 None continuous\n",
      "Επαγωγικός Φούρνος Προθέρμανσης 1 None continuous\n",
      "Μηχανισμός αφαίρεσης οξειδίων πριν τη διέλαση 1 None continuous\n",
      "Κύριο σώμα μηχανισμού διέλασης 1 None continuous\n",
      "Έξοδος διέλασης 1 None continuous\n",
      "Υδραυλικές Αντλίες Πρέσας 1 None continuous\n",
      "Υδραυλικές Αντλίες Πρέσας.1 1 None continuous\n",
      "Αντλιοστάσιο Πρέσας 1 None continuous\n",
      "Q_KG (Produced Quantity) 1 None continuous\n",
      "Q_ST (Produced Pieces) 1 None continuous\n",
      "MACHMINS (MACHINE MINUTES) 1 None continuous\n",
      "TOTDH (TOTAL DELAYS -HOURS) 1 None continuous\n",
      "23\n"
     ]
    }
   ],
   "source": [
    "import numpy as np\n",
    "import pandas as pd \n",
    "from stock_energy.missingprocessor import Processor\n",
    "import pickle\n",
    "from fastNLP import DataSet\n",
    "\n",
    "data_path = \"../TimeGAN_PytorchRebuild/data/copper_data.csv\"\n",
    "loc = \"copper\"\n",
    "seq_len = 15\n",
    "df = pd.read_csv(data_path, sep = \",\")\n",
    "types = [\"continuous\" for i in range(len(df.columns))]\n",
    "\n",
    "P = Processor(types)\n",
    "# Flip the data to make chronological data\n",
    "ori_data = P.fit_transform(df)\n",
    "# ori_data = ori_data[::-1]\n",
    "\n",
    "temp_data = [ori_data[i:i + seq_len] for i in range(0, len(ori_data) - seq_len)]    \n",
    "\n",
    "\n",
    "dataset = DataSet({\"seq_len\": [seq_len] * len(temp_data), \"dyn\": temp_data, \"sta\":[0]*len(temp_data)})\n",
    "dic = {\n",
    "    \"train_set\": dataset,\n",
    "    \"dynamic_processor\": P,\n",
    "    \"static_processor\": Processor([])\n",
    "}\n",
    "print(len(temp_data))\n",
    "from utils.general import make_sure_path_exists\n",
    "make_sure_path_exists(\"./data\")\n",
    "with open(\"./data/copper.pkl\", \"wb\") as f:\n",
    "    pickle.dump(dic, f)"
   ]
  }
 ],
 "metadata": {
  "kernelspec": {
   "display_name": "Python 3",
   "language": "python",
   "name": "python3"
  },
  "language_info": {
   "codemirror_mode": {
    "name": "ipython",
    "version": 3
   },
   "file_extension": ".py",
   "mimetype": "text/x-python",
   "name": "python",
   "nbconvert_exporter": "python",
   "pygments_lexer": "ipython3",
   "version": "3.12.1"
  }
 },
 "nbformat": 4,
 "nbformat_minor": 2
}
