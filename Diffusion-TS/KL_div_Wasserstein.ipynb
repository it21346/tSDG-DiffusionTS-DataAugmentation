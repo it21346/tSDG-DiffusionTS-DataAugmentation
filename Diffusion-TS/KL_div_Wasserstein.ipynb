{
 "cells": [
  {
   "cell_type": "code",
   "execution_count": 1,
   "id": "bc81cedf",
   "metadata": {},
   "outputs": [
    {
     "name": "stderr",
     "output_type": "stream",
     "text": [
      "2025-09-02 17:12:06.354577: E external/local_xla/xla/stream_executor/cuda/cuda_fft.cc:485] Unable to register cuFFT factory: Attempting to register factory for plugin cuFFT when one has already been registered\n",
      "2025-09-02 17:12:06.418530: E external/local_xla/xla/stream_executor/cuda/cuda_dnn.cc:8454] Unable to register cuDNN factory: Attempting to register factory for plugin cuDNN when one has already been registered\n",
      "2025-09-02 17:12:06.437128: E external/local_xla/xla/stream_executor/cuda/cuda_blas.cc:1452] Unable to register cuBLAS factory: Attempting to register factory for plugin cuBLAS when one has already been registered\n",
      "2025-09-02 17:12:06.554622: I tensorflow/core/platform/cpu_feature_guard.cc:210] This TensorFlow binary is optimized to use available CPU instructions in performance-critical operations.\n",
      "To enable the following instructions: AVX2 FMA, in other operations, rebuild TensorFlow with the appropriate compiler flags.\n",
      "2025-09-02 17:12:07.761786: W tensorflow/compiler/tf2tensorrt/utils/py_utils.cc:38] TF-TRT Warning: Could not find TensorRT\n"
     ]
    }
   ],
   "source": [
    "import warnings\n",
    "from math import sqrt\n",
    "from os.path import exists\n",
    "# Initialize Wandb\n",
    "import wandb\n",
    "import matplotlib.pyplot as plt\n",
    "from matplotlib import pyplot\n",
    "import numpy as np\n",
    "import pandas as pd\n",
    "\n",
    "from scipy.stats import wasserstein_distance, entropy\n",
    "from numpy import concatenate\n",
    "from scipy import stats\n",
    "from scipy.stats import pearsonr, spearmanr\n",
    "\n",
    "import xgboost as xgb\n",
    "from sklearn.linear_model import LinearRegression\n",
    "from sklearn.metrics import mean_absolute_error, mean_squared_error, r2_score, median_absolute_error\n",
    "from sklearn.model_selection import train_test_split\n",
    "from sklearn.preprocessing import MinMaxScaler\n",
    "\n",
    "from keras.callbacks import EarlyStopping\n",
    "from keras.layers import Bidirectional, Dense, Dropout, LSTM, BatchNormalization\n",
    "from keras.models import Sequential\n",
    "\n",
    "from tensorflow.keras.layers import Concatenate, Dense, Embedding, Input, LSTM"
   ]
  },
  {
   "cell_type": "code",
   "execution_count": 6,
   "id": "607a1491",
   "metadata": {},
   "outputs": [
    {
     "name": "stdout",
     "output_type": "stream",
     "text": [
      "(1947, 57) (2048, 49, 57)\n"
     ]
    }
   ],
   "source": [
    "ori_data = pd.read_csv(\"energy_data.csv\", sep = ',')\n",
    "ori_data = ori_data.to_numpy()\n",
    "fake_data = np.load(\"ddpm_fake_energy_raw.npy\")\n",
    "print(ori_data.shape, fake_data.shape)\n",
    "fake_data = fake_data.reshape(-1, 57)\n",
    "\n",
    "# remove the time-related features, specifically the 11,12,13,14 features\n",
    "exclude_indices = [52, 53, 54, 55]\n",
    "include_indices = [i for i in range(ori_data.shape[1]) if i not in exclude_indices]\n",
    "ori_data = ori_data[:, include_indices]\n",
    "fake_data = fake_data[:, include_indices]"
   ]
  },
  {
   "cell_type": "code",
   "execution_count": 7,
   "id": "5a4e4dc0",
   "metadata": {},
   "outputs": [
    {
     "name": "stdout",
     "output_type": "stream",
     "text": [
      "Feature 0: KL = 0.0104\n",
      "Feature 1: KL = 0.0473\n",
      "Feature 2: KL = 0.0414\n",
      "Feature 3: KL = 0.0578\n",
      "Feature 4: KL = 0.0217\n",
      "Feature 5: KL = 0.0163\n",
      "Feature 6: KL = 0.0386\n",
      "Feature 7: KL = 0.0264\n",
      "Feature 8: KL = 0.0466\n",
      "Feature 9: KL = 0.0711\n",
      "Feature 10: KL = 0.0091\n",
      "Feature 11: KL = 0.0347\n",
      "Feature 12: KL = 0.0192\n",
      "Feature 13: KL = 0.1526\n",
      "Feature 14: KL = 0.1067\n",
      "Feature 15: KL = 0.0377\n",
      "Feature 16: KL = 0.1301\n",
      "Feature 17: KL = 0.1509\n",
      "Feature 18: KL = 0.1613\n",
      "Feature 19: KL = 0.7078\n",
      "Feature 20: KL = 0.1522\n",
      "Feature 21: KL = 0.0218\n",
      "Feature 22: KL = 0.0171\n",
      "Feature 23: KL = 0.0350\n",
      "Feature 24: KL = 0.0159\n",
      "Feature 25: KL = 0.2389\n",
      "Feature 26: KL = 0.6669\n",
      "Feature 27: KL = 0.1584\n",
      "Feature 28: KL = 0.2113\n",
      "Feature 29: KL = 0.0243\n",
      "Feature 30: KL = 0.0343\n",
      "Feature 31: KL = 0.0257\n",
      "Feature 32: KL = 0.0160\n",
      "Feature 33: KL = 0.0140\n",
      "Feature 34: KL = 0.0207\n",
      "Feature 35: KL = 0.0182\n",
      "Feature 36: KL = 0.0806\n",
      "Feature 37: KL = 0.0208\n",
      "Feature 38: KL = 0.0319\n",
      "Feature 39: KL = 0.0121\n",
      "Feature 40: KL = 0.0050\n",
      "Feature 41: KL = 0.0333\n",
      "Feature 42: KL = 0.0659\n",
      "Feature 43: KL = 0.1399\n",
      "Feature 44: KL = 0.0240\n",
      "Feature 45: KL = 0.0504\n",
      "Feature 46: KL = 0.2849\n",
      "Feature 47: KL = 0.2224\n",
      "Feature 48: KL = 0.2963\n",
      "Feature 49: KL = 0.0337\n",
      "Feature 50: KL = 0.0011\n",
      "Feature 51: KL = 0.0062\n",
      "Feature 52: KL = 0.0559\n"
     ]
    }
   ],
   "source": [
    "for i in range(ori_data.shape[1]):\n",
    "    real_vals = ori_data[:, i]\n",
    "    fake_vals = fake_data[:, i]\n",
    "\n",
    "    # KL Divergence (hist-based)\n",
    "    p_hist, bins = np.histogram(real_vals, bins=100, density=True)\n",
    "    q_hist, _ = np.histogram(fake_vals, bins=bins, density=True)\n",
    "    p_hist += 1e-10  # avoid log(0)\n",
    "    q_hist += 1e-10\n",
    "\n",
    "    kl = entropy(p_hist, q_hist)\n",
    "\n",
    "    print(f\"Feature {i}: KL = {kl:.4f}\")"
   ]
  },
  {
   "cell_type": "code",
   "execution_count": 8,
   "id": "38800db2",
   "metadata": {},
   "outputs": [],
   "source": [
    "from sklearn.preprocessing import MinMaxScaler\n",
    "\n",
    "scaler = MinMaxScaler()\n",
    "real_scaled = scaler.fit_transform(ori_data)\n",
    "fake_scaled = scaler.transform(fake_data)"
   ]
  },
  {
   "cell_type": "code",
   "execution_count": 9,
   "id": "a61bf8a6",
   "metadata": {},
   "outputs": [
    {
     "name": "stdout",
     "output_type": "stream",
     "text": [
      "Feature 0: Wasserstein = 0.0009\n",
      "Feature 1: Wasserstein = 0.0076\n",
      "Feature 2: Wasserstein = 0.0016\n",
      "Feature 3: Wasserstein = 0.0088\n",
      "Feature 4: Wasserstein = 0.0063\n",
      "Feature 5: Wasserstein = 0.0032\n",
      "Feature 6: Wasserstein = 0.0032\n",
      "Feature 7: Wasserstein = 0.0021\n",
      "Feature 8: Wasserstein = 0.0030\n",
      "Feature 9: Wasserstein = 0.0181\n",
      "Feature 10: Wasserstein = 0.0035\n",
      "Feature 11: Wasserstein = 0.0053\n",
      "Feature 12: Wasserstein = 0.0008\n",
      "Feature 13: Wasserstein = 0.0026\n",
      "Feature 14: Wasserstein = 0.0060\n",
      "Feature 15: Wasserstein = 0.0075\n",
      "Feature 16: Wasserstein = 0.0107\n",
      "Feature 17: Wasserstein = 0.0048\n",
      "Feature 18: Wasserstein = 0.0057\n",
      "Feature 19: Wasserstein = 0.0111\n",
      "Feature 20: Wasserstein = 0.0134\n",
      "Feature 21: Wasserstein = 0.0036\n",
      "Feature 22: Wasserstein = 0.0122\n",
      "Feature 23: Wasserstein = 0.0022\n",
      "Feature 24: Wasserstein = 0.0018\n",
      "Feature 25: Wasserstein = 0.0026\n",
      "Feature 26: Wasserstein = 0.0039\n",
      "Feature 27: Wasserstein = 0.0222\n",
      "Feature 28: Wasserstein = 0.0191\n",
      "Feature 29: Wasserstein = 0.0166\n",
      "Feature 30: Wasserstein = 0.0053\n",
      "Feature 31: Wasserstein = 0.0087\n",
      "Feature 32: Wasserstein = 0.0064\n",
      "Feature 33: Wasserstein = 0.0017\n",
      "Feature 34: Wasserstein = 0.0059\n",
      "Feature 35: Wasserstein = 0.0154\n",
      "Feature 36: Wasserstein = 0.0092\n",
      "Feature 37: Wasserstein = 0.0186\n",
      "Feature 38: Wasserstein = 0.0029\n",
      "Feature 39: Wasserstein = 0.0144\n",
      "Feature 40: Wasserstein = 0.0250\n",
      "Feature 41: Wasserstein = 0.0047\n",
      "Feature 42: Wasserstein = 0.0031\n",
      "Feature 43: Wasserstein = 0.0051\n",
      "Feature 44: Wasserstein = 0.0035\n",
      "Feature 45: Wasserstein = 0.0029\n",
      "Feature 46: Wasserstein = 0.0069\n",
      "Feature 47: Wasserstein = 0.0082\n",
      "Feature 48: Wasserstein = 0.0134\n",
      "Feature 49: Wasserstein = 0.0148\n",
      "Feature 50: Wasserstein = 0.0164\n",
      "Feature 51: Wasserstein = 0.0160\n",
      "Feature 52: Wasserstein = 0.0100\n"
     ]
    }
   ],
   "source": [
    "for i in range(real_scaled.shape[1]):\n",
    "    real_vals = real_scaled[:, i]\n",
    "    fake_vals = fake_scaled[:, i]\n",
    "\n",
    "    # Wasserstein\n",
    "    w_dist = wasserstein_distance(real_vals, fake_vals)\n",
    "\n",
    "    print(f\"Feature {i}: Wasserstein = {w_dist:.4f}\")"
   ]
  }
 ],
 "metadata": {
  "kernelspec": {
   "display_name": "tensorflow_gpu",
   "language": "python",
   "name": "python3"
  },
  "language_info": {
   "codemirror_mode": {
    "name": "ipython",
    "version": 3
   },
   "file_extension": ".py",
   "mimetype": "text/x-python",
   "name": "python",
   "nbconvert_exporter": "python",
   "pygments_lexer": "ipython3",
   "version": "3.12.2"
  }
 },
 "nbformat": 4,
 "nbformat_minor": 5
}
